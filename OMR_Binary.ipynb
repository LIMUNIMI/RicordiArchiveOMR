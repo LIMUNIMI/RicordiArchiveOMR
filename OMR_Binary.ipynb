{
 "cells": [
  {
   "cell_type": "code",
   "execution_count": 1,
   "id": "fbe44cf7",
   "metadata": {
    "execution": {
     "iopub.execute_input": "2024-05-06T09:31:58.178386Z",
     "iopub.status.busy": "2024-05-06T09:31:58.177985Z",
     "iopub.status.idle": "2024-05-06T09:32:01.768965Z",
     "shell.execute_reply": "2024-05-06T09:32:01.768249Z"
    },
    "papermill": {
     "duration": 3.599564,
     "end_time": "2024-05-06T09:32:01.771206",
     "exception": false,
     "start_time": "2024-05-06T09:31:58.171642",
     "status": "completed"
    },
    "tags": []
   },
   "outputs": [],
   "source": [
    "import seaborn as sn\n",
    "import fnmatch\n",
    "import torch.nn.functional as F\n",
    "import torch.optim as optim\n",
    "from torch.optim import lr_scheduler\n",
    "from torch.utils import data\n",
    "import numpy as np\n",
    "import torchvision\n",
    "from  numpy import exp,absolute\n",
    "from torchvision import datasets, transforms\n",
    "import matplotlib.pyplot as plt\n",
    "import time\n",
    "import os\n",
    "import copy\n",
    "import math\n",
    "from sklearn.svm import SVC \n",
    "from sklearn.neural_network import MLPClassifier as mlp\n",
    "import torch\n",
    "import torch.nn as nn\n",
    "import torchvision.models as models\n",
    "from torch.utils.data import Dataset, TensorDataset, Subset\n",
    "import pandas as pd\n",
    "from torchmetrics.functional.classification import multiclass_confusion_matrix as mcm\n",
    "from sklearn.dummy import DummyClassifier\n",
    "from sklearn.metrics import balanced_accuracy_score\n",
    "from sklearn.metrics import accuracy_score,f1_score,precision_score ,recall_score \n",
    "from sklearn.metrics import confusion_matrix, ConfusionMatrixDisplay\n",
    "import seaborn as sns\n",
    "import random\n",
    "import warnings\n",
    "from sklearn.metrics import classification_report\n",
    "from sklearn.model_selection import StratifiedShuffleSplit\n",
    "from collections import Counter\n",
    "import sklearn\n",
    "import cv2\n",
    "from PIL import Image\n",
    "import warnings\n",
    "from tqdm import tqdm\n",
    "from collections import defaultdict\n",
    "from pathlib import Path\n"
   ]
  },
  {
   "cell_type": "code",
   "execution_count": 2,
   "id": "fcf3b519",
   "metadata": {
    "execution": {
     "iopub.execute_input": "2024-05-06T09:32:01.787174Z",
     "iopub.status.busy": "2024-05-06T09:32:01.786652Z",
     "iopub.status.idle": "2024-05-06T09:32:01.821307Z",
     "shell.execute_reply": "2024-05-06T09:32:01.820684Z"
    },
    "papermill": {
     "duration": 0.046985,
     "end_time": "2024-05-06T09:32:01.824165",
     "exception": false,
     "start_time": "2024-05-06T09:32:01.777180",
     "status": "completed"
    },
    "tags": []
   },
   "outputs": [],
   "source": [
    "#hyper params\n",
    "dataset_path = './data/binary_dataset/data'\n",
    "\n",
    "bs = 64\n",
    "test_size = 0.15  # Test set size (20%)\n",
    "val_size = 0.2   # Validation set size (25%)\n",
    "num_epoch = 500\n",
    "patience = 20\n",
    "classes = ['IRRELEVANT', 'RELEVANT'] #arranged in order of their placement in the folder\n",
    "num_classes = len(classes)\n"
   ]
  },
  {
   "cell_type": "code",
   "execution_count": 3,
   "id": "c771cd8e",
   "metadata": {
    "editable": true,
    "execution": {
     "iopub.execute_input": "2024-05-06T09:32:01.844703Z",
     "iopub.status.busy": "2024-05-06T09:32:01.844259Z",
     "iopub.status.idle": "2024-05-06T09:32:01.882390Z",
     "shell.execute_reply": "2024-05-06T09:32:01.881729Z"
    },
    "papermill": {
     "duration": 0.053932,
     "end_time": "2024-05-06T09:32:01.888533",
     "exception": false,
     "start_time": "2024-05-06T09:32:01.834601",
     "status": "completed"
    },
    "slideshow": {
     "slide_type": ""
    },
    "tags": []
   },
   "outputs": [],
   "source": [
    "def transform_denoise(image):\n",
    "    # Denoising transformation (replace with your denoising algorithm)\n",
    "    # Example: Apply Gaussian blur with a kernel size of 3\n",
    "    denoised_image = transforms.functional.gaussian_blur(image, kernel_size=3,sigma=1.5)\n",
    "    return denoised_image\n",
    "\n",
    "def transform_enhance(image):\n",
    "    # Image enhancement transformation (replace with your enhancement algorithm)\n",
    "    # Example: Apply contrast enhancement\n",
    "    enhanced_image = transforms.functional.adjust_contrast(image, contrast_factor=1.5)\n",
    "    return enhanced_image"
   ]
  },
  {
   "cell_type": "code",
   "execution_count": 4,
   "id": "338e5b0e-59b4-4bdc-96dc-772b585bb303",
   "metadata": {
    "execution": {
     "iopub.execute_input": "2024-05-06T09:32:01.922258Z",
     "iopub.status.busy": "2024-05-06T09:32:01.921645Z",
     "iopub.status.idle": "2024-05-06T09:32:01.964100Z",
     "shell.execute_reply": "2024-05-06T09:32:01.963219Z"
    },
    "papermill": {
     "duration": 0.053921,
     "end_time": "2024-05-06T09:32:01.968038",
     "exception": false,
     "start_time": "2024-05-06T09:32:01.914117",
     "status": "completed"
    },
    "tags": []
   },
   "outputs": [],
   "source": [
    "class DatasetFromSubset(Dataset):\n",
    "    def __init__(self, subset, transform=None):\n",
    "        self.subset = subset\n",
    "        self.transform = transform\n",
    "\n",
    "    def __getitem__(self, index):\n",
    "        x, y = self.subset[index]\n",
    "        if self.transform:\n",
    "            x = self.transform(x)\n",
    "        return x, y\n",
    "\n",
    "    def __len__(self):\n",
    "        return len(self.subset)"
   ]
  },
  {
   "cell_type": "code",
   "execution_count": 5,
   "id": "35a78336-04ee-4ce6-b01b-cce532f30279",
   "metadata": {
    "execution": {
     "iopub.execute_input": "2024-05-06T09:32:02.010746Z",
     "iopub.status.busy": "2024-05-06T09:32:02.009697Z",
     "iopub.status.idle": "2024-05-06T09:32:02.054581Z",
     "shell.execute_reply": "2024-05-06T09:32:02.053816Z"
    },
    "papermill": {
     "duration": 0.070912,
     "end_time": "2024-05-06T09:32:02.056507",
     "exception": false,
     "start_time": "2024-05-06T09:32:01.985595",
     "status": "completed"
    },
    "tags": []
   },
   "outputs": [],
   "source": [
    "def subsample(dataset, r=0.):\n",
    "    # Get the labels for the dataset\n",
    "    labels = np.asarray(dataset.dataset.imgs)[:, 1][dataset.indices]\n",
    "\n",
    "    # Count the number of samples per class\n",
    "    class_counts = defaultdict(int)\n",
    "    for label in labels:\n",
    "        class_counts[label] += 1\n",
    "\n",
    "    # Calculate m\n",
    "    m = min(class_counts.values())\n",
    "\n",
    "    # Calculate the threshold for each class\n",
    "    threshold = m + r * m\n",
    "\n",
    "    # Create a new subset of the dataset\n",
    "    indices = []\n",
    "    new_class_counts = defaultdict(int)\n",
    "    for i in range(len(dataset)):\n",
    "        label = labels[i]\n",
    "        if new_class_counts[label] < threshold:\n",
    "            indices.append(i)\n",
    "            new_class_counts[label] += 1\n",
    "\n",
    "    return Subset(dataset, indices)"
   ]
  },
  {
   "cell_type": "code",
   "execution_count": 6,
   "id": "40607c8e",
   "metadata": {
    "execution": {
     "iopub.execute_input": "2024-05-06T09:32:02.066679Z",
     "iopub.status.busy": "2024-05-06T09:32:02.066271Z",
     "iopub.status.idle": "2024-05-06T09:32:02.100472Z",
     "shell.execute_reply": "2024-05-06T09:32:02.099367Z"
    },
    "papermill": {
     "duration": 0.042139,
     "end_time": "2024-05-06T09:32:02.103221",
     "exception": false,
     "start_time": "2024-05-06T09:32:02.061082",
     "status": "completed"
    },
    "tags": []
   },
   "outputs": [],
   "source": [
    "def get_dataset(path,val_split,test_split):\n",
    "    transform_train = transforms.Compose([\n",
    "                                        transforms.Resize((256, 256)),\n",
    "                                        transforms.Lambda(lambda x: transform_denoise(x)),\n",
    "                                        transforms.Lambda(lambda x: transform_enhance(x)),\n",
    "                                        transforms.RandomHorizontalFlip(),\n",
    "                                        transforms.RandomRotation(degrees=10),\n",
    "                                        transforms.RandomCrop(size=256),\n",
    "                                        transforms.ColorJitter(brightness=0.25, contrast=0.25, saturation=0.25),\n",
    "                                        transforms.ToTensor(),\n",
    "                                        transforms.Normalize([0.485, 0.456, 0.406], [0.229, 0.224, 0.225])\n",
    "                                        ])\n",
    "    transform_test = transforms.Compose([\n",
    "                                        transforms.Resize((256, 256)),\n",
    "                                        transforms.Lambda(lambda x: transform_denoise(x)),\n",
    "                                        transforms.Lambda(lambda x: transform_enhance(x)),\n",
    "                                        transforms.ToTensor(),\n",
    "                                        transforms.Normalize([0.485, 0.456, 0.406], [0.229, 0.224, 0.225])\n",
    "                                        ])\n",
    "\n",
    "\n",
    "    dataset = datasets.ImageFolder(path)    \n",
    "    trainset,valset,testset = stratified(dataset, r=.0)\n",
    "\n",
    "    trainset = DatasetFromSubset(trainset, transform=transform_train)\n",
    "    valset = DatasetFromSubset(valset, transform=transform_test)\n",
    "    testset = DatasetFromSubset(testset, transform=transform_test)\n",
    "    \n",
    "    print(\"train :\",len(trainset),\"val :\",len(valset),\"test :\",len(testset))\n",
    "    \n",
    "    return trainset,valset,testset\n"
   ]
  },
  {
   "cell_type": "code",
   "execution_count": 7,
   "id": "b40e7a66",
   "metadata": {
    "execution": {
     "iopub.execute_input": "2024-05-06T09:32:02.114695Z",
     "iopub.status.busy": "2024-05-06T09:32:02.113825Z",
     "iopub.status.idle": "2024-05-06T09:32:02.161230Z",
     "shell.execute_reply": "2024-05-06T09:32:02.160148Z"
    },
    "papermill": {
     "duration": 0.056645,
     "end_time": "2024-05-06T09:32:02.164499",
     "exception": false,
     "start_time": "2024-05-06T09:32:02.107854",
     "status": "completed"
    },
    "tags": []
   },
   "outputs": [],
   "source": [
    "def write_indices(indices, images, name):\n",
    "    file_list = np.asarray(images)[indices]\n",
    "\n",
    "    with open(Path(dataset_path) / (name + '.txt'), 'w') as f:\n",
    "        f.writelines(file_list)\n",
    "\n",
    "\n",
    "def stratified(dataset, r=0.):\n",
    "    # Get the labels and targets from the dataset\n",
    "    labels = np.asarray(dataset.imgs)[:, 1]\n",
    "\n",
    "    stratified_split = StratifiedShuffleSplit(n_splits=1, test_size=test_size, random_state=42)\n",
    "    train_val_indices, test_indices = next(stratified_split.split(np.zeros(len(labels)), labels))\n",
    "\n",
    "    train_val_dataset = torch.utils.data.Subset(dataset, train_val_indices)\n",
    "    testset = torch.utils.data.Subset(dataset, test_indices)\n",
    "\n",
    "    # write down the splits\n",
    "    imgs = [img[0] + '\\n' for img in dataset.imgs]\n",
    "    write_indices(train_val_indices, imgs, \"train_images\")\n",
    "    write_indices(test_indices, imgs, \"test_images\")\n",
    "    with open(Path(dataset_path) / \"all_images.txt\", \"w\") as f:\n",
    "        f.writelines(imgs)\n",
    "\n",
    "    # balance the train set\n",
    "    train_val_dataset = subsample(train_val_dataset, r=r)\n",
    "    \n",
    "    # Further split the train-val dataset into train and validation sets\n",
    "    stratified_split = StratifiedShuffleSplit(n_splits=1, test_size=val_size, random_state=42)\n",
    "    train_indices, val_indices = next(stratified_split.split(train_val_dataset, labels[train_val_indices][train_val_dataset.indices]))\n",
    "\n",
    "    trainset = torch.utils.data.Subset(train_val_dataset, train_indices)\n",
    "    valset = torch.utils.data.Subset(train_val_dataset, val_indices)\n",
    "\n",
    "    return trainset,valset,testset"
   ]
  },
  {
   "cell_type": "code",
   "execution_count": 8,
   "id": "83bb72f8-7200-4a9e-ba8a-d1644ce63e27",
   "metadata": {
    "execution": {
     "iopub.execute_input": "2024-05-06T09:32:02.182531Z",
     "iopub.status.busy": "2024-05-06T09:32:02.182142Z",
     "iopub.status.idle": "2024-05-06T09:32:02.212309Z",
     "shell.execute_reply": "2024-05-06T09:32:02.211574Z"
    },
    "papermill": {
     "duration": 0.040236,
     "end_time": "2024-05-06T09:32:02.214532",
     "exception": false,
     "start_time": "2024-05-06T09:32:02.174296",
     "status": "completed"
    },
    "tags": []
   },
   "outputs": [],
   "source": [
    "# trainset, valset, testset = get_dataset(Path(dataset_path) / 'data', val_size, test_size)"
   ]
  },
  {
   "cell_type": "code",
   "execution_count": 9,
   "id": "b47ff9f2-a618-42e7-9aa1-6494c3770eb6",
   "metadata": {
    "execution": {
     "iopub.execute_input": "2024-05-06T09:32:02.224505Z",
     "iopub.status.busy": "2024-05-06T09:32:02.224109Z",
     "iopub.status.idle": "2024-05-06T09:32:02.258192Z",
     "shell.execute_reply": "2024-05-06T09:32:02.257607Z"
    },
    "papermill": {
     "duration": 0.042339,
     "end_time": "2024-05-06T09:32:02.261123",
     "exception": false,
     "start_time": "2024-05-06T09:32:02.218784",
     "status": "completed"
    },
    "tags": []
   },
   "outputs": [],
   "source": [
    "def entropy(tensor):\n",
    "    probabilities = torch.softmax(tensor, dim=1)\n",
    "    print(probabilities.shape)\n",
    "    log_prob = torch.log2(torch.min(torch.ones_like(probabilities), probabilities + 1e-10)) / math.log2(tensor.shape[-1])\n",
    "    return -torch.sum(probabilities * log_prob, dim=1)"
   ]
  },
  {
   "cell_type": "code",
   "execution_count": 10,
   "id": "d54100a7-426f-4c7e-8a85-b67245ec923a",
   "metadata": {
    "execution": {
     "iopub.execute_input": "2024-05-06T09:32:02.286422Z",
     "iopub.status.busy": "2024-05-06T09:32:02.285848Z",
     "iopub.status.idle": "2024-05-06T09:32:02.334942Z",
     "shell.execute_reply": "2024-05-06T09:32:02.334323Z"
    },
    "papermill": {
     "duration": 0.062893,
     "end_time": "2024-05-06T09:32:02.336561",
     "exception": false,
     "start_time": "2024-05-06T09:32:02.273668",
     "status": "completed"
    },
    "tags": []
   },
   "outputs": [],
   "source": [
    "def train_model(trainset,valset, model, criterion, optimizer, num_epochs, bs):\n",
    "    dataloaders_strong = {\n",
    "        'train': data.DataLoader(trainset, batch_size=bs, shuffle=True),\n",
    "        'val': data.DataLoader(valset, batch_size=bs, shuffle=True)\n",
    "    }\n",
    "    scheduler = optim.lr_scheduler.OneCycleLR(optimizer, epochs=num_epoch, steps_per_epoch=len(dataloaders_strong['train']), max_lr=0.1)\n",
    "    dataset_sizes_strong = {'train': len(trainset), 'val': len(valset)}\n",
    "    since = time.time()\n",
    "\n",
    "    best_model_wts = copy.deepcopy(model.state_dict())\n",
    "    best_acc = 0.0\n",
    "    best_loss = np.inf\n",
    "    \n",
    "    epochs_without_improvement = 0  # Reset the counter since there is improvement\n",
    "\n",
    "    # Lists to store entropy values for each epoch\n",
    "    entropy_values_train = []\n",
    "    entropy_values_val = []\n",
    "    # Lists to store loss of each epoch\n",
    "    E_loss_train = []\n",
    "    E_loss_val = []\n",
    "    E_accuracy_train = []\n",
    "    E_accuracy_val = []\n",
    "    # Lists to store balanced accuracy for training and validation phases\n",
    "    balanced_acc_train = []\n",
    "    balanced_acc_val = []\n",
    "\n",
    "    for epoch in range(num_epochs):\n",
    "        print('Epoch {}/{}'.format(epoch, num_epochs - 1))\n",
    "        print('-' * 10)\n",
    "        c = 0\n",
    "\n",
    "        # Each epoch has a training and validation phase\n",
    "        for phase in ['train', 'val']:\n",
    "            all_labels = []\n",
    "            all_preds = []\n",
    "            if phase == 'train':\n",
    "                model.train()  # Set model to training mode\n",
    "            else:\n",
    "                model.eval()   # Set model to evaluate mode\n",
    "                        \n",
    "            running_loss = 0.0\n",
    "            running_corrects = 0\n",
    "            epoch_entropy = 0.0  # Variable to store epoch entropy\n",
    "\n",
    "            # Iterate over data.\n",
    "            for inputs, labels in tqdm(dataloaders_strong[phase], \"Running \" + phase):\n",
    "                inputs = inputs.to(device)                \n",
    "                labels = labels.to(device)\n",
    "\n",
    "                # zero the parameter gradients\n",
    "                optimizer.zero_grad()\n",
    "\n",
    "                # forward\n",
    "                # track history if only in train\n",
    "                with torch.set_grad_enabled(phase == 'train'):\n",
    "                    outputs = model(inputs)\n",
    "                    _, preds = torch.max(outputs, 1)\n",
    "\n",
    "                    loss = criterion(outputs, labels)\n",
    "                    # Calculate balanced accuracy only if all unique predicted classes are present in true labels\n",
    "                    with warnings.catch_warnings():\n",
    "                        warnings.filterwarnings(\"ignore\", category=UserWarning)\n",
    "                        \n",
    "                    all_labels.extend(labels.cpu().tolist())\n",
    "                    all_preds.extend(preds.cpu().tolist())\n",
    "\n",
    "                    # Backpropagation and optimization\n",
    "                    if phase == 'train':\n",
    "                        loss.backward()\n",
    "                        optimizer.step()   \n",
    "                        scheduler.step()               \n",
    "                    \n",
    "                # statistics\n",
    "                running_loss += loss.item() * inputs.size(0)\n",
    "                running_corrects += torch.sum(preds == labels.data)\n",
    "\n",
    "                # Calculate entropy for each batch and accumulate for epoch entropy\n",
    "                e = entropy(outputs)\n",
    "                epoch_entropy += torch.sum(e)\n",
    "\n",
    "            \n",
    "            if phase == 'train':\n",
    "                epoch_loss = running_loss / dataset_sizes_strong[phase]\n",
    "                epoch_acc = running_corrects.double() / dataset_sizes_strong[phase]\n",
    "                epoch_entropy /= dataset_sizes_strong[phase] # Calculate average epoch entropy\n",
    "            else:\n",
    "                epoch_loss = running_loss / (dataset_sizes_strong[phase]-c)\n",
    "                epoch_acc = running_corrects.double() / (dataset_sizes_strong[phase]-c)\n",
    "                epoch_entropy /= (dataset_sizes_strong[phase]-c) # Calculate average epoch entropy\n",
    "\n",
    "                \n",
    "                # print('Number of skipped:', c)\n",
    "                # print()\n",
    "            \n",
    "\n",
    "            print('{} Loss: {:.4f} Acc: {:.4f}'.format(phase, epoch_loss, epoch_acc))\n",
    "            print('{} Epoch Entropy: {:.4f}'.format(phase, epoch_entropy.item()))\n",
    "            print()\n",
    "\n",
    "            if phase == 'train':\n",
    "                entropy_values_train.append(epoch_entropy.cpu().item())\n",
    "                E_loss_train.append(epoch_loss)\n",
    "                E_accuracy_train.append(epoch_acc.cpu().item())\n",
    "            else:\n",
    "                entropy_values_val.append(epoch_entropy.cpu().item())\n",
    "                E_loss_val.append(epoch_loss)\n",
    "                E_accuracy_val.append(epoch_acc.cpu().item())\n",
    "                      \n",
    "            # Deep copy the model if the validation accuracy improves\n",
    "            if phase == 'val' and epoch_loss < best_loss:\n",
    "                best_loss = epoch_loss\n",
    "                best_model_wts = copy.deepcopy(model.state_dict())\n",
    "                best_epoch_val = epoch\n",
    "                best_acc = epoch_acc\n",
    "                \n",
    "                \n",
    "            # Early stopping criteria\n",
    "            if phase == 'val' and epoch_loss <= 1e-7:\n",
    "                    print('Loss reached 0...')\n",
    "                    return (\n",
    "                        model,\n",
    "                        entropy_values_train,\n",
    "                        entropy_values_val,\n",
    "                        E_loss_train,\n",
    "                        E_loss_val,\n",
    "                        E_accuracy_train,\n",
    "                        E_accuracy_val\n",
    "                    ) \n",
    "                    \n",
    "            if phase == 'val' and epoch > 0:\n",
    "\n",
    "                if epoch_loss >= best_loss:\n",
    "                    epochs_without_improvement += 1\n",
    "                else:\n",
    "                    epochs_without_improvement = 0\n",
    "\n",
    "                if epochs_without_improvement >= patience:\n",
    "                    print('Early stopping due to no improvement in validation loss.')\n",
    "                    return (\n",
    "                        model,\n",
    "                        entropy_values_train,\n",
    "                        entropy_values_val,\n",
    "                        E_loss_train,\n",
    "                        E_loss_val,\n",
    "                        E_accuracy_train,\n",
    "                        E_accuracy_val\n",
    "                    )                 \n",
    "\n",
    "    time_elapsed = time.time() - since\n",
    "    print('Training complete in {:.0f}m {:.0f}s'.format(\n",
    "        time_elapsed // 60, time_elapsed % 60))\n",
    "    print('Best val Acc: {:4f}'.format(best_acc))\n",
    "    print('Best Val Acc. was achieved at epoch', best_epoch_val)\n",
    "    # Load best model weights\n",
    "    model.load_state_dict(best_model_wts)\n",
    "\n",
    "    return (\n",
    "        model,\n",
    "        entropy_values_train,\n",
    "        entropy_values_val,\n",
    "        E_loss_train,\n",
    "        E_loss_val,\n",
    "        E_accuracy_train,\n",
    "        E_accuracy_val\n",
    "    )\n",
    "  "
   ]
  },
  {
   "cell_type": "code",
   "execution_count": 11,
   "id": "66509907-64e6-4e31-a287-5c6dd90837d3",
   "metadata": {
    "execution": {
     "iopub.execute_input": "2024-05-06T09:32:02.348277Z",
     "iopub.status.busy": "2024-05-06T09:32:02.347979Z",
     "iopub.status.idle": "2024-05-06T09:32:02.380836Z",
     "shell.execute_reply": "2024-05-06T09:32:02.380175Z"
    },
    "papermill": {
     "duration": 0.04101,
     "end_time": "2024-05-06T09:32:02.383208",
     "exception": false,
     "start_time": "2024-05-06T09:32:02.342198",
     "status": "completed"
    },
    "tags": []
   },
   "outputs": [],
   "source": [
    "def test_model(model, testset):\n",
    "    running_corrects = 0\n",
    "    testloader = data.DataLoader(testset, batch_size=bs, shuffle=True)\n",
    "    all_labels = []\n",
    "    all_preds = []\n",
    "    all_confidences = []\n",
    "    c = 0\n",
    "    confidence_scores_distribution = []\n",
    "    model.eval()\n",
    "    \n",
    "    for inputs, labels in tqdm(testloader):\n",
    "        inputs = inputs.to(device)\n",
    "        labels = labels.to(device)\n",
    "\n",
    "        with torch.set_grad_enabled(False):\n",
    "            outputs = model(inputs)\n",
    "            _, preds = torch.max(outputs, 1)\n",
    "\n",
    "            # Calculate confidence score for each sample in the batch\n",
    "            confidence_scores = 1 - entropy(outputs)\n",
    "                \n",
    "            # running_corrects += torch.sum(preds == labels.data)\n",
    "            all_labels.extend(labels.cpu().tolist())\n",
    "            all_preds.extend(preds.cpu().tolist())\n",
    "            all_confidences.extend(confidence_scores.cpu().tolist())\n",
    "\n",
    "    return np.asarray(all_labels), np.asarray(all_preds), np.asarray(all_confidences)"
   ]
  },
  {
   "cell_type": "code",
   "execution_count": 12,
   "id": "47d8553c",
   "metadata": {
    "execution": {
     "iopub.execute_input": "2024-05-06T09:32:02.402077Z",
     "iopub.status.busy": "2024-05-06T09:32:02.401741Z",
     "iopub.status.idle": "2024-05-06T09:32:02.433187Z",
     "shell.execute_reply": "2024-05-06T09:32:02.432577Z"
    },
    "jupyter": {
     "source_hidden": true
    },
    "papermill": {
     "duration": 0.043027,
     "end_time": "2024-05-06T09:32:02.436256",
     "exception": false,
     "start_time": "2024-05-06T09:32:02.393229",
     "status": "completed"
    },
    "tags": []
   },
   "outputs": [],
   "source": [
    "def set_parameter_requires_grad(model, requires_grad=True):\n",
    "    for param in model.parameters():\n",
    "        param.requires_grad = requires_grad"
   ]
  },
  {
   "cell_type": "code",
   "execution_count": 13,
   "id": "7c7968e2",
   "metadata": {
    "execution": {
     "iopub.execute_input": "2024-05-06T09:32:02.457730Z",
     "iopub.status.busy": "2024-05-06T09:32:02.457437Z",
     "iopub.status.idle": "2024-05-06T09:32:02.486975Z",
     "shell.execute_reply": "2024-05-06T09:32:02.486373Z"
    },
    "papermill": {
     "duration": 0.042043,
     "end_time": "2024-05-06T09:32:02.490261",
     "exception": false,
     "start_time": "2024-05-06T09:32:02.448218",
     "status": "completed"
    },
    "tags": []
   },
   "outputs": [],
   "source": [
    "def initialize_model(model_name, num_classes, use_pretrained=True):\n",
    "    model_ft = None\n",
    "    input_size = 256\n",
    "\n",
    "    if model_name == \"resnet\":\n",
    "        # Resnet50\n",
    "        model_ft = models.resnet50(pretrained=use_pretrained)\n",
    "        set_parameter_requires_grad(model_ft, requires_grad=True)\n",
    "        model_ft.fc = nn.Linear(model_ft.fc.in_features, num_classes)\n",
    "        \n",
    "\n",
    "    elif model_name == \"vgg\":\n",
    "        # VGG16_bn\n",
    "        model_ft = models.vgg16_bn(pretrained=use_pretrained)\n",
    "        set_parameter_requires_grad(model_ft, requires_grad=True)\n",
    "        model_ft.classifier[6] = nn.Linear(4096, num_classes)\n",
    "\n",
    "    elif model_name == \"googlenet\":\n",
    "        # GoogLeNet\n",
    "        model_ft = torchvision.models.googlenet(pretrained=use_pretrained)\n",
    "        set_parameter_requires_grad(model_ft, requires_grad=True)\n",
    "        model_ft.fc = nn.Linear(1024, num_classes)\n",
    "\n",
    "    elif model_name == \"densenet\":\n",
    "        # Densenet\n",
    "        model_ft = models.densenet121(pretrained=use_pretrained)\n",
    "        set_parameter_requires_grad(model_ft, requires_grad=True)\n",
    "        model_ft.classifier = nn.Linear(1024, num_classes)\n",
    "\n",
    "    else:\n",
    "        print(\"Invalid model name, exiting...\")\n",
    "        exit()\n",
    "\n",
    "    return model_ft, input_size\n"
   ]
  },
  {
   "cell_type": "code",
   "execution_count": 14,
   "id": "2ed233be",
   "metadata": {
    "execution": {
     "iopub.execute_input": "2024-05-06T09:32:02.513570Z",
     "iopub.status.busy": "2024-05-06T09:32:02.513258Z",
     "iopub.status.idle": "2024-05-06T09:32:02.574920Z",
     "shell.execute_reply": "2024-05-06T09:32:02.573277Z"
    },
    "jupyter": {
     "source_hidden": true
    },
    "papermill": {
     "duration": 0.076511,
     "end_time": "2024-05-06T09:32:02.579707",
     "exception": false,
     "start_time": "2024-05-06T09:32:02.503196",
     "status": "completed"
    },
    "scrolled": true,
    "tags": []
   },
   "outputs": [
    {
     "name": "stdout",
     "output_type": "stream",
     "text": [
      "Device: cuda:0\n"
     ]
    }
   ],
   "source": [
    "# Detect if we have a GPU available\n",
    "device = torch.device(\"cuda:0\" if torch.cuda.is_available() else \"cpu\")\n",
    "print(\"Device:\", device)\n"
   ]
  },
  {
   "cell_type": "code",
   "execution_count": 15,
   "id": "584f8883",
   "metadata": {
    "execution": {
     "iopub.execute_input": "2024-05-06T09:32:02.600063Z",
     "iopub.status.busy": "2024-05-06T09:32:02.599631Z",
     "iopub.status.idle": "2024-05-06T09:32:02.636804Z",
     "shell.execute_reply": "2024-05-06T09:32:02.636118Z"
    },
    "papermill": {
     "duration": 0.047934,
     "end_time": "2024-05-06T09:32:02.638805",
     "exception": false,
     "start_time": "2024-05-06T09:32:02.590871",
     "status": "completed"
    },
    "tags": []
   },
   "outputs": [],
   "source": [
    "def plot_distribution_by_class(subset):\n",
    "    if isinstance(subset.subset.dataset, Subset):\n",
    "        # validation and train sets\n",
    "        data_ = subset.subset.dataset.dataset.dataset\n",
    "        labels = np.asarray(data_.imgs)[subset.subset.dataset.dataset.indices]\n",
    "        labels = labels[subset.subset.dataset.indices]\n",
    "        labels = labels[subset.subset.indices, 1]\n",
    "    else:\n",
    "        # test set (two subsets less)\n",
    "        data_ = subset.subset.dataset\n",
    "        labels = np.asarray(data_.imgs)[subset.subset.indices, 1]\n",
    "        \n",
    "    classes = data_.classes\n",
    "    labels, count = np.unique(np.asarray(labels), return_counts=True)\n",
    "    labels = np.asarray([classes[int(i)] for i in labels])\n",
    "\n",
    "    plt.figure(figsize=(10, 6))  # Set the size of the figure\n",
    "\n",
    "    x = np.arange(len(labels))  # Generate an array of class indices\n",
    "    plt.bar(x, count)\n",
    "    plt.xticks(x, labels, rotation=45, ha='right')  # Set custom x-axis tick positions and labels\n",
    "    plt.xlabel(\"Classes\")\n",
    "    plt.ylabel(\"Count\")\n",
    "    plt.title(\"Class Count\")\n",
    "    plt.show()"
   ]
  },
  {
   "cell_type": "code",
   "execution_count": 16,
   "id": "db923780",
   "metadata": {
    "execution": {
     "iopub.execute_input": "2024-05-06T09:32:02.652535Z",
     "iopub.status.busy": "2024-05-06T09:32:02.652083Z",
     "iopub.status.idle": "2024-05-06T09:32:05.434081Z",
     "shell.execute_reply": "2024-05-06T09:32:05.433205Z"
    },
    "papermill": {
     "duration": 2.790559,
     "end_time": "2024-05-06T09:32:05.435617",
     "exception": false,
     "start_time": "2024-05-06T09:32:02.645058",
     "status": "completed"
    },
    "tags": []
   },
   "outputs": [
    {
     "name": "stdout",
     "output_type": "stream",
     "text": [
      "train : 37640 val : 9410 test : 29724\n"
     ]
    }
   ],
   "source": [
    "# Setup the loss function\n",
    "criterion = nn.CrossEntropyLoss()\n",
    "# Separate the train, val, and test sets\n",
    "trainset,valset,testset = get_dataset(dataset_path, val_size, test_size)"
   ]
  },
  {
   "cell_type": "code",
   "execution_count": null,
   "id": "5997bcf0",
   "metadata": {
    "execution": {
     "iopub.execute_input": "2024-05-05T22:04:03.471860Z",
     "iopub.status.busy": "2024-05-05T22:04:03.471087Z",
     "iopub.status.idle": "2024-05-05T22:04:04.636133Z",
     "shell.execute_reply": "2024-05-05T22:04:04.635359Z"
    },
    "papermill": {
     "duration": null,
     "end_time": null,
     "exception": false,
     "start_time": "2024-05-06T09:32:05.441971",
     "status": "running"
    },
    "tags": []
   },
   "outputs": [],
   "source": [
    "plot_distribution_by_class(trainset)\n",
    "plot_distribution_by_class(valset)\n",
    "plot_distribution_by_class(testset)"
   ]
  },
  {
   "cell_type": "code",
   "execution_count": null,
   "id": "14c50fe9-b336-4f34-9de3-fa5c8c4c5d95",
   "metadata": {
    "editable": true,
    "execution": {
     "iopub.execute_input": "2024-05-05T22:04:04.654381Z",
     "iopub.status.busy": "2024-05-05T22:04:04.653915Z",
     "iopub.status.idle": "2024-05-05T22:04:04.692009Z",
     "shell.execute_reply": "2024-05-05T22:04:04.691284Z"
    },
    "papermill": {
     "duration": null,
     "end_time": null,
     "exception": null,
     "start_time": null,
     "status": "pending"
    },
    "slideshow": {
     "slide_type": ""
    },
    "tags": []
   },
   "outputs": [],
   "source": [
    "def train_model_name(model_name):\n",
    "    print(model_name)\n",
    "    # Initialize the model\n",
    "    model, input_size = initialize_model(model_name, num_classes, use_pretrained=True)\n",
    "    \n",
    "    \n",
    "    # Send model to GPU, if available\n",
    "    model = model.to(device)\n",
    "    \n",
    "    # Observe that all parameters are being optimized\n",
    "    optimizer = optim.SGD(model.parameters())\n",
    "    model, entropy_values_train, entropy_values_val, E_loss_train, E_loss_val, E_accuracy_train,E_accuracy_val = train_model(\n",
    "        trainset,valset,model, criterion, optimizer, num_epoch, bs)\n",
    "\n",
    "        \n",
    "    # Plot entropy values\n",
    "    plt.figure()\n",
    "    plt.plot(entropy_values_train, label='Train')\n",
    "    plt.plot(entropy_values_val, label='Validation')\n",
    "    plt.xlabel('Epoch')\n",
    "    plt.ylabel('Entropy')\n",
    "    plt.title('Entropy Trend')\n",
    "    plt.legend()\n",
    "    plt.show()\n",
    "    \n",
    "    # Plot loss values\n",
    "    plt.figure()\n",
    "    plt.plot(E_loss_train, label='Train')\n",
    "    plt.plot(E_loss_val, label='Validation')\n",
    "    plt.xlabel('Epoch')\n",
    "    plt.ylabel('Loss')\n",
    "    plt.title('Loss Trend')\n",
    "    plt.legend()\n",
    "    plt.show()\n",
    "    \n",
    "    # Plot balanced loss values\n",
    "    plt.figure()\n",
    "    plt.plot(E_accuracy_train, label='Train')\n",
    "    plt.plot(E_accuracy_val, label='Validation')\n",
    "    plt.xlabel('Epoch')\n",
    "    plt.ylabel('Accuracy')\n",
    "    plt.title('Accuracy Trend')\n",
    "    plt.legend()\n",
    "    plt.show()\n",
    "\n",
    "    return model"
   ]
  },
  {
   "cell_type": "code",
   "execution_count": null,
   "id": "467e3b95",
   "metadata": {
    "editable": true,
    "execution": {
     "iopub.execute_input": "2024-05-05T22:04:04.719987Z",
     "iopub.status.busy": "2024-05-05T22:04:04.719480Z"
    },
    "papermill": {
     "duration": null,
     "end_time": null,
     "exception": null,
     "start_time": null,
     "status": "pending"
    },
    "slideshow": {
     "slide_type": ""
    },
    "tags": []
   },
   "outputs": [],
   "source": [
    "model_list = []\n",
    "model_list.append(train_model_name('densenet'))"
   ]
  },
  {
   "cell_type": "code",
   "execution_count": null,
   "id": "28401d10-ca15-4ba4-b5e4-0b26fd48b6df",
   "metadata": {
    "editable": true,
    "papermill": {
     "duration": null,
     "end_time": null,
     "exception": null,
     "start_time": null,
     "status": "pending"
    },
    "slideshow": {
     "slide_type": ""
    },
    "tags": []
   },
   "outputs": [],
   "source": [
    "model_list.append(train_model_name('resnet'))"
   ]
  },
  {
   "cell_type": "code",
   "execution_count": null,
   "id": "cc590dbd-42f2-4cfb-a367-4baf0eda6f84",
   "metadata": {
    "papermill": {
     "duration": null,
     "end_time": null,
     "exception": null,
     "start_time": null,
     "status": "pending"
    },
    "tags": []
   },
   "outputs": [],
   "source": [
    "model_list.append(train_model_name('googlenet'))"
   ]
  },
  {
   "cell_type": "code",
   "execution_count": null,
   "id": "c8c31745",
   "metadata": {
    "papermill": {
     "duration": null,
     "end_time": null,
     "exception": null,
     "start_time": null,
     "status": "pending"
    },
    "tags": []
   },
   "outputs": [],
   "source": [
    "# saving models to file\n",
    "for i, model in enumerate(model_list):\n",
    "\n",
    "    # Define the file path to save the model\n",
    "    model_file1 = f'./model_state_{i}.pt'\n",
    "    \n",
    "    # Save the model\n",
    "    torch.save(model.state_dict(), model_file1)\n",
    "    \n",
    "    model_file2 = f'./model_entire_{i}.pt'\n",
    "    \n",
    "    # Save the entire model\n",
    "    torch.save(model, model_file2)\n"
   ]
  },
  {
   "cell_type": "code",
   "execution_count": null,
   "id": "75f0cd41-af1f-4082-96fe-4f7a31c42ac9",
   "metadata": {
    "papermill": {
     "duration": null,
     "end_time": null,
     "exception": null,
     "start_time": null,
     "status": "pending"
    },
    "tags": []
   },
   "outputs": [],
   "source": [
    "def analyze_preds(labels, preds, confidences, confidence_score):\n",
    "    # select samples where confidence >= confidence_score\n",
    "    idx = confidences >= confidence_score\n",
    "    labels = labels[idx]\n",
    "    preds = preds[idx]\n",
    "    \n",
    "    acc = (preds == labels).sum() / labels.shape[0]\n",
    "    bal_acc = balanced_accuracy_score(labels, preds)\n",
    "    retained = idx.sum() / idx.shape[0]\n",
    "    print(f\"Retained {retained:.2f} of data\")\n",
    "    print(f\"Accuracy: {acc:.2e}\")\n",
    "    print(f\"Balanced Accuracy: {bal_acc:.2e}\")\n",
    "\n",
    "    cm = confusion_matrix(labels, preds)\n",
    "    disp = ConfusionMatrixDisplay(confusion_matrix=cm,display_labels=[classes[i] for i in range(len(classes)) if i in labels] )\n",
    "    disp.plot()\n",
    "    plt.show()    \n",
    "    return bal_acc, retained / idx.shape[0]"
   ]
  },
  {
   "cell_type": "code",
   "execution_count": null,
   "id": "a422cbe8-d193-4ab9-8a94-5fa9161b446b",
   "metadata": {
    "papermill": {
     "duration": null,
     "end_time": null,
     "exception": null,
     "start_time": null,
     "status": "pending"
    },
    "scrolled": true,
    "tags": []
   },
   "outputs": [],
   "source": [
    "confidence_thresholds = [-3, -2, -1.5, -0.5, .0, .25, .5, .75, .9]\n",
    "model_names = {\n",
    "    0: \"DenseNet\",\n",
    "    1: \"ResNet\",\n",
    "    2: \"GoogleNet\"\n",
    "}\n",
    "\n",
    "# just if you need to reload from file\n",
    "model_list = []\n",
    "for i in range(len(model_names)):\n",
    "    # Load the model from file model\n",
    "    model = torch.load(f'./model_entire_multiclass_{i}.pt')\n",
    "    \n",
    "    # Load the state dictionary from the model_state file\n",
    "    state_dict = torch.load(f'./model_state_multiclass_{i}.pt')\n",
    "    \n",
    "    # Load the state dictionary into the model\n",
    "    model.load_state_dict(state_dict)\n",
    "    model_list.append(model)\n",
    "\n",
    "confidence_results = [[] for _ in model_list]\n",
    "confidence_size = [[] for _ in model_list]\n",
    "for i, model in enumerate(model_list):\n",
    "    print(\"Testing \" + model_names[i])\n",
    "    labels, preds, confs = test_model(model, testset) \n",
    "    plt.hist(confs, bins=100)\n",
    "    plt.gca().set(title='Confidence Histogram for ' + model_names[i], ylabel='Occurrences');\n",
    "    plt.show()\n",
    "    \n",
    "    for confidence_threshold in confidence_thresholds:\n",
    "        print(f\"{model_names[i]} - Confidence {int(confidence_threshold * 100)}%\")\n",
    "        result, size = analyze_preds(labels, preds, confs, confidence_threshold)\n",
    "        confidence_results[i].append(result)\n",
    "        confidence_size[i].append(size)"
   ]
  },
  {
   "cell_type": "code",
   "execution_count": null,
   "id": "039ac8ca-1dc4-4aac-bee7-4f7887b677e0",
   "metadata": {
    "papermill": {
     "duration": null,
     "end_time": null,
     "exception": null,
     "start_time": null,
     "status": "pending"
    },
    "tags": []
   },
   "outputs": [],
   "source": [
    "# Plotting confidence scores\n",
    "fig, (ax1, ax2) = plt.subplots(2, 1)\n",
    "fig.suptitle('Results by confidence thresholds')\n",
    "\n",
    "# plotting confidence\n",
    "for i, result in enumerate(confidence_results):\n",
    "    ax1.plot(confidence_thresholds, result, label=model_names[i])\n",
    "# plotting data size\n",
    "for i, size in enumerate(confidence_size):\n",
    "    ax2.plot(confidence_thresholds, size, label=model_names[i])\n",
    "\n",
    "# Set labels\n",
    "ax1.set_ylabel('Balanced Accuracy')\n",
    "# Display the legend\n",
    "ax1.legend()\n",
    "\n",
    "# Set labels\n",
    "ax2.set_xlabel('Confidence scores')\n",
    "ax2.set_ylabel('Percentage of retained dataset')\n",
    "plt.show()"
   ]
  },
  {
   "cell_type": "code",
   "execution_count": null,
   "id": "d6069569-e943-4364-9a1f-34ccecccd43f",
   "metadata": {
    "papermill": {
     "duration": null,
     "end_time": null,
     "exception": null,
     "start_time": null,
     "status": "pending"
    },
    "tags": []
   },
   "outputs": [],
   "source": [
    "def dataloader_to_numpy(dataloader):\n",
    "    data_list = []\n",
    "    label_list = []\n",
    "    for data, label in tqdm(dataloader):\n",
    "        # Reshape the data to 1D\n",
    "        data = data.view(-1)\n",
    "        data_list.append(data.numpy())\n",
    "        label_list.append(label)\n",
    "    return np.stack(data_list), np.asarray(label_list)\n",
    "\n",
    "# Convert dataloaders to numpy arrays\n",
    "print(\"Converting validation set\")\n",
    "valset.transform = transform_train\n",
    "val_X, val_Y = dataloader_to_numpy(valset)\n",
    "print(\"Converting train set\")\n",
    "train_X, train_Y = dataloader_to_numpy(trainset)\n",
    "print(\"Converting test set\")\n",
    "test_X, test_Y = dataloader_to_numpy(testset)\n",
    "\n",
    "# Concatenate training set and validation set\n",
    "train_X = np.concatenate((train_X, val_X), axis=0)\n",
    "train_Y = np.concatenate((train_Y, val_Y), axis=0)"
   ]
  },
  {
   "cell_type": "code",
   "execution_count": null,
   "id": "4c611af7",
   "metadata": {
    "papermill": {
     "duration": null,
     "end_time": null,
     "exception": null,
     "start_time": null,
     "status": "pending"
    },
    "tags": []
   },
   "outputs": [],
   "source": [
    "#make a dummy prediction, i.e Random Baseline\n",
    "# Create a dummy classifier with a strategy\n",
    "dummy_clf = DummyClassifier(strategy='uniform')\n",
    "\n",
    "# Train the dummy classifier\n",
    "dummy_clf.fit(train_X, train_Y)\n",
    "\n",
    "# Make predictions on the test set\n",
    "predictions = dummy_clf.predict(test_X)\n",
    "\n",
    "# Evaluate the accuracy of the dummy classifier\n",
    "accuracy = dummy_clf.score(test_X, test_Y)\n",
    "\n",
    "print(\"Dummy Classifier Accuracy/ Random Baseline:\", accuracy)"
   ]
  },
  {
   "cell_type": "code",
   "execution_count": null,
   "id": "3ddac122",
   "metadata": {
    "papermill": {
     "duration": null,
     "end_time": null,
     "exception": null,
     "start_time": null,
     "status": "pending"
    },
    "tags": []
   },
   "outputs": [],
   "source": [
    "# Predict using SVM\n",
    "model_svc = SVC(decision_function_shape='ovr', C=100, kernel='rbf')\n",
    "model_svc.fit(train_X, train_Y)\n",
    "pred = model_svc.predict(test_X)\n",
    "acc = accuracy_score(test_Y, pred)\n",
    "print('Accuracy for SVM: ' + str(acc))\n",
    "balanced_svm = balanced_accuracy_score(test_Y, pred)  # Calculate balanced accuracy\n",
    "print(\"Balanced Accuracy:\"+ str(balanced_svm))\n",
    "# Confusion Matrix\n",
    "cm = confusion_matrix(test_Y, pred)\n",
    "disp = ConfusionMatrixDisplay(confusion_matrix=cm,display_labels=classes )\n",
    "disp.plot()\n",
    "plt.figure(figsize=(8, 6))\n",
    "plt.show()"
   ]
  },
  {
   "cell_type": "code",
   "execution_count": null,
   "id": "a53f21cd",
   "metadata": {
    "papermill": {
     "duration": null,
     "end_time": null,
     "exception": null,
     "start_time": null,
     "status": "pending"
    },
    "tags": []
   },
   "outputs": [],
   "source": [
    "# Predict using MLP\n",
    "model_mlp = mlp(solver='lbfgs', alpha=1e-5, random_state=5, max_iter=100000)\n",
    "model_mlp.fit(train_X, train_Y)\n",
    "pred = model_mlp.predict(test_X)\n",
    "acc = accuracy_score(test_Y, pred)\n",
    "print('Accuracy for MLP: ' + str(acc))\n",
    "balanced_mlp = balanced_accuracy_score(test_Y, pred)  # Calculate balanced accuracy\n",
    "print(\"Balanced Accuracy:\"+ str(balanced_mlp))\n",
    "# Confusion Matrix\n",
    "cm = confusion_matrix(test_Y, pred)\n",
    "disp = ConfusionMatrixDisplay(confusion_matrix=cm,display_labels=classes )\n",
    "disp.plot()\n",
    "plt.figure(figsize=(8, 6))\n",
    "plt.show()"
   ]
  }
 ],
 "metadata": {
  "kernelspec": {
   "display_name": "Python 3 (ipykernel)",
   "language": "python",
   "name": "python3"
  },
  "language_info": {
   "codemirror_mode": {
    "name": "ipython",
    "version": 3
   },
   "file_extension": ".py",
   "mimetype": "text/x-python",
   "name": "python",
   "nbconvert_exporter": "python",
   "pygments_lexer": "ipython3",
   "version": "3.9.16"
  },
  "papermill": {
   "default_parameters": {},
   "duration": null,
   "end_time": null,
   "environment_variables": {},
   "exception": null,
   "input_path": "./OMR_Binary.ipynb",
   "output_path": "./OMR_Binary.ipynb",
   "parameters": {},
   "start_time": "2024-05-06T09:31:56.987147",
   "version": "2.6.0"
  }
 },
 "nbformat": 4,
 "nbformat_minor": 5
}