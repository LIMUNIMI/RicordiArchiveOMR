{
 "cells": [
  {
   "cell_type": "code",
   "execution_count": 1,
   "id": "fbe44cf7",
   "metadata": {},
   "outputs": [],
   "source": [
    "import seaborn as sn\n",
    "import fnmatch\n",
    "import torch.nn.functional as F\n",
    "import torch.optim as optim\n",
    "from torch.optim import lr_scheduler\n",
    "from torch.utils import data\n",
    "import numpy as np\n",
    "import torchvision\n",
    "from  numpy import exp,absolute\n",
    "from torchvision import datasets, transforms\n",
    "import matplotlib.pyplot as plt\n",
    "import time\n",
    "import os\n",
    "import copy\n",
    "import math\n",
    "from sklearn.svm import SVC \n",
    "from sklearn.neural_network import MLPClassifier as mlp\n",
    "import torch\n",
    "import torch.nn as nn\n",
    "import torchvision.models as models\n",
    "from torch.utils.data import Dataset, TensorDataset, Subset\n",
    "import pandas as pd\n",
    "from torchmetrics.functional.classification import multiclass_confusion_matrix as mcm\n",
    "from sklearn.dummy import DummyClassifier\n",
    "from sklearn.metrics import balanced_accuracy_score\n",
    "from sklearn.metrics import accuracy_score,f1_score,precision_score ,recall_score \n",
    "from sklearn.metrics import confusion_matrix, ConfusionMatrixDisplay\n",
    "import seaborn as sns\n",
    "import random\n",
    "import warnings\n",
    "from sklearn.metrics import classification_report\n",
    "from sklearn.model_selection import StratifiedShuffleSplit\n",
    "from collections import Counter\n",
    "import sklearn\n",
    "import cv2\n",
    "from PIL import Image\n",
    "import warnings\n",
    "from tqdm import tqdm\n",
    "from collections import defaultdict\n",
    "from pathlib import Path\n"
   ]
  },
  {
   "cell_type": "code",
   "execution_count": 2,
   "id": "fcf3b519",
   "metadata": {},
   "outputs": [],
   "source": [
    "#hyper params\n",
    "dataset_path = './data/multiclass_dataset/'\n",
    "\n",
    "bs = 64\n",
    "test_size = 0.15  # Test set size (20%)\n",
    "val_size = 0.2   # Validation set size (25%)\n",
    "num_epoch = 60\n",
    "patience = 20\n",
    "classes = sorted(os.listdir(Path(dataset_path) / 'data')) #arranged in order of their placement in the folder\n",
    "num_classes = len(classes)\n",
    "print(\"Classes:\", classes)"
   ]
  },
  {
   "cell_type": "code",
   "execution_count": 3,
   "id": "c771cd8e",
   "metadata": {
    "editable": true,
    "slideshow": {
     "slide_type": ""
    },
    "tags": []
   },
   "outputs": [],
   "source": [
    "def transform_denoise(image):\n",
    "    # Denoising transformation (replace with your denoising algorithm)\n",
    "    # Example: Apply Gaussian blur with a kernel size of 3\n",
    "    denoised_image = transforms.functional.gaussian_blur(image, kernel_size=3,sigma=1.5)\n",
    "    return denoised_image\n",
    "\n",
    "def transform_enhance(image):\n",
    "    # Image enhancement transformation (replace with your enhancement algorithm)\n",
    "    # Example: Apply contrast enhancement\n",
    "    enhanced_image = transforms.functional.adjust_contrast(image, contrast_factor=1.5)\n",
    "    return enhanced_image"
   ]
  },
  {
   "cell_type": "code",
   "execution_count": 4,
   "id": "338e5b0e-59b4-4bdc-96dc-772b585bb303",
   "metadata": {},
   "outputs": [],
   "source": [
    "class DatasetFromSubset(Dataset):\n",
    "    def __init__(self, subset, transform=None):\n",
    "        self.subset = subset\n",
    "        self.transform = transform\n",
    "\n",
    "    def __getitem__(self, index):\n",
    "        x, y = self.subset[index]\n",
    "        if self.transform:\n",
    "            x = self.transform(x)\n",
    "        return x, y\n",
    "\n",
    "    def __len__(self):\n",
    "        return len(self.subset)"
   ]
  },
  {
   "cell_type": "code",
   "execution_count": 5,
   "id": "35a78336-04ee-4ce6-b01b-cce532f30279",
   "metadata": {},
   "outputs": [],
   "source": [
    "def subsample(dataset, size=2998):\n",
    "    # Get the labels for the dataset\n",
    "    labels = np.asarray(dataset.dataset.imgs)[:, 1]\n",
    "\n",
    "    # Create a new subset of the dataset\n",
    "    indices = []\n",
    "    new_class_counts = defaultdict(int)\n",
    "    for i in range(len(dataset)):\n",
    "        label = labels[i]\n",
    "        if new_class_counts[label] < size:\n",
    "            indices.append(i)\n",
    "            new_class_counts[label] += 1\n",
    "\n",
    "    return Subset(dataset, indices)"
   ]
  },
  {
   "cell_type": "code",
   "execution_count": 6,
   "id": "40607c8e",
   "metadata": {},
   "outputs": [],
   "source": [
    "def get_dataset(path,val_split,test_split):\n",
    "    transform_train = transforms.Compose([\n",
    "                                        transforms.Resize((256, 256)),\n",
    "                                        transforms.Lambda(lambda x: transform_denoise(x)),\n",
    "                                        transforms.Lambda(lambda x: transform_enhance(x)),\n",
    "                                        transforms.RandomHorizontalFlip(),\n",
    "                                        transforms.RandomRotation(degrees=10),\n",
    "                                        transforms.RandomCrop(size=256),\n",
    "                                        transforms.ColorJitter(brightness=0.25, contrast=0.25, saturation=0.25),\n",
    "                                        transforms.ToTensor(),\n",
    "                                        transforms.Normalize([0.485, 0.456, 0.406], [0.229, 0.224, 0.225])\n",
    "                                        ])\n",
    "    transform_test = transforms.Compose([\n",
    "                                        transforms.Resize((256, 256)),\n",
    "                                        transforms.Lambda(lambda x: transform_denoise(x)),\n",
    "                                        transforms.Lambda(lambda x: transform_enhance(x)),\n",
    "                                        transforms.ToTensor(),\n",
    "                                        transforms.Normalize([0.485, 0.456, 0.406], [0.229, 0.224, 0.225])\n",
    "                                        ])\n",
    "\n",
    "    dataset = datasets.ImageFolder(path)    \n",
    "    trainset,valset,testset = stratified(dataset)\n",
    "\n",
    "    trainset = DatasetFromSubset(trainset, transform=transform_train)\n",
    "    valset = DatasetFromSubset(valset, transform=transform_test)\n",
    "    testset = DatasetFromSubset(testset, transform=transform_test)\n",
    "    \n",
    "    print(\"train :\",len(trainset),\"val :\",len(valset),\"test :\",len(testset))\n",
    "    \n",
    "    return trainset,valset,testset\n"
   ]
  },
  {
   "cell_type": "code",
   "execution_count": 7,
   "id": "b40e7a66",
   "metadata": {},
   "outputs": [],
   "source": [
    "def write_indices(indices, images, name):\n",
    "    file_list = np.asarray(images)[indices]\n",
    "\n",
    "    with open(Path(dataset_path) / (name + '.txt'), 'w') as f:\n",
    "        f.writelines(file_list)\n",
    "\n",
    "\n",
    "def stratified(dataset):\n",
    "    # Get the labels and targets from the dataset\n",
    "    labels = np.asarray(dataset.imgs)[:, 1]\n",
    "\n",
    "    stratified_split = StratifiedShuffleSplit(n_splits=1, test_size=test_size, random_state=42)\n",
    "    train_val_indices, test_indices = next(stratified_split.split(np.zeros(len(labels)), labels))\n",
    "\n",
    "    train_val_dataset = torch.utils.data.Subset(dataset, train_val_indices)\n",
    "    testset = torch.utils.data.Subset(dataset, test_indices)\n",
    "\n",
    "    # write down the splits\n",
    "    imgs = [img[0] + '\\n' for img in dataset.imgs]\n",
    "    write_indices(train_val_indices, imgs, \"train_images\")\n",
    "    write_indices(test_indices, imgs, \"test_images\")\n",
    "    with open(Path(dataset_path) / \"all_images.txt\", \"w\") as f:\n",
    "        f.writelines(imgs)\n",
    "\n",
    "    # balance the train set\n",
    "    train_val_dataset = subsample(train_val_dataset)\n",
    "    \n",
    "    # Further split the train-val dataset into train and validation sets\n",
    "    stratified_split = StratifiedShuffleSplit(n_splits=1, test_size=val_size, random_state=42)\n",
    "    train_indices, val_indices = next(stratified_split.split(train_val_dataset, labels[train_val_indices][train_val_dataset.indices]))\n",
    "\n",
    "    trainset = torch.utils.data.Subset(train_val_dataset, train_indices)\n",
    "    valset = torch.utils.data.Subset(train_val_dataset, val_indices)\n",
    "\n",
    "    return trainset,valset,testset"
   ]
  },
  {
   "cell_type": "code",
   "execution_count": 8,
   "id": "83bb72f8-7200-4a9e-ba8a-d1644ce63e27",
   "metadata": {},
   "outputs": [],
   "source": [
    "# trainset, valset, testset = get_dataset(Path(dataset_path) / 'data', val_size, test_size)"
   ]
  },
  {
   "cell_type": "code",
   "execution_count": 9,
   "id": "b47ff9f2-a618-42e7-9aa1-6494c3770eb6",
   "metadata": {},
   "outputs": [],
   "source": [
    "def entropy(tensor):\n",
    "    probabilities = torch.softmax(tensor, dim=1)\n",
    "    return -torch.sum(probabilities * torch.log2(probabilities + 1e-10), dim=1)"
   ]
  },
  {
   "cell_type": "code",
   "execution_count": 10,
   "id": "d54100a7-426f-4c7e-8a85-b67245ec923a",
   "metadata": {},
   "outputs": [],
   "source": [
    "def train_model(trainset,valset, model, criterion, optimizer, num_epochs, bs):\n",
    "    dataloaders_strong = {\n",
    "        'train': data.DataLoader(trainset, batch_size=bs, shuffle=True),\n",
    "        'val': data.DataLoader(valset, batch_size=bs, shuffle=True)\n",
    "    }\n",
    "    scheduler = optim.lr_scheduler.OneCycleLR(optimizer, epochs=num_epoch, steps_per_epoch=len(dataloaders_strong['train']), max_lr=0.1)\n",
    "    dataset_sizes_strong = {'train': len(trainset), 'val': len(valset)}\n",
    "    since = time.time()\n",
    "\n",
    "    best_model_wts = copy.deepcopy(model.state_dict())\n",
    "    best_acc = 0.0\n",
    "    \n",
    "    epochs_without_improvement = 0  # Reset the counter since there is improvement\n",
    "\n",
    "    # Lists to store entropy values for each epoch\n",
    "    entropy_values_train = []\n",
    "    entropy_values_val = []\n",
    "    # Lists to store loss of each epoch\n",
    "    E_loss_train = []\n",
    "    E_loss_val = []\n",
    "    E_accuracy_train = []\n",
    "    E_accuracy_val = []\n",
    "    # Lists to store balanced accuracy for training and validation phases\n",
    "    balanced_acc_train = []\n",
    "    balanced_acc_val = []\n",
    "\n",
    "    for epoch in range(num_epochs):\n",
    "        print('Epoch {}/{}'.format(epoch, num_epochs - 1))\n",
    "        print('-' * 10)\n",
    "        c = 0\n",
    "\n",
    "        # Each epoch has a training and validation phase\n",
    "        for phase in ['train', 'val']:\n",
    "            all_labels = []\n",
    "            all_preds = []\n",
    "            if phase == 'train':\n",
    "                model.train()  # Set model to training mode\n",
    "            else:\n",
    "                model.eval()   # Set model to evaluate mode\n",
    "                        \n",
    "            running_loss = 0.0\n",
    "            running_corrects = 0\n",
    "            epoch_entropy = 0.0  # Variable to store epoch entropy\n",
    "\n",
    "            # Iterate over data.\n",
    "            for inputs, labels in tqdm(dataloaders_strong[phase], \"Running \" + phase):\n",
    "                inputs = inputs.to(device)                \n",
    "                labels = labels.to(device)\n",
    "\n",
    "                # zero the parameter gradients\n",
    "                optimizer.zero_grad()\n",
    "\n",
    "                # forward\n",
    "                # track history if only in train\n",
    "                with torch.set_grad_enabled(phase == 'train'):\n",
    "                    outputs = model(inputs)\n",
    "                    _, preds = torch.max(outputs, 1)\n",
    "\n",
    "                    loss = criterion(outputs, labels)\n",
    "                    # Calculate balanced accuracy only if all unique predicted classes are present in true labels\n",
    "                    with warnings.catch_warnings():\n",
    "                        warnings.filterwarnings(\"ignore\", category=UserWarning)\n",
    "                        balanced_acc = balanced_accuracy_score(labels.cpu(), preds.cpu())\n",
    "                        \n",
    "                    all_labels.extend(labels.cpu().tolist())\n",
    "                    all_preds.extend(preds.cpu().tolist())\n",
    "\n",
    "                    # Backpropagation and optimization\n",
    "                    if phase == 'train':\n",
    "                        loss.backward()\n",
    "                        optimizer.step()   \n",
    "                        scheduler.step()               \n",
    "                    \n",
    "                # statistics\n",
    "                running_loss += loss.item() * inputs.size(0)\n",
    "                running_corrects += torch.sum(preds == labels.data)\n",
    "\n",
    "                # Calculate entropy for each batch and accumulate for epoch entropy\n",
    "                e = entropy(outputs)\n",
    "                epoch_entropy += torch.sum(e)\n",
    "\n",
    "            \n",
    "            if phase == 'train':\n",
    "                epoch_loss = running_loss / dataset_sizes_strong[phase]\n",
    "                epoch_acc = running_corrects.double() / dataset_sizes_strong[phase]\n",
    "                epoch_entropy /= dataset_sizes_strong[phase] # Calculate average epoch entropy\n",
    "            else:\n",
    "                epoch_loss = running_loss / (dataset_sizes_strong[phase]-c)\n",
    "                epoch_acc = running_corrects.double() / (dataset_sizes_strong[phase]-c)\n",
    "                epoch_entropy /= (dataset_sizes_strong[phase]-c) # Calculate average epoch entropy\n",
    "\n",
    "                \n",
    "                # print('Number of skipped:', c)\n",
    "                # print()\n",
    "            \n",
    "\n",
    "            print('{} Loss: {:.4f} Acc: {:.4f}'.format(phase, epoch_loss, epoch_acc))\n",
    "            print('{} Epoch Entropy: {:.4f}'.format(phase, epoch_entropy.item()))\n",
    "            print('{} Balanced Accuracy: {:.4f}'.format(phase, balanced_acc))\n",
    "            print()\n",
    "\n",
    "            if phase == 'train':\n",
    "                entropy_values_train.append(epoch_entropy.item())\n",
    "                E_loss_train.append(epoch_loss)\n",
    "                balanced_acc_train.append(balanced_acc)  # Append balanced accuracy for training\n",
    "                E_accuracy_train.append(epoch_acc)\n",
    "            else:\n",
    "                entropy_values_val.append(epoch_entropy.item())\n",
    "                E_loss_val.append(epoch_loss)\n",
    "                balanced_acc_val.append(balanced_acc)  # Append balanced accuracy for validation\n",
    "                E_accuracy_val.append(epoch_acc)\n",
    "            \n",
    "            # Confusion Matrix\n",
    "            # cm = confusion_matrix(all_labels, all_preds)\n",
    "            # disp = ConfusionMatrixDisplay(confusion_matrix=cm, display_labels=classes)\n",
    "            # disp.plot()\n",
    "            # plt.figure(figsize=(8, 6))\n",
    "            # plt.show()\n",
    "            \n",
    "            # Deep copy the model if the validation accuracy improves\n",
    "            if phase == 'val' and epoch_acc > best_acc:\n",
    "                best_acc = epoch_acc\n",
    "                best_model_wts = copy.deepcopy(model.state_dict())\n",
    "                best_epoch_val = epoch\n",
    "                \n",
    "                \n",
    "            # Early stopping criteria\n",
    "            if phase == 'val' and epoch > 0:\n",
    "                if epoch_loss >= E_loss_val[-1]:\n",
    "                    epochs_without_improvement += 1\n",
    "                else:\n",
    "                    epochs_without_improvement = 0\n",
    "\n",
    "                if epochs_without_improvement >= patience:\n",
    "                    print('Early stopping due to no improvement in validation loss.')\n",
    "                    return (\n",
    "                        model,\n",
    "                        entropy_values_train,\n",
    "                        entropy_values_val,\n",
    "                        E_loss_train,\n",
    "                        E_loss_val,\n",
    "                        balanced_acc_train,\n",
    "                        balanced_acc_val\n",
    "                    ) \n",
    "                \n",
    "            # Overfitting criteria\n",
    "            if phase == 'train' and epoch_loss <= E_loss_train[-1]:\n",
    "                epochs_without_improvement += 1\n",
    "                if epochs_without_improvement >= patience:\n",
    "                    print('Training stopped due to overfitting.')\n",
    "                    return (\n",
    "                        model,\n",
    "                        entropy_values_train,\n",
    "                        entropy_values_val,\n",
    "                        E_loss_train,\n",
    "                        E_loss_val,\n",
    "                        balanced_acc_train,\n",
    "                        balanced_acc_val\n",
    "                    )\n",
    "            else:\n",
    "                epochs_without_improvement = 0\n",
    "                \n",
    "\n",
    "    time_elapsed = time.time() - since\n",
    "    print('Training complete in {:.0f}m {:.0f}s'.format(\n",
    "        time_elapsed // 60, time_elapsed % 60))\n",
    "    print('Best val Acc: {:4f}'.format(best_acc))\n",
    "    print('Best Val Acc. was achieved at epoch', best_epoch_val)\n",
    "    # Load best model weights\n",
    "    model.load_state_dict(best_model_wts)\n",
    "\n",
    "    return (\n",
    "        model,\n",
    "        entropy_values_train,\n",
    "        entropy_values_val,\n",
    "        E_loss_train,\n",
    "        E_loss_val,\n",
    "        balanced_acc_train,\n",
    "        balanced_acc_val,\n",
    "        E_accuracy_train,\n",
    "        E_accuracy_val\n",
    "    )\n",
    "  "
   ]
  },
  {
   "cell_type": "code",
   "execution_count": 11,
   "id": "66509907-64e6-4e31-a287-5c6dd90837d3",
   "metadata": {
    "jupyter": {
     "source_hidden": true
    }
   },
   "outputs": [],
   "source": [
    "def test_model(model, testset, confidence_threshold):\n",
    "    running_corrects = 0\n",
    "    testloader = data.DataLoader(testset, batch_size=bs, shuffle=True)\n",
    "    all_labels = []\n",
    "    all_preds = []\n",
    "    c = 0\n",
    "    confidence_scores_distribution = []\n",
    "    model.eval()\n",
    "    \n",
    "    for inputs, labels in tqdm(testloader):\n",
    "        inputs = inputs.to(device)\n",
    "        labels = labels.to(device)\n",
    "\n",
    "        with torch.set_grad_enabled(False):\n",
    "            outputs = model(inputs)\n",
    "            _, preds = torch.max(outputs, 1)\n",
    "\n",
    "            # Calculate confidence score for each sample in the batch\n",
    "            confidence_scores = 1 - entropy(outputs)\n",
    "            if confidence_threshold == 0:\n",
    "                confidence_scores_distribution.append(confidence_scores.cpu().numpy())\n",
    "\n",
    "            # Skip predictions if confidence score is greater than the threshold\n",
    "            skip_mask = confidence_scores >= confidence_threshold\n",
    "                    \n",
    "            c += len(skip_mask) - skip_mask.sum().item()\n",
    "            inputs = inputs[skip_mask]\n",
    "            labels = labels[skip_mask]\n",
    "            preds = preds[skip_mask]\n",
    "                \n",
    "            running_corrects += torch.sum(preds == labels.data)\n",
    "            all_labels.extend(labels.cpu().tolist())\n",
    "            all_preds.extend(preds.cpu().tolist())\n",
    "\n",
    "    test_accuracy = running_corrects / (len(testset)-c)\n",
    "    balanced_acc = balanced_accuracy_score(all_labels, all_preds)\n",
    "\n",
    "    print(\"The Test Accuracy:\", test_accuracy)\n",
    "    print(\"The Test Balanced Accuracy:\", balanced_acc)\n",
    "    print(\"Skipped Inputs:\", c)\n",
    "    if confidence_threshold == 0:\n",
    "        confidence_scores_distribution = np.concatenate(confidence_scores_distribution)\n",
    "        # plt.hist(confidence_scores_distribution, bins=100)\n",
    "        # plt.gca().set(title='Confidence Histogram', ylabel='Occurrences');\n",
    "        # plt.show()\n",
    "        \n",
    "    # Confusion Matrix\n",
    "    cm = confusion_matrix(all_labels, all_preds)\n",
    "    disp = ConfusionMatrixDisplay(confusion_matrix=cm,display_labels=classes )\n",
    "    disp.plot()\n",
    "    plt.figure(figsize=(8, 6))\n",
    "    plt.show()\n",
    "    return balanced_acc, 1 - c / len(testset)"
   ]
  },
  {
   "cell_type": "code",
   "execution_count": 12,
   "id": "47d8553c",
   "metadata": {
    "jupyter": {
     "source_hidden": true
    }
   },
   "outputs": [],
   "source": [
    "def set_parameter_requires_grad(model, requires_grad=True):\n",
    "    for param in model.parameters():\n",
    "        param.requires_grad = requires_grad"
   ]
  },
  {
   "cell_type": "code",
   "execution_count": 13,
   "id": "7c7968e2",
   "metadata": {
    "jupyter": {
     "source_hidden": true
    }
   },
   "outputs": [],
   "source": [
    "def initialize_model(model_name, num_classes, use_pretrained=True):\n",
    "    model_ft = None\n",
    "    input_size = 256\n",
    "\n",
    "    if model_name == \"resnet\":\n",
    "        # Resnet50\n",
    "        model_ft = models.resnet50(pretrained=use_pretrained)\n",
    "        set_parameter_requires_grad(model_ft, requires_grad=True)\n",
    "        model_ft.fc = nn.Linear(model_ft.fc.in_features, num_classes)\n",
    "        \n",
    "\n",
    "    elif model_name == \"vgg\":\n",
    "        # VGG16_bn\n",
    "        model_ft = models.vgg16_bn(pretrained=use_pretrained)\n",
    "        set_parameter_requires_grad(model_ft, requires_grad=True)\n",
    "        model_ft.classifier[6] = nn.Linear(4096, num_classes)\n",
    "\n",
    "    elif model_name == \"googlenet\":\n",
    "        # GoogLeNet\n",
    "        model_ft = torchvision.models.googlenet(pretrained=use_pretrained)\n",
    "        set_parameter_requires_grad(model_ft, requires_grad=True)\n",
    "        model_ft.fc = nn.Linear(1024, num_classes)\n",
    "\n",
    "    elif model_name == \"densenet\":\n",
    "        # Densenet\n",
    "        model_ft = models.densenet121(pretrained=use_pretrained)\n",
    "        set_parameter_requires_grad(model_ft, requires_grad=True)\n",
    "        model_ft.classifier = nn.Linear(1024, num_classes)\n",
    "\n",
    "    else:\n",
    "        print(\"Invalid model name, exiting...\")\n",
    "        exit()\n",
    "\n",
    "    return model_ft, input_size\n"
   ]
  },
  {
   "cell_type": "code",
   "execution_count": 14,
   "id": "2ed233be",
   "metadata": {
    "jupyter": {
     "source_hidden": true
    },
    "scrolled": true
   },
   "outputs": [
    {
     "name": "stdout",
     "output_type": "stream",
     "text": [
      "Device: cuda:0\n"
     ]
    }
   ],
   "source": [
    "# Detect if we have a GPU available\n",
    "device = torch.device(\"cuda:0\" if torch.cuda.is_available() else \"cpu\")\n",
    "print(\"Device:\", device)\n"
   ]
  },
  {
   "cell_type": "code",
   "execution_count": 15,
   "id": "584f8883",
   "metadata": {},
   "outputs": [],
   "source": [
    "from collections import Counter\n",
    "\n",
    "def plot_distribution_by_class(labels, classes):\n",
    "\n",
    "    labels, count = np.unique(np.asarray(labels), return_counts=True)\n",
    "    labels = np.asarray([classes[int(i)] for i in labels])\n",
    "\n",
    "    plt.figure(figsize=(10, 6))  # Set the size of the figure\n",
    "\n",
    "    x = np.arange(len(labels))  # Generate an array of class indices\n",
    "    plt.bar(x, count)\n",
    "    plt.xticks(x, labels, rotation=45, ha='right')  # Set custom x-axis tick positions and labels\n",
    "    plt.xlabel(\"Classes\")\n",
    "    plt.ylabel(\"Count\")\n",
    "    plt.title(\"Class Count\")\n",
    "    plt.show()"
   ]
  },
  {
   "cell_type": "code",
   "execution_count": 16,
   "id": "db923780",
   "metadata": {},
   "outputs": [
    {
     "name": "stdout",
     "output_type": "stream",
     "text": [
      "train : 19187 val : 4797 test : 29724\n"
     ]
    }
   ],
   "source": [
    "# Separate the train, val, and test sets\n",
    "trainset,valset,testset = get_dataset(Path(dataset_path) / 'data', val_size, test_size)"
   ]
  },
  {
   "cell_type": "code",
   "execution_count": 17,
   "id": "5997bcf0",
   "metadata": {},
   "outputs": [
    {
     "data": {
      "image/png": "[encoded data removed]",
      "text/plain": [
       "<Figure size 720x432 with 1 Axes>"
      ]
     },
     "metadata": {
      "needs_background": "light"
     },
     "output_type": "display_data"
    }
   ],
   "source": [
    "data_ = trainset.subset.dataset.dataset.dataset\n",
    "labels = np.asarray(data_.imgs)[trainset.subset.dataset.dataset.indices]\n",
    "labels = labels[trainset.subset.dataset.indices]\n",
    "labels = labels[trainset.subset.indices, 1]\n",
    "\n",
    "plot_distribution_by_class(labels, data_.classes)"
   ]
  },
  {
   "cell_type": "code",
   "execution_count": 18,
   "id": "c0723c22-be40-4ddd-b86e-0488f4ed0a79",
   "metadata": {},
   "outputs": [],
   "source": [
    "# Setup the loss function\n",
    "criterion = nn.CrossEntropyLoss()"
   ]
  },
  {
   "cell_type": "code",
   "execution_count": 19,
   "id": "14c50fe9-b336-4f34-9de3-fa5c8c4c5d95",
   "metadata": {
    "editable": true,
    "jupyter": {
     "source_hidden": true
    },
    "slideshow": {
     "slide_type": ""
    },
    "tags": []
   },
   "outputs": [],
   "source": [
    "import matplotlib.pyplot as plt\n",
    "\n",
    "def train_model_name(model_name):\n",
    "    print(model_name)\n",
    "    # Initialize the model\n",
    "    model, input_size = initialize_model(model_name, num_classes, use_pretrained=True)\n",
    "    \n",
    "    \n",
    "    # Send model to GPU, if available\n",
    "    model = model.to(device)\n",
    "    \n",
    "    # Observe that all parameters are being optimized\n",
    "    optimizer = optim.SGD(model.parameters())\n",
    "    model, entropy_values_train, entropy_values_val, E_loss_train, E_loss_val, balanced_acc_train, balanced_acc_val,E_accuracy_train,E_accuracy_val = train_model(\n",
    "        trainset,valset,model, criterion, optimizer, num_epoch, bs)\n",
    "\n",
    "        \n",
    "    # Plot entropy values\n",
    "    plt.figure()\n",
    "    plt.plot(entropy_values_train, label='Train')\n",
    "    plt.plot(entropy_values_val, label='Validation')\n",
    "    plt.xlabel('Epoch')\n",
    "    plt.ylabel('Entropy')\n",
    "    plt.title('Entropy Trend')\n",
    "    plt.legend()\n",
    "    plt.show()\n",
    "    \n",
    "    # Plot loss values\n",
    "    plt.figure()\n",
    "    plt.plot(E_loss_train, label='Train')\n",
    "    plt.plot(E_loss_val, label='Validation')\n",
    "    plt.xlabel('Epoch')\n",
    "    plt.ylabel('Loss')\n",
    "    plt.title('Loss Trend')\n",
    "    plt.legend()\n",
    "    plt.show()\n",
    "    \n",
    "    # Plot balanced loss values\n",
    "    plt.figure()\n",
    "    plt.plot(balanced_acc_train, label='Train')\n",
    "    plt.plot(balanced_acc_val, label='Validation')\n",
    "    plt.xlabel('Epoch')\n",
    "    plt.ylabel('Balanced Accuracy')\n",
    "    plt.title('Balanced Accuracy Trend')\n",
    "    plt.legend()\n",
    "    plt.show()\n",
    "\n",
    "    return model"
   ]
  },
  {
   "cell_type": "code",
   "execution_count": 20,
   "id": "467e3b95",
   "metadata": {
    "editable": true,
    "slideshow": {
     "slide_type": ""
    },
    "tags": []
   },
   "outputs": [
    {
     "name": "stdout",
     "output_type": "stream",
     "text": [
      "densenet\n"
     ]
    },
    {
     "name": "stderr",
     "output_type": "stream",
     "text": [
      "/home/federico/omr/__pypackages__/3.9/lib/torchvision/models/_utils.py:208: UserWarning: The parameter 'pretrained' is deprecated since 0.13 and may be removed in the future, please use 'weights' instead.\n",
      "  warnings.warn(\n",
      "/home/federico/omr/__pypackages__/3.9/lib/torchvision/models/_utils.py:223: UserWarning: Arguments other than a weight enum or `None` for 'weights' are deprecated since 0.13 and may be removed in the future. The current behavior is equivalent to passing `weights=DenseNet121_Weights.IMAGENET1K_V1`. You can also use `weights=DenseNet121_Weights.DEFAULT` to get the most up-to-date weights.\n",
      "  warnings.warn(msg)\n"
     ]
    },
    {
     "name": "stdout",
     "output_type": "stream",
     "text": [
      "Epoch 0/59\n",
      "----------\n"
     ]
    },
    {
     "name": "stderr",
     "output_type": "stream",
     "text": [
      "Running train:   0%|                                                                                                                                                                                                    | 0/300 [00:00<?, ?it/s]"
     ]
    },
    {
     "name": "stdout",
     "output_type": "stream",
     "text": [
      "torch.Size([64]) torch.Size([64, 11])\n"
     ]
    },
    {
     "name": "stderr",
     "output_type": "stream",
     "text": [
      "Running train:   0%|▋                                                                                                                                                                                           | 1/300 [00:01<06:34,  1.32s/it]"
     ]
    },
    {
     "name": "stdout",
     "output_type": "stream",
     "text": [
      "torch.Size([64]) torch.Size([64, 11])\n"
     ]
    },
    {
     "name": "stderr",
     "output_type": "stream",
     "text": [
      "Running train:   1%|█▎                                                                                                                                                                                          | 2/300 [00:02<05:06,  1.03s/it]"
     ]
    },
    {
     "name": "stdout",
     "output_type": "stream",
     "text": [
      "torch.Size([64]) torch.Size([64, 11])\n"
     ]
    },
    {
     "name": "stderr",
     "output_type": "stream",
     "text": [
      "Running train:   1%|█▉                                                                                                                                                                                          | 3/300 [00:02<04:35,  1.08it/s]"
     ]
    },
    {
     "name": "stdout",
     "output_type": "stream",
     "text": [
      "torch.Size([64]) torch.Size([64, 11])\n"
     ]
    },
    {
     "name": "stderr",
     "output_type": "stream",
     "text": [
      "Running train:   1%|██▌                                                                                                                                                                                         | 4/300 [00:03<04:15,  1.16it/s]"
     ]
    },
    {
     "name": "stdout",
     "output_type": "stream",
     "text": [
      "torch.Size([64]) torch.Size([64, 11])\n"
     ]
    },
    {
     "name": "stderr",
     "output_type": "stream",
     "text": [
      "Running train:   2%|███▏                                                                                                                                                                                        | 5/300 [00:04<04:04,  1.21it/s]"
     ]
    },
    {
     "name": "stdout",
     "output_type": "stream",
     "text": [
      "torch.Size([64]) torch.Size([64, 11])\n"
     ]
    },
    {
     "name": "stderr",
     "output_type": "stream",
     "text": [
      "Running train:   2%|███▊                                                                                                                                                                                        | 6/300 [00:05<04:01,  1.22it/s]"
     ]
    },
    {
     "name": "stdout",
     "output_type": "stream",
     "text": [
      "torch.Size([64]) torch.Size([64, 11])\n"
     ]
    },
    {
     "name": "stderr",
     "output_type": "stream",
     "text": [
      "Running train:   2%|████▍                                                                                                                                                                                       | 7/300 [00:06<03:57,  1.24it/s]"
     ]
    },
    {
     "name": "stdout",
     "output_type": "stream",
     "text": [
      "torch.Size([64]) torch.Size([64, 11])\n"
     ]
    },
    {
     "name": "stderr",
     "output_type": "stream",
     "text": [
      "Running train:   3%|█████                                                                                                                                                                                       | 8/300 [00:06<03:47,  1.28it/s]"
     ]
    },
    {
     "name": "stdout",
     "output_type": "stream",
     "text": [
      "torch.Size([64]) torch.Size([64, 11])\n"
     ]
    },
    {
     "name": "stderr",
     "output_type": "stream",
     "text": [
      "Running train:   3%|█████▋                                                                                                                                                                                      | 9/300 [00:07<03:40,  1.32it/s]"
     ]
    },
    {
     "name": "stdout",
     "output_type": "stream",
     "text": [
      "torch.Size([64]) torch.Size([64, 11])\n"
     ]
    },
    {
     "name": "stderr",
     "output_type": "stream",
     "text": [
      "Running train:   3%|██████▏                                                                                                                                                                                    | 10/300 [00:08<03:41,  1.31it/s]"
     ]
    },
    {
     "name": "stdout",
     "output_type": "stream",
     "text": [
      "torch.Size([64]) torch.Size([64, 11])\n"
     ]
    },
    {
     "name": "stderr",
     "output_type": "stream",
     "text": [
      "Running train:   4%|██████▊                                                                                                                                                                                    | 11/300 [00:09<03:39,  1.32it/s]"
     ]
    },
    {
     "name": "stdout",
     "output_type": "stream",
     "text": [
      "torch.Size([64]) torch.Size([64, 11])\n"
     ]
    },
    {
     "name": "stderr",
     "output_type": "stream",
     "text": [
      "Running train:   4%|███████▍                                                                                                                                                                                   | 12/300 [00:09<03:37,  1.32it/s]"
     ]
    },
    {
     "name": "stdout",
     "output_type": "stream",
     "text": [
      "torch.Size([64]) torch.Size([64, 11])\n"
     ]
    },
    {
     "name": "stderr",
     "output_type": "stream",
     "text": [
      "Running train:   4%|████████                                                                                                                                                                                   | 13/300 [00:10<03:37,  1.32it/s]"
     ]
    },
    {
     "name": "stdout",
     "output_type": "stream",
     "text": [
      "torch.Size([64]) torch.Size([64, 11])\n"
     ]
    },
    {
     "name": "stderr",
     "output_type": "stream",
     "text": [
      "Running train:   5%|████████▋                                                                                                                                                                                  | 14/300 [00:11<03:32,  1.34it/s]"
     ]
    },
    {
     "name": "stdout",
     "output_type": "stream",
     "text": [
      "torch.Size([64]) torch.Size([64, 11])\n"
     ]
    },
    {
     "name": "stderr",
     "output_type": "stream",
     "text": [
      "Running train:   5%|█████████▎                                                                                                                                                                                 | 15/300 [00:12<03:35,  1.33it/s]"
     ]
    },
    {
     "name": "stdout",
     "output_type": "stream",
     "text": [
      "torch.Size([64]) torch.Size([64, 11])\n"
     ]
    },
    {
     "name": "stderr",
     "output_type": "stream",
     "text": [
      "Running train:   5%|█████████▉                                                                                                                                                                                 | 16/300 [00:12<03:38,  1.30it/s]"
     ]
    },
    {
     "name": "stdout",
     "output_type": "stream",
     "text": [
      "torch.Size([64]) torch.Size([64, 11])\n"
     ]
    },
    {
     "name": "stderr",
     "output_type": "stream",
     "text": [
      "Running train:   6%|██████████▌                                                                                                                                                                                | 17/300 [00:13<03:35,  1.31it/s]"
     ]
    },
    {
     "name": "stdout",
     "output_type": "stream",
     "text": [
      "torch.Size([64]) torch.Size([64, 11])\n"
     ]
    },
    {
     "name": "stderr",
     "output_type": "stream",
     "text": [
      "Running train:   6%|███████████▏                                                                                                                                                                               | 18/300 [00:14<03:35,  1.31it/s]"
     ]
    },
    {
     "name": "stdout",
     "output_type": "stream",
     "text": [
      "torch.Size([64]) torch.Size([64, 11])\n"
     ]
    },
    {
     "name": "stderr",
     "output_type": "stream",
     "text": [
      "Running train:   6%|███████████▊                                                                                                                                                                               | 19/300 [00:15<03:35,  1.30it/s]"
     ]
    },
    {
     "name": "stdout",
     "output_type": "stream",
     "text": [
      "torch.Size([64]) torch.Size([64, 11])\n"
     ]
    },
    {
     "name": "stderr",
     "output_type": "stream",
     "text": [
      "Running train:   7%|████████████▍                                                                                                                                                                              | 20/300 [00:15<03:34,  1.31it/s]"
     ]
    },
    {
     "name": "stdout",
     "output_type": "stream",
     "text": [
      "torch.Size([64]) torch.Size([64, 11])\n"
     ]
    },
    {
     "name": "stderr",
     "output_type": "stream",
     "text": [
      "Running train:   7%|█████████████                                                                                                                                                                              | 21/300 [00:16<03:38,  1.28it/s]"
     ]
    },
    {
     "name": "stdout",
     "output_type": "stream",
     "text": [
      "torch.Size([64]) torch.Size([64, 11])\n"
     ]
    },
    {
     "name": "stderr",
     "output_type": "stream",
     "text": [
      "Running train:   7%|█████████████▋                                                                                                                                                                             | 22/300 [00:17<03:32,  1.31it/s]"
     ]
    },
    {
     "name": "stdout",
     "output_type": "stream",
     "text": [
      "torch.Size([64]) torch.Size([64, 11])\n"
     ]
    },
    {
     "name": "stderr",
     "output_type": "stream",
     "text": [
      "Running train:   8%|██████████████▎                                                                                                                                                                            | 23/300 [00:18<03:34,  1.29it/s]"
     ]
    },
    {
     "name": "stdout",
     "output_type": "stream",
     "text": [
      "torch.Size([64]) torch.Size([64, 11])\n"
     ]
    },
    {
     "name": "stderr",
     "output_type": "stream",
     "text": [
      "Running train:   8%|██████████████▉                                                                                                                                                                            | 24/300 [00:19<03:34,  1.29it/s]"
     ]
    },
    {
     "name": "stdout",
     "output_type": "stream",
     "text": [
      "torch.Size([64]) torch.Size([64, 11])\n"
     ]
    },
    {
     "name": "stderr",
     "output_type": "stream",
     "text": [
      "Running train:   8%|███████████████▌                                                                                                                                                                           | 25/300 [00:19<03:32,  1.29it/s]"
     ]
    },
    {
     "name": "stdout",
     "output_type": "stream",
     "text": [
      "torch.Size([64]) torch.Size([64, 11])\n"
     ]
    },
    {
     "name": "stderr",
     "output_type": "stream",
     "text": [
      "Running train:   9%|████████████████▏                                                                                                                                                                          | 26/300 [00:20<03:31,  1.30it/s]"
     ]
    },
    {
     "name": "stdout",
     "output_type": "stream",
     "text": [
      "torch.Size([64]) torch.Size([64, 11])\n"
     ]
    },
    {
     "name": "stderr",
     "output_type": "stream",
     "text": [
      "Running train:   9%|████████████████▊                                                                                                                                                                          | 27/300 [00:21<03:32,  1.28it/s]"
     ]
    },
    {
     "name": "stdout",
     "output_type": "stream",
     "text": [
      "torch.Size([64]) torch.Size([64, 11])\n"
     ]
    },
    {
     "name": "stderr",
     "output_type": "stream",
     "text": [
      "Running train:   9%|█████████████████▍                                                                                                                                                                         | 28/300 [00:22<03:33,  1.27it/s]"
     ]
    },
    {
     "name": "stdout",
     "output_type": "stream",
     "text": [
      "torch.Size([64]) torch.Size([64, 11])\n"
     ]
    },
    {
     "name": "stderr",
     "output_type": "stream",
     "text": [
      "Running train:  10%|██████████████████                                                                                                                                                                         | 29/300 [00:22<03:32,  1.28it/s]"
     ]
    },
    {
     "name": "stdout",
     "output_type": "stream",
     "text": [
      "torch.Size([64]) torch.Size([64, 11])\n"
     ]
    },
    {
     "name": "stderr",
     "output_type": "stream",
     "text": [
      "Running train:  10%|██████████████████▋                                                                                                                                                                        | 30/300 [00:23<03:34,  1.26it/s]\n"
     ]
    },
    {
     "ename": "KeyboardInterrupt",
     "evalue": "",
     "output_type": "error",
     "traceback": [
      "\u001b[0;31m---------------------------------------------------------------------------\u001b[0m",
      "\u001b[0;31mKeyboardInterrupt\u001b[0m                         Traceback (most recent call last)",
      "\u001b[0;32m/tmp/ipykernel_2092149/1405983264.py\u001b[0m in \u001b[0;36m<module>\u001b[0;34m\u001b[0m\n\u001b[1;32m      1\u001b[0m \u001b[0mmodel_list\u001b[0m \u001b[0;34m=\u001b[0m \u001b[0;34m[\u001b[0m\u001b[0;34m]\u001b[0m\u001b[0;34m\u001b[0m\u001b[0;34m\u001b[0m\u001b[0m\n\u001b[0;32m----> 2\u001b[0;31m \u001b[0mmodel_list\u001b[0m\u001b[0;34m.\u001b[0m\u001b[0mappend\u001b[0m\u001b[0;34m(\u001b[0m\u001b[0mtrain_model_name\u001b[0m\u001b[0;34m(\u001b[0m\u001b[0;34m'densenet'\u001b[0m\u001b[0;34m)\u001b[0m\u001b[0;34m)\u001b[0m\u001b[0;34m\u001b[0m\u001b[0;34m\u001b[0m\u001b[0m\n\u001b[0m",
      "\u001b[0;32m/tmp/ipykernel_2092149/3401393029.py\u001b[0m in \u001b[0;36mtrain_model_name\u001b[0;34m(model_name)\u001b[0m\n\u001b[1;32m     12\u001b[0m     \u001b[0;31m# Observe that all parameters are being optimized\u001b[0m\u001b[0;34m\u001b[0m\u001b[0;34m\u001b[0m\u001b[0m\n\u001b[1;32m     13\u001b[0m     \u001b[0moptimizer\u001b[0m \u001b[0;34m=\u001b[0m \u001b[0moptim\u001b[0m\u001b[0;34m.\u001b[0m\u001b[0mSGD\u001b[0m\u001b[0;34m(\u001b[0m\u001b[0mmodel\u001b[0m\u001b[0;34m.\u001b[0m\u001b[0mparameters\u001b[0m\u001b[0;34m(\u001b[0m\u001b[0;34m)\u001b[0m\u001b[0;34m)\u001b[0m\u001b[0;34m\u001b[0m\u001b[0;34m\u001b[0m\u001b[0m\n\u001b[0;32m---> 14\u001b[0;31m     model, entropy_values_train, entropy_values_val, E_loss_train, E_loss_val, balanced_acc_train, balanced_acc_val,E_accuracy_train,E_accuracy_val = train_model(\n\u001b[0m\u001b[1;32m     15\u001b[0m         trainset,valset,model, criterion, optimizer, num_epoch, bs)\n\u001b[1;32m     16\u001b[0m \u001b[0;34m\u001b[0m\u001b[0m\n",
      "\u001b[0;32m/tmp/ipykernel_2092149/2524909372.py\u001b[0m in \u001b[0;36mtrain_model\u001b[0;34m(trainset, valset, model, criterion, optimizer, num_epochs, bs)\u001b[0m\n\u001b[1;32m     44\u001b[0m \u001b[0;34m\u001b[0m\u001b[0m\n\u001b[1;32m     45\u001b[0m             \u001b[0;31m# Iterate over data.\u001b[0m\u001b[0;34m\u001b[0m\u001b[0;34m\u001b[0m\u001b[0m\n\u001b[0;32m---> 46\u001b[0;31m             \u001b[0;32mfor\u001b[0m \u001b[0minputs\u001b[0m\u001b[0;34m,\u001b[0m \u001b[0mlabels\u001b[0m \u001b[0;32min\u001b[0m \u001b[0mtqdm\u001b[0m\u001b[0;34m(\u001b[0m\u001b[0mdataloaders_strong\u001b[0m\u001b[0;34m[\u001b[0m\u001b[0mphase\u001b[0m\u001b[0;34m]\u001b[0m\u001b[0;34m,\u001b[0m \u001b[0;34m\"Running \"\u001b[0m \u001b[0;34m+\u001b[0m \u001b[0mphase\u001b[0m\u001b[0;34m)\u001b[0m\u001b[0;34m:\u001b[0m\u001b[0;34m\u001b[0m\u001b[0;34m\u001b[0m\u001b[0m\n\u001b[0m\u001b[1;32m     47\u001b[0m                 \u001b[0minputs\u001b[0m \u001b[0;34m=\u001b[0m \u001b[0minputs\u001b[0m\u001b[0;34m.\u001b[0m\u001b[0mto\u001b[0m\u001b[0;34m(\u001b[0m\u001b[0mdevice\u001b[0m\u001b[0;34m)\u001b[0m\u001b[0;34m\u001b[0m\u001b[0;34m\u001b[0m\u001b[0m\n\u001b[1;32m     48\u001b[0m                 \u001b[0mlabels\u001b[0m \u001b[0;34m=\u001b[0m \u001b[0mlabels\u001b[0m\u001b[0;34m.\u001b[0m\u001b[0mto\u001b[0m\u001b[0;34m(\u001b[0m\u001b[0mdevice\u001b[0m\u001b[0;34m)\u001b[0m\u001b[0;34m\u001b[0m\u001b[0;34m\u001b[0m\u001b[0m\n",
      "\u001b[0;32m~/omr/__pypackages__/3.9/lib/tqdm/std.py\u001b[0m in \u001b[0;36m__iter__\u001b[0;34m(self)\u001b[0m\n\u001b[1;32m   1178\u001b[0m \u001b[0;34m\u001b[0m\u001b[0m\n\u001b[1;32m   1179\u001b[0m         \u001b[0;32mtry\u001b[0m\u001b[0;34m:\u001b[0m\u001b[0;34m\u001b[0m\u001b[0;34m\u001b[0m\u001b[0m\n\u001b[0;32m-> 1180\u001b[0;31m             \u001b[0;32mfor\u001b[0m \u001b[0mobj\u001b[0m \u001b[0;32min\u001b[0m \u001b[0miterable\u001b[0m\u001b[0;34m:\u001b[0m\u001b[0;34m\u001b[0m\u001b[0;34m\u001b[0m\u001b[0m\n\u001b[0m\u001b[1;32m   1181\u001b[0m                 \u001b[0;32myield\u001b[0m \u001b[0mobj\u001b[0m\u001b[0;34m\u001b[0m\u001b[0;34m\u001b[0m\u001b[0m\n\u001b[1;32m   1182\u001b[0m                 \u001b[0;31m# Update and possibly print the progressbar.\u001b[0m\u001b[0;34m\u001b[0m\u001b[0;34m\u001b[0m\u001b[0m\n",
      "\u001b[0;32m~/omr/__pypackages__/3.9/lib/torch/utils/data/dataloader.py\u001b[0m in \u001b[0;36m__next__\u001b[0;34m(self)\u001b[0m\n\u001b[1;32m    629\u001b[0m                 \u001b[0;31m# TODO(https://github.com/pytorch/pytorch/issues/76750)\u001b[0m\u001b[0;34m\u001b[0m\u001b[0;34m\u001b[0m\u001b[0m\n\u001b[1;32m    630\u001b[0m                 \u001b[0mself\u001b[0m\u001b[0;34m.\u001b[0m\u001b[0m_reset\u001b[0m\u001b[0;34m(\u001b[0m\u001b[0;34m)\u001b[0m  \u001b[0;31m# type: ignore[call-arg]\u001b[0m\u001b[0;34m\u001b[0m\u001b[0;34m\u001b[0m\u001b[0m\n\u001b[0;32m--> 631\u001b[0;31m             \u001b[0mdata\u001b[0m \u001b[0;34m=\u001b[0m \u001b[0mself\u001b[0m\u001b[0;34m.\u001b[0m\u001b[0m_next_data\u001b[0m\u001b[0;34m(\u001b[0m\u001b[0;34m)\u001b[0m\u001b[0;34m\u001b[0m\u001b[0;34m\u001b[0m\u001b[0m\n\u001b[0m\u001b[1;32m    632\u001b[0m             \u001b[0mself\u001b[0m\u001b[0;34m.\u001b[0m\u001b[0m_num_yielded\u001b[0m \u001b[0;34m+=\u001b[0m \u001b[0;36m1\u001b[0m\u001b[0;34m\u001b[0m\u001b[0;34m\u001b[0m\u001b[0m\n\u001b[1;32m    633\u001b[0m             \u001b[0;32mif\u001b[0m \u001b[0mself\u001b[0m\u001b[0;34m.\u001b[0m\u001b[0m_dataset_kind\u001b[0m \u001b[0;34m==\u001b[0m \u001b[0m_DatasetKind\u001b[0m\u001b[0;34m.\u001b[0m\u001b[0mIterable\u001b[0m \u001b[0;32mand\u001b[0m\u001b[0;31m \u001b[0m\u001b[0;31m\\\u001b[0m\u001b[0;34m\u001b[0m\u001b[0;34m\u001b[0m\u001b[0m\n",
      "\u001b[0;32m~/omr/__pypackages__/3.9/lib/torch/utils/data/dataloader.py\u001b[0m in \u001b[0;36m_next_data\u001b[0;34m(self)\u001b[0m\n\u001b[1;32m    673\u001b[0m     \u001b[0;32mdef\u001b[0m \u001b[0m_next_data\u001b[0m\u001b[0;34m(\u001b[0m\u001b[0mself\u001b[0m\u001b[0;34m)\u001b[0m\u001b[0;34m:\u001b[0m\u001b[0;34m\u001b[0m\u001b[0;34m\u001b[0m\u001b[0m\n\u001b[1;32m    674\u001b[0m         \u001b[0mindex\u001b[0m \u001b[0;34m=\u001b[0m \u001b[0mself\u001b[0m\u001b[0;34m.\u001b[0m\u001b[0m_next_index\u001b[0m\u001b[0;34m(\u001b[0m\u001b[0;34m)\u001b[0m  \u001b[0;31m# may raise StopIteration\u001b[0m\u001b[0;34m\u001b[0m\u001b[0;34m\u001b[0m\u001b[0m\n\u001b[0;32m--> 675\u001b[0;31m         \u001b[0mdata\u001b[0m \u001b[0;34m=\u001b[0m \u001b[0mself\u001b[0m\u001b[0;34m.\u001b[0m\u001b[0m_dataset_fetcher\u001b[0m\u001b[0;34m.\u001b[0m\u001b[0mfetch\u001b[0m\u001b[0;34m(\u001b[0m\u001b[0mindex\u001b[0m\u001b[0;34m)\u001b[0m  \u001b[0;31m# may raise StopIteration\u001b[0m\u001b[0;34m\u001b[0m\u001b[0;34m\u001b[0m\u001b[0m\n\u001b[0m\u001b[1;32m    676\u001b[0m         \u001b[0;32mif\u001b[0m \u001b[0mself\u001b[0m\u001b[0;34m.\u001b[0m\u001b[0m_pin_memory\u001b[0m\u001b[0;34m:\u001b[0m\u001b[0;34m\u001b[0m\u001b[0;34m\u001b[0m\u001b[0m\n\u001b[1;32m    677\u001b[0m             \u001b[0mdata\u001b[0m \u001b[0;34m=\u001b[0m \u001b[0m_utils\u001b[0m\u001b[0;34m.\u001b[0m\u001b[0mpin_memory\u001b[0m\u001b[0;34m.\u001b[0m\u001b[0mpin_memory\u001b[0m\u001b[0;34m(\u001b[0m\u001b[0mdata\u001b[0m\u001b[0;34m,\u001b[0m \u001b[0mself\u001b[0m\u001b[0;34m.\u001b[0m\u001b[0m_pin_memory_device\u001b[0m\u001b[0;34m)\u001b[0m\u001b[0;34m\u001b[0m\u001b[0;34m\u001b[0m\u001b[0m\n",
      "\u001b[0;32m~/omr/__pypackages__/3.9/lib/torch/utils/data/_utils/fetch.py\u001b[0m in \u001b[0;36mfetch\u001b[0;34m(self, possibly_batched_index)\u001b[0m\n\u001b[1;32m     49\u001b[0m                 \u001b[0mdata\u001b[0m \u001b[0;34m=\u001b[0m \u001b[0mself\u001b[0m\u001b[0;34m.\u001b[0m\u001b[0mdataset\u001b[0m\u001b[0;34m.\u001b[0m\u001b[0m__getitems__\u001b[0m\u001b[0;34m(\u001b[0m\u001b[0mpossibly_batched_index\u001b[0m\u001b[0;34m)\u001b[0m\u001b[0;34m\u001b[0m\u001b[0;34m\u001b[0m\u001b[0m\n\u001b[1;32m     50\u001b[0m             \u001b[0;32melse\u001b[0m\u001b[0;34m:\u001b[0m\u001b[0;34m\u001b[0m\u001b[0;34m\u001b[0m\u001b[0m\n\u001b[0;32m---> 51\u001b[0;31m                 \u001b[0mdata\u001b[0m \u001b[0;34m=\u001b[0m \u001b[0;34m[\u001b[0m\u001b[0mself\u001b[0m\u001b[0;34m.\u001b[0m\u001b[0mdataset\u001b[0m\u001b[0;34m[\u001b[0m\u001b[0midx\u001b[0m\u001b[0;34m]\u001b[0m \u001b[0;32mfor\u001b[0m \u001b[0midx\u001b[0m \u001b[0;32min\u001b[0m \u001b[0mpossibly_batched_index\u001b[0m\u001b[0;34m]\u001b[0m\u001b[0;34m\u001b[0m\u001b[0;34m\u001b[0m\u001b[0m\n\u001b[0m\u001b[1;32m     52\u001b[0m         \u001b[0;32melse\u001b[0m\u001b[0;34m:\u001b[0m\u001b[0;34m\u001b[0m\u001b[0;34m\u001b[0m\u001b[0m\n\u001b[1;32m     53\u001b[0m             \u001b[0mdata\u001b[0m \u001b[0;34m=\u001b[0m \u001b[0mself\u001b[0m\u001b[0;34m.\u001b[0m\u001b[0mdataset\u001b[0m\u001b[0;34m[\u001b[0m\u001b[0mpossibly_batched_index\u001b[0m\u001b[0;34m]\u001b[0m\u001b[0;34m\u001b[0m\u001b[0;34m\u001b[0m\u001b[0m\n",
      "\u001b[0;32m~/omr/__pypackages__/3.9/lib/torch/utils/data/_utils/fetch.py\u001b[0m in \u001b[0;36m<listcomp>\u001b[0;34m(.0)\u001b[0m\n\u001b[1;32m     49\u001b[0m                 \u001b[0mdata\u001b[0m \u001b[0;34m=\u001b[0m \u001b[0mself\u001b[0m\u001b[0;34m.\u001b[0m\u001b[0mdataset\u001b[0m\u001b[0;34m.\u001b[0m\u001b[0m__getitems__\u001b[0m\u001b[0;34m(\u001b[0m\u001b[0mpossibly_batched_index\u001b[0m\u001b[0;34m)\u001b[0m\u001b[0;34m\u001b[0m\u001b[0;34m\u001b[0m\u001b[0m\n\u001b[1;32m     50\u001b[0m             \u001b[0;32melse\u001b[0m\u001b[0;34m:\u001b[0m\u001b[0;34m\u001b[0m\u001b[0;34m\u001b[0m\u001b[0m\n\u001b[0;32m---> 51\u001b[0;31m                 \u001b[0mdata\u001b[0m \u001b[0;34m=\u001b[0m \u001b[0;34m[\u001b[0m\u001b[0mself\u001b[0m\u001b[0;34m.\u001b[0m\u001b[0mdataset\u001b[0m\u001b[0;34m[\u001b[0m\u001b[0midx\u001b[0m\u001b[0;34m]\u001b[0m \u001b[0;32mfor\u001b[0m \u001b[0midx\u001b[0m \u001b[0;32min\u001b[0m \u001b[0mpossibly_batched_index\u001b[0m\u001b[0;34m]\u001b[0m\u001b[0;34m\u001b[0m\u001b[0;34m\u001b[0m\u001b[0m\n\u001b[0m\u001b[1;32m     52\u001b[0m         \u001b[0;32melse\u001b[0m\u001b[0;34m:\u001b[0m\u001b[0;34m\u001b[0m\u001b[0;34m\u001b[0m\u001b[0m\n\u001b[1;32m     53\u001b[0m             \u001b[0mdata\u001b[0m \u001b[0;34m=\u001b[0m \u001b[0mself\u001b[0m\u001b[0;34m.\u001b[0m\u001b[0mdataset\u001b[0m\u001b[0;34m[\u001b[0m\u001b[0mpossibly_batched_index\u001b[0m\u001b[0;34m]\u001b[0m\u001b[0;34m\u001b[0m\u001b[0;34m\u001b[0m\u001b[0m\n",
      "\u001b[0;32m/tmp/ipykernel_2092149/4058630576.py\u001b[0m in \u001b[0;36m__getitem__\u001b[0;34m(self, index)\u001b[0m\n\u001b[1;32m      7\u001b[0m         \u001b[0mx\u001b[0m\u001b[0;34m,\u001b[0m \u001b[0my\u001b[0m \u001b[0;34m=\u001b[0m \u001b[0mself\u001b[0m\u001b[0;34m.\u001b[0m\u001b[0msubset\u001b[0m\u001b[0;34m[\u001b[0m\u001b[0mindex\u001b[0m\u001b[0;34m]\u001b[0m\u001b[0;34m\u001b[0m\u001b[0;34m\u001b[0m\u001b[0m\n\u001b[1;32m      8\u001b[0m         \u001b[0;32mif\u001b[0m \u001b[0mself\u001b[0m\u001b[0;34m.\u001b[0m\u001b[0mtransform\u001b[0m\u001b[0;34m:\u001b[0m\u001b[0;34m\u001b[0m\u001b[0;34m\u001b[0m\u001b[0m\n\u001b[0;32m----> 9\u001b[0;31m             \u001b[0mx\u001b[0m \u001b[0;34m=\u001b[0m \u001b[0mself\u001b[0m\u001b[0;34m.\u001b[0m\u001b[0mtransform\u001b[0m\u001b[0;34m(\u001b[0m\u001b[0mx\u001b[0m\u001b[0;34m)\u001b[0m\u001b[0;34m\u001b[0m\u001b[0;34m\u001b[0m\u001b[0m\n\u001b[0m\u001b[1;32m     10\u001b[0m         \u001b[0;32mreturn\u001b[0m \u001b[0mx\u001b[0m\u001b[0;34m,\u001b[0m \u001b[0my\u001b[0m\u001b[0;34m\u001b[0m\u001b[0;34m\u001b[0m\u001b[0m\n\u001b[1;32m     11\u001b[0m \u001b[0;34m\u001b[0m\u001b[0m\n",
      "\u001b[0;32m~/omr/__pypackages__/3.9/lib/torchvision/transforms/transforms.py\u001b[0m in \u001b[0;36m__call__\u001b[0;34m(self, img)\u001b[0m\n\u001b[1;32m     93\u001b[0m     \u001b[0;32mdef\u001b[0m \u001b[0m__call__\u001b[0m\u001b[0;34m(\u001b[0m\u001b[0mself\u001b[0m\u001b[0;34m,\u001b[0m \u001b[0mimg\u001b[0m\u001b[0;34m)\u001b[0m\u001b[0;34m:\u001b[0m\u001b[0;34m\u001b[0m\u001b[0;34m\u001b[0m\u001b[0m\n\u001b[1;32m     94\u001b[0m         \u001b[0;32mfor\u001b[0m \u001b[0mt\u001b[0m \u001b[0;32min\u001b[0m \u001b[0mself\u001b[0m\u001b[0;34m.\u001b[0m\u001b[0mtransforms\u001b[0m\u001b[0;34m:\u001b[0m\u001b[0;34m\u001b[0m\u001b[0;34m\u001b[0m\u001b[0m\n\u001b[0;32m---> 95\u001b[0;31m             \u001b[0mimg\u001b[0m \u001b[0;34m=\u001b[0m \u001b[0mt\u001b[0m\u001b[0;34m(\u001b[0m\u001b[0mimg\u001b[0m\u001b[0;34m)\u001b[0m\u001b[0;34m\u001b[0m\u001b[0;34m\u001b[0m\u001b[0m\n\u001b[0m\u001b[1;32m     96\u001b[0m         \u001b[0;32mreturn\u001b[0m \u001b[0mimg\u001b[0m\u001b[0;34m\u001b[0m\u001b[0;34m\u001b[0m\u001b[0m\n\u001b[1;32m     97\u001b[0m \u001b[0;34m\u001b[0m\u001b[0m\n",
      "\u001b[0;32m~/omr/__pypackages__/3.9/lib/torchvision/transforms/transforms.py\u001b[0m in \u001b[0;36m__call__\u001b[0;34m(self, img)\u001b[0m\n\u001b[1;32m    477\u001b[0m \u001b[0;34m\u001b[0m\u001b[0m\n\u001b[1;32m    478\u001b[0m     \u001b[0;32mdef\u001b[0m \u001b[0m__call__\u001b[0m\u001b[0;34m(\u001b[0m\u001b[0mself\u001b[0m\u001b[0;34m,\u001b[0m \u001b[0mimg\u001b[0m\u001b[0;34m)\u001b[0m\u001b[0;34m:\u001b[0m\u001b[0;34m\u001b[0m\u001b[0;34m\u001b[0m\u001b[0m\n\u001b[0;32m--> 479\u001b[0;31m         \u001b[0;32mreturn\u001b[0m \u001b[0mself\u001b[0m\u001b[0;34m.\u001b[0m\u001b[0mlambd\u001b[0m\u001b[0;34m(\u001b[0m\u001b[0mimg\u001b[0m\u001b[0;34m)\u001b[0m\u001b[0;34m\u001b[0m\u001b[0;34m\u001b[0m\u001b[0m\n\u001b[0m\u001b[1;32m    480\u001b[0m \u001b[0;34m\u001b[0m\u001b[0m\n\u001b[1;32m    481\u001b[0m     \u001b[0;32mdef\u001b[0m \u001b[0m__repr__\u001b[0m\u001b[0;34m(\u001b[0m\u001b[0mself\u001b[0m\u001b[0;34m)\u001b[0m \u001b[0;34m->\u001b[0m \u001b[0mstr\u001b[0m\u001b[0;34m:\u001b[0m\u001b[0;34m\u001b[0m\u001b[0;34m\u001b[0m\u001b[0m\n",
      "\u001b[0;32m/tmp/ipykernel_2092149/3361463272.py\u001b[0m in \u001b[0;36m<lambda>\u001b[0;34m(x)\u001b[0m\n\u001b[1;32m      3\u001b[0m                                         \u001b[0mtransforms\u001b[0m\u001b[0;34m.\u001b[0m\u001b[0mResize\u001b[0m\u001b[0;34m(\u001b[0m\u001b[0;34m(\u001b[0m\u001b[0;36m256\u001b[0m\u001b[0;34m,\u001b[0m \u001b[0;36m256\u001b[0m\u001b[0;34m)\u001b[0m\u001b[0;34m)\u001b[0m\u001b[0;34m,\u001b[0m\u001b[0;34m\u001b[0m\u001b[0;34m\u001b[0m\u001b[0m\n\u001b[1;32m      4\u001b[0m                                         \u001b[0mtransforms\u001b[0m\u001b[0;34m.\u001b[0m\u001b[0mLambda\u001b[0m\u001b[0;34m(\u001b[0m\u001b[0;32mlambda\u001b[0m \u001b[0mx\u001b[0m\u001b[0;34m:\u001b[0m \u001b[0mtransform_denoise\u001b[0m\u001b[0;34m(\u001b[0m\u001b[0mx\u001b[0m\u001b[0;34m)\u001b[0m\u001b[0;34m)\u001b[0m\u001b[0;34m,\u001b[0m\u001b[0;34m\u001b[0m\u001b[0;34m\u001b[0m\u001b[0m\n\u001b[0;32m----> 5\u001b[0;31m                                         \u001b[0mtransforms\u001b[0m\u001b[0;34m.\u001b[0m\u001b[0mLambda\u001b[0m\u001b[0;34m(\u001b[0m\u001b[0;32mlambda\u001b[0m \u001b[0mx\u001b[0m\u001b[0;34m:\u001b[0m \u001b[0mtransform_enhance\u001b[0m\u001b[0;34m(\u001b[0m\u001b[0mx\u001b[0m\u001b[0;34m)\u001b[0m\u001b[0;34m)\u001b[0m\u001b[0;34m,\u001b[0m\u001b[0;34m\u001b[0m\u001b[0;34m\u001b[0m\u001b[0m\n\u001b[0m\u001b[1;32m      6\u001b[0m                                         \u001b[0mtransforms\u001b[0m\u001b[0;34m.\u001b[0m\u001b[0mRandomHorizontalFlip\u001b[0m\u001b[0;34m(\u001b[0m\u001b[0;34m)\u001b[0m\u001b[0;34m,\u001b[0m\u001b[0;34m\u001b[0m\u001b[0;34m\u001b[0m\u001b[0m\n\u001b[1;32m      7\u001b[0m                                         \u001b[0mtransforms\u001b[0m\u001b[0;34m.\u001b[0m\u001b[0mRandomRotation\u001b[0m\u001b[0;34m(\u001b[0m\u001b[0mdegrees\u001b[0m\u001b[0;34m=\u001b[0m\u001b[0;36m10\u001b[0m\u001b[0;34m)\u001b[0m\u001b[0;34m,\u001b[0m\u001b[0;34m\u001b[0m\u001b[0;34m\u001b[0m\u001b[0m\n",
      "\u001b[0;32m/tmp/ipykernel_2092149/1089802598.py\u001b[0m in \u001b[0;36mtransform_enhance\u001b[0;34m(image)\u001b[0m\n\u001b[1;32m      8\u001b[0m     \u001b[0;31m# Image enhancement transformation (replace with your enhancement algorithm)\u001b[0m\u001b[0;34m\u001b[0m\u001b[0;34m\u001b[0m\u001b[0m\n\u001b[1;32m      9\u001b[0m     \u001b[0;31m# Example: Apply contrast enhancement\u001b[0m\u001b[0;34m\u001b[0m\u001b[0;34m\u001b[0m\u001b[0m\n\u001b[0;32m---> 10\u001b[0;31m     \u001b[0menhanced_image\u001b[0m \u001b[0;34m=\u001b[0m \u001b[0mtransforms\u001b[0m\u001b[0;34m.\u001b[0m\u001b[0mfunctional\u001b[0m\u001b[0;34m.\u001b[0m\u001b[0madjust_contrast\u001b[0m\u001b[0;34m(\u001b[0m\u001b[0mimage\u001b[0m\u001b[0;34m,\u001b[0m \u001b[0mcontrast_factor\u001b[0m\u001b[0;34m=\u001b[0m\u001b[0;36m1.5\u001b[0m\u001b[0;34m)\u001b[0m\u001b[0;34m\u001b[0m\u001b[0;34m\u001b[0m\u001b[0m\n\u001b[0m\u001b[1;32m     11\u001b[0m     \u001b[0;32mreturn\u001b[0m \u001b[0menhanced_image\u001b[0m\u001b[0;34m\u001b[0m\u001b[0;34m\u001b[0m\u001b[0m\n",
      "\u001b[0;32m~/omr/__pypackages__/3.9/lib/torchvision/transforms/functional.py\u001b[0m in \u001b[0;36madjust_contrast\u001b[0;34m(img, contrast_factor)\u001b[0m\n\u001b[1;32m    896\u001b[0m         \u001b[0m_log_api_usage_once\u001b[0m\u001b[0;34m(\u001b[0m\u001b[0madjust_contrast\u001b[0m\u001b[0;34m)\u001b[0m\u001b[0;34m\u001b[0m\u001b[0;34m\u001b[0m\u001b[0m\n\u001b[1;32m    897\u001b[0m     \u001b[0;32mif\u001b[0m \u001b[0;32mnot\u001b[0m \u001b[0misinstance\u001b[0m\u001b[0;34m(\u001b[0m\u001b[0mimg\u001b[0m\u001b[0;34m,\u001b[0m \u001b[0mtorch\u001b[0m\u001b[0;34m.\u001b[0m\u001b[0mTensor\u001b[0m\u001b[0;34m)\u001b[0m\u001b[0;34m:\u001b[0m\u001b[0;34m\u001b[0m\u001b[0;34m\u001b[0m\u001b[0m\n\u001b[0;32m--> 898\u001b[0;31m         \u001b[0;32mreturn\u001b[0m \u001b[0mF_pil\u001b[0m\u001b[0;34m.\u001b[0m\u001b[0madjust_contrast\u001b[0m\u001b[0;34m(\u001b[0m\u001b[0mimg\u001b[0m\u001b[0;34m,\u001b[0m \u001b[0mcontrast_factor\u001b[0m\u001b[0;34m)\u001b[0m\u001b[0;34m\u001b[0m\u001b[0;34m\u001b[0m\u001b[0m\n\u001b[0m\u001b[1;32m    899\u001b[0m \u001b[0;34m\u001b[0m\u001b[0m\n\u001b[1;32m    900\u001b[0m     \u001b[0;32mreturn\u001b[0m \u001b[0mF_t\u001b[0m\u001b[0;34m.\u001b[0m\u001b[0madjust_contrast\u001b[0m\u001b[0;34m(\u001b[0m\u001b[0mimg\u001b[0m\u001b[0;34m,\u001b[0m \u001b[0mcontrast_factor\u001b[0m\u001b[0;34m)\u001b[0m\u001b[0;34m\u001b[0m\u001b[0;34m\u001b[0m\u001b[0m\n",
      "\u001b[0;32m~/omr/__pypackages__/3.9/lib/torchvision/transforms/_functional_pil.py\u001b[0m in \u001b[0;36madjust_contrast\u001b[0;34m(img, contrast_factor)\u001b[0m\n\u001b[1;32m     81\u001b[0m \u001b[0;34m\u001b[0m\u001b[0m\n\u001b[1;32m     82\u001b[0m     \u001b[0menhancer\u001b[0m \u001b[0;34m=\u001b[0m \u001b[0mImageEnhance\u001b[0m\u001b[0;34m.\u001b[0m\u001b[0mContrast\u001b[0m\u001b[0;34m(\u001b[0m\u001b[0mimg\u001b[0m\u001b[0;34m)\u001b[0m\u001b[0;34m\u001b[0m\u001b[0;34m\u001b[0m\u001b[0m\n\u001b[0;32m---> 83\u001b[0;31m     \u001b[0mimg\u001b[0m \u001b[0;34m=\u001b[0m \u001b[0menhancer\u001b[0m\u001b[0;34m.\u001b[0m\u001b[0menhance\u001b[0m\u001b[0;34m(\u001b[0m\u001b[0mcontrast_factor\u001b[0m\u001b[0;34m)\u001b[0m\u001b[0;34m\u001b[0m\u001b[0;34m\u001b[0m\u001b[0m\n\u001b[0m\u001b[1;32m     84\u001b[0m     \u001b[0;32mreturn\u001b[0m \u001b[0mimg\u001b[0m\u001b[0;34m\u001b[0m\u001b[0;34m\u001b[0m\u001b[0m\n\u001b[1;32m     85\u001b[0m \u001b[0;34m\u001b[0m\u001b[0m\n",
      "\u001b[0;32m~/omr/__pypackages__/3.9/lib/PIL/ImageEnhance.py\u001b[0m in \u001b[0;36menhance\u001b[0;34m(self, factor)\u001b[0m\n\u001b[1;32m     35\u001b[0m         \u001b[0;34m:\u001b[0m\u001b[0mrtype\u001b[0m\u001b[0;34m:\u001b[0m \u001b[0;34m:\u001b[0m\u001b[0mpy\u001b[0m\u001b[0;34m:\u001b[0m\u001b[0;32mclass\u001b[0m\u001b[0;34m:\u001b[0m\u001b[0;31m`\u001b[0m\u001b[0;34m~\u001b[0m\u001b[0mPIL\u001b[0m\u001b[0;34m.\u001b[0m\u001b[0mImage\u001b[0m\u001b[0;34m.\u001b[0m\u001b[0mImage\u001b[0m\u001b[0;31m`\u001b[0m\u001b[0;34m\u001b[0m\u001b[0;34m\u001b[0m\u001b[0m\n\u001b[1;32m     36\u001b[0m         \"\"\"\n\u001b[0;32m---> 37\u001b[0;31m         \u001b[0;32mreturn\u001b[0m \u001b[0mImage\u001b[0m\u001b[0;34m.\u001b[0m\u001b[0mblend\u001b[0m\u001b[0;34m(\u001b[0m\u001b[0mself\u001b[0m\u001b[0;34m.\u001b[0m\u001b[0mdegenerate\u001b[0m\u001b[0;34m,\u001b[0m \u001b[0mself\u001b[0m\u001b[0;34m.\u001b[0m\u001b[0mimage\u001b[0m\u001b[0;34m,\u001b[0m \u001b[0mfactor\u001b[0m\u001b[0;34m)\u001b[0m\u001b[0;34m\u001b[0m\u001b[0;34m\u001b[0m\u001b[0m\n\u001b[0m\u001b[1;32m     38\u001b[0m \u001b[0;34m\u001b[0m\u001b[0m\n\u001b[1;32m     39\u001b[0m \u001b[0;34m\u001b[0m\u001b[0m\n",
      "\u001b[0;32m~/omr/__pypackages__/3.9/lib/PIL/Image.py\u001b[0m in \u001b[0;36mblend\u001b[0;34m(im1, im2, alpha)\u001b[0m\n\u001b[1;32m   3379\u001b[0m     \u001b[0mim1\u001b[0m\u001b[0;34m.\u001b[0m\u001b[0mload\u001b[0m\u001b[0;34m(\u001b[0m\u001b[0;34m)\u001b[0m\u001b[0;34m\u001b[0m\u001b[0;34m\u001b[0m\u001b[0m\n\u001b[1;32m   3380\u001b[0m     \u001b[0mim2\u001b[0m\u001b[0;34m.\u001b[0m\u001b[0mload\u001b[0m\u001b[0;34m(\u001b[0m\u001b[0;34m)\u001b[0m\u001b[0;34m\u001b[0m\u001b[0;34m\u001b[0m\u001b[0m\n\u001b[0;32m-> 3381\u001b[0;31m     \u001b[0;32mreturn\u001b[0m \u001b[0mim1\u001b[0m\u001b[0;34m.\u001b[0m\u001b[0m_new\u001b[0m\u001b[0;34m(\u001b[0m\u001b[0mcore\u001b[0m\u001b[0;34m.\u001b[0m\u001b[0mblend\u001b[0m\u001b[0;34m(\u001b[0m\u001b[0mim1\u001b[0m\u001b[0;34m.\u001b[0m\u001b[0mim\u001b[0m\u001b[0;34m,\u001b[0m \u001b[0mim2\u001b[0m\u001b[0;34m.\u001b[0m\u001b[0mim\u001b[0m\u001b[0;34m,\u001b[0m \u001b[0malpha\u001b[0m\u001b[0;34m)\u001b[0m\u001b[0;34m)\u001b[0m\u001b[0;34m\u001b[0m\u001b[0;34m\u001b[0m\u001b[0m\n\u001b[0m\u001b[1;32m   3382\u001b[0m \u001b[0;34m\u001b[0m\u001b[0m\n\u001b[1;32m   3383\u001b[0m \u001b[0;34m\u001b[0m\u001b[0m\n",
      "\u001b[0;31mKeyboardInterrupt\u001b[0m: "
     ]
    }
   ],
   "source": [
    "model_list = []\n",
    "model_list.append(train_model_name('densenet'))"
   ]
  },
  {
   "cell_type": "code",
   "execution_count": null,
   "id": "28401d10-ca15-4ba4-b5e4-0b26fd48b6df",
   "metadata": {
    "editable": true,
    "slideshow": {
     "slide_type": ""
    },
    "tags": []
   },
   "outputs": [],
   "source": [
    "model_list.append(train_model_name('resnet'))"
   ]
  },
  {
   "cell_type": "code",
   "execution_count": null,
   "id": "cc590dbd-42f2-4cfb-a367-4baf0eda6f84",
   "metadata": {},
   "outputs": [],
   "source": [
    "model_list.append(train_model_name('googlenet'))"
   ]
  },
  {
   "cell_type": "code",
   "execution_count": null,
   "id": "c8c31745",
   "metadata": {},
   "outputs": [],
   "source": [
    "# saving models to file\n",
    "for i, model in enumerate(model_list):\n",
    "\n",
    "    # Define the file path to save the model\n",
    "    model_file1 = f'./model_state_multiclass_{i}.pt'\n",
    "    \n",
    "    # Save the model\n",
    "    torch.save(model.state_dict(), model_file1)\n",
    "    \n",
    "    model_file2 = f'./model_entire_multiclass_{i}.pt'\n",
    "    \n",
    "    # Save the entire model\n",
    "    torch.save(model, model_file2)\n"
   ]
  },
  {
   "cell_type": "code",
   "execution_count": null,
   "id": "a422cbe8-d193-4ab9-8a94-5fa9161b446b",
   "metadata": {
    "scrolled": true
   },
   "outputs": [],
   "source": [
    "confidence_thresholds = [0., .25, .5, .75, .9]\n",
    "model_names = {\n",
    "    0: \"DenseNet\",\n",
    "    1: \"ResNet\",\n",
    "    2: \"GoogleNet\"\n",
    "}\n",
    "\n",
    "confidence_results = [[] for _ in model_list]\n",
    "confidence_size = [[] for _ in model_list]\n",
    "for i, model in enumerate(model_list):\n",
    "    # # Load the model from file model\n",
    "    # model = torch.load(f'./model_entire_multiclass_{i}.pt')\n",
    "    \n",
    "    # # Load the state dictionary from the model_state file\n",
    "    # state_dict = torch.load(f'./model_state_multiclass_{i}.pt')\n",
    "    \n",
    "    # # Load the state dictionary into the model\n",
    "    # model.load_state_dict(state_dict)\n",
    "    \n",
    "    for confidence_threshold in confidence_thresholds:\n",
    "        print(f\"{model_names[i]} - Confidence {int(confidence_threshold * 100)}%\")\n",
    "        result, size = test_model(model, testset, confidence_threshold)\n",
    "        confidence_results[i].append(result)\n",
    "        confidence_size[i].append(size)"
   ]
  },
  {
   "cell_type": "code",
   "execution_count": null,
   "id": "039ac8ca-1dc4-4aac-bee7-4f7887b677e0",
   "metadata": {},
   "outputs": [],
   "source": [
    "# Plotting confidence scores\n",
    "fig, (ax1, ax2) = plt.subplots(2, 1)\n",
    "fig.suptitle('Results by confidence thresholds')\n",
    "\n",
    "# plotting confidence\n",
    "for i, result in enumerate(confidence_results):\n",
    "    ax1.plot(confidence_thresholds, result, label=model_names[i])\n",
    "# plotting data size\n",
    "for i, size in enumerate(confidence_size):\n",
    "    ax2.plot(confidence_thresholds, size, label=model_names[i])\n",
    "\n",
    "# Set labels\n",
    "ax1.set_ylabel('Balanced Accuracy')\n",
    "# Display the legend\n",
    "ax1.legend()\n",
    "\n",
    "# Set labels\n",
    "ax2.set_xlabel('Confidence scores')\n",
    "ax2.set_ylabel('Percentage of retained dataset')\n",
    "plt.show()"
   ]
  },
  {
   "cell_type": "code",
   "execution_count": null,
   "id": "d6069569-e943-4364-9a1f-34ccecccd43f",
   "metadata": {},
   "outputs": [],
   "source": [
    "def dataloader_to_numpy(dataloader):\n",
    "    data_list = []\n",
    "    label_list = []\n",
    "    for data, label in tqdm(dataloader):\n",
    "        # Reshape the data to 1D\n",
    "        data = data.view(-1)\n",
    "        data_list.append(data.numpy())\n",
    "        label_list.append(label)\n",
    "    return np.stack(data_list), np.asarray(label_list)\n",
    "\n",
    "# Convert dataloaders to numpy arrays\n",
    "print(\"Converting validation set\")\n",
    "valset.transform = transform_train\n",
    "val_X, val_Y = dataloader_to_numpy(valset)\n",
    "print(\"Converting train set\")\n",
    "train_X, train_Y = dataloader_to_numpy(trainset)\n",
    "print(\"Converting test set\")\n",
    "test_X, test_Y = dataloader_to_numpy(testset)\n",
    "\n",
    "# Concatenate training set and validation set\n",
    "train_X = np.concatenate((train_X, val_X), axis=0)\n",
    "train_Y = np.concatenate((train_Y, val_Y), axis=0)"
   ]
  },
  {
   "cell_type": "code",
   "execution_count": null,
   "id": "4c611af7",
   "metadata": {},
   "outputs": [],
   "source": [
    "#make a dummy prediction, i.e Random Baseline\n",
    "# Create a dummy classifier with a strategy\n",
    "dummy_clf = DummyClassifier(strategy='uniform')\n",
    "\n",
    "# Train the dummy classifier\n",
    "dummy_clf.fit(train_X, train_Y)\n",
    "\n",
    "# Make predictions on the test set\n",
    "predictions = dummy_clf.predict(test_X)\n",
    "\n",
    "# Evaluate the accuracy of the dummy classifier\n",
    "accuracy = dummy_clf.score(test_X, test_Y)\n",
    "\n",
    "print(\"Dummy Classifier Accuracy/ Random Baseline:\", accuracy)"
   ]
  },
  {
   "cell_type": "code",
   "execution_count": null,
   "id": "3ddac122",
   "metadata": {},
   "outputs": [],
   "source": [
    "# Predict using SVM\n",
    "model_svc = SVC(decision_function_shape='ovr', C=100, kernel='rbf')\n",
    "model_svc.fit(train_X, train_Y)\n",
    "pred = model_svc.predict(test_X)\n",
    "acc = accuracy_score(test_Y, pred)\n",
    "print('Accuracy for SVM: ' + str(acc))\n",
    "balanced_svm = balanced_accuracy_score(test_Y, pred)  # Calculate balanced accuracy\n",
    "print(\"Balanced Accuracy:\"+ str(balanced_svm))\n",
    "# Confusion Matrix\n",
    "cm = confusion_matrix(test_Y, pred)\n",
    "disp = ConfusionMatrixDisplay(confusion_matrix=cm,display_labels=classes )\n",
    "disp.plot()\n",
    "plt.figure(figsize=(8, 6))\n",
    "plt.show()"
   ]
  },
  {
   "cell_type": "code",
   "execution_count": null,
   "id": "a53f21cd",
   "metadata": {},
   "outputs": [],
   "source": [
    "# Predict using MLP\n",
    "model_mlp = mlp(solver='lbfgs', alpha=1e-5, random_state=5, max_iter=100000)\n",
    "model_mlp.fit(train_X, train_Y)\n",
    "pred = model_mlp.predict(test_X)\n",
    "acc = accuracy_score(test_Y, pred)\n",
    "print('Accuracy for MLP: ' + str(acc))\n",
    "balanced_mlp = balanced_accuracy_score(test_Y, pred)  # Calculate balanced accuracy\n",
    "print(\"Balanced Accuracy:\"+ str(balanced_mlp))\n",
    "# Confusion Matrix\n",
    "cm = confusion_matrix(test_Y, pred)\n",
    "disp = ConfusionMatrixDisplay(confusion_matrix=cm,display_labels=classes )\n",
    "disp.plot()\n",
    "plt.figure(figsize=(8, 6))\n",
    "plt.show()"
   ]
  }
 ],
 "metadata": {
  "kernelspec": {
   "display_name": "Python 3 (ipykernel)",
   "language": "python",
   "name": "python3"
  },
  "language_info": {
   "codemirror_mode": {
    "name": "ipython",
    "version": 3
   },
   "file_extension": ".py",
   "mimetype": "text/x-python",
   "name": "python",
   "nbconvert_exporter": "python",
   "pygments_lexer": "ipython3",
   "version": "3.9.16"
  }
 },
 "nbformat": 4,
 "nbformat_minor": 5
}
