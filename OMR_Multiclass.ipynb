{
 "cells": [
  {
   "cell_type": "code",
   "execution_count": 1,
   "id": "fbe44cf7",
   "metadata": {
    "execution": {
     "iopub.execute_input": "2024-05-06T09:31:02.575973Z",
     "iopub.status.busy": "2024-05-06T09:31:02.575206Z",
     "iopub.status.idle": "2024-05-06T09:31:05.901318Z",
     "shell.execute_reply": "2024-05-06T09:31:05.899886Z"
    },
    "papermill": {
     "duration": 3.355941,
     "end_time": "2024-05-06T09:31:05.904189",
     "exception": false,
     "start_time": "2024-05-06T09:31:02.548248",
     "status": "completed"
    },
    "tags": []
   },
   "outputs": [],
   "source": [
    "import seaborn as sn\n",
    "import fnmatch\n",
    "import torch.nn.functional as F\n",
    "import torch.optim as optim\n",
    "from torch.optim import lr_scheduler\n",
    "from torch.utils import data\n",
    "import numpy as np\n",
    "import torchvision\n",
    "from  numpy import exp,absolute\n",
    "from torchvision import datasets, transforms\n",
    "import matplotlib.pyplot as plt\n",
    "import time\n",
    "import os\n",
    "import copy\n",
    "import math\n",
    "from sklearn.svm import SVC \n",
    "from sklearn.neural_network import MLPClassifier as mlp\n",
    "import torch\n",
    "import torch.nn as nn\n",
    "import torchvision.models as models\n",
    "from torch.utils.data import Dataset, TensorDataset, Subset\n",
    "import pandas as pd\n",
    "from torchmetrics.functional.classification import multiclass_confusion_matrix as mcm\n",
    "from sklearn.dummy import DummyClassifier\n",
    "from sklearn.metrics import balanced_accuracy_score\n",
    "from sklearn.metrics import accuracy_score,f1_score,precision_score ,recall_score \n",
    "from sklearn.metrics import confusion_matrix, ConfusionMatrixDisplay\n",
    "import seaborn as sns\n",
    "import random\n",
    "import warnings\n",
    "from sklearn.metrics import classification_report\n",
    "from sklearn.model_selection import StratifiedShuffleSplit\n",
    "from collections import Counter\n",
    "import sklearn\n",
    "import cv2\n",
    "from PIL import Image\n",
    "import warnings\n",
    "from tqdm import tqdm\n",
    "from collections import defaultdict\n",
    "from pathlib import Path\n"
   ]
  },
  {
   "cell_type": "code",
   "execution_count": 2,
   "id": "fcf3b519",
   "metadata": {
    "execution": {
     "iopub.execute_input": "2024-05-06T09:31:05.922154Z",
     "iopub.status.busy": "2024-05-06T09:31:05.921398Z",
     "iopub.status.idle": "2024-05-06T09:31:05.962367Z",
     "shell.execute_reply": "2024-05-06T09:31:05.960928Z"
    },
    "papermill": {
     "duration": 0.053011,
     "end_time": "2024-05-06T09:31:05.964245",
     "exception": false,
     "start_time": "2024-05-06T09:31:05.911234",
     "status": "completed"
    },
    "tags": []
   },
   "outputs": [
    {
     "name": "stdout",
     "output_type": "stream",
     "text": [
      "Classes: ['Blurr or multiple categories (no music signs)', 'Erasure', 'Key(s) (whole(s) or nearly)', 'Manuscript Text', 'More categories (with at least one musical sign)', 'Multiple notes or chords', 'Other (without musical markings)', 'Page border', 'Printed Text', 'Remaining', 'Single note (with at least the head)']\n"
     ]
    }
   ],
   "source": [
    "#hyper params\n",
    "dataset_path = './data/multiclass_dataset/'\n",
    "\n",
    "bs = 64\n",
    "test_size = 0.15  # Test set size (20%)\n",
    "val_size = 0.2   # Validation set size (25%)\n",
    "num_epoch = 500\n",
    "patience = 20\n",
    "classes = sorted(os.listdir(Path(dataset_path) / 'data')) #arranged in order of their placement in the folder\n",
    "num_classes = len(classes)\n",
    "print(\"Classes:\", classes)"
   ]
  },
  {
   "cell_type": "code",
   "execution_count": 3,
   "id": "c771cd8e",
   "metadata": {
    "editable": true,
    "execution": {
     "iopub.execute_input": "2024-05-06T09:31:05.975227Z",
     "iopub.status.busy": "2024-05-06T09:31:05.974540Z",
     "iopub.status.idle": "2024-05-06T09:31:06.005597Z",
     "shell.execute_reply": "2024-05-06T09:31:06.004623Z"
    },
    "papermill": {
     "duration": 0.038497,
     "end_time": "2024-05-06T09:31:06.007129",
     "exception": false,
     "start_time": "2024-05-06T09:31:05.968632",
     "status": "completed"
    },
    "slideshow": {
     "slide_type": ""
    },
    "tags": []
   },
   "outputs": [],
   "source": [
    "def transform_denoise(image):\n",
    "    # Denoising transformation (replace with your denoising algorithm)\n",
    "    # Example: Apply Gaussian blur with a kernel size of 3\n",
    "    denoised_image = transforms.functional.gaussian_blur(image, kernel_size=3,sigma=1.5)\n",
    "    return denoised_image\n",
    "\n",
    "def transform_enhance(image):\n",
    "    # Image enhancement transformation (replace with your enhancement algorithm)\n",
    "    # Example: Apply contrast enhancement\n",
    "    enhanced_image = transforms.functional.adjust_contrast(image, contrast_factor=1.5)\n",
    "    return enhanced_image"
   ]
  },
  {
   "cell_type": "code",
   "execution_count": 4,
   "id": "338e5b0e-59b4-4bdc-96dc-772b585bb303",
   "metadata": {
    "execution": {
     "iopub.execute_input": "2024-05-06T09:31:06.017745Z",
     "iopub.status.busy": "2024-05-06T09:31:06.017404Z",
     "iopub.status.idle": "2024-05-06T09:31:06.058250Z",
     "shell.execute_reply": "2024-05-06T09:31:06.057622Z"
    },
    "jupyter": {
     "source_hidden": true
    },
    "papermill": {
     "duration": 0.048634,
     "end_time": "2024-05-06T09:31:06.060280",
     "exception": false,
     "start_time": "2024-05-06T09:31:06.011646",
     "status": "completed"
    },
    "tags": []
   },
   "outputs": [],
   "source": [
    "class DatasetFromSubset(Dataset):\n",
    "    def __init__(self, subset, transform=None):\n",
    "        self.subset = subset\n",
    "        self.transform = transform\n",
    "\n",
    "    def __getitem__(self, index):\n",
    "        x, y = self.subset[index]\n",
    "        if self.transform:\n",
    "            x = self.transform(x)\n",
    "        return x, y\n",
    "\n",
    "    def __len__(self):\n",
    "        return len(self.subset)"
   ]
  },
  {
   "cell_type": "code",
   "execution_count": 5,
   "id": "35a78336-04ee-4ce6-b01b-cce532f30279",
   "metadata": {
    "execution": {
     "iopub.execute_input": "2024-05-06T09:31:06.079738Z",
     "iopub.status.busy": "2024-05-06T09:31:06.079324Z",
     "iopub.status.idle": "2024-05-06T09:31:06.115791Z",
     "shell.execute_reply": "2024-05-06T09:31:06.114969Z"
    },
    "jupyter": {
     "source_hidden": true
    },
    "papermill": {
     "duration": 0.049,
     "end_time": "2024-05-06T09:31:06.119168",
     "exception": false,
     "start_time": "2024-05-06T09:31:06.070168",
     "status": "completed"
    },
    "tags": []
   },
   "outputs": [],
   "source": [
    "def subsample(subset, size=2998):\n",
    "    # Get the labels for the dataset\n",
    "    labels = np.asarray(subset.dataset.imgs)[:, 1][subset.indices]\n",
    "    \n",
    "    # Count the number of samples per class\n",
    "    class_counts = defaultdict(int)\n",
    "    for label in labels:\n",
    "        class_counts[label] += 1\n",
    "\n",
    "    # Calculate m\n",
    "    m = min(class_counts.values())\n",
    "\n",
    "    # Create a new subset of the dataset\n",
    "    indices = []\n",
    "    new_class_counts = defaultdict(int)\n",
    "    for i in range(len(subset)):\n",
    "        label = labels[i]\n",
    "        if new_class_counts[label] < m:\n",
    "            indices.append(i)\n",
    "            new_class_counts[label] += 1\n",
    "\n",
    "    return Subset(subset, indices)"
   ]
  },
  {
   "cell_type": "code",
   "execution_count": 6,
   "id": "40607c8e",
   "metadata": {
    "execution": {
     "iopub.execute_input": "2024-05-06T09:31:06.144475Z",
     "iopub.status.busy": "2024-05-06T09:31:06.144086Z",
     "iopub.status.idle": "2024-05-06T09:31:06.173358Z",
     "shell.execute_reply": "2024-05-06T09:31:06.172724Z"
    },
    "jupyter": {
     "source_hidden": true
    },
    "papermill": {
     "duration": 0.042475,
     "end_time": "2024-05-06T09:31:06.176168",
     "exception": false,
     "start_time": "2024-05-06T09:31:06.133693",
     "status": "completed"
    },
    "tags": []
   },
   "outputs": [],
   "source": [
    "def get_dataset(path,val_split,test_split):\n",
    "    transform_train = transforms.Compose([\n",
    "                                        transforms.Resize((256, 256)),\n",
    "                                        transforms.Lambda(lambda x: transform_denoise(x)),\n",
    "                                        transforms.Lambda(lambda x: transform_enhance(x)),\n",
    "                                        transforms.RandomHorizontalFlip(),\n",
    "                                        transforms.RandomRotation(degrees=10),\n",
    "                                        transforms.RandomCrop(size=256),\n",
    "                                        transforms.ColorJitter(brightness=0.25, contrast=0.25, saturation=0.25),\n",
    "                                        transforms.ToTensor(),\n",
    "                                        transforms.Normalize([0.485, 0.456, 0.406], [0.229, 0.224, 0.225])\n",
    "                                        ])\n",
    "    transform_test = transforms.Compose([\n",
    "                                        transforms.Resize((256, 256)),\n",
    "                                        transforms.Lambda(lambda x: transform_denoise(x)),\n",
    "                                        transforms.Lambda(lambda x: transform_enhance(x)),\n",
    "                                        transforms.ToTensor(),\n",
    "                                        transforms.Normalize([0.485, 0.456, 0.406], [0.229, 0.224, 0.225])\n",
    "                                        ])\n",
    "\n",
    "    dataset = datasets.ImageFolder(path)    \n",
    "    trainset,valset,testset = stratified(dataset)\n",
    "\n",
    "    trainset = DatasetFromSubset(trainset, transform=transform_train)\n",
    "    valset = DatasetFromSubset(valset, transform=transform_test)\n",
    "    testset = DatasetFromSubset(testset, transform=transform_test)\n",
    "    \n",
    "    print(\"train :\",len(trainset),\"val :\",len(valset),\"test :\",len(testset))\n",
    "    \n",
    "    return trainset,valset,testset\n"
   ]
  },
  {
   "cell_type": "code",
   "execution_count": 7,
   "id": "b40e7a66",
   "metadata": {
    "execution": {
     "iopub.execute_input": "2024-05-06T09:31:06.196728Z",
     "iopub.status.busy": "2024-05-06T09:31:06.196283Z",
     "iopub.status.idle": "2024-05-06T09:31:06.231170Z",
     "shell.execute_reply": "2024-05-06T09:31:06.230547Z"
    },
    "papermill": {
     "duration": 0.047609,
     "end_time": "2024-05-06T09:31:06.234476",
     "exception": false,
     "start_time": "2024-05-06T09:31:06.186867",
     "status": "completed"
    },
    "tags": []
   },
   "outputs": [],
   "source": [
    "def write_indices(indices, images, name):\n",
    "    file_list = np.asarray(images)[indices]\n",
    "\n",
    "    with open(Path(dataset_path) / (name + '.txt'), 'w') as f:\n",
    "        f.writelines(file_list)\n",
    "\n",
    "\n",
    "def stratified(dataset):\n",
    "    # Get the labels and targets from the dataset\n",
    "    labels = np.asarray(dataset.imgs)[:, 1]\n",
    "\n",
    "    stratified_split = StratifiedShuffleSplit(n_splits=1, test_size=test_size, random_state=42)\n",
    "    train_val_indices, test_indices = next(stratified_split.split(np.zeros(len(labels)), labels))\n",
    "\n",
    "    train_val_dataset = torch.utils.data.Subset(dataset, train_val_indices)\n",
    "    testset = torch.utils.data.Subset(dataset, test_indices)\n",
    "\n",
    "    # write down the splits\n",
    "    imgs = [img[0] + '\\n' for img in dataset.imgs]\n",
    "    write_indices(train_val_indices, imgs, \"train_images\")\n",
    "    write_indices(test_indices, imgs, \"test_images\")\n",
    "    with open(Path(dataset_path) / \"all_images.txt\", \"w\") as f:\n",
    "        f.writelines(imgs)\n",
    "\n",
    "    # balance the train set\n",
    "    train_val_dataset = subsample(train_val_dataset)\n",
    "    \n",
    "    # Further split the train-val dataset into train and validation sets\n",
    "    stratified_split = StratifiedShuffleSplit(n_splits=1, test_size=val_size, random_state=42)\n",
    "    train_indices, val_indices = next(stratified_split.split(train_val_dataset, labels[train_val_indices][train_val_dataset.indices]))\n",
    "\n",
    "    trainset = torch.utils.data.Subset(train_val_dataset, train_indices)\n",
    "    valset = torch.utils.data.Subset(train_val_dataset, val_indices)\n",
    "\n",
    "    return trainset,valset,testset"
   ]
  },
  {
   "cell_type": "code",
   "execution_count": 8,
   "id": "83bb72f8-7200-4a9e-ba8a-d1644ce63e27",
   "metadata": {
    "execution": {
     "iopub.execute_input": "2024-05-06T09:31:06.257983Z",
     "iopub.status.busy": "2024-05-06T09:31:06.257536Z",
     "iopub.status.idle": "2024-05-06T09:31:06.296649Z",
     "shell.execute_reply": "2024-05-06T09:31:06.295095Z"
    },
    "papermill": {
     "duration": 0.052283,
     "end_time": "2024-05-06T09:31:06.299873",
     "exception": false,
     "start_time": "2024-05-06T09:31:06.247590",
     "status": "completed"
    },
    "tags": []
   },
   "outputs": [],
   "source": [
    "# trainset, valset, testset = get_dataset(Path(dataset_path) / 'data', val_size, test_size)"
   ]
  },
  {
   "cell_type": "code",
   "execution_count": 9,
   "id": "b47ff9f2-a618-42e7-9aa1-6494c3770eb6",
   "metadata": {
    "execution": {
     "iopub.execute_input": "2024-05-06T09:31:06.322808Z",
     "iopub.status.busy": "2024-05-06T09:31:06.322266Z",
     "iopub.status.idle": "2024-05-06T09:31:06.365420Z",
     "shell.execute_reply": "2024-05-06T09:31:06.363847Z"
    },
    "papermill": {
     "duration": 0.05727,
     "end_time": "2024-05-06T09:31:06.368761",
     "exception": false,
     "start_time": "2024-05-06T09:31:06.311491",
     "status": "completed"
    },
    "tags": []
   },
   "outputs": [],
   "source": [
    "def entropy(tensor):\n",
    "    probabilities = torch.softmax(tensor, dim=1)\n",
    "    log_prob = torch.log2(torch.min(torch.ones_like(probabilities), probabilities + 1e-10)) / math.log2(tensor.shape[-1])\n",
    "    return -torch.sum(probabilities * log_prob, dim=1)"
   ]
  },
  {
   "cell_type": "code",
   "execution_count": 10,
   "id": "d54100a7-426f-4c7e-8a85-b67245ec923a",
   "metadata": {
    "execution": {
     "iopub.execute_input": "2024-05-06T09:31:06.393077Z",
     "iopub.status.busy": "2024-05-06T09:31:06.392383Z",
     "iopub.status.idle": "2024-05-06T09:31:06.448470Z",
     "shell.execute_reply": "2024-05-06T09:31:06.447064Z"
    },
    "papermill": {
     "duration": 0.070305,
     "end_time": "2024-05-06T09:31:06.451759",
     "exception": false,
     "start_time": "2024-05-06T09:31:06.381454",
     "status": "completed"
    },
    "tags": []
   },
   "outputs": [],
   "source": [
    "def train_model(trainset,valset, model, criterion, optimizer, num_epochs, bs):\n",
    "    dataloaders_strong = {\n",
    "        'train': data.DataLoader(trainset, batch_size=bs, shuffle=True),\n",
    "        'val': data.DataLoader(valset, batch_size=bs, shuffle=True)\n",
    "    }\n",
    "    scheduler = optim.lr_scheduler.OneCycleLR(optimizer, epochs=num_epoch, steps_per_epoch=len(dataloaders_strong['train']), max_lr=0.01)\n",
    "    dataset_sizes_strong = {'train': len(trainset), 'val': len(valset)}\n",
    "    since = time.time()\n",
    "\n",
    "    best_model_wts = copy.deepcopy(model.state_dict())\n",
    "    best_acc = 0.0\n",
    "    best_loss = np.inf\n",
    "    \n",
    "    epochs_without_improvement = 0  # Reset the counter since there is improvement\n",
    "\n",
    "    # Lists to store entropy values for each epoch\n",
    "    entropy_values_train = []\n",
    "    entropy_values_val = []\n",
    "    # Lists to store loss of each epoch\n",
    "    E_loss_train = []\n",
    "    E_loss_val = []\n",
    "    E_accuracy_train = []\n",
    "    E_accuracy_val = []\n",
    "    # Lists to store balanced accuracy for training and validation phases\n",
    "    balanced_acc_train = []\n",
    "    balanced_acc_val = []\n",
    "\n",
    "    for epoch in range(num_epochs):\n",
    "        print('Epoch {}/{}'.format(epoch, num_epochs - 1))\n",
    "        print('-' * 10)\n",
    "        c = 0\n",
    "\n",
    "        # Each epoch has a training and validation phase\n",
    "        for phase in ['train', 'val']:\n",
    "            all_labels = []\n",
    "            all_preds = []\n",
    "            if phase == 'train':\n",
    "                model.train()  # Set model to training mode\n",
    "            else:\n",
    "                model.eval()   # Set model to evaluate mode\n",
    "                        \n",
    "            running_loss = 0.0\n",
    "            running_corrects = 0\n",
    "            epoch_entropy = 0.0  # Variable to store epoch entropy\n",
    "\n",
    "            # Iterate over data.\n",
    "            for inputs, labels in tqdm(dataloaders_strong[phase], \"Running \" + phase):\n",
    "                inputs = inputs.to(device)                \n",
    "                labels = labels.to(device)\n",
    "\n",
    "                # zero the parameter gradients\n",
    "                optimizer.zero_grad()\n",
    "\n",
    "                # forward\n",
    "                # track history if only in train\n",
    "                with torch.set_grad_enabled(phase == 'train'):\n",
    "                    outputs = model(inputs)\n",
    "                    _, preds = torch.max(outputs, 1)\n",
    "\n",
    "                    loss = criterion(outputs, labels)\n",
    "                    # Calculate balanced accuracy only if all unique predicted classes are present in true labels\n",
    "                    with warnings.catch_warnings():\n",
    "                        warnings.filterwarnings(\"ignore\", category=UserWarning)\n",
    "                        \n",
    "                    all_labels.extend(labels.cpu().tolist())\n",
    "                    all_preds.extend(preds.cpu().tolist())\n",
    "\n",
    "                    # Backpropagation and optimization\n",
    "                    if phase == 'train':\n",
    "                        loss.backward()\n",
    "                        optimizer.step()   \n",
    "                        scheduler.step()               \n",
    "                    \n",
    "                # statistics\n",
    "                running_loss += loss.item() * inputs.size(0)\n",
    "                running_corrects += torch.sum(preds == labels.data)\n",
    "\n",
    "                # Calculate entropy for each batch and accumulate for epoch entropy\n",
    "                e = entropy(outputs)\n",
    "                epoch_entropy += torch.sum(e)\n",
    "\n",
    "            \n",
    "            if phase == 'train':\n",
    "                epoch_loss = running_loss / dataset_sizes_strong[phase]\n",
    "                epoch_acc = running_corrects.double() / dataset_sizes_strong[phase]\n",
    "                epoch_entropy /= dataset_sizes_strong[phase] # Calculate average epoch entropy\n",
    "            else:\n",
    "                epoch_loss = running_loss / (dataset_sizes_strong[phase]-c)\n",
    "                epoch_acc = running_corrects.double() / (dataset_sizes_strong[phase]-c)\n",
    "                epoch_entropy /= (dataset_sizes_strong[phase]-c) # Calculate average epoch entropy\n",
    "\n",
    "                \n",
    "                # print('Number of skipped:', c)\n",
    "                # print()\n",
    "            \n",
    "\n",
    "            print('{} Loss: {:.4f} Acc: {:.4f}'.format(phase, epoch_loss, epoch_acc))\n",
    "            print('{} Epoch Entropy: {:.4f}'.format(phase, epoch_entropy.item()))\n",
    "            print()\n",
    "\n",
    "            if phase == 'train':\n",
    "                entropy_values_train.append(epoch_entropy.cpu().item())\n",
    "                E_loss_train.append(epoch_loss)\n",
    "                E_accuracy_train.append(epoch_acc.cpu().item())\n",
    "            else:\n",
    "                entropy_values_val.append(epoch_entropy.cpu().item())\n",
    "                E_loss_val.append(epoch_loss)\n",
    "                E_accuracy_val.append(epoch_acc.cpu().item())\n",
    "                      \n",
    "            # Deep copy the model if the validation accuracy improves\n",
    "            if phase == 'val' and epoch_loss < best_loss:\n",
    "                best_loss = epoch_loss\n",
    "                best_model_wts = copy.deepcopy(model.state_dict())\n",
    "                best_epoch_val = epoch\n",
    "                best_acc = epoch_acc\n",
    "                \n",
    "                \n",
    "            # Early stopping criteria\n",
    "            if phase == 'val' and epoch_loss <= 1e-7:\n",
    "                    print('Loss reached 0...')\n",
    "                    return (\n",
    "                        model,\n",
    "                        entropy_values_train,\n",
    "                        entropy_values_val,\n",
    "                        E_loss_train,\n",
    "                        E_loss_val,\n",
    "                        E_accuracy_train,\n",
    "                        E_accuracy_val\n",
    "                    ) \n",
    "                    \n",
    "            if phase == 'val' and epoch > 0:\n",
    "\n",
    "                if epoch_loss >= best_loss:\n",
    "                    epochs_without_improvement += 1\n",
    "                else:\n",
    "                    epochs_without_improvement = 0\n",
    "\n",
    "                if epochs_without_improvement >= patience:\n",
    "                    print('Early stopping due to no improvement in validation loss.')\n",
    "                    return (\n",
    "                        model,\n",
    "                        entropy_values_train,\n",
    "                        entropy_values_val,\n",
    "                        E_loss_train,\n",
    "                        E_loss_val,\n",
    "                        E_accuracy_train,\n",
    "                        E_accuracy_val\n",
    "                    )                 \n",
    "\n",
    "    time_elapsed = time.time() - since\n",
    "    print('Training complete in {:.0f}m {:.0f}s'.format(\n",
    "        time_elapsed // 60, time_elapsed % 60))\n",
    "    print('Best val Acc: {:4f}'.format(best_acc))\n",
    "    print('Best Val Acc. was achieved at epoch', best_epoch_val)\n",
    "    # Load best model weights\n",
    "    model.load_state_dict(best_model_wts)\n",
    "\n",
    "    return (\n",
    "        model,\n",
    "        entropy_values_train,\n",
    "        entropy_values_val,\n",
    "        E_loss_train,\n",
    "        E_loss_val,\n",
    "        E_accuracy_train,\n",
    "        E_accuracy_val\n",
    "    )\n",
    "  "
   ]
  },
  {
   "cell_type": "code",
   "execution_count": 11,
   "id": "66509907-64e6-4e31-a287-5c6dd90837d3",
   "metadata": {
    "execution": {
     "iopub.execute_input": "2024-05-06T09:31:06.477220Z",
     "iopub.status.busy": "2024-05-06T09:31:06.476778Z",
     "iopub.status.idle": "2024-05-06T09:31:06.515670Z",
     "shell.execute_reply": "2024-05-06T09:31:06.514559Z"
    },
    "papermill": {
     "duration": 0.05337,
     "end_time": "2024-05-06T09:31:06.519268",
     "exception": false,
     "start_time": "2024-05-06T09:31:06.465898",
     "status": "completed"
    },
    "tags": []
   },
   "outputs": [],
   "source": [
    "def test_model(model, testset):\n",
    "    running_corrects = 0\n",
    "    testloader = data.DataLoader(testset, batch_size=bs, shuffle=True)\n",
    "    all_labels = []\n",
    "    all_preds = []\n",
    "    all_confidences = []\n",
    "    c = 0\n",
    "    confidence_scores_distribution = []\n",
    "    model.eval()\n",
    "    \n",
    "    for inputs, labels in tqdm(testloader):\n",
    "        inputs = inputs.to(device)\n",
    "        labels = labels.to(device)\n",
    "\n",
    "        with torch.set_grad_enabled(False):\n",
    "            outputs = model(inputs)\n",
    "            _, preds = torch.max(outputs, 1)\n",
    "\n",
    "            # Calculate confidence score for each sample in the batch\n",
    "            confidence_scores = 1 - entropy(outputs)\n",
    "                \n",
    "            # running_corrects += torch.sum(preds == labels.data)\n",
    "            all_labels.extend(labels.cpu().tolist())\n",
    "            all_preds.extend(preds.cpu().tolist())\n",
    "            all_confidences.extend(confidence_scores.cpu().tolist())\n",
    "\n",
    "    return np.asarray(all_labels), np.asarray(all_preds), np.asarray(all_confidences)"
   ]
  },
  {
   "cell_type": "code",
   "execution_count": 12,
   "id": "47d8553c",
   "metadata": {
    "execution": {
     "iopub.execute_input": "2024-05-06T09:31:06.543132Z",
     "iopub.status.busy": "2024-05-06T09:31:06.542583Z",
     "iopub.status.idle": "2024-05-06T09:31:06.580947Z",
     "shell.execute_reply": "2024-05-06T09:31:06.579429Z"
    },
    "papermill": {
     "duration": 0.051185,
     "end_time": "2024-05-06T09:31:06.583648",
     "exception": false,
     "start_time": "2024-05-06T09:31:06.532463",
     "status": "completed"
    },
    "tags": []
   },
   "outputs": [],
   "source": [
    "def set_parameter_requires_grad(model, requires_grad=True):\n",
    "    for param in model.parameters():\n",
    "        param.requires_grad = requires_grad"
   ]
  },
  {
   "cell_type": "code",
   "execution_count": 13,
   "id": "7c7968e2",
   "metadata": {
    "execution": {
     "iopub.execute_input": "2024-05-06T09:31:06.607234Z",
     "iopub.status.busy": "2024-05-06T09:31:06.606747Z",
     "iopub.status.idle": "2024-05-06T09:31:06.648429Z",
     "shell.execute_reply": "2024-05-06T09:31:06.646851Z"
    },
    "papermill": {
     "duration": 0.056035,
     "end_time": "2024-05-06T09:31:06.652141",
     "exception": false,
     "start_time": "2024-05-06T09:31:06.596106",
     "status": "completed"
    },
    "tags": []
   },
   "outputs": [],
   "source": [
    "def initialize_model(model_name, num_classes, use_pretrained=True):\n",
    "    model_ft = None\n",
    "    input_size = 256\n",
    "\n",
    "    if model_name == \"resnet\":\n",
    "        # Resnet50\n",
    "        model_ft = models.resnet50(pretrained=use_pretrained)\n",
    "        set_parameter_requires_grad(model_ft, requires_grad=True)\n",
    "        model_ft.fc = nn.Linear(model_ft.fc.in_features, num_classes)\n",
    "        \n",
    "\n",
    "    elif model_name == \"vgg\":\n",
    "        # VGG16_bn\n",
    "        model_ft = models.vgg16_bn(pretrained=use_pretrained)\n",
    "        set_parameter_requires_grad(model_ft, requires_grad=True)\n",
    "        model_ft.classifier[6] = nn.Linear(4096, num_classes)\n",
    "\n",
    "    elif model_name == \"googlenet\":\n",
    "        # GoogLeNet\n",
    "        model_ft = torchvision.models.googlenet(pretrained=use_pretrained)\n",
    "        set_parameter_requires_grad(model_ft, requires_grad=True)\n",
    "        model_ft.fc = nn.Linear(1024, num_classes)\n",
    "\n",
    "    elif model_name == \"densenet\":\n",
    "        # Densenet\n",
    "        model_ft = models.densenet121(pretrained=use_pretrained)\n",
    "        set_parameter_requires_grad(model_ft, requires_grad=True)\n",
    "        model_ft.classifier = nn.Linear(1024, num_classes)\n",
    "\n",
    "    else:\n",
    "        print(\"Invalid model name, exiting...\")\n",
    "        exit()\n",
    "\n",
    "    return model_ft, input_size\n"
   ]
  },
  {
   "cell_type": "code",
   "execution_count": 14,
   "id": "2ed233be",
   "metadata": {
    "execution": {
     "iopub.execute_input": "2024-05-06T09:31:06.674525Z",
     "iopub.status.busy": "2024-05-06T09:31:06.673821Z",
     "iopub.status.idle": "2024-05-06T09:31:06.743662Z",
     "shell.execute_reply": "2024-05-06T09:31:06.742631Z"
    },
    "jupyter": {
     "source_hidden": true
    },
    "papermill": {
     "duration": 0.083203,
     "end_time": "2024-05-06T09:31:06.747106",
     "exception": false,
     "start_time": "2024-05-06T09:31:06.663903",
     "status": "completed"
    },
    "scrolled": true,
    "tags": []
   },
   "outputs": [
    {
     "name": "stdout",
     "output_type": "stream",
     "text": [
      "Device: cuda:0\n"
     ]
    }
   ],
   "source": [
    "# Detect if we have a GPU available\n",
    "device = torch.device(\"cuda:0\" if torch.cuda.is_available() else \"cpu\")\n",
    "print(\"Device:\", device)\n"
   ]
  },
  {
   "cell_type": "code",
   "execution_count": 15,
   "id": "584f8883",
   "metadata": {
    "execution": {
     "iopub.execute_input": "2024-05-06T09:31:06.772659Z",
     "iopub.status.busy": "2024-05-06T09:31:06.772048Z",
     "iopub.status.idle": "2024-05-06T09:31:06.821953Z",
     "shell.execute_reply": "2024-05-06T09:31:06.820965Z"
    },
    "jupyter": {
     "source_hidden": true
    },
    "papermill": {
     "duration": 0.064383,
     "end_time": "2024-05-06T09:31:06.825574",
     "exception": false,
     "start_time": "2024-05-06T09:31:06.761191",
     "status": "completed"
    },
    "tags": []
   },
   "outputs": [],
   "source": [
    "def plot_distribution_by_class(subset):\n",
    "    if isinstance(subset.subset.dataset, Subset):\n",
    "        # validation and train sets\n",
    "        data_ = subset.subset.dataset.dataset.dataset\n",
    "        labels = np.asarray(data_.imgs)[subset.subset.dataset.dataset.indices]\n",
    "        labels = labels[subset.subset.dataset.indices]\n",
    "        labels = labels[subset.subset.indices, 1]\n",
    "    else:\n",
    "        # test set (two subsets less)\n",
    "        data_ = subset.subset.dataset\n",
    "        labels = np.asarray(data_.imgs)[subset.subset.indices, 1]\n",
    "        \n",
    "    classes = data_.classes\n",
    "    labels, count = np.unique(np.asarray(labels), return_counts=True)\n",
    "    labels = np.asarray([classes[int(i)] for i in labels])\n",
    "\n",
    "    plt.figure(figsize=(10, 6))  # Set the size of the figure\n",
    "\n",
    "    x = np.arange(len(labels))  # Generate an array of class indices\n",
    "    plt.bar(x, count)\n",
    "    plt.xticks(x, labels, rotation=45, ha='right')  # Set custom x-axis tick positions and labels\n",
    "    plt.xlabel(\"Classes\")\n",
    "    plt.ylabel(\"Count\")\n",
    "    plt.title(\"Class Count\")\n",
    "    plt.show()"
   ]
  },
  {
   "cell_type": "code",
   "execution_count": 16,
   "id": "db923780",
   "metadata": {
    "execution": {
     "iopub.execute_input": "2024-05-06T09:31:06.851433Z",
     "iopub.status.busy": "2024-05-06T09:31:06.851027Z",
     "iopub.status.idle": "2024-05-06T09:31:09.566234Z",
     "shell.execute_reply": "2024-05-06T09:31:09.565209Z"
    },
    "papermill": {
     "duration": 2.729605,
     "end_time": "2024-05-06T09:31:09.569829",
     "exception": false,
     "start_time": "2024-05-06T09:31:06.840224",
     "status": "completed"
    },
    "tags": []
   },
   "outputs": [
    {
     "name": "stdout",
     "output_type": "stream",
     "text": [
      "train : 22624 val : 5657 test : 29724\n"
     ]
    }
   ],
   "source": [
    "# Separate the train, val, and test sets\n",
    "trainset,valset,testset = get_dataset(Path(dataset_path) / 'data', val_size, test_size)"
   ]
  },
  {
   "cell_type": "code",
   "execution_count": 17,
   "id": "5997bcf0",
   "metadata": {
    "execution": {
     "iopub.execute_input": "2024-05-06T09:31:09.594961Z",
     "iopub.status.busy": "2024-05-06T09:31:09.594398Z",
     "iopub.status.idle": "2024-05-06T09:31:11.002532Z",
     "shell.execute_reply": "2024-05-06T09:31:11.001938Z"
    },
    "papermill": {
     "duration": 1.421252,
     "end_time": "2024-05-06T09:31:11.005202",
     "exception": false,
     "start_time": "2024-05-06T09:31:09.583950",
     "status": "completed"
    },
    "tags": []
   },
   "outputs": [
    {
     "data": {
      "image/png": "[encoded data removed]",
      "text/plain": [
       "<Figure size 720x432 with 1 Axes>"
      ]
     },
     "metadata": {
      "needs_background": "light"
     },
     "output_type": "display_data"
    },
    {
     "data": {
      "image/png": "[encoded data removed]",
      "text/plain": [
       "<Figure size 720x432 with 1 Axes>"
      ]
     },
     "metadata": {
      "needs_background": "light"
     },
     "output_type": "display_data"
    },
    {
     "data": {
      "image/png": "[encoded data removed]",
      "text/plain": [
       "<Figure size 720x432 with 1 Axes>"
      ]
     },
     "metadata": {
      "needs_background": "light"
     },
     "output_type": "display_data"
    }
   ],
   "source": [
    "plot_distribution_by_class(trainset)\n",
    "plot_distribution_by_class(valset)\n",
    "plot_distribution_by_class(testset)"
   ]
  },
  {
   "cell_type": "code",
   "execution_count": 18,
   "id": "c0723c22-be40-4ddd-b86e-0488f4ed0a79",
   "metadata": {
    "execution": {
     "iopub.execute_input": "2024-05-06T09:31:11.026608Z",
     "iopub.status.busy": "2024-05-06T09:31:11.026204Z",
     "iopub.status.idle": "2024-05-06T09:31:11.056477Z",
     "shell.execute_reply": "2024-05-06T09:31:11.055522Z"
    },
    "papermill": {
     "duration": 0.042262,
     "end_time": "2024-05-06T09:31:11.058616",
     "exception": false,
     "start_time": "2024-05-06T09:31:11.016354",
     "status": "completed"
    },
    "tags": []
   },
   "outputs": [],
   "source": [
    "# Setup the loss function\n",
    "criterion = nn.CrossEntropyLoss()"
   ]
  },
  {
   "cell_type": "code",
   "execution_count": 19,
   "id": "14c50fe9-b336-4f34-9de3-fa5c8c4c5d95",
   "metadata": {
    "editable": true,
    "execution": {
     "iopub.execute_input": "2024-05-06T09:31:11.079290Z",
     "iopub.status.busy": "2024-05-06T09:31:11.078846Z",
     "iopub.status.idle": "2024-05-06T09:31:11.119597Z",
     "shell.execute_reply": "2024-05-06T09:31:11.118954Z"
    },
    "papermill": {
     "duration": 0.054,
     "end_time": "2024-05-06T09:31:11.122710",
     "exception": false,
     "start_time": "2024-05-06T09:31:11.068710",
     "status": "completed"
    },
    "slideshow": {
     "slide_type": ""
    },
    "tags": []
   },
   "outputs": [],
   "source": [
    "def train_model_name(model_name):\n",
    "    print(model_name)\n",
    "    # Initialize the model\n",
    "    model, input_size = initialize_model(model_name, num_classes, use_pretrained=True)\n",
    "    \n",
    "    \n",
    "    # Send model to GPU, if available\n",
    "    model = model.to(device)\n",
    "    \n",
    "    # Observe that all parameters are being optimized\n",
    "    optimizer = optim.SGD(model.parameters())\n",
    "    model, entropy_values_train, entropy_values_val, E_loss_train, E_loss_val, E_accuracy_train,E_accuracy_val = train_model(\n",
    "        trainset,valset,model, criterion, optimizer, num_epoch, bs)\n",
    "\n",
    "        \n",
    "    # Plot entropy values\n",
    "    plt.figure()\n",
    "    plt.plot(entropy_values_train, label='Train')\n",
    "    plt.plot(entropy_values_val, label='Validation')\n",
    "    plt.xlabel('Epoch')\n",
    "    plt.ylabel('Entropy')\n",
    "    plt.title('Entropy Trend')\n",
    "    plt.legend()\n",
    "    plt.show()\n",
    "    \n",
    "    # Plot loss values\n",
    "    plt.figure()\n",
    "    plt.plot(E_loss_train, label='Train')\n",
    "    plt.plot(E_loss_val, label='Validation')\n",
    "    plt.xlabel('Epoch')\n",
    "    plt.ylabel('Loss')\n",
    "    plt.title('Loss Trend')\n",
    "    plt.legend()\n",
    "    plt.show()\n",
    "    \n",
    "    # Plot balanced loss values\n",
    "    plt.figure()\n",
    "    plt.plot(E_accuracy_train, label='Train')\n",
    "    plt.plot(E_accuracy_val, label='Validation')\n",
    "    plt.xlabel('Epoch')\n",
    "    plt.ylabel('Accuracy')\n",
    "    plt.title('Accuracy Trend')\n",
    "    plt.legend()\n",
    "    plt.show()\n",
    "\n",
    "    return model"
   ]
  },
  {
   "cell_type": "code",
   "execution_count": 20,
   "id": "467e3b95",
   "metadata": {
    "editable": true,
    "execution": {
     "iopub.execute_input": "2024-05-06T09:31:11.149178Z",
     "iopub.status.busy": "2024-05-06T09:31:11.148676Z"
    },
    "papermill": {
     "duration": null,
     "end_time": null,
     "exception": false,
     "start_time": "2024-05-06T09:31:11.138165",
     "status": "running"
    },
    "scrolled": true,
    "slideshow": {
     "slide_type": ""
    },
    "tags": []
   },
   "outputs": [
    {
     "name": "stdout",
     "output_type": "stream",
     "text": [
      "densenet\n"
     ]
    },
    {
     "name": "stderr",
     "output_type": "stream",
     "text": [
      "/home/federico/omr/__pypackages__/3.9/lib/torchvision/models/_utils.py:208: UserWarning: The parameter 'pretrained' is deprecated since 0.13 and may be removed in the future, please use 'weights' instead.\n",
      "  warnings.warn(\n",
      "/home/federico/omr/__pypackages__/3.9/lib/torchvision/models/_utils.py:223: UserWarning: Arguments other than a weight enum or `None` for 'weights' are deprecated since 0.13 and may be removed in the future. The current behavior is equivalent to passing `weights=DenseNet121_Weights.IMAGENET1K_V1`. You can also use `weights=DenseNet121_Weights.DEFAULT` to get the most up-to-date weights.\n",
      "  warnings.warn(msg)\n"
     ]
    },
    {
     "name": "stdout",
     "output_type": "stream",
     "text": [
      "Epoch 0/499\n",
      "----------\n"
     ]
    },
    {
     "name": "stderr",
     "output_type": "stream",
     "text": [
      "\r",
      "Running train:   0%|                                                                                                                   | 0/354 [00:00<?, ?it/s]"
     ]
    },
    {
     "name": "stderr",
     "output_type": "stream",
     "text": [
      "\r",
      "Running train:   0%|▎                                                                                                          | 1/354 [00:01<06:34,  1.12s/it]"
     ]
    },
    {
     "name": "stderr",
     "output_type": "stream",
     "text": [
      "\r",
      "Running train:   1%|▌                                                                                                          | 2/354 [00:01<05:00,  1.17it/s]"
     ]
    },
    {
     "name": "stderr",
     "output_type": "stream",
     "text": [
      "\r",
      "Running train:   1%|▉                                                                                                          | 3/354 [00:02<04:28,  1.31it/s]"
     ]
    },
    {
     "name": "stderr",
     "output_type": "stream",
     "text": [
      "\r",
      "Running train:   1%|█▏                                                                                                         | 4/354 [00:03<04:12,  1.39it/s]"
     ]
    },
    {
     "name": "stderr",
     "output_type": "stream",
     "text": [
      "\r",
      "Running train:   1%|█▌                                                                                                         | 5/354 [00:03<04:03,  1.43it/s]"
     ]
    },
    {
     "name": "stderr",
     "output_type": "stream",
     "text": [
      "\r",
      "Running train:   2%|█▊                                                                                                         | 6/354 [00:04<03:58,  1.46it/s]"
     ]
    },
    {
     "name": "stderr",
     "output_type": "stream",
     "text": [
      "\r",
      "Running train:   2%|██                                                                                                         | 7/354 [00:05<03:56,  1.47it/s]"
     ]
    },
    {
     "name": "stderr",
     "output_type": "stream",
     "text": [
      "\r",
      "Running train:   2%|██▍                                                                                                        | 8/354 [00:05<03:53,  1.48it/s]"
     ]
    },
    {
     "name": "stderr",
     "output_type": "stream",
     "text": [
      "\r",
      "Running train:   3%|██▋                                                                                                        | 9/354 [00:06<03:52,  1.48it/s]"
     ]
    },
    {
     "name": "stderr",
     "output_type": "stream",
     "text": [
      "\r",
      "Running train:   3%|██▉                                                                                                       | 10/354 [00:07<03:50,  1.49it/s]"
     ]
    },
    {
     "name": "stderr",
     "output_type": "stream",
     "text": [
      "\r",
      "Running train:   3%|███▎                                                                                                      | 11/354 [00:07<03:50,  1.49it/s]"
     ]
    },
    {
     "name": "stderr",
     "output_type": "stream",
     "text": [
      "\r",
      "Running train:   3%|███▌                                                                                                      | 12/354 [00:08<03:49,  1.49it/s]"
     ]
    },
    {
     "name": "stderr",
     "output_type": "stream",
     "text": [
      "\r",
      "Running train:   4%|███▉                                                                                                      | 13/354 [00:09<03:52,  1.46it/s]"
     ]
    },
    {
     "name": "stderr",
     "output_type": "stream",
     "text": [
      "\r",
      "Running train:   4%|████▏                                                                                                     | 14/354 [00:09<03:50,  1.48it/s]"
     ]
    },
    {
     "name": "stderr",
     "output_type": "stream",
     "text": [
      "\r",
      "Running train:   4%|████▍                                                                                                     | 15/354 [00:10<03:46,  1.49it/s]"
     ]
    },
    {
     "name": "stderr",
     "output_type": "stream",
     "text": [
      "\r",
      "Running train:   5%|████▊                                                                                                     | 16/354 [00:11<03:44,  1.50it/s]"
     ]
    },
    {
     "name": "stderr",
     "output_type": "stream",
     "text": [
      "\r",
      "Running train:   5%|█████                                                                                                     | 17/354 [00:11<03:43,  1.51it/s]"
     ]
    },
    {
     "name": "stderr",
     "output_type": "stream",
     "text": [
      "\r",
      "Running train:   5%|█████▍                                                                                                    | 18/354 [00:12<03:43,  1.50it/s]"
     ]
    },
    {
     "name": "stderr",
     "output_type": "stream",
     "text": [
      "\r",
      "Running train:   5%|█████▋                                                                                                    | 19/354 [00:13<03:43,  1.50it/s]"
     ]
    },
    {
     "name": "stderr",
     "output_type": "stream",
     "text": [
      "\r",
      "Running train:   6%|█████▉                                                                                                    | 20/354 [00:13<03:44,  1.49it/s]"
     ]
    },
    {
     "name": "stderr",
     "output_type": "stream",
     "text": [
      "\r",
      "Running train:   6%|██████▎                                                                                                   | 21/354 [00:14<03:44,  1.48it/s]"
     ]
    },
    {
     "name": "stderr",
     "output_type": "stream",
     "text": [
      "\r",
      "Running train:   6%|██████▌                                                                                                   | 22/354 [00:15<03:42,  1.49it/s]"
     ]
    },
    {
     "name": "stderr",
     "output_type": "stream",
     "text": [
      "\r",
      "Running train:   6%|██████▉                                                                                                   | 23/354 [00:15<03:40,  1.50it/s]"
     ]
    },
    {
     "name": "stderr",
     "output_type": "stream",
     "text": [
      "\r",
      "Running train:   7%|███████▏                                                                                                  | 24/354 [00:16<03:39,  1.50it/s]"
     ]
    },
    {
     "name": "stderr",
     "output_type": "stream",
     "text": [
      "\r",
      "Running train:   7%|███████▍                                                                                                  | 25/354 [00:17<03:38,  1.51it/s]"
     ]
    },
    {
     "name": "stderr",
     "output_type": "stream",
     "text": [
      "\r",
      "Running train:   7%|███████▊                                                                                                  | 26/354 [00:17<03:37,  1.51it/s]"
     ]
    },
    {
     "name": "stderr",
     "output_type": "stream",
     "text": [
      "\r",
      "Running train:   8%|████████                                                                                                  | 27/354 [00:18<03:38,  1.49it/s]"
     ]
    },
    {
     "name": "stderr",
     "output_type": "stream",
     "text": [
      "\r",
      "Running train:   8%|████████▍                                                                                                 | 28/354 [00:19<03:37,  1.50it/s]"
     ]
    },
    {
     "name": "stderr",
     "output_type": "stream",
     "text": [
      "\r",
      "Running train:   8%|████████▋                                                                                                 | 29/354 [00:19<03:36,  1.50it/s]"
     ]
    },
    {
     "name": "stderr",
     "output_type": "stream",
     "text": [
      "\r",
      "Running train:   8%|████████▉                                                                                                 | 30/354 [00:20<03:35,  1.51it/s]"
     ]
    },
    {
     "name": "stderr",
     "output_type": "stream",
     "text": [
      "\r",
      "Running train:   9%|█████████▎                                                                                                | 31/354 [00:21<03:40,  1.47it/s]"
     ]
    },
    {
     "name": "stderr",
     "output_type": "stream",
     "text": [
      "\r",
      "Running train:   9%|█████████▌                                                                                                | 32/354 [00:21<03:45,  1.43it/s]"
     ]
    },
    {
     "name": "stderr",
     "output_type": "stream",
     "text": [
      "\r",
      "Running train:   9%|█████████▉                                                                                                | 33/354 [00:22<03:41,  1.45it/s]"
     ]
    },
    {
     "name": "stderr",
     "output_type": "stream",
     "text": [
      "\r",
      "Running train:  10%|██████████▏                                                                                               | 34/354 [00:23<03:38,  1.46it/s]"
     ]
    },
    {
     "name": "stderr",
     "output_type": "stream",
     "text": [
      "\r",
      "Running train:  10%|██████████▍                                                                                               | 35/354 [00:23<03:36,  1.47it/s]"
     ]
    },
    {
     "name": "stderr",
     "output_type": "stream",
     "text": [
      "\r",
      "Running train:  10%|██████████▊                                                                                               | 36/354 [00:24<03:33,  1.49it/s]"
     ]
    },
    {
     "name": "stderr",
     "output_type": "stream",
     "text": [
      "\r",
      "Running train:  10%|███████████                                                                                               | 37/354 [00:25<03:31,  1.50it/s]"
     ]
    },
    {
     "name": "stderr",
     "output_type": "stream",
     "text": [
      "\r",
      "Running train:  11%|███████████▍                                                                                              | 38/354 [00:25<03:29,  1.51it/s]"
     ]
    },
    {
     "name": "stderr",
     "output_type": "stream",
     "text": [
      "\r",
      "Running train:  11%|███████████▋                                                                                              | 39/354 [00:26<03:28,  1.51it/s]"
     ]
    },
    {
     "name": "stderr",
     "output_type": "stream",
     "text": [
      "\r",
      "Running train:  11%|███████████▉                                                                                              | 40/354 [00:27<03:28,  1.51it/s]"
     ]
    },
    {
     "name": "stderr",
     "output_type": "stream",
     "text": [
      "\r",
      "Running train:  12%|████████████▎                                                                                             | 41/354 [00:27<03:27,  1.51it/s]"
     ]
    },
    {
     "name": "stderr",
     "output_type": "stream",
     "text": [
      "\r",
      "Running train:  12%|████████████▌                                                                                             | 42/354 [00:28<03:26,  1.51it/s]"
     ]
    },
    {
     "name": "stderr",
     "output_type": "stream",
     "text": [
      "\r",
      "Running train:  12%|████████████▉                                                                                             | 43/354 [00:29<03:25,  1.51it/s]"
     ]
    },
    {
     "name": "stderr",
     "output_type": "stream",
     "text": [
      "\r",
      "Running train:  12%|█████████████▏                                                                                            | 44/354 [00:29<03:24,  1.52it/s]"
     ]
    },
    {
     "name": "stderr",
     "output_type": "stream",
     "text": [
      "\r",
      "Running train:  13%|█████████████▍                                                                                            | 45/354 [00:30<03:23,  1.52it/s]"
     ]
    },
    {
     "name": "stderr",
     "output_type": "stream",
     "text": [
      "\r",
      "Running train:  13%|█████████████▊                                                                                            | 46/354 [00:31<03:22,  1.52it/s]"
     ]
    },
    {
     "name": "stderr",
     "output_type": "stream",
     "text": [
      "\r",
      "Running train:  13%|██████████████                                                                                            | 47/354 [00:31<03:21,  1.52it/s]"
     ]
    },
    {
     "name": "stderr",
     "output_type": "stream",
     "text": [
      "\r",
      "Running train:  14%|██████████████▎                                                                                           | 48/354 [00:32<03:21,  1.52it/s]"
     ]
    },
    {
     "name": "stderr",
     "output_type": "stream",
     "text": [
      "\r",
      "Running train:  14%|██████████████▋                                                                                           | 49/354 [00:33<03:20,  1.52it/s]"
     ]
    },
    {
     "name": "stderr",
     "output_type": "stream",
     "text": [
      "\r",
      "Running train:  14%|██████████████▉                                                                                           | 50/354 [00:33<03:23,  1.49it/s]"
     ]
    },
    {
     "name": "stderr",
     "output_type": "stream",
     "text": [
      "\r",
      "Running train:  14%|███████████████▎                                                                                          | 51/354 [00:34<03:21,  1.50it/s]"
     ]
    },
    {
     "name": "stderr",
     "output_type": "stream",
     "text": [
      "\r",
      "Running train:  15%|███████████████▌                                                                                          | 52/354 [00:35<03:20,  1.50it/s]"
     ]
    },
    {
     "name": "stderr",
     "output_type": "stream",
     "text": [
      "\r",
      "Running train:  15%|███████████████▊                                                                                          | 53/354 [00:35<03:19,  1.51it/s]"
     ]
    },
    {
     "name": "stderr",
     "output_type": "stream",
     "text": [
      "\r",
      "Running train:  15%|████████████████▏                                                                                         | 54/354 [00:36<03:19,  1.51it/s]"
     ]
    },
    {
     "name": "stderr",
     "output_type": "stream",
     "text": [
      "\r",
      "Running train:  16%|████████████████▍                                                                                         | 55/354 [00:37<03:18,  1.51it/s]"
     ]
    },
    {
     "name": "stderr",
     "output_type": "stream",
     "text": [
      "\r",
      "Running train:  16%|████████████████▊                                                                                         | 56/354 [00:37<03:17,  1.51it/s]"
     ]
    },
    {
     "name": "stderr",
     "output_type": "stream",
     "text": [
      "\r",
      "Running train:  16%|█████████████████                                                                                         | 57/354 [00:38<03:16,  1.51it/s]"
     ]
    },
    {
     "name": "stderr",
     "output_type": "stream",
     "text": [
      "\r",
      "Running train:  16%|█████████████████▎                                                                                        | 58/354 [00:39<03:16,  1.51it/s]"
     ]
    },
    {
     "name": "stderr",
     "output_type": "stream",
     "text": [
      "\r",
      "Running train:  17%|█████████████████▋                                                                                        | 59/354 [00:39<03:15,  1.51it/s]"
     ]
    },
    {
     "name": "stderr",
     "output_type": "stream",
     "text": [
      "\r",
      "Running train:  17%|█████████████████▉                                                                                        | 60/354 [00:40<03:15,  1.51it/s]"
     ]
    },
    {
     "name": "stderr",
     "output_type": "stream",
     "text": [
      "\r",
      "Running train:  17%|██████████████████▎                                                                                       | 61/354 [00:41<03:23,  1.44it/s]"
     ]
    },
    {
     "name": "stderr",
     "output_type": "stream",
     "text": [
      "\r",
      "Running train:  18%|██████████████████▌                                                                                       | 62/354 [00:41<03:20,  1.46it/s]"
     ]
    },
    {
     "name": "stderr",
     "output_type": "stream",
     "text": [
      "\r",
      "Running train:  18%|██████████████████▊                                                                                       | 63/354 [00:42<03:26,  1.41it/s]"
     ]
    },
    {
     "name": "stderr",
     "output_type": "stream",
     "text": [
      "\r",
      "Running train:  18%|███████████████████▏                                                                                      | 64/354 [00:43<03:29,  1.38it/s]"
     ]
    },
    {
     "name": "stderr",
     "output_type": "stream",
     "text": [
      "\r",
      "Running train:  18%|███████████████████▍                                                                                      | 65/354 [00:44<03:33,  1.36it/s]"
     ]
    },
    {
     "name": "stderr",
     "output_type": "stream",
     "text": [
      "\r",
      "Running train:  19%|███████████████████▊                                                                                      | 66/354 [00:44<03:34,  1.34it/s]"
     ]
    },
    {
     "name": "stderr",
     "output_type": "stream",
     "text": [
      "\r",
      "Running train:  19%|████████████████████                                                                                      | 67/354 [00:45<03:26,  1.39it/s]"
     ]
    },
    {
     "name": "stderr",
     "output_type": "stream",
     "text": [
      "\r",
      "Running train:  19%|████████████████████▎                                                                                     | 68/354 [00:46<03:22,  1.42it/s]"
     ]
    },
    {
     "name": "stderr",
     "output_type": "stream",
     "text": [
      "\r",
      "Running train:  19%|████████████████████▋                                                                                     | 69/354 [00:46<03:17,  1.44it/s]"
     ]
    },
    {
     "name": "stderr",
     "output_type": "stream",
     "text": [
      "\r",
      "Running train:  20%|████████████████████▉                                                                                     | 70/354 [00:47<03:18,  1.43it/s]"
     ]
    },
    {
     "name": "stderr",
     "output_type": "stream",
     "text": [
      "\r",
      "Running train:  20%|█████████████████████▎                                                                                    | 71/354 [00:48<03:15,  1.45it/s]"
     ]
    },
    {
     "name": "stderr",
     "output_type": "stream",
     "text": [
      "\r",
      "Running train:  20%|█████████████████████▌                                                                                    | 72/354 [00:48<03:14,  1.45it/s]"
     ]
    },
    {
     "name": "stderr",
     "output_type": "stream",
     "text": [
      "\r",
      "Running train:  21%|█████████████████████▊                                                                                    | 73/354 [00:49<03:11,  1.47it/s]"
     ]
    },
    {
     "name": "stderr",
     "output_type": "stream",
     "text": [
      "\r",
      "Running train:  21%|██████████████████████▏                                                                                   | 74/354 [00:50<03:09,  1.48it/s]"
     ]
    },
    {
     "name": "stderr",
     "output_type": "stream",
     "text": [
      "\r",
      "Running train:  21%|██████████████████████▍                                                                                   | 75/354 [00:51<03:09,  1.47it/s]"
     ]
    },
    {
     "name": "stderr",
     "output_type": "stream",
     "text": [
      "\r",
      "Running train:  21%|██████████████████████▊                                                                                   | 76/354 [00:51<03:08,  1.48it/s]"
     ]
    },
    {
     "name": "stderr",
     "output_type": "stream",
     "text": [
      "\r",
      "Running train:  22%|███████████████████████                                                                                   | 77/354 [00:52<03:07,  1.48it/s]"
     ]
    },
    {
     "name": "stderr",
     "output_type": "stream",
     "text": [
      "\r",
      "Running train:  22%|███████████████████████▎                                                                                  | 78/354 [00:53<03:14,  1.42it/s]"
     ]
    },
    {
     "name": "stderr",
     "output_type": "stream",
     "text": [
      "\r",
      "Running train:  22%|███████████████████████▋                                                                                  | 79/354 [00:53<03:11,  1.43it/s]"
     ]
    },
    {
     "name": "stderr",
     "output_type": "stream",
     "text": [
      "\r",
      "Running train:  23%|███████████████████████▉                                                                                  | 80/354 [00:54<03:08,  1.45it/s]"
     ]
    },
    {
     "name": "stderr",
     "output_type": "stream",
     "text": [
      "\r",
      "Running train:  23%|████████████████████████▎                                                                                 | 81/354 [00:55<03:08,  1.45it/s]"
     ]
    },
    {
     "name": "stderr",
     "output_type": "stream",
     "text": [
      "\r",
      "Running train:  23%|████████████████████████▌                                                                                 | 82/354 [00:55<03:06,  1.46it/s]"
     ]
    },
    {
     "name": "stderr",
     "output_type": "stream",
     "text": [
      "\r",
      "Running train:  23%|████████████████████████▊                                                                                 | 83/354 [00:56<03:14,  1.39it/s]"
     ]
    },
    {
     "name": "stderr",
     "output_type": "stream",
     "text": [
      "\r",
      "Running train:  24%|█████████████████████████▏                                                                                | 84/354 [00:57<03:17,  1.37it/s]"
     ]
    },
    {
     "name": "stderr",
     "output_type": "stream",
     "text": [
      "\r",
      "Running train:  24%|█████████████████████████▍                                                                                | 85/354 [00:58<03:18,  1.36it/s]"
     ]
    },
    {
     "name": "stderr",
     "output_type": "stream",
     "text": [
      "\r",
      "Running train:  24%|█████████████████████████▊                                                                                | 86/354 [00:58<03:18,  1.35it/s]"
     ]
    },
    {
     "name": "stderr",
     "output_type": "stream",
     "text": [
      "\r",
      "Running train:  25%|██████████████████████████                                                                                | 87/354 [00:59<03:17,  1.35it/s]"
     ]
    },
    {
     "name": "stderr",
     "output_type": "stream",
     "text": [
      "\r",
      "Running train:  25%|██████████████████████████▎                                                                               | 88/354 [01:00<03:15,  1.36it/s]"
     ]
    },
    {
     "name": "stderr",
     "output_type": "stream",
     "text": [
      "\r",
      "Running train:  25%|██████████████████████████▋                                                                               | 89/354 [01:01<03:16,  1.35it/s]"
     ]
    },
    {
     "name": "stderr",
     "output_type": "stream",
     "text": [
      "\r",
      "Running train:  25%|██████████████████████████▉                                                                               | 90/354 [01:01<03:20,  1.32it/s]"
     ]
    },
    {
     "name": "stderr",
     "output_type": "stream",
     "text": [
      "\r",
      "Running train:  26%|███████████████████████████▏                                                                              | 91/354 [01:02<03:21,  1.30it/s]"
     ]
    },
    {
     "name": "stderr",
     "output_type": "stream",
     "text": [
      "\r",
      "Running train:  26%|███████████████████████████▌                                                                              | 92/354 [01:03<03:16,  1.34it/s]"
     ]
    },
    {
     "name": "stderr",
     "output_type": "stream",
     "text": [
      "\r",
      "Running train:  26%|███████████████████████████▊                                                                              | 93/354 [01:04<03:17,  1.32it/s]"
     ]
    },
    {
     "name": "stderr",
     "output_type": "stream",
     "text": [
      "\r",
      "Running train:  27%|████████████████████████████▏                                                                             | 94/354 [01:04<03:19,  1.30it/s]"
     ]
    },
    {
     "name": "stderr",
     "output_type": "stream",
     "text": [
      "\r",
      "Running train:  27%|████████████████████████████▍                                                                             | 95/354 [01:05<03:19,  1.30it/s]"
     ]
    },
    {
     "name": "stderr",
     "output_type": "stream",
     "text": [
      "\r",
      "Running train:  27%|████████████████████████████▋                                                                             | 96/354 [01:06<03:27,  1.24it/s]"
     ]
    },
    {
     "name": "stderr",
     "output_type": "stream",
     "text": [
      "\r",
      "Running train:  27%|█████████████████████████████                                                                             | 97/354 [01:07<03:18,  1.29it/s]"
     ]
    },
    {
     "name": "stderr",
     "output_type": "stream",
     "text": [
      "\r",
      "Running train:  28%|█████████████████████████████▎                                                                            | 98/354 [01:08<03:17,  1.29it/s]"
     ]
    },
    {
     "name": "stderr",
     "output_type": "stream",
     "text": [
      "\r",
      "Running train:  28%|█████████████████████████████▋                                                                            | 99/354 [01:08<03:17,  1.29it/s]"
     ]
    },
    {
     "name": "stderr",
     "output_type": "stream",
     "text": [
      "\r",
      "Running train:  28%|█████████████████████████████▋                                                                           | 100/354 [01:09<03:17,  1.29it/s]"
     ]
    },
    {
     "name": "stderr",
     "output_type": "stream",
     "text": [
      "\r",
      "Running train:  29%|█████████████████████████████▉                                                                           | 101/354 [01:10<03:10,  1.33it/s]"
     ]
    },
    {
     "name": "stderr",
     "output_type": "stream",
     "text": [
      "\r",
      "Running train:  29%|██████████████████████████████▎                                                                          | 102/354 [01:11<03:08,  1.34it/s]"
     ]
    },
    {
     "name": "stderr",
     "output_type": "stream",
     "text": [
      "\r",
      "Running train:  29%|██████████████████████████████▌                                                                          | 103/354 [01:11<03:06,  1.35it/s]"
     ]
    },
    {
     "name": "stderr",
     "output_type": "stream",
     "text": [
      "\r",
      "Running train:  29%|██████████████████████████████▊                                                                          | 104/354 [01:12<03:08,  1.32it/s]"
     ]
    },
    {
     "name": "stderr",
     "output_type": "stream",
     "text": [
      "\r",
      "Running train:  30%|███████████████████████████████▏                                                                         | 105/354 [01:13<03:04,  1.35it/s]"
     ]
    },
    {
     "name": "stderr",
     "output_type": "stream",
     "text": [
      "\r",
      "Running train:  30%|███████████████████████████████▍                                                                         | 106/354 [01:14<03:08,  1.32it/s]"
     ]
    },
    {
     "name": "stderr",
     "output_type": "stream",
     "text": [
      "\r",
      "Running train:  30%|███████████████████████████████▋                                                                         | 107/354 [01:14<03:10,  1.30it/s]"
     ]
    },
    {
     "name": "stderr",
     "output_type": "stream",
     "text": [
      "\r",
      "Running train:  31%|████████████████████████████████                                                                         | 108/354 [01:15<03:10,  1.29it/s]"
     ]
    },
    {
     "name": "stderr",
     "output_type": "stream",
     "text": [
      "\r",
      "Running train:  31%|████████████████████████████████▎                                                                        | 109/354 [01:16<03:10,  1.29it/s]"
     ]
    },
    {
     "name": "stderr",
     "output_type": "stream",
     "text": [
      "\r",
      "Running train:  31%|████████████████████████████████▋                                                                        | 110/354 [01:17<03:11,  1.28it/s]"
     ]
    },
    {
     "name": "stderr",
     "output_type": "stream",
     "text": [
      "\r",
      "Running train:  31%|████████████████████████████████▉                                                                        | 111/354 [01:18<03:10,  1.27it/s]"
     ]
    },
    {
     "name": "stderr",
     "output_type": "stream",
     "text": [
      "\r",
      "Running train:  32%|█████████████████████████████████▏                                                                       | 112/354 [01:18<03:06,  1.30it/s]"
     ]
    },
    {
     "name": "stderr",
     "output_type": "stream",
     "text": [
      "\r",
      "Running train:  32%|█████████████████████████████████▌                                                                       | 113/354 [01:19<03:01,  1.33it/s]"
     ]
    },
    {
     "name": "stderr",
     "output_type": "stream",
     "text": [
      "\r",
      "Running train:  32%|█████████████████████████████████▊                                                                       | 114/354 [01:20<03:03,  1.31it/s]"
     ]
    },
    {
     "name": "stderr",
     "output_type": "stream",
     "text": [
      "\r",
      "Running train:  32%|██████████████████████████████████                                                                       | 115/354 [01:21<03:03,  1.31it/s]"
     ]
    },
    {
     "name": "stderr",
     "output_type": "stream",
     "text": [
      "\r",
      "Running train:  33%|██████████████████████████████████▍                                                                      | 116/354 [01:21<02:59,  1.33it/s]"
     ]
    },
    {
     "name": "stderr",
     "output_type": "stream",
     "text": [
      "\r",
      "Running train:  33%|██████████████████████████████████▋                                                                      | 117/354 [01:22<02:58,  1.33it/s]"
     ]
    },
    {
     "name": "stderr",
     "output_type": "stream",
     "text": [
      "\r",
      "Running train:  33%|███████████████████████████████████                                                                      | 118/354 [01:23<02:54,  1.35it/s]"
     ]
    },
    {
     "name": "stderr",
     "output_type": "stream",
     "text": [
      "\r",
      "Running train:  34%|███████████████████████████████████▎                                                                     | 119/354 [01:24<02:57,  1.32it/s]"
     ]
    },
    {
     "name": "stderr",
     "output_type": "stream",
     "text": [
      "\r",
      "Running train:  34%|███████████████████████████████████▌                                                                     | 120/354 [01:24<02:52,  1.35it/s]"
     ]
    },
    {
     "name": "stderr",
     "output_type": "stream",
     "text": [
      "\r",
      "Running train:  34%|███████████████████████████████████▉                                                                     | 121/354 [01:25<02:54,  1.34it/s]"
     ]
    },
    {
     "name": "stderr",
     "output_type": "stream",
     "text": [
      "\r",
      "Running train:  34%|████████████████████████████████████▏                                                                    | 122/354 [01:26<02:53,  1.34it/s]"
     ]
    },
    {
     "name": "stderr",
     "output_type": "stream",
     "text": [
      "\r",
      "Running train:  35%|████████████████████████████████████▍                                                                    | 123/354 [01:27<02:52,  1.34it/s]"
     ]
    },
    {
     "name": "stderr",
     "output_type": "stream",
     "text": [
      "\r",
      "Running train:  35%|████████████████████████████████████▊                                                                    | 124/354 [01:27<02:55,  1.31it/s]"
     ]
    },
    {
     "name": "stderr",
     "output_type": "stream",
     "text": [
      "\r",
      "Running train:  35%|█████████████████████████████████████                                                                    | 125/354 [01:28<02:55,  1.31it/s]"
     ]
    },
    {
     "name": "stderr",
     "output_type": "stream",
     "text": [
      "\r",
      "Running train:  36%|█████████████████████████████████████▎                                                                   | 126/354 [01:29<02:55,  1.30it/s]"
     ]
    },
    {
     "name": "stderr",
     "output_type": "stream",
     "text": [
      "\r",
      "Running train:  36%|█████████████████████████████████████▋                                                                   | 127/354 [01:30<02:52,  1.32it/s]"
     ]
    },
    {
     "name": "stderr",
     "output_type": "stream",
     "text": [
      "\r",
      "Running train:  36%|█████████████████████████████████████▉                                                                   | 128/354 [01:30<02:53,  1.30it/s]"
     ]
    },
    {
     "name": "stderr",
     "output_type": "stream",
     "text": [
      "\r",
      "Running train:  36%|██████████████████████████████████████▎                                                                  | 129/354 [01:31<02:54,  1.29it/s]"
     ]
    },
    {
     "name": "stderr",
     "output_type": "stream",
     "text": [
      "\r",
      "Running train:  37%|██████████████████████████████████████▌                                                                  | 130/354 [01:32<02:55,  1.28it/s]"
     ]
    },
    {
     "name": "stderr",
     "output_type": "stream",
     "text": [
      "\r",
      "Running train:  37%|██████████████████████████████████████▊                                                                  | 131/354 [01:33<02:50,  1.31it/s]"
     ]
    },
    {
     "name": "stderr",
     "output_type": "stream",
     "text": [
      "\r",
      "Running train:  37%|███████████████████████████████████████▏                                                                 | 132/354 [01:33<02:46,  1.34it/s]"
     ]
    },
    {
     "name": "stderr",
     "output_type": "stream",
     "text": [
      "\r",
      "Running train:  38%|███████████████████████████████████████▍                                                                 | 133/354 [01:34<02:43,  1.35it/s]"
     ]
    },
    {
     "name": "stderr",
     "output_type": "stream",
     "text": [
      "\r",
      "Running train:  38%|███████████████████████████████████████▋                                                                 | 134/354 [01:35<02:44,  1.34it/s]"
     ]
    },
    {
     "name": "stderr",
     "output_type": "stream",
     "text": [
      "\r",
      "Running train:  38%|████████████████████████████████████████                                                                 | 135/354 [01:36<02:44,  1.33it/s]"
     ]
    },
    {
     "name": "stderr",
     "output_type": "stream",
     "text": [
      "\r",
      "Running train:  38%|████████████████████████████████████████▎                                                                | 136/354 [01:36<02:45,  1.31it/s]"
     ]
    },
    {
     "name": "stderr",
     "output_type": "stream",
     "text": [
      "\r",
      "Running train:  39%|████████████████████████████████████████▋                                                                | 137/354 [01:37<02:43,  1.32it/s]"
     ]
    },
    {
     "name": "stderr",
     "output_type": "stream",
     "text": [
      "\r",
      "Running train:  39%|████████████████████████████████████████▉                                                                | 138/354 [01:38<02:41,  1.33it/s]"
     ]
    },
    {
     "name": "stderr",
     "output_type": "stream",
     "text": [
      "\r",
      "Running train:  39%|█████████████████████████████████████████▏                                                               | 139/354 [01:39<02:47,  1.28it/s]"
     ]
    },
    {
     "name": "stderr",
     "output_type": "stream",
     "text": [
      "\r",
      "Running train:  40%|█████████████████████████████████████████▌                                                               | 140/354 [01:40<02:54,  1.23it/s]"
     ]
    },
    {
     "name": "stderr",
     "output_type": "stream",
     "text": [
      "\r",
      "Running train:  40%|█████████████████████████████████████████▊                                                               | 141/354 [01:40<02:50,  1.25it/s]"
     ]
    },
    {
     "name": "stderr",
     "output_type": "stream",
     "text": [
      "\r",
      "Running train:  40%|██████████████████████████████████████████                                                               | 142/354 [01:41<02:48,  1.26it/s]"
     ]
    },
    {
     "name": "stderr",
     "output_type": "stream",
     "text": [
      "\r",
      "Running train:  40%|██████████████████████████████████████████▍                                                              | 143/354 [01:42<02:44,  1.29it/s]"
     ]
    },
    {
     "name": "stderr",
     "output_type": "stream",
     "text": [
      "\r",
      "Running train:  41%|██████████████████████████████████████████▋                                                              | 144/354 [01:43<02:44,  1.28it/s]"
     ]
    },
    {
     "name": "stderr",
     "output_type": "stream",
     "text": [
      "\r",
      "Running train:  41%|███████████████████████████████████████████                                                              | 145/354 [01:43<02:39,  1.31it/s]"
     ]
    },
    {
     "name": "stderr",
     "output_type": "stream",
     "text": [
      "\r",
      "Running train:  41%|███████████████████████████████████████████▎                                                             | 146/354 [01:44<02:38,  1.31it/s]"
     ]
    },
    {
     "name": "stderr",
     "output_type": "stream",
     "text": [
      "\r",
      "Running train:  42%|███████████████████████████████████████████▌                                                             | 147/354 [01:45<02:40,  1.29it/s]"
     ]
    },
    {
     "name": "stderr",
     "output_type": "stream",
     "text": [
      "\r",
      "Running train:  42%|███████████████████████████████████████████▉                                                             | 148/354 [01:46<02:39,  1.29it/s]"
     ]
    },
    {
     "name": "stderr",
     "output_type": "stream",
     "text": [
      "\r",
      "Running train:  42%|████████████████████████████████████████████▏                                                            | 149/354 [01:47<02:34,  1.32it/s]"
     ]
    },
    {
     "name": "stderr",
     "output_type": "stream",
     "text": [
      "\r",
      "Running train:  42%|████████████████████████████████████████████▍                                                            | 150/354 [01:47<02:34,  1.32it/s]"
     ]
    },
    {
     "name": "stderr",
     "output_type": "stream",
     "text": [
      "\r",
      "Running train:  43%|████████████████████████████████████████████▊                                                            | 151/354 [01:48<02:34,  1.31it/s]"
     ]
    },
    {
     "name": "stderr",
     "output_type": "stream",
     "text": [
      "\r",
      "Running train:  43%|█████████████████████████████████████████████                                                            | 152/354 [01:49<02:29,  1.35it/s]"
     ]
    },
    {
     "name": "stderr",
     "output_type": "stream",
     "text": [
      "\r",
      "Running train:  43%|█████████████████████████████████████████████▍                                                           | 153/354 [01:50<02:32,  1.32it/s]"
     ]
    },
    {
     "name": "stderr",
     "output_type": "stream",
     "text": [
      "\r",
      "Running train:  44%|█████████████████████████████████████████████▋                                                           | 154/354 [01:50<02:29,  1.34it/s]"
     ]
    },
    {
     "name": "stderr",
     "output_type": "stream",
     "text": [
      "\r",
      "Running train:  44%|█████████████████████████████████████████████▉                                                           | 155/354 [01:51<02:30,  1.32it/s]"
     ]
    },
    {
     "name": "stderr",
     "output_type": "stream",
     "text": [
      "\r",
      "Running train:  44%|██████████████████████████████████████████████▎                                                          | 156/354 [01:52<02:26,  1.35it/s]"
     ]
    },
    {
     "name": "stderr",
     "output_type": "stream",
     "text": [
      "\r",
      "Running train:  44%|██████████████████████████████████████████████▌                                                          | 157/354 [01:53<02:29,  1.32it/s]"
     ]
    },
    {
     "name": "stderr",
     "output_type": "stream",
     "text": [
      "\r",
      "Running train:  45%|██████████████████████████████████████████████▊                                                          | 158/354 [01:53<02:31,  1.30it/s]"
     ]
    },
    {
     "name": "stderr",
     "output_type": "stream",
     "text": [
      "\r",
      "Running train:  45%|███████████████████████████████████████████████▏                                                         | 159/354 [01:54<02:31,  1.28it/s]"
     ]
    },
    {
     "name": "stderr",
     "output_type": "stream",
     "text": [
      "\r",
      "Running train:  45%|███████████████████████████████████████████████▍                                                         | 160/354 [01:55<02:31,  1.28it/s]"
     ]
    },
    {
     "name": "stderr",
     "output_type": "stream",
     "text": [
      "\r",
      "Running train:  45%|███████████████████████████████████████████████▊                                                         | 161/354 [01:56<02:29,  1.29it/s]"
     ]
    },
    {
     "name": "stderr",
     "output_type": "stream",
     "text": [
      "\r",
      "Running train:  46%|████████████████████████████████████████████████                                                         | 162/354 [01:56<02:28,  1.29it/s]"
     ]
    },
    {
     "name": "stderr",
     "output_type": "stream",
     "text": [
      "\r",
      "Running train:  46%|████████████████████████████████████████████████▎                                                        | 163/354 [01:57<02:28,  1.29it/s]"
     ]
    },
    {
     "name": "stderr",
     "output_type": "stream",
     "text": [
      "\r",
      "Running train:  46%|████████████████████████████████████████████████▋                                                        | 164/354 [01:58<02:28,  1.28it/s]"
     ]
    },
    {
     "name": "stderr",
     "output_type": "stream",
     "text": [
      "\r",
      "Running train:  47%|████████████████████████████████████████████████▉                                                        | 165/354 [01:59<02:26,  1.29it/s]"
     ]
    },
    {
     "name": "stderr",
     "output_type": "stream",
     "text": [
      "\r",
      "Running train:  47%|█████████████████████████████████████████████████▏                                                       | 166/354 [02:00<02:25,  1.29it/s]"
     ]
    },
    {
     "name": "stderr",
     "output_type": "stream",
     "text": [
      "\r",
      "Running train:  47%|█████████████████████████████████████████████████▌                                                       | 167/354 [02:00<02:26,  1.28it/s]"
     ]
    },
    {
     "name": "stderr",
     "output_type": "stream",
     "text": [
      "\r",
      "Running train:  47%|█████████████████████████████████████████████████▊                                                       | 168/354 [02:01<02:23,  1.29it/s]"
     ]
    },
    {
     "name": "stderr",
     "output_type": "stream",
     "text": [
      "\r",
      "Running train:  48%|██████████████████████████████████████████████████▏                                                      | 169/354 [02:02<02:22,  1.30it/s]"
     ]
    },
    {
     "name": "stderr",
     "output_type": "stream",
     "text": [
      "\r",
      "Running train:  48%|██████████████████████████████████████████████████▍                                                      | 170/354 [02:03<02:20,  1.31it/s]"
     ]
    },
    {
     "name": "stderr",
     "output_type": "stream",
     "text": [
      "\r",
      "Running train:  48%|██████████████████████████████████████████████████▋                                                      | 171/354 [02:03<02:21,  1.30it/s]"
     ]
    },
    {
     "name": "stderr",
     "output_type": "stream",
     "text": [
      "\r",
      "Running train:  49%|███████████████████████████████████████████████████                                                      | 172/354 [02:04<02:21,  1.29it/s]"
     ]
    },
    {
     "name": "stderr",
     "output_type": "stream",
     "text": [
      "\r",
      "Running train:  49%|███████████████████████████████████████████████████▎                                                     | 173/354 [02:05<02:21,  1.28it/s]"
     ]
    },
    {
     "name": "stderr",
     "output_type": "stream",
     "text": [
      "\r",
      "Running train:  49%|███████████████████████████████████████████████████▌                                                     | 174/354 [02:06<02:20,  1.29it/s]"
     ]
    },
    {
     "name": "stderr",
     "output_type": "stream",
     "text": [
      "\r",
      "Running train:  49%|███████████████████████████████████████████████████▉                                                     | 175/354 [02:07<02:19,  1.28it/s]"
     ]
    },
    {
     "name": "stderr",
     "output_type": "stream",
     "text": [
      "\r",
      "Running train:  50%|████████████████████████████████████████████████████▏                                                    | 176/354 [02:07<02:18,  1.29it/s]"
     ]
    },
    {
     "name": "stderr",
     "output_type": "stream",
     "text": [
      "\r",
      "Running train:  50%|████████████████████████████████████████████████████▌                                                    | 177/354 [02:08<02:17,  1.29it/s]"
     ]
    },
    {
     "name": "stderr",
     "output_type": "stream",
     "text": [
      "\r",
      "Running train:  50%|████████████████████████████████████████████████████▊                                                    | 178/354 [02:09<02:13,  1.31it/s]"
     ]
    },
    {
     "name": "stderr",
     "output_type": "stream",
     "text": [
      "\r",
      "Running train:  51%|█████████████████████████████████████████████████████                                                    | 179/354 [02:10<02:15,  1.29it/s]"
     ]
    },
    {
     "name": "stderr",
     "output_type": "stream",
     "text": [
      "\r",
      "Running train:  51%|█████████████████████████████████████████████████████▍                                                   | 180/354 [02:10<02:13,  1.30it/s]"
     ]
    },
    {
     "name": "stderr",
     "output_type": "stream",
     "text": [
      "\r",
      "Running train:  51%|█████████████████████████████████████████████████████▋                                                   | 181/354 [02:11<02:10,  1.33it/s]"
     ]
    },
    {
     "name": "stderr",
     "output_type": "stream",
     "text": [
      "\r",
      "Running train:  51%|█████████████████████████████████████████████████████▉                                                   | 182/354 [02:12<02:08,  1.34it/s]"
     ]
    },
    {
     "name": "stderr",
     "output_type": "stream",
     "text": [
      "\r",
      "Running train:  52%|██████████████████████████████████████████████████████▎                                                  | 183/354 [02:13<02:04,  1.37it/s]"
     ]
    },
    {
     "name": "stderr",
     "output_type": "stream",
     "text": [
      "\r",
      "Running train:  52%|██████████████████████████████████████████████████████▌                                                  | 184/354 [02:13<02:04,  1.37it/s]"
     ]
    },
    {
     "name": "stderr",
     "output_type": "stream",
     "text": [
      "\r",
      "Running train:  52%|██████████████████████████████████████████████████████▊                                                  | 185/354 [02:14<02:07,  1.33it/s]"
     ]
    },
    {
     "name": "stderr",
     "output_type": "stream",
     "text": [
      "\r",
      "Running train:  53%|███████████████████████████████████████████████████████▏                                                 | 186/354 [02:15<02:04,  1.35it/s]"
     ]
    },
    {
     "name": "stderr",
     "output_type": "stream",
     "text": [
      "\r",
      "Running train:  53%|███████████████████████████████████████████████████████▍                                                 | 187/354 [02:16<02:04,  1.34it/s]"
     ]
    },
    {
     "name": "stderr",
     "output_type": "stream",
     "text": [
      "\r",
      "Running train:  53%|███████████████████████████████████████████████████████▊                                                 | 188/354 [02:16<02:05,  1.32it/s]"
     ]
    },
    {
     "name": "stderr",
     "output_type": "stream",
     "text": [
      "\r",
      "Running train:  53%|████████████████████████████████████████████████████████                                                 | 189/354 [02:17<02:06,  1.30it/s]"
     ]
    },
    {
     "name": "stderr",
     "output_type": "stream",
     "text": [
      "\r",
      "Running train:  54%|████████████████████████████████████████████████████████▎                                                | 190/354 [02:18<02:05,  1.30it/s]"
     ]
    },
    {
     "name": "stderr",
     "output_type": "stream",
     "text": [
      "\r",
      "Running train:  54%|████████████████████████████████████████████████████████▋                                                | 191/354 [02:19<02:07,  1.28it/s]"
     ]
    },
    {
     "name": "stderr",
     "output_type": "stream",
     "text": [
      "\r",
      "Running train:  54%|████████████████████████████████████████████████████████▉                                                | 192/354 [02:19<02:07,  1.27it/s]"
     ]
    },
    {
     "name": "stderr",
     "output_type": "stream",
     "text": [
      "\r",
      "Running train:  55%|█████████████████████████████████████████████████████████▏                                               | 193/354 [02:20<02:04,  1.30it/s]"
     ]
    },
    {
     "name": "stderr",
     "output_type": "stream",
     "text": [
      "\r",
      "Running train:  55%|█████████████████████████████████████████████████████████▌                                               | 194/354 [02:21<02:03,  1.29it/s]"
     ]
    },
    {
     "name": "stderr",
     "output_type": "stream",
     "text": [
      "\r",
      "Running train:  55%|█████████████████████████████████████████████████████████▊                                               | 195/354 [02:22<02:03,  1.29it/s]"
     ]
    },
    {
     "name": "stderr",
     "output_type": "stream",
     "text": [
      "\r",
      "Running train:  55%|██████████████████████████████████████████████████████████▏                                              | 196/354 [02:23<02:04,  1.27it/s]"
     ]
    },
    {
     "name": "stderr",
     "output_type": "stream",
     "text": [
      "\r",
      "Running train:  56%|██████████████████████████████████████████████████████████▍                                              | 197/354 [02:23<02:01,  1.30it/s]"
     ]
    },
    {
     "name": "stderr",
     "output_type": "stream",
     "text": [
      "\r",
      "Running train:  56%|██████████████████████████████████████████████████████████▋                                              | 198/354 [02:24<02:00,  1.29it/s]"
     ]
    },
    {
     "name": "stderr",
     "output_type": "stream",
     "text": [
      "\r",
      "Running train:  56%|███████████████████████████████████████████████████████████                                              | 199/354 [02:25<02:00,  1.29it/s]"
     ]
    },
    {
     "name": "stderr",
     "output_type": "stream",
     "text": [
      "\r",
      "Running train:  56%|███████████████████████████████████████████████████████████▎                                             | 200/354 [02:26<01:59,  1.29it/s]"
     ]
    },
    {
     "name": "stderr",
     "output_type": "stream",
     "text": [
      "\r",
      "Running train:  57%|███████████████████████████████████████████████████████████▌                                             | 201/354 [02:26<01:58,  1.29it/s]"
     ]
    },
    {
     "name": "stderr",
     "output_type": "stream",
     "text": [
      "\r",
      "Running train:  57%|███████████████████████████████████████████████████████████▉                                             | 202/354 [02:27<01:58,  1.28it/s]"
     ]
    },
    {
     "name": "stderr",
     "output_type": "stream",
     "text": [
      "\r",
      "Running train:  57%|████████████████████████████████████████████████████████████▏                                            | 203/354 [02:28<01:56,  1.30it/s]"
     ]
    },
    {
     "name": "stderr",
     "output_type": "stream",
     "text": [
      "\r",
      "Running train:  58%|████████████████████████████████████████████████████████████▌                                            | 204/354 [02:29<01:52,  1.33it/s]"
     ]
    },
    {
     "name": "stderr",
     "output_type": "stream",
     "text": [
      "\r",
      "Running train:  58%|████████████████████████████████████████████████████████████▊                                            | 205/354 [02:29<01:49,  1.36it/s]"
     ]
    },
    {
     "name": "stderr",
     "output_type": "stream",
     "text": [
      "\r",
      "Running train:  58%|█████████████████████████████████████████████████████████████                                            | 206/354 [02:30<01:50,  1.34it/s]"
     ]
    },
    {
     "name": "stderr",
     "output_type": "stream",
     "text": [
      "\r",
      "Running train:  58%|█████████████████████████████████████████████████████████████▍                                           | 207/354 [02:31<01:53,  1.30it/s]"
     ]
    },
    {
     "name": "stderr",
     "output_type": "stream",
     "text": [
      "\r",
      "Running train:  59%|█████████████████████████████████████████████████████████████▋                                           | 208/354 [02:32<01:56,  1.25it/s]"
     ]
    },
    {
     "name": "stderr",
     "output_type": "stream",
     "text": [
      "\r",
      "Running train:  59%|█████████████████████████████████████████████████████████████▉                                           | 209/354 [02:33<01:55,  1.26it/s]"
     ]
    },
    {
     "name": "stderr",
     "output_type": "stream",
     "text": [
      "\r",
      "Running train:  59%|██████████████████████████████████████████████████████████████▎                                          | 210/354 [02:33<01:54,  1.26it/s]"
     ]
    },
    {
     "name": "stderr",
     "output_type": "stream",
     "text": [
      "\r",
      "Running train:  60%|██████████████████████████████████████████████████████████████▌                                          | 211/354 [02:34<01:52,  1.27it/s]"
     ]
    },
    {
     "name": "stderr",
     "output_type": "stream",
     "text": [
      "\r",
      "Running train:  60%|██████████████████████████████████████████████████████████████▉                                          | 212/354 [02:35<01:52,  1.26it/s]"
     ]
    },
    {
     "name": "stderr",
     "output_type": "stream",
     "text": [
      "\r",
      "Running train:  60%|███████████████████████████████████████████████████████████████▏                                         | 213/354 [02:36<01:50,  1.27it/s]"
     ]
    },
    {
     "name": "stderr",
     "output_type": "stream",
     "text": [
      "\r",
      "Running train:  60%|███████████████████████████████████████████████████████████████▍                                         | 214/354 [02:37<01:51,  1.26it/s]"
     ]
    },
    {
     "name": "stderr",
     "output_type": "stream",
     "text": [
      "\r",
      "Running train:  61%|███████████████████████████████████████████████████████████████▊                                         | 215/354 [02:37<01:49,  1.26it/s]"
     ]
    },
    {
     "name": "stderr",
     "output_type": "stream",
     "text": [
      "\r",
      "Running train:  61%|████████████████████████████████████████████████████████████████                                         | 216/354 [02:38<01:48,  1.27it/s]"
     ]
    },
    {
     "name": "stderr",
     "output_type": "stream",
     "text": [
      "\r",
      "Running train:  61%|████████████████████████████████████████████████████████████████▎                                        | 217/354 [02:39<01:47,  1.28it/s]"
     ]
    },
    {
     "name": "stderr",
     "output_type": "stream",
     "text": [
      "\r",
      "Running train:  62%|████████████████████████████████████████████████████████████████▋                                        | 218/354 [02:40<01:46,  1.27it/s]"
     ]
    },
    {
     "name": "stderr",
     "output_type": "stream",
     "text": [
      "\r",
      "Running train:  62%|████████████████████████████████████████████████████████████████▉                                        | 219/354 [02:40<01:45,  1.27it/s]"
     ]
    },
    {
     "name": "stderr",
     "output_type": "stream",
     "text": [
      "\r",
      "Running train:  62%|█████████████████████████████████████████████████████████████████▎                                       | 220/354 [02:41<01:43,  1.30it/s]"
     ]
    },
    {
     "name": "stderr",
     "output_type": "stream",
     "text": [
      "\r",
      "Running train:  62%|█████████████████████████████████████████████████████████████████▌                                       | 221/354 [02:42<01:43,  1.29it/s]"
     ]
    },
    {
     "name": "stderr",
     "output_type": "stream",
     "text": [
      "\r",
      "Running train:  63%|█████████████████████████████████████████████████████████████████▊                                       | 222/354 [02:43<01:43,  1.28it/s]"
     ]
    },
    {
     "name": "stderr",
     "output_type": "stream",
     "text": [
      "\r",
      "Running train:  63%|██████████████████████████████████████████████████████████████████▏                                      | 223/354 [02:44<01:41,  1.29it/s]"
     ]
    },
    {
     "name": "stderr",
     "output_type": "stream",
     "text": [
      "\r",
      "Running train:  63%|██████████████████████████████████████████████████████████████████▍                                      | 224/354 [02:44<01:41,  1.28it/s]"
     ]
    },
    {
     "name": "stderr",
     "output_type": "stream",
     "text": [
      "\r",
      "Running train:  64%|██████████████████████████████████████████████████████████████████▋                                      | 225/354 [02:45<01:38,  1.31it/s]"
     ]
    },
    {
     "name": "stderr",
     "output_type": "stream",
     "text": [
      "\r",
      "Running train:  64%|███████████████████████████████████████████████████████████████████                                      | 226/354 [02:46<01:35,  1.34it/s]"
     ]
    },
    {
     "name": "stderr",
     "output_type": "stream",
     "text": [
      "\r",
      "Running train:  64%|███████████████████████████████████████████████████████████████████▎                                     | 227/354 [02:47<01:33,  1.36it/s]"
     ]
    },
    {
     "name": "stderr",
     "output_type": "stream",
     "text": [
      "\r",
      "Running train:  64%|███████████████████████████████████████████████████████████████████▋                                     | 228/354 [02:47<01:35,  1.32it/s]"
     ]
    },
    {
     "name": "stderr",
     "output_type": "stream",
     "text": [
      "\r",
      "Running train:  65%|███████████████████████████████████████████████████████████████████▉                                     | 229/354 [02:48<01:36,  1.29it/s]"
     ]
    },
    {
     "name": "stderr",
     "output_type": "stream",
     "text": [
      "\r",
      "Running train:  65%|████████████████████████████████████████████████████████████████████▏                                    | 230/354 [02:49<01:36,  1.29it/s]"
     ]
    },
    {
     "name": "stderr",
     "output_type": "stream",
     "text": [
      "\r",
      "Running train:  65%|████████████████████████████████████████████████████████████████████▌                                    | 231/354 [02:50<01:33,  1.31it/s]"
     ]
    },
    {
     "name": "stderr",
     "output_type": "stream",
     "text": [
      "\r",
      "Running train:  66%|████████████████████████████████████████████████████████████████████▊                                    | 232/354 [02:50<01:33,  1.31it/s]"
     ]
    },
    {
     "name": "stderr",
     "output_type": "stream",
     "text": [
      "\r",
      "Running train:  66%|█████████████████████████████████████████████████████████████████████                                    | 233/354 [02:51<01:33,  1.30it/s]"
     ]
    },
    {
     "name": "stderr",
     "output_type": "stream",
     "text": [
      "\r",
      "Running train:  66%|█████████████████████████████████████████████████████████████████████▍                                   | 234/354 [02:52<01:32,  1.30it/s]"
     ]
    },
    {
     "name": "stderr",
     "output_type": "stream",
     "text": [
      "\r",
      "Running train:  66%|█████████████████████████████████████████████████████████████████████▋                                   | 235/354 [02:53<01:32,  1.29it/s]"
     ]
    },
    {
     "name": "stderr",
     "output_type": "stream",
     "text": [
      "\r",
      "Running train:  67%|██████████████████████████████████████████████████████████████████████                                   | 236/354 [02:54<01:32,  1.27it/s]"
     ]
    },
    {
     "name": "stderr",
     "output_type": "stream",
     "text": [
      "\r",
      "Running train:  67%|██████████████████████████████████████████████████████████████████████▎                                  | 237/354 [02:54<01:30,  1.29it/s]"
     ]
    },
    {
     "name": "stderr",
     "output_type": "stream",
     "text": [
      "\r",
      "Running train:  67%|██████████████████████████████████████████████████████████████████████▌                                  | 238/354 [02:55<01:29,  1.30it/s]"
     ]
    },
    {
     "name": "stderr",
     "output_type": "stream",
     "text": [
      "\r",
      "Running train:  68%|██████████████████████████████████████████████████████████████████████▉                                  | 239/354 [02:56<01:28,  1.30it/s]"
     ]
    },
    {
     "name": "stderr",
     "output_type": "stream",
     "text": [
      "\r",
      "Running train:  68%|███████████████████████████████████████████████████████████████████████▏                                 | 240/354 [02:57<01:26,  1.32it/s]"
     ]
    },
    {
     "name": "stderr",
     "output_type": "stream",
     "text": [
      "\r",
      "Running train:  68%|███████████████████████████████████████████████████████████████████████▍                                 | 241/354 [02:57<01:24,  1.34it/s]"
     ]
    },
    {
     "name": "stderr",
     "output_type": "stream",
     "text": [
      "\r",
      "Running train:  68%|███████████████████████████████████████████████████████████████████████▊                                 | 242/354 [02:58<01:24,  1.32it/s]"
     ]
    },
    {
     "name": "stderr",
     "output_type": "stream",
     "text": [
      "\r",
      "Running train:  69%|████████████████████████████████████████████████████████████████████████                                 | 243/354 [02:59<01:25,  1.30it/s]"
     ]
    },
    {
     "name": "stderr",
     "output_type": "stream",
     "text": [
      "\r",
      "Running train:  69%|████████████████████████████████████████████████████████████████████████▎                                | 244/354 [03:00<01:24,  1.30it/s]"
     ]
    },
    {
     "name": "stderr",
     "output_type": "stream",
     "text": [
      "\r",
      "Running train:  69%|████████████████████████████████████████████████████████████████████████▋                                | 245/354 [03:00<01:24,  1.29it/s]"
     ]
    },
    {
     "name": "stderr",
     "output_type": "stream",
     "text": [
      "\r",
      "Running train:  69%|████████████████████████████████████████████████████████████████████████▉                                | 246/354 [03:01<01:23,  1.30it/s]"
     ]
    },
    {
     "name": "stderr",
     "output_type": "stream",
     "text": [
      "\r",
      "Running train:  70%|█████████████████████████████████████████████████████████████████████████▎                               | 247/354 [03:02<01:24,  1.27it/s]"
     ]
    },
    {
     "name": "stderr",
     "output_type": "stream",
     "text": [
      "\r",
      "Running train:  70%|█████████████████████████████████████████████████████████████████████████▌                               | 248/354 [03:03<01:20,  1.31it/s]"
     ]
    },
    {
     "name": "stderr",
     "output_type": "stream",
     "text": [
      "\r",
      "Running train:  70%|█████████████████████████████████████████████████████████████████████████▊                               | 249/354 [03:03<01:18,  1.33it/s]"
     ]
    },
    {
     "name": "stderr",
     "output_type": "stream",
     "text": [
      "\r",
      "Running train:  71%|██████████████████████████████████████████████████████████████████████████▏                              | 250/354 [03:04<01:17,  1.35it/s]"
     ]
    },
    {
     "name": "stderr",
     "output_type": "stream",
     "text": [
      "\r",
      "Running train:  71%|██████████████████████████████████████████████████████████████████████████▍                              | 251/354 [03:05<01:17,  1.32it/s]"
     ]
    },
    {
     "name": "stderr",
     "output_type": "stream",
     "text": [
      "\r",
      "Running train:  71%|██████████████████████████████████████████████████████████████████████████▋                              | 252/354 [03:06<01:18,  1.31it/s]"
     ]
    },
    {
     "name": "stderr",
     "output_type": "stream",
     "text": [
      "\r",
      "Running train:  71%|███████████████████████████████████████████████████████████████████████████                              | 253/354 [03:06<01:15,  1.33it/s]"
     ]
    },
    {
     "name": "stderr",
     "output_type": "stream",
     "text": [
      "\r",
      "Running train:  72%|███████████████████████████████████████████████████████████████████████████▎                             | 254/354 [03:07<01:17,  1.30it/s]"
     ]
    },
    {
     "name": "stderr",
     "output_type": "stream",
     "text": [
      "\r",
      "Running train:  72%|███████████████████████████████████████████████████████████████████████████▋                             | 255/354 [03:08<01:16,  1.29it/s]"
     ]
    },
    {
     "name": "stderr",
     "output_type": "stream",
     "text": [
      "\r",
      "Running train:  72%|███████████████████████████████████████████████████████████████████████████▉                             | 256/354 [03:09<01:15,  1.29it/s]"
     ]
    },
    {
     "name": "stderr",
     "output_type": "stream",
     "text": [
      "\r",
      "Running train:  73%|████████████████████████████████████████████████████████████████████████████▏                            | 257/354 [03:10<01:13,  1.32it/s]"
     ]
    },
    {
     "name": "stderr",
     "output_type": "stream",
     "text": [
      "\r",
      "Running train:  73%|████████████████████████████████████████████████████████████████████████████▌                            | 258/354 [03:10<01:13,  1.31it/s]"
     ]
    },
    {
     "name": "stderr",
     "output_type": "stream",
     "text": [
      "\r",
      "Running train:  73%|████████████████████████████████████████████████████████████████████████████▊                            | 259/354 [03:11<01:11,  1.33it/s]"
     ]
    },
    {
     "name": "stderr",
     "output_type": "stream",
     "text": [
      "\r",
      "Running train:  73%|█████████████████████████████████████████████████████████████████████████████                            | 260/354 [03:12<01:11,  1.32it/s]"
     ]
    },
    {
     "name": "stderr",
     "output_type": "stream",
     "text": [
      "\r",
      "Running train:  74%|█████████████████████████████████████████████████████████████████████████████▍                           | 261/354 [03:13<01:11,  1.31it/s]"
     ]
    },
    {
     "name": "stderr",
     "output_type": "stream",
     "text": [
      "\r",
      "Running train:  74%|█████████████████████████████████████████████████████████████████████████████▋                           | 262/354 [03:13<01:11,  1.29it/s]"
     ]
    },
    {
     "name": "stderr",
     "output_type": "stream",
     "text": [
      "\r",
      "Running train:  74%|██████████████████████████████████████████████████████████████████████████████                           | 263/354 [03:14<01:11,  1.27it/s]"
     ]
    },
    {
     "name": "stderr",
     "output_type": "stream",
     "text": [
      "\r",
      "Running train:  75%|██████████████████████████████████████████████████████████████████████████████▎                          | 264/354 [03:15<01:11,  1.26it/s]"
     ]
    },
    {
     "name": "stderr",
     "output_type": "stream",
     "text": [
      "\r",
      "Running train:  75%|██████████████████████████████████████████████████████████████████████████████▌                          | 265/354 [03:16<01:10,  1.25it/s]"
     ]
    },
    {
     "name": "stderr",
     "output_type": "stream",
     "text": [
      "\r",
      "Running train:  75%|██████████████████████████████████████████████████████████████████████████████▉                          | 266/354 [03:17<01:09,  1.26it/s]"
     ]
    },
    {
     "name": "stderr",
     "output_type": "stream",
     "text": [
      "\r",
      "Running train:  75%|███████████████████████████████████████████████████████████████████████████████▏                         | 267/354 [03:17<01:08,  1.26it/s]"
     ]
    },
    {
     "name": "stderr",
     "output_type": "stream",
     "text": [
      "\r",
      "Running train:  76%|███████████████████████████████████████████████████████████████████████████████▍                         | 268/354 [03:18<01:07,  1.27it/s]"
     ]
    },
    {
     "name": "stderr",
     "output_type": "stream",
     "text": [
      "\r",
      "Running train:  76%|███████████████████████████████████████████████████████████████████████████████▊                         | 269/354 [03:19<01:06,  1.28it/s]"
     ]
    },
    {
     "name": "stderr",
     "output_type": "stream",
     "text": [
      "\r",
      "Running train:  76%|████████████████████████████████████████████████████████████████████████████████                         | 270/354 [03:20<01:04,  1.31it/s]"
     ]
    },
    {
     "name": "stderr",
     "output_type": "stream",
     "text": [
      "\r",
      "Running train:  77%|████████████████████████████████████████████████████████████████████████████████▍                        | 271/354 [03:20<01:03,  1.30it/s]"
     ]
    },
    {
     "name": "stderr",
     "output_type": "stream",
     "text": [
      "\r",
      "Running train:  77%|████████████████████████████████████████████████████████████████████████████████▋                        | 272/354 [03:21<01:02,  1.31it/s]"
     ]
    },
    {
     "name": "stderr",
     "output_type": "stream",
     "text": [
      "\r",
      "Running train:  77%|████████████████████████████████████████████████████████████████████████████████▉                        | 273/354 [03:22<01:03,  1.28it/s]"
     ]
    },
    {
     "name": "stderr",
     "output_type": "stream",
     "text": [
      "\r",
      "Running train:  77%|█████████████████████████████████████████████████████████████████████████████████▎                       | 274/354 [03:23<01:00,  1.32it/s]"
     ]
    },
    {
     "name": "stderr",
     "output_type": "stream",
     "text": [
      "\r",
      "Running train:  78%|█████████████████████████████████████████████████████████████████████████████████▌                       | 275/354 [03:24<01:00,  1.30it/s]"
     ]
    },
    {
     "name": "stderr",
     "output_type": "stream",
     "text": [
      "\r",
      "Running train:  78%|█████████████████████████████████████████████████████████████████████████████████▊                       | 276/354 [03:24<00:58,  1.34it/s]"
     ]
    },
    {
     "name": "stderr",
     "output_type": "stream",
     "text": [
      "\r",
      "Running train:  78%|██████████████████████████████████████████████████████████████████████████████████▏                      | 277/354 [03:25<00:58,  1.31it/s]"
     ]
    },
    {
     "name": "stderr",
     "output_type": "stream",
     "text": [
      "\r",
      "Running train:  79%|██████████████████████████████████████████████████████████████████████████████████▍                      | 278/354 [03:26<00:56,  1.34it/s]"
     ]
    },
    {
     "name": "stderr",
     "output_type": "stream",
     "text": [
      "\r",
      "Running train:  79%|██████████████████████████████████████████████████████████████████████████████████▊                      | 279/354 [03:27<00:56,  1.32it/s]"
     ]
    },
    {
     "name": "stderr",
     "output_type": "stream",
     "text": [
      "\r",
      "Running train:  79%|███████████████████████████████████████████████████████████████████████████████████                      | 280/354 [03:27<00:55,  1.34it/s]"
     ]
    },
    {
     "name": "stderr",
     "output_type": "stream",
     "text": [
      "\r",
      "Running train:  79%|███████████████████████████████████████████████████████████████████████████████████▎                     | 281/354 [03:28<00:55,  1.31it/s]"
     ]
    },
    {
     "name": "stderr",
     "output_type": "stream",
     "text": [
      "\r",
      "Running train:  80%|███████████████████████████████████████████████████████████████████████████████████▋                     | 282/354 [03:29<00:53,  1.35it/s]"
     ]
    },
    {
     "name": "stderr",
     "output_type": "stream",
     "text": [
      "\r",
      "Running train:  80%|███████████████████████████████████████████████████████████████████████████████████▉                     | 283/354 [03:29<00:52,  1.35it/s]"
     ]
    },
    {
     "name": "stderr",
     "output_type": "stream",
     "text": [
      "\r",
      "Running train:  80%|████████████████████████████████████████████████████████████████████████████████████▏                    | 284/354 [03:30<00:52,  1.34it/s]"
     ]
    },
    {
     "name": "stderr",
     "output_type": "stream",
     "text": [
      "\r",
      "Running train:  81%|████████████████████████████████████████████████████████████████████████████████████▌                    | 285/354 [03:31<00:50,  1.35it/s]"
     ]
    },
    {
     "name": "stderr",
     "output_type": "stream",
     "text": [
      "\r",
      "Running train:  81%|████████████████████████████████████████████████████████████████████████████████████▊                    | 286/354 [03:32<00:51,  1.33it/s]"
     ]
    },
    {
     "name": "stderr",
     "output_type": "stream",
     "text": [
      "\r",
      "Running train:  81%|█████████████████████████████████████████████████████████████████████████████████████▏                   | 287/354 [03:33<00:51,  1.31it/s]"
     ]
    },
    {
     "name": "stderr",
     "output_type": "stream",
     "text": [
      "\r",
      "Running train:  81%|█████████████████████████████████████████████████████████████████████████████████████▍                   | 288/354 [03:33<00:50,  1.31it/s]"
     ]
    },
    {
     "name": "stderr",
     "output_type": "stream",
     "text": [
      "\r",
      "Running train:  82%|█████████████████████████████████████████████████████████████████████████████████████▋                   | 289/354 [03:34<00:48,  1.35it/s]"
     ]
    },
    {
     "name": "stderr",
     "output_type": "stream",
     "text": [
      "\r",
      "Running train:  82%|██████████████████████████████████████████████████████████████████████████████████████                   | 290/354 [03:35<00:48,  1.33it/s]"
     ]
    },
    {
     "name": "stderr",
     "output_type": "stream",
     "text": [
      "\r",
      "Running train:  82%|██████████████████████████████████████████████████████████████████████████████████████▎                  | 291/354 [03:36<00:47,  1.31it/s]"
     ]
    },
    {
     "name": "stderr",
     "output_type": "stream",
     "text": [
      "\r",
      "Running train:  82%|██████████████████████████████████████████████████████████████████████████████████████▌                  | 292/354 [03:36<00:47,  1.30it/s]"
     ]
    },
    {
     "name": "stderr",
     "output_type": "stream",
     "text": [
      "\r",
      "Running train:  83%|██████████████████████████████████████████████████████████████████████████████████████▉                  | 293/354 [03:37<00:45,  1.34it/s]"
     ]
    },
    {
     "name": "stderr",
     "output_type": "stream",
     "text": [
      "\r",
      "Running train:  83%|███████████████████████████████████████████████████████████████████████████████████████▏                 | 294/354 [03:38<00:45,  1.33it/s]"
     ]
    },
    {
     "name": "stderr",
     "output_type": "stream",
     "text": [
      "\r",
      "Running train:  83%|███████████████████████████████████████████████████████████████████████████████████████▌                 | 295/354 [03:39<00:45,  1.30it/s]"
     ]
    },
    {
     "name": "stderr",
     "output_type": "stream",
     "text": [
      "\r",
      "Running train:  84%|███████████████████████████████████████████████████████████████████████████████████████▊                 | 296/354 [03:39<00:44,  1.30it/s]"
     ]
    },
    {
     "name": "stderr",
     "output_type": "stream",
     "text": [
      "\r",
      "Running train:  84%|████████████████████████████████████████████████████████████████████████████████████████                 | 297/354 [03:40<00:43,  1.31it/s]"
     ]
    },
    {
     "name": "stderr",
     "output_type": "stream",
     "text": [
      "\r",
      "Running train:  84%|████████████████████████████████████████████████████████████████████████████████████████▍                | 298/354 [03:41<00:42,  1.33it/s]"
     ]
    },
    {
     "name": "stderr",
     "output_type": "stream",
     "text": [
      "\r",
      "Running train:  84%|████████████████████████████████████████████████████████████████████████████████████████▋                | 299/354 [03:42<00:41,  1.34it/s]"
     ]
    },
    {
     "name": "stderr",
     "output_type": "stream",
     "text": [
      "\r",
      "Running train:  85%|████████████████████████████████████████████████████████████████████████████████████████▉                | 300/354 [03:42<00:40,  1.32it/s]"
     ]
    },
    {
     "name": "stderr",
     "output_type": "stream",
     "text": [
      "\r",
      "Running train:  85%|█████████████████████████████████████████████████████████████████████████████████████████▎               | 301/354 [03:43<00:41,  1.29it/s]"
     ]
    },
    {
     "name": "stderr",
     "output_type": "stream",
     "text": [
      "\r",
      "Running train:  85%|█████████████████████████████████████████████████████████████████████████████████████████▌               | 302/354 [03:44<00:41,  1.26it/s]"
     ]
    },
    {
     "name": "stderr",
     "output_type": "stream",
     "text": [
      "\r",
      "Running train:  86%|█████████████████████████████████████████████████████████████████████████████████████████▊               | 303/354 [03:45<00:39,  1.28it/s]"
     ]
    },
    {
     "name": "stderr",
     "output_type": "stream",
     "text": [
      "\r",
      "Running train:  86%|██████████████████████████████████████████████████████████████████████████████████████████▏              | 304/354 [03:45<00:38,  1.30it/s]"
     ]
    },
    {
     "name": "stderr",
     "output_type": "stream",
     "text": [
      "\r",
      "Running train:  86%|██████████████████████████████████████████████████████████████████████████████████████████▍              | 305/354 [03:46<00:38,  1.29it/s]"
     ]
    },
    {
     "name": "stderr",
     "output_type": "stream",
     "text": [
      "\r",
      "Running train:  86%|██████████████████████████████████████████████████████████████████████████████████████████▊              | 306/354 [03:47<00:36,  1.31it/s]"
     ]
    },
    {
     "name": "stderr",
     "output_type": "stream",
     "text": [
      "\r",
      "Running train:  87%|███████████████████████████████████████████████████████████████████████████████████████████              | 307/354 [03:48<00:35,  1.33it/s]"
     ]
    },
    {
     "name": "stderr",
     "output_type": "stream",
     "text": [
      "\r",
      "Running train:  87%|███████████████████████████████████████████████████████████████████████████████████████████▎             | 308/354 [03:48<00:34,  1.33it/s]"
     ]
    },
    {
     "name": "stderr",
     "output_type": "stream",
     "text": [
      "\r",
      "Running train:  87%|███████████████████████████████████████████████████████████████████████████████████████████▋             | 309/354 [03:49<00:34,  1.30it/s]"
     ]
    },
    {
     "name": "stderr",
     "output_type": "stream",
     "text": [
      "\r",
      "Running train:  88%|███████████████████████████████████████████████████████████████████████████████████████████▉             | 310/354 [03:50<00:33,  1.33it/s]"
     ]
    },
    {
     "name": "stderr",
     "output_type": "stream",
     "text": [
      "\r",
      "Running train:  88%|████████████████████████████████████████████████████████████████████████████████████████████▏            | 311/354 [03:51<00:32,  1.31it/s]"
     ]
    },
    {
     "name": "stderr",
     "output_type": "stream",
     "text": [
      "\r",
      "Running train:  88%|████████████████████████████████████████████████████████████████████████████████████████████▌            | 312/354 [03:52<00:32,  1.30it/s]"
     ]
    },
    {
     "name": "stderr",
     "output_type": "stream",
     "text": [
      "\r",
      "Running train:  88%|████████████████████████████████████████████████████████████████████████████████████████████▊            | 313/354 [03:52<00:32,  1.28it/s]"
     ]
    },
    {
     "name": "stderr",
     "output_type": "stream",
     "text": [
      "\r",
      "Running train:  89%|█████████████████████████████████████████████████████████████████████████████████████████████▏           | 314/354 [03:53<00:31,  1.28it/s]"
     ]
    },
    {
     "name": "stderr",
     "output_type": "stream",
     "text": [
      "\r",
      "Running train:  89%|█████████████████████████████████████████████████████████████████████████████████████████████▍           | 315/354 [03:54<00:30,  1.27it/s]"
     ]
    },
    {
     "name": "stderr",
     "output_type": "stream",
     "text": [
      "\r",
      "Running train:  89%|█████████████████████████████████████████████████████████████████████████████████████████████▋           | 316/354 [03:55<00:29,  1.27it/s]"
     ]
    },
    {
     "name": "stderr",
     "output_type": "stream",
     "text": [
      "\r",
      "Running train:  90%|██████████████████████████████████████████████████████████████████████████████████████████████           | 317/354 [03:56<00:29,  1.27it/s]"
     ]
    },
    {
     "name": "stderr",
     "output_type": "stream",
     "text": [
      "\r",
      "Running train:  90%|██████████████████████████████████████████████████████████████████████████████████████████████▎          | 318/354 [03:56<00:28,  1.26it/s]"
     ]
    },
    {
     "name": "stderr",
     "output_type": "stream",
     "text": [
      "\r",
      "Running train:  90%|██████████████████████████████████████████████████████████████████████████████████████████████▌          | 319/354 [03:57<00:27,  1.27it/s]"
     ]
    },
    {
     "name": "stderr",
     "output_type": "stream",
     "text": [
      "\r",
      "Running train:  90%|██████████████████████████████████████████████████████████████████████████████████████████████▉          | 320/354 [03:58<00:26,  1.29it/s]"
     ]
    },
    {
     "name": "stderr",
     "output_type": "stream",
     "text": [
      "\r",
      "Running train:  91%|███████████████████████████████████████████████████████████████████████████████████████████████▏         | 321/354 [03:59<00:25,  1.29it/s]"
     ]
    },
    {
     "name": "stderr",
     "output_type": "stream",
     "text": [
      "\r",
      "Running train:  91%|███████████████████████████████████████████████████████████████████████████████████████████████▌         | 322/354 [03:59<00:24,  1.30it/s]"
     ]
    },
    {
     "name": "stderr",
     "output_type": "stream",
     "text": [
      "\r",
      "Running train:  91%|███████████████████████████████████████████████████████████████████████████████████████████████▊         | 323/354 [04:00<00:24,  1.28it/s]"
     ]
    },
    {
     "name": "stderr",
     "output_type": "stream",
     "text": [
      "\r",
      "Running train:  92%|████████████████████████████████████████████████████████████████████████████████████████████████         | 324/354 [04:01<00:23,  1.28it/s]"
     ]
    },
    {
     "name": "stderr",
     "output_type": "stream",
     "text": [
      "\r",
      "Running train:  92%|████████████████████████████████████████████████████████████████████████████████████████████████▍        | 325/354 [04:02<00:22,  1.31it/s]"
     ]
    },
    {
     "name": "stderr",
     "output_type": "stream",
     "text": [
      "\r",
      "Running train:  92%|████████████████████████████████████████████████████████████████████████████████████████████████▋        | 326/354 [04:03<00:21,  1.29it/s]"
     ]
    },
    {
     "name": "stderr",
     "output_type": "stream",
     "text": [
      "\r",
      "Running train:  92%|████████████████████████████████████████████████████████████████████████████████████████████████▉        | 327/354 [04:03<00:20,  1.32it/s]"
     ]
    },
    {
     "name": "stderr",
     "output_type": "stream",
     "text": [
      "\r",
      "Running train:  93%|█████████████████████████████████████████████████████████████████████████████████████████████████▎       | 328/354 [04:04<00:19,  1.34it/s]"
     ]
    },
    {
     "name": "stderr",
     "output_type": "stream",
     "text": [
      "\r",
      "Running train:  93%|█████████████████████████████████████████████████████████████████████████████████████████████████▌       | 329/354 [04:05<00:18,  1.35it/s]"
     ]
    },
    {
     "name": "stderr",
     "output_type": "stream",
     "text": [
      "\r",
      "Running train:  93%|█████████████████████████████████████████████████████████████████████████████████████████████████▉       | 330/354 [04:05<00:17,  1.38it/s]"
     ]
    },
    {
     "name": "stderr",
     "output_type": "stream",
     "text": [
      "\r",
      "Running train:  94%|██████████████████████████████████████████████████████████████████████████████████████████████████▏      | 331/354 [04:06<00:16,  1.36it/s]"
     ]
    },
    {
     "name": "stderr",
     "output_type": "stream",
     "text": [
      "\r",
      "Running train:  94%|██████████████████████████████████████████████████████████████████████████████████████████████████▍      | 332/354 [04:07<00:16,  1.37it/s]"
     ]
    },
    {
     "name": "stderr",
     "output_type": "stream",
     "text": [
      "\r",
      "Running train:  94%|██████████████████████████████████████████████████████████████████████████████████████████████████▊      | 333/354 [04:08<00:15,  1.37it/s]"
     ]
    },
    {
     "name": "stderr",
     "output_type": "stream",
     "text": [
      "\r",
      "Running train:  94%|███████████████████████████████████████████████████████████████████████████████████████████████████      | 334/354 [04:08<00:14,  1.35it/s]"
     ]
    },
    {
     "name": "stderr",
     "output_type": "stream",
     "text": [
      "\r",
      "Running train:  95%|███████████████████████████████████████████████████████████████████████████████████████████████████▎     | 335/354 [04:09<00:14,  1.30it/s]"
     ]
    },
    {
     "name": "stderr",
     "output_type": "stream",
     "text": [
      "\r",
      "Running train:  95%|███████████████████████████████████████████████████████████████████████████████████████████████████▋     | 336/354 [04:10<00:13,  1.32it/s]"
     ]
    },
    {
     "name": "stderr",
     "output_type": "stream",
     "text": [
      "\r",
      "Running train:  95%|███████████████████████████████████████████████████████████████████████████████████████████████████▉     | 337/354 [04:11<00:12,  1.34it/s]"
     ]
    },
    {
     "name": "stderr",
     "output_type": "stream",
     "text": [
      "\r",
      "Running train:  95%|████████████████████████████████████████████████████████████████████████████████████████████████████▎    | 338/354 [04:11<00:12,  1.32it/s]"
     ]
    },
    {
     "name": "stderr",
     "output_type": "stream",
     "text": [
      "\r",
      "Running train:  96%|████████████████████████████████████████████████████████████████████████████████████████████████████▌    | 339/354 [04:12<00:11,  1.34it/s]"
     ]
    },
    {
     "name": "stderr",
     "output_type": "stream",
     "text": [
      "\r",
      "Running train:  96%|████████████████████████████████████████████████████████████████████████████████████████████████████▊    | 340/354 [04:13<00:10,  1.31it/s]"
     ]
    },
    {
     "name": "stderr",
     "output_type": "stream",
     "text": [
      "\r",
      "Running train:  96%|█████████████████████████████████████████████████████████████████████████████████████████████████████▏   | 341/354 [04:14<00:09,  1.32it/s]"
     ]
    },
    {
     "name": "stderr",
     "output_type": "stream",
     "text": [
      "\r",
      "Running train:  97%|█████████████████████████████████████████████████████████████████████████████████████████████████████▍   | 342/354 [04:14<00:09,  1.32it/s]"
     ]
    },
    {
     "name": "stderr",
     "output_type": "stream",
     "text": [
      "\r",
      "Running train:  97%|█████████████████████████████████████████████████████████████████████████████████████████████████████▋   | 343/354 [04:15<00:08,  1.30it/s]"
     ]
    },
    {
     "name": "stderr",
     "output_type": "stream",
     "text": [
      "\r",
      "Running train:  97%|██████████████████████████████████████████████████████████████████████████████████████████████████████   | 344/354 [04:16<00:07,  1.32it/s]"
     ]
    },
    {
     "name": "stderr",
     "output_type": "stream",
     "text": [
      "\r",
      "Running train:  97%|██████████████████████████████████████████████████████████████████████████████████████████████████████▎  | 345/354 [04:17<00:06,  1.29it/s]"
     ]
    },
    {
     "name": "stderr",
     "output_type": "stream",
     "text": [
      "\r",
      "Running train:  98%|██████████████████████████████████████████████████████████████████████████████████████████████████████▋  | 346/354 [04:18<00:06,  1.28it/s]"
     ]
    },
    {
     "name": "stderr",
     "output_type": "stream",
     "text": [
      "\r",
      "Running train:  98%|██████████████████████████████████████████████████████████████████████████████████████████████████████▉  | 347/354 [04:18<00:05,  1.32it/s]"
     ]
    },
    {
     "name": "stderr",
     "output_type": "stream",
     "text": [
      "\r",
      "Running train:  98%|███████████████████████████████████████████████████████████████████████████████████████████████████████▏ | 348/354 [04:19<00:04,  1.33it/s]"
     ]
    },
    {
     "name": "stderr",
     "output_type": "stream",
     "text": [
      "\r",
      "Running train:  99%|███████████████████████████████████████████████████████████████████████████████████████████████████████▌ | 349/354 [04:20<00:03,  1.30it/s]"
     ]
    },
    {
     "name": "stderr",
     "output_type": "stream",
     "text": [
      "\r",
      "Running train:  99%|███████████████████████████████████████████████████████████████████████████████████████████████████████▊ | 350/354 [04:21<00:03,  1.27it/s]"
     ]
    },
    {
     "name": "stderr",
     "output_type": "stream",
     "text": [
      "\r",
      "Running train:  99%|████████████████████████████████████████████████████████████████████████████████████████████████████████ | 351/354 [04:21<00:02,  1.28it/s]"
     ]
    },
    {
     "name": "stderr",
     "output_type": "stream",
     "text": [
      "\r",
      "Running train:  99%|████████████████████████████████████████████████████████████████████████████████████████████████████████▍| 352/354 [04:22<00:01,  1.29it/s]"
     ]
    },
    {
     "name": "stderr",
     "output_type": "stream",
     "text": [
      "\r",
      "Running train: 100%|████████████████████████████████████████████████████████████████████████████████████████████████████████▋| 353/354 [04:23<00:00,  1.31it/s]"
     ]
    },
    {
     "name": "stderr",
     "output_type": "stream",
     "text": [
      "\r",
      "Running train: 100%|█████████████████████████████████████████████████████████████████████████████████████████████████████████| 354/354 [04:24<00:00,  1.38it/s]"
     ]
    },
    {
     "name": "stderr",
     "output_type": "stream",
     "text": [
      "\r",
      "Running train: 100%|█████████████████████████████████████████████████████████████████████████████████████████████████████████| 354/354 [04:24<00:00,  1.34it/s]"
     ]
    },
    {
     "name": "stderr",
     "output_type": "stream",
     "text": [
      "\n"
     ]
    },
    {
     "name": "stdout",
     "output_type": "stream",
     "text": [
      "train Loss: 2.0140 Acc: 0.2930\n",
      "train Epoch Entropy: 0.8588\n",
      "\n"
     ]
    },
    {
     "name": "stderr",
     "output_type": "stream",
     "text": [
      "\r",
      "Running val:   0%|                                                                                                                      | 0/89 [00:00<?, ?it/s]"
     ]
    },
    {
     "name": "stderr",
     "output_type": "stream",
     "text": [
      "\r",
      "Running val:   1%|█▏                                                                                                            | 1/89 [00:00<00:35,  2.45it/s]"
     ]
    },
    {
     "name": "stderr",
     "output_type": "stream",
     "text": [
      "\r",
      "Running val:   2%|██▍                                                                                                           | 2/89 [00:00<00:35,  2.43it/s]"
     ]
    },
    {
     "name": "stderr",
     "output_type": "stream",
     "text": [
      "\r",
      "Running val:   3%|███▋                                                                                                          | 3/89 [00:01<00:34,  2.47it/s]"
     ]
    },
    {
     "name": "stderr",
     "output_type": "stream",
     "text": [
      "\r",
      "Running val:   4%|████▉                                                                                                         | 4/89 [00:01<00:35,  2.42it/s]"
     ]
    },
    {
     "name": "stderr",
     "output_type": "stream",
     "text": [
      "\r",
      "Running val:   6%|██████▏                                                                                                       | 5/89 [00:02<00:34,  2.43it/s]"
     ]
    },
    {
     "name": "stderr",
     "output_type": "stream",
     "text": [
      "\r",
      "Running val:   7%|███████▍                                                                                                      | 6/89 [00:02<00:35,  2.33it/s]"
     ]
    },
    {
     "name": "stderr",
     "output_type": "stream",
     "text": [
      "\r",
      "Running val:   8%|████████▋                                                                                                     | 7/89 [00:02<00:34,  2.38it/s]"
     ]
    },
    {
     "name": "stderr",
     "output_type": "stream",
     "text": [
      "\r",
      "Running val:   9%|█████████▉                                                                                                    | 8/89 [00:03<00:35,  2.31it/s]"
     ]
    },
    {
     "name": "stderr",
     "output_type": "stream",
     "text": [
      "\r",
      "Running val:  10%|███████████                                                                                                   | 9/89 [00:03<00:33,  2.38it/s]"
     ]
    },
    {
     "name": "stderr",
     "output_type": "stream",
     "text": [
      "\r",
      "Running val:  11%|████████████▏                                                                                                | 10/89 [00:04<00:32,  2.41it/s]"
     ]
    },
    {
     "name": "stderr",
     "output_type": "stream",
     "text": [
      "\r",
      "Running val:  12%|█████████████▍                                                                                               | 11/89 [00:04<00:32,  2.43it/s]"
     ]
    },
    {
     "name": "stderr",
     "output_type": "stream",
     "text": [
      "\r",
      "Running val:  13%|██████████████▋                                                                                              | 12/89 [00:04<00:31,  2.47it/s]"
     ]
    },
    {
     "name": "stderr",
     "output_type": "stream",
     "text": [
      "\r",
      "Running val:  15%|███████████████▉                                                                                             | 13/89 [00:05<00:30,  2.53it/s]"
     ]
    },
    {
     "name": "stderr",
     "output_type": "stream",
     "text": [
      "\r",
      "Running val:  16%|█████████████████▏                                                                                           | 14/89 [00:05<00:30,  2.45it/s]"
     ]
    },
    {
     "name": "stderr",
     "output_type": "stream",
     "text": [
      "\r",
      "Running val:  17%|██████████████████▎                                                                                          | 15/89 [00:06<00:29,  2.52it/s]"
     ]
    },
    {
     "name": "stderr",
     "output_type": "stream",
     "text": [
      "\r",
      "Running val:  18%|███████████████████▌                                                                                         | 16/89 [00:06<00:29,  2.51it/s]"
     ]
    },
    {
     "name": "stderr",
     "output_type": "stream",
     "text": [
      "\r",
      "Running val:  19%|████████████████████▊                                                                                        | 17/89 [00:06<00:28,  2.55it/s]"
     ]
    },
    {
     "name": "stderr",
     "output_type": "stream",
     "text": [
      "\r",
      "Running val:  20%|██████████████████████                                                                                       | 18/89 [00:07<00:28,  2.53it/s]"
     ]
    },
    {
     "name": "stderr",
     "output_type": "stream",
     "text": [
      "\r",
      "Running val:  21%|███████████████████████▎                                                                                     | 19/89 [00:07<00:27,  2.56it/s]"
     ]
    },
    {
     "name": "stderr",
     "output_type": "stream",
     "text": [
      "\r",
      "Running val:  22%|████████████████████████▍                                                                                    | 20/89 [00:08<00:27,  2.55it/s]"
     ]
    },
    {
     "name": "stderr",
     "output_type": "stream",
     "text": [
      "\r",
      "Running val:  24%|█████████████████████████▋                                                                                   | 21/89 [00:08<00:26,  2.56it/s]"
     ]
    },
    {
     "name": "stderr",
     "output_type": "stream",
     "text": [
      "\r",
      "Running val:  25%|██████████████████████████▉                                                                                  | 22/89 [00:08<00:26,  2.52it/s]"
     ]
    },
    {
     "name": "stderr",
     "output_type": "stream",
     "text": [
      "\r",
      "Running val:  26%|████████████████████████████▏                                                                                | 23/89 [00:09<00:25,  2.59it/s]"
     ]
    },
    {
     "name": "stderr",
     "output_type": "stream",
     "text": [
      "\r",
      "Running val:  27%|█████████████████████████████▍                                                                               | 24/89 [00:09<00:26,  2.48it/s]"
     ]
    },
    {
     "name": "stderr",
     "output_type": "stream",
     "text": [
      "\r",
      "Running val:  28%|██████████████████████████████▌                                                                              | 25/89 [00:10<00:25,  2.49it/s]"
     ]
    },
    {
     "name": "stderr",
     "output_type": "stream",
     "text": [
      "\r",
      "Running val:  29%|███████████████████████████████▊                                                                             | 26/89 [00:10<00:25,  2.46it/s]"
     ]
    },
    {
     "name": "stderr",
     "output_type": "stream",
     "text": [
      "\r",
      "Running val:  30%|█████████████████████████████████                                                                            | 27/89 [00:10<00:24,  2.48it/s]"
     ]
    },
    {
     "name": "stderr",
     "output_type": "stream",
     "text": [
      "\r",
      "Running val:  31%|██████████████████████████████████▎                                                                          | 28/89 [00:11<00:24,  2.45it/s]"
     ]
    },
    {
     "name": "stderr",
     "output_type": "stream",
     "text": [
      "\r",
      "Running val:  33%|███████████████████████████████████▌                                                                         | 29/89 [00:11<00:24,  2.42it/s]"
     ]
    },
    {
     "name": "stderr",
     "output_type": "stream",
     "text": [
      "\r",
      "Running val:  34%|████████████████████████████████████▋                                                                        | 30/89 [00:12<00:24,  2.41it/s]"
     ]
    },
    {
     "name": "stderr",
     "output_type": "stream",
     "text": [
      "\r",
      "Running val:  35%|█████████████████████████████████████▉                                                                       | 31/89 [00:12<00:23,  2.49it/s]"
     ]
    },
    {
     "name": "stderr",
     "output_type": "stream",
     "text": [
      "\r",
      "Running val:  36%|███████████████████████████████████████▏                                                                     | 32/89 [00:12<00:23,  2.46it/s]"
     ]
    },
    {
     "name": "stderr",
     "output_type": "stream",
     "text": [
      "\r",
      "Running val:  37%|████████████████████████████████████████▍                                                                    | 33/89 [00:13<00:23,  2.42it/s]"
     ]
    },
    {
     "name": "stderr",
     "output_type": "stream",
     "text": [
      "\r",
      "Running val:  38%|█████████████████████████████████████████▋                                                                   | 34/89 [00:13<00:22,  2.42it/s]"
     ]
    },
    {
     "name": "stderr",
     "output_type": "stream",
     "text": [
      "\r",
      "Running val:  39%|██████████████████████████████████████████▊                                                                  | 35/89 [00:14<00:22,  2.42it/s]"
     ]
    },
    {
     "name": "stderr",
     "output_type": "stream",
     "text": [
      "\r",
      "Running val:  40%|████████████████████████████████████████████                                                                 | 36/89 [00:14<00:21,  2.44it/s]"
     ]
    },
    {
     "name": "stderr",
     "output_type": "stream",
     "text": [
      "\r",
      "Running val:  42%|█████████████████████████████████████████████▎                                                               | 37/89 [00:15<00:21,  2.46it/s]"
     ]
    },
    {
     "name": "stderr",
     "output_type": "stream",
     "text": [
      "\r",
      "Running val:  43%|██████████████████████████████████████████████▌                                                              | 38/89 [00:15<00:20,  2.47it/s]"
     ]
    },
    {
     "name": "stderr",
     "output_type": "stream",
     "text": [
      "\r",
      "Running val:  44%|███████████████████████████████████████████████▊                                                             | 39/89 [00:15<00:20,  2.44it/s]"
     ]
    },
    {
     "name": "stderr",
     "output_type": "stream",
     "text": [
      "\r",
      "Running val:  45%|████████████████████████████████████████████████▉                                                            | 40/89 [00:16<00:19,  2.49it/s]"
     ]
    },
    {
     "name": "stderr",
     "output_type": "stream",
     "text": [
      "\r",
      "Running val:  46%|██████████████████████████████████████████████████▏                                                          | 41/89 [00:16<00:19,  2.48it/s]"
     ]
    },
    {
     "name": "stderr",
     "output_type": "stream",
     "text": [
      "\r",
      "Running val:  47%|███████████████████████████████████████████████████▍                                                         | 42/89 [00:17<00:18,  2.52it/s]"
     ]
    },
    {
     "name": "stderr",
     "output_type": "stream",
     "text": [
      "\r",
      "Running val:  48%|████████████████████████████████████████████████████▋                                                        | 43/89 [00:17<00:18,  2.45it/s]"
     ]
    },
    {
     "name": "stderr",
     "output_type": "stream",
     "text": [
      "\r",
      "Running val:  49%|█████████████████████████████████████████████████████▉                                                       | 44/89 [00:17<00:17,  2.50it/s]"
     ]
    },
    {
     "name": "stderr",
     "output_type": "stream",
     "text": [
      "\r",
      "Running val:  51%|███████████████████████████████████████████████████████                                                      | 45/89 [00:18<00:17,  2.50it/s]"
     ]
    },
    {
     "name": "stderr",
     "output_type": "stream",
     "text": [
      "\r",
      "Running val:  52%|████████████████████████████████████████████████████████▎                                                    | 46/89 [00:18<00:16,  2.55it/s]"
     ]
    },
    {
     "name": "stderr",
     "output_type": "stream",
     "text": [
      "\r",
      "Running val:  53%|█████████████████████████████████████████████████████████▌                                                   | 47/89 [00:19<00:16,  2.51it/s]"
     ]
    },
    {
     "name": "stderr",
     "output_type": "stream",
     "text": [
      "\r",
      "Running val:  54%|██████████████████████████████████████████████████████████▊                                                  | 48/89 [00:19<00:15,  2.58it/s]"
     ]
    },
    {
     "name": "stderr",
     "output_type": "stream",
     "text": [
      "\r",
      "Running val:  55%|████████████████████████████████████████████████████████████                                                 | 49/89 [00:19<00:15,  2.55it/s]"
     ]
    },
    {
     "name": "stderr",
     "output_type": "stream",
     "text": [
      "\r",
      "Running val:  56%|█████████████████████████████████████████████████████████████▏                                               | 50/89 [00:20<00:15,  2.49it/s]"
     ]
    },
    {
     "name": "stderr",
     "output_type": "stream",
     "text": [
      "\r",
      "Running val:  57%|██████████████████████████████████████████████████████████████▍                                              | 51/89 [00:20<00:15,  2.46it/s]"
     ]
    },
    {
     "name": "stderr",
     "output_type": "stream",
     "text": [
      "\r",
      "Running val:  58%|███████████████████████████████████████████████████████████████▋                                             | 52/89 [00:21<00:14,  2.48it/s]"
     ]
    },
    {
     "name": "stderr",
     "output_type": "stream",
     "text": [
      "\r",
      "Running val:  60%|████████████████████████████████████████████████████████████████▉                                            | 53/89 [00:21<00:14,  2.44it/s]"
     ]
    },
    {
     "name": "stderr",
     "output_type": "stream",
     "text": [
      "\r",
      "Running val:  61%|██████████████████████████████████████████████████████████████████▏                                          | 54/89 [00:21<00:14,  2.39it/s]"
     ]
    },
    {
     "name": "stderr",
     "output_type": "stream",
     "text": [
      "\r",
      "Running val:  62%|███████████████████████████████████████████████████████████████████▎                                         | 55/89 [00:22<00:14,  2.37it/s]"
     ]
    },
    {
     "name": "stderr",
     "output_type": "stream",
     "text": [
      "\r",
      "Running val:  63%|████████████████████████████████████████████████████████████████████▌                                        | 56/89 [00:22<00:13,  2.43it/s]"
     ]
    },
    {
     "name": "stderr",
     "output_type": "stream",
     "text": [
      "\r",
      "Running val:  64%|█████████████████████████████████████████████████████████████████████▊                                       | 57/89 [00:23<00:13,  2.40it/s]"
     ]
    },
    {
     "name": "stderr",
     "output_type": "stream",
     "text": [
      "\r",
      "Running val:  65%|███████████████████████████████████████████████████████████████████████                                      | 58/89 [00:23<00:12,  2.51it/s]"
     ]
    },
    {
     "name": "stderr",
     "output_type": "stream",
     "text": [
      "\r",
      "Running val:  66%|████████████████████████████████████████████████████████████████████████▎                                    | 59/89 [00:23<00:12,  2.46it/s]"
     ]
    },
    {
     "name": "stderr",
     "output_type": "stream",
     "text": [
      "\r",
      "Running val:  67%|█████████████████████████████████████████████████████████████████████████▍                                   | 60/89 [00:24<00:11,  2.60it/s]"
     ]
    },
    {
     "name": "stderr",
     "output_type": "stream",
     "text": [
      "\r",
      "Running val:  69%|██████████████████████████████████████████████████████████████████████████▋                                  | 61/89 [00:24<00:11,  2.54it/s]"
     ]
    },
    {
     "name": "stderr",
     "output_type": "stream",
     "text": [
      "\r",
      "Running val:  70%|███████████████████████████████████████████████████████████████████████████▉                                 | 62/89 [00:25<00:10,  2.64it/s]"
     ]
    },
    {
     "name": "stderr",
     "output_type": "stream",
     "text": [
      "\r",
      "Running val:  71%|█████████████████████████████████████████████████████████████████████████████▏                               | 63/89 [00:25<00:10,  2.56it/s]"
     ]
    },
    {
     "name": "stderr",
     "output_type": "stream",
     "text": [
      "\r",
      "Running val:  72%|██████████████████████████████████████████████████████████████████████████████▍                              | 64/89 [00:25<00:09,  2.61it/s]"
     ]
    },
    {
     "name": "stderr",
     "output_type": "stream",
     "text": [
      "\r",
      "Running val:  73%|███████████████████████████████████████████████████████████████████████████████▌                             | 65/89 [00:26<00:09,  2.49it/s]"
     ]
    },
    {
     "name": "stderr",
     "output_type": "stream",
     "text": [
      "\r",
      "Running val:  74%|████████████████████████████████████████████████████████████████████████████████▊                            | 66/89 [00:26<00:09,  2.53it/s]"
     ]
    },
    {
     "name": "stderr",
     "output_type": "stream",
     "text": [
      "\r",
      "Running val:  75%|██████████████████████████████████████████████████████████████████████████████████                           | 67/89 [00:27<00:08,  2.47it/s]"
     ]
    },
    {
     "name": "stderr",
     "output_type": "stream",
     "text": [
      "\r",
      "Running val:  76%|███████████████████████████████████████████████████████████████████████████████████▎                         | 68/89 [00:27<00:08,  2.52it/s]"
     ]
    },
    {
     "name": "stderr",
     "output_type": "stream",
     "text": [
      "\r",
      "Running val:  78%|████████████████████████████████████████████████████████████████████████████████████▌                        | 69/89 [00:27<00:08,  2.37it/s]"
     ]
    },
    {
     "name": "stderr",
     "output_type": "stream",
     "text": [
      "\r",
      "Running val:  79%|█████████████████████████████████████████████████████████████████████████████████████▋                       | 70/89 [00:28<00:08,  2.32it/s]"
     ]
    },
    {
     "name": "stderr",
     "output_type": "stream",
     "text": [
      "\r",
      "Running val:  80%|██████████████████████████████████████████████████████████████████████████████████████▉                      | 71/89 [00:28<00:08,  2.25it/s]"
     ]
    },
    {
     "name": "stderr",
     "output_type": "stream",
     "text": [
      "\r",
      "Running val:  81%|████████████████████████████████████████████████████████████████████████████████████████▏                    | 72/89 [00:29<00:07,  2.35it/s]"
     ]
    },
    {
     "name": "stderr",
     "output_type": "stream",
     "text": [
      "\r",
      "Running val:  82%|█████████████████████████████████████████████████████████████████████████████████████████▍                   | 73/89 [00:29<00:06,  2.32it/s]"
     ]
    },
    {
     "name": "stderr",
     "output_type": "stream",
     "text": [
      "\r",
      "Running val:  83%|██████████████████████████████████████████████████████████████████████████████████████████▋                  | 74/89 [00:30<00:06,  2.35it/s]"
     ]
    },
    {
     "name": "stderr",
     "output_type": "stream",
     "text": [
      "\r",
      "Running val:  84%|███████████████████████████████████████████████████████████████████████████████████████████▊                 | 75/89 [00:30<00:06,  2.28it/s]"
     ]
    },
    {
     "name": "stderr",
     "output_type": "stream",
     "text": [
      "\r",
      "Running val:  85%|█████████████████████████████████████████████████████████████████████████████████████████████                | 76/89 [00:30<00:05,  2.44it/s]"
     ]
    },
    {
     "name": "stderr",
     "output_type": "stream",
     "text": [
      "\r",
      "Running val:  87%|██████████████████████████████████████████████████████████████████████████████████████████████▎              | 77/89 [00:31<00:04,  2.40it/s]"
     ]
    },
    {
     "name": "stderr",
     "output_type": "stream",
     "text": [
      "\r",
      "Running val:  88%|███████████████████████████████████████████████████████████████████████████████████████████████▌             | 78/89 [00:31<00:04,  2.50it/s]"
     ]
    },
    {
     "name": "stderr",
     "output_type": "stream",
     "text": [
      "\r",
      "Running val:  89%|████████████████████████████████████████████████████████████████████████████████████████████████▊            | 79/89 [00:32<00:04,  2.46it/s]"
     ]
    },
    {
     "name": "stderr",
     "output_type": "stream",
     "text": [
      "\r",
      "Running val:  90%|█████████████████████████████████████████████████████████████████████████████████████████████████▉           | 80/89 [00:32<00:03,  2.57it/s]"
     ]
    },
    {
     "name": "stderr",
     "output_type": "stream",
     "text": [
      "\r",
      "Running val:  91%|███████████████████████████████████████████████████████████████████████████████████████████████████▏         | 81/89 [00:32<00:03,  2.49it/s]"
     ]
    },
    {
     "name": "stderr",
     "output_type": "stream",
     "text": [
      "\r",
      "Running val:  92%|████████████████████████████████████████████████████████████████████████████████████████████████████▍        | 82/89 [00:33<00:02,  2.60it/s]"
     ]
    },
    {
     "name": "stderr",
     "output_type": "stream",
     "text": [
      "\r",
      "Running val:  93%|█████████████████████████████████████████████████████████████████████████████████████████████████████▋       | 83/89 [00:33<00:02,  2.49it/s]"
     ]
    },
    {
     "name": "stderr",
     "output_type": "stream",
     "text": [
      "\r",
      "Running val:  94%|██████████████████████████████████████████████████████████████████████████████████████████████████████▉      | 84/89 [00:34<00:01,  2.61it/s]"
     ]
    },
    {
     "name": "stderr",
     "output_type": "stream",
     "text": [
      "\r",
      "Running val:  96%|████████████████████████████████████████████████████████████████████████████████████████████████████████     | 85/89 [00:34<00:01,  2.52it/s]"
     ]
    },
    {
     "name": "stderr",
     "output_type": "stream",
     "text": [
      "\r",
      "Running val:  97%|█████████████████████████████████████████████████████████████████████████████████████████████████████████▎   | 86/89 [00:34<00:01,  2.60it/s]"
     ]
    },
    {
     "name": "stderr",
     "output_type": "stream",
     "text": [
      "\r",
      "Running val:  98%|██████████████████████████████████████████████████████████████████████████████████████████████████████████▌  | 87/89 [00:35<00:00,  2.52it/s]"
     ]
    },
    {
     "name": "stderr",
     "output_type": "stream",
     "text": [
      "\r",
      "Running val:  99%|███████████████████████████████████████████████████████████████████████████████████████████████████████████▊ | 88/89 [00:35<00:00,  2.63it/s]"
     ]
    },
    {
     "name": "stderr",
     "output_type": "stream",
     "text": [
      "\r",
      "Running val: 100%|█████████████████████████████████████████████████████████████████████████████████████████████████████████████| 89/89 [00:35<00:00,  2.79it/s]"
     ]
    },
    {
     "name": "stderr",
     "output_type": "stream",
     "text": [
      "\r",
      "Running val: 100%|█████████████████████████████████████████████████████████████████████████████████████████████████████████████| 89/89 [00:35<00:00,  2.48it/s]"
     ]
    },
    {
     "name": "stderr",
     "output_type": "stream",
     "text": [
      "\n"
     ]
    },
    {
     "name": "stdout",
     "output_type": "stream",
     "text": [
      "val Loss: 1.8500 Acc: 0.3518\n",
      "val Epoch Entropy: 0.7990\n",
      "\n",
      "Epoch 1/499\n",
      "----------\n"
     ]
    },
    {
     "name": "stderr",
     "output_type": "stream",
     "text": [
      "\r",
      "Running train:   0%|                                                                                                                   | 0/354 [00:00<?, ?it/s]"
     ]
    },
    {
     "name": "stderr",
     "output_type": "stream",
     "text": [
      "\r",
      "Running train:   0%|▎                                                                                                          | 1/354 [00:00<04:11,  1.41it/s]"
     ]
    },
    {
     "name": "stderr",
     "output_type": "stream",
     "text": [
      "\r",
      "Running train:   1%|▌                                                                                                          | 2/354 [00:01<04:35,  1.28it/s]"
     ]
    },
    {
     "name": "stderr",
     "output_type": "stream",
     "text": [
      "\r",
      "Running train:   1%|▉                                                                                                          | 3/354 [00:02<04:21,  1.34it/s]"
     ]
    },
    {
     "name": "stderr",
     "output_type": "stream",
     "text": [
      "\r",
      "Running train:   1%|█▏                                                                                                         | 4/354 [00:03<04:26,  1.31it/s]"
     ]
    },
    {
     "name": "stderr",
     "output_type": "stream",
     "text": [
      "\r",
      "Running train:   1%|█▌                                                                                                         | 5/354 [00:03<04:17,  1.35it/s]"
     ]
    },
    {
     "name": "stderr",
     "output_type": "stream",
     "text": [
      "\r",
      "Running train:   2%|█▊                                                                                                         | 6/354 [00:04<04:23,  1.32it/s]"
     ]
    },
    {
     "name": "stderr",
     "output_type": "stream",
     "text": [
      "\r",
      "Running train:   2%|██                                                                                                         | 7/354 [00:05<04:21,  1.32it/s]"
     ]
    },
    {
     "name": "stderr",
     "output_type": "stream",
     "text": [
      "\r",
      "Running train:   2%|██▍                                                                                                        | 8/354 [00:06<04:23,  1.31it/s]"
     ]
    },
    {
     "name": "stderr",
     "output_type": "stream",
     "text": [
      "\r",
      "Running train:   3%|██▋                                                                                                        | 9/354 [00:06<04:17,  1.34it/s]"
     ]
    },
    {
     "name": "stderr",
     "output_type": "stream",
     "text": [
      "\r",
      "Running train:   3%|██▉                                                                                                       | 10/354 [00:07<04:23,  1.30it/s]"
     ]
    },
    {
     "name": "stderr",
     "output_type": "stream",
     "text": [
      "\r",
      "Running train:   3%|███▎                                                                                                      | 11/354 [00:08<04:19,  1.32it/s]"
     ]
    },
    {
     "name": "stderr",
     "output_type": "stream",
     "text": [
      "\r",
      "Running train:   3%|███▌                                                                                                      | 12/354 [00:09<04:18,  1.33it/s]"
     ]
    },
    {
     "name": "stderr",
     "output_type": "stream",
     "text": [
      "\r",
      "Running train:   4%|███▉                                                                                                      | 13/354 [00:09<04:25,  1.28it/s]"
     ]
    },
    {
     "name": "stderr",
     "output_type": "stream",
     "text": [
      "\r",
      "Running train:   4%|████▏                                                                                                     | 14/354 [00:10<04:29,  1.26it/s]"
     ]
    },
    {
     "name": "stderr",
     "output_type": "stream",
     "text": [
      "\r",
      "Running train:   4%|████▍                                                                                                     | 15/354 [00:11<04:26,  1.27it/s]"
     ]
    },
    {
     "name": "stderr",
     "output_type": "stream",
     "text": [
      "\r",
      "Running train:   5%|████▊                                                                                                     | 16/354 [00:12<04:28,  1.26it/s]"
     ]
    },
    {
     "name": "stderr",
     "output_type": "stream",
     "text": [
      "\r",
      "Running train:   5%|█████                                                                                                     | 17/354 [00:13<04:31,  1.24it/s]"
     ]
    },
    {
     "name": "stderr",
     "output_type": "stream",
     "text": [
      "\r",
      "Running train:   5%|█████▍                                                                                                    | 18/354 [00:13<04:31,  1.24it/s]"
     ]
    },
    {
     "name": "stderr",
     "output_type": "stream",
     "text": [
      "\r",
      "Running train:   5%|█████▋                                                                                                    | 19/354 [00:14<04:28,  1.25it/s]"
     ]
    },
    {
     "name": "stderr",
     "output_type": "stream",
     "text": [
      "\r",
      "Running train:   6%|█████▉                                                                                                    | 20/354 [00:15<04:22,  1.27it/s]"
     ]
    },
    {
     "name": "stderr",
     "output_type": "stream",
     "text": [
      "\r",
      "Running train:   6%|██████▎                                                                                                   | 21/354 [00:16<04:18,  1.29it/s]"
     ]
    },
    {
     "name": "stderr",
     "output_type": "stream",
     "text": [
      "\r",
      "Running train:   6%|██████▌                                                                                                   | 22/354 [00:17<04:21,  1.27it/s]"
     ]
    },
    {
     "name": "stderr",
     "output_type": "stream",
     "text": [
      "\r",
      "Running train:   6%|██████▉                                                                                                   | 23/354 [00:17<04:22,  1.26it/s]"
     ]
    },
    {
     "name": "stderr",
     "output_type": "stream",
     "text": [
      "\r",
      "Running train:   7%|███████▏                                                                                                  | 24/354 [00:18<04:20,  1.27it/s]"
     ]
    },
    {
     "name": "stderr",
     "output_type": "stream",
     "text": [
      "\r",
      "Running train:   7%|███████▍                                                                                                  | 25/354 [00:19<04:17,  1.28it/s]"
     ]
    },
    {
     "name": "stderr",
     "output_type": "stream",
     "text": [
      "\r",
      "Running train:   7%|███████▊                                                                                                  | 26/354 [00:20<04:16,  1.28it/s]"
     ]
    },
    {
     "name": "stderr",
     "output_type": "stream",
     "text": [
      "\r",
      "Running train:   8%|████████                                                                                                  | 27/354 [00:20<04:18,  1.27it/s]"
     ]
    },
    {
     "name": "stderr",
     "output_type": "stream",
     "text": [
      "\r",
      "Running train:   8%|████████▍                                                                                                 | 28/354 [00:21<04:14,  1.28it/s]"
     ]
    },
    {
     "name": "stderr",
     "output_type": "stream",
     "text": [
      "\r",
      "Running train:   8%|████████▋                                                                                                 | 29/354 [00:22<04:15,  1.27it/s]"
     ]
    },
    {
     "name": "stderr",
     "output_type": "stream",
     "text": [
      "\r",
      "Running train:   8%|████████▉                                                                                                 | 30/354 [00:23<04:14,  1.27it/s]"
     ]
    },
    {
     "name": "stderr",
     "output_type": "stream",
     "text": [
      "\r",
      "Running train:   9%|█████████▎                                                                                                | 31/354 [00:24<04:15,  1.27it/s]"
     ]
    },
    {
     "name": "stderr",
     "output_type": "stream",
     "text": [
      "\r",
      "Running train:   9%|█████████▌                                                                                                | 32/354 [00:24<04:14,  1.27it/s]"
     ]
    },
    {
     "name": "stderr",
     "output_type": "stream",
     "text": [
      "\r",
      "Running train:   9%|█████████▉                                                                                                | 33/354 [00:25<04:12,  1.27it/s]"
     ]
    },
    {
     "name": "stderr",
     "output_type": "stream",
     "text": [
      "\r",
      "Running train:  10%|██████████▏                                                                                               | 34/354 [00:26<04:12,  1.27it/s]"
     ]
    },
    {
     "name": "stderr",
     "output_type": "stream",
     "text": [
      "\r",
      "Running train:  10%|██████████▍                                                                                               | 35/354 [00:27<04:13,  1.26it/s]"
     ]
    },
    {
     "name": "stderr",
     "output_type": "stream",
     "text": [
      "\r",
      "Running train:  10%|██████████▊                                                                                               | 36/354 [00:28<04:10,  1.27it/s]"
     ]
    },
    {
     "name": "stderr",
     "output_type": "stream",
     "text": [
      "\r",
      "Running train:  10%|███████████                                                                                               | 37/354 [00:28<04:11,  1.26it/s]"
     ]
    },
    {
     "name": "stderr",
     "output_type": "stream",
     "text": [
      "\r",
      "Running train:  11%|███████████▍                                                                                              | 38/354 [00:29<04:11,  1.26it/s]"
     ]
    },
    {
     "name": "stderr",
     "output_type": "stream",
     "text": [
      "\r",
      "Running train:  11%|███████████▋                                                                                              | 39/354 [00:30<04:09,  1.26it/s]"
     ]
    },
    {
     "name": "stderr",
     "output_type": "stream",
     "text": [
      "\r",
      "Running train:  11%|███████████▉                                                                                              | 40/354 [00:31<04:05,  1.28it/s]"
     ]
    },
    {
     "name": "stderr",
     "output_type": "stream",
     "text": [
      "\r",
      "Running train:  12%|████████████▎                                                                                             | 41/354 [00:32<04:06,  1.27it/s]"
     ]
    },
    {
     "name": "stderr",
     "output_type": "stream",
     "text": [
      "\r",
      "Running train:  12%|████████████▌                                                                                             | 42/354 [00:32<04:09,  1.25it/s]"
     ]
    },
    {
     "name": "stderr",
     "output_type": "stream",
     "text": [
      "\r",
      "Running train:  12%|████████████▉                                                                                             | 43/354 [00:33<04:10,  1.24it/s]"
     ]
    },
    {
     "name": "stderr",
     "output_type": "stream",
     "text": [
      "\r",
      "Running train:  12%|█████████████▏                                                                                            | 44/354 [00:34<04:05,  1.26it/s]"
     ]
    },
    {
     "name": "stderr",
     "output_type": "stream",
     "text": [
      "\r",
      "Running train:  13%|█████████████▍                                                                                            | 45/354 [00:35<04:06,  1.25it/s]"
     ]
    },
    {
     "name": "stderr",
     "output_type": "stream",
     "text": [
      "\r",
      "Running train:  13%|█████████████▊                                                                                            | 46/354 [00:36<04:05,  1.25it/s]"
     ]
    },
    {
     "name": "stderr",
     "output_type": "stream",
     "text": [
      "\r",
      "Running train:  13%|██████████████                                                                                            | 47/354 [00:36<04:04,  1.26it/s]"
     ]
    },
    {
     "name": "stderr",
     "output_type": "stream",
     "text": [
      "\r",
      "Running train:  14%|██████████████▎                                                                                           | 48/354 [00:37<04:04,  1.25it/s]"
     ]
    },
    {
     "name": "stderr",
     "output_type": "stream",
     "text": [
      "\r",
      "Running train:  14%|██████████████▋                                                                                           | 49/354 [00:38<04:02,  1.26it/s]"
     ]
    },
    {
     "name": "stderr",
     "output_type": "stream",
     "text": [
      "\r",
      "Running train:  14%|██████████████▉                                                                                           | 50/354 [00:39<04:02,  1.25it/s]"
     ]
    },
    {
     "name": "stderr",
     "output_type": "stream",
     "text": [
      "\r",
      "Running train:  14%|███████████████▎                                                                                          | 51/354 [00:40<04:00,  1.26it/s]"
     ]
    },
    {
     "name": "stderr",
     "output_type": "stream",
     "text": [
      "\r",
      "Running train:  15%|███████████████▌                                                                                          | 52/354 [00:40<03:58,  1.26it/s]"
     ]
    },
    {
     "name": "stderr",
     "output_type": "stream",
     "text": [
      "\r",
      "Running train:  15%|███████████████▊                                                                                          | 53/354 [00:41<03:55,  1.28it/s]"
     ]
    },
    {
     "name": "stderr",
     "output_type": "stream",
     "text": [
      "\r",
      "Running train:  15%|████████████████▏                                                                                         | 54/354 [00:42<03:53,  1.28it/s]"
     ]
    },
    {
     "name": "stderr",
     "output_type": "stream",
     "text": [
      "\r",
      "Running train:  16%|████████████████▍                                                                                         | 55/354 [00:43<03:56,  1.26it/s]"
     ]
    },
    {
     "name": "stderr",
     "output_type": "stream",
     "text": [
      "\r",
      "Running train:  16%|████████████████▊                                                                                         | 56/354 [00:43<03:52,  1.28it/s]"
     ]
    },
    {
     "name": "stderr",
     "output_type": "stream",
     "text": [
      "\r",
      "Running train:  16%|█████████████████                                                                                         | 57/354 [00:44<03:50,  1.29it/s]"
     ]
    },
    {
     "name": "stderr",
     "output_type": "stream",
     "text": [
      "\r",
      "Running train:  16%|█████████████████▎                                                                                        | 58/354 [00:45<03:50,  1.28it/s]"
     ]
    },
    {
     "name": "stderr",
     "output_type": "stream",
     "text": [
      "\r",
      "Running train:  17%|█████████████████▋                                                                                        | 59/354 [00:46<03:50,  1.28it/s]"
     ]
    },
    {
     "name": "stderr",
     "output_type": "stream",
     "text": [
      "\r",
      "Running train:  17%|█████████████████▉                                                                                        | 60/354 [00:47<03:49,  1.28it/s]"
     ]
    },
    {
     "name": "stderr",
     "output_type": "stream",
     "text": [
      "\r",
      "Running train:  17%|██████████████████▎                                                                                       | 61/354 [00:47<03:50,  1.27it/s]"
     ]
    },
    {
     "name": "stderr",
     "output_type": "stream",
     "text": [
      "\r",
      "Running train:  18%|██████████████████▌                                                                                       | 62/354 [00:48<03:52,  1.26it/s]"
     ]
    },
    {
     "name": "stderr",
     "output_type": "stream",
     "text": [
      "\r",
      "Running train:  18%|██████████████████▊                                                                                       | 63/354 [00:49<03:47,  1.28it/s]"
     ]
    },
    {
     "name": "stderr",
     "output_type": "stream",
     "text": [
      "\r",
      "Running train:  18%|███████████████████▏                                                                                      | 64/354 [00:50<03:43,  1.30it/s]"
     ]
    },
    {
     "name": "stderr",
     "output_type": "stream",
     "text": [
      "\r",
      "Running train:  18%|███████████████████▍                                                                                      | 65/354 [00:50<03:39,  1.32it/s]"
     ]
    },
    {
     "name": "stderr",
     "output_type": "stream",
     "text": [
      "\r",
      "Running train:  19%|███████████████████▊                                                                                      | 66/354 [00:51<03:37,  1.32it/s]"
     ]
    },
    {
     "name": "stderr",
     "output_type": "stream",
     "text": [
      "\r",
      "Running train:  19%|████████████████████                                                                                      | 67/354 [00:52<03:36,  1.33it/s]"
     ]
    },
    {
     "name": "stderr",
     "output_type": "stream",
     "text": [
      "\r",
      "Running train:  19%|████████████████████▎                                                                                     | 68/354 [00:53<03:32,  1.34it/s]"
     ]
    },
    {
     "name": "stderr",
     "output_type": "stream",
     "text": [
      "\r",
      "Running train:  19%|████████████████████▋                                                                                     | 69/354 [00:53<03:43,  1.28it/s]"
     ]
    },
    {
     "name": "stderr",
     "output_type": "stream",
     "text": [
      "\r",
      "Running train:  20%|████████████████████▉                                                                                     | 70/354 [00:54<03:47,  1.25it/s]"
     ]
    },
    {
     "name": "stderr",
     "output_type": "stream",
     "text": [
      "\r",
      "Running train:  20%|█████████████████████▎                                                                                    | 71/354 [00:55<03:47,  1.25it/s]"
     ]
    },
    {
     "name": "stderr",
     "output_type": "stream",
     "text": [
      "\r",
      "Running train:  20%|█████████████████████▌                                                                                    | 72/354 [00:56<03:44,  1.25it/s]"
     ]
    },
    {
     "name": "stderr",
     "output_type": "stream",
     "text": [
      "\r",
      "Running train:  21%|█████████████████████▊                                                                                    | 73/354 [00:57<03:46,  1.24it/s]"
     ]
    },
    {
     "name": "stderr",
     "output_type": "stream",
     "text": [
      "\r",
      "Running train:  21%|██████████████████████▏                                                                                   | 74/354 [00:58<03:44,  1.25it/s]"
     ]
    },
    {
     "name": "stderr",
     "output_type": "stream",
     "text": [
      "\r",
      "Running train:  21%|██████████████████████▍                                                                                   | 75/354 [00:58<03:40,  1.26it/s]"
     ]
    },
    {
     "name": "stderr",
     "output_type": "stream",
     "text": [
      "\r",
      "Running train:  21%|██████████████████████▊                                                                                   | 76/354 [00:59<03:42,  1.25it/s]"
     ]
    },
    {
     "name": "stderr",
     "output_type": "stream",
     "text": [
      "\r",
      "Running train:  22%|███████████████████████                                                                                   | 77/354 [01:00<03:39,  1.26it/s]"
     ]
    },
    {
     "name": "stderr",
     "output_type": "stream",
     "text": [
      "\r",
      "Running train:  22%|███████████████████████▎                                                                                  | 78/354 [01:01<03:37,  1.27it/s]"
     ]
    },
    {
     "name": "stderr",
     "output_type": "stream",
     "text": [
      "\r",
      "Running train:  22%|███████████████████████▋                                                                                  | 79/354 [01:01<03:39,  1.25it/s]"
     ]
    },
    {
     "name": "stderr",
     "output_type": "stream",
     "text": [
      "\r",
      "Running train:  23%|███████████████████████▉                                                                                  | 80/354 [01:02<03:36,  1.27it/s]"
     ]
    },
    {
     "name": "stderr",
     "output_type": "stream",
     "text": [
      "\r",
      "Running train:  23%|████████████████████████▎                                                                                 | 81/354 [01:03<03:35,  1.27it/s]"
     ]
    },
    {
     "name": "stderr",
     "output_type": "stream",
     "text": [
      "\r",
      "Running train:  23%|████████████████████████▌                                                                                 | 82/354 [01:04<03:34,  1.27it/s]"
     ]
    },
    {
     "name": "stderr",
     "output_type": "stream",
     "text": [
      "\r",
      "Running train:  23%|████████████████████████▊                                                                                 | 83/354 [01:05<03:33,  1.27it/s]"
     ]
    },
    {
     "name": "stderr",
     "output_type": "stream",
     "text": [
      "\r",
      "Running train:  24%|█████████████████████████▏                                                                                | 84/354 [01:05<03:35,  1.25it/s]"
     ]
    },
    {
     "name": "stderr",
     "output_type": "stream",
     "text": [
      "\r",
      "Running train:  24%|█████████████████████████▍                                                                                | 85/354 [01:06<03:32,  1.27it/s]"
     ]
    },
    {
     "name": "stderr",
     "output_type": "stream",
     "text": [
      "\r",
      "Running train:  24%|█████████████████████████▊                                                                                | 86/354 [01:07<03:34,  1.25it/s]"
     ]
    },
    {
     "name": "stderr",
     "output_type": "stream",
     "text": [
      "\r",
      "Running train:  25%|██████████████████████████                                                                                | 87/354 [01:08<03:34,  1.25it/s]"
     ]
    },
    {
     "name": "stderr",
     "output_type": "stream",
     "text": [
      "\r",
      "Running train:  25%|██████████████████████████▎                                                                               | 88/354 [01:09<03:32,  1.25it/s]"
     ]
    },
    {
     "name": "stderr",
     "output_type": "stream",
     "text": [
      "\r",
      "Running train:  25%|██████████████████████████▋                                                                               | 89/354 [01:09<03:30,  1.26it/s]"
     ]
    },
    {
     "name": "stderr",
     "output_type": "stream",
     "text": [
      "\r",
      "Running train:  25%|██████████████████████████▉                                                                               | 90/354 [01:10<03:31,  1.25it/s]"
     ]
    },
    {
     "name": "stderr",
     "output_type": "stream",
     "text": [
      "\r",
      "Running train:  26%|███████████████████████████▏                                                                              | 91/354 [01:11<03:29,  1.25it/s]"
     ]
    },
    {
     "name": "stderr",
     "output_type": "stream",
     "text": [
      "\r",
      "Running train:  26%|███████████████████████████▌                                                                              | 92/354 [01:12<03:28,  1.25it/s]"
     ]
    },
    {
     "name": "stderr",
     "output_type": "stream",
     "text": [
      "\r",
      "Running train:  26%|███████████████████████████▊                                                                              | 93/354 [01:13<03:27,  1.26it/s]"
     ]
    },
    {
     "name": "stderr",
     "output_type": "stream",
     "text": [
      "\r",
      "Running train:  27%|████████████████████████████▏                                                                             | 94/354 [01:13<03:25,  1.27it/s]"
     ]
    },
    {
     "name": "stderr",
     "output_type": "stream",
     "text": [
      "\r",
      "Running train:  27%|████████████████████████████▍                                                                             | 95/354 [01:14<03:23,  1.27it/s]"
     ]
    },
    {
     "name": "stderr",
     "output_type": "stream",
     "text": [
      "\r",
      "Running train:  27%|████████████████████████████▋                                                                             | 96/354 [01:15<03:21,  1.28it/s]"
     ]
    },
    {
     "name": "stderr",
     "output_type": "stream",
     "text": [
      "\r",
      "Running train:  27%|█████████████████████████████                                                                             | 97/354 [01:16<03:19,  1.29it/s]"
     ]
    },
    {
     "name": "stderr",
     "output_type": "stream",
     "text": [
      "\r",
      "Running train:  28%|█████████████████████████████▎                                                                            | 98/354 [01:16<03:19,  1.28it/s]"
     ]
    },
    {
     "name": "stderr",
     "output_type": "stream",
     "text": [
      "\r",
      "Running train:  28%|█████████████████████████████▋                                                                            | 99/354 [01:17<03:11,  1.33it/s]"
     ]
    },
    {
     "name": "stderr",
     "output_type": "stream",
     "text": [
      "\r",
      "Running train:  28%|█████████████████████████████▋                                                                           | 100/354 [01:18<03:06,  1.36it/s]"
     ]
    },
    {
     "name": "stderr",
     "output_type": "stream",
     "text": [
      "\r",
      "Running train:  29%|█████████████████████████████▉                                                                           | 101/354 [01:19<03:09,  1.33it/s]"
     ]
    },
    {
     "name": "stderr",
     "output_type": "stream",
     "text": [
      "\r",
      "Running train:  29%|██████████████████████████████▎                                                                          | 102/354 [01:19<03:10,  1.32it/s]"
     ]
    },
    {
     "name": "stderr",
     "output_type": "stream",
     "text": [
      "\r",
      "Running train:  29%|██████████████████████████████▌                                                                          | 103/354 [01:20<03:10,  1.32it/s]"
     ]
    },
    {
     "name": "stderr",
     "output_type": "stream",
     "text": [
      "\r",
      "Running train:  29%|██████████████████████████████▊                                                                          | 104/354 [01:21<03:12,  1.30it/s]"
     ]
    },
    {
     "name": "stderr",
     "output_type": "stream",
     "text": [
      "\r",
      "Running train:  30%|███████████████████████████████▏                                                                         | 105/354 [01:22<03:09,  1.31it/s]"
     ]
    },
    {
     "name": "stderr",
     "output_type": "stream",
     "text": [
      "\r",
      "Running train:  30%|███████████████████████████████▍                                                                         | 106/354 [01:22<03:05,  1.33it/s]"
     ]
    },
    {
     "name": "stderr",
     "output_type": "stream",
     "text": [
      "\r",
      "Running train:  30%|███████████████████████████████▋                                                                         | 107/354 [01:23<03:08,  1.31it/s]"
     ]
    },
    {
     "name": "stderr",
     "output_type": "stream",
     "text": [
      "\r",
      "Running train:  31%|████████████████████████████████                                                                         | 108/354 [01:24<03:02,  1.35it/s]"
     ]
    },
    {
     "name": "stderr",
     "output_type": "stream",
     "text": [
      "\r",
      "Running train:  31%|████████████████████████████████▎                                                                        | 109/354 [01:25<02:59,  1.37it/s]"
     ]
    },
    {
     "name": "stderr",
     "output_type": "stream",
     "text": [
      "\r",
      "Running train:  31%|████████████████████████████████▋                                                                        | 110/354 [01:25<03:00,  1.36it/s]"
     ]
    },
    {
     "name": "stderr",
     "output_type": "stream",
     "text": [
      "\r",
      "Running train:  31%|████████████████████████████████▉                                                                        | 111/354 [01:26<02:57,  1.37it/s]"
     ]
    },
    {
     "name": "stderr",
     "output_type": "stream",
     "text": [
      "\r",
      "Running train:  32%|█████████████████████████████████▏                                                                       | 112/354 [01:27<03:04,  1.31it/s]"
     ]
    },
    {
     "name": "stderr",
     "output_type": "stream",
     "text": [
      "\r",
      "Running train:  32%|█████████████████████████████████▌                                                                       | 113/354 [01:28<03:04,  1.30it/s]"
     ]
    },
    {
     "name": "stderr",
     "output_type": "stream",
     "text": [
      "\r",
      "Running train:  32%|█████████████████████████████████▊                                                                       | 114/354 [01:28<03:01,  1.32it/s]"
     ]
    },
    {
     "name": "stderr",
     "output_type": "stream",
     "text": [
      "\r",
      "Running train:  32%|██████████████████████████████████                                                                       | 115/354 [01:29<03:03,  1.30it/s]"
     ]
    },
    {
     "name": "stderr",
     "output_type": "stream",
     "text": [
      "\r",
      "Running train:  33%|██████████████████████████████████▍                                                                      | 116/354 [01:30<03:02,  1.31it/s]"
     ]
    },
    {
     "name": "stderr",
     "output_type": "stream",
     "text": [
      "\r",
      "Running train:  33%|██████████████████████████████████▋                                                                      | 117/354 [01:31<03:02,  1.30it/s]"
     ]
    },
    {
     "name": "stderr",
     "output_type": "stream",
     "text": [
      "\r",
      "Running train:  33%|███████████████████████████████████                                                                      | 118/354 [01:32<03:04,  1.28it/s]"
     ]
    },
    {
     "name": "stderr",
     "output_type": "stream",
     "text": [
      "\r",
      "Running train:  34%|███████████████████████████████████▎                                                                     | 119/354 [01:32<03:04,  1.28it/s]"
     ]
    },
    {
     "name": "stderr",
     "output_type": "stream",
     "text": [
      "\r",
      "Running train:  34%|███████████████████████████████████▌                                                                     | 120/354 [01:33<03:03,  1.27it/s]"
     ]
    },
    {
     "name": "stderr",
     "output_type": "stream",
     "text": [
      "\r",
      "Running train:  34%|███████████████████████████████████▉                                                                     | 121/354 [01:34<03:05,  1.26it/s]"
     ]
    },
    {
     "name": "stderr",
     "output_type": "stream",
     "text": [
      "\r",
      "Running train:  34%|████████████████████████████████████▏                                                                    | 122/354 [01:35<03:05,  1.25it/s]"
     ]
    },
    {
     "name": "stderr",
     "output_type": "stream",
     "text": [
      "\r",
      "Running train:  35%|████████████████████████████████████▍                                                                    | 123/354 [01:36<03:01,  1.27it/s]"
     ]
    },
    {
     "name": "stderr",
     "output_type": "stream",
     "text": [
      "\r",
      "Running train:  35%|████████████████████████████████████▊                                                                    | 124/354 [01:36<03:01,  1.27it/s]"
     ]
    },
    {
     "name": "stderr",
     "output_type": "stream",
     "text": [
      "\r",
      "Running train:  35%|█████████████████████████████████████                                                                    | 125/354 [01:37<02:59,  1.27it/s]"
     ]
    },
    {
     "name": "stderr",
     "output_type": "stream",
     "text": [
      "\r",
      "Running train:  36%|█████████████████████████████████████▎                                                                   | 126/354 [01:38<02:55,  1.30it/s]"
     ]
    },
    {
     "name": "stderr",
     "output_type": "stream",
     "text": [
      "\r",
      "Running train:  36%|█████████████████████████████████████▋                                                                   | 127/354 [01:39<02:53,  1.31it/s]"
     ]
    },
    {
     "name": "stderr",
     "output_type": "stream",
     "text": [
      "\r",
      "Running train:  36%|█████████████████████████████████████▉                                                                   | 128/354 [01:39<02:49,  1.33it/s]"
     ]
    },
    {
     "name": "stderr",
     "output_type": "stream",
     "text": [
      "\r",
      "Running train:  36%|██████████████████████████████████████▎                                                                  | 129/354 [01:40<02:52,  1.30it/s]"
     ]
    },
    {
     "name": "stderr",
     "output_type": "stream",
     "text": [
      "\r",
      "Running train:  37%|██████████████████████████████████████▌                                                                  | 130/354 [01:41<02:53,  1.29it/s]"
     ]
    },
    {
     "name": "stderr",
     "output_type": "stream",
     "text": [
      "\r",
      "Running train:  37%|██████████████████████████████████████▊                                                                  | 131/354 [01:42<02:56,  1.26it/s]"
     ]
    },
    {
     "name": "stderr",
     "output_type": "stream",
     "text": [
      "\r",
      "Running train:  37%|███████████████████████████████████████▏                                                                 | 132/354 [01:43<02:55,  1.27it/s]"
     ]
    },
    {
     "name": "stderr",
     "output_type": "stream",
     "text": [
      "\r",
      "Running train:  38%|███████████████████████████████████████▍                                                                 | 133/354 [01:43<02:51,  1.29it/s]"
     ]
    },
    {
     "name": "stderr",
     "output_type": "stream",
     "text": [
      "\r",
      "Running train:  38%|███████████████████████████████████████▋                                                                 | 134/354 [01:44<02:52,  1.28it/s]"
     ]
    },
    {
     "name": "stderr",
     "output_type": "stream",
     "text": [
      "\r",
      "Running train:  38%|████████████████████████████████████████                                                                 | 135/354 [01:45<02:54,  1.26it/s]"
     ]
    },
    {
     "name": "stderr",
     "output_type": "stream",
     "text": [
      "\r",
      "Running train:  38%|████████████████████████████████████████▎                                                                | 136/354 [01:46<02:51,  1.27it/s]"
     ]
    },
    {
     "name": "stderr",
     "output_type": "stream",
     "text": [
      "\r",
      "Running train:  39%|████████████████████████████████████████▋                                                                | 137/354 [01:46<02:52,  1.26it/s]"
     ]
    },
    {
     "name": "stderr",
     "output_type": "stream",
     "text": [
      "\r",
      "Running train:  39%|████████████████████████████████████████▉                                                                | 138/354 [01:47<02:52,  1.25it/s]"
     ]
    },
    {
     "name": "stderr",
     "output_type": "stream",
     "text": [
      "\r",
      "Running train:  39%|█████████████████████████████████████████▏                                                               | 139/354 [01:48<02:51,  1.26it/s]"
     ]
    },
    {
     "name": "stderr",
     "output_type": "stream",
     "text": [
      "\r",
      "Running train:  40%|█████████████████████████████████████████▌                                                               | 140/354 [01:49<02:50,  1.26it/s]"
     ]
    },
    {
     "name": "stderr",
     "output_type": "stream",
     "text": [
      "\r",
      "Running train:  40%|█████████████████████████████████████████▊                                                               | 141/354 [01:50<02:52,  1.23it/s]"
     ]
    },
    {
     "name": "stderr",
     "output_type": "stream",
     "text": [
      "\r",
      "Running train:  40%|██████████████████████████████████████████                                                               | 142/354 [01:51<02:49,  1.25it/s]"
     ]
    },
    {
     "name": "stderr",
     "output_type": "stream",
     "text": [
      "\r",
      "Running train:  40%|██████████████████████████████████████████▍                                                              | 143/354 [01:51<02:46,  1.27it/s]"
     ]
    },
    {
     "name": "stderr",
     "output_type": "stream",
     "text": [
      "\r",
      "Running train:  41%|██████████████████████████████████████████▋                                                              | 144/354 [01:52<02:45,  1.27it/s]"
     ]
    },
    {
     "name": "stderr",
     "output_type": "stream",
     "text": [
      "\r",
      "Running train:  41%|███████████████████████████████████████████                                                              | 145/354 [01:53<02:46,  1.26it/s]"
     ]
    },
    {
     "name": "stderr",
     "output_type": "stream",
     "text": [
      "\r",
      "Running train:  41%|███████████████████████████████████████████▎                                                             | 146/354 [01:54<02:46,  1.25it/s]"
     ]
    },
    {
     "name": "stderr",
     "output_type": "stream",
     "text": [
      "\r",
      "Running train:  42%|███████████████████████████████████████████▌                                                             | 147/354 [01:54<02:45,  1.25it/s]"
     ]
    },
    {
     "name": "stderr",
     "output_type": "stream",
     "text": [
      "\r",
      "Running train:  42%|███████████████████████████████████████████▉                                                             | 148/354 [01:55<02:43,  1.26it/s]"
     ]
    },
    {
     "name": "stderr",
     "output_type": "stream",
     "text": [
      "\r",
      "Running train:  42%|████████████████████████████████████████████▏                                                            | 149/354 [01:56<02:43,  1.25it/s]"
     ]
    },
    {
     "name": "stderr",
     "output_type": "stream",
     "text": [
      "\r",
      "Running train:  42%|████████████████████████████████████████████▍                                                            | 150/354 [01:57<02:43,  1.25it/s]"
     ]
    },
    {
     "name": "stderr",
     "output_type": "stream",
     "text": [
      "\r",
      "Running train:  43%|████████████████████████████████████████████▊                                                            | 151/354 [01:58<02:42,  1.25it/s]"
     ]
    },
    {
     "name": "stderr",
     "output_type": "stream",
     "text": [
      "\r",
      "Running train:  43%|█████████████████████████████████████████████                                                            | 152/354 [01:58<02:40,  1.26it/s]"
     ]
    },
    {
     "name": "stderr",
     "output_type": "stream",
     "text": [
      "\r",
      "Running train:  43%|█████████████████████████████████████████████▍                                                           | 153/354 [01:59<02:39,  1.26it/s]"
     ]
    },
    {
     "name": "stderr",
     "output_type": "stream",
     "text": [
      "\r",
      "Running train:  44%|█████████████████████████████████████████████▋                                                           | 154/354 [02:00<02:40,  1.25it/s]"
     ]
    },
    {
     "name": "stderr",
     "output_type": "stream",
     "text": [
      "\r",
      "Running train:  44%|█████████████████████████████████████████████▉                                                           | 155/354 [02:01<02:38,  1.25it/s]"
     ]
    },
    {
     "name": "stderr",
     "output_type": "stream",
     "text": [
      "\r",
      "Running train:  44%|██████████████████████████████████████████████▎                                                          | 156/354 [02:02<02:38,  1.25it/s]"
     ]
    },
    {
     "name": "stderr",
     "output_type": "stream",
     "text": [
      "\r",
      "Running train:  44%|██████████████████████████████████████████████▌                                                          | 157/354 [02:02<02:37,  1.25it/s]"
     ]
    },
    {
     "name": "stderr",
     "output_type": "stream",
     "text": [
      "\r",
      "Running train:  45%|██████████████████████████████████████████████▊                                                          | 158/354 [02:03<02:35,  1.26it/s]"
     ]
    },
    {
     "name": "stderr",
     "output_type": "stream",
     "text": [
      "\r",
      "Running train:  45%|███████████████████████████████████████████████▏                                                         | 159/354 [02:04<02:34,  1.26it/s]"
     ]
    },
    {
     "name": "stderr",
     "output_type": "stream",
     "text": [
      "\r",
      "Running train:  45%|███████████████████████████████████████████████▍                                                         | 160/354 [02:05<02:35,  1.25it/s]"
     ]
    },
    {
     "name": "stderr",
     "output_type": "stream",
     "text": [
      "\r",
      "Running train:  45%|███████████████████████████████████████████████▊                                                         | 161/354 [02:06<02:32,  1.27it/s]"
     ]
    },
    {
     "name": "stderr",
     "output_type": "stream",
     "text": [
      "\r",
      "Running train:  46%|████████████████████████████████████████████████                                                         | 162/354 [02:06<02:27,  1.30it/s]"
     ]
    },
    {
     "name": "stderr",
     "output_type": "stream",
     "text": [
      "\r",
      "Running train:  46%|████████████████████████████████████████████████▎                                                        | 163/354 [02:07<02:28,  1.29it/s]"
     ]
    },
    {
     "name": "stderr",
     "output_type": "stream",
     "text": [
      "\r",
      "Running train:  46%|████████████████████████████████████████████████▋                                                        | 164/354 [02:08<02:29,  1.27it/s]"
     ]
    },
    {
     "name": "stderr",
     "output_type": "stream",
     "text": [
      "\r",
      "Running train:  47%|████████████████████████████████████████████████▉                                                        | 165/354 [02:09<02:26,  1.29it/s]"
     ]
    },
    {
     "name": "stderr",
     "output_type": "stream",
     "text": [
      "\r",
      "Running train:  47%|█████████████████████████████████████████████████▏                                                       | 166/354 [02:09<02:24,  1.30it/s]"
     ]
    },
    {
     "name": "stderr",
     "output_type": "stream",
     "text": [
      "\r",
      "Running train:  47%|█████████████████████████████████████████████████▌                                                       | 167/354 [02:10<02:22,  1.32it/s]"
     ]
    },
    {
     "name": "stderr",
     "output_type": "stream",
     "text": [
      "\r",
      "Running train:  47%|█████████████████████████████████████████████████▊                                                       | 168/354 [02:11<02:23,  1.30it/s]"
     ]
    },
    {
     "name": "stderr",
     "output_type": "stream",
     "text": [
      "\r",
      "Running train:  48%|██████████████████████████████████████████████████▏                                                      | 169/354 [02:12<02:22,  1.30it/s]"
     ]
    },
    {
     "name": "stderr",
     "output_type": "stream",
     "text": [
      "\r",
      "Running train:  48%|██████████████████████████████████████████████████▍                                                      | 170/354 [02:13<02:22,  1.29it/s]"
     ]
    },
    {
     "name": "stderr",
     "output_type": "stream",
     "text": [
      "\r",
      "Running train:  48%|██████████████████████████████████████████████████▋                                                      | 171/354 [02:13<02:24,  1.26it/s]"
     ]
    },
    {
     "name": "stderr",
     "output_type": "stream",
     "text": [
      "\r",
      "Running train:  49%|███████████████████████████████████████████████████                                                      | 172/354 [02:14<02:22,  1.28it/s]"
     ]
    },
    {
     "name": "stderr",
     "output_type": "stream",
     "text": [
      "\r",
      "Running train:  49%|███████████████████████████████████████████████████▎                                                     | 173/354 [02:15<02:18,  1.31it/s]"
     ]
    },
    {
     "name": "stderr",
     "output_type": "stream",
     "text": [
      "\r",
      "Running train:  49%|███████████████████████████████████████████████████▌                                                     | 174/354 [02:16<02:21,  1.27it/s]"
     ]
    },
    {
     "name": "stderr",
     "output_type": "stream",
     "text": [
      "\r",
      "Running train:  49%|███████████████████████████████████████████████████▉                                                     | 175/354 [02:16<02:22,  1.26it/s]"
     ]
    },
    {
     "name": "stderr",
     "output_type": "stream",
     "text": [
      "\r",
      "Running train:  50%|████████████████████████████████████████████████████▏                                                    | 176/354 [02:17<02:21,  1.26it/s]"
     ]
    },
    {
     "name": "stderr",
     "output_type": "stream",
     "text": [
      "\r",
      "Running train:  50%|████████████████████████████████████████████████████▌                                                    | 177/354 [02:18<02:18,  1.28it/s]"
     ]
    },
    {
     "name": "stderr",
     "output_type": "stream",
     "text": [
      "\r",
      "Running train:  50%|████████████████████████████████████████████████████▊                                                    | 178/354 [02:19<02:17,  1.28it/s]"
     ]
    },
    {
     "name": "stderr",
     "output_type": "stream",
     "text": [
      "\r",
      "Running train:  51%|█████████████████████████████████████████████████████                                                    | 179/354 [02:20<02:16,  1.28it/s]"
     ]
    },
    {
     "name": "stderr",
     "output_type": "stream",
     "text": [
      "\r",
      "Running train:  51%|█████████████████████████████████████████████████████▍                                                   | 180/354 [02:20<02:13,  1.30it/s]"
     ]
    },
    {
     "name": "stderr",
     "output_type": "stream",
     "text": [
      "\r",
      "Running train:  51%|█████████████████████████████████████████████████████▋                                                   | 181/354 [02:21<02:13,  1.29it/s]"
     ]
    },
    {
     "name": "stderr",
     "output_type": "stream",
     "text": [
      "\r",
      "Running train:  51%|█████████████████████████████████████████████████████▉                                                   | 182/354 [02:22<02:12,  1.30it/s]"
     ]
    },
    {
     "name": "stderr",
     "output_type": "stream",
     "text": [
      "\r",
      "Running train:  52%|██████████████████████████████████████████████████████▎                                                  | 183/354 [02:23<02:09,  1.32it/s]"
     ]
    },
    {
     "name": "stderr",
     "output_type": "stream",
     "text": [
      "\r",
      "Running train:  52%|██████████████████████████████████████████████████████▌                                                  | 184/354 [02:23<02:12,  1.29it/s]"
     ]
    },
    {
     "name": "stderr",
     "output_type": "stream",
     "text": [
      "\r",
      "Running train:  52%|██████████████████████████████████████████████████████▊                                                  | 185/354 [02:24<02:09,  1.31it/s]"
     ]
    },
    {
     "name": "stderr",
     "output_type": "stream",
     "text": [
      "\r",
      "Running train:  53%|███████████████████████████████████████████████████████▏                                                 | 186/354 [02:25<02:09,  1.30it/s]"
     ]
    },
    {
     "name": "stderr",
     "output_type": "stream",
     "text": [
      "\r",
      "Running train:  53%|███████████████████████████████████████████████████████▍                                                 | 187/354 [02:26<02:10,  1.28it/s]"
     ]
    },
    {
     "name": "stderr",
     "output_type": "stream",
     "text": [
      "\r",
      "Running train:  53%|███████████████████████████████████████████████████████▊                                                 | 188/354 [02:26<02:07,  1.30it/s]"
     ]
    },
    {
     "name": "stderr",
     "output_type": "stream",
     "text": [
      "\r",
      "Running train:  53%|████████████████████████████████████████████████████████                                                 | 189/354 [02:27<02:05,  1.31it/s]"
     ]
    },
    {
     "name": "stderr",
     "output_type": "stream",
     "text": [
      "\r",
      "Running train:  54%|████████████████████████████████████████████████████████▎                                                | 190/354 [02:28<02:03,  1.33it/s]"
     ]
    },
    {
     "name": "stderr",
     "output_type": "stream",
     "text": [
      "\r",
      "Running train:  54%|████████████████████████████████████████████████████████▋                                                | 191/354 [02:29<02:00,  1.35it/s]"
     ]
    },
    {
     "name": "stderr",
     "output_type": "stream",
     "text": [
      "\r",
      "Running train:  54%|████████████████████████████████████████████████████████▉                                                | 192/354 [02:29<02:01,  1.33it/s]"
     ]
    },
    {
     "name": "stderr",
     "output_type": "stream",
     "text": [
      "\r",
      "Running train:  55%|█████████████████████████████████████████████████████████▏                                               | 193/354 [02:30<02:02,  1.32it/s]"
     ]
    },
    {
     "name": "stderr",
     "output_type": "stream",
     "text": [
      "\r",
      "Running train:  55%|█████████████████████████████████████████████████████████▌                                               | 194/354 [02:31<02:02,  1.31it/s]"
     ]
    },
    {
     "name": "stderr",
     "output_type": "stream",
     "text": [
      "\r",
      "Running train:  55%|█████████████████████████████████████████████████████████▊                                               | 195/354 [02:32<02:03,  1.29it/s]"
     ]
    },
    {
     "name": "stderr",
     "output_type": "stream",
     "text": [
      "\r",
      "Running train:  55%|██████████████████████████████████████████████████████████▏                                              | 196/354 [02:33<02:03,  1.28it/s]"
     ]
    },
    {
     "name": "stderr",
     "output_type": "stream",
     "text": [
      "\r",
      "Running train:  56%|██████████████████████████████████████████████████████████▍                                              | 197/354 [02:33<02:02,  1.29it/s]"
     ]
    },
    {
     "name": "stderr",
     "output_type": "stream",
     "text": [
      "\r",
      "Running train:  56%|██████████████████████████████████████████████████████████▋                                              | 198/354 [02:34<02:02,  1.27it/s]"
     ]
    },
    {
     "name": "stderr",
     "output_type": "stream",
     "text": [
      "\r",
      "Running train:  56%|███████████████████████████████████████████████████████████                                              | 199/354 [02:35<02:02,  1.26it/s]"
     ]
    },
    {
     "name": "stderr",
     "output_type": "stream",
     "text": [
      "\r",
      "Running train:  56%|███████████████████████████████████████████████████████████▎                                             | 200/354 [02:36<02:02,  1.26it/s]"
     ]
    },
    {
     "name": "stderr",
     "output_type": "stream",
     "text": [
      "\r",
      "Running train:  57%|███████████████████████████████████████████████████████████▌                                             | 201/354 [02:37<02:01,  1.26it/s]"
     ]
    },
    {
     "name": "stderr",
     "output_type": "stream",
     "text": [
      "\r",
      "Running train:  57%|███████████████████████████████████████████████████████████▉                                             | 202/354 [02:37<01:57,  1.30it/s]"
     ]
    },
    {
     "name": "stderr",
     "output_type": "stream",
     "text": [
      "\r",
      "Running train:  57%|████████████████████████████████████████████████████████████▏                                            | 203/354 [02:38<01:56,  1.29it/s]"
     ]
    },
    {
     "name": "stderr",
     "output_type": "stream",
     "text": [
      "\r",
      "Running train:  58%|████████████████████████████████████████████████████████████▌                                            | 204/354 [02:39<01:56,  1.29it/s]"
     ]
    },
    {
     "name": "stderr",
     "output_type": "stream",
     "text": [
      "\r",
      "Running train:  58%|████████████████████████████████████████████████████████████▊                                            | 205/354 [02:40<01:56,  1.28it/s]"
     ]
    },
    {
     "name": "stderr",
     "output_type": "stream",
     "text": [
      "\r",
      "Running train:  58%|█████████████████████████████████████████████████████████████                                            | 206/354 [02:40<01:57,  1.26it/s]"
     ]
    },
    {
     "name": "stderr",
     "output_type": "stream",
     "text": [
      "\r",
      "Running train:  58%|█████████████████████████████████████████████████████████████▍                                           | 207/354 [02:41<01:55,  1.28it/s]"
     ]
    },
    {
     "name": "stderr",
     "output_type": "stream",
     "text": [
      "\r",
      "Running train:  59%|█████████████████████████████████████████████████████████████▋                                           | 208/354 [02:42<01:53,  1.29it/s]"
     ]
    },
    {
     "name": "stderr",
     "output_type": "stream",
     "text": [
      "\r",
      "Running train:  59%|█████████████████████████████████████████████████████████████▉                                           | 209/354 [02:43<01:52,  1.29it/s]"
     ]
    },
    {
     "name": "stderr",
     "output_type": "stream",
     "text": [
      "\r",
      "Running train:  59%|██████████████████████████████████████████████████████████████▎                                          | 210/354 [02:44<01:54,  1.26it/s]"
     ]
    },
    {
     "name": "stderr",
     "output_type": "stream",
     "text": [
      "\r",
      "Running train:  60%|██████████████████████████████████████████████████████████████▌                                          | 211/354 [02:44<01:54,  1.25it/s]"
     ]
    },
    {
     "name": "stderr",
     "output_type": "stream",
     "text": [
      "\r",
      "Running train:  60%|██████████████████████████████████████████████████████████████▉                                          | 212/354 [02:45<01:53,  1.26it/s]"
     ]
    },
    {
     "name": "stderr",
     "output_type": "stream",
     "text": [
      "\r",
      "Running train:  60%|███████████████████████████████████████████████████████████████▏                                         | 213/354 [02:46<01:51,  1.26it/s]"
     ]
    },
    {
     "name": "stderr",
     "output_type": "stream",
     "text": [
      "\r",
      "Running train:  60%|███████████████████████████████████████████████████████████████▍                                         | 214/354 [02:47<01:49,  1.28it/s]"
     ]
    },
    {
     "name": "stderr",
     "output_type": "stream",
     "text": [
      "\r",
      "Running train:  61%|███████████████████████████████████████████████████████████████▊                                         | 215/354 [02:48<01:49,  1.27it/s]"
     ]
    },
    {
     "name": "stderr",
     "output_type": "stream",
     "text": [
      "\r",
      "Running train:  61%|████████████████████████████████████████████████████████████████                                         | 216/354 [02:48<01:47,  1.29it/s]"
     ]
    },
    {
     "name": "stderr",
     "output_type": "stream",
     "text": [
      "\r",
      "Running train:  61%|████████████████████████████████████████████████████████████████▎                                        | 217/354 [02:49<01:47,  1.27it/s]"
     ]
    },
    {
     "name": "stderr",
     "output_type": "stream",
     "text": [
      "\r",
      "Running train:  62%|████████████████████████████████████████████████████████████████▋                                        | 218/354 [02:50<01:46,  1.28it/s]"
     ]
    },
    {
     "name": "stderr",
     "output_type": "stream",
     "text": [
      "\r",
      "Running train:  62%|████████████████████████████████████████████████████████████████▉                                        | 219/354 [02:51<01:45,  1.28it/s]"
     ]
    },
    {
     "name": "stderr",
     "output_type": "stream",
     "text": [
      "\r",
      "Running train:  62%|█████████████████████████████████████████████████████████████████▎                                       | 220/354 [02:51<01:45,  1.27it/s]"
     ]
    },
    {
     "name": "stderr",
     "output_type": "stream",
     "text": [
      "\r",
      "Running train:  62%|█████████████████████████████████████████████████████████████████▌                                       | 221/354 [02:52<01:45,  1.26it/s]"
     ]
    },
    {
     "name": "stderr",
     "output_type": "stream",
     "text": [
      "\r",
      "Running train:  63%|█████████████████████████████████████████████████████████████████▊                                       | 222/354 [02:53<01:43,  1.27it/s]"
     ]
    },
    {
     "name": "stderr",
     "output_type": "stream",
     "text": [
      "\r",
      "Running train:  63%|██████████████████████████████████████████████████████████████████▏                                      | 223/354 [02:54<01:43,  1.27it/s]"
     ]
    },
    {
     "name": "stderr",
     "output_type": "stream",
     "text": [
      "\r",
      "Running train:  63%|██████████████████████████████████████████████████████████████████▍                                      | 224/354 [02:55<01:43,  1.25it/s]"
     ]
    },
    {
     "name": "stderr",
     "output_type": "stream",
     "text": [
      "\r",
      "Running train:  64%|██████████████████████████████████████████████████████████████████▋                                      | 225/354 [02:55<01:42,  1.26it/s]"
     ]
    },
    {
     "name": "stderr",
     "output_type": "stream",
     "text": [
      "\r",
      "Running train:  64%|███████████████████████████████████████████████████████████████████                                      | 226/354 [02:56<01:41,  1.27it/s]"
     ]
    },
    {
     "name": "stderr",
     "output_type": "stream",
     "text": [
      "\r",
      "Running train:  64%|███████████████████████████████████████████████████████████████████▎                                     | 227/354 [02:57<01:40,  1.27it/s]"
     ]
    },
    {
     "name": "stderr",
     "output_type": "stream",
     "text": [
      "\r",
      "Running train:  64%|███████████████████████████████████████████████████████████████████▋                                     | 228/354 [02:58<01:39,  1.27it/s]"
     ]
    },
    {
     "name": "stderr",
     "output_type": "stream",
     "text": [
      "\r",
      "Running train:  65%|███████████████████████████████████████████████████████████████████▉                                     | 229/354 [02:59<01:38,  1.26it/s]"
     ]
    },
    {
     "name": "stderr",
     "output_type": "stream",
     "text": [
      "\r",
      "Running train:  65%|████████████████████████████████████████████████████████████████████▏                                    | 230/354 [02:59<01:36,  1.28it/s]"
     ]
    },
    {
     "name": "stderr",
     "output_type": "stream",
     "text": [
      "\r",
      "Running train:  65%|████████████████████████████████████████████████████████████████████▌                                    | 231/354 [03:00<01:37,  1.26it/s]"
     ]
    },
    {
     "name": "stderr",
     "output_type": "stream",
     "text": [
      "\r",
      "Running train:  66%|████████████████████████████████████████████████████████████████████▊                                    | 232/354 [03:01<01:36,  1.26it/s]"
     ]
    },
    {
     "name": "stderr",
     "output_type": "stream",
     "text": [
      "\r",
      "Running train:  66%|█████████████████████████████████████████████████████████████████████                                    | 233/354 [03:02<01:36,  1.25it/s]"
     ]
    },
    {
     "name": "stderr",
     "output_type": "stream",
     "text": [
      "\r",
      "Running train:  66%|█████████████████████████████████████████████████████████████████████▍                                   | 234/354 [03:03<01:36,  1.24it/s]"
     ]
    },
    {
     "name": "stderr",
     "output_type": "stream",
     "text": [
      "\r",
      "Running train:  66%|█████████████████████████████████████████████████████████████████████▋                                   | 235/354 [03:03<01:36,  1.24it/s]"
     ]
    },
    {
     "name": "stderr",
     "output_type": "stream",
     "text": [
      "\r",
      "Running train:  67%|██████████████████████████████████████████████████████████████████████                                   | 236/354 [03:04<01:35,  1.23it/s]"
     ]
    },
    {
     "name": "stderr",
     "output_type": "stream",
     "text": [
      "\r",
      "Running train:  67%|██████████████████████████████████████████████████████████████████████▎                                  | 237/354 [03:05<01:34,  1.23it/s]"
     ]
    },
    {
     "name": "stderr",
     "output_type": "stream",
     "text": [
      "\r",
      "Running train:  67%|██████████████████████████████████████████████████████████████████████▌                                  | 238/354 [03:06<01:34,  1.23it/s]"
     ]
    },
    {
     "name": "stderr",
     "output_type": "stream",
     "text": [
      "\r",
      "Running train:  68%|██████████████████████████████████████████████████████████████████████▉                                  | 239/354 [03:07<01:34,  1.21it/s]"
     ]
    },
    {
     "name": "stderr",
     "output_type": "stream",
     "text": [
      "\r",
      "Running train:  68%|███████████████████████████████████████████████████████████████████████▏                                 | 240/354 [03:08<01:34,  1.21it/s]"
     ]
    },
    {
     "name": "stderr",
     "output_type": "stream",
     "text": [
      "\r",
      "Running train:  68%|███████████████████████████████████████████████████████████████████████▍                                 | 241/354 [03:08<01:33,  1.21it/s]"
     ]
    },
    {
     "name": "stderr",
     "output_type": "stream",
     "text": [
      "\r",
      "Running train:  68%|███████████████████████████████████████████████████████████████████████▊                                 | 242/354 [03:09<01:32,  1.22it/s]"
     ]
    },
    {
     "name": "stderr",
     "output_type": "stream",
     "text": [
      "\r",
      "Running train:  69%|████████████████████████████████████████████████████████████████████████                                 | 243/354 [03:10<01:31,  1.21it/s]"
     ]
    },
    {
     "name": "stderr",
     "output_type": "stream",
     "text": [
      "\r",
      "Running train:  69%|████████████████████████████████████████████████████████████████████████▎                                | 244/354 [03:11<01:30,  1.22it/s]"
     ]
    },
    {
     "name": "stderr",
     "output_type": "stream",
     "text": [
      "\r",
      "Running train:  69%|████████████████████████████████████████████████████████████████████████▋                                | 245/354 [03:12<01:28,  1.23it/s]"
     ]
    },
    {
     "name": "stderr",
     "output_type": "stream",
     "text": [
      "\r",
      "Running train:  69%|████████████████████████████████████████████████████████████████████████▉                                | 246/354 [03:12<01:27,  1.23it/s]"
     ]
    },
    {
     "name": "stderr",
     "output_type": "stream",
     "text": [
      "\r",
      "Running train:  70%|█████████████████████████████████████████████████████████████████████████▎                               | 247/354 [03:13<01:26,  1.23it/s]"
     ]
    },
    {
     "name": "stderr",
     "output_type": "stream",
     "text": [
      "\r",
      "Running train:  70%|█████████████████████████████████████████████████████████████████████████▌                               | 248/354 [03:14<01:25,  1.25it/s]"
     ]
    },
    {
     "name": "stderr",
     "output_type": "stream",
     "text": [
      "\r",
      "Running train:  70%|█████████████████████████████████████████████████████████████████████████▊                               | 249/354 [03:15<01:23,  1.26it/s]"
     ]
    },
    {
     "name": "stderr",
     "output_type": "stream",
     "text": [
      "\r",
      "Running train:  71%|██████████████████████████████████████████████████████████████████████████▏                              | 250/354 [03:16<01:21,  1.27it/s]"
     ]
    },
    {
     "name": "stderr",
     "output_type": "stream",
     "text": [
      "\r",
      "Running train:  71%|██████████████████████████████████████████████████████████████████████████▍                              | 251/354 [03:16<01:20,  1.28it/s]"
     ]
    },
    {
     "name": "stderr",
     "output_type": "stream",
     "text": [
      "\r",
      "Running train:  71%|██████████████████████████████████████████████████████████████████████████▋                              | 252/354 [03:17<01:19,  1.28it/s]"
     ]
    },
    {
     "name": "stderr",
     "output_type": "stream",
     "text": [
      "\r",
      "Running train:  71%|███████████████████████████████████████████████████████████████████████████                              | 253/354 [03:18<01:18,  1.28it/s]"
     ]
    },
    {
     "name": "stderr",
     "output_type": "stream",
     "text": [
      "\r",
      "Running train:  72%|███████████████████████████████████████████████████████████████████████████▎                             | 254/354 [03:19<01:18,  1.27it/s]"
     ]
    },
    {
     "name": "stderr",
     "output_type": "stream",
     "text": [
      "\r",
      "Running train:  72%|███████████████████████████████████████████████████████████████████████████▋                             | 255/354 [03:19<01:16,  1.29it/s]"
     ]
    },
    {
     "name": "stderr",
     "output_type": "stream",
     "text": [
      "\r",
      "Running train:  72%|███████████████████████████████████████████████████████████████████████████▉                             | 256/354 [03:20<01:16,  1.29it/s]"
     ]
    },
    {
     "name": "stderr",
     "output_type": "stream",
     "text": [
      "\r",
      "Running train:  73%|████████████████████████████████████████████████████████████████████████████▏                            | 257/354 [03:21<01:15,  1.29it/s]"
     ]
    },
    {
     "name": "stderr",
     "output_type": "stream",
     "text": [
      "\r",
      "Running train:  73%|████████████████████████████████████████████████████████████████████████████▌                            | 258/354 [03:22<01:14,  1.29it/s]"
     ]
    },
    {
     "name": "stderr",
     "output_type": "stream",
     "text": [
      "\r",
      "Running train:  73%|████████████████████████████████████████████████████████████████████████████▊                            | 259/354 [03:23<01:14,  1.28it/s]"
     ]
    },
    {
     "name": "stderr",
     "output_type": "stream",
     "text": [
      "\r",
      "Running train:  73%|█████████████████████████████████████████████████████████████████████████████                            | 260/354 [03:23<01:13,  1.28it/s]"
     ]
    },
    {
     "name": "stderr",
     "output_type": "stream",
     "text": [
      "\r",
      "Running train:  74%|█████████████████████████████████████████████████████████████████████████████▍                           | 261/354 [03:24<01:11,  1.31it/s]"
     ]
    },
    {
     "name": "stderr",
     "output_type": "stream",
     "text": [
      "\r",
      "Running train:  74%|█████████████████████████████████████████████████████████████████████████████▋                           | 262/354 [03:25<01:09,  1.32it/s]"
     ]
    },
    {
     "name": "stderr",
     "output_type": "stream",
     "text": [
      "\r",
      "Running train:  74%|██████████████████████████████████████████████████████████████████████████████                           | 263/354 [03:26<01:09,  1.31it/s]"
     ]
    },
    {
     "name": "stderr",
     "output_type": "stream",
     "text": [
      "\r",
      "Running train:  75%|██████████████████████████████████████████████████████████████████████████████▎                          | 264/354 [03:26<01:07,  1.32it/s]"
     ]
    },
    {
     "name": "stderr",
     "output_type": "stream",
     "text": [
      "\r",
      "Running train:  75%|██████████████████████████████████████████████████████████████████████████████▌                          | 265/354 [03:27<01:08,  1.30it/s]"
     ]
    },
    {
     "name": "stderr",
     "output_type": "stream",
     "text": [
      "\r",
      "Running train:  75%|██████████████████████████████████████████████████████████████████████████████▉                          | 266/354 [03:28<01:07,  1.30it/s]"
     ]
    },
    {
     "name": "stderr",
     "output_type": "stream",
     "text": [
      "\r",
      "Running train:  75%|███████████████████████████████████████████████████████████████████████████████▏                         | 267/354 [03:29<01:07,  1.28it/s]"
     ]
    },
    {
     "name": "stderr",
     "output_type": "stream",
     "text": [
      "\r",
      "Running train:  76%|███████████████████████████████████████████████████████████████████████████████▍                         | 268/354 [03:29<01:07,  1.27it/s]"
     ]
    },
    {
     "name": "stderr",
     "output_type": "stream",
     "text": [
      "\r",
      "Running train:  76%|███████████████████████████████████████████████████████████████████████████████▊                         | 269/354 [03:30<01:07,  1.26it/s]"
     ]
    },
    {
     "name": "stderr",
     "output_type": "stream",
     "text": [
      "\r",
      "Running train:  76%|████████████████████████████████████████████████████████████████████████████████                         | 270/354 [03:31<01:04,  1.30it/s]"
     ]
    },
    {
     "name": "stderr",
     "output_type": "stream",
     "text": [
      "\r",
      "Running train:  77%|████████████████████████████████████████████████████████████████████████████████▍                        | 271/354 [03:32<01:02,  1.34it/s]"
     ]
    },
    {
     "name": "stderr",
     "output_type": "stream",
     "text": [
      "\r",
      "Running train:  77%|████████████████████████████████████████████████████████████████████████████████▋                        | 272/354 [03:32<01:00,  1.35it/s]"
     ]
    },
    {
     "name": "stderr",
     "output_type": "stream",
     "text": [
      "\r",
      "Running train:  77%|████████████████████████████████████████████████████████████████████████████████▉                        | 273/354 [03:33<01:00,  1.33it/s]"
     ]
    },
    {
     "name": "stderr",
     "output_type": "stream",
     "text": [
      "\r",
      "Running train:  77%|█████████████████████████████████████████████████████████████████████████████████▎                       | 274/354 [03:34<01:01,  1.31it/s]"
     ]
    },
    {
     "name": "stderr",
     "output_type": "stream",
     "text": [
      "\r",
      "Running train:  78%|█████████████████████████████████████████████████████████████████████████████████▌                       | 275/354 [03:35<01:02,  1.27it/s]"
     ]
    },
    {
     "name": "stderr",
     "output_type": "stream",
     "text": [
      "\r",
      "Running train:  78%|█████████████████████████████████████████████████████████████████████████████████▊                       | 276/354 [03:36<01:02,  1.26it/s]"
     ]
    },
    {
     "name": "stderr",
     "output_type": "stream",
     "text": [
      "\r",
      "Running train:  78%|██████████████████████████████████████████████████████████████████████████████████▏                      | 277/354 [03:36<01:01,  1.26it/s]"
     ]
    },
    {
     "name": "stderr",
     "output_type": "stream",
     "text": [
      "\r",
      "Running train:  79%|██████████████████████████████████████████████████████████████████████████████████▍                      | 278/354 [03:37<01:01,  1.23it/s]"
     ]
    },
    {
     "name": "stderr",
     "output_type": "stream",
     "text": [
      "\r",
      "Running train:  79%|██████████████████████████████████████████████████████████████████████████████████▊                      | 279/354 [03:38<01:00,  1.25it/s]"
     ]
    },
    {
     "name": "stderr",
     "output_type": "stream",
     "text": [
      "\r",
      "Running train:  79%|███████████████████████████████████████████████████████████████████████████████████                      | 280/354 [03:39<00:59,  1.25it/s]"
     ]
    },
    {
     "name": "stderr",
     "output_type": "stream",
     "text": [
      "\r",
      "Running train:  79%|███████████████████████████████████████████████████████████████████████████████████▎                     | 281/354 [03:40<00:58,  1.26it/s]"
     ]
    },
    {
     "name": "stderr",
     "output_type": "stream",
     "text": [
      "\r",
      "Running train:  80%|███████████████████████████████████████████████████████████████████████████████████▋                     | 282/354 [03:40<00:57,  1.26it/s]"
     ]
    },
    {
     "name": "stderr",
     "output_type": "stream",
     "text": [
      "\r",
      "Running train:  80%|███████████████████████████████████████████████████████████████████████████████████▉                     | 283/354 [03:41<00:57,  1.24it/s]"
     ]
    },
    {
     "name": "stderr",
     "output_type": "stream",
     "text": [
      "\r",
      "Running train:  80%|████████████████████████████████████████████████████████████████████████████████████▏                    | 284/354 [03:42<00:56,  1.24it/s]"
     ]
    },
    {
     "name": "stderr",
     "output_type": "stream",
     "text": [
      "\r",
      "Running train:  81%|████████████████████████████████████████████████████████████████████████████████████▌                    | 285/354 [03:43<00:55,  1.24it/s]"
     ]
    },
    {
     "name": "stderr",
     "output_type": "stream",
     "text": [
      "\r",
      "Running train:  81%|████████████████████████████████████████████████████████████████████████████████████▊                    | 286/354 [03:44<00:55,  1.24it/s]"
     ]
    },
    {
     "name": "stderr",
     "output_type": "stream",
     "text": [
      "\r",
      "Running train:  81%|█████████████████████████████████████████████████████████████████████████████████████▏                   | 287/354 [03:45<00:54,  1.24it/s]"
     ]
    },
    {
     "name": "stderr",
     "output_type": "stream",
     "text": [
      "\r",
      "Running train:  81%|█████████████████████████████████████████████████████████████████████████████████████▍                   | 288/354 [03:45<00:53,  1.24it/s]"
     ]
    },
    {
     "name": "stderr",
     "output_type": "stream",
     "text": [
      "\r",
      "Running train:  82%|█████████████████████████████████████████████████████████████████████████████████████▋                   | 289/354 [03:46<00:52,  1.25it/s]"
     ]
    },
    {
     "name": "stderr",
     "output_type": "stream",
     "text": [
      "\r",
      "Running train:  82%|██████████████████████████████████████████████████████████████████████████████████████                   | 290/354 [03:47<00:51,  1.24it/s]"
     ]
    },
    {
     "name": "stderr",
     "output_type": "stream",
     "text": [
      "\r",
      "Running train:  82%|██████████████████████████████████████████████████████████████████████████████████████▎                  | 291/354 [03:48<00:51,  1.23it/s]"
     ]
    },
    {
     "name": "stderr",
     "output_type": "stream",
     "text": [
      "\r",
      "Running train:  82%|██████████████████████████████████████████████████████████████████████████████████████▌                  | 292/354 [03:49<00:50,  1.23it/s]"
     ]
    },
    {
     "name": "stderr",
     "output_type": "stream",
     "text": [
      "\r",
      "Running train:  83%|██████████████████████████████████████████████████████████████████████████████████████▉                  | 293/354 [03:50<00:51,  1.18it/s]"
     ]
    },
    {
     "name": "stderr",
     "output_type": "stream",
     "text": [
      "\r",
      "Running train:  83%|███████████████████████████████████████████████████████████████████████████████████████▏                 | 294/354 [03:50<00:50,  1.18it/s]"
     ]
    },
    {
     "name": "stderr",
     "output_type": "stream",
     "text": [
      "\r",
      "Running train:  83%|███████████████████████████████████████████████████████████████████████████████████████▌                 | 295/354 [03:51<00:48,  1.21it/s]"
     ]
    },
    {
     "name": "stderr",
     "output_type": "stream",
     "text": [
      "\r",
      "Running train:  84%|███████████████████████████████████████████████████████████████████████████████████████▊                 | 296/354 [03:52<00:49,  1.18it/s]"
     ]
    },
    {
     "name": "stderr",
     "output_type": "stream",
     "text": [
      "\r",
      "Running train:  84%|████████████████████████████████████████████████████████████████████████████████████████                 | 297/354 [03:53<00:47,  1.20it/s]"
     ]
    },
    {
     "name": "stderr",
     "output_type": "stream",
     "text": [
      "\r",
      "Running train:  84%|████████████████████████████████████████████████████████████████████████████████████████▍                | 298/354 [03:54<00:45,  1.22it/s]"
     ]
    },
    {
     "name": "stderr",
     "output_type": "stream",
     "text": [
      "\r",
      "Running train:  84%|████████████████████████████████████████████████████████████████████████████████████████▋                | 299/354 [03:54<00:44,  1.24it/s]"
     ]
    },
    {
     "name": "stderr",
     "output_type": "stream",
     "text": [
      "\r",
      "Running train:  85%|████████████████████████████████████████████████████████████████████████████████████████▉                | 300/354 [03:55<00:43,  1.24it/s]"
     ]
    },
    {
     "name": "stderr",
     "output_type": "stream",
     "text": [
      "\r",
      "Running train:  85%|█████████████████████████████████████████████████████████████████████████████████████████▎               | 301/354 [03:56<00:42,  1.24it/s]"
     ]
    },
    {
     "name": "stderr",
     "output_type": "stream",
     "text": [
      "\r",
      "Running train:  85%|█████████████████████████████████████████████████████████████████████████████████████████▌               | 302/354 [03:57<00:41,  1.24it/s]"
     ]
    },
    {
     "name": "stderr",
     "output_type": "stream",
     "text": [
      "\r",
      "Running train:  86%|█████████████████████████████████████████████████████████████████████████████████████████▊               | 303/354 [03:58<00:40,  1.25it/s]"
     ]
    },
    {
     "name": "stderr",
     "output_type": "stream",
     "text": [
      "\r",
      "Running train:  86%|██████████████████████████████████████████████████████████████████████████████████████████▏              | 304/354 [03:58<00:39,  1.26it/s]"
     ]
    },
    {
     "name": "stderr",
     "output_type": "stream",
     "text": [
      "\r",
      "Running train:  86%|██████████████████████████████████████████████████████████████████████████████████████████▍              | 305/354 [03:59<00:39,  1.24it/s]"
     ]
    },
    {
     "name": "stderr",
     "output_type": "stream",
     "text": [
      "\r",
      "Running train:  86%|██████████████████████████████████████████████████████████████████████████████████████████▊              | 306/354 [04:00<00:38,  1.25it/s]"
     ]
    },
    {
     "name": "stderr",
     "output_type": "stream",
     "text": [
      "\r",
      "Running train:  87%|███████████████████████████████████████████████████████████████████████████████████████████              | 307/354 [04:01<00:37,  1.24it/s]"
     ]
    },
    {
     "name": "stderr",
     "output_type": "stream",
     "text": [
      "\r",
      "Running train:  87%|███████████████████████████████████████████████████████████████████████████████████████████▎             | 308/354 [04:02<00:36,  1.25it/s]"
     ]
    },
    {
     "name": "stderr",
     "output_type": "stream",
     "text": [
      "\r",
      "Running train:  87%|███████████████████████████████████████████████████████████████████████████████████████████▋             | 309/354 [04:02<00:35,  1.26it/s]"
     ]
    },
    {
     "name": "stderr",
     "output_type": "stream",
     "text": [
      "\r",
      "Running train:  88%|███████████████████████████████████████████████████████████████████████████████████████████▉             | 310/354 [04:03<00:35,  1.25it/s]"
     ]
    },
    {
     "name": "stderr",
     "output_type": "stream",
     "text": [
      "\r",
      "Running train:  88%|████████████████████████████████████████████████████████████████████████████████████████████▏            | 311/354 [04:04<00:34,  1.26it/s]"
     ]
    },
    {
     "name": "stderr",
     "output_type": "stream",
     "text": [
      "\r",
      "Running train:  88%|████████████████████████████████████████████████████████████████████████████████████████████▌            | 312/354 [04:05<00:33,  1.26it/s]"
     ]
    },
    {
     "name": "stderr",
     "output_type": "stream",
     "text": [
      "\r",
      "Running train:  88%|████████████████████████████████████████████████████████████████████████████████████████████▊            | 313/354 [04:06<00:32,  1.26it/s]"
     ]
    },
    {
     "name": "stderr",
     "output_type": "stream",
     "text": [
      "\r",
      "Running train:  89%|█████████████████████████████████████████████████████████████████████████████████████████████▏           | 314/354 [04:06<00:31,  1.25it/s]"
     ]
    },
    {
     "name": "stderr",
     "output_type": "stream",
     "text": [
      "\r",
      "Running train:  89%|█████████████████████████████████████████████████████████████████████████████████████████████▍           | 315/354 [04:07<00:31,  1.24it/s]"
     ]
    },
    {
     "name": "stderr",
     "output_type": "stream",
     "text": [
      "\r",
      "Running train:  89%|█████████████████████████████████████████████████████████████████████████████████████████████▋           | 316/354 [04:08<00:31,  1.21it/s]"
     ]
    },
    {
     "name": "stderr",
     "output_type": "stream",
     "text": [
      "\r",
      "Running train:  90%|██████████████████████████████████████████████████████████████████████████████████████████████           | 317/354 [04:09<00:30,  1.22it/s]"
     ]
    },
    {
     "name": "stderr",
     "output_type": "stream",
     "text": [
      "\r",
      "Running train:  90%|██████████████████████████████████████████████████████████████████████████████████████████████▎          | 318/354 [04:10<00:29,  1.22it/s]"
     ]
    },
    {
     "name": "stderr",
     "output_type": "stream",
     "text": [
      "\r",
      "Running train:  90%|██████████████████████████████████████████████████████████████████████████████████████████████▌          | 319/354 [04:11<00:28,  1.22it/s]"
     ]
    },
    {
     "name": "stderr",
     "output_type": "stream",
     "text": [
      "\r",
      "Running train:  90%|██████████████████████████████████████████████████████████████████████████████████████████████▉          | 320/354 [04:11<00:27,  1.23it/s]"
     ]
    },
    {
     "name": "stderr",
     "output_type": "stream",
     "text": [
      "\r",
      "Running train:  91%|███████████████████████████████████████████████████████████████████████████████████████████████▏         | 321/354 [04:12<00:26,  1.24it/s]"
     ]
    },
    {
     "name": "stderr",
     "output_type": "stream",
     "text": [
      "\r",
      "Running train:  91%|███████████████████████████████████████████████████████████████████████████████████████████████▌         | 322/354 [04:13<00:25,  1.24it/s]"
     ]
    },
    {
     "name": "stderr",
     "output_type": "stream",
     "text": [
      "\r",
      "Running train:  91%|███████████████████████████████████████████████████████████████████████████████████████████████▊         | 323/354 [04:14<00:24,  1.24it/s]"
     ]
    },
    {
     "name": "stderr",
     "output_type": "stream",
     "text": [
      "\r",
      "Running train:  92%|████████████████████████████████████████████████████████████████████████████████████████████████         | 324/354 [04:14<00:23,  1.25it/s]"
     ]
    },
    {
     "name": "stderr",
     "output_type": "stream",
     "text": [
      "\r",
      "Running train:  92%|████████████████████████████████████████████████████████████████████████████████████████████████▍        | 325/354 [04:15<00:23,  1.26it/s]"
     ]
    },
    {
     "name": "stderr",
     "output_type": "stream",
     "text": [
      "\r",
      "Running train:  92%|████████████████████████████████████████████████████████████████████████████████████████████████▋        | 326/354 [04:16<00:22,  1.24it/s]"
     ]
    },
    {
     "name": "stderr",
     "output_type": "stream",
     "text": [
      "\r",
      "Running train:  92%|████████████████████████████████████████████████████████████████████████████████████████████████▉        | 327/354 [04:17<00:21,  1.24it/s]"
     ]
    },
    {
     "name": "stderr",
     "output_type": "stream",
     "text": [
      "\r",
      "Running train:  93%|█████████████████████████████████████████████████████████████████████████████████████████████████▎       | 328/354 [04:18<00:20,  1.25it/s]"
     ]
    },
    {
     "name": "stderr",
     "output_type": "stream",
     "text": [
      "\r",
      "Running train:  93%|█████████████████████████████████████████████████████████████████████████████████████████████████▌       | 329/354 [04:18<00:19,  1.25it/s]"
     ]
    },
    {
     "name": "stderr",
     "output_type": "stream",
     "text": [
      "\r",
      "Running train:  93%|█████████████████████████████████████████████████████████████████████████████████████████████████▉       | 330/354 [04:19<00:19,  1.26it/s]"
     ]
    },
    {
     "name": "stderr",
     "output_type": "stream",
     "text": [
      "\r",
      "Running train:  94%|██████████████████████████████████████████████████████████████████████████████████████████████████▏      | 331/354 [04:20<00:18,  1.26it/s]"
     ]
    },
    {
     "name": "stderr",
     "output_type": "stream",
     "text": [
      "\r",
      "Running train:  94%|██████████████████████████████████████████████████████████████████████████████████████████████████▍      | 332/354 [04:21<00:17,  1.25it/s]"
     ]
    },
    {
     "name": "stderr",
     "output_type": "stream",
     "text": [
      "\r",
      "Running train:  94%|██████████████████████████████████████████████████████████████████████████████████████████████████▊      | 333/354 [04:22<00:16,  1.26it/s]"
     ]
    },
    {
     "name": "stderr",
     "output_type": "stream",
     "text": [
      "\r",
      "Running train:  94%|███████████████████████████████████████████████████████████████████████████████████████████████████      | 334/354 [04:22<00:16,  1.24it/s]"
     ]
    },
    {
     "name": "stderr",
     "output_type": "stream",
     "text": [
      "\r",
      "Running train:  95%|███████████████████████████████████████████████████████████████████████████████████████████████████▎     | 335/354 [04:23<00:15,  1.24it/s]"
     ]
    },
    {
     "name": "stderr",
     "output_type": "stream",
     "text": [
      "\r",
      "Running train:  95%|███████████████████████████████████████████████████████████████████████████████████████████████████▋     | 336/354 [04:24<00:14,  1.24it/s]"
     ]
    },
    {
     "name": "stderr",
     "output_type": "stream",
     "text": [
      "\r",
      "Running train:  95%|███████████████████████████████████████████████████████████████████████████████████████████████████▉     | 337/354 [04:25<00:13,  1.23it/s]"
     ]
    },
    {
     "name": "stderr",
     "output_type": "stream",
     "text": [
      "\r",
      "Running train:  95%|████████████████████████████████████████████████████████████████████████████████████████████████████▎    | 338/354 [04:26<00:12,  1.24it/s]"
     ]
    },
    {
     "name": "stderr",
     "output_type": "stream",
     "text": [
      "\r",
      "Running train:  96%|████████████████████████████████████████████████████████████████████████████████████████████████████▌    | 339/354 [04:27<00:12,  1.25it/s]"
     ]
    },
    {
     "name": "stderr",
     "output_type": "stream",
     "text": [
      "\r",
      "Running train:  96%|████████████████████████████████████████████████████████████████████████████████████████████████████▊    | 340/354 [04:27<00:11,  1.23it/s]"
     ]
    },
    {
     "name": "stderr",
     "output_type": "stream",
     "text": [
      "\r",
      "Running train:  96%|█████████████████████████████████████████████████████████████████████████████████████████████████████▏   | 341/354 [04:28<00:10,  1.23it/s]"
     ]
    },
    {
     "name": "stderr",
     "output_type": "stream",
     "text": [
      "\r",
      "Running train:  97%|█████████████████████████████████████████████████████████████████████████████████████████████████████▍   | 342/354 [04:29<00:09,  1.23it/s]"
     ]
    },
    {
     "name": "stderr",
     "output_type": "stream",
     "text": [
      "\r",
      "Running train:  97%|█████████████████████████████████████████████████████████████████████████████████████████████████████▋   | 343/354 [04:30<00:08,  1.24it/s]"
     ]
    },
    {
     "name": "stderr",
     "output_type": "stream",
     "text": [
      "\r",
      "Running train:  97%|██████████████████████████████████████████████████████████████████████████████████████████████████████   | 344/354 [04:31<00:08,  1.24it/s]"
     ]
    },
    {
     "name": "stderr",
     "output_type": "stream",
     "text": [
      "\r",
      "Running train:  97%|██████████████████████████████████████████████████████████████████████████████████████████████████████▎  | 345/354 [04:31<00:07,  1.24it/s]"
     ]
    },
    {
     "name": "stderr",
     "output_type": "stream",
     "text": [
      "\r",
      "Running train:  98%|██████████████████████████████████████████████████████████████████████████████████████████████████████▋  | 346/354 [04:32<00:06,  1.24it/s]"
     ]
    },
    {
     "name": "stderr",
     "output_type": "stream",
     "text": [
      "\r",
      "Running train:  98%|██████████████████████████████████████████████████████████████████████████████████████████████████████▉  | 347/354 [04:33<00:05,  1.24it/s]"
     ]
    },
    {
     "name": "stderr",
     "output_type": "stream",
     "text": [
      "\r",
      "Running train:  98%|███████████████████████████████████████████████████████████████████████████████████████████████████████▏ | 348/354 [04:34<00:04,  1.24it/s]"
     ]
    },
    {
     "name": "stderr",
     "output_type": "stream",
     "text": [
      "\r",
      "Running train:  99%|███████████████████████████████████████████████████████████████████████████████████████████████████████▌ | 349/354 [04:35<00:04,  1.23it/s]"
     ]
    },
    {
     "name": "stderr",
     "output_type": "stream",
     "text": [
      "\r",
      "Running train:  99%|███████████████████████████████████████████████████████████████████████████████████████████████████████▊ | 350/354 [04:35<00:03,  1.24it/s]"
     ]
    },
    {
     "name": "stderr",
     "output_type": "stream",
     "text": [
      "\r",
      "Running train:  99%|████████████████████████████████████████████████████████████████████████████████████████████████████████ | 351/354 [04:36<00:02,  1.26it/s]"
     ]
    },
    {
     "name": "stderr",
     "output_type": "stream",
     "text": [
      "\r",
      "Running train:  99%|████████████████████████████████████████████████████████████████████████████████████████████████████████▍| 352/354 [04:37<00:01,  1.27it/s]"
     ]
    },
    {
     "name": "stderr",
     "output_type": "stream",
     "text": [
      "\r",
      "Running train: 100%|████████████████████████████████████████████████████████████████████████████████████████████████████████▋| 353/354 [04:38<00:00,  1.29it/s]"
     ]
    },
    {
     "name": "stderr",
     "output_type": "stream",
     "text": [
      "\r",
      "Running train: 100%|█████████████████████████████████████████████████████████████████████████████████████████████████████████| 354/354 [04:38<00:00,  1.46it/s]"
     ]
    },
    {
     "name": "stderr",
     "output_type": "stream",
     "text": [
      "\r",
      "Running train: 100%|█████████████████████████████████████████████████████████████████████████████████████████████████████████| 354/354 [04:38<00:00,  1.27it/s]"
     ]
    },
    {
     "name": "stderr",
     "output_type": "stream",
     "text": [
      "\n"
     ]
    },
    {
     "name": "stdout",
     "output_type": "stream",
     "text": [
      "train Loss: 1.7893 Acc: 0.3753\n",
      "train Epoch Entropy: 0.7525\n",
      "\n"
     ]
    },
    {
     "name": "stderr",
     "output_type": "stream",
     "text": [
      "\r",
      "Running val:   0%|                                                                                                                      | 0/89 [00:00<?, ?it/s]"
     ]
    },
    {
     "name": "stderr",
     "output_type": "stream",
     "text": [
      "\r",
      "Running val:   1%|█▏                                                                                                            | 1/89 [00:00<00:36,  2.44it/s]"
     ]
    },
    {
     "name": "stderr",
     "output_type": "stream",
     "text": [
      "\r",
      "Running val:   2%|██▍                                                                                                           | 2/89 [00:00<00:35,  2.46it/s]"
     ]
    },
    {
     "name": "stderr",
     "output_type": "stream",
     "text": [
      "\r",
      "Running val:   3%|███▋                                                                                                          | 3/89 [00:01<00:37,  2.29it/s]"
     ]
    },
    {
     "name": "stderr",
     "output_type": "stream",
     "text": [
      "\r",
      "Running val:   4%|████▉                                                                                                         | 4/89 [00:01<00:35,  2.43it/s]"
     ]
    },
    {
     "name": "stderr",
     "output_type": "stream",
     "text": [
      "\r",
      "Running val:   6%|██████▏                                                                                                       | 5/89 [00:02<00:35,  2.37it/s]"
     ]
    },
    {
     "name": "stderr",
     "output_type": "stream",
     "text": [
      "\r",
      "Running val:   7%|███████▍                                                                                                      | 6/89 [00:02<00:34,  2.42it/s]"
     ]
    },
    {
     "name": "stderr",
     "output_type": "stream",
     "text": [
      "\r",
      "Running val:   8%|████████▋                                                                                                     | 7/89 [00:02<00:34,  2.41it/s]"
     ]
    },
    {
     "name": "stderr",
     "output_type": "stream",
     "text": [
      "\r",
      "Running val:   9%|█████████▉                                                                                                    | 8/89 [00:03<00:33,  2.45it/s]"
     ]
    },
    {
     "name": "stderr",
     "output_type": "stream",
     "text": [
      "\r",
      "Running val:  10%|███████████                                                                                                   | 9/89 [00:03<00:33,  2.42it/s]"
     ]
    },
    {
     "name": "stderr",
     "output_type": "stream",
     "text": [
      "\r",
      "Running val:  11%|████████████▏                                                                                                | 10/89 [00:04<00:31,  2.49it/s]"
     ]
    },
    {
     "name": "stderr",
     "output_type": "stream",
     "text": [
      "\r",
      "Running val:  12%|█████████████▍                                                                                               | 11/89 [00:04<00:31,  2.45it/s]"
     ]
    },
    {
     "name": "stderr",
     "output_type": "stream",
     "text": [
      "\r",
      "Running val:  13%|██████████████▋                                                                                              | 12/89 [00:04<00:30,  2.55it/s]"
     ]
    },
    {
     "name": "stderr",
     "output_type": "stream",
     "text": [
      "\r",
      "Running val:  15%|███████████████▉                                                                                             | 13/89 [00:05<00:30,  2.46it/s]"
     ]
    },
    {
     "name": "stderr",
     "output_type": "stream",
     "text": [
      "\r",
      "Running val:  16%|█████████████████▏                                                                                           | 14/89 [00:05<00:30,  2.49it/s]"
     ]
    },
    {
     "name": "stderr",
     "output_type": "stream",
     "text": [
      "\r",
      "Running val:  17%|██████████████████▎                                                                                          | 15/89 [00:06<00:30,  2.43it/s]"
     ]
    },
    {
     "name": "stderr",
     "output_type": "stream",
     "text": [
      "\r",
      "Running val:  18%|███████████████████▌                                                                                         | 16/89 [00:06<00:29,  2.46it/s]"
     ]
    },
    {
     "name": "stderr",
     "output_type": "stream",
     "text": [
      "\r",
      "Running val:  19%|████████████████████▊                                                                                        | 17/89 [00:06<00:29,  2.43it/s]"
     ]
    },
    {
     "name": "stderr",
     "output_type": "stream",
     "text": [
      "\r",
      "Running val:  20%|██████████████████████                                                                                       | 18/89 [00:07<00:27,  2.56it/s]"
     ]
    },
    {
     "name": "stderr",
     "output_type": "stream",
     "text": [
      "\r",
      "Running val:  21%|███████████████████████▎                                                                                     | 19/89 [00:07<00:28,  2.50it/s]"
     ]
    },
    {
     "name": "stderr",
     "output_type": "stream",
     "text": [
      "\r",
      "Running val:  22%|████████████████████████▍                                                                                    | 20/89 [00:08<00:27,  2.50it/s]"
     ]
    },
    {
     "name": "stderr",
     "output_type": "stream",
     "text": [
      "\r",
      "Running val:  24%|█████████████████████████▋                                                                                   | 21/89 [00:08<00:27,  2.44it/s]"
     ]
    },
    {
     "name": "stderr",
     "output_type": "stream",
     "text": [
      "\r",
      "Running val:  25%|██████████████████████████▉                                                                                  | 22/89 [00:08<00:27,  2.48it/s]"
     ]
    },
    {
     "name": "stderr",
     "output_type": "stream",
     "text": [
      "\r",
      "Running val:  26%|████████████████████████████▏                                                                                | 23/89 [00:09<00:27,  2.41it/s]"
     ]
    },
    {
     "name": "stderr",
     "output_type": "stream",
     "text": [
      "\r",
      "Running val:  27%|█████████████████████████████▍                                                                               | 24/89 [00:09<00:26,  2.43it/s]"
     ]
    },
    {
     "name": "stderr",
     "output_type": "stream",
     "text": [
      "\r",
      "Running val:  28%|██████████████████████████████▌                                                                              | 25/89 [00:10<00:26,  2.42it/s]"
     ]
    },
    {
     "name": "stderr",
     "output_type": "stream",
     "text": [
      "\r",
      "Running val:  29%|███████████████████████████████▊                                                                             | 26/89 [00:10<00:25,  2.47it/s]"
     ]
    },
    {
     "name": "stderr",
     "output_type": "stream",
     "text": [
      "\r",
      "Running val:  30%|█████████████████████████████████                                                                            | 27/89 [00:11<00:25,  2.42it/s]"
     ]
    },
    {
     "name": "stderr",
     "output_type": "stream",
     "text": [
      "\r",
      "Running val:  31%|██████████████████████████████████▎                                                                          | 28/89 [00:11<00:24,  2.46it/s]"
     ]
    },
    {
     "name": "stderr",
     "output_type": "stream",
     "text": [
      "\r",
      "Running val:  33%|███████████████████████████████████▌                                                                         | 29/89 [00:11<00:24,  2.44it/s]"
     ]
    },
    {
     "name": "stderr",
     "output_type": "stream",
     "text": [
      "\r",
      "Running val:  34%|████████████████████████████████████▋                                                                        | 30/89 [00:12<00:23,  2.48it/s]"
     ]
    },
    {
     "name": "stderr",
     "output_type": "stream",
     "text": [
      "\r",
      "Running val:  35%|█████████████████████████████████████▉                                                                       | 31/89 [00:12<00:23,  2.46it/s]"
     ]
    },
    {
     "name": "stderr",
     "output_type": "stream",
     "text": [
      "\r",
      "Running val:  36%|███████████████████████████████████████▏                                                                     | 32/89 [00:13<00:22,  2.56it/s]"
     ]
    },
    {
     "name": "stderr",
     "output_type": "stream",
     "text": [
      "\r",
      "Running val:  37%|████████████████████████████████████████▍                                                                    | 33/89 [00:13<00:22,  2.49it/s]"
     ]
    },
    {
     "name": "stderr",
     "output_type": "stream",
     "text": [
      "\r",
      "Running val:  38%|█████████████████████████████████████████▋                                                                   | 34/89 [00:13<00:21,  2.59it/s]"
     ]
    },
    {
     "name": "stderr",
     "output_type": "stream",
     "text": [
      "\r",
      "Running val:  39%|██████████████████████████████████████████▊                                                                  | 35/89 [00:14<00:22,  2.45it/s]"
     ]
    },
    {
     "name": "stderr",
     "output_type": "stream",
     "text": [
      "\r",
      "Running val:  40%|████████████████████████████████████████████                                                                 | 36/89 [00:14<00:20,  2.57it/s]"
     ]
    },
    {
     "name": "stderr",
     "output_type": "stream",
     "text": [
      "\r",
      "Running val:  42%|█████████████████████████████████████████████▎                                                               | 37/89 [00:15<00:20,  2.52it/s]"
     ]
    },
    {
     "name": "stderr",
     "output_type": "stream",
     "text": [
      "\r",
      "Running val:  43%|██████████████████████████████████████████████▌                                                              | 38/89 [00:15<00:19,  2.55it/s]"
     ]
    },
    {
     "name": "stderr",
     "output_type": "stream",
     "text": [
      "\r",
      "Running val:  44%|███████████████████████████████████████████████▊                                                             | 39/89 [00:15<00:20,  2.50it/s]"
     ]
    },
    {
     "name": "stderr",
     "output_type": "stream",
     "text": [
      "\r",
      "Running val:  45%|████████████████████████████████████████████████▉                                                            | 40/89 [00:16<00:20,  2.43it/s]"
     ]
    },
    {
     "name": "stderr",
     "output_type": "stream",
     "text": [
      "\r",
      "Running val:  46%|██████████████████████████████████████████████████▏                                                          | 41/89 [00:16<00:19,  2.41it/s]"
     ]
    },
    {
     "name": "stderr",
     "output_type": "stream",
     "text": [
      "\r",
      "Running val:  47%|███████████████████████████████████████████████████▍                                                         | 42/89 [00:17<00:18,  2.55it/s]"
     ]
    },
    {
     "name": "stderr",
     "output_type": "stream",
     "text": [
      "\r",
      "Running val:  48%|████████████████████████████████████████████████████▋                                                        | 43/89 [00:17<00:18,  2.43it/s]"
     ]
    },
    {
     "name": "stderr",
     "output_type": "stream",
     "text": [
      "\r",
      "Running val:  49%|█████████████████████████████████████████████████████▉                                                       | 44/89 [00:17<00:18,  2.47it/s]"
     ]
    },
    {
     "name": "stderr",
     "output_type": "stream",
     "text": [
      "\r",
      "Running val:  51%|███████████████████████████████████████████████████████                                                      | 45/89 [00:18<00:17,  2.45it/s]"
     ]
    },
    {
     "name": "stderr",
     "output_type": "stream",
     "text": [
      "\r",
      "Running val:  52%|████████████████████████████████████████████████████████▎                                                    | 46/89 [00:18<00:16,  2.58it/s]"
     ]
    },
    {
     "name": "stderr",
     "output_type": "stream",
     "text": [
      "\r",
      "Running val:  53%|█████████████████████████████████████████████████████████▌                                                   | 47/89 [00:19<00:17,  2.44it/s]"
     ]
    },
    {
     "name": "stderr",
     "output_type": "stream",
     "text": [
      "\r",
      "Running val:  54%|██████████████████████████████████████████████████████████▊                                                  | 48/89 [00:19<00:15,  2.57it/s]"
     ]
    },
    {
     "name": "stderr",
     "output_type": "stream",
     "text": [
      "\r",
      "Running val:  55%|████████████████████████████████████████████████████████████                                                 | 49/89 [00:19<00:16,  2.45it/s]"
     ]
    },
    {
     "name": "stderr",
     "output_type": "stream",
     "text": [
      "\r",
      "Running val:  56%|█████████████████████████████████████████████████████████████▏                                               | 50/89 [00:20<00:16,  2.44it/s]"
     ]
    },
    {
     "name": "stderr",
     "output_type": "stream",
     "text": [
      "\r",
      "Running val:  57%|██████████████████████████████████████████████████████████████▍                                              | 51/89 [00:20<00:15,  2.38it/s]"
     ]
    },
    {
     "name": "stderr",
     "output_type": "stream",
     "text": [
      "\r",
      "Running val:  58%|███████████████████████████████████████████████████████████████▋                                             | 52/89 [00:21<00:14,  2.53it/s]"
     ]
    },
    {
     "name": "stderr",
     "output_type": "stream",
     "text": [
      "\r",
      "Running val:  60%|████████████████████████████████████████████████████████████████▉                                            | 53/89 [00:21<00:14,  2.49it/s]"
     ]
    },
    {
     "name": "stderr",
     "output_type": "stream",
     "text": [
      "\r",
      "Running val:  61%|██████████████████████████████████████████████████████████████████▏                                          | 54/89 [00:21<00:13,  2.59it/s]"
     ]
    },
    {
     "name": "stderr",
     "output_type": "stream",
     "text": [
      "\r",
      "Running val:  62%|███████████████████████████████████████████████████████████████████▎                                         | 55/89 [00:22<00:13,  2.45it/s]"
     ]
    },
    {
     "name": "stderr",
     "output_type": "stream",
     "text": [
      "\r",
      "Running val:  63%|████████████████████████████████████████████████████████████████████▌                                        | 56/89 [00:22<00:13,  2.49it/s]"
     ]
    },
    {
     "name": "stderr",
     "output_type": "stream",
     "text": [
      "\r",
      "Running val:  64%|█████████████████████████████████████████████████████████████████████▊                                       | 57/89 [00:23<00:13,  2.40it/s]"
     ]
    },
    {
     "name": "stderr",
     "output_type": "stream",
     "text": [
      "\r",
      "Running val:  65%|███████████████████████████████████████████████████████████████████████                                      | 58/89 [00:23<00:12,  2.52it/s]"
     ]
    },
    {
     "name": "stderr",
     "output_type": "stream",
     "text": [
      "\r",
      "Running val:  66%|████████████████████████████████████████████████████████████████████████▎                                    | 59/89 [00:23<00:12,  2.48it/s]"
     ]
    },
    {
     "name": "stderr",
     "output_type": "stream",
     "text": [
      "\r",
      "Running val:  67%|█████████████████████████████████████████████████████████████████████████▍                                   | 60/89 [00:24<00:11,  2.57it/s]"
     ]
    },
    {
     "name": "stderr",
     "output_type": "stream",
     "text": [
      "\r",
      "Running val:  69%|██████████████████████████████████████████████████████████████████████████▋                                  | 61/89 [00:24<00:11,  2.52it/s]"
     ]
    },
    {
     "name": "stderr",
     "output_type": "stream",
     "text": [
      "\r",
      "Running val:  70%|███████████████████████████████████████████████████████████████████████████▉                                 | 62/89 [00:25<00:10,  2.53it/s]"
     ]
    },
    {
     "name": "stderr",
     "output_type": "stream",
     "text": [
      "\r",
      "Running val:  71%|█████████████████████████████████████████████████████████████████████████████▏                               | 63/89 [00:25<00:10,  2.49it/s]"
     ]
    },
    {
     "name": "stderr",
     "output_type": "stream",
     "text": [
      "\r",
      "Running val:  72%|██████████████████████████████████████████████████████████████████████████████▍                              | 64/89 [00:25<00:10,  2.49it/s]"
     ]
    },
    {
     "name": "stderr",
     "output_type": "stream",
     "text": [
      "\r",
      "Running val:  73%|███████████████████████████████████████████████████████████████████████████████▌                             | 65/89 [00:26<00:09,  2.42it/s]"
     ]
    },
    {
     "name": "stderr",
     "output_type": "stream",
     "text": [
      "\r",
      "Running val:  74%|████████████████████████████████████████████████████████████████████████████████▊                            | 66/89 [00:26<00:09,  2.43it/s]"
     ]
    },
    {
     "name": "stderr",
     "output_type": "stream",
     "text": [
      "\r",
      "Running val:  75%|██████████████████████████████████████████████████████████████████████████████████                           | 67/89 [00:27<00:09,  2.33it/s]"
     ]
    },
    {
     "name": "stderr",
     "output_type": "stream",
     "text": [
      "\r",
      "Running val:  76%|███████████████████████████████████████████████████████████████████████████████████▎                         | 68/89 [00:27<00:08,  2.37it/s]"
     ]
    },
    {
     "name": "stderr",
     "output_type": "stream",
     "text": [
      "\r",
      "Running val:  78%|████████████████████████████████████████████████████████████████████████████████████▌                        | 69/89 [00:28<00:08,  2.33it/s]"
     ]
    },
    {
     "name": "stderr",
     "output_type": "stream",
     "text": [
      "\r",
      "Running val:  79%|█████████████████████████████████████████████████████████████████████████████████████▋                       | 70/89 [00:28<00:07,  2.46it/s]"
     ]
    },
    {
     "name": "stderr",
     "output_type": "stream",
     "text": [
      "\r",
      "Running val:  80%|██████████████████████████████████████████████████████████████████████████████████████▉                      | 71/89 [00:28<00:07,  2.44it/s]"
     ]
    },
    {
     "name": "stderr",
     "output_type": "stream",
     "text": [
      "\r",
      "Running val:  81%|████████████████████████████████████████████████████████████████████████████████████████▏                    | 72/89 [00:29<00:06,  2.59it/s]"
     ]
    },
    {
     "name": "stderr",
     "output_type": "stream",
     "text": [
      "\r",
      "Running val:  82%|█████████████████████████████████████████████████████████████████████████████████████████▍                   | 73/89 [00:29<00:06,  2.48it/s]"
     ]
    },
    {
     "name": "stderr",
     "output_type": "stream",
     "text": [
      "\r",
      "Running val:  83%|██████████████████████████████████████████████████████████████████████████████████████████▋                  | 74/89 [00:29<00:05,  2.50it/s]"
     ]
    },
    {
     "name": "stderr",
     "output_type": "stream",
     "text": [
      "\r",
      "Running val:  84%|███████████████████████████████████████████████████████████████████████████████████████████▊                 | 75/89 [00:30<00:05,  2.47it/s]"
     ]
    },
    {
     "name": "stderr",
     "output_type": "stream",
     "text": [
      "\r",
      "Running val:  85%|█████████████████████████████████████████████████████████████████████████████████████████████                | 76/89 [00:30<00:04,  2.62it/s]"
     ]
    },
    {
     "name": "stderr",
     "output_type": "stream",
     "text": [
      "\r",
      "Running val:  87%|██████████████████████████████████████████████████████████████████████████████████████████████▎              | 77/89 [00:31<00:04,  2.55it/s]"
     ]
    },
    {
     "name": "stderr",
     "output_type": "stream",
     "text": [
      "\r",
      "Running val:  88%|███████████████████████████████████████████████████████████████████████████████████████████████▌             | 78/89 [00:31<00:04,  2.51it/s]"
     ]
    },
    {
     "name": "stderr",
     "output_type": "stream",
     "text": [
      "\r",
      "Running val:  89%|████████████████████████████████████████████████████████████████████████████████████████████████▊            | 79/89 [00:31<00:04,  2.48it/s]"
     ]
    },
    {
     "name": "stderr",
     "output_type": "stream",
     "text": [
      "\r",
      "Running val:  90%|█████████████████████████████████████████████████████████████████████████████████████████████████▉           | 80/89 [00:32<00:03,  2.61it/s]"
     ]
    },
    {
     "name": "stderr",
     "output_type": "stream",
     "text": [
      "\r",
      "Running val:  91%|███████████████████████████████████████████████████████████████████████████████████████████████████▏         | 81/89 [00:32<00:03,  2.50it/s]"
     ]
    },
    {
     "name": "stderr",
     "output_type": "stream",
     "text": [
      "\r",
      "Running val:  92%|████████████████████████████████████████████████████████████████████████████████████████████████████▍        | 82/89 [00:33<00:02,  2.58it/s]"
     ]
    },
    {
     "name": "stderr",
     "output_type": "stream",
     "text": [
      "\r",
      "Running val:  93%|█████████████████████████████████████████████████████████████████████████████████████████████████████▋       | 83/89 [00:33<00:02,  2.54it/s]"
     ]
    },
    {
     "name": "stderr",
     "output_type": "stream",
     "text": [
      "\r",
      "Running val:  94%|██████████████████████████████████████████████████████████████████████████████████████████████████████▉      | 84/89 [00:33<00:01,  2.57it/s]"
     ]
    },
    {
     "name": "stderr",
     "output_type": "stream",
     "text": [
      "\r",
      "Running val:  96%|████████████████████████████████████████████████████████████████████████████████████████████████████████     | 85/89 [00:34<00:01,  2.57it/s]"
     ]
    },
    {
     "name": "stderr",
     "output_type": "stream",
     "text": [
      "\r",
      "Running val:  97%|█████████████████████████████████████████████████████████████████████████████████████████████████████████▎   | 86/89 [00:34<00:01,  2.56it/s]"
     ]
    },
    {
     "name": "stderr",
     "output_type": "stream",
     "text": [
      "\r",
      "Running val:  98%|██████████████████████████████████████████████████████████████████████████████████████████████████████████▌  | 87/89 [00:35<00:00,  2.48it/s]"
     ]
    },
    {
     "name": "stderr",
     "output_type": "stream",
     "text": [
      "\r",
      "Running val:  99%|███████████████████████████████████████████████████████████████████████████████████████████████████████████▊ | 88/89 [00:35<00:00,  2.38it/s]"
     ]
    },
    {
     "name": "stderr",
     "output_type": "stream",
     "text": [
      "\r",
      "Running val: 100%|█████████████████████████████████████████████████████████████████████████████████████████████████████████████| 89/89 [00:35<00:00,  2.95it/s]"
     ]
    },
    {
     "name": "stderr",
     "output_type": "stream",
     "text": [
      "\r",
      "Running val: 100%|█████████████████████████████████████████████████████████████████████████████████████████████████████████████| 89/89 [00:35<00:00,  2.49it/s]"
     ]
    },
    {
     "name": "stderr",
     "output_type": "stream",
     "text": [
      "\n"
     ]
    },
    {
     "name": "stdout",
     "output_type": "stream",
     "text": [
      "val Loss: 1.7437 Acc: 0.3910\n",
      "val Epoch Entropy: 0.7478\n",
      "\n",
      "Epoch 2/499\n",
      "----------\n"
     ]
    },
    {
     "name": "stderr",
     "output_type": "stream",
     "text": [
      "\r",
      "Running train:   0%|                                                                                                                   | 0/354 [00:00<?, ?it/s]"
     ]
    },
    {
     "name": "stderr",
     "output_type": "stream",
     "text": [
      "\r",
      "Running train:   0%|▎                                                                                                          | 1/354 [00:00<04:45,  1.24it/s]"
     ]
    },
    {
     "name": "stderr",
     "output_type": "stream",
     "text": [
      "\r",
      "Running train:   1%|▌                                                                                                          | 2/354 [00:01<04:44,  1.24it/s]"
     ]
    },
    {
     "name": "stderr",
     "output_type": "stream",
     "text": [
      "\r",
      "Running train:   1%|▉                                                                                                          | 3/354 [00:02<04:42,  1.24it/s]"
     ]
    },
    {
     "name": "stderr",
     "output_type": "stream",
     "text": [
      "\r",
      "Running train:   1%|█▏                                                                                                         | 4/354 [00:03<04:41,  1.24it/s]"
     ]
    },
    {
     "name": "stderr",
     "output_type": "stream",
     "text": [
      "\r",
      "Running train:   1%|█▌                                                                                                         | 5/354 [00:04<04:45,  1.22it/s]"
     ]
    },
    {
     "name": "stderr",
     "output_type": "stream",
     "text": [
      "\r",
      "Running train:   2%|█▊                                                                                                         | 6/354 [00:04<04:42,  1.23it/s]"
     ]
    },
    {
     "name": "stderr",
     "output_type": "stream",
     "text": [
      "\r",
      "Running train:   2%|██                                                                                                         | 7/354 [00:05<04:41,  1.23it/s]"
     ]
    },
    {
     "name": "stderr",
     "output_type": "stream",
     "text": [
      "\r",
      "Running train:   2%|██▍                                                                                                        | 8/354 [00:06<04:38,  1.24it/s]"
     ]
    },
    {
     "name": "stderr",
     "output_type": "stream",
     "text": [
      "\r",
      "Running train:   3%|██▋                                                                                                        | 9/354 [00:07<04:42,  1.22it/s]"
     ]
    },
    {
     "name": "stderr",
     "output_type": "stream",
     "text": [
      "\r",
      "Running train:   3%|██▉                                                                                                       | 10/354 [00:08<04:40,  1.23it/s]"
     ]
    },
    {
     "name": "stderr",
     "output_type": "stream",
     "text": [
      "\r",
      "Running train:   3%|███▎                                                                                                      | 11/354 [00:08<04:30,  1.27it/s]"
     ]
    },
    {
     "name": "stderr",
     "output_type": "stream",
     "text": [
      "\r",
      "Running train:   3%|███▌                                                                                                      | 12/354 [00:09<04:28,  1.27it/s]"
     ]
    },
    {
     "name": "stderr",
     "output_type": "stream",
     "text": [
      "\r",
      "Running train:   4%|███▉                                                                                                      | 13/354 [00:10<04:29,  1.27it/s]"
     ]
    },
    {
     "name": "stderr",
     "output_type": "stream",
     "text": [
      "\r",
      "Running train:   4%|████▏                                                                                                     | 14/354 [00:11<04:31,  1.25it/s]"
     ]
    },
    {
     "name": "stderr",
     "output_type": "stream",
     "text": [
      "\r",
      "Running train:   4%|████▍                                                                                                     | 15/354 [00:12<04:33,  1.24it/s]"
     ]
    },
    {
     "name": "stderr",
     "output_type": "stream",
     "text": [
      "\r",
      "Running train:   5%|████▊                                                                                                     | 16/354 [00:12<04:35,  1.22it/s]"
     ]
    },
    {
     "name": "stderr",
     "output_type": "stream",
     "text": [
      "\r",
      "Running train:   5%|█████                                                                                                     | 17/354 [00:13<04:36,  1.22it/s]"
     ]
    },
    {
     "name": "stderr",
     "output_type": "stream",
     "text": [
      "\r",
      "Running train:   5%|█████▍                                                                                                    | 18/354 [00:14<04:34,  1.22it/s]"
     ]
    },
    {
     "name": "stderr",
     "output_type": "stream",
     "text": [
      "\r",
      "Running train:   5%|█████▋                                                                                                    | 19/354 [00:15<04:31,  1.23it/s]"
     ]
    },
    {
     "name": "stderr",
     "output_type": "stream",
     "text": [
      "\r",
      "Running train:   6%|█████▉                                                                                                    | 20/354 [00:16<04:36,  1.21it/s]"
     ]
    },
    {
     "name": "stderr",
     "output_type": "stream",
     "text": [
      "\r",
      "Running train:   6%|██████▎                                                                                                   | 21/354 [00:17<04:34,  1.21it/s]"
     ]
    },
    {
     "name": "stderr",
     "output_type": "stream",
     "text": [
      "\r",
      "Running train:   6%|██████▌                                                                                                   | 22/354 [00:17<04:31,  1.22it/s]"
     ]
    },
    {
     "name": "stderr",
     "output_type": "stream",
     "text": [
      "\r",
      "Running train:   6%|██████▉                                                                                                   | 23/354 [00:18<04:26,  1.24it/s]"
     ]
    },
    {
     "name": "stderr",
     "output_type": "stream",
     "text": [
      "\r",
      "Running train:   7%|███████▏                                                                                                  | 24/354 [00:19<04:23,  1.25it/s]"
     ]
    },
    {
     "name": "stderr",
     "output_type": "stream",
     "text": [
      "\r",
      "Running train:   7%|███████▍                                                                                                  | 25/354 [00:20<04:29,  1.22it/s]"
     ]
    },
    {
     "name": "stderr",
     "output_type": "stream",
     "text": [
      "\r",
      "Running train:   7%|███████▊                                                                                                  | 26/354 [00:21<04:27,  1.23it/s]"
     ]
    },
    {
     "name": "stderr",
     "output_type": "stream",
     "text": [
      "\r",
      "Running train:   8%|████████                                                                                                  | 27/354 [00:21<04:22,  1.24it/s]"
     ]
    },
    {
     "name": "stderr",
     "output_type": "stream",
     "text": [
      "\r",
      "Running train:   8%|████████▍                                                                                                 | 28/354 [00:22<04:30,  1.21it/s]"
     ]
    },
    {
     "name": "stderr",
     "output_type": "stream",
     "text": [
      "\r",
      "Running train:   8%|████████▋                                                                                                 | 29/354 [00:23<04:22,  1.24it/s]"
     ]
    },
    {
     "name": "stderr",
     "output_type": "stream",
     "text": [
      "\r",
      "Running train:   8%|████████▉                                                                                                 | 30/354 [00:24<04:16,  1.26it/s]"
     ]
    },
    {
     "name": "stderr",
     "output_type": "stream",
     "text": [
      "\r",
      "Running train:   9%|█████████▎                                                                                                | 31/354 [00:25<04:23,  1.23it/s]"
     ]
    },
    {
     "name": "stderr",
     "output_type": "stream",
     "text": [
      "\r",
      "Running train:   9%|█████████▌                                                                                                | 32/354 [00:25<04:13,  1.27it/s]"
     ]
    },
    {
     "name": "stderr",
     "output_type": "stream",
     "text": [
      "\r",
      "Running train:   9%|█████████▉                                                                                                | 33/354 [00:26<04:07,  1.29it/s]"
     ]
    },
    {
     "name": "stderr",
     "output_type": "stream",
     "text": [
      "\r",
      "Running train:  10%|██████████▏                                                                                               | 34/354 [00:27<04:04,  1.31it/s]"
     ]
    },
    {
     "name": "stderr",
     "output_type": "stream",
     "text": [
      "\r",
      "Running train:  10%|██████████▍                                                                                               | 35/354 [00:28<04:01,  1.32it/s]"
     ]
    },
    {
     "name": "stderr",
     "output_type": "stream",
     "text": [
      "\r",
      "Running train:  10%|██████████▊                                                                                               | 36/354 [00:28<04:00,  1.32it/s]"
     ]
    },
    {
     "name": "stderr",
     "output_type": "stream",
     "text": [
      "\r",
      "Running train:  10%|███████████                                                                                               | 37/354 [00:29<04:02,  1.30it/s]"
     ]
    },
    {
     "name": "stderr",
     "output_type": "stream",
     "text": [
      "\r",
      "Running train:  11%|███████████▍                                                                                              | 38/354 [00:30<04:03,  1.30it/s]"
     ]
    },
    {
     "name": "stderr",
     "output_type": "stream",
     "text": [
      "\r",
      "Running train:  11%|███████████▋                                                                                              | 39/354 [00:31<04:04,  1.29it/s]"
     ]
    },
    {
     "name": "stderr",
     "output_type": "stream",
     "text": [
      "\r",
      "Running train:  11%|███████████▉                                                                                              | 40/354 [00:31<04:02,  1.29it/s]"
     ]
    },
    {
     "name": "stderr",
     "output_type": "stream",
     "text": [
      "\r",
      "Running train:  12%|████████████▎                                                                                             | 41/354 [00:32<04:05,  1.28it/s]"
     ]
    },
    {
     "name": "stderr",
     "output_type": "stream",
     "text": [
      "\r",
      "Running train:  12%|████████████▌                                                                                             | 42/354 [00:33<04:04,  1.27it/s]"
     ]
    },
    {
     "name": "stderr",
     "output_type": "stream",
     "text": [
      "\r",
      "Running train:  12%|████████████▉                                                                                             | 43/354 [00:34<04:07,  1.26it/s]"
     ]
    },
    {
     "name": "stderr",
     "output_type": "stream",
     "text": [
      "\r",
      "Running train:  12%|█████████████▏                                                                                            | 44/354 [00:35<04:06,  1.26it/s]"
     ]
    },
    {
     "name": "stderr",
     "output_type": "stream",
     "text": [
      "\r",
      "Running train:  13%|█████████████▍                                                                                            | 45/354 [00:35<04:04,  1.26it/s]"
     ]
    },
    {
     "name": "stderr",
     "output_type": "stream",
     "text": [
      "\r",
      "Running train:  13%|█████████████▊                                                                                            | 46/354 [00:36<04:04,  1.26it/s]"
     ]
    },
    {
     "name": "stderr",
     "output_type": "stream",
     "text": [
      "\r",
      "Running train:  13%|██████████████                                                                                            | 47/354 [00:37<04:09,  1.23it/s]"
     ]
    },
    {
     "name": "stderr",
     "output_type": "stream",
     "text": [
      "\r",
      "Running train:  14%|██████████████▎                                                                                           | 48/354 [00:38<04:07,  1.24it/s]"
     ]
    },
    {
     "name": "stderr",
     "output_type": "stream",
     "text": [
      "\r",
      "Running train:  14%|██████████████▋                                                                                           | 49/354 [00:39<04:04,  1.25it/s]"
     ]
    },
    {
     "name": "stderr",
     "output_type": "stream",
     "text": [
      "\r",
      "Running train:  14%|██████████████▉                                                                                           | 50/354 [00:39<04:03,  1.25it/s]"
     ]
    },
    {
     "name": "stderr",
     "output_type": "stream",
     "text": [
      "\r",
      "Running train:  14%|███████████████▎                                                                                          | 51/354 [00:40<04:02,  1.25it/s]"
     ]
    },
    {
     "name": "stderr",
     "output_type": "stream",
     "text": [
      "\r",
      "Running train:  15%|███████████████▌                                                                                          | 52/354 [00:41<04:00,  1.25it/s]"
     ]
    },
    {
     "name": "stderr",
     "output_type": "stream",
     "text": [
      "\r",
      "Running train:  15%|███████████████▊                                                                                          | 53/354 [00:42<04:01,  1.25it/s]"
     ]
    },
    {
     "name": "stderr",
     "output_type": "stream",
     "text": [
      "\r",
      "Running train:  15%|████████████████▏                                                                                         | 54/354 [00:43<04:00,  1.25it/s]"
     ]
    },
    {
     "name": "stderr",
     "output_type": "stream",
     "text": [
      "\r",
      "Running train:  16%|████████████████▍                                                                                         | 55/354 [00:44<04:04,  1.22it/s]"
     ]
    },
    {
     "name": "stderr",
     "output_type": "stream",
     "text": [
      "\r",
      "Running train:  16%|████████████████▊                                                                                         | 56/354 [00:44<04:02,  1.23it/s]"
     ]
    },
    {
     "name": "stderr",
     "output_type": "stream",
     "text": [
      "\r",
      "Running train:  16%|█████████████████                                                                                         | 57/354 [00:45<04:01,  1.23it/s]"
     ]
    },
    {
     "name": "stderr",
     "output_type": "stream",
     "text": [
      "\r",
      "Running train:  16%|█████████████████▎                                                                                        | 58/354 [00:46<04:01,  1.22it/s]"
     ]
    },
    {
     "name": "stderr",
     "output_type": "stream",
     "text": [
      "\r",
      "Running train:  17%|█████████████████▋                                                                                        | 59/354 [00:47<04:00,  1.23it/s]"
     ]
    },
    {
     "name": "stderr",
     "output_type": "stream",
     "text": [
      "\r",
      "Running train:  17%|█████████████████▉                                                                                        | 60/354 [00:48<04:01,  1.22it/s]"
     ]
    },
    {
     "name": "stderr",
     "output_type": "stream",
     "text": [
      "\r",
      "Running train:  17%|██████████████████▎                                                                                       | 61/354 [00:48<04:00,  1.22it/s]"
     ]
    },
    {
     "name": "stderr",
     "output_type": "stream",
     "text": [
      "\r",
      "Running train:  18%|██████████████████▌                                                                                       | 62/354 [00:49<04:01,  1.21it/s]"
     ]
    },
    {
     "name": "stderr",
     "output_type": "stream",
     "text": [
      "\r",
      "Running train:  18%|██████████████████▊                                                                                       | 63/354 [00:50<04:01,  1.21it/s]"
     ]
    },
    {
     "name": "stderr",
     "output_type": "stream",
     "text": [
      "\r",
      "Running train:  18%|███████████████████▏                                                                                      | 64/354 [00:51<03:56,  1.23it/s]"
     ]
    },
    {
     "name": "stderr",
     "output_type": "stream",
     "text": [
      "\r",
      "Running train:  18%|███████████████████▍                                                                                      | 65/354 [00:52<03:54,  1.23it/s]"
     ]
    },
    {
     "name": "stderr",
     "output_type": "stream",
     "text": [
      "\r",
      "Running train:  19%|███████████████████▊                                                                                      | 66/354 [00:53<03:54,  1.23it/s]"
     ]
    },
    {
     "name": "stderr",
     "output_type": "stream",
     "text": [
      "\r",
      "Running train:  19%|████████████████████                                                                                      | 67/354 [00:53<03:52,  1.23it/s]"
     ]
    },
    {
     "name": "stderr",
     "output_type": "stream",
     "text": [
      "\r",
      "Running train:  19%|████████████████████▎                                                                                     | 68/354 [00:54<03:49,  1.25it/s]"
     ]
    },
    {
     "name": "stderr",
     "output_type": "stream",
     "text": [
      "\r",
      "Running train:  19%|████████████████████▋                                                                                     | 69/354 [00:55<03:48,  1.24it/s]"
     ]
    },
    {
     "name": "stderr",
     "output_type": "stream",
     "text": [
      "\r",
      "Running train:  20%|████████████████████▉                                                                                     | 70/354 [00:56<03:47,  1.25it/s]"
     ]
    },
    {
     "name": "stderr",
     "output_type": "stream",
     "text": [
      "\r",
      "Running train:  20%|█████████████████████▎                                                                                    | 71/354 [00:57<03:49,  1.23it/s]"
     ]
    },
    {
     "name": "stderr",
     "output_type": "stream",
     "text": [
      "\r",
      "Running train:  20%|█████████████████████▌                                                                                    | 72/354 [00:57<03:48,  1.24it/s]"
     ]
    },
    {
     "name": "stderr",
     "output_type": "stream",
     "text": [
      "\r",
      "Running train:  21%|█████████████████████▊                                                                                    | 73/354 [00:58<03:48,  1.23it/s]"
     ]
    },
    {
     "name": "stderr",
     "output_type": "stream",
     "text": [
      "\r",
      "Running train:  21%|██████████████████████▏                                                                                   | 74/354 [00:59<03:47,  1.23it/s]"
     ]
    },
    {
     "name": "stderr",
     "output_type": "stream",
     "text": [
      "\r",
      "Running train:  21%|██████████████████████▍                                                                                   | 75/354 [01:00<03:48,  1.22it/s]"
     ]
    },
    {
     "name": "stderr",
     "output_type": "stream",
     "text": [
      "\r",
      "Running train:  21%|██████████████████████▊                                                                                   | 76/354 [01:01<03:47,  1.22it/s]"
     ]
    },
    {
     "name": "stderr",
     "output_type": "stream",
     "text": [
      "\r",
      "Running train:  22%|███████████████████████                                                                                   | 77/354 [01:02<03:55,  1.17it/s]"
     ]
    },
    {
     "name": "stderr",
     "output_type": "stream",
     "text": [
      "\r",
      "Running train:  22%|███████████████████████▎                                                                                  | 78/354 [01:02<03:52,  1.19it/s]"
     ]
    },
    {
     "name": "stderr",
     "output_type": "stream",
     "text": [
      "\r",
      "Running train:  22%|███████████████████████▋                                                                                  | 79/354 [01:03<03:50,  1.19it/s]"
     ]
    },
    {
     "name": "stderr",
     "output_type": "stream",
     "text": [
      "\r",
      "Running train:  23%|███████████████████████▉                                                                                  | 80/354 [01:04<03:46,  1.21it/s]"
     ]
    },
    {
     "name": "stderr",
     "output_type": "stream",
     "text": [
      "\r",
      "Running train:  23%|████████████████████████▎                                                                                 | 81/354 [01:05<03:42,  1.23it/s]"
     ]
    },
    {
     "name": "stderr",
     "output_type": "stream",
     "text": [
      "\r",
      "Running train:  23%|████████████████████████▌                                                                                 | 82/354 [01:06<03:42,  1.22it/s]"
     ]
    },
    {
     "name": "stderr",
     "output_type": "stream",
     "text": [
      "\r",
      "Running train:  23%|████████████████████████▊                                                                                 | 83/354 [01:06<03:43,  1.21it/s]"
     ]
    },
    {
     "name": "stderr",
     "output_type": "stream",
     "text": [
      "\r",
      "Running train:  24%|█████████████████████████▏                                                                                | 84/354 [01:07<03:40,  1.22it/s]"
     ]
    },
    {
     "name": "stderr",
     "output_type": "stream",
     "text": [
      "\r",
      "Running train:  24%|█████████████████████████▍                                                                                | 85/354 [01:08<03:38,  1.23it/s]"
     ]
    },
    {
     "name": "stderr",
     "output_type": "stream",
     "text": [
      "\r",
      "Running train:  24%|█████████████████████████▊                                                                                | 86/354 [01:09<03:37,  1.23it/s]"
     ]
    },
    {
     "name": "stderr",
     "output_type": "stream",
     "text": [
      "\r",
      "Running train:  25%|██████████████████████████                                                                                | 87/354 [01:10<03:37,  1.23it/s]"
     ]
    },
    {
     "name": "stderr",
     "output_type": "stream",
     "text": [
      "\r",
      "Running train:  25%|██████████████████████████▎                                                                               | 88/354 [01:10<03:34,  1.24it/s]"
     ]
    },
    {
     "name": "stderr",
     "output_type": "stream",
     "text": [
      "\r",
      "Running train:  25%|██████████████████████████▋                                                                               | 89/354 [01:11<03:33,  1.24it/s]"
     ]
    },
    {
     "name": "stderr",
     "output_type": "stream",
     "text": [
      "\r",
      "Running train:  25%|██████████████████████████▉                                                                               | 90/354 [01:12<03:32,  1.24it/s]"
     ]
    },
    {
     "name": "stderr",
     "output_type": "stream",
     "text": [
      "\r",
      "Running train:  26%|███████████████████████████▏                                                                              | 91/354 [01:13<03:30,  1.25it/s]"
     ]
    },
    {
     "name": "stderr",
     "output_type": "stream",
     "text": [
      "\r",
      "Running train:  26%|███████████████████████████▌                                                                              | 92/354 [01:14<03:26,  1.27it/s]"
     ]
    },
    {
     "name": "stderr",
     "output_type": "stream",
     "text": [
      "\r",
      "Running train:  26%|███████████████████████████▊                                                                              | 93/354 [01:14<03:25,  1.27it/s]"
     ]
    },
    {
     "name": "stderr",
     "output_type": "stream",
     "text": [
      "\r",
      "Running train:  27%|████████████████████████████▏                                                                             | 94/354 [01:15<03:22,  1.28it/s]"
     ]
    },
    {
     "name": "stderr",
     "output_type": "stream",
     "text": [
      "\r",
      "Running train:  27%|████████████████████████████▍                                                                             | 95/354 [01:16<03:22,  1.28it/s]"
     ]
    },
    {
     "name": "stderr",
     "output_type": "stream",
     "text": [
      "\r",
      "Running train:  27%|████████████████████████████▋                                                                             | 96/354 [01:17<03:20,  1.28it/s]"
     ]
    },
    {
     "name": "stderr",
     "output_type": "stream",
     "text": [
      "\r",
      "Running train:  27%|█████████████████████████████                                                                             | 97/354 [01:18<03:19,  1.29it/s]"
     ]
    },
    {
     "name": "stderr",
     "output_type": "stream",
     "text": [
      "\r",
      "Running train:  28%|█████████████████████████████▎                                                                            | 98/354 [01:18<03:20,  1.28it/s]"
     ]
    },
    {
     "name": "stderr",
     "output_type": "stream",
     "text": [
      "\r",
      "Running train:  28%|█████████████████████████████▋                                                                            | 99/354 [01:19<03:21,  1.27it/s]"
     ]
    },
    {
     "name": "stderr",
     "output_type": "stream",
     "text": [
      "\r",
      "Running train:  28%|█████████████████████████████▋                                                                           | 100/354 [01:20<03:19,  1.27it/s]"
     ]
    },
    {
     "name": "stderr",
     "output_type": "stream",
     "text": [
      "\r",
      "Running train:  29%|█████████████████████████████▉                                                                           | 101/354 [01:21<03:19,  1.27it/s]"
     ]
    },
    {
     "name": "stderr",
     "output_type": "stream",
     "text": [
      "\r",
      "Running train:  29%|██████████████████████████████▎                                                                          | 102/354 [01:21<03:17,  1.28it/s]"
     ]
    },
    {
     "name": "stderr",
     "output_type": "stream",
     "text": [
      "\r",
      "Running train:  29%|██████████████████████████████▌                                                                          | 103/354 [01:22<03:17,  1.27it/s]"
     ]
    },
    {
     "name": "stderr",
     "output_type": "stream",
     "text": [
      "\r",
      "Running train:  29%|██████████████████████████████▊                                                                          | 104/354 [01:23<03:16,  1.27it/s]"
     ]
    },
    {
     "name": "stderr",
     "output_type": "stream",
     "text": [
      "\r",
      "Running train:  30%|███████████████████████████████▏                                                                         | 105/354 [01:24<03:17,  1.26it/s]"
     ]
    },
    {
     "name": "stderr",
     "output_type": "stream",
     "text": [
      "\r",
      "Running train:  30%|███████████████████████████████▍                                                                         | 106/354 [01:25<03:12,  1.29it/s]"
     ]
    },
    {
     "name": "stderr",
     "output_type": "stream",
     "text": [
      "\r",
      "Running train:  30%|███████████████████████████████▋                                                                         | 107/354 [01:25<03:07,  1.32it/s]"
     ]
    },
    {
     "name": "stderr",
     "output_type": "stream",
     "text": [
      "\r",
      "Running train:  31%|████████████████████████████████                                                                         | 108/354 [01:26<03:08,  1.31it/s]"
     ]
    },
    {
     "name": "stderr",
     "output_type": "stream",
     "text": [
      "\r",
      "Running train:  31%|████████████████████████████████▎                                                                        | 109/354 [01:27<03:05,  1.32it/s]"
     ]
    },
    {
     "name": "stderr",
     "output_type": "stream",
     "text": [
      "\r",
      "Running train:  31%|████████████████████████████████▋                                                                        | 110/354 [01:28<03:01,  1.34it/s]"
     ]
    },
    {
     "name": "stderr",
     "output_type": "stream",
     "text": [
      "\r",
      "Running train:  31%|████████████████████████████████▉                                                                        | 111/354 [01:28<03:05,  1.31it/s]"
     ]
    },
    {
     "name": "stderr",
     "output_type": "stream",
     "text": [
      "\r",
      "Running train:  32%|█████████████████████████████████▏                                                                       | 112/354 [01:29<02:59,  1.34it/s]"
     ]
    },
    {
     "name": "stderr",
     "output_type": "stream",
     "text": [
      "\r",
      "Running train:  32%|█████████████████████████████████▌                                                                       | 113/354 [01:30<02:57,  1.35it/s]"
     ]
    },
    {
     "name": "stderr",
     "output_type": "stream",
     "text": [
      "\r",
      "Running train:  32%|█████████████████████████████████▊                                                                       | 114/354 [01:31<03:00,  1.33it/s]"
     ]
    },
    {
     "name": "stderr",
     "output_type": "stream",
     "text": [
      "\r",
      "Running train:  32%|██████████████████████████████████                                                                       | 115/354 [01:31<03:10,  1.26it/s]"
     ]
    },
    {
     "name": "stderr",
     "output_type": "stream",
     "text": [
      "\r",
      "Running train:  33%|██████████████████████████████████▍                                                                      | 116/354 [01:32<03:05,  1.28it/s]"
     ]
    },
    {
     "name": "stderr",
     "output_type": "stream",
     "text": [
      "\r",
      "Running train:  33%|██████████████████████████████████▋                                                                      | 117/354 [01:33<02:59,  1.32it/s]"
     ]
    },
    {
     "name": "stderr",
     "output_type": "stream",
     "text": [
      "\r",
      "Running train:  33%|███████████████████████████████████                                                                      | 118/354 [01:34<03:01,  1.30it/s]"
     ]
    },
    {
     "name": "stderr",
     "output_type": "stream",
     "text": [
      "\r",
      "Running train:  34%|███████████████████████████████████▎                                                                     | 119/354 [01:34<03:03,  1.28it/s]"
     ]
    },
    {
     "name": "stderr",
     "output_type": "stream",
     "text": [
      "\r",
      "Running train:  34%|███████████████████████████████████▌                                                                     | 120/354 [01:35<03:02,  1.28it/s]"
     ]
    },
    {
     "name": "stderr",
     "output_type": "stream",
     "text": [
      "\r",
      "Running train:  34%|███████████████████████████████████▉                                                                     | 121/354 [01:36<03:01,  1.29it/s]"
     ]
    },
    {
     "name": "stderr",
     "output_type": "stream",
     "text": [
      "\r",
      "Running train:  34%|████████████████████████████████████▏                                                                    | 122/354 [01:37<02:59,  1.29it/s]"
     ]
    },
    {
     "name": "stderr",
     "output_type": "stream",
     "text": [
      "\r",
      "Running train:  35%|████████████████████████████████████▍                                                                    | 123/354 [01:38<02:59,  1.29it/s]"
     ]
    },
    {
     "name": "stderr",
     "output_type": "stream",
     "text": [
      "\r",
      "Running train:  35%|████████████████████████████████████▊                                                                    | 124/354 [01:38<02:59,  1.28it/s]"
     ]
    },
    {
     "name": "stderr",
     "output_type": "stream",
     "text": [
      "\r",
      "Running train:  35%|█████████████████████████████████████                                                                    | 125/354 [01:39<02:59,  1.28it/s]"
     ]
    },
    {
     "name": "stderr",
     "output_type": "stream",
     "text": [
      "\r",
      "Running train:  36%|█████████████████████████████████████▎                                                                   | 126/354 [01:40<03:01,  1.26it/s]"
     ]
    },
    {
     "name": "stderr",
     "output_type": "stream",
     "text": [
      "\r",
      "Running train:  36%|█████████████████████████████████████▋                                                                   | 127/354 [01:41<02:59,  1.27it/s]"
     ]
    },
    {
     "name": "stderr",
     "output_type": "stream",
     "text": [
      "\r",
      "Running train:  36%|█████████████████████████████████████▉                                                                   | 128/354 [01:42<02:55,  1.29it/s]"
     ]
    },
    {
     "name": "stderr",
     "output_type": "stream",
     "text": [
      "\r",
      "Running train:  36%|██████████████████████████████████████▎                                                                  | 129/354 [01:42<02:49,  1.33it/s]"
     ]
    },
    {
     "name": "stderr",
     "output_type": "stream",
     "text": [
      "\r",
      "Running train:  37%|██████████████████████████████████████▌                                                                  | 130/354 [01:43<02:45,  1.36it/s]"
     ]
    },
    {
     "name": "stderr",
     "output_type": "stream",
     "text": [
      "\r",
      "Running train:  37%|██████████████████████████████████████▊                                                                  | 131/354 [01:44<02:42,  1.37it/s]"
     ]
    },
    {
     "name": "stderr",
     "output_type": "stream",
     "text": [
      "\r",
      "Running train:  37%|███████████████████████████████████████▏                                                                 | 132/354 [01:44<02:41,  1.37it/s]"
     ]
    },
    {
     "name": "stderr",
     "output_type": "stream",
     "text": [
      "\r",
      "Running train:  38%|███████████████████████████████████████▍                                                                 | 133/354 [01:45<02:44,  1.34it/s]"
     ]
    },
    {
     "name": "stderr",
     "output_type": "stream",
     "text": [
      "\r",
      "Running train:  38%|███████████████████████████████████████▋                                                                 | 134/354 [01:46<02:46,  1.32it/s]"
     ]
    },
    {
     "name": "stderr",
     "output_type": "stream",
     "text": [
      "\r",
      "Running train:  38%|████████████████████████████████████████                                                                 | 135/354 [01:47<02:48,  1.30it/s]"
     ]
    },
    {
     "name": "stderr",
     "output_type": "stream",
     "text": [
      "\r",
      "Running train:  38%|████████████████████████████████████████▎                                                                | 136/354 [01:48<02:48,  1.29it/s]"
     ]
    },
    {
     "name": "stderr",
     "output_type": "stream",
     "text": [
      "\r",
      "Running train:  39%|████████████████████████████████████████▋                                                                | 137/354 [01:48<02:47,  1.29it/s]"
     ]
    },
    {
     "name": "stderr",
     "output_type": "stream",
     "text": [
      "\r",
      "Running train:  39%|████████████████████████████████████████▉                                                                | 138/354 [01:49<02:46,  1.30it/s]"
     ]
    },
    {
     "name": "stderr",
     "output_type": "stream",
     "text": [
      "\r",
      "Running train:  39%|█████████████████████████████████████████▏                                                               | 139/354 [01:50<02:46,  1.29it/s]"
     ]
    },
    {
     "name": "stderr",
     "output_type": "stream",
     "text": [
      "\r",
      "Running train:  40%|█████████████████████████████████████████▌                                                               | 140/354 [01:51<02:46,  1.28it/s]"
     ]
    },
    {
     "name": "stderr",
     "output_type": "stream",
     "text": [
      "\r",
      "Running train:  40%|█████████████████████████████████████████▊                                                               | 141/354 [01:51<02:46,  1.28it/s]"
     ]
    },
    {
     "name": "stderr",
     "output_type": "stream",
     "text": [
      "\r",
      "Running train:  40%|██████████████████████████████████████████                                                               | 142/354 [01:52<02:47,  1.27it/s]"
     ]
    },
    {
     "name": "stderr",
     "output_type": "stream",
     "text": [
      "\r",
      "Running train:  40%|██████████████████████████████████████████▍                                                              | 143/354 [01:53<02:46,  1.27it/s]"
     ]
    },
    {
     "name": "stderr",
     "output_type": "stream",
     "text": [
      "\r",
      "Running train:  41%|██████████████████████████████████████████▋                                                              | 144/354 [01:54<02:52,  1.22it/s]"
     ]
    },
    {
     "name": "stderr",
     "output_type": "stream",
     "text": [
      "\r",
      "Running train:  41%|███████████████████████████████████████████                                                              | 145/354 [01:55<02:53,  1.21it/s]"
     ]
    },
    {
     "name": "stderr",
     "output_type": "stream",
     "text": [
      "\r",
      "Running train:  41%|███████████████████████████████████████████▎                                                             | 146/354 [01:56<02:49,  1.23it/s]"
     ]
    },
    {
     "name": "stderr",
     "output_type": "stream",
     "text": [
      "\r",
      "Running train:  42%|███████████████████████████████████████████▌                                                             | 147/354 [01:56<02:48,  1.23it/s]"
     ]
    },
    {
     "name": "stderr",
     "output_type": "stream",
     "text": [
      "\r",
      "Running train:  42%|███████████████████████████████████████████▉                                                             | 148/354 [01:57<02:43,  1.26it/s]"
     ]
    },
    {
     "name": "stderr",
     "output_type": "stream",
     "text": [
      "\r",
      "Running train:  42%|████████████████████████████████████████████▏                                                            | 149/354 [01:58<02:41,  1.27it/s]"
     ]
    },
    {
     "name": "stderr",
     "output_type": "stream",
     "text": [
      "\r",
      "Running train:  42%|████████████████████████████████████████████▍                                                            | 150/354 [01:59<02:34,  1.32it/s]"
     ]
    },
    {
     "name": "stderr",
     "output_type": "stream",
     "text": [
      "\r",
      "Running train:  43%|████████████████████████████████████████████▊                                                            | 151/354 [01:59<02:33,  1.32it/s]"
     ]
    },
    {
     "name": "stderr",
     "output_type": "stream",
     "text": [
      "\r",
      "Running train:  43%|█████████████████████████████████████████████                                                            | 152/354 [02:00<02:31,  1.33it/s]"
     ]
    },
    {
     "name": "stderr",
     "output_type": "stream",
     "text": [
      "\r",
      "Running train:  43%|█████████████████████████████████████████████▍                                                           | 153/354 [02:01<02:27,  1.36it/s]"
     ]
    },
    {
     "name": "stderr",
     "output_type": "stream",
     "text": [
      "\r",
      "Running train:  44%|█████████████████████████████████████████████▋                                                           | 154/354 [02:02<02:30,  1.33it/s]"
     ]
    },
    {
     "name": "stderr",
     "output_type": "stream",
     "text": [
      "\r",
      "Running train:  44%|█████████████████████████████████████████████▉                                                           | 155/354 [02:02<02:31,  1.31it/s]"
     ]
    },
    {
     "name": "stderr",
     "output_type": "stream",
     "text": [
      "\r",
      "Running train:  44%|██████████████████████████████████████████████▎                                                          | 156/354 [02:03<02:33,  1.29it/s]"
     ]
    },
    {
     "name": "stderr",
     "output_type": "stream",
     "text": [
      "\r",
      "Running train:  44%|██████████████████████████████████████████████▌                                                          | 157/354 [02:04<02:31,  1.30it/s]"
     ]
    },
    {
     "name": "stderr",
     "output_type": "stream",
     "text": [
      "\r",
      "Running train:  45%|██████████████████████████████████████████████▊                                                          | 158/354 [02:05<02:32,  1.29it/s]"
     ]
    },
    {
     "name": "stderr",
     "output_type": "stream",
     "text": [
      "\r",
      "Running train:  45%|███████████████████████████████████████████████▏                                                         | 159/354 [02:05<02:31,  1.28it/s]"
     ]
    },
    {
     "name": "stderr",
     "output_type": "stream",
     "text": [
      "\r",
      "Running train:  45%|███████████████████████████████████████████████▍                                                         | 160/354 [02:06<02:29,  1.30it/s]"
     ]
    },
    {
     "name": "stderr",
     "output_type": "stream",
     "text": [
      "\r",
      "Running train:  45%|███████████████████████████████████████████████▊                                                         | 161/354 [02:07<02:26,  1.32it/s]"
     ]
    },
    {
     "name": "stderr",
     "output_type": "stream",
     "text": [
      "\r",
      "Running train:  46%|████████████████████████████████████████████████                                                         | 162/354 [02:08<02:23,  1.34it/s]"
     ]
    },
    {
     "name": "stderr",
     "output_type": "stream",
     "text": [
      "\r",
      "Running train:  46%|████████████████████████████████████████████████▎                                                        | 163/354 [02:08<02:27,  1.30it/s]"
     ]
    },
    {
     "name": "stderr",
     "output_type": "stream",
     "text": [
      "\r",
      "Running train:  46%|████████████████████████████████████████████████▋                                                        | 164/354 [02:09<02:27,  1.29it/s]"
     ]
    },
    {
     "name": "stderr",
     "output_type": "stream",
     "text": [
      "\r",
      "Running train:  47%|████████████████████████████████████████████████▉                                                        | 165/354 [02:10<02:27,  1.28it/s]"
     ]
    },
    {
     "name": "stderr",
     "output_type": "stream",
     "text": [
      "\r",
      "Running train:  47%|█████████████████████████████████████████████████▏                                                       | 166/354 [02:11<02:26,  1.29it/s]"
     ]
    },
    {
     "name": "stderr",
     "output_type": "stream",
     "text": [
      "\r",
      "Running train:  47%|█████████████████████████████████████████████████▌                                                       | 167/354 [02:12<02:22,  1.31it/s]"
     ]
    },
    {
     "name": "stderr",
     "output_type": "stream",
     "text": [
      "\r",
      "Running train:  47%|█████████████████████████████████████████████████▊                                                       | 168/354 [02:12<02:20,  1.32it/s]"
     ]
    },
    {
     "name": "stderr",
     "output_type": "stream",
     "text": [
      "\r",
      "Running train:  48%|██████████████████████████████████████████████████▏                                                      | 169/354 [02:13<02:21,  1.31it/s]"
     ]
    },
    {
     "name": "stderr",
     "output_type": "stream",
     "text": [
      "\r",
      "Running train:  48%|██████████████████████████████████████████████████▍                                                      | 170/354 [02:14<02:22,  1.30it/s]"
     ]
    },
    {
     "name": "stderr",
     "output_type": "stream",
     "text": [
      "\r",
      "Running train:  48%|██████████████████████████████████████████████████▋                                                      | 171/354 [02:15<02:19,  1.31it/s]"
     ]
    },
    {
     "name": "stderr",
     "output_type": "stream",
     "text": [
      "\r",
      "Running train:  49%|███████████████████████████████████████████████████                                                      | 172/354 [02:15<02:16,  1.34it/s]"
     ]
    },
    {
     "name": "stderr",
     "output_type": "stream",
     "text": [
      "\r",
      "Running train:  49%|███████████████████████████████████████████████████▎                                                     | 173/354 [02:16<02:14,  1.35it/s]"
     ]
    },
    {
     "name": "stderr",
     "output_type": "stream",
     "text": [
      "\r",
      "Running train:  49%|███████████████████████████████████████████████████▌                                                     | 174/354 [02:17<02:18,  1.30it/s]"
     ]
    },
    {
     "name": "stderr",
     "output_type": "stream",
     "text": [
      "\r",
      "Running train:  49%|███████████████████████████████████████████████████▉                                                     | 175/354 [02:18<02:19,  1.29it/s]"
     ]
    },
    {
     "name": "stderr",
     "output_type": "stream",
     "text": [
      "\r",
      "Running train:  50%|████████████████████████████████████████████████████▏                                                    | 176/354 [02:18<02:17,  1.30it/s]"
     ]
    },
    {
     "name": "stderr",
     "output_type": "stream",
     "text": [
      "\r",
      "Running train:  50%|████████████████████████████████████████████████████▌                                                    | 177/354 [02:19<02:17,  1.29it/s]"
     ]
    },
    {
     "name": "stderr",
     "output_type": "stream",
     "text": [
      "\r",
      "Running train:  50%|████████████████████████████████████████████████████▊                                                    | 178/354 [02:20<02:16,  1.29it/s]"
     ]
    },
    {
     "name": "stderr",
     "output_type": "stream",
     "text": [
      "\r",
      "Running train:  51%|█████████████████████████████████████████████████████                                                    | 179/354 [02:21<02:16,  1.28it/s]"
     ]
    },
    {
     "name": "stderr",
     "output_type": "stream",
     "text": [
      "\r",
      "Running train:  51%|█████████████████████████████████████████████████████▍                                                   | 180/354 [02:22<02:17,  1.26it/s]"
     ]
    },
    {
     "name": "stderr",
     "output_type": "stream",
     "text": [
      "\r",
      "Running train:  51%|█████████████████████████████████████████████████████▋                                                   | 181/354 [02:22<02:17,  1.26it/s]"
     ]
    },
    {
     "name": "stderr",
     "output_type": "stream",
     "text": [
      "\r",
      "Running train:  51%|█████████████████████████████████████████████████████▉                                                   | 182/354 [02:23<02:16,  1.26it/s]"
     ]
    },
    {
     "name": "stderr",
     "output_type": "stream",
     "text": [
      "\r",
      "Running train:  52%|██████████████████████████████████████████████████████▎                                                  | 183/354 [02:24<02:16,  1.26it/s]"
     ]
    },
    {
     "name": "stderr",
     "output_type": "stream",
     "text": [
      "\r",
      "Running train:  52%|██████████████████████████████████████████████████████▌                                                  | 184/354 [02:25<02:15,  1.25it/s]"
     ]
    },
    {
     "name": "stderr",
     "output_type": "stream",
     "text": [
      "\r",
      "Running train:  52%|██████████████████████████████████████████████████████▊                                                  | 185/354 [02:26<02:15,  1.25it/s]"
     ]
    },
    {
     "name": "stderr",
     "output_type": "stream",
     "text": [
      "\r",
      "Running train:  53%|███████████████████████████████████████████████████████▏                                                 | 186/354 [02:26<02:16,  1.23it/s]"
     ]
    },
    {
     "name": "stderr",
     "output_type": "stream",
     "text": [
      "\r",
      "Running train:  53%|███████████████████████████████████████████████████████▍                                                 | 187/354 [02:27<02:15,  1.23it/s]"
     ]
    },
    {
     "name": "stderr",
     "output_type": "stream",
     "text": [
      "\r",
      "Running train:  53%|███████████████████████████████████████████████████████▊                                                 | 188/354 [02:28<02:14,  1.24it/s]"
     ]
    },
    {
     "name": "stderr",
     "output_type": "stream",
     "text": [
      "\r",
      "Running train:  53%|████████████████████████████████████████████████████████                                                 | 189/354 [02:29<02:12,  1.24it/s]"
     ]
    },
    {
     "name": "stderr",
     "output_type": "stream",
     "text": [
      "\r",
      "Running train:  54%|████████████████████████████████████████████████████████▎                                                | 190/354 [02:30<02:12,  1.23it/s]"
     ]
    },
    {
     "name": "stderr",
     "output_type": "stream",
     "text": [
      "\r",
      "Running train:  54%|████████████████████████████████████████████████████████▋                                                | 191/354 [02:30<02:11,  1.24it/s]"
     ]
    },
    {
     "name": "stderr",
     "output_type": "stream",
     "text": [
      "\r",
      "Running train:  54%|████████████████████████████████████████████████████████▉                                                | 192/354 [02:31<02:11,  1.23it/s]"
     ]
    },
    {
     "name": "stderr",
     "output_type": "stream",
     "text": [
      "\r",
      "Running train:  55%|█████████████████████████████████████████████████████████▏                                               | 193/354 [02:32<02:11,  1.22it/s]"
     ]
    },
    {
     "name": "stderr",
     "output_type": "stream",
     "text": [
      "\r",
      "Running train:  55%|█████████████████████████████████████████████████████████▌                                               | 194/354 [02:33<02:11,  1.22it/s]"
     ]
    },
    {
     "name": "stderr",
     "output_type": "stream",
     "text": [
      "\r",
      "Running train:  55%|█████████████████████████████████████████████████████████▊                                               | 195/354 [02:34<02:08,  1.24it/s]"
     ]
    },
    {
     "name": "stderr",
     "output_type": "stream",
     "text": [
      "\r",
      "Running train:  55%|██████████████████████████████████████████████████████████▏                                              | 196/354 [02:35<02:07,  1.24it/s]"
     ]
    },
    {
     "name": "stderr",
     "output_type": "stream",
     "text": [
      "\r",
      "Running train:  56%|██████████████████████████████████████████████████████████▍                                              | 197/354 [02:35<02:07,  1.23it/s]"
     ]
    },
    {
     "name": "stderr",
     "output_type": "stream",
     "text": [
      "\r",
      "Running train:  56%|██████████████████████████████████████████████████████████▋                                              | 198/354 [02:36<02:05,  1.24it/s]"
     ]
    },
    {
     "name": "stderr",
     "output_type": "stream",
     "text": [
      "\r",
      "Running train:  56%|███████████████████████████████████████████████████████████                                              | 199/354 [02:37<02:03,  1.25it/s]"
     ]
    },
    {
     "name": "stderr",
     "output_type": "stream",
     "text": [
      "\r",
      "Running train:  56%|███████████████████████████████████████████████████████████▎                                             | 200/354 [02:38<02:02,  1.26it/s]"
     ]
    },
    {
     "name": "stderr",
     "output_type": "stream",
     "text": [
      "\r",
      "Running train:  57%|███████████████████████████████████████████████████████████▌                                             | 201/354 [02:39<02:01,  1.26it/s]"
     ]
    },
    {
     "name": "stderr",
     "output_type": "stream",
     "text": [
      "\r",
      "Running train:  57%|███████████████████████████████████████████████████████████▉                                             | 202/354 [02:39<02:03,  1.23it/s]"
     ]
    },
    {
     "name": "stderr",
     "output_type": "stream",
     "text": [
      "\r",
      "Running train:  57%|████████████████████████████████████████████████████████████▏                                            | 203/354 [02:40<02:02,  1.24it/s]"
     ]
    },
    {
     "name": "stderr",
     "output_type": "stream",
     "text": [
      "\r",
      "Running train:  58%|████████████████████████████████████████████████████████████▌                                            | 204/354 [02:41<02:00,  1.25it/s]"
     ]
    },
    {
     "name": "stderr",
     "output_type": "stream",
     "text": [
      "\r",
      "Running train:  58%|████████████████████████████████████████████████████████████▊                                            | 205/354 [02:42<02:01,  1.22it/s]"
     ]
    },
    {
     "name": "stderr",
     "output_type": "stream",
     "text": [
      "\r",
      "Running train:  58%|█████████████████████████████████████████████████████████████                                            | 206/354 [02:43<02:00,  1.23it/s]"
     ]
    },
    {
     "name": "stderr",
     "output_type": "stream",
     "text": [
      "\r",
      "Running train:  58%|█████████████████████████████████████████████████████████████▍                                           | 207/354 [02:43<01:58,  1.24it/s]"
     ]
    },
    {
     "name": "stderr",
     "output_type": "stream",
     "text": [
      "\r",
      "Running train:  59%|█████████████████████████████████████████████████████████████▋                                           | 208/354 [02:44<01:57,  1.25it/s]"
     ]
    },
    {
     "name": "stderr",
     "output_type": "stream",
     "text": [
      "\r",
      "Running train:  59%|█████████████████████████████████████████████████████████████▉                                           | 209/354 [02:45<01:56,  1.24it/s]"
     ]
    },
    {
     "name": "stderr",
     "output_type": "stream",
     "text": [
      "\r",
      "Running train:  59%|██████████████████████████████████████████████████████████████▎                                          | 210/354 [02:46<01:54,  1.25it/s]"
     ]
    },
    {
     "name": "stderr",
     "output_type": "stream",
     "text": [
      "\r",
      "Running train:  60%|██████████████████████████████████████████████████████████████▌                                          | 211/354 [02:47<01:54,  1.25it/s]"
     ]
    },
    {
     "name": "stderr",
     "output_type": "stream",
     "text": [
      "\r",
      "Running train:  60%|██████████████████████████████████████████████████████████████▉                                          | 212/354 [02:48<01:58,  1.20it/s]"
     ]
    },
    {
     "name": "stderr",
     "output_type": "stream",
     "text": [
      "\r",
      "Running train:  60%|███████████████████████████████████████████████████████████████▏                                         | 213/354 [02:48<01:57,  1.20it/s]"
     ]
    },
    {
     "name": "stderr",
     "output_type": "stream",
     "text": [
      "\r",
      "Running train:  60%|███████████████████████████████████████████████████████████████▍                                         | 214/354 [02:49<01:55,  1.21it/s]"
     ]
    },
    {
     "name": "stderr",
     "output_type": "stream",
     "text": [
      "\r",
      "Running train:  61%|███████████████████████████████████████████████████████████████▊                                         | 215/354 [02:50<01:54,  1.21it/s]"
     ]
    },
    {
     "name": "stderr",
     "output_type": "stream",
     "text": [
      "\r",
      "Running train:  61%|████████████████████████████████████████████████████████████████                                         | 216/354 [02:51<01:53,  1.21it/s]"
     ]
    },
    {
     "name": "stderr",
     "output_type": "stream",
     "text": [
      "\r",
      "Running train:  61%|████████████████████████████████████████████████████████████████▎                                        | 217/354 [02:52<01:51,  1.22it/s]"
     ]
    },
    {
     "name": "stderr",
     "output_type": "stream",
     "text": [
      "\r",
      "Running train:  62%|████████████████████████████████████████████████████████████████▋                                        | 218/354 [02:52<01:51,  1.22it/s]"
     ]
    },
    {
     "name": "stderr",
     "output_type": "stream",
     "text": [
      "\r",
      "Running train:  62%|████████████████████████████████████████████████████████████████▉                                        | 219/354 [02:53<01:49,  1.24it/s]"
     ]
    },
    {
     "name": "stderr",
     "output_type": "stream",
     "text": [
      "\r",
      "Running train:  62%|█████████████████████████████████████████████████████████████████▎                                       | 220/354 [02:54<01:48,  1.23it/s]"
     ]
    },
    {
     "name": "stderr",
     "output_type": "stream",
     "text": [
      "\r",
      "Running train:  62%|█████████████████████████████████████████████████████████████████▌                                       | 221/354 [02:55<01:46,  1.25it/s]"
     ]
    },
    {
     "name": "stderr",
     "output_type": "stream",
     "text": [
      "\r",
      "Running train:  63%|█████████████████████████████████████████████████████████████████▊                                       | 222/354 [02:56<01:45,  1.25it/s]"
     ]
    },
    {
     "name": "stderr",
     "output_type": "stream",
     "text": [
      "\r",
      "Running train:  63%|██████████████████████████████████████████████████████████████████▏                                      | 223/354 [02:56<01:43,  1.26it/s]"
     ]
    },
    {
     "name": "stderr",
     "output_type": "stream",
     "text": [
      "\r",
      "Running train:  63%|██████████████████████████████████████████████████████████████████▍                                      | 224/354 [02:57<01:43,  1.26it/s]"
     ]
    },
    {
     "name": "stderr",
     "output_type": "stream",
     "text": [
      "\r",
      "Running train:  64%|██████████████████████████████████████████████████████████████████▋                                      | 225/354 [02:58<01:42,  1.26it/s]"
     ]
    },
    {
     "name": "stderr",
     "output_type": "stream",
     "text": [
      "\r",
      "Running train:  64%|███████████████████████████████████████████████████████████████████                                      | 226/354 [02:59<01:42,  1.24it/s]"
     ]
    },
    {
     "name": "stderr",
     "output_type": "stream",
     "text": [
      "\r",
      "Running train:  64%|███████████████████████████████████████████████████████████████████▎                                     | 227/354 [03:00<01:41,  1.25it/s]"
     ]
    },
    {
     "name": "stderr",
     "output_type": "stream",
     "text": [
      "\r",
      "Running train:  64%|███████████████████████████████████████████████████████████████████▋                                     | 228/354 [03:01<01:45,  1.20it/s]"
     ]
    },
    {
     "name": "stderr",
     "output_type": "stream",
     "text": [
      "\r",
      "Running train:  65%|███████████████████████████████████████████████████████████████████▉                                     | 229/354 [03:01<01:43,  1.21it/s]"
     ]
    },
    {
     "name": "stderr",
     "output_type": "stream",
     "text": [
      "\r",
      "Running train:  65%|████████████████████████████████████████████████████████████████████▏                                    | 230/354 [03:02<01:42,  1.21it/s]"
     ]
    },
    {
     "name": "stderr",
     "output_type": "stream",
     "text": [
      "\r",
      "Running train:  65%|████████████████████████████████████████████████████████████████████▌                                    | 231/354 [03:03<01:41,  1.21it/s]"
     ]
    },
    {
     "name": "stderr",
     "output_type": "stream",
     "text": [
      "\r",
      "Running train:  66%|████████████████████████████████████████████████████████████████████▊                                    | 232/354 [03:04<01:40,  1.22it/s]"
     ]
    },
    {
     "name": "stderr",
     "output_type": "stream",
     "text": [
      "\r",
      "Running train:  66%|█████████████████████████████████████████████████████████████████████                                    | 233/354 [03:05<01:38,  1.23it/s]"
     ]
    },
    {
     "name": "stderr",
     "output_type": "stream",
     "text": [
      "\r",
      "Running train:  66%|█████████████████████████████████████████████████████████████████████▍                                   | 234/354 [03:05<01:36,  1.24it/s]"
     ]
    },
    {
     "name": "stderr",
     "output_type": "stream",
     "text": [
      "\r",
      "Running train:  66%|█████████████████████████████████████████████████████████████████████▋                                   | 235/354 [03:06<01:34,  1.26it/s]"
     ]
    },
    {
     "name": "stderr",
     "output_type": "stream",
     "text": [
      "\r",
      "Running train:  67%|██████████████████████████████████████████████████████████████████████                                   | 236/354 [03:07<01:32,  1.27it/s]"
     ]
    },
    {
     "name": "stderr",
     "output_type": "stream",
     "text": [
      "\r",
      "Running train:  67%|██████████████████████████████████████████████████████████████████████▎                                  | 237/354 [03:08<01:31,  1.27it/s]"
     ]
    },
    {
     "name": "stderr",
     "output_type": "stream",
     "text": [
      "\r",
      "Running train:  67%|██████████████████████████████████████████████████████████████████████▌                                  | 238/354 [03:08<01:30,  1.28it/s]"
     ]
    },
    {
     "name": "stderr",
     "output_type": "stream",
     "text": [
      "\r",
      "Running train:  68%|██████████████████████████████████████████████████████████████████████▉                                  | 239/354 [03:09<01:31,  1.25it/s]"
     ]
    },
    {
     "name": "stderr",
     "output_type": "stream",
     "text": [
      "\r",
      "Running train:  68%|███████████████████████████████████████████████████████████████████████▏                                 | 240/354 [03:10<01:30,  1.25it/s]"
     ]
    },
    {
     "name": "stderr",
     "output_type": "stream",
     "text": [
      "\r",
      "Running train:  68%|███████████████████████████████████████████████████████████████████████▍                                 | 241/354 [03:11<01:29,  1.26it/s]"
     ]
    },
    {
     "name": "stderr",
     "output_type": "stream",
     "text": [
      "\r",
      "Running train:  68%|███████████████████████████████████████████████████████████████████████▊                                 | 242/354 [03:12<01:28,  1.26it/s]"
     ]
    },
    {
     "name": "stderr",
     "output_type": "stream",
     "text": [
      "\r",
      "Running train:  69%|████████████████████████████████████████████████████████████████████████                                 | 243/354 [03:12<01:28,  1.25it/s]"
     ]
    },
    {
     "name": "stderr",
     "output_type": "stream",
     "text": [
      "\r",
      "Running train:  69%|████████████████████████████████████████████████████████████████████████▎                                | 244/354 [03:13<01:27,  1.26it/s]"
     ]
    },
    {
     "name": "stderr",
     "output_type": "stream",
     "text": [
      "\r",
      "Running train:  69%|████████████████████████████████████████████████████████████████████████▋                                | 245/354 [03:14<01:27,  1.25it/s]"
     ]
    },
    {
     "name": "stderr",
     "output_type": "stream",
     "text": [
      "\r",
      "Running train:  69%|████████████████████████████████████████████████████████████████████████▉                                | 246/354 [03:15<01:26,  1.25it/s]"
     ]
    },
    {
     "name": "stderr",
     "output_type": "stream",
     "text": [
      "\r",
      "Running train:  70%|█████████████████████████████████████████████████████████████████████████▎                               | 247/354 [03:16<01:25,  1.24it/s]"
     ]
    },
    {
     "name": "stderr",
     "output_type": "stream",
     "text": [
      "\r",
      "Running train:  70%|█████████████████████████████████████████████████████████████████████████▌                               | 248/354 [03:16<01:24,  1.26it/s]"
     ]
    },
    {
     "name": "stderr",
     "output_type": "stream",
     "text": [
      "\r",
      "Running train:  70%|█████████████████████████████████████████████████████████████████████████▊                               | 249/354 [03:17<01:23,  1.25it/s]"
     ]
    },
    {
     "name": "stderr",
     "output_type": "stream",
     "text": [
      "\r",
      "Running train:  71%|██████████████████████████████████████████████████████████████████████████▏                              | 250/354 [03:18<01:25,  1.22it/s]"
     ]
    },
    {
     "name": "stderr",
     "output_type": "stream",
     "text": [
      "\r",
      "Running train:  71%|██████████████████████████████████████████████████████████████████████████▍                              | 251/354 [03:19<01:23,  1.23it/s]"
     ]
    },
    {
     "name": "stderr",
     "output_type": "stream",
     "text": [
      "\r",
      "Running train:  71%|██████████████████████████████████████████████████████████████████████████▋                              | 252/354 [03:20<01:22,  1.24it/s]"
     ]
    },
    {
     "name": "stderr",
     "output_type": "stream",
     "text": [
      "\r",
      "Running train:  71%|███████████████████████████████████████████████████████████████████████████                              | 253/354 [03:21<01:22,  1.23it/s]"
     ]
    },
    {
     "name": "stderr",
     "output_type": "stream",
     "text": [
      "\r",
      "Running train:  72%|███████████████████████████████████████████████████████████████████████████▎                             | 254/354 [03:21<01:21,  1.22it/s]"
     ]
    },
    {
     "name": "stderr",
     "output_type": "stream",
     "text": [
      "\r",
      "Running train:  72%|███████████████████████████████████████████████████████████████████████████▋                             | 255/354 [03:22<01:21,  1.22it/s]"
     ]
    },
    {
     "name": "stderr",
     "output_type": "stream",
     "text": [
      "\r",
      "Running train:  72%|███████████████████████████████████████████████████████████████████████████▉                             | 256/354 [03:23<01:20,  1.22it/s]"
     ]
    },
    {
     "name": "stderr",
     "output_type": "stream",
     "text": [
      "\r",
      "Running train:  73%|████████████████████████████████████████████████████████████████████████████▏                            | 257/354 [03:24<01:18,  1.24it/s]"
     ]
    },
    {
     "name": "stderr",
     "output_type": "stream",
     "text": [
      "\r",
      "Running train:  73%|████████████████████████████████████████████████████████████████████████████▌                            | 258/354 [03:25<01:16,  1.25it/s]"
     ]
    },
    {
     "name": "stderr",
     "output_type": "stream",
     "text": [
      "\r",
      "Running train:  73%|████████████████████████████████████████████████████████████████████████████▊                            | 259/354 [03:25<01:15,  1.26it/s]"
     ]
    },
    {
     "name": "stderr",
     "output_type": "stream",
     "text": [
      "\r",
      "Running train:  73%|█████████████████████████████████████████████████████████████████████████████                            | 260/354 [03:26<01:14,  1.27it/s]"
     ]
    },
    {
     "name": "stderr",
     "output_type": "stream",
     "text": [
      "\r",
      "Running train:  74%|█████████████████████████████████████████████████████████████████████████████▍                           | 261/354 [03:27<01:12,  1.28it/s]"
     ]
    },
    {
     "name": "stderr",
     "output_type": "stream",
     "text": [
      "\r",
      "Running train:  74%|█████████████████████████████████████████████████████████████████████████████▋                           | 262/354 [03:28<01:10,  1.30it/s]"
     ]
    },
    {
     "name": "stderr",
     "output_type": "stream",
     "text": [
      "\r",
      "Running train:  74%|██████████████████████████████████████████████████████████████████████████████                           | 263/354 [03:28<01:09,  1.32it/s]"
     ]
    },
    {
     "name": "stderr",
     "output_type": "stream",
     "text": [
      "\r",
      "Running train:  75%|██████████████████████████████████████████████████████████████████████████████▎                          | 264/354 [03:29<01:07,  1.34it/s]"
     ]
    },
    {
     "name": "stderr",
     "output_type": "stream",
     "text": [
      "\r",
      "Running train:  75%|██████████████████████████████████████████████████████████████████████████████▌                          | 265/354 [03:30<01:07,  1.32it/s]"
     ]
    },
    {
     "name": "stderr",
     "output_type": "stream",
     "text": [
      "\r",
      "Running train:  75%|██████████████████████████████████████████████████████████████████████████████▉                          | 266/354 [03:31<01:06,  1.33it/s]"
     ]
    },
    {
     "name": "stderr",
     "output_type": "stream",
     "text": [
      "\r",
      "Running train:  75%|███████████████████████████████████████████████████████████████████████████████▏                         | 267/354 [03:31<01:05,  1.34it/s]"
     ]
    },
    {
     "name": "stderr",
     "output_type": "stream",
     "text": [
      "\r",
      "Running train:  76%|███████████████████████████████████████████████████████████████████████████████▍                         | 268/354 [03:32<01:05,  1.32it/s]"
     ]
    },
    {
     "name": "stderr",
     "output_type": "stream",
     "text": [
      "\r",
      "Running train:  76%|███████████████████████████████████████████████████████████████████████████████▊                         | 269/354 [03:33<01:04,  1.31it/s]"
     ]
    },
    {
     "name": "stderr",
     "output_type": "stream",
     "text": [
      "\r",
      "Running train:  76%|████████████████████████████████████████████████████████████████████████████████                         | 270/354 [03:34<01:03,  1.33it/s]"
     ]
    },
    {
     "name": "stderr",
     "output_type": "stream",
     "text": [
      "\r",
      "Running train:  77%|████████████████████████████████████████████████████████████████████████████████▍                        | 271/354 [03:34<01:01,  1.34it/s]"
     ]
    },
    {
     "name": "stderr",
     "output_type": "stream",
     "text": [
      "\r",
      "Running train:  77%|████████████████████████████████████████████████████████████████████████████████▋                        | 272/354 [03:35<00:59,  1.37it/s]"
     ]
    },
    {
     "name": "stderr",
     "output_type": "stream",
     "text": [
      "\r",
      "Running train:  77%|████████████████████████████████████████████████████████████████████████████████▉                        | 273/354 [03:36<01:00,  1.35it/s]"
     ]
    },
    {
     "name": "stderr",
     "output_type": "stream",
     "text": [
      "\r",
      "Running train:  77%|█████████████████████████████████████████████████████████████████████████████████▎                       | 274/354 [03:37<01:00,  1.33it/s]"
     ]
    },
    {
     "name": "stderr",
     "output_type": "stream",
     "text": [
      "\r",
      "Running train:  78%|█████████████████████████████████████████████████████████████████████████████████▌                       | 275/354 [03:37<01:01,  1.29it/s]"
     ]
    },
    {
     "name": "stderr",
     "output_type": "stream",
     "text": [
      "\r",
      "Running train:  78%|█████████████████████████████████████████████████████████████████████████████████▊                       | 276/354 [03:38<01:00,  1.28it/s]"
     ]
    },
    {
     "name": "stderr",
     "output_type": "stream",
     "text": [
      "\r",
      "Running train:  78%|██████████████████████████████████████████████████████████████████████████████████▏                      | 277/354 [03:39<01:00,  1.28it/s]"
     ]
    },
    {
     "name": "stderr",
     "output_type": "stream",
     "text": [
      "\r",
      "Running train:  79%|██████████████████████████████████████████████████████████████████████████████████▍                      | 278/354 [03:40<00:59,  1.28it/s]"
     ]
    },
    {
     "name": "stderr",
     "output_type": "stream",
     "text": [
      "\r",
      "Running train:  79%|██████████████████████████████████████████████████████████████████████████████████▊                      | 279/354 [03:41<00:58,  1.27it/s]"
     ]
    },
    {
     "name": "stderr",
     "output_type": "stream",
     "text": [
      "\r",
      "Running train:  79%|███████████████████████████████████████████████████████████████████████████████████                      | 280/354 [03:41<00:57,  1.28it/s]"
     ]
    },
    {
     "name": "stderr",
     "output_type": "stream",
     "text": [
      "\r",
      "Running train:  79%|███████████████████████████████████████████████████████████████████████████████████▎                     | 281/354 [03:42<00:57,  1.28it/s]"
     ]
    },
    {
     "name": "stderr",
     "output_type": "stream",
     "text": [
      "\r",
      "Running train:  80%|███████████████████████████████████████████████████████████████████████████████████▋                     | 282/354 [03:43<00:56,  1.28it/s]"
     ]
    },
    {
     "name": "stderr",
     "output_type": "stream",
     "text": [
      "\r",
      "Running train:  80%|███████████████████████████████████████████████████████████████████████████████████▉                     | 283/354 [03:44<00:55,  1.27it/s]"
     ]
    },
    {
     "name": "stderr",
     "output_type": "stream",
     "text": [
      "\r",
      "Running train:  80%|████████████████████████████████████████████████████████████████████████████████████▏                    | 284/354 [03:44<00:54,  1.28it/s]"
     ]
    },
    {
     "name": "stderr",
     "output_type": "stream",
     "text": [
      "\r",
      "Running train:  81%|████████████████████████████████████████████████████████████████████████████████████▌                    | 285/354 [03:45<00:52,  1.31it/s]"
     ]
    },
    {
     "name": "stderr",
     "output_type": "stream",
     "text": [
      "\r",
      "Running train:  81%|████████████████████████████████████████████████████████████████████████████████████▊                    | 286/354 [03:46<00:52,  1.30it/s]"
     ]
    },
    {
     "name": "stderr",
     "output_type": "stream",
     "text": [
      "\r",
      "Running train:  81%|█████████████████████████████████████████████████████████████████████████████████████▏                   | 287/354 [03:47<00:51,  1.29it/s]"
     ]
    },
    {
     "name": "stderr",
     "output_type": "stream",
     "text": [
      "\r",
      "Running train:  81%|█████████████████████████████████████████████████████████████████████████████████████▍                   | 288/354 [03:48<00:51,  1.28it/s]"
     ]
    },
    {
     "name": "stderr",
     "output_type": "stream",
     "text": [
      "\r",
      "Running train:  82%|█████████████████████████████████████████████████████████████████████████████████████▋                   | 289/354 [03:48<00:51,  1.26it/s]"
     ]
    },
    {
     "name": "stderr",
     "output_type": "stream",
     "text": [
      "\r",
      "Running train:  82%|██████████████████████████████████████████████████████████████████████████████████████                   | 290/354 [03:49<00:50,  1.27it/s]"
     ]
    },
    {
     "name": "stderr",
     "output_type": "stream",
     "text": [
      "\r",
      "Running train:  82%|██████████████████████████████████████████████████████████████████████████████████████▎                  | 291/354 [03:50<00:49,  1.27it/s]"
     ]
    },
    {
     "name": "stderr",
     "output_type": "stream",
     "text": [
      "\r",
      "Running train:  82%|██████████████████████████████████████████████████████████████████████████████████████▌                  | 292/354 [03:51<00:48,  1.27it/s]"
     ]
    },
    {
     "name": "stderr",
     "output_type": "stream",
     "text": [
      "\r",
      "Running train:  83%|██████████████████████████████████████████████████████████████████████████████████████▉                  | 293/354 [03:52<00:47,  1.27it/s]"
     ]
    },
    {
     "name": "stderr",
     "output_type": "stream",
     "text": [
      "\r",
      "Running train:  83%|███████████████████████████████████████████████████████████████████████████████████████▏                 | 294/354 [03:52<00:46,  1.28it/s]"
     ]
    },
    {
     "name": "stderr",
     "output_type": "stream",
     "text": [
      "\r",
      "Running train:  83%|███████████████████████████████████████████████████████████████████████████████████████▌                 | 295/354 [03:53<00:46,  1.27it/s]"
     ]
    },
    {
     "name": "stderr",
     "output_type": "stream",
     "text": [
      "\r",
      "Running train:  84%|███████████████████████████████████████████████████████████████████████████████████████▊                 | 296/354 [03:54<00:44,  1.30it/s]"
     ]
    },
    {
     "name": "stderr",
     "output_type": "stream",
     "text": [
      "\r",
      "Running train:  84%|████████████████████████████████████████████████████████████████████████████████████████                 | 297/354 [03:55<00:42,  1.34it/s]"
     ]
    },
    {
     "name": "stderr",
     "output_type": "stream",
     "text": [
      "\r",
      "Running train:  84%|████████████████████████████████████████████████████████████████████████████████████████▍                | 298/354 [03:55<00:42,  1.33it/s]"
     ]
    },
    {
     "name": "stderr",
     "output_type": "stream",
     "text": [
      "\r",
      "Running train:  84%|████████████████████████████████████████████████████████████████████████████████████████▋                | 299/354 [03:56<00:40,  1.34it/s]"
     ]
    },
    {
     "name": "stderr",
     "output_type": "stream",
     "text": [
      "\r",
      "Running train:  85%|████████████████████████████████████████████████████████████████████████████████████████▉                | 300/354 [03:57<00:40,  1.33it/s]"
     ]
    },
    {
     "name": "stderr",
     "output_type": "stream",
     "text": [
      "\r",
      "Running train:  85%|█████████████████████████████████████████████████████████████████████████████████████████▎               | 301/354 [03:58<00:39,  1.34it/s]"
     ]
    },
    {
     "name": "stderr",
     "output_type": "stream",
     "text": [
      "\r",
      "Running train:  85%|█████████████████████████████████████████████████████████████████████████████████████████▌               | 302/354 [03:58<00:38,  1.36it/s]"
     ]
    },
    {
     "name": "stderr",
     "output_type": "stream",
     "text": [
      "\r",
      "Running train:  86%|█████████████████████████████████████████████████████████████████████████████████████████▊               | 303/354 [03:59<00:36,  1.38it/s]"
     ]
    },
    {
     "name": "stderr",
     "output_type": "stream",
     "text": [
      "\r",
      "Running train:  86%|██████████████████████████████████████████████████████████████████████████████████████████▏              | 304/354 [04:00<00:35,  1.40it/s]"
     ]
    },
    {
     "name": "stderr",
     "output_type": "stream",
     "text": [
      "\r",
      "Running train:  86%|██████████████████████████████████████████████████████████████████████████████████████████▍              | 305/354 [04:00<00:35,  1.38it/s]"
     ]
    },
    {
     "name": "stderr",
     "output_type": "stream",
     "text": [
      "\r",
      "Running train:  86%|██████████████████████████████████████████████████████████████████████████████████████████▊              | 306/354 [04:01<00:34,  1.39it/s]"
     ]
    },
    {
     "name": "stderr",
     "output_type": "stream",
     "text": [
      "\r",
      "Running train:  87%|███████████████████████████████████████████████████████████████████████████████████████████              | 307/354 [04:02<00:33,  1.38it/s]"
     ]
    },
    {
     "name": "stderr",
     "output_type": "stream",
     "text": [
      "\r",
      "Running train:  87%|███████████████████████████████████████████████████████████████████████████████████████████▎             | 308/354 [04:03<00:34,  1.35it/s]"
     ]
    },
    {
     "name": "stderr",
     "output_type": "stream",
     "text": [
      "\r",
      "Running train:  87%|███████████████████████████████████████████████████████████████████████████████████████████▋             | 309/354 [04:03<00:34,  1.32it/s]"
     ]
    },
    {
     "name": "stderr",
     "output_type": "stream",
     "text": [
      "\r",
      "Running train:  88%|███████████████████████████████████████████████████████████████████████████████████████████▉             | 310/354 [04:04<00:32,  1.35it/s]"
     ]
    },
    {
     "name": "stderr",
     "output_type": "stream",
     "text": [
      "\r",
      "Running train:  88%|████████████████████████████████████████████████████████████████████████████████████████████▏            | 311/354 [04:05<00:31,  1.35it/s]"
     ]
    },
    {
     "name": "stderr",
     "output_type": "stream",
     "text": [
      "\r",
      "Running train:  88%|████████████████████████████████████████████████████████████████████████████████████████████▌            | 312/354 [04:06<00:31,  1.35it/s]"
     ]
    },
    {
     "name": "stderr",
     "output_type": "stream",
     "text": [
      "\r",
      "Running train:  88%|████████████████████████████████████████████████████████████████████████████████████████████▊            | 313/354 [04:06<00:30,  1.33it/s]"
     ]
    },
    {
     "name": "stderr",
     "output_type": "stream",
     "text": [
      "\r",
      "Running train:  89%|█████████████████████████████████████████████████████████████████████████████████████████████▏           | 314/354 [04:07<00:29,  1.35it/s]"
     ]
    },
    {
     "name": "stderr",
     "output_type": "stream",
     "text": [
      "\r",
      "Running train:  89%|█████████████████████████████████████████████████████████████████████████████████████████████▍           | 315/354 [04:08<00:29,  1.34it/s]"
     ]
    },
    {
     "name": "stderr",
     "output_type": "stream",
     "text": [
      "\r",
      "Running train:  89%|█████████████████████████████████████████████████████████████████████████████████████████████▋           | 316/354 [04:09<00:28,  1.33it/s]"
     ]
    },
    {
     "name": "stderr",
     "output_type": "stream",
     "text": [
      "\r",
      "Running train:  90%|██████████████████████████████████████████████████████████████████████████████████████████████           | 317/354 [04:09<00:28,  1.32it/s]"
     ]
    },
    {
     "name": "stderr",
     "output_type": "stream",
     "text": [
      "\r",
      "Running train:  90%|██████████████████████████████████████████████████████████████████████████████████████████████▎          | 318/354 [04:10<00:27,  1.29it/s]"
     ]
    },
    {
     "name": "stderr",
     "output_type": "stream",
     "text": [
      "\r",
      "Running train:  90%|██████████████████████████████████████████████████████████████████████████████████████████████▌          | 319/354 [04:11<00:27,  1.29it/s]"
     ]
    },
    {
     "name": "stderr",
     "output_type": "stream",
     "text": [
      "\r",
      "Running train:  90%|██████████████████████████████████████████████████████████████████████████████████████████████▉          | 320/354 [04:12<00:25,  1.32it/s]"
     ]
    },
    {
     "name": "stderr",
     "output_type": "stream",
     "text": [
      "\r",
      "Running train:  91%|███████████████████████████████████████████████████████████████████████████████████████████████▏         | 321/354 [04:12<00:25,  1.30it/s]"
     ]
    },
    {
     "name": "stderr",
     "output_type": "stream",
     "text": [
      "\r",
      "Running train:  91%|███████████████████████████████████████████████████████████████████████████████████████████████▌         | 322/354 [04:13<00:24,  1.30it/s]"
     ]
    },
    {
     "name": "stderr",
     "output_type": "stream",
     "text": [
      "\r",
      "Running train:  91%|███████████████████████████████████████████████████████████████████████████████████████████████▊         | 323/354 [04:14<00:23,  1.30it/s]"
     ]
    },
    {
     "name": "stderr",
     "output_type": "stream",
     "text": [
      "\r",
      "Running train:  92%|████████████████████████████████████████████████████████████████████████████████████████████████         | 324/354 [04:15<00:23,  1.30it/s]"
     ]
    },
    {
     "name": "stderr",
     "output_type": "stream",
     "text": [
      "\r",
      "Running train:  92%|████████████████████████████████████████████████████████████████████████████████████████████████▍        | 325/354 [04:16<00:22,  1.30it/s]"
     ]
    },
    {
     "name": "stderr",
     "output_type": "stream",
     "text": [
      "\r",
      "Running train:  92%|████████████████████████████████████████████████████████████████████████████████████████████████▋        | 326/354 [04:16<00:21,  1.30it/s]"
     ]
    },
    {
     "name": "stderr",
     "output_type": "stream",
     "text": [
      "\r",
      "Running train:  92%|████████████████████████████████████████████████████████████████████████████████████████████████▉        | 327/354 [04:17<00:20,  1.29it/s]"
     ]
    },
    {
     "name": "stderr",
     "output_type": "stream",
     "text": [
      "\r",
      "Running train:  93%|█████████████████████████████████████████████████████████████████████████████████████████████████▎       | 328/354 [04:18<00:20,  1.30it/s]"
     ]
    },
    {
     "name": "stderr",
     "output_type": "stream",
     "text": [
      "\r",
      "Running train:  93%|█████████████████████████████████████████████████████████████████████████████████████████████████▌       | 329/354 [04:19<00:19,  1.27it/s]"
     ]
    },
    {
     "name": "stderr",
     "output_type": "stream",
     "text": [
      "\r",
      "Running train:  93%|█████████████████████████████████████████████████████████████████████████████████████████████████▉       | 330/354 [04:19<00:18,  1.27it/s]"
     ]
    },
    {
     "name": "stderr",
     "output_type": "stream",
     "text": [
      "\r",
      "Running train:  94%|██████████████████████████████████████████████████████████████████████████████████████████████████▏      | 331/354 [04:20<00:18,  1.26it/s]"
     ]
    },
    {
     "name": "stderr",
     "output_type": "stream",
     "text": [
      "\r",
      "Running train:  94%|██████████████████████████████████████████████████████████████████████████████████████████████████▍      | 332/354 [04:21<00:17,  1.27it/s]"
     ]
    },
    {
     "name": "stderr",
     "output_type": "stream",
     "text": [
      "\r",
      "Running train:  94%|██████████████████████████████████████████████████████████████████████████████████████████████████▊      | 333/354 [04:22<00:16,  1.26it/s]"
     ]
    },
    {
     "name": "stderr",
     "output_type": "stream",
     "text": [
      "\r",
      "Running train:  94%|███████████████████████████████████████████████████████████████████████████████████████████████████      | 334/354 [04:23<00:15,  1.27it/s]"
     ]
    },
    {
     "name": "stderr",
     "output_type": "stream",
     "text": [
      "\r",
      "Running train:  95%|███████████████████████████████████████████████████████████████████████████████████████████████████▎     | 335/354 [04:23<00:14,  1.29it/s]"
     ]
    },
    {
     "name": "stderr",
     "output_type": "stream",
     "text": [
      "\r",
      "Running train:  95%|███████████████████████████████████████████████████████████████████████████████████████████████████▋     | 336/354 [04:24<00:13,  1.33it/s]"
     ]
    },
    {
     "name": "stderr",
     "output_type": "stream",
     "text": [
      "\r",
      "Running train:  95%|███████████████████████████████████████████████████████████████████████████████████████████████████▉     | 337/354 [04:25<00:12,  1.33it/s]"
     ]
    },
    {
     "name": "stderr",
     "output_type": "stream",
     "text": [
      "\r",
      "Running train:  95%|████████████████████████████████████████████████████████████████████████████████████████████████████▎    | 338/354 [04:26<00:12,  1.32it/s]"
     ]
    },
    {
     "name": "stderr",
     "output_type": "stream",
     "text": [
      "\r",
      "Running train:  96%|████████████████████████████████████████████████████████████████████████████████████████████████████▌    | 339/354 [04:26<00:11,  1.32it/s]"
     ]
    },
    {
     "name": "stderr",
     "output_type": "stream",
     "text": [
      "\r",
      "Running train:  96%|████████████████████████████████████████████████████████████████████████████████████████████████████▊    | 340/354 [04:27<00:10,  1.35it/s]"
     ]
    },
    {
     "name": "stderr",
     "output_type": "stream",
     "text": [
      "\r",
      "Running train:  96%|█████████████████████████████████████████████████████████████████████████████████████████████████████▏   | 341/354 [04:28<00:09,  1.34it/s]"
     ]
    },
    {
     "name": "stderr",
     "output_type": "stream",
     "text": [
      "\r",
      "Running train:  97%|█████████████████████████████████████████████████████████████████████████████████████████████████████▍   | 342/354 [04:29<00:09,  1.29it/s]"
     ]
    },
    {
     "name": "stderr",
     "output_type": "stream",
     "text": [
      "\r",
      "Running train:  97%|█████████████████████████████████████████████████████████████████████████████████████████████████████▋   | 343/354 [04:29<00:08,  1.32it/s]"
     ]
    },
    {
     "name": "stderr",
     "output_type": "stream",
     "text": [
      "\r",
      "Running train:  97%|██████████████████████████████████████████████████████████████████████████████████████████████████████   | 344/354 [04:30<00:07,  1.31it/s]"
     ]
    },
    {
     "name": "stderr",
     "output_type": "stream",
     "text": [
      "\r",
      "Running train:  97%|██████████████████████████████████████████████████████████████████████████████████████████████████████▎  | 345/354 [04:31<00:07,  1.28it/s]"
     ]
    },
    {
     "name": "stderr",
     "output_type": "stream",
     "text": [
      "\r",
      "Running train:  98%|██████████████████████████████████████████████████████████████████████████████████████████████████████▋  | 346/354 [04:32<00:06,  1.29it/s]"
     ]
    },
    {
     "name": "stderr",
     "output_type": "stream",
     "text": [
      "\r",
      "Running train:  98%|██████████████████████████████████████████████████████████████████████████████████████████████████████▉  | 347/354 [04:33<00:05,  1.27it/s]"
     ]
    },
    {
     "name": "stderr",
     "output_type": "stream",
     "text": [
      "\r",
      "Running train:  98%|███████████████████████████████████████████████████████████████████████████████████████████████████████▏ | 348/354 [04:33<00:04,  1.27it/s]"
     ]
    },
    {
     "name": "stderr",
     "output_type": "stream",
     "text": [
      "\r",
      "Running train:  99%|███████████████████████████████████████████████████████████████████████████████████████████████████████▌ | 349/354 [04:34<00:03,  1.27it/s]"
     ]
    },
    {
     "name": "stderr",
     "output_type": "stream",
     "text": [
      "\r",
      "Running train:  99%|███████████████████████████████████████████████████████████████████████████████████████████████████████▊ | 350/354 [04:35<00:03,  1.26it/s]"
     ]
    },
    {
     "name": "stderr",
     "output_type": "stream",
     "text": [
      "\r",
      "Running train:  99%|████████████████████████████████████████████████████████████████████████████████████████████████████████ | 351/354 [04:36<00:02,  1.25it/s]"
     ]
    },
    {
     "name": "stderr",
     "output_type": "stream",
     "text": [
      "\r",
      "Running train:  99%|████████████████████████████████████████████████████████████████████████████████████████████████████████▍| 352/354 [04:36<00:01,  1.29it/s]"
     ]
    },
    {
     "name": "stderr",
     "output_type": "stream",
     "text": [
      "\r",
      "Running train: 100%|████████████████████████████████████████████████████████████████████████████████████████████████████████▋| 353/354 [04:37<00:00,  1.33it/s]"
     ]
    },
    {
     "name": "stderr",
     "output_type": "stream",
     "text": [
      "\r",
      "Running train: 100%|█████████████████████████████████████████████████████████████████████████████████████████████████████████| 354/354 [04:38<00:00,  1.52it/s]"
     ]
    },
    {
     "name": "stderr",
     "output_type": "stream",
     "text": [
      "\r",
      "Running train: 100%|█████████████████████████████████████████████████████████████████████████████████████████████████████████| 354/354 [04:38<00:00,  1.27it/s]"
     ]
    },
    {
     "name": "stderr",
     "output_type": "stream",
     "text": [
      "\n"
     ]
    },
    {
     "name": "stdout",
     "output_type": "stream",
     "text": [
      "train Loss: 1.7212 Acc: 0.3961\n",
      "train Epoch Entropy: 0.7214\n",
      "\n"
     ]
    },
    {
     "name": "stderr",
     "output_type": "stream",
     "text": [
      "\r",
      "Running val:   0%|                                                                              | 0/89 [00:00<?, ?it/s]"
     ]
    },
    {
     "name": "stderr",
     "output_type": "stream",
     "text": [
      "\r",
      "Running val:   1%|▊                                                                     | 1/89 [00:00<00:37,  2.32it/s]"
     ]
    },
    {
     "name": "stderr",
     "output_type": "stream",
     "text": [
      "\r",
      "Running val:   2%|█▌                                                                    | 2/89 [00:00<00:33,  2.61it/s]"
     ]
    },
    {
     "name": "stderr",
     "output_type": "stream",
     "text": [
      "\r",
      "Running val:   3%|██▎                                                                   | 3/89 [00:01<00:35,  2.42it/s]"
     ]
    },
    {
     "name": "stderr",
     "output_type": "stream",
     "text": [
      "\r",
      "Running val:   4%|███▏                                                                  | 4/89 [00:01<00:33,  2.56it/s]"
     ]
    },
    {
     "name": "stderr",
     "output_type": "stream",
     "text": [
      "\r",
      "Running val:   6%|███▉                                                                  | 5/89 [00:01<00:33,  2.51it/s]"
     ]
    },
    {
     "name": "stderr",
     "output_type": "stream",
     "text": [
      "\r",
      "Running val:   7%|████▋                                                                 | 6/89 [00:02<00:32,  2.58it/s]"
     ]
    },
    {
     "name": "stderr",
     "output_type": "stream",
     "text": [
      "\r",
      "Running val:   8%|█████▌                                                                | 7/89 [00:02<00:32,  2.49it/s]"
     ]
    },
    {
     "name": "stderr",
     "output_type": "stream",
     "text": [
      "\r",
      "Running val:   9%|██████▎                                                               | 8/89 [00:03<00:31,  2.61it/s]"
     ]
    },
    {
     "name": "stderr",
     "output_type": "stream",
     "text": [
      "\r",
      "Running val:  10%|███████                                                               | 9/89 [00:03<00:32,  2.43it/s]"
     ]
    },
    {
     "name": "stderr",
     "output_type": "stream",
     "text": [
      "\r",
      "Running val:  11%|███████▊                                                             | 10/89 [00:03<00:30,  2.55it/s]"
     ]
    },
    {
     "name": "stderr",
     "output_type": "stream",
     "text": [
      "\r",
      "Running val:  12%|████████▌                                                            | 11/89 [00:04<00:31,  2.47it/s]"
     ]
    },
    {
     "name": "stderr",
     "output_type": "stream",
     "text": [
      "\r",
      "Running val:  13%|█████████▎                                                           | 12/89 [00:04<00:31,  2.42it/s]"
     ]
    },
    {
     "name": "stderr",
     "output_type": "stream",
     "text": [
      "\r",
      "Running val:  15%|██████████                                                           | 13/89 [00:05<00:32,  2.36it/s]"
     ]
    },
    {
     "name": "stderr",
     "output_type": "stream",
     "text": [
      "\r",
      "Running val:  16%|██████████▊                                                          | 14/89 [00:05<00:31,  2.36it/s]"
     ]
    },
    {
     "name": "stderr",
     "output_type": "stream",
     "text": [
      "\r",
      "Running val:  17%|███████████▋                                                         | 15/89 [00:06<00:30,  2.42it/s]"
     ]
    },
    {
     "name": "stderr",
     "output_type": "stream",
     "text": [
      "\r",
      "Running val:  18%|████████████▍                                                        | 16/89 [00:06<00:29,  2.50it/s]"
     ]
    },
    {
     "name": "stderr",
     "output_type": "stream",
     "text": [
      "\r",
      "Running val:  19%|█████████████▏                                                       | 17/89 [00:06<00:29,  2.41it/s]"
     ]
    },
    {
     "name": "stderr",
     "output_type": "stream",
     "text": [
      "\r",
      "Running val:  20%|█████████████▉                                                       | 18/89 [00:07<00:28,  2.49it/s]"
     ]
    },
    {
     "name": "stderr",
     "output_type": "stream",
     "text": [
      "\r",
      "Running val:  21%|██████████████▋                                                      | 19/89 [00:07<00:28,  2.45it/s]"
     ]
    },
    {
     "name": "stderr",
     "output_type": "stream",
     "text": [
      "\r",
      "Running val:  22%|███████████████▌                                                     | 20/89 [00:08<00:27,  2.47it/s]"
     ]
    },
    {
     "name": "stderr",
     "output_type": "stream",
     "text": [
      "\r",
      "Running val:  24%|████████████████▎                                                    | 21/89 [00:08<00:27,  2.45it/s]"
     ]
    },
    {
     "name": "stderr",
     "output_type": "stream",
     "text": [
      "\r",
      "Running val:  25%|█████████████████                                                    | 22/89 [00:08<00:27,  2.44it/s]"
     ]
    },
    {
     "name": "stderr",
     "output_type": "stream",
     "text": [
      "\r",
      "Running val:  26%|█████████████████▊                                                   | 23/89 [00:09<00:27,  2.42it/s]"
     ]
    },
    {
     "name": "stderr",
     "output_type": "stream",
     "text": [
      "\r",
      "Running val:  27%|██████████████████▌                                                  | 24/89 [00:09<00:26,  2.45it/s]"
     ]
    },
    {
     "name": "stderr",
     "output_type": "stream",
     "text": [
      "\r",
      "Running val:  28%|███████████████████▍                                                 | 25/89 [00:10<00:26,  2.45it/s]"
     ]
    },
    {
     "name": "stderr",
     "output_type": "stream",
     "text": [
      "\r",
      "Running val:  29%|████████████████████▏                                                | 26/89 [00:10<00:25,  2.45it/s]"
     ]
    },
    {
     "name": "stderr",
     "output_type": "stream",
     "text": [
      "\r",
      "Running val:  30%|████████████████████▉                                                | 27/89 [00:10<00:25,  2.44it/s]"
     ]
    },
    {
     "name": "stderr",
     "output_type": "stream",
     "text": [
      "\r",
      "Running val:  31%|█████████████████████▋                                               | 28/89 [00:11<00:26,  2.28it/s]"
     ]
    },
    {
     "name": "stderr",
     "output_type": "stream",
     "text": [
      "\r",
      "Running val:  33%|██████████████████████▍                                              | 29/89 [00:11<00:25,  2.34it/s]"
     ]
    },
    {
     "name": "stderr",
     "output_type": "stream",
     "text": [
      "\r",
      "Running val:  34%|███████████████████████▎                                             | 30/89 [00:12<00:25,  2.29it/s]"
     ]
    },
    {
     "name": "stderr",
     "output_type": "stream",
     "text": [
      "\r",
      "Running val:  35%|████████████████████████                                             | 31/89 [00:12<00:24,  2.34it/s]"
     ]
    },
    {
     "name": "stderr",
     "output_type": "stream",
     "text": [
      "\r",
      "Running val:  36%|████████████████████████▊                                            | 32/89 [00:13<00:24,  2.30it/s]"
     ]
    },
    {
     "name": "stderr",
     "output_type": "stream",
     "text": [
      "\r",
      "Running val:  37%|█████████████████████████▌                                           | 33/89 [00:13<00:22,  2.45it/s]"
     ]
    },
    {
     "name": "stderr",
     "output_type": "stream",
     "text": [
      "\r",
      "Running val:  38%|██████████████████████████▎                                          | 34/89 [00:13<00:23,  2.37it/s]"
     ]
    },
    {
     "name": "stderr",
     "output_type": "stream",
     "text": [
      "\r",
      "Running val:  39%|███████████████████████████▏                                         | 35/89 [00:14<00:21,  2.51it/s]"
     ]
    },
    {
     "name": "stderr",
     "output_type": "stream",
     "text": [
      "\r",
      "Running val:  40%|███████████████████████████▉                                         | 36/89 [00:14<00:21,  2.44it/s]"
     ]
    },
    {
     "name": "stderr",
     "output_type": "stream",
     "text": [
      "\r",
      "Running val:  42%|████████████████████████████▋                                        | 37/89 [00:15<00:20,  2.52it/s]"
     ]
    },
    {
     "name": "stderr",
     "output_type": "stream",
     "text": [
      "\r",
      "Running val:  43%|█████████████████████████████▍                                       | 38/89 [00:15<00:21,  2.43it/s]"
     ]
    },
    {
     "name": "stderr",
     "output_type": "stream",
     "text": [
      "\r",
      "Running val:  44%|██████████████████████████████▏                                      | 39/89 [00:15<00:20,  2.46it/s]"
     ]
    },
    {
     "name": "stderr",
     "output_type": "stream",
     "text": [
      "\r",
      "Running val:  45%|███████████████████████████████                                      | 40/89 [00:16<00:20,  2.36it/s]"
     ]
    },
    {
     "name": "stderr",
     "output_type": "stream",
     "text": [
      "\r",
      "Running val:  46%|███████████████████████████████▊                                     | 41/89 [00:16<00:19,  2.42it/s]"
     ]
    },
    {
     "name": "stderr",
     "output_type": "stream",
     "text": [
      "\r",
      "Running val:  47%|████████████████████████████████▌                                    | 42/89 [00:17<00:19,  2.39it/s]"
     ]
    },
    {
     "name": "stderr",
     "output_type": "stream",
     "text": [
      "\r",
      "Running val:  48%|█████████████████████████████████▎                                   | 43/89 [00:17<00:19,  2.39it/s]"
     ]
    },
    {
     "name": "stderr",
     "output_type": "stream",
     "text": [
      "\r",
      "Running val:  49%|██████████████████████████████████                                   | 44/89 [00:18<00:18,  2.37it/s]"
     ]
    },
    {
     "name": "stderr",
     "output_type": "stream",
     "text": [
      "\r",
      "Running val:  51%|██████████████████████████████████▉                                  | 45/89 [00:18<00:17,  2.47it/s]"
     ]
    },
    {
     "name": "stderr",
     "output_type": "stream",
     "text": [
      "\r",
      "Running val:  52%|███████████████████████████████████▋                                 | 46/89 [00:18<00:17,  2.43it/s]"
     ]
    },
    {
     "name": "stderr",
     "output_type": "stream",
     "text": [
      "\r",
      "Running val:  53%|████████████████████████████████████▍                                | 47/89 [00:19<00:16,  2.55it/s]"
     ]
    },
    {
     "name": "stderr",
     "output_type": "stream",
     "text": [
      "\r",
      "Running val:  54%|█████████████████████████████████████▏                               | 48/89 [00:19<00:16,  2.49it/s]"
     ]
    },
    {
     "name": "stderr",
     "output_type": "stream",
     "text": [
      "\r",
      "Running val:  55%|█████████████████████████████████████▉                               | 49/89 [00:20<00:15,  2.60it/s]"
     ]
    },
    {
     "name": "stderr",
     "output_type": "stream",
     "text": [
      "\r",
      "Running val:  56%|██████████████████████████████████████▊                              | 50/89 [00:20<00:15,  2.52it/s]"
     ]
    },
    {
     "name": "stderr",
     "output_type": "stream",
     "text": [
      "\r",
      "Running val:  57%|███████████████████████████████████████▌                             | 51/89 [00:20<00:14,  2.62it/s]"
     ]
    },
    {
     "name": "stderr",
     "output_type": "stream",
     "text": [
      "\r",
      "Running val:  58%|████████████████████████████████████████▎                            | 52/89 [00:21<00:14,  2.53it/s]"
     ]
    },
    {
     "name": "stderr",
     "output_type": "stream",
     "text": [
      "\r",
      "Running val:  60%|█████████████████████████████████████████                            | 53/89 [00:21<00:14,  2.54it/s]"
     ]
    },
    {
     "name": "stderr",
     "output_type": "stream",
     "text": [
      "\r",
      "Running val:  61%|█████████████████████████████████████████▊                           | 54/89 [00:22<00:14,  2.41it/s]"
     ]
    },
    {
     "name": "stderr",
     "output_type": "stream",
     "text": [
      "\r",
      "Running val:  62%|██████████████████████████████████████████▋                          | 55/89 [00:22<00:13,  2.52it/s]"
     ]
    },
    {
     "name": "stderr",
     "output_type": "stream",
     "text": [
      "\r",
      "Running val:  63%|███████████████████████████████████████████▍                         | 56/89 [00:22<00:13,  2.45it/s]"
     ]
    },
    {
     "name": "stderr",
     "output_type": "stream",
     "text": [
      "\r",
      "Running val:  64%|████████████████████████████████████████████▏                        | 57/89 [00:23<00:12,  2.57it/s]"
     ]
    },
    {
     "name": "stderr",
     "output_type": "stream",
     "text": [
      "\r",
      "Running val:  65%|████████████████████████████████████████████▉                        | 58/89 [00:23<00:12,  2.50it/s]"
     ]
    },
    {
     "name": "stderr",
     "output_type": "stream",
     "text": [
      "\r",
      "Running val:  66%|█████████████████████████████████████████████▋                       | 59/89 [00:23<00:11,  2.59it/s]"
     ]
    },
    {
     "name": "stderr",
     "output_type": "stream",
     "text": [
      "\r",
      "Running val:  67%|██████████████████████████████████████████████▌                      | 60/89 [00:24<00:11,  2.50it/s]"
     ]
    },
    {
     "name": "stderr",
     "output_type": "stream",
     "text": [
      "\r",
      "Running val:  69%|███████████████████████████████████████████████▎                     | 61/89 [00:24<00:11,  2.51it/s]"
     ]
    },
    {
     "name": "stderr",
     "output_type": "stream",
     "text": [
      "\r",
      "Running val:  70%|████████████████████████████████████████████████                     | 62/89 [00:25<00:11,  2.45it/s]"
     ]
    },
    {
     "name": "stderr",
     "output_type": "stream",
     "text": [
      "\r",
      "Running val:  71%|████████████████████████████████████████████████▊                    | 63/89 [00:25<00:10,  2.46it/s]"
     ]
    },
    {
     "name": "stderr",
     "output_type": "stream",
     "text": [
      "\r",
      "Running val:  72%|█████████████████████████████████████████████████▌                   | 64/89 [00:26<00:10,  2.41it/s]"
     ]
    },
    {
     "name": "stderr",
     "output_type": "stream",
     "text": [
      "\r",
      "Running val:  73%|██████████████████████████████████████████████████▍                  | 65/89 [00:26<00:09,  2.44it/s]"
     ]
    },
    {
     "name": "stderr",
     "output_type": "stream",
     "text": [
      "\r",
      "Running val:  74%|███████████████████████████████████████████████████▏                 | 66/89 [00:26<00:09,  2.32it/s]"
     ]
    },
    {
     "name": "stderr",
     "output_type": "stream",
     "text": [
      "\r",
      "Running val:  75%|███████████████████████████████████████████████████▉                 | 67/89 [00:27<00:09,  2.38it/s]"
     ]
    },
    {
     "name": "stderr",
     "output_type": "stream",
     "text": [
      "\r",
      "Running val:  76%|████████████████████████████████████████████████████▋                | 68/89 [00:27<00:08,  2.37it/s]"
     ]
    },
    {
     "name": "stderr",
     "output_type": "stream",
     "text": [
      "\r",
      "Running val:  78%|█████████████████████████████████████████████████████▍               | 69/89 [00:28<00:08,  2.44it/s]"
     ]
    },
    {
     "name": "stderr",
     "output_type": "stream",
     "text": [
      "\r",
      "Running val:  79%|██████████████████████████████████████████████████████▎              | 70/89 [00:28<00:07,  2.45it/s]"
     ]
    },
    {
     "name": "stderr",
     "output_type": "stream",
     "text": [
      "\r",
      "Running val:  80%|███████████████████████████████████████████████████████              | 71/89 [00:28<00:07,  2.43it/s]"
     ]
    },
    {
     "name": "stderr",
     "output_type": "stream",
     "text": [
      "\r",
      "Running val:  81%|███████████████████████████████████████████████████████▊             | 72/89 [00:29<00:07,  2.34it/s]"
     ]
    },
    {
     "name": "stderr",
     "output_type": "stream",
     "text": [
      "\r",
      "Running val:  82%|████████████████████████████████████████████████████████▌            | 73/89 [00:29<00:07,  2.29it/s]"
     ]
    },
    {
     "name": "stderr",
     "output_type": "stream",
     "text": [
      "\r",
      "Running val:  83%|█████████████████████████████████████████████████████████▎           | 74/89 [00:30<00:06,  2.19it/s]"
     ]
    },
    {
     "name": "stderr",
     "output_type": "stream",
     "text": [
      "\r",
      "Running val:  84%|██████████████████████████████████████████████████████████▏          | 75/89 [00:30<00:06,  2.22it/s]"
     ]
    },
    {
     "name": "stderr",
     "output_type": "stream",
     "text": [
      "\r",
      "Running val:  85%|██████████████████████████████████████████████████████████▉          | 76/89 [00:31<00:06,  2.16it/s]"
     ]
    },
    {
     "name": "stderr",
     "output_type": "stream",
     "text": [
      "\r",
      "Running val:  87%|███████████████████████████████████████████████████████████▋         | 77/89 [00:31<00:05,  2.23it/s]"
     ]
    },
    {
     "name": "stderr",
     "output_type": "stream",
     "text": [
      "\r",
      "Running val:  88%|████████████████████████████████████████████████████████████▍        | 78/89 [00:32<00:04,  2.27it/s]"
     ]
    },
    {
     "name": "stderr",
     "output_type": "stream",
     "text": [
      "\r",
      "Running val:  89%|█████████████████████████████████████████████████████████████▏       | 79/89 [00:32<00:04,  2.39it/s]"
     ]
    },
    {
     "name": "stderr",
     "output_type": "stream",
     "text": [
      "\r",
      "Running val:  90%|██████████████████████████████████████████████████████████████       | 80/89 [00:32<00:03,  2.39it/s]"
     ]
    },
    {
     "name": "stderr",
     "output_type": "stream",
     "text": [
      "\r",
      "Running val:  91%|██████████████████████████████████████████████████████████████▊      | 81/89 [00:33<00:03,  2.40it/s]"
     ]
    },
    {
     "name": "stderr",
     "output_type": "stream",
     "text": [
      "\r",
      "Running val:  92%|███████████████████████████████████████████████████████████████▌     | 82/89 [00:33<00:02,  2.39it/s]"
     ]
    },
    {
     "name": "stderr",
     "output_type": "stream",
     "text": [
      "\r",
      "Running val:  93%|████████████████████████████████████████████████████████████████▎    | 83/89 [00:34<00:02,  2.42it/s]"
     ]
    },
    {
     "name": "stderr",
     "output_type": "stream",
     "text": [
      "\r",
      "Running val:  94%|█████████████████████████████████████████████████████████████████    | 84/89 [00:34<00:02,  2.42it/s]"
     ]
    },
    {
     "name": "stderr",
     "output_type": "stream",
     "text": [
      "\r",
      "Running val:  96%|█████████████████████████████████████████████████████████████████▉   | 85/89 [00:35<00:01,  2.45it/s]"
     ]
    },
    {
     "name": "stderr",
     "output_type": "stream",
     "text": [
      "\r",
      "Running val:  97%|██████████████████████████████████████████████████████████████████▋  | 86/89 [00:35<00:01,  2.45it/s]"
     ]
    },
    {
     "name": "stderr",
     "output_type": "stream",
     "text": [
      "\r",
      "Running val:  98%|███████████████████████████████████████████████████████████████████▍ | 87/89 [00:35<00:00,  2.45it/s]"
     ]
    },
    {
     "name": "stderr",
     "output_type": "stream",
     "text": [
      "\r",
      "Running val:  99%|████████████████████████████████████████████████████████████████████▏| 88/89 [00:36<00:00,  2.46it/s]"
     ]
    },
    {
     "name": "stderr",
     "output_type": "stream",
     "text": [
      "\r",
      "Running val: 100%|█████████████████████████████████████████████████████████████████████| 89/89 [00:36<00:00,  3.04it/s]"
     ]
    },
    {
     "name": "stderr",
     "output_type": "stream",
     "text": [
      "\r",
      "Running val: 100%|█████████████████████████████████████████████████████████████████████| 89/89 [00:36<00:00,  2.45it/s]"
     ]
    },
    {
     "name": "stderr",
     "output_type": "stream",
     "text": [
      "\n"
     ]
    },
    {
     "name": "stdout",
     "output_type": "stream",
     "text": [
      "val Loss: 1.6984 Acc: 0.4055\n",
      "val Epoch Entropy: 0.6936\n",
      "\n",
      "Epoch 3/499\n",
      "----------\n"
     ]
    },
    {
     "name": "stderr",
     "output_type": "stream",
     "text": [
      "\r",
      "Running train:   0%|                                                                           | 0/354 [00:00<?, ?it/s]"
     ]
    },
    {
     "name": "stderr",
     "output_type": "stream",
     "text": [
      "\r",
      "Running train:   0%|▏                                                                  | 1/354 [00:00<04:45,  1.24it/s]"
     ]
    },
    {
     "name": "stderr",
     "output_type": "stream",
     "text": [
      "\r",
      "Running train:   1%|▍                                                                  | 2/354 [00:01<04:43,  1.24it/s]"
     ]
    },
    {
     "name": "stderr",
     "output_type": "stream",
     "text": [
      "\r",
      "Running train:   1%|▌                                                                  | 3/354 [00:02<04:47,  1.22it/s]"
     ]
    },
    {
     "name": "stderr",
     "output_type": "stream",
     "text": [
      "\r",
      "Running train:   1%|▊                                                                  | 4/354 [00:03<04:42,  1.24it/s]"
     ]
    },
    {
     "name": "stderr",
     "output_type": "stream",
     "text": [
      "\r",
      "Running train:   1%|▉                                                                  | 5/354 [00:04<04:44,  1.23it/s]"
     ]
    },
    {
     "name": "stderr",
     "output_type": "stream",
     "text": [
      "\r",
      "Running train:   2%|█▏                                                                 | 6/354 [00:04<04:44,  1.22it/s]"
     ]
    },
    {
     "name": "stderr",
     "output_type": "stream",
     "text": [
      "\r",
      "Running train:   2%|█▎                                                                 | 7/354 [00:05<04:43,  1.23it/s]"
     ]
    },
    {
     "name": "stderr",
     "output_type": "stream",
     "text": [
      "\r",
      "Running train:   2%|█▌                                                                 | 8/354 [00:06<04:38,  1.24it/s]"
     ]
    },
    {
     "name": "stderr",
     "output_type": "stream",
     "text": [
      "\r",
      "Running train:   3%|█▋                                                                 | 9/354 [00:07<04:36,  1.25it/s]"
     ]
    },
    {
     "name": "stderr",
     "output_type": "stream",
     "text": [
      "\r",
      "Running train:   3%|█▊                                                                | 10/354 [00:08<04:31,  1.27it/s]"
     ]
    },
    {
     "name": "stderr",
     "output_type": "stream",
     "text": [
      "\r",
      "Running train:   3%|██                                                                | 11/354 [00:08<04:28,  1.28it/s]"
     ]
    },
    {
     "name": "stderr",
     "output_type": "stream",
     "text": [
      "\r",
      "Running train:   3%|██▏                                                               | 12/354 [00:09<04:28,  1.27it/s]"
     ]
    },
    {
     "name": "stderr",
     "output_type": "stream",
     "text": [
      "\r",
      "Running train:   4%|██▍                                                               | 13/354 [00:10<04:27,  1.28it/s]"
     ]
    },
    {
     "name": "stderr",
     "output_type": "stream",
     "text": [
      "\r",
      "Running train:   4%|██▌                                                               | 14/354 [00:11<04:29,  1.26it/s]"
     ]
    },
    {
     "name": "stderr",
     "output_type": "stream",
     "text": [
      "\r",
      "Running train:   4%|██▊                                                               | 15/354 [00:11<04:24,  1.28it/s]"
     ]
    },
    {
     "name": "stderr",
     "output_type": "stream",
     "text": [
      "\r",
      "Running train:   5%|██▉                                                               | 16/354 [00:12<04:24,  1.28it/s]"
     ]
    },
    {
     "name": "stderr",
     "output_type": "stream",
     "text": [
      "\r",
      "Running train:   5%|███▏                                                              | 17/354 [00:13<04:20,  1.29it/s]"
     ]
    },
    {
     "name": "stderr",
     "output_type": "stream",
     "text": [
      "\r",
      "Running train:   5%|███▎                                                              | 18/354 [00:14<04:22,  1.28it/s]"
     ]
    },
    {
     "name": "stderr",
     "output_type": "stream",
     "text": [
      "\r",
      "Running train:   5%|███▌                                                              | 19/354 [00:15<04:23,  1.27it/s]"
     ]
    },
    {
     "name": "stderr",
     "output_type": "stream",
     "text": [
      "\r",
      "Running train:   6%|███▋                                                              | 20/354 [00:15<04:23,  1.27it/s]"
     ]
    },
    {
     "name": "stderr",
     "output_type": "stream",
     "text": [
      "\r",
      "Running train:   6%|███▉                                                              | 21/354 [00:16<04:26,  1.25it/s]"
     ]
    },
    {
     "name": "stderr",
     "output_type": "stream",
     "text": [
      "\r",
      "Running train:   6%|████                                                              | 22/354 [00:17<04:25,  1.25it/s]"
     ]
    },
    {
     "name": "stderr",
     "output_type": "stream",
     "text": [
      "\r",
      "Running train:   6%|████▎                                                             | 23/354 [00:18<04:24,  1.25it/s]"
     ]
    },
    {
     "name": "stderr",
     "output_type": "stream",
     "text": [
      "\r",
      "Running train:   7%|████▍                                                             | 24/354 [00:19<04:21,  1.26it/s]"
     ]
    },
    {
     "name": "stderr",
     "output_type": "stream",
     "text": [
      "\r",
      "Running train:   7%|████▋                                                             | 25/354 [00:19<04:14,  1.29it/s]"
     ]
    },
    {
     "name": "stderr",
     "output_type": "stream",
     "text": [
      "\r",
      "Running train:   7%|████▊                                                             | 26/354 [00:20<04:08,  1.32it/s]"
     ]
    },
    {
     "name": "stderr",
     "output_type": "stream",
     "text": [
      "\r",
      "Running train:   8%|█████                                                             | 27/354 [00:21<04:04,  1.34it/s]"
     ]
    },
    {
     "name": "stderr",
     "output_type": "stream",
     "text": [
      "\r",
      "Running train:   8%|█████▏                                                            | 28/354 [00:21<04:01,  1.35it/s]"
     ]
    },
    {
     "name": "stderr",
     "output_type": "stream",
     "text": [
      "\r",
      "Running train:   8%|█████▍                                                            | 29/354 [00:22<04:06,  1.32it/s]"
     ]
    },
    {
     "name": "stderr",
     "output_type": "stream",
     "text": [
      "\r",
      "Running train:   8%|█████▌                                                            | 30/354 [00:23<04:02,  1.33it/s]"
     ]
    },
    {
     "name": "stderr",
     "output_type": "stream",
     "text": [
      "\r",
      "Running train:   9%|█████▊                                                            | 31/354 [00:24<04:06,  1.31it/s]"
     ]
    },
    {
     "name": "stderr",
     "output_type": "stream",
     "text": [
      "\r",
      "Running train:   9%|█████▉                                                            | 32/354 [00:25<04:01,  1.33it/s]"
     ]
    },
    {
     "name": "stderr",
     "output_type": "stream",
     "text": [
      "\r",
      "Running train:   9%|██████▏                                                           | 33/354 [00:25<03:58,  1.35it/s]"
     ]
    },
    {
     "name": "stderr",
     "output_type": "stream",
     "text": [
      "\r",
      "Running train:  10%|██████▎                                                           | 34/354 [00:26<03:55,  1.36it/s]"
     ]
    },
    {
     "name": "stderr",
     "output_type": "stream",
     "text": [
      "\r",
      "Running train:  10%|██████▌                                                           | 35/354 [00:27<03:59,  1.33it/s]"
     ]
    },
    {
     "name": "stderr",
     "output_type": "stream",
     "text": [
      "\r",
      "Running train:  10%|██████▋                                                           | 36/354 [00:28<04:02,  1.31it/s]"
     ]
    },
    {
     "name": "stderr",
     "output_type": "stream",
     "text": [
      "\r",
      "Running train:  10%|██████▉                                                           | 37/354 [00:28<04:03,  1.30it/s]"
     ]
    },
    {
     "name": "stderr",
     "output_type": "stream",
     "text": [
      "\r",
      "Running train:  11%|███████                                                           | 38/354 [00:29<04:05,  1.29it/s]"
     ]
    },
    {
     "name": "stderr",
     "output_type": "stream",
     "text": [
      "\r",
      "Running train:  11%|███████▎                                                          | 39/354 [00:30<04:03,  1.29it/s]"
     ]
    },
    {
     "name": "stderr",
     "output_type": "stream",
     "text": [
      "\r",
      "Running train:  11%|███████▍                                                          | 40/354 [00:31<03:57,  1.32it/s]"
     ]
    },
    {
     "name": "stderr",
     "output_type": "stream",
     "text": [
      "\r",
      "Running train:  12%|███████▋                                                          | 41/354 [00:31<03:58,  1.31it/s]"
     ]
    },
    {
     "name": "stderr",
     "output_type": "stream",
     "text": [
      "\r",
      "Running train:  12%|███████▊                                                          | 42/354 [00:32<04:03,  1.28it/s]"
     ]
    },
    {
     "name": "stderr",
     "output_type": "stream",
     "text": [
      "\r",
      "Running train:  12%|████████                                                          | 43/354 [00:33<04:01,  1.29it/s]"
     ]
    },
    {
     "name": "stderr",
     "output_type": "stream",
     "text": [
      "\r",
      "Running train:  12%|████████▏                                                         | 44/354 [00:34<03:54,  1.32it/s]"
     ]
    },
    {
     "name": "stderr",
     "output_type": "stream",
     "text": [
      "\r",
      "Running train:  13%|████████▍                                                         | 45/354 [00:34<03:55,  1.31it/s]"
     ]
    },
    {
     "name": "stderr",
     "output_type": "stream",
     "text": [
      "\r",
      "Running train:  13%|████████▌                                                         | 46/354 [00:35<04:10,  1.23it/s]"
     ]
    },
    {
     "name": "stderr",
     "output_type": "stream",
     "text": [
      "\r",
      "Running train:  13%|████████▊                                                         | 47/354 [00:36<04:05,  1.25it/s]"
     ]
    },
    {
     "name": "stderr",
     "output_type": "stream",
     "text": [
      "\r",
      "Running train:  14%|████████▉                                                         | 48/354 [00:37<04:01,  1.27it/s]"
     ]
    },
    {
     "name": "stderr",
     "output_type": "stream",
     "text": [
      "\r",
      "Running train:  14%|█████████▏                                                        | 49/354 [00:38<04:01,  1.27it/s]"
     ]
    },
    {
     "name": "stderr",
     "output_type": "stream",
     "text": [
      "\r",
      "Running train:  14%|█████████▎                                                        | 50/354 [00:39<04:02,  1.25it/s]"
     ]
    },
    {
     "name": "stderr",
     "output_type": "stream",
     "text": [
      "\r",
      "Running train:  14%|█████████▌                                                        | 51/354 [00:39<03:59,  1.26it/s]"
     ]
    },
    {
     "name": "stderr",
     "output_type": "stream",
     "text": [
      "\r",
      "Running train:  15%|█████████▋                                                        | 52/354 [00:40<03:57,  1.27it/s]"
     ]
    },
    {
     "name": "stderr",
     "output_type": "stream",
     "text": [
      "\r",
      "Running train:  15%|█████████▉                                                        | 53/354 [00:41<03:57,  1.27it/s]"
     ]
    },
    {
     "name": "stderr",
     "output_type": "stream",
     "text": [
      "\r",
      "Running train:  15%|██████████                                                        | 54/354 [00:42<04:00,  1.25it/s]"
     ]
    },
    {
     "name": "stderr",
     "output_type": "stream",
     "text": [
      "\r",
      "Running train:  16%|██████████▎                                                       | 55/354 [00:42<03:53,  1.28it/s]"
     ]
    },
    {
     "name": "stderr",
     "output_type": "stream",
     "text": [
      "\r",
      "Running train:  16%|██████████▍                                                       | 56/354 [00:43<03:55,  1.27it/s]"
     ]
    },
    {
     "name": "stderr",
     "output_type": "stream",
     "text": [
      "\r",
      "Running train:  16%|██████████▋                                                       | 57/354 [00:44<03:55,  1.26it/s]"
     ]
    },
    {
     "name": "stderr",
     "output_type": "stream",
     "text": [
      "\r",
      "Running train:  16%|██████████▊                                                       | 58/354 [00:45<03:55,  1.26it/s]"
     ]
    },
    {
     "name": "stderr",
     "output_type": "stream",
     "text": [
      "\r",
      "Running train:  17%|███████████                                                       | 59/354 [00:46<03:54,  1.26it/s]"
     ]
    },
    {
     "name": "stderr",
     "output_type": "stream",
     "text": [
      "\r",
      "Running train:  17%|███████████▏                                                      | 60/354 [00:46<03:48,  1.29it/s]"
     ]
    },
    {
     "name": "stderr",
     "output_type": "stream",
     "text": [
      "\r",
      "Running train:  17%|███████████▎                                                      | 61/354 [00:47<03:47,  1.29it/s]"
     ]
    },
    {
     "name": "stderr",
     "output_type": "stream",
     "text": [
      "\r",
      "Running train:  18%|███████████▌                                                      | 62/354 [00:48<03:49,  1.27it/s]"
     ]
    },
    {
     "name": "stderr",
     "output_type": "stream",
     "text": [
      "\r",
      "Running train:  18%|███████████▋                                                      | 63/354 [00:49<03:49,  1.27it/s]"
     ]
    },
    {
     "name": "stderr",
     "output_type": "stream",
     "text": [
      "\r",
      "Running train:  18%|███████████▉                                                      | 64/354 [00:49<03:42,  1.30it/s]"
     ]
    },
    {
     "name": "stderr",
     "output_type": "stream",
     "text": [
      "\r",
      "Running train:  18%|████████████                                                      | 65/354 [00:50<03:37,  1.33it/s]"
     ]
    },
    {
     "name": "stderr",
     "output_type": "stream",
     "text": [
      "\r",
      "Running train:  19%|████████████▎                                                     | 66/354 [00:51<03:32,  1.36it/s]"
     ]
    },
    {
     "name": "stderr",
     "output_type": "stream",
     "text": [
      "\r",
      "Running train:  19%|████████████▍                                                     | 67/354 [00:52<03:30,  1.36it/s]"
     ]
    },
    {
     "name": "stderr",
     "output_type": "stream",
     "text": [
      "\r",
      "Running train:  19%|████████████▋                                                     | 68/354 [00:52<03:31,  1.35it/s]"
     ]
    },
    {
     "name": "stderr",
     "output_type": "stream",
     "text": [
      "\r",
      "Running train:  19%|████████████▊                                                     | 69/354 [00:53<03:36,  1.32it/s]"
     ]
    },
    {
     "name": "stderr",
     "output_type": "stream",
     "text": [
      "\r",
      "Running train:  20%|█████████████                                                     | 70/354 [00:54<03:31,  1.34it/s]"
     ]
    },
    {
     "name": "stderr",
     "output_type": "stream",
     "text": [
      "\r",
      "Running train:  20%|█████████████▏                                                    | 71/354 [00:55<03:37,  1.30it/s]"
     ]
    },
    {
     "name": "stderr",
     "output_type": "stream",
     "text": [
      "\r",
      "Running train:  20%|█████████████▍                                                    | 72/354 [00:55<03:30,  1.34it/s]"
     ]
    },
    {
     "name": "stderr",
     "output_type": "stream",
     "text": [
      "\r",
      "Running train:  21%|█████████████▌                                                    | 73/354 [00:56<03:27,  1.35it/s]"
     ]
    },
    {
     "name": "stderr",
     "output_type": "stream",
     "text": [
      "\r",
      "Running train:  21%|█████████████▊                                                    | 74/354 [00:57<03:29,  1.34it/s]"
     ]
    },
    {
     "name": "stderr",
     "output_type": "stream",
     "text": [
      "\r",
      "Running train:  21%|█████████████▉                                                    | 75/354 [00:58<03:28,  1.34it/s]"
     ]
    },
    {
     "name": "stderr",
     "output_type": "stream",
     "text": [
      "\r",
      "Running train:  21%|██████████████▏                                                   | 76/354 [00:58<03:25,  1.35it/s]"
     ]
    },
    {
     "name": "stderr",
     "output_type": "stream",
     "text": [
      "\r",
      "Running train:  22%|██████████████▎                                                   | 77/354 [00:59<03:31,  1.31it/s]"
     ]
    },
    {
     "name": "stderr",
     "output_type": "stream",
     "text": [
      "\r",
      "Running train:  22%|██████████████▌                                                   | 78/354 [01:00<03:33,  1.29it/s]"
     ]
    },
    {
     "name": "stderr",
     "output_type": "stream",
     "text": [
      "\r",
      "Running train:  22%|██████████████▋                                                   | 79/354 [01:01<03:35,  1.28it/s]"
     ]
    },
    {
     "name": "stderr",
     "output_type": "stream",
     "text": [
      "\r",
      "Running train:  23%|██████████████▉                                                   | 80/354 [01:02<03:33,  1.29it/s]"
     ]
    },
    {
     "name": "stderr",
     "output_type": "stream",
     "text": [
      "\r",
      "Running train:  23%|███████████████                                                   | 81/354 [01:02<03:32,  1.28it/s]"
     ]
    },
    {
     "name": "stderr",
     "output_type": "stream",
     "text": [
      "\r",
      "Running train:  23%|███████████████▎                                                  | 82/354 [01:03<03:31,  1.29it/s]"
     ]
    },
    {
     "name": "stderr",
     "output_type": "stream",
     "text": [
      "\r",
      "Running train:  23%|███████████████▍                                                  | 83/354 [01:04<03:31,  1.28it/s]"
     ]
    },
    {
     "name": "stderr",
     "output_type": "stream",
     "text": [
      "\r",
      "Running train:  24%|███████████████▋                                                  | 84/354 [01:05<03:30,  1.28it/s]"
     ]
    },
    {
     "name": "stderr",
     "output_type": "stream",
     "text": [
      "\r",
      "Running train:  24%|███████████████▊                                                  | 85/354 [01:05<03:29,  1.28it/s]"
     ]
    },
    {
     "name": "stderr",
     "output_type": "stream",
     "text": [
      "\r",
      "Running train:  24%|████████████████                                                  | 86/354 [01:06<03:29,  1.28it/s]"
     ]
    },
    {
     "name": "stderr",
     "output_type": "stream",
     "text": [
      "\r",
      "Running train:  25%|████████████████▏                                                 | 87/354 [01:07<03:23,  1.31it/s]"
     ]
    },
    {
     "name": "stderr",
     "output_type": "stream",
     "text": [
      "\r",
      "Running train:  25%|████████████████▍                                                 | 88/354 [01:08<03:25,  1.29it/s]"
     ]
    },
    {
     "name": "stderr",
     "output_type": "stream",
     "text": [
      "\r",
      "Running train:  25%|████████████████▌                                                 | 89/354 [01:09<03:26,  1.28it/s]"
     ]
    },
    {
     "name": "stderr",
     "output_type": "stream",
     "text": [
      "\r",
      "Running train:  25%|████████████████▊                                                 | 90/354 [01:09<03:21,  1.31it/s]"
     ]
    },
    {
     "name": "stderr",
     "output_type": "stream",
     "text": [
      "\r",
      "Running train:  26%|████████████████▉                                                 | 91/354 [01:10<03:21,  1.31it/s]"
     ]
    },
    {
     "name": "stderr",
     "output_type": "stream",
     "text": [
      "\r",
      "Running train:  26%|█████████████████▏                                                | 92/354 [01:11<03:18,  1.32it/s]"
     ]
    },
    {
     "name": "stderr",
     "output_type": "stream",
     "text": [
      "\r",
      "Running train:  26%|█████████████████▎                                                | 93/354 [01:12<03:15,  1.33it/s]"
     ]
    },
    {
     "name": "stderr",
     "output_type": "stream",
     "text": [
      "\r",
      "Running train:  27%|█████████████████▌                                                | 94/354 [01:12<03:18,  1.31it/s]"
     ]
    },
    {
     "name": "stderr",
     "output_type": "stream",
     "text": [
      "\r",
      "Running train:  27%|█████████████████▋                                                | 95/354 [01:13<03:19,  1.30it/s]"
     ]
    },
    {
     "name": "stderr",
     "output_type": "stream",
     "text": [
      "\r",
      "Running train:  27%|█████████████████▉                                                | 96/354 [01:14<03:22,  1.27it/s]"
     ]
    },
    {
     "name": "stderr",
     "output_type": "stream",
     "text": [
      "\r",
      "Running train:  27%|██████████████████                                                | 97/354 [01:15<03:19,  1.29it/s]"
     ]
    },
    {
     "name": "stderr",
     "output_type": "stream",
     "text": [
      "\r",
      "Running train:  28%|██████████████████▎                                               | 98/354 [01:15<03:21,  1.27it/s]"
     ]
    },
    {
     "name": "stderr",
     "output_type": "stream",
     "text": [
      "\r",
      "Running train:  28%|██████████████████▍                                               | 99/354 [01:16<03:22,  1.26it/s]"
     ]
    },
    {
     "name": "stderr",
     "output_type": "stream",
     "text": [
      "\r",
      "Running train:  28%|██████████████████▎                                              | 100/354 [01:17<03:21,  1.26it/s]"
     ]
    },
    {
     "name": "stderr",
     "output_type": "stream",
     "text": [
      "\r",
      "Running train:  29%|██████████████████▌                                              | 101/354 [01:18<03:20,  1.26it/s]"
     ]
    },
    {
     "name": "stderr",
     "output_type": "stream",
     "text": [
      "\r",
      "Running train:  29%|██████████████████▋                                              | 102/354 [01:19<03:20,  1.26it/s]"
     ]
    },
    {
     "name": "stderr",
     "output_type": "stream",
     "text": [
      "\r",
      "Running train:  29%|██████████████████▉                                              | 103/354 [01:19<03:18,  1.26it/s]"
     ]
    },
    {
     "name": "stderr",
     "output_type": "stream",
     "text": [
      "\r",
      "Running train:  29%|███████████████████                                              | 104/354 [01:20<03:16,  1.27it/s]"
     ]
    },
    {
     "name": "stderr",
     "output_type": "stream",
     "text": [
      "\r",
      "Running train:  30%|███████████████████▎                                             | 105/354 [01:21<03:17,  1.26it/s]"
     ]
    },
    {
     "name": "stderr",
     "output_type": "stream",
     "text": [
      "\r",
      "Running train:  30%|███████████████████▍                                             | 106/354 [01:22<03:15,  1.27it/s]"
     ]
    },
    {
     "name": "stderr",
     "output_type": "stream",
     "text": [
      "\r",
      "Running train:  30%|███████████████████▋                                             | 107/354 [01:23<03:17,  1.25it/s]"
     ]
    },
    {
     "name": "stderr",
     "output_type": "stream",
     "text": [
      "\r",
      "Running train:  31%|███████████████████▊                                             | 108/354 [01:23<03:17,  1.25it/s]"
     ]
    },
    {
     "name": "stderr",
     "output_type": "stream",
     "text": [
      "\r",
      "Running train:  31%|████████████████████                                             | 109/354 [01:24<03:17,  1.24it/s]"
     ]
    },
    {
     "name": "stderr",
     "output_type": "stream",
     "text": [
      "\r",
      "Running train:  31%|████████████████████▏                                            | 110/354 [01:25<03:20,  1.22it/s]"
     ]
    },
    {
     "name": "stderr",
     "output_type": "stream",
     "text": [
      "\r",
      "Running train:  31%|████████████████████▍                                            | 111/354 [01:26<03:19,  1.22it/s]"
     ]
    },
    {
     "name": "stderr",
     "output_type": "stream",
     "text": [
      "\r",
      "Running train:  32%|████████████████████▌                                            | 112/354 [01:27<03:16,  1.23it/s]"
     ]
    },
    {
     "name": "stderr",
     "output_type": "stream",
     "text": [
      "\r",
      "Running train:  32%|████████████████████▋                                            | 113/354 [01:28<03:22,  1.19it/s]"
     ]
    },
    {
     "name": "stderr",
     "output_type": "stream",
     "text": [
      "\r",
      "Running train:  32%|████████████████████▉                                            | 114/354 [01:28<03:19,  1.20it/s]"
     ]
    },
    {
     "name": "stderr",
     "output_type": "stream",
     "text": [
      "\r",
      "Running train:  32%|█████████████████████                                            | 115/354 [01:29<03:17,  1.21it/s]"
     ]
    },
    {
     "name": "stderr",
     "output_type": "stream",
     "text": [
      "\r",
      "Running train:  33%|█████████████████████▎                                           | 116/354 [01:30<03:15,  1.22it/s]"
     ]
    },
    {
     "name": "stderr",
     "output_type": "stream",
     "text": [
      "\r",
      "Running train:  33%|█████████████████████▍                                           | 117/354 [01:31<03:15,  1.21it/s]"
     ]
    },
    {
     "name": "stderr",
     "output_type": "stream",
     "text": [
      "\r",
      "Running train:  33%|█████████████████████▋                                           | 118/354 [01:32<03:12,  1.22it/s]"
     ]
    },
    {
     "name": "stderr",
     "output_type": "stream",
     "text": [
      "\r",
      "Running train:  34%|█████████████████████▊                                           | 119/354 [01:33<03:12,  1.22it/s]"
     ]
    },
    {
     "name": "stderr",
     "output_type": "stream",
     "text": [
      "\r",
      "Running train:  34%|██████████████████████                                           | 120/354 [01:33<03:10,  1.23it/s]"
     ]
    },
    {
     "name": "stderr",
     "output_type": "stream",
     "text": [
      "\r",
      "Running train:  34%|██████████████████████▏                                          | 121/354 [01:34<03:08,  1.24it/s]"
     ]
    },
    {
     "name": "stderr",
     "output_type": "stream",
     "text": [
      "\r",
      "Running train:  34%|██████████████████████▍                                          | 122/354 [01:35<03:06,  1.24it/s]"
     ]
    },
    {
     "name": "stderr",
     "output_type": "stream",
     "text": [
      "\r",
      "Running train:  35%|██████████████████████▌                                          | 123/354 [01:36<03:06,  1.24it/s]"
     ]
    },
    {
     "name": "stderr",
     "output_type": "stream",
     "text": [
      "\r",
      "Running train:  35%|██████████████████████▊                                          | 124/354 [01:37<03:05,  1.24it/s]"
     ]
    },
    {
     "name": "stderr",
     "output_type": "stream",
     "text": [
      "\r",
      "Running train:  35%|██████████████████████▉                                          | 125/354 [01:37<03:04,  1.24it/s]"
     ]
    },
    {
     "name": "stderr",
     "output_type": "stream",
     "text": [
      "\r",
      "Running train:  36%|███████████████████████▏                                         | 126/354 [01:38<02:58,  1.28it/s]"
     ]
    },
    {
     "name": "stderr",
     "output_type": "stream",
     "text": [
      "\r",
      "Running train:  36%|███████████████████████▎                                         | 127/354 [01:39<02:57,  1.28it/s]"
     ]
    },
    {
     "name": "stderr",
     "output_type": "stream",
     "text": [
      "\r",
      "Running train:  36%|███████████████████████▌                                         | 128/354 [01:40<02:59,  1.26it/s]"
     ]
    },
    {
     "name": "stderr",
     "output_type": "stream",
     "text": [
      "\r",
      "Running train:  36%|███████████████████████▋                                         | 129/354 [01:40<02:57,  1.27it/s]"
     ]
    },
    {
     "name": "stderr",
     "output_type": "stream",
     "text": [
      "\r",
      "Running train:  37%|███████████████████████▊                                         | 130/354 [01:41<02:56,  1.27it/s]"
     ]
    },
    {
     "name": "stderr",
     "output_type": "stream",
     "text": [
      "\r",
      "Running train:  37%|████████████████████████                                         | 131/354 [01:42<02:59,  1.24it/s]"
     ]
    },
    {
     "name": "stderr",
     "output_type": "stream",
     "text": [
      "\r",
      "Running train:  37%|████████████████████████▏                                        | 132/354 [01:43<02:56,  1.26it/s]"
     ]
    },
    {
     "name": "stderr",
     "output_type": "stream",
     "text": [
      "\r",
      "Running train:  38%|████████████████████████▍                                        | 133/354 [01:44<02:55,  1.26it/s]"
     ]
    },
    {
     "name": "stderr",
     "output_type": "stream",
     "text": [
      "\r",
      "Running train:  38%|████████████████████████▌                                        | 134/354 [01:44<02:53,  1.27it/s]"
     ]
    },
    {
     "name": "stderr",
     "output_type": "stream",
     "text": [
      "\r",
      "Running train:  38%|████████████████████████▊                                        | 135/354 [01:45<02:54,  1.25it/s]"
     ]
    },
    {
     "name": "stderr",
     "output_type": "stream",
     "text": [
      "\r",
      "Running train:  38%|████████████████████████▉                                        | 136/354 [01:46<02:51,  1.27it/s]"
     ]
    },
    {
     "name": "stderr",
     "output_type": "stream",
     "text": [
      "\r",
      "Running train:  39%|█████████████████████████▏                                       | 137/354 [01:47<02:50,  1.27it/s]"
     ]
    },
    {
     "name": "stderr",
     "output_type": "stream",
     "text": [
      "\r",
      "Running train:  39%|█████████████████████████▎                                       | 138/354 [01:48<02:45,  1.31it/s]"
     ]
    },
    {
     "name": "stderr",
     "output_type": "stream",
     "text": [
      "\r",
      "Running train:  39%|█████████████████████████▌                                       | 139/354 [01:48<02:44,  1.31it/s]"
     ]
    },
    {
     "name": "stderr",
     "output_type": "stream",
     "text": [
      "\r",
      "Running train:  40%|█████████████████████████▋                                       | 140/354 [01:49<02:46,  1.29it/s]"
     ]
    },
    {
     "name": "stderr",
     "output_type": "stream",
     "text": [
      "\r",
      "Running train:  40%|█████████████████████████▉                                       | 141/354 [01:50<02:47,  1.27it/s]"
     ]
    },
    {
     "name": "stderr",
     "output_type": "stream",
     "text": [
      "\r",
      "Running train:  40%|██████████████████████████                                       | 142/354 [01:51<02:47,  1.27it/s]"
     ]
    },
    {
     "name": "stderr",
     "output_type": "stream",
     "text": [
      "\r",
      "Running train:  40%|██████████████████████████▎                                      | 143/354 [01:51<02:47,  1.26it/s]"
     ]
    },
    {
     "name": "stderr",
     "output_type": "stream",
     "text": [
      "\r",
      "Running train:  41%|██████████████████████████▍                                      | 144/354 [01:52<02:48,  1.25it/s]"
     ]
    },
    {
     "name": "stderr",
     "output_type": "stream",
     "text": [
      "\r",
      "Running train:  41%|██████████████████████████▌                                      | 145/354 [01:53<02:46,  1.25it/s]"
     ]
    },
    {
     "name": "stderr",
     "output_type": "stream",
     "text": [
      "\r",
      "Running train:  41%|██████████████████████████▊                                      | 146/354 [01:54<02:46,  1.25it/s]"
     ]
    },
    {
     "name": "stderr",
     "output_type": "stream",
     "text": [
      "\r",
      "Running train:  42%|██████████████████████████▉                                      | 147/354 [01:55<02:48,  1.23it/s]"
     ]
    },
    {
     "name": "stderr",
     "output_type": "stream",
     "text": [
      "\r",
      "Running train:  42%|███████████████████████████▏                                     | 148/354 [01:56<02:46,  1.24it/s]"
     ]
    },
    {
     "name": "stderr",
     "output_type": "stream",
     "text": [
      "\r",
      "Running train:  42%|███████████████████████████▎                                     | 149/354 [01:56<02:44,  1.25it/s]"
     ]
    },
    {
     "name": "stderr",
     "output_type": "stream",
     "text": [
      "\r",
      "Running train:  42%|███████████████████████████▌                                     | 150/354 [01:57<02:43,  1.25it/s]"
     ]
    },
    {
     "name": "stderr",
     "output_type": "stream",
     "text": [
      "\r",
      "Running train:  43%|███████████████████████████▋                                     | 151/354 [01:58<02:40,  1.26it/s]"
     ]
    },
    {
     "name": "stderr",
     "output_type": "stream",
     "text": [
      "\r",
      "Running train:  43%|███████████████████████████▉                                     | 152/354 [01:59<02:42,  1.25it/s]"
     ]
    },
    {
     "name": "stderr",
     "output_type": "stream",
     "text": [
      "\r",
      "Running train:  43%|████████████████████████████                                     | 153/354 [02:00<02:40,  1.25it/s]"
     ]
    },
    {
     "name": "stderr",
     "output_type": "stream",
     "text": [
      "\r",
      "Running train:  44%|████████████████████████████▎                                    | 154/354 [02:00<02:40,  1.25it/s]"
     ]
    },
    {
     "name": "stderr",
     "output_type": "stream",
     "text": [
      "\r",
      "Running train:  44%|████████████████████████████▍                                    | 155/354 [02:01<02:41,  1.23it/s]"
     ]
    },
    {
     "name": "stderr",
     "output_type": "stream",
     "text": [
      "\r",
      "Running train:  44%|████████████████████████████▋                                    | 156/354 [02:02<02:39,  1.24it/s]"
     ]
    },
    {
     "name": "stderr",
     "output_type": "stream",
     "text": [
      "\r",
      "Running train:  44%|████████████████████████████▊                                    | 157/354 [02:03<02:39,  1.24it/s]"
     ]
    },
    {
     "name": "stderr",
     "output_type": "stream",
     "text": [
      "\r",
      "Running train:  45%|█████████████████████████████                                    | 158/354 [02:04<02:37,  1.24it/s]"
     ]
    },
    {
     "name": "stderr",
     "output_type": "stream",
     "text": [
      "\r",
      "Running train:  45%|█████████████████████████████▏                                   | 159/354 [02:04<02:38,  1.23it/s]"
     ]
    },
    {
     "name": "stderr",
     "output_type": "stream",
     "text": [
      "\r",
      "Running train:  45%|█████████████████████████████▍                                   | 160/354 [02:05<02:38,  1.22it/s]"
     ]
    },
    {
     "name": "stderr",
     "output_type": "stream",
     "text": [
      "\r",
      "Running train:  45%|█████████████████████████████▌                                   | 161/354 [02:06<02:36,  1.23it/s]"
     ]
    },
    {
     "name": "stderr",
     "output_type": "stream",
     "text": [
      "\r",
      "Running train:  46%|█████████████████████████████▋                                   | 162/354 [02:07<02:34,  1.24it/s]"
     ]
    },
    {
     "name": "stderr",
     "output_type": "stream",
     "text": [
      "\r",
      "Running train:  46%|█████████████████████████████▉                                   | 163/354 [02:07<02:26,  1.31it/s]"
     ]
    },
    {
     "name": "stderr",
     "output_type": "stream",
     "text": [
      "\r",
      "Running train:  46%|██████████████████████████████                                   | 164/354 [02:08<02:25,  1.31it/s]"
     ]
    },
    {
     "name": "stderr",
     "output_type": "stream",
     "text": [
      "\r",
      "Running train:  47%|██████████████████████████████▎                                  | 165/354 [02:09<02:18,  1.37it/s]"
     ]
    },
    {
     "name": "stderr",
     "output_type": "stream",
     "text": [
      "\r",
      "Running train:  47%|██████████████████████████████▍                                  | 166/354 [02:10<02:16,  1.38it/s]"
     ]
    },
    {
     "name": "stderr",
     "output_type": "stream",
     "text": [
      "\r",
      "Running train:  47%|██████████████████████████████▋                                  | 167/354 [02:10<02:12,  1.41it/s]"
     ]
    },
    {
     "name": "stderr",
     "output_type": "stream",
     "text": [
      "\r",
      "Running train:  47%|██████████████████████████████▊                                  | 168/354 [02:11<02:09,  1.44it/s]"
     ]
    },
    {
     "name": "stderr",
     "output_type": "stream",
     "text": [
      "\r",
      "Running train:  48%|███████████████████████████████                                  | 169/354 [02:12<02:13,  1.38it/s]"
     ]
    },
    {
     "name": "stderr",
     "output_type": "stream",
     "text": [
      "\r",
      "Running train:  48%|███████████████████████████████▏                                 | 170/354 [02:12<02:10,  1.41it/s]"
     ]
    },
    {
     "name": "stderr",
     "output_type": "stream",
     "text": [
      "\r",
      "Running train:  48%|███████████████████████████████▍                                 | 171/354 [02:13<02:07,  1.44it/s]"
     ]
    },
    {
     "name": "stderr",
     "output_type": "stream",
     "text": [
      "\r",
      "Running train:  49%|███████████████████████████████▌                                 | 172/354 [02:14<02:09,  1.41it/s]"
     ]
    },
    {
     "name": "stderr",
     "output_type": "stream",
     "text": [
      "\r",
      "Running train:  49%|███████████████████████████████▊                                 | 173/354 [02:14<02:05,  1.44it/s]"
     ]
    },
    {
     "name": "stderr",
     "output_type": "stream",
     "text": [
      "\r",
      "Running train:  49%|███████████████████████████████▉                                 | 174/354 [02:15<02:07,  1.42it/s]"
     ]
    },
    {
     "name": "stderr",
     "output_type": "stream",
     "text": [
      "\r",
      "Running train:  49%|████████████████████████████████▏                                | 175/354 [02:16<02:04,  1.44it/s]"
     ]
    },
    {
     "name": "stderr",
     "output_type": "stream",
     "text": [
      "\r",
      "Running train:  50%|████████████████████████████████▎                                | 176/354 [02:17<02:07,  1.40it/s]"
     ]
    },
    {
     "name": "stderr",
     "output_type": "stream",
     "text": [
      "\r",
      "Running train:  50%|████████████████████████████████▌                                | 177/354 [02:17<02:10,  1.35it/s]"
     ]
    },
    {
     "name": "stderr",
     "output_type": "stream",
     "text": [
      "\r",
      "Running train:  50%|████████████████████████████████▋                                | 178/354 [02:18<02:12,  1.32it/s]"
     ]
    },
    {
     "name": "stderr",
     "output_type": "stream",
     "text": [
      "\r",
      "Running train:  51%|████████████████████████████████▊                                | 179/354 [02:19<02:08,  1.36it/s]"
     ]
    },
    {
     "name": "stderr",
     "output_type": "stream",
     "text": [
      "\r",
      "Running train:  51%|█████████████████████████████████                                | 180/354 [02:20<02:04,  1.39it/s]"
     ]
    },
    {
     "name": "stderr",
     "output_type": "stream",
     "text": [
      "\r",
      "Running train:  51%|█████████████████████████████████▏                               | 181/354 [02:20<02:07,  1.36it/s]"
     ]
    },
    {
     "name": "stderr",
     "output_type": "stream",
     "text": [
      "\r",
      "Running train:  51%|█████████████████████████████████▍                               | 182/354 [02:21<02:03,  1.39it/s]"
     ]
    },
    {
     "name": "stderr",
     "output_type": "stream",
     "text": [
      "\r",
      "Running train:  52%|█████████████████████████████████▌                               | 183/354 [02:22<02:00,  1.42it/s]"
     ]
    },
    {
     "name": "stderr",
     "output_type": "stream",
     "text": [
      "\r",
      "Running train:  52%|█████████████████████████████████▊                               | 184/354 [02:22<02:00,  1.41it/s]"
     ]
    },
    {
     "name": "stderr",
     "output_type": "stream",
     "text": [
      "\r",
      "Running train:  52%|█████████████████████████████████▉                               | 185/354 [02:23<02:02,  1.38it/s]"
     ]
    },
    {
     "name": "stderr",
     "output_type": "stream",
     "text": [
      "\r",
      "Running train:  53%|██████████████████████████████████▏                              | 186/354 [02:24<02:04,  1.35it/s]"
     ]
    },
    {
     "name": "stderr",
     "output_type": "stream",
     "text": [
      "\r",
      "Running train:  53%|██████████████████████████████████▎                              | 187/354 [02:25<02:05,  1.33it/s]"
     ]
    },
    {
     "name": "stderr",
     "output_type": "stream",
     "text": [
      "\r",
      "Running train:  53%|██████████████████████████████████▌                              | 188/354 [02:25<02:02,  1.35it/s]"
     ]
    },
    {
     "name": "stderr",
     "output_type": "stream",
     "text": [
      "\r",
      "Running train:  53%|██████████████████████████████████▋                              | 189/354 [02:26<02:01,  1.36it/s]"
     ]
    },
    {
     "name": "stderr",
     "output_type": "stream",
     "text": [
      "\r",
      "Running train:  54%|██████████████████████████████████▉                              | 190/354 [02:27<01:58,  1.39it/s]"
     ]
    },
    {
     "name": "stderr",
     "output_type": "stream",
     "text": [
      "\r",
      "Running train:  54%|███████████████████████████████████                              | 191/354 [02:28<02:02,  1.33it/s]"
     ]
    },
    {
     "name": "stderr",
     "output_type": "stream",
     "text": [
      "\r",
      "Running train:  54%|███████████████████████████████████▎                             | 192/354 [02:28<02:02,  1.33it/s]"
     ]
    },
    {
     "name": "stderr",
     "output_type": "stream",
     "text": [
      "\r",
      "Running train:  55%|███████████████████████████████████▍                             | 193/354 [02:29<02:04,  1.29it/s]"
     ]
    },
    {
     "name": "stderr",
     "output_type": "stream",
     "text": [
      "\r",
      "Running train:  55%|███████████████████████████████████▌                             | 194/354 [02:30<02:01,  1.31it/s]"
     ]
    },
    {
     "name": "stderr",
     "output_type": "stream",
     "text": [
      "\r",
      "Running train:  55%|███████████████████████████████████▊                             | 195/354 [02:31<02:00,  1.32it/s]"
     ]
    },
    {
     "name": "stderr",
     "output_type": "stream",
     "text": [
      "\r",
      "Running train:  55%|███████████████████████████████████▉                             | 196/354 [02:32<01:59,  1.32it/s]"
     ]
    },
    {
     "name": "stderr",
     "output_type": "stream",
     "text": [
      "\r",
      "Running train:  56%|████████████████████████████████████▏                            | 197/354 [02:32<01:57,  1.34it/s]"
     ]
    },
    {
     "name": "stderr",
     "output_type": "stream",
     "text": [
      "\r",
      "Running train:  56%|████████████████████████████████████▎                            | 198/354 [02:33<01:56,  1.34it/s]"
     ]
    },
    {
     "name": "stderr",
     "output_type": "stream",
     "text": [
      "\r",
      "Running train:  56%|████████████████████████████████████▌                            | 199/354 [02:34<01:54,  1.35it/s]"
     ]
    },
    {
     "name": "stderr",
     "output_type": "stream",
     "text": [
      "\r",
      "Running train:  56%|████████████████████████████████████▋                            | 200/354 [02:34<01:53,  1.35it/s]"
     ]
    },
    {
     "name": "stderr",
     "output_type": "stream",
     "text": [
      "\r",
      "Running train:  57%|████████████████████████████████████▉                            | 201/354 [02:35<01:51,  1.37it/s]"
     ]
    },
    {
     "name": "stderr",
     "output_type": "stream",
     "text": [
      "\r",
      "Running train:  57%|█████████████████████████████████████                            | 202/354 [02:36<01:53,  1.34it/s]"
     ]
    },
    {
     "name": "stderr",
     "output_type": "stream",
     "text": [
      "\r",
      "Running train:  57%|█████████████████████████████████████▎                           | 203/354 [02:37<01:53,  1.33it/s]"
     ]
    },
    {
     "name": "stderr",
     "output_type": "stream",
     "text": [
      "\r",
      "Running train:  58%|█████████████████████████████████████▍                           | 204/354 [02:37<01:52,  1.34it/s]"
     ]
    },
    {
     "name": "stderr",
     "output_type": "stream",
     "text": [
      "\r",
      "Running train:  58%|█████████████████████████████████████▋                           | 205/354 [02:38<01:51,  1.34it/s]"
     ]
    },
    {
     "name": "stderr",
     "output_type": "stream",
     "text": [
      "\r",
      "Running train:  58%|█████████████████████████████████████▊                           | 206/354 [02:39<01:48,  1.37it/s]"
     ]
    },
    {
     "name": "stderr",
     "output_type": "stream",
     "text": [
      "\r",
      "Running train:  58%|██████████████████████████████████████                           | 207/354 [02:40<01:46,  1.38it/s]"
     ]
    },
    {
     "name": "stderr",
     "output_type": "stream",
     "text": [
      "\r",
      "Running train:  59%|██████████████████████████████████████▏                          | 208/354 [02:40<01:44,  1.39it/s]"
     ]
    },
    {
     "name": "stderr",
     "output_type": "stream",
     "text": [
      "\r",
      "Running train:  59%|██████████████████████████████████████▍                          | 209/354 [02:41<01:49,  1.33it/s]"
     ]
    },
    {
     "name": "stderr",
     "output_type": "stream",
     "text": [
      "\r",
      "Running train:  59%|██████████████████████████████████████▌                          | 210/354 [02:42<01:47,  1.35it/s]"
     ]
    },
    {
     "name": "stderr",
     "output_type": "stream",
     "text": [
      "\r",
      "Running train:  60%|██████████████████████████████████████▋                          | 211/354 [02:43<01:45,  1.35it/s]"
     ]
    },
    {
     "name": "stderr",
     "output_type": "stream",
     "text": [
      "\r",
      "Running train:  60%|██████████████████████████████████████▉                          | 212/354 [02:43<01:46,  1.34it/s]"
     ]
    },
    {
     "name": "stderr",
     "output_type": "stream",
     "text": [
      "\r",
      "Running train:  60%|███████████████████████████████████████                          | 213/354 [02:44<01:46,  1.33it/s]"
     ]
    },
    {
     "name": "stderr",
     "output_type": "stream",
     "text": [
      "\r",
      "Running train:  60%|███████████████████████████████████████▎                         | 214/354 [02:45<01:46,  1.32it/s]"
     ]
    },
    {
     "name": "stderr",
     "output_type": "stream",
     "text": [
      "\r",
      "Running train:  61%|███████████████████████████████████████▍                         | 215/354 [02:46<01:46,  1.30it/s]"
     ]
    },
    {
     "name": "stderr",
     "output_type": "stream",
     "text": [
      "\r",
      "Running train:  61%|███████████████████████████████████████▋                         | 216/354 [02:46<01:43,  1.33it/s]"
     ]
    },
    {
     "name": "stderr",
     "output_type": "stream",
     "text": [
      "\r",
      "Running train:  61%|███████████████████████████████████████▊                         | 217/354 [02:47<01:41,  1.34it/s]"
     ]
    },
    {
     "name": "stderr",
     "output_type": "stream",
     "text": [
      "\r",
      "Running train:  62%|████████████████████████████████████████                         | 218/354 [02:48<01:43,  1.31it/s]"
     ]
    },
    {
     "name": "stderr",
     "output_type": "stream",
     "text": [
      "\r",
      "Running train:  62%|████████████████████████████████████████▏                        | 219/354 [02:49<01:43,  1.31it/s]"
     ]
    },
    {
     "name": "stderr",
     "output_type": "stream",
     "text": [
      "\r",
      "Running train:  62%|████████████████████████████████████████▍                        | 220/354 [02:49<01:41,  1.32it/s]"
     ]
    },
    {
     "name": "stderr",
     "output_type": "stream",
     "text": [
      "\r",
      "Running train:  62%|████████████████████████████████████████▌                        | 221/354 [02:50<01:40,  1.32it/s]"
     ]
    },
    {
     "name": "stderr",
     "output_type": "stream",
     "text": [
      "\r",
      "Running train:  63%|████████████████████████████████████████▊                        | 222/354 [02:51<01:40,  1.32it/s]"
     ]
    },
    {
     "name": "stderr",
     "output_type": "stream",
     "text": [
      "\r",
      "Running train:  63%|████████████████████████████████████████▉                        | 223/354 [02:52<01:41,  1.29it/s]"
     ]
    },
    {
     "name": "stderr",
     "output_type": "stream",
     "text": [
      "\r",
      "Running train:  63%|█████████████████████████████████████████▏                       | 224/354 [02:53<01:40,  1.29it/s]"
     ]
    },
    {
     "name": "stderr",
     "output_type": "stream",
     "text": [
      "\r",
      "Running train:  64%|█████████████████████████████████████████▎                       | 225/354 [02:53<01:38,  1.31it/s]"
     ]
    },
    {
     "name": "stderr",
     "output_type": "stream",
     "text": [
      "\r",
      "Running train:  64%|█████████████████████████████████████████▍                       | 226/354 [02:54<01:38,  1.29it/s]"
     ]
    },
    {
     "name": "stderr",
     "output_type": "stream",
     "text": [
      "\r",
      "Running train:  64%|█████████████████████████████████████████▋                       | 227/354 [02:55<01:39,  1.28it/s]"
     ]
    },
    {
     "name": "stderr",
     "output_type": "stream",
     "text": [
      "\r",
      "Running train:  64%|█████████████████████████████████████████▊                       | 228/354 [02:56<01:38,  1.28it/s]"
     ]
    },
    {
     "name": "stderr",
     "output_type": "stream",
     "text": [
      "\r",
      "Running train:  65%|██████████████████████████████████████████                       | 229/354 [02:56<01:35,  1.31it/s]"
     ]
    },
    {
     "name": "stderr",
     "output_type": "stream",
     "text": [
      "\r",
      "Running train:  65%|██████████████████████████████████████████▏                      | 230/354 [02:57<01:36,  1.29it/s]"
     ]
    },
    {
     "name": "stderr",
     "output_type": "stream",
     "text": [
      "\r",
      "Running train:  65%|██████████████████████████████████████████▍                      | 231/354 [02:58<01:34,  1.30it/s]"
     ]
    },
    {
     "name": "stderr",
     "output_type": "stream",
     "text": [
      "\r",
      "Running train:  66%|██████████████████████████████████████████▌                      | 232/354 [02:59<01:34,  1.29it/s]"
     ]
    },
    {
     "name": "stderr",
     "output_type": "stream",
     "text": [
      "\r",
      "Running train:  66%|██████████████████████████████████████████▊                      | 233/354 [03:00<01:34,  1.28it/s]"
     ]
    },
    {
     "name": "stderr",
     "output_type": "stream",
     "text": [
      "\r",
      "Running train:  66%|██████████████████████████████████████████▉                      | 234/354 [03:00<01:34,  1.27it/s]"
     ]
    },
    {
     "name": "stderr",
     "output_type": "stream",
     "text": [
      "\r",
      "Running train:  66%|███████████████████████████████████████████▏                     | 235/354 [03:01<01:33,  1.27it/s]"
     ]
    },
    {
     "name": "stderr",
     "output_type": "stream",
     "text": [
      "\r",
      "Running train:  67%|███████████████████████████████████████████▎                     | 236/354 [03:02<01:33,  1.26it/s]"
     ]
    },
    {
     "name": "stderr",
     "output_type": "stream",
     "text": [
      "\r",
      "Running train:  67%|███████████████████████████████████████████▌                     | 237/354 [03:03<01:33,  1.25it/s]"
     ]
    },
    {
     "name": "stderr",
     "output_type": "stream",
     "text": [
      "\r",
      "Running train:  67%|███████████████████████████████████████████▋                     | 238/354 [03:04<01:32,  1.26it/s]"
     ]
    },
    {
     "name": "stderr",
     "output_type": "stream",
     "text": [
      "\r",
      "Running train:  68%|███████████████████████████████████████████▉                     | 239/354 [03:04<01:31,  1.26it/s]"
     ]
    },
    {
     "name": "stderr",
     "output_type": "stream",
     "text": [
      "\r",
      "Running train:  68%|████████████████████████████████████████████                     | 240/354 [03:05<01:29,  1.28it/s]"
     ]
    },
    {
     "name": "stderr",
     "output_type": "stream",
     "text": [
      "\r",
      "Running train:  68%|████████████████████████████████████████████▎                    | 241/354 [03:06<01:27,  1.29it/s]"
     ]
    },
    {
     "name": "stderr",
     "output_type": "stream",
     "text": [
      "\r",
      "Running train:  68%|████████████████████████████████████████████▍                    | 242/354 [03:07<01:26,  1.29it/s]"
     ]
    },
    {
     "name": "stderr",
     "output_type": "stream",
     "text": [
      "\r",
      "Running train:  69%|████████████████████████████████████████████▌                    | 243/354 [03:07<01:24,  1.32it/s]"
     ]
    },
    {
     "name": "stderr",
     "output_type": "stream",
     "text": [
      "\r",
      "Running train:  69%|████████████████████████████████████████████▊                    | 244/354 [03:08<01:23,  1.32it/s]"
     ]
    },
    {
     "name": "stderr",
     "output_type": "stream",
     "text": [
      "\r",
      "Running train:  69%|████████████████████████████████████████████▉                    | 245/354 [03:09<01:23,  1.30it/s]"
     ]
    },
    {
     "name": "stderr",
     "output_type": "stream",
     "text": [
      "\r",
      "Running train:  69%|█████████████████████████████████████████████▏                   | 246/354 [03:10<01:23,  1.29it/s]"
     ]
    },
    {
     "name": "stderr",
     "output_type": "stream",
     "text": [
      "\r",
      "Running train:  70%|█████████████████████████████████████████████▎                   | 247/354 [03:10<01:22,  1.29it/s]"
     ]
    },
    {
     "name": "stderr",
     "output_type": "stream",
     "text": [
      "\r",
      "Running train:  70%|█████████████████████████████████████████████▌                   | 248/354 [03:11<01:21,  1.30it/s]"
     ]
    },
    {
     "name": "stderr",
     "output_type": "stream",
     "text": [
      "\r",
      "Running train:  70%|█████████████████████████████████████████████▋                   | 249/354 [03:12<01:20,  1.30it/s]"
     ]
    },
    {
     "name": "stderr",
     "output_type": "stream",
     "text": [
      "\r",
      "Running train:  71%|█████████████████████████████████████████████▉                   | 250/354 [03:13<01:20,  1.30it/s]"
     ]
    },
    {
     "name": "stderr",
     "output_type": "stream",
     "text": [
      "\r",
      "Running train:  71%|██████████████████████████████████████████████                   | 251/354 [03:14<01:19,  1.29it/s]"
     ]
    },
    {
     "name": "stderr",
     "output_type": "stream",
     "text": [
      "\r",
      "Running train:  71%|██████████████████████████████████████████████▎                  | 252/354 [03:14<01:19,  1.28it/s]"
     ]
    },
    {
     "name": "stderr",
     "output_type": "stream",
     "text": [
      "\r",
      "Running train:  71%|██████████████████████████████████████████████▍                  | 253/354 [03:15<01:20,  1.26it/s]"
     ]
    },
    {
     "name": "stderr",
     "output_type": "stream",
     "text": [
      "\r",
      "Running train:  72%|██████████████████████████████████████████████▋                  | 254/354 [03:16<01:18,  1.28it/s]"
     ]
    },
    {
     "name": "stderr",
     "output_type": "stream",
     "text": [
      "\r",
      "Running train:  72%|██████████████████████████████████████████████▊                  | 255/354 [03:17<01:15,  1.30it/s]"
     ]
    },
    {
     "name": "stderr",
     "output_type": "stream",
     "text": [
      "\r",
      "Running train:  72%|███████████████████████████████████████████████                  | 256/354 [03:17<01:15,  1.29it/s]"
     ]
    },
    {
     "name": "stderr",
     "output_type": "stream",
     "text": [
      "\r",
      "Running train:  73%|███████████████████████████████████████████████▏                 | 257/354 [03:18<01:17,  1.26it/s]"
     ]
    },
    {
     "name": "stderr",
     "output_type": "stream",
     "text": [
      "\r",
      "Running train:  73%|███████████████████████████████████████████████▎                 | 258/354 [03:19<01:15,  1.27it/s]"
     ]
    },
    {
     "name": "stderr",
     "output_type": "stream",
     "text": [
      "\r",
      "Running train:  73%|███████████████████████████████████████████████▌                 | 259/354 [03:20<01:14,  1.27it/s]"
     ]
    },
    {
     "name": "stderr",
     "output_type": "stream",
     "text": [
      "\r",
      "Running train:  73%|███████████████████████████████████████████████▋                 | 260/354 [03:21<01:12,  1.29it/s]"
     ]
    },
    {
     "name": "stderr",
     "output_type": "stream",
     "text": [
      "\r",
      "Running train:  74%|███████████████████████████████████████████████▉                 | 261/354 [03:21<01:11,  1.30it/s]"
     ]
    },
    {
     "name": "stderr",
     "output_type": "stream",
     "text": [
      "\r",
      "Running train:  74%|████████████████████████████████████████████████                 | 262/354 [03:22<01:12,  1.26it/s]"
     ]
    },
    {
     "name": "stderr",
     "output_type": "stream",
     "text": [
      "\r",
      "Running train:  74%|████████████████████████████████████████████████▎                | 263/354 [03:23<01:10,  1.29it/s]"
     ]
    },
    {
     "name": "stderr",
     "output_type": "stream",
     "text": [
      "\r",
      "Running train:  75%|████████████████████████████████████████████████▍                | 264/354 [03:24<01:08,  1.32it/s]"
     ]
    },
    {
     "name": "stderr",
     "output_type": "stream",
     "text": [
      "\r",
      "Running train:  75%|████████████████████████████████████████████████▋                | 265/354 [03:24<01:08,  1.31it/s]"
     ]
    },
    {
     "name": "stderr",
     "output_type": "stream",
     "text": [
      "\r",
      "Running train:  75%|████████████████████████████████████████████████▊                | 266/354 [03:25<01:08,  1.29it/s]"
     ]
    },
    {
     "name": "stderr",
     "output_type": "stream",
     "text": [
      "\r",
      "Running train:  75%|█████████████████████████████████████████████████                | 267/354 [03:26<01:08,  1.28it/s]"
     ]
    },
    {
     "name": "stderr",
     "output_type": "stream",
     "text": [
      "\r",
      "Running train:  76%|█████████████████████████████████████████████████▏               | 268/354 [03:27<01:07,  1.28it/s]"
     ]
    },
    {
     "name": "stderr",
     "output_type": "stream",
     "text": [
      "\r",
      "Running train:  76%|█████████████████████████████████████████████████▍               | 269/354 [03:27<01:05,  1.31it/s]"
     ]
    },
    {
     "name": "stderr",
     "output_type": "stream",
     "text": [
      "\r",
      "Running train:  76%|█████████████████████████████████████████████████▌               | 270/354 [03:28<01:03,  1.33it/s]"
     ]
    },
    {
     "name": "stderr",
     "output_type": "stream",
     "text": [
      "\r",
      "Running train:  77%|█████████████████████████████████████████████████▊               | 271/354 [03:29<01:02,  1.34it/s]"
     ]
    },
    {
     "name": "stderr",
     "output_type": "stream",
     "text": [
      "\r",
      "Running train:  77%|█████████████████████████████████████████████████▉               | 272/354 [03:30<01:04,  1.28it/s]"
     ]
    },
    {
     "name": "stderr",
     "output_type": "stream",
     "text": [
      "\r",
      "Running train:  77%|██████████████████████████████████████████████████▏              | 273/354 [03:31<01:02,  1.30it/s]"
     ]
    },
    {
     "name": "stderr",
     "output_type": "stream",
     "text": [
      "\r",
      "Running train:  77%|██████████████████████████████████████████████████▎              | 274/354 [03:31<00:59,  1.34it/s]"
     ]
    },
    {
     "name": "stderr",
     "output_type": "stream",
     "text": [
      "\r",
      "Running train:  78%|██████████████████████████████████████████████████▍              | 275/354 [03:32<00:59,  1.32it/s]"
     ]
    },
    {
     "name": "stderr",
     "output_type": "stream",
     "text": [
      "\r",
      "Running train:  78%|██████████████████████████████████████████████████▋              | 276/354 [03:33<00:59,  1.31it/s]"
     ]
    },
    {
     "name": "stderr",
     "output_type": "stream",
     "text": [
      "\r",
      "Running train:  78%|██████████████████████████████████████████████████▊              | 277/354 [03:34<00:59,  1.30it/s]"
     ]
    },
    {
     "name": "stderr",
     "output_type": "stream",
     "text": [
      "\r",
      "Running train:  79%|███████████████████████████████████████████████████              | 278/354 [03:34<00:58,  1.29it/s]"
     ]
    },
    {
     "name": "stderr",
     "output_type": "stream",
     "text": [
      "\r",
      "Running train:  79%|███████████████████████████████████████████████████▏             | 279/354 [03:35<00:58,  1.27it/s]"
     ]
    },
    {
     "name": "stderr",
     "output_type": "stream",
     "text": [
      "\r",
      "Running train:  79%|███████████████████████████████████████████████████▍             | 280/354 [03:36<00:56,  1.30it/s]"
     ]
    },
    {
     "name": "stderr",
     "output_type": "stream",
     "text": [
      "\r",
      "Running train:  79%|███████████████████████████████████████████████████▌             | 281/354 [03:37<00:55,  1.32it/s]"
     ]
    },
    {
     "name": "stderr",
     "output_type": "stream",
     "text": [
      "\r",
      "Running train:  80%|███████████████████████████████████████████████████▊             | 282/354 [03:37<00:54,  1.31it/s]"
     ]
    },
    {
     "name": "stderr",
     "output_type": "stream",
     "text": [
      "\r",
      "Running train:  80%|███████████████████████████████████████████████████▉             | 283/354 [03:38<00:54,  1.30it/s]"
     ]
    },
    {
     "name": "stderr",
     "output_type": "stream",
     "text": [
      "\r",
      "Running train:  80%|████████████████████████████████████████████████████▏            | 284/354 [03:39<00:52,  1.33it/s]"
     ]
    },
    {
     "name": "stderr",
     "output_type": "stream",
     "text": [
      "\r",
      "Running train:  81%|████████████████████████████████████████████████████▎            | 285/354 [03:40<00:50,  1.35it/s]"
     ]
    },
    {
     "name": "stderr",
     "output_type": "stream",
     "text": [
      "\r",
      "Running train:  81%|████████████████████████████████████████████████████▌            | 286/354 [03:40<00:52,  1.31it/s]"
     ]
    },
    {
     "name": "stderr",
     "output_type": "stream",
     "text": [
      "\r",
      "Running train:  81%|████████████████████████████████████████████████████▋            | 287/354 [03:41<00:51,  1.29it/s]"
     ]
    },
    {
     "name": "stderr",
     "output_type": "stream",
     "text": [
      "\r",
      "Running train:  81%|████████████████████████████████████████████████████▉            | 288/354 [03:42<00:51,  1.28it/s]"
     ]
    },
    {
     "name": "stderr",
     "output_type": "stream",
     "text": [
      "\r",
      "Running train:  82%|█████████████████████████████████████████████████████            | 289/354 [03:43<00:50,  1.27it/s]"
     ]
    },
    {
     "name": "stderr",
     "output_type": "stream",
     "text": [
      "\r",
      "Running train:  82%|█████████████████████████████████████████████████████▏           | 290/354 [03:44<00:50,  1.28it/s]"
     ]
    },
    {
     "name": "stderr",
     "output_type": "stream",
     "text": [
      "\r",
      "Running train:  82%|█████████████████████████████████████████████████████▍           | 291/354 [03:44<00:49,  1.27it/s]"
     ]
    },
    {
     "name": "stderr",
     "output_type": "stream",
     "text": [
      "\r",
      "Running train:  82%|█████████████████████████████████████████████████████▌           | 292/354 [03:45<00:48,  1.28it/s]"
     ]
    },
    {
     "name": "stderr",
     "output_type": "stream",
     "text": [
      "\r",
      "Running train:  83%|█████████████████████████████████████████████████████▊           | 293/354 [03:46<00:47,  1.28it/s]"
     ]
    },
    {
     "name": "stderr",
     "output_type": "stream",
     "text": [
      "\r",
      "Running train:  83%|█████████████████████████████████████████████████████▉           | 294/354 [03:47<00:46,  1.28it/s]"
     ]
    },
    {
     "name": "stderr",
     "output_type": "stream",
     "text": [
      "\r",
      "Running train:  83%|██████████████████████████████████████████████████████▏          | 295/354 [03:48<00:46,  1.27it/s]"
     ]
    },
    {
     "name": "stderr",
     "output_type": "stream",
     "text": [
      "\r",
      "Running train:  84%|██████████████████████████████████████████████████████▎          | 296/354 [03:48<00:45,  1.27it/s]"
     ]
    },
    {
     "name": "stderr",
     "output_type": "stream",
     "text": [
      "\r",
      "Running train:  84%|██████████████████████████████████████████████████████▌          | 297/354 [03:49<00:44,  1.27it/s]"
     ]
    },
    {
     "name": "stderr",
     "output_type": "stream",
     "text": [
      "\r",
      "Running train:  84%|██████████████████████████████████████████████████████▋          | 298/354 [03:50<00:44,  1.26it/s]"
     ]
    },
    {
     "name": "stderr",
     "output_type": "stream",
     "text": [
      "\r",
      "Running train:  84%|██████████████████████████████████████████████████████▉          | 299/354 [03:51<00:43,  1.25it/s]"
     ]
    },
    {
     "name": "stderr",
     "output_type": "stream",
     "text": [
      "\r",
      "Running train:  85%|███████████████████████████████████████████████████████          | 300/354 [03:52<00:42,  1.27it/s]"
     ]
    },
    {
     "name": "stderr",
     "output_type": "stream",
     "text": [
      "\r",
      "Running train:  85%|███████████████████████████████████████████████████████▎         | 301/354 [03:52<00:41,  1.29it/s]"
     ]
    },
    {
     "name": "stderr",
     "output_type": "stream",
     "text": [
      "\r",
      "Running train:  85%|███████████████████████████████████████████████████████▍         | 302/354 [03:53<00:40,  1.29it/s]"
     ]
    },
    {
     "name": "stderr",
     "output_type": "stream",
     "text": [
      "\r",
      "Running train:  86%|███████████████████████████████████████████████████████▋         | 303/354 [03:54<00:39,  1.30it/s]"
     ]
    },
    {
     "name": "stderr",
     "output_type": "stream",
     "text": [
      "\r",
      "Running train:  86%|███████████████████████████████████████████████████████▊         | 304/354 [03:55<00:38,  1.29it/s]"
     ]
    },
    {
     "name": "stderr",
     "output_type": "stream",
     "text": [
      "\r",
      "Running train:  86%|████████████████████████████████████████████████████████         | 305/354 [03:55<00:38,  1.27it/s]"
     ]
    },
    {
     "name": "stderr",
     "output_type": "stream",
     "text": [
      "\r",
      "Running train:  86%|████████████████████████████████████████████████████████▏        | 306/354 [03:56<00:37,  1.28it/s]"
     ]
    },
    {
     "name": "stderr",
     "output_type": "stream",
     "text": [
      "\r",
      "Running train:  87%|████████████████████████████████████████████████████████▎        | 307/354 [03:57<00:36,  1.29it/s]"
     ]
    },
    {
     "name": "stderr",
     "output_type": "stream",
     "text": [
      "\r",
      "Running train:  87%|████████████████████████████████████████████████████████▌        | 308/354 [03:58<00:35,  1.28it/s]"
     ]
    },
    {
     "name": "stderr",
     "output_type": "stream",
     "text": [
      "\r",
      "Running train:  87%|████████████████████████████████████████████████████████▋        | 309/354 [03:59<00:35,  1.27it/s]"
     ]
    },
    {
     "name": "stderr",
     "output_type": "stream",
     "text": [
      "\r",
      "Running train:  88%|████████████████████████████████████████████████████████▉        | 310/354 [03:59<00:34,  1.27it/s]"
     ]
    },
    {
     "name": "stderr",
     "output_type": "stream",
     "text": [
      "\r",
      "Running train:  88%|█████████████████████████████████████████████████████████        | 311/354 [04:00<00:33,  1.28it/s]"
     ]
    },
    {
     "name": "stderr",
     "output_type": "stream",
     "text": [
      "\r",
      "Running train:  88%|█████████████████████████████████████████████████████████▎       | 312/354 [04:01<00:33,  1.27it/s]"
     ]
    },
    {
     "name": "stderr",
     "output_type": "stream",
     "text": [
      "\r",
      "Running train:  88%|█████████████████████████████████████████████████████████▍       | 313/354 [04:02<00:32,  1.25it/s]"
     ]
    },
    {
     "name": "stderr",
     "output_type": "stream",
     "text": [
      "\r",
      "Running train:  89%|█████████████████████████████████████████████████████████▋       | 314/354 [04:02<00:31,  1.26it/s]"
     ]
    },
    {
     "name": "stderr",
     "output_type": "stream",
     "text": [
      "\r",
      "Running train:  89%|█████████████████████████████████████████████████████████▊       | 315/354 [04:03<00:30,  1.26it/s]"
     ]
    },
    {
     "name": "stderr",
     "output_type": "stream",
     "text": [
      "\r",
      "Running train:  89%|██████████████████████████████████████████████████████████       | 316/354 [04:04<00:30,  1.25it/s]"
     ]
    },
    {
     "name": "stderr",
     "output_type": "stream",
     "text": [
      "\r",
      "Running train:  90%|██████████████████████████████████████████████████████████▏      | 317/354 [04:05<00:29,  1.25it/s]"
     ]
    },
    {
     "name": "stderr",
     "output_type": "stream",
     "text": [
      "\r",
      "Running train:  90%|██████████████████████████████████████████████████████████▍      | 318/354 [04:06<00:28,  1.27it/s]"
     ]
    },
    {
     "name": "stderr",
     "output_type": "stream",
     "text": [
      "\r",
      "Running train:  90%|██████████████████████████████████████████████████████████▌      | 319/354 [04:06<00:27,  1.28it/s]"
     ]
    },
    {
     "name": "stderr",
     "output_type": "stream",
     "text": [
      "\r",
      "Running train:  90%|██████████████████████████████████████████████████████████▊      | 320/354 [04:07<00:26,  1.28it/s]"
     ]
    },
    {
     "name": "stderr",
     "output_type": "stream",
     "text": [
      "\r",
      "Running train:  91%|██████████████████████████████████████████████████████████▉      | 321/354 [04:08<00:25,  1.28it/s]"
     ]
    },
    {
     "name": "stderr",
     "output_type": "stream",
     "text": [
      "\r",
      "Running train:  91%|███████████████████████████████████████████████████████████      | 322/354 [04:09<00:24,  1.28it/s]"
     ]
    },
    {
     "name": "stderr",
     "output_type": "stream",
     "text": [
      "\r",
      "Running train:  91%|███████████████████████████████████████████████████████████▎     | 323/354 [04:10<00:24,  1.28it/s]"
     ]
    },
    {
     "name": "stderr",
     "output_type": "stream",
     "text": [
      "\r",
      "Running train:  92%|███████████████████████████████████████████████████████████▍     | 324/354 [04:10<00:23,  1.29it/s]"
     ]
    },
    {
     "name": "stderr",
     "output_type": "stream",
     "text": [
      "\r",
      "Running train:  92%|███████████████████████████████████████████████████████████▋     | 325/354 [04:11<00:21,  1.32it/s]"
     ]
    },
    {
     "name": "stderr",
     "output_type": "stream",
     "text": [
      "\r",
      "Running train:  92%|███████████████████████████████████████████████████████████▊     | 326/354 [04:12<00:20,  1.34it/s]"
     ]
    },
    {
     "name": "stderr",
     "output_type": "stream",
     "text": [
      "\r",
      "Running train:  92%|████████████████████████████████████████████████████████████     | 327/354 [04:13<00:20,  1.30it/s]"
     ]
    },
    {
     "name": "stderr",
     "output_type": "stream",
     "text": [
      "\r",
      "Running train:  93%|████████████████████████████████████████████████████████████▏    | 328/354 [04:13<00:19,  1.32it/s]"
     ]
    },
    {
     "name": "stderr",
     "output_type": "stream",
     "text": [
      "\r",
      "Running train:  93%|████████████████████████████████████████████████████████████▍    | 329/354 [04:14<00:19,  1.31it/s]"
     ]
    },
    {
     "name": "stderr",
     "output_type": "stream",
     "text": [
      "\r",
      "Running train:  93%|████████████████████████████████████████████████████████████▌    | 330/354 [04:15<00:18,  1.29it/s]"
     ]
    },
    {
     "name": "stderr",
     "output_type": "stream",
     "text": [
      "\r",
      "Running train:  94%|████████████████████████████████████████████████████████████▊    | 331/354 [04:16<00:18,  1.27it/s]"
     ]
    },
    {
     "name": "stderr",
     "output_type": "stream",
     "text": [
      "\r",
      "Running train:  94%|████████████████████████████████████████████████████████████▉    | 332/354 [04:16<00:17,  1.26it/s]"
     ]
    },
    {
     "name": "stderr",
     "output_type": "stream",
     "text": [
      "\r",
      "Running train:  94%|█████████████████████████████████████████████████████████████▏   | 333/354 [04:17<00:16,  1.26it/s]"
     ]
    },
    {
     "name": "stderr",
     "output_type": "stream",
     "text": [
      "\r",
      "Running train:  94%|█████████████████████████████████████████████████████████████▎   | 334/354 [04:18<00:15,  1.25it/s]"
     ]
    },
    {
     "name": "stderr",
     "output_type": "stream",
     "text": [
      "\r",
      "Running train:  95%|█████████████████████████████████████████████████████████████▌   | 335/354 [04:19<00:15,  1.22it/s]"
     ]
    },
    {
     "name": "stderr",
     "output_type": "stream",
     "text": [
      "\r",
      "Running train:  95%|█████████████████████████████████████████████████████████████▋   | 336/354 [04:20<00:14,  1.22it/s]"
     ]
    },
    {
     "name": "stderr",
     "output_type": "stream",
     "text": [
      "\r",
      "Running train:  95%|█████████████████████████████████████████████████████████████▉   | 337/354 [04:21<00:13,  1.23it/s]"
     ]
    },
    {
     "name": "stderr",
     "output_type": "stream",
     "text": [
      "\r",
      "Running train:  95%|██████████████████████████████████████████████████████████████   | 338/354 [04:21<00:13,  1.23it/s]"
     ]
    },
    {
     "name": "stderr",
     "output_type": "stream",
     "text": [
      "\r",
      "Running train:  96%|██████████████████████████████████████████████████████████████▏  | 339/354 [04:22<00:12,  1.24it/s]"
     ]
    },
    {
     "name": "stderr",
     "output_type": "stream",
     "text": [
      "\r",
      "Running train:  96%|██████████████████████████████████████████████████████████████▍  | 340/354 [04:23<00:11,  1.25it/s]"
     ]
    },
    {
     "name": "stderr",
     "output_type": "stream",
     "text": [
      "\r",
      "Running train:  96%|██████████████████████████████████████████████████████████████▌  | 341/354 [04:24<00:10,  1.23it/s]"
     ]
    },
    {
     "name": "stderr",
     "output_type": "stream",
     "text": [
      "\r",
      "Running train:  97%|██████████████████████████████████████████████████████████████▊  | 342/354 [04:25<00:09,  1.22it/s]"
     ]
    },
    {
     "name": "stderr",
     "output_type": "stream",
     "text": [
      "\r",
      "Running train:  97%|██████████████████████████████████████████████████████████████▉  | 343/354 [04:25<00:09,  1.22it/s]"
     ]
    },
    {
     "name": "stderr",
     "output_type": "stream",
     "text": [
      "\r",
      "Running train:  97%|███████████████████████████████████████████████████████████████▏ | 344/354 [04:26<00:08,  1.22it/s]"
     ]
    },
    {
     "name": "stderr",
     "output_type": "stream",
     "text": [
      "\r",
      "Running train:  97%|███████████████████████████████████████████████████████████████▎ | 345/354 [04:27<00:07,  1.21it/s]"
     ]
    },
    {
     "name": "stderr",
     "output_type": "stream",
     "text": [
      "\r",
      "Running train:  98%|███████████████████████████████████████████████████████████████▌ | 346/354 [04:28<00:06,  1.21it/s]"
     ]
    },
    {
     "name": "stderr",
     "output_type": "stream",
     "text": [
      "\r",
      "Running train:  98%|███████████████████████████████████████████████████████████████▋ | 347/354 [04:29<00:05,  1.23it/s]"
     ]
    },
    {
     "name": "stderr",
     "output_type": "stream",
     "text": [
      "\r",
      "Running train:  98%|███████████████████████████████████████████████████████████████▉ | 348/354 [04:30<00:04,  1.24it/s]"
     ]
    },
    {
     "name": "stderr",
     "output_type": "stream",
     "text": [
      "\r",
      "Running train:  99%|████████████████████████████████████████████████████████████████ | 349/354 [04:30<00:04,  1.25it/s]"
     ]
    },
    {
     "name": "stderr",
     "output_type": "stream",
     "text": [
      "\r",
      "Running train:  99%|████████████████████████████████████████████████████████████████▎| 350/354 [04:31<00:03,  1.25it/s]"
     ]
    },
    {
     "name": "stderr",
     "output_type": "stream",
     "text": [
      "\r",
      "Running train:  99%|████████████████████████████████████████████████████████████████▍| 351/354 [04:32<00:02,  1.24it/s]"
     ]
    },
    {
     "name": "stderr",
     "output_type": "stream",
     "text": [
      "\r",
      "Running train:  99%|████████████████████████████████████████████████████████████████▋| 352/354 [04:33<00:01,  1.24it/s]"
     ]
    },
    {
     "name": "stderr",
     "output_type": "stream",
     "text": [
      "\r",
      "Running train: 100%|████████████████████████████████████████████████████████████████▊| 353/354 [04:34<00:00,  1.24it/s]"
     ]
    },
    {
     "name": "stderr",
     "output_type": "stream",
     "text": [
      "\r",
      "Running train: 100%|█████████████████████████████████████████████████████████████████| 354/354 [04:34<00:00,  1.46it/s]"
     ]
    },
    {
     "name": "stderr",
     "output_type": "stream",
     "text": [
      "\r",
      "Running train: 100%|█████████████████████████████████████████████████████████████████| 354/354 [04:34<00:00,  1.29it/s]"
     ]
    },
    {
     "name": "stderr",
     "output_type": "stream",
     "text": [
      "\n"
     ]
    },
    {
     "name": "stdout",
     "output_type": "stream",
     "text": [
      "train Loss: 1.6830 Acc: 0.4085\n",
      "train Epoch Entropy: 0.7020\n",
      "\n"
     ]
    },
    {
     "name": "stderr",
     "output_type": "stream",
     "text": [
      "\r",
      "Running val:   0%|                                                                                                                      | 0/89 [00:00<?, ?it/s]"
     ]
    },
    {
     "name": "stderr",
     "output_type": "stream",
     "text": [
      "\r",
      "Running val:   1%|█▏                                                                                                            | 1/89 [00:00<00:36,  2.40it/s]"
     ]
    },
    {
     "name": "stderr",
     "output_type": "stream",
     "text": [
      "\r",
      "Running val:   2%|██▍                                                                                                           | 2/89 [00:00<00:39,  2.19it/s]"
     ]
    },
    {
     "name": "stderr",
     "output_type": "stream",
     "text": [
      "\r",
      "Running val:   3%|███▋                                                                                                          | 3/89 [00:01<00:38,  2.24it/s]"
     ]
    },
    {
     "name": "stderr",
     "output_type": "stream",
     "text": [
      "\r",
      "Running val:   4%|████▉                                                                                                         | 4/89 [00:01<00:39,  2.17it/s]"
     ]
    },
    {
     "name": "stderr",
     "output_type": "stream",
     "text": [
      "\r",
      "Running val:   6%|██████▏                                                                                                       | 5/89 [00:02<00:38,  2.19it/s]"
     ]
    },
    {
     "name": "stderr",
     "output_type": "stream",
     "text": [
      "\r",
      "Running val:   7%|███████▍                                                                                                      | 6/89 [00:02<00:38,  2.16it/s]"
     ]
    },
    {
     "name": "stderr",
     "output_type": "stream",
     "text": [
      "\r",
      "Running val:   8%|████████▋                                                                                                     | 7/89 [00:03<00:34,  2.35it/s]"
     ]
    },
    {
     "name": "stderr",
     "output_type": "stream",
     "text": [
      "\r",
      "Running val:   9%|█████████▉                                                                                                    | 8/89 [00:03<00:35,  2.30it/s]"
     ]
    },
    {
     "name": "stderr",
     "output_type": "stream",
     "text": [
      "\r",
      "Running val:  10%|███████████                                                                                                   | 9/89 [00:03<00:32,  2.47it/s]"
     ]
    },
    {
     "name": "stderr",
     "output_type": "stream",
     "text": [
      "\r",
      "Running val:  11%|████████████▏                                                                                                | 10/89 [00:04<00:32,  2.43it/s]"
     ]
    },
    {
     "name": "stderr",
     "output_type": "stream",
     "text": [
      "\r",
      "Running val:  12%|█████████████▍                                                                                               | 11/89 [00:04<00:30,  2.55it/s]"
     ]
    },
    {
     "name": "stderr",
     "output_type": "stream",
     "text": [
      "\r",
      "Running val:  13%|██████████████▋                                                                                              | 12/89 [00:05<00:30,  2.49it/s]"
     ]
    },
    {
     "name": "stderr",
     "output_type": "stream",
     "text": [
      "\r",
      "Running val:  15%|███████████████▉                                                                                             | 13/89 [00:05<00:30,  2.50it/s]"
     ]
    },
    {
     "name": "stderr",
     "output_type": "stream",
     "text": [
      "\r",
      "Running val:  16%|█████████████████▏                                                                                           | 14/89 [00:05<00:30,  2.44it/s]"
     ]
    },
    {
     "name": "stderr",
     "output_type": "stream",
     "text": [
      "\r",
      "Running val:  17%|██████████████████▎                                                                                          | 15/89 [00:06<00:28,  2.56it/s]"
     ]
    },
    {
     "name": "stderr",
     "output_type": "stream",
     "text": [
      "\r",
      "Running val:  18%|███████████████████▌                                                                                         | 16/89 [00:06<00:29,  2.48it/s]"
     ]
    },
    {
     "name": "stderr",
     "output_type": "stream",
     "text": [
      "\r",
      "Running val:  19%|████████████████████▊                                                                                        | 17/89 [00:07<00:28,  2.52it/s]"
     ]
    },
    {
     "name": "stderr",
     "output_type": "stream",
     "text": [
      "\r",
      "Running val:  20%|██████████████████████                                                                                       | 18/89 [00:07<00:28,  2.46it/s]"
     ]
    },
    {
     "name": "stderr",
     "output_type": "stream",
     "text": [
      "\r",
      "Running val:  21%|███████████████████████▎                                                                                     | 19/89 [00:07<00:28,  2.48it/s]"
     ]
    },
    {
     "name": "stderr",
     "output_type": "stream",
     "text": [
      "\r",
      "Running val:  22%|████████████████████████▍                                                                                    | 20/89 [00:08<00:28,  2.45it/s]"
     ]
    },
    {
     "name": "stderr",
     "output_type": "stream",
     "text": [
      "\r",
      "Running val:  24%|█████████████████████████▋                                                                                   | 21/89 [00:08<00:27,  2.50it/s]"
     ]
    },
    {
     "name": "stderr",
     "output_type": "stream",
     "text": [
      "\r",
      "Running val:  25%|██████████████████████████▉                                                                                  | 22/89 [00:09<00:26,  2.49it/s]"
     ]
    },
    {
     "name": "stderr",
     "output_type": "stream",
     "text": [
      "\r",
      "Running val:  26%|████████████████████████████▏                                                                                | 23/89 [00:09<00:26,  2.54it/s]"
     ]
    },
    {
     "name": "stderr",
     "output_type": "stream",
     "text": [
      "\r",
      "Running val:  27%|█████████████████████████████▍                                                                               | 24/89 [00:09<00:26,  2.46it/s]"
     ]
    },
    {
     "name": "stderr",
     "output_type": "stream",
     "text": [
      "\r",
      "Running val:  28%|██████████████████████████████▌                                                                              | 25/89 [00:10<00:26,  2.42it/s]"
     ]
    },
    {
     "name": "stderr",
     "output_type": "stream",
     "text": [
      "\r",
      "Running val:  29%|███████████████████████████████▊                                                                             | 26/89 [00:10<00:26,  2.39it/s]"
     ]
    },
    {
     "name": "stderr",
     "output_type": "stream",
     "text": [
      "\r",
      "Running val:  30%|█████████████████████████████████                                                                            | 27/89 [00:11<00:24,  2.51it/s]"
     ]
    },
    {
     "name": "stderr",
     "output_type": "stream",
     "text": [
      "\r",
      "Running val:  31%|██████████████████████████████████▎                                                                          | 28/89 [00:11<00:24,  2.45it/s]"
     ]
    },
    {
     "name": "stderr",
     "output_type": "stream",
     "text": [
      "\r",
      "Running val:  33%|███████████████████████████████████▌                                                                         | 29/89 [00:11<00:24,  2.40it/s]"
     ]
    },
    {
     "name": "stderr",
     "output_type": "stream",
     "text": [
      "\r",
      "Running val:  34%|████████████████████████████████████▋                                                                        | 30/89 [00:12<00:24,  2.40it/s]"
     ]
    },
    {
     "name": "stderr",
     "output_type": "stream",
     "text": [
      "\r",
      "Running val:  35%|█████████████████████████████████████▉                                                                       | 31/89 [00:12<00:23,  2.46it/s]"
     ]
    },
    {
     "name": "stderr",
     "output_type": "stream",
     "text": [
      "\r",
      "Running val:  36%|███████████████████████████████████████▏                                                                     | 32/89 [00:13<00:23,  2.43it/s]"
     ]
    },
    {
     "name": "stderr",
     "output_type": "stream",
     "text": [
      "\r",
      "Running val:  37%|████████████████████████████████████████▍                                                                    | 33/89 [00:13<00:22,  2.45it/s]"
     ]
    },
    {
     "name": "stderr",
     "output_type": "stream",
     "text": [
      "\r",
      "Running val:  38%|█████████████████████████████████████████▋                                                                   | 34/89 [00:14<00:22,  2.44it/s]"
     ]
    },
    {
     "name": "stderr",
     "output_type": "stream",
     "text": [
      "\r",
      "Running val:  39%|██████████████████████████████████████████▊                                                                  | 35/89 [00:14<00:21,  2.52it/s]"
     ]
    },
    {
     "name": "stderr",
     "output_type": "stream",
     "text": [
      "\r",
      "Running val:  40%|████████████████████████████████████████████                                                                 | 36/89 [00:14<00:21,  2.50it/s]"
     ]
    },
    {
     "name": "stderr",
     "output_type": "stream",
     "text": [
      "\r",
      "Running val:  42%|█████████████████████████████████████████████▎                                                               | 37/89 [00:15<00:19,  2.64it/s]"
     ]
    },
    {
     "name": "stderr",
     "output_type": "stream",
     "text": [
      "\r",
      "Running val:  43%|██████████████████████████████████████████████▌                                                              | 38/89 [00:15<00:20,  2.52it/s]"
     ]
    },
    {
     "name": "stderr",
     "output_type": "stream",
     "text": [
      "\r",
      "Running val:  44%|███████████████████████████████████████████████▊                                                             | 39/89 [00:15<00:19,  2.52it/s]"
     ]
    },
    {
     "name": "stderr",
     "output_type": "stream",
     "text": [
      "\r",
      "Running val:  45%|████████████████████████████████████████████████▉                                                            | 40/89 [00:16<00:19,  2.45it/s]"
     ]
    },
    {
     "name": "stderr",
     "output_type": "stream",
     "text": [
      "\r",
      "Running val:  46%|██████████████████████████████████████████████████▏                                                          | 41/89 [00:16<00:18,  2.56it/s]"
     ]
    },
    {
     "name": "stderr",
     "output_type": "stream",
     "text": [
      "\r",
      "Running val:  47%|███████████████████████████████████████████████████▍                                                         | 42/89 [00:17<00:18,  2.49it/s]"
     ]
    },
    {
     "name": "stderr",
     "output_type": "stream",
     "text": [
      "\r",
      "Running val:  48%|████████████████████████████████████████████████████▋                                                        | 43/89 [00:17<00:18,  2.51it/s]"
     ]
    },
    {
     "name": "stderr",
     "output_type": "stream",
     "text": [
      "\r",
      "Running val:  49%|█████████████████████████████████████████████████████▉                                                       | 44/89 [00:17<00:18,  2.46it/s]"
     ]
    },
    {
     "name": "stderr",
     "output_type": "stream",
     "text": [
      "\r",
      "Running val:  51%|███████████████████████████████████████████████████████                                                      | 45/89 [00:18<00:17,  2.50it/s]"
     ]
    },
    {
     "name": "stderr",
     "output_type": "stream",
     "text": [
      "\r",
      "Running val:  52%|████████████████████████████████████████████████████████▎                                                    | 46/89 [00:18<00:17,  2.42it/s]"
     ]
    },
    {
     "name": "stderr",
     "output_type": "stream",
     "text": [
      "\r",
      "Running val:  53%|█████████████████████████████████████████████████████████▌                                                   | 47/89 [00:19<00:17,  2.44it/s]"
     ]
    },
    {
     "name": "stderr",
     "output_type": "stream",
     "text": [
      "\r",
      "Running val:  54%|██████████████████████████████████████████████████████████▊                                                  | 48/89 [00:19<00:17,  2.38it/s]"
     ]
    },
    {
     "name": "stderr",
     "output_type": "stream",
     "text": [
      "\r",
      "Running val:  55%|████████████████████████████████████████████████████████████                                                 | 49/89 [00:20<00:16,  2.40it/s]"
     ]
    },
    {
     "name": "stderr",
     "output_type": "stream",
     "text": [
      "\r",
      "Running val:  56%|█████████████████████████████████████████████████████████████▏                                               | 50/89 [00:20<00:16,  2.41it/s]"
     ]
    },
    {
     "name": "stderr",
     "output_type": "stream",
     "text": [
      "\r",
      "Running val:  57%|██████████████████████████████████████████████████████████████▍                                              | 51/89 [00:20<00:15,  2.39it/s]"
     ]
    },
    {
     "name": "stderr",
     "output_type": "stream",
     "text": [
      "\r",
      "Running val:  58%|███████████████████████████████████████████████████████████████▋                                             | 52/89 [00:21<00:15,  2.39it/s]"
     ]
    },
    {
     "name": "stderr",
     "output_type": "stream",
     "text": [
      "\r",
      "Running val:  60%|████████████████████████████████████████████████████████████████▉                                            | 53/89 [00:21<00:15,  2.39it/s]"
     ]
    },
    {
     "name": "stderr",
     "output_type": "stream",
     "text": [
      "\r",
      "Running val:  61%|██████████████████████████████████████████████████████████████████▏                                          | 54/89 [00:22<00:14,  2.34it/s]"
     ]
    },
    {
     "name": "stderr",
     "output_type": "stream",
     "text": [
      "\r",
      "Running val:  62%|███████████████████████████████████████████████████████████████████▎                                         | 55/89 [00:22<00:14,  2.37it/s]"
     ]
    },
    {
     "name": "stderr",
     "output_type": "stream",
     "text": [
      "\r",
      "Running val:  63%|████████████████████████████████████████████████████████████████████▌                                        | 56/89 [00:23<00:13,  2.37it/s]"
     ]
    },
    {
     "name": "stderr",
     "output_type": "stream",
     "text": [
      "\r",
      "Running val:  64%|█████████████████████████████████████████████████████████████████████▊                                       | 57/89 [00:23<00:13,  2.35it/s]"
     ]
    },
    {
     "name": "stderr",
     "output_type": "stream",
     "text": [
      "\r",
      "Running val:  65%|███████████████████████████████████████████████████████████████████████                                      | 58/89 [00:23<00:13,  2.35it/s]"
     ]
    },
    {
     "name": "stderr",
     "output_type": "stream",
     "text": [
      "\r",
      "Running val:  66%|████████████████████████████████████████████████████████████████████████▎                                    | 59/89 [00:24<00:12,  2.33it/s]"
     ]
    },
    {
     "name": "stderr",
     "output_type": "stream",
     "text": [
      "\r",
      "Running val:  67%|█████████████████████████████████████████████████████████████████████████▍                                   | 60/89 [00:24<00:12,  2.41it/s]"
     ]
    },
    {
     "name": "stderr",
     "output_type": "stream",
     "text": [
      "\r",
      "Running val:  69%|██████████████████████████████████████████████████████████████████████████▋                                  | 61/89 [00:25<00:12,  2.30it/s]"
     ]
    },
    {
     "name": "stderr",
     "output_type": "stream",
     "text": [
      "\r",
      "Running val:  70%|███████████████████████████████████████████████████████████████████████████▉                                 | 62/89 [00:25<00:10,  2.47it/s]"
     ]
    },
    {
     "name": "stderr",
     "output_type": "stream",
     "text": [
      "\r",
      "Running val:  71%|█████████████████████████████████████████████████████████████████████████████▏                               | 63/89 [00:25<00:10,  2.45it/s]"
     ]
    },
    {
     "name": "stderr",
     "output_type": "stream",
     "text": [
      "\r",
      "Running val:  72%|██████████████████████████████████████████████████████████████████████████████▍                              | 64/89 [00:26<00:09,  2.59it/s]"
     ]
    },
    {
     "name": "stderr",
     "output_type": "stream",
     "text": [
      "\r",
      "Running val:  73%|███████████████████████████████████████████████████████████████████████████████▌                             | 65/89 [00:26<00:09,  2.51it/s]"
     ]
    },
    {
     "name": "stderr",
     "output_type": "stream",
     "text": [
      "\r",
      "Running val:  74%|████████████████████████████████████████████████████████████████████████████████▊                            | 66/89 [00:27<00:08,  2.63it/s]"
     ]
    },
    {
     "name": "stderr",
     "output_type": "stream",
     "text": [
      "\r",
      "Running val:  75%|██████████████████████████████████████████████████████████████████████████████████                           | 67/89 [00:27<00:08,  2.49it/s]"
     ]
    },
    {
     "name": "stderr",
     "output_type": "stream",
     "text": [
      "\r",
      "Running val:  76%|███████████████████████████████████████████████████████████████████████████████████▎                         | 68/89 [00:27<00:08,  2.62it/s]"
     ]
    },
    {
     "name": "stderr",
     "output_type": "stream",
     "text": [
      "\r",
      "Running val:  78%|████████████████████████████████████████████████████████████████████████████████████▌                        | 69/89 [00:28<00:07,  2.53it/s]"
     ]
    },
    {
     "name": "stderr",
     "output_type": "stream",
     "text": [
      "\r",
      "Running val:  79%|█████████████████████████████████████████████████████████████████████████████████████▋                       | 70/89 [00:28<00:07,  2.48it/s]"
     ]
    },
    {
     "name": "stderr",
     "output_type": "stream",
     "text": [
      "\r",
      "Running val:  80%|██████████████████████████████████████████████████████████████████████████████████████▉                      | 71/89 [00:29<00:07,  2.45it/s]"
     ]
    },
    {
     "name": "stderr",
     "output_type": "stream",
     "text": [
      "\r",
      "Running val:  81%|████████████████████████████████████████████████████████████████████████████████████████▏                    | 72/89 [00:29<00:06,  2.57it/s]"
     ]
    },
    {
     "name": "stderr",
     "output_type": "stream",
     "text": [
      "\r",
      "Running val:  82%|█████████████████████████████████████████████████████████████████████████████████████████▍                   | 73/89 [00:29<00:06,  2.51it/s]"
     ]
    },
    {
     "name": "stderr",
     "output_type": "stream",
     "text": [
      "\r",
      "Running val:  83%|██████████████████████████████████████████████████████████████████████████████████████████▋                  | 74/89 [00:30<00:05,  2.51it/s]"
     ]
    },
    {
     "name": "stderr",
     "output_type": "stream",
     "text": [
      "\r",
      "Running val:  84%|███████████████████████████████████████████████████████████████████████████████████████████▊                 | 75/89 [00:30<00:05,  2.39it/s]"
     ]
    },
    {
     "name": "stderr",
     "output_type": "stream",
     "text": [
      "\r",
      "Running val:  85%|█████████████████████████████████████████████████████████████████████████████████████████████                | 76/89 [00:31<00:05,  2.44it/s]"
     ]
    },
    {
     "name": "stderr",
     "output_type": "stream",
     "text": [
      "\r",
      "Running val:  87%|██████████████████████████████████████████████████████████████████████████████████████████████▎              | 77/89 [00:31<00:04,  2.41it/s]"
     ]
    },
    {
     "name": "stderr",
     "output_type": "stream",
     "text": [
      "\r",
      "Running val:  88%|███████████████████████████████████████████████████████████████████████████████████████████████▌             | 78/89 [00:31<00:04,  2.44it/s]"
     ]
    },
    {
     "name": "stderr",
     "output_type": "stream",
     "text": [
      "\r",
      "Running val:  89%|████████████████████████████████████████████████████████████████████████████████████████████████▊            | 79/89 [00:32<00:04,  2.42it/s]"
     ]
    },
    {
     "name": "stderr",
     "output_type": "stream",
     "text": [
      "\r",
      "Running val:  90%|█████████████████████████████████████████████████████████████████████████████████████████████████▉           | 80/89 [00:32<00:03,  2.43it/s]"
     ]
    },
    {
     "name": "stderr",
     "output_type": "stream",
     "text": [
      "\r",
      "Running val:  91%|███████████████████████████████████████████████████████████████████████████████████████████████████▏         | 81/89 [00:33<00:03,  2.41it/s]"
     ]
    },
    {
     "name": "stderr",
     "output_type": "stream",
     "text": [
      "\r",
      "Running val:  92%|████████████████████████████████████████████████████████████████████████████████████████████████████▍        | 82/89 [00:33<00:02,  2.45it/s]"
     ]
    },
    {
     "name": "stderr",
     "output_type": "stream",
     "text": [
      "\r",
      "Running val:  93%|█████████████████████████████████████████████████████████████████████████████████████████████████████▋       | 83/89 [00:34<00:02,  2.44it/s]"
     ]
    },
    {
     "name": "stderr",
     "output_type": "stream",
     "text": [
      "\r",
      "Running val:  94%|██████████████████████████████████████████████████████████████████████████████████████████████████████▉      | 84/89 [00:34<00:01,  2.52it/s]"
     ]
    },
    {
     "name": "stderr",
     "output_type": "stream",
     "text": [
      "\r",
      "Running val:  96%|████████████████████████████████████████████████████████████████████████████████████████████████████████     | 85/89 [00:34<00:01,  2.46it/s]"
     ]
    },
    {
     "name": "stderr",
     "output_type": "stream",
     "text": [
      "\r",
      "Running val:  97%|█████████████████████████████████████████████████████████████████████████████████████████████████████████▎   | 86/89 [00:35<00:01,  2.56it/s]"
     ]
    },
    {
     "name": "stderr",
     "output_type": "stream",
     "text": [
      "\r",
      "Running val:  98%|██████████████████████████████████████████████████████████████████████████████████████████████████████████▌  | 87/89 [00:35<00:00,  2.52it/s]"
     ]
    },
    {
     "name": "stderr",
     "output_type": "stream",
     "text": [
      "\r",
      "Running val:  99%|███████████████████████████████████████████████████████████████████████████████████████████████████████████▊ | 88/89 [00:35<00:00,  2.51it/s]"
     ]
    },
    {
     "name": "stderr",
     "output_type": "stream",
     "text": [
      "\r",
      "Running val: 100%|█████████████████████████████████████████████████████████████████████████████████████████████████████████████| 89/89 [00:36<00:00,  3.01it/s]"
     ]
    },
    {
     "name": "stderr",
     "output_type": "stream",
     "text": [
      "\r",
      "Running val: 100%|█████████████████████████████████████████████████████████████████████████████████████████████████████████████| 89/89 [00:36<00:00,  2.46it/s]"
     ]
    },
    {
     "name": "stderr",
     "output_type": "stream",
     "text": [
      "\n"
     ]
    },
    {
     "name": "stdout",
     "output_type": "stream",
     "text": [
      "val Loss: 1.6764 Acc: 0.4112\n",
      "val Epoch Entropy: 0.6944\n",
      "\n",
      "Epoch 4/499\n",
      "----------\n"
     ]
    },
    {
     "name": "stderr",
     "output_type": "stream",
     "text": [
      "\r",
      "Running train:   0%|                                                                                                                   | 0/354 [00:00<?, ?it/s]"
     ]
    },
    {
     "name": "stderr",
     "output_type": "stream",
     "text": [
      "\r",
      "Running train:   0%|▎                                                                                                          | 1/354 [00:00<04:26,  1.33it/s]"
     ]
    },
    {
     "name": "stderr",
     "output_type": "stream",
     "text": [
      "\r",
      "Running train:   1%|▌                                                                                                          | 2/354 [00:01<04:30,  1.30it/s]"
     ]
    },
    {
     "name": "stderr",
     "output_type": "stream",
     "text": [
      "\r",
      "Running train:   1%|▉                                                                                                          | 3/354 [00:02<04:35,  1.27it/s]"
     ]
    },
    {
     "name": "stderr",
     "output_type": "stream",
     "text": [
      "\r",
      "Running train:   1%|█▏                                                                                                         | 4/354 [00:03<04:35,  1.27it/s]"
     ]
    },
    {
     "name": "stderr",
     "output_type": "stream",
     "text": [
      "\r",
      "Running train:   1%|█▌                                                                                                         | 5/354 [00:03<04:33,  1.28it/s]"
     ]
    },
    {
     "name": "stderr",
     "output_type": "stream",
     "text": [
      "\r",
      "Running train:   2%|█▊                                                                                                         | 6/354 [00:04<04:24,  1.31it/s]"
     ]
    },
    {
     "name": "stderr",
     "output_type": "stream",
     "text": [
      "\r",
      "Running train:   2%|██                                                                                                         | 7/354 [00:05<04:18,  1.34it/s]"
     ]
    },
    {
     "name": "stderr",
     "output_type": "stream",
     "text": [
      "\r",
      "Running train:   2%|██▍                                                                                                        | 8/354 [00:06<04:21,  1.32it/s]"
     ]
    },
    {
     "name": "stderr",
     "output_type": "stream",
     "text": [
      "\r",
      "Running train:   3%|██▋                                                                                                        | 9/354 [00:06<04:16,  1.35it/s]"
     ]
    },
    {
     "name": "stderr",
     "output_type": "stream",
     "text": [
      "\r",
      "Running train:   3%|██▉                                                                                                       | 10/354 [00:07<04:13,  1.36it/s]"
     ]
    },
    {
     "name": "stderr",
     "output_type": "stream",
     "text": [
      "\r",
      "Running train:   3%|███▎                                                                                                      | 11/354 [00:08<04:11,  1.37it/s]"
     ]
    },
    {
     "name": "stderr",
     "output_type": "stream",
     "text": [
      "\r",
      "Running train:   3%|███▌                                                                                                      | 12/354 [00:09<04:10,  1.36it/s]"
     ]
    },
    {
     "name": "stderr",
     "output_type": "stream",
     "text": [
      "\r",
      "Running train:   4%|███▉                                                                                                      | 13/354 [00:09<04:24,  1.29it/s]"
     ]
    },
    {
     "name": "stderr",
     "output_type": "stream",
     "text": [
      "\r",
      "Running train:   4%|████▏                                                                                                     | 14/354 [00:10<04:21,  1.30it/s]"
     ]
    },
    {
     "name": "stderr",
     "output_type": "stream",
     "text": [
      "\r",
      "Running train:   4%|████▍                                                                                                     | 15/354 [00:11<04:22,  1.29it/s]"
     ]
    },
    {
     "name": "stderr",
     "output_type": "stream",
     "text": [
      "\r",
      "Running train:   5%|████▊                                                                                                     | 16/354 [00:12<04:25,  1.27it/s]"
     ]
    },
    {
     "name": "stderr",
     "output_type": "stream",
     "text": [
      "\r",
      "Running train:   5%|█████                                                                                                     | 17/354 [00:13<04:24,  1.27it/s]"
     ]
    },
    {
     "name": "stderr",
     "output_type": "stream",
     "text": [
      "\r",
      "Running train:   5%|█████▍                                                                                                    | 18/354 [00:13<04:19,  1.30it/s]"
     ]
    },
    {
     "name": "stderr",
     "output_type": "stream",
     "text": [
      "\r",
      "Running train:   5%|█████▋                                                                                                    | 19/354 [00:14<04:11,  1.33it/s]"
     ]
    },
    {
     "name": "stderr",
     "output_type": "stream",
     "text": [
      "\r",
      "Running train:   6%|█████▉                                                                                                    | 20/354 [00:15<04:17,  1.30it/s]"
     ]
    },
    {
     "name": "stderr",
     "output_type": "stream",
     "text": [
      "\r",
      "Running train:   6%|██████▎                                                                                                   | 21/354 [00:16<04:17,  1.29it/s]"
     ]
    },
    {
     "name": "stderr",
     "output_type": "stream",
     "text": [
      "\r",
      "Running train:   6%|██████▌                                                                                                   | 22/354 [00:16<04:19,  1.28it/s]"
     ]
    },
    {
     "name": "stderr",
     "output_type": "stream",
     "text": [
      "\r",
      "Running train:   6%|██████▉                                                                                                   | 23/354 [00:17<04:20,  1.27it/s]"
     ]
    },
    {
     "name": "stderr",
     "output_type": "stream",
     "text": [
      "\r",
      "Running train:   7%|███████▏                                                                                                  | 24/354 [00:18<04:18,  1.28it/s]"
     ]
    },
    {
     "name": "stderr",
     "output_type": "stream",
     "text": [
      "\r",
      "Running train:   7%|███████▍                                                                                                  | 25/354 [00:19<04:17,  1.28it/s]"
     ]
    },
    {
     "name": "stderr",
     "output_type": "stream",
     "text": [
      "\r",
      "Running train:   7%|███████▊                                                                                                  | 26/354 [00:19<04:13,  1.30it/s]"
     ]
    },
    {
     "name": "stderr",
     "output_type": "stream",
     "text": [
      "\r",
      "Running train:   8%|████████                                                                                                  | 27/354 [00:20<04:08,  1.31it/s]"
     ]
    },
    {
     "name": "stderr",
     "output_type": "stream",
     "text": [
      "\r",
      "Running train:   8%|████████▍                                                                                                 | 28/354 [00:21<04:12,  1.29it/s]"
     ]
    },
    {
     "name": "stderr",
     "output_type": "stream",
     "text": [
      "\r",
      "Running train:   8%|████████▋                                                                                                 | 29/354 [00:22<04:14,  1.28it/s]"
     ]
    },
    {
     "name": "stderr",
     "output_type": "stream",
     "text": [
      "\r",
      "Running train:   8%|████████▉                                                                                                 | 30/354 [00:23<04:14,  1.27it/s]"
     ]
    },
    {
     "name": "stderr",
     "output_type": "stream",
     "text": [
      "\r",
      "Running train:   9%|█████████▎                                                                                                | 31/354 [00:23<04:16,  1.26it/s]"
     ]
    },
    {
     "name": "stderr",
     "output_type": "stream",
     "text": [
      "\r",
      "Running train:   9%|█████████▌                                                                                                | 32/354 [00:24<04:15,  1.26it/s]"
     ]
    },
    {
     "name": "stderr",
     "output_type": "stream",
     "text": [
      "\r",
      "Running train:   9%|█████████▉                                                                                                | 33/354 [00:25<04:15,  1.25it/s]"
     ]
    },
    {
     "name": "stderr",
     "output_type": "stream",
     "text": [
      "\r",
      "Running train:  10%|██████████▏                                                                                               | 34/354 [00:26<04:14,  1.26it/s]"
     ]
    },
    {
     "name": "stderr",
     "output_type": "stream",
     "text": [
      "\r",
      "Running train:  10%|██████████▍                                                                                               | 35/354 [00:27<04:13,  1.26it/s]"
     ]
    },
    {
     "name": "stderr",
     "output_type": "stream",
     "text": [
      "\r",
      "Running train:  10%|██████████▊                                                                                               | 36/354 [00:27<04:10,  1.27it/s]"
     ]
    },
    {
     "name": "stderr",
     "output_type": "stream",
     "text": [
      "\r",
      "Running train:  10%|███████████                                                                                               | 37/354 [00:28<04:23,  1.20it/s]"
     ]
    },
    {
     "name": "stderr",
     "output_type": "stream",
     "text": [
      "\r",
      "Running train:  11%|███████████▍                                                                                              | 38/354 [00:29<04:22,  1.20it/s]"
     ]
    },
    {
     "name": "stderr",
     "output_type": "stream",
     "text": [
      "\r",
      "Running train:  11%|███████████▋                                                                                              | 39/354 [00:30<04:20,  1.21it/s]"
     ]
    },
    {
     "name": "stderr",
     "output_type": "stream",
     "text": [
      "\r",
      "Running train:  11%|███████████▉                                                                                              | 40/354 [00:31<04:17,  1.22it/s]"
     ]
    },
    {
     "name": "stderr",
     "output_type": "stream",
     "text": [
      "\r",
      "Running train:  12%|████████████▎                                                                                             | 41/354 [00:32<04:17,  1.22it/s]"
     ]
    },
    {
     "name": "stderr",
     "output_type": "stream",
     "text": [
      "\r",
      "Running train:  12%|████████████▌                                                                                             | 42/354 [00:32<04:17,  1.21it/s]"
     ]
    },
    {
     "name": "stderr",
     "output_type": "stream",
     "text": [
      "\r",
      "Running train:  12%|████████████▉                                                                                             | 43/354 [00:33<04:17,  1.21it/s]"
     ]
    },
    {
     "name": "stderr",
     "output_type": "stream",
     "text": [
      "\r",
      "Running train:  12%|█████████████▏                                                                                            | 44/354 [00:34<04:14,  1.22it/s]"
     ]
    },
    {
     "name": "stderr",
     "output_type": "stream",
     "text": [
      "\r",
      "Running train:  13%|█████████████▍                                                                                            | 45/354 [00:35<04:10,  1.23it/s]"
     ]
    },
    {
     "name": "stderr",
     "output_type": "stream",
     "text": [
      "\r",
      "Running train:  13%|█████████████▊                                                                                            | 46/354 [00:36<04:12,  1.22it/s]"
     ]
    },
    {
     "name": "stderr",
     "output_type": "stream",
     "text": [
      "\r",
      "Running train:  13%|██████████████                                                                                            | 47/354 [00:36<04:07,  1.24it/s]"
     ]
    },
    {
     "name": "stderr",
     "output_type": "stream",
     "text": [
      "\r",
      "Running train:  14%|██████████████▎                                                                                           | 48/354 [00:37<04:04,  1.25it/s]"
     ]
    },
    {
     "name": "stderr",
     "output_type": "stream",
     "text": [
      "\r",
      "Running train:  14%|██████████████▋                                                                                           | 49/354 [00:38<04:05,  1.24it/s]"
     ]
    },
    {
     "name": "stderr",
     "output_type": "stream",
     "text": [
      "\r",
      "Running train:  14%|██████████████▉                                                                                           | 50/354 [00:39<04:00,  1.26it/s]"
     ]
    },
    {
     "name": "stderr",
     "output_type": "stream",
     "text": [
      "\r",
      "Running train:  14%|███████████████▎                                                                                          | 51/354 [00:40<04:08,  1.22it/s]"
     ]
    },
    {
     "name": "stderr",
     "output_type": "stream",
     "text": [
      "\r",
      "Running train:  15%|███████████████▌                                                                                          | 52/354 [00:40<04:02,  1.25it/s]"
     ]
    },
    {
     "name": "stderr",
     "output_type": "stream",
     "text": [
      "\r",
      "Running train:  15%|███████████████▊                                                                                          | 53/354 [00:41<03:59,  1.26it/s]"
     ]
    },
    {
     "name": "stderr",
     "output_type": "stream",
     "text": [
      "\r",
      "Running train:  15%|████████████████▏                                                                                         | 54/354 [00:42<03:55,  1.27it/s]"
     ]
    },
    {
     "name": "stderr",
     "output_type": "stream",
     "text": [
      "\r",
      "Running train:  16%|████████████████▍                                                                                         | 55/354 [00:43<03:55,  1.27it/s]"
     ]
    },
    {
     "name": "stderr",
     "output_type": "stream",
     "text": [
      "\r",
      "Running train:  16%|████████████████▊                                                                                         | 56/354 [00:44<03:51,  1.29it/s]"
     ]
    },
    {
     "name": "stderr",
     "output_type": "stream",
     "text": [
      "\r",
      "Running train:  16%|█████████████████                                                                                         | 57/354 [00:44<03:53,  1.27it/s]"
     ]
    },
    {
     "name": "stderr",
     "output_type": "stream",
     "text": [
      "\r",
      "Running train:  16%|█████████████████▎                                                                                        | 58/354 [00:45<03:54,  1.26it/s]"
     ]
    },
    {
     "name": "stderr",
     "output_type": "stream",
     "text": [
      "\r",
      "Running train:  17%|█████████████████▋                                                                                        | 59/354 [00:46<03:49,  1.29it/s]"
     ]
    },
    {
     "name": "stderr",
     "output_type": "stream",
     "text": [
      "\r",
      "Running train:  17%|█████████████████▉                                                                                        | 60/354 [00:47<03:54,  1.25it/s]"
     ]
    },
    {
     "name": "stderr",
     "output_type": "stream",
     "text": [
      "\r",
      "Running train:  17%|██████████████████▎                                                                                       | 61/354 [00:48<03:52,  1.26it/s]"
     ]
    },
    {
     "name": "stderr",
     "output_type": "stream",
     "text": [
      "\r",
      "Running train:  18%|██████████████████▌                                                                                       | 62/354 [00:48<03:51,  1.26it/s]"
     ]
    },
    {
     "name": "stderr",
     "output_type": "stream",
     "text": [
      "\r",
      "Running train:  18%|██████████████████▊                                                                                       | 63/354 [00:49<03:48,  1.27it/s]"
     ]
    },
    {
     "name": "stderr",
     "output_type": "stream",
     "text": [
      "\r",
      "Running train:  18%|███████████████████▏                                                                                      | 64/354 [00:50<03:45,  1.29it/s]"
     ]
    },
    {
     "name": "stderr",
     "output_type": "stream",
     "text": [
      "\r",
      "Running train:  18%|███████████████████▍                                                                                      | 65/354 [00:51<03:44,  1.29it/s]"
     ]
    },
    {
     "name": "stderr",
     "output_type": "stream",
     "text": [
      "\r",
      "Running train:  19%|███████████████████▊                                                                                      | 66/354 [00:51<03:38,  1.32it/s]"
     ]
    },
    {
     "name": "stderr",
     "output_type": "stream",
     "text": [
      "\r",
      "Running train:  19%|████████████████████                                                                                      | 67/354 [00:52<03:41,  1.29it/s]"
     ]
    },
    {
     "name": "stderr",
     "output_type": "stream",
     "text": [
      "\r",
      "Running train:  19%|████████████████████▎                                                                                     | 68/354 [00:53<03:38,  1.31it/s]"
     ]
    },
    {
     "name": "stderr",
     "output_type": "stream",
     "text": [
      "\r",
      "Running train:  19%|████████████████████▋                                                                                     | 69/354 [00:54<03:40,  1.29it/s]"
     ]
    },
    {
     "name": "stderr",
     "output_type": "stream",
     "text": [
      "\r",
      "Running train:  20%|████████████████████▉                                                                                     | 70/354 [00:54<03:40,  1.29it/s]"
     ]
    },
    {
     "name": "stderr",
     "output_type": "stream",
     "text": [
      "\r",
      "Running train:  20%|█████████████████████▎                                                                                    | 71/354 [00:55<03:35,  1.31it/s]"
     ]
    },
    {
     "name": "stderr",
     "output_type": "stream",
     "text": [
      "\r",
      "Running train:  20%|█████████████████████▌                                                                                    | 72/354 [00:56<03:32,  1.32it/s]"
     ]
    },
    {
     "name": "stderr",
     "output_type": "stream",
     "text": [
      "\r",
      "Running train:  21%|█████████████████████▊                                                                                    | 73/354 [00:57<03:31,  1.33it/s]"
     ]
    },
    {
     "name": "stderr",
     "output_type": "stream",
     "text": [
      "\r",
      "Running train:  21%|██████████████████████▏                                                                                   | 74/354 [00:57<03:34,  1.31it/s]"
     ]
    },
    {
     "name": "stderr",
     "output_type": "stream",
     "text": [
      "\r",
      "Running train:  21%|██████████████████████▍                                                                                   | 75/354 [00:58<03:35,  1.29it/s]"
     ]
    },
    {
     "name": "stderr",
     "output_type": "stream",
     "text": [
      "\r",
      "Running train:  21%|██████████████████████▊                                                                                   | 76/354 [00:59<03:35,  1.29it/s]"
     ]
    },
    {
     "name": "stderr",
     "output_type": "stream",
     "text": [
      "\r",
      "Running train:  22%|███████████████████████                                                                                   | 77/354 [01:00<03:32,  1.30it/s]"
     ]
    },
    {
     "name": "stderr",
     "output_type": "stream",
     "text": [
      "\r",
      "Running train:  22%|███████████████████████▎                                                                                  | 78/354 [01:01<03:32,  1.30it/s]"
     ]
    },
    {
     "name": "stderr",
     "output_type": "stream",
     "text": [
      "\r",
      "Running train:  22%|███████████████████████▋                                                                                  | 79/354 [01:01<03:29,  1.31it/s]"
     ]
    },
    {
     "name": "stderr",
     "output_type": "stream",
     "text": [
      "\r",
      "Running train:  23%|███████████████████████▉                                                                                  | 80/354 [01:02<03:28,  1.31it/s]"
     ]
    },
    {
     "name": "stderr",
     "output_type": "stream",
     "text": [
      "\r",
      "Running train:  23%|████████████████████████▎                                                                                 | 81/354 [01:03<03:29,  1.30it/s]"
     ]
    },
    {
     "name": "stderr",
     "output_type": "stream",
     "text": [
      "\r",
      "Running train:  23%|████████████████████████▌                                                                                 | 82/354 [01:04<03:31,  1.28it/s]"
     ]
    },
    {
     "name": "stderr",
     "output_type": "stream",
     "text": [
      "\r",
      "Running train:  23%|████████████████████████▊                                                                                 | 83/354 [01:04<03:27,  1.31it/s]"
     ]
    },
    {
     "name": "stderr",
     "output_type": "stream",
     "text": [
      "\r",
      "Running train:  24%|█████████████████████████▏                                                                                | 84/354 [01:05<03:29,  1.29it/s]"
     ]
    },
    {
     "name": "stderr",
     "output_type": "stream",
     "text": [
      "\r",
      "Running train:  24%|█████████████████████████▍                                                                                | 85/354 [01:06<03:32,  1.27it/s]"
     ]
    },
    {
     "name": "stderr",
     "output_type": "stream",
     "text": [
      "\r",
      "Running train:  24%|█████████████████████████▊                                                                                | 86/354 [01:07<03:27,  1.29it/s]"
     ]
    },
    {
     "name": "stderr",
     "output_type": "stream",
     "text": [
      "\r",
      "Running train:  25%|██████████████████████████                                                                                | 87/354 [01:08<03:28,  1.28it/s]"
     ]
    },
    {
     "name": "stderr",
     "output_type": "stream",
     "text": [
      "\r",
      "Running train:  25%|██████████████████████████▎                                                                               | 88/354 [01:08<03:28,  1.28it/s]"
     ]
    },
    {
     "name": "stderr",
     "output_type": "stream",
     "text": [
      "\r",
      "Running train:  25%|██████████████████████████▋                                                                               | 89/354 [01:09<03:22,  1.31it/s]"
     ]
    },
    {
     "name": "stderr",
     "output_type": "stream",
     "text": [
      "\r",
      "Running train:  25%|██████████████████████████▉                                                                               | 90/354 [01:10<03:23,  1.30it/s]"
     ]
    },
    {
     "name": "stderr",
     "output_type": "stream",
     "text": [
      "\r",
      "Running train:  26%|███████████████████████████▏                                                                              | 91/354 [01:11<03:22,  1.30it/s]"
     ]
    },
    {
     "name": "stderr",
     "output_type": "stream",
     "text": [
      "\r",
      "Running train:  26%|███████████████████████████▌                                                                              | 92/354 [01:11<03:22,  1.29it/s]"
     ]
    },
    {
     "name": "stderr",
     "output_type": "stream",
     "text": [
      "\r",
      "Running train:  26%|███████████████████████████▊                                                                              | 93/354 [01:12<03:24,  1.28it/s]"
     ]
    },
    {
     "name": "stderr",
     "output_type": "stream",
     "text": [
      "\r",
      "Running train:  27%|████████████████████████████▏                                                                             | 94/354 [01:13<03:21,  1.29it/s]"
     ]
    },
    {
     "name": "stderr",
     "output_type": "stream",
     "text": [
      "\r",
      "Running train:  27%|████████████████████████████▍                                                                             | 95/354 [01:14<03:21,  1.29it/s]"
     ]
    },
    {
     "name": "stderr",
     "output_type": "stream",
     "text": [
      "\r",
      "Running train:  27%|████████████████████████████▋                                                                             | 96/354 [01:15<03:19,  1.29it/s]"
     ]
    },
    {
     "name": "stderr",
     "output_type": "stream",
     "text": [
      "\r",
      "Running train:  27%|█████████████████████████████                                                                             | 97/354 [01:15<03:20,  1.28it/s]"
     ]
    },
    {
     "name": "stderr",
     "output_type": "stream",
     "text": [
      "\r",
      "Running train:  28%|█████████████████████████████▎                                                                            | 98/354 [01:16<03:17,  1.30it/s]"
     ]
    },
    {
     "name": "stderr",
     "output_type": "stream",
     "text": [
      "\r",
      "Running train:  28%|█████████████████████████████▋                                                                            | 99/354 [01:17<03:18,  1.28it/s]"
     ]
    },
    {
     "name": "stderr",
     "output_type": "stream",
     "text": [
      "\r",
      "Running train:  28%|█████████████████████████████▋                                                                           | 100/354 [01:18<03:16,  1.29it/s]"
     ]
    },
    {
     "name": "stderr",
     "output_type": "stream",
     "text": [
      "\r",
      "Running train:  29%|█████████████████████████████▉                                                                           | 101/354 [01:18<03:22,  1.25it/s]"
     ]
    },
    {
     "name": "stderr",
     "output_type": "stream",
     "text": [
      "\r",
      "Running train:  29%|██████████████████████████████▎                                                                          | 102/354 [01:19<03:21,  1.25it/s]"
     ]
    },
    {
     "name": "stderr",
     "output_type": "stream",
     "text": [
      "\r",
      "Running train:  29%|██████████████████████████████▌                                                                          | 103/354 [01:20<03:21,  1.24it/s]"
     ]
    },
    {
     "name": "stderr",
     "output_type": "stream",
     "text": [
      "\r",
      "Running train:  29%|██████████████████████████████▊                                                                          | 104/354 [01:21<03:17,  1.27it/s]"
     ]
    },
    {
     "name": "stderr",
     "output_type": "stream",
     "text": [
      "\r",
      "Running train:  30%|███████████████████████████████▏                                                                         | 105/354 [01:22<03:16,  1.27it/s]"
     ]
    },
    {
     "name": "stderr",
     "output_type": "stream",
     "text": [
      "\r",
      "Running train:  30%|███████████████████████████████▍                                                                         | 106/354 [01:22<03:15,  1.27it/s]"
     ]
    },
    {
     "name": "stderr",
     "output_type": "stream",
     "text": [
      "\r",
      "Running train:  30%|███████████████████████████████▋                                                                         | 107/354 [01:23<03:14,  1.27it/s]"
     ]
    },
    {
     "name": "stderr",
     "output_type": "stream",
     "text": [
      "\r",
      "Running train:  31%|████████████████████████████████                                                                         | 108/354 [01:24<03:10,  1.29it/s]"
     ]
    },
    {
     "name": "stderr",
     "output_type": "stream",
     "text": [
      "\r",
      "Running train:  31%|████████████████████████████████▎                                                                        | 109/354 [01:25<03:11,  1.28it/s]"
     ]
    },
    {
     "name": "stderr",
     "output_type": "stream",
     "text": [
      "\r",
      "Running train:  31%|████████████████████████████████▋                                                                        | 110/354 [01:26<03:13,  1.26it/s]"
     ]
    },
    {
     "name": "stderr",
     "output_type": "stream",
     "text": [
      "\r",
      "Running train:  31%|████████████████████████████████▉                                                                        | 111/354 [01:26<03:10,  1.27it/s]"
     ]
    },
    {
     "name": "stderr",
     "output_type": "stream",
     "text": [
      "\r",
      "Running train:  32%|█████████████████████████████████▏                                                                       | 112/354 [01:27<03:09,  1.27it/s]"
     ]
    },
    {
     "name": "stderr",
     "output_type": "stream",
     "text": [
      "\r",
      "Running train:  32%|█████████████████████████████████▌                                                                       | 113/354 [01:28<03:09,  1.27it/s]"
     ]
    },
    {
     "name": "stderr",
     "output_type": "stream",
     "text": [
      "\r",
      "Running train:  32%|█████████████████████████████████▊                                                                       | 114/354 [01:29<03:12,  1.25it/s]"
     ]
    },
    {
     "name": "stderr",
     "output_type": "stream",
     "text": [
      "\r",
      "Running train:  32%|██████████████████████████████████                                                                       | 115/354 [01:29<03:08,  1.27it/s]"
     ]
    },
    {
     "name": "stderr",
     "output_type": "stream",
     "text": [
      "\r",
      "Running train:  33%|██████████████████████████████████▍                                                                      | 116/354 [01:30<03:05,  1.28it/s]"
     ]
    },
    {
     "name": "stderr",
     "output_type": "stream",
     "text": [
      "\r",
      "Running train:  33%|██████████████████████████████████▋                                                                      | 117/354 [01:31<03:03,  1.29it/s]"
     ]
    },
    {
     "name": "stderr",
     "output_type": "stream",
     "text": [
      "\r",
      "Running train:  33%|███████████████████████████████████                                                                      | 118/354 [01:32<03:05,  1.28it/s]"
     ]
    },
    {
     "name": "stderr",
     "output_type": "stream",
     "text": [
      "\r",
      "Running train:  34%|███████████████████████████████████▎                                                                     | 119/354 [01:33<03:05,  1.27it/s]"
     ]
    },
    {
     "name": "stderr",
     "output_type": "stream",
     "text": [
      "\r",
      "Running train:  34%|███████████████████████████████████▌                                                                     | 120/354 [01:33<03:04,  1.27it/s]"
     ]
    },
    {
     "name": "stderr",
     "output_type": "stream",
     "text": [
      "\r",
      "Running train:  34%|███████████████████████████████████▉                                                                     | 121/354 [01:34<03:02,  1.28it/s]"
     ]
    },
    {
     "name": "stderr",
     "output_type": "stream",
     "text": [
      "\r",
      "Running train:  34%|████████████████████████████████████▏                                                                    | 122/354 [01:35<03:04,  1.26it/s]"
     ]
    },
    {
     "name": "stderr",
     "output_type": "stream",
     "text": [
      "\r",
      "Running train:  35%|████████████████████████████████████▍                                                                    | 123/354 [01:36<03:02,  1.26it/s]"
     ]
    },
    {
     "name": "stderr",
     "output_type": "stream",
     "text": [
      "\r",
      "Running train:  35%|████████████████████████████████████▊                                                                    | 124/354 [01:37<02:59,  1.28it/s]"
     ]
    },
    {
     "name": "stderr",
     "output_type": "stream",
     "text": [
      "\r",
      "Running train:  35%|█████████████████████████████████████                                                                    | 125/354 [01:37<03:00,  1.27it/s]"
     ]
    },
    {
     "name": "stderr",
     "output_type": "stream",
     "text": [
      "\r",
      "Running train:  36%|█████████████████████████████████████▎                                                                   | 126/354 [01:38<02:57,  1.28it/s]"
     ]
    },
    {
     "name": "stderr",
     "output_type": "stream",
     "text": [
      "\r",
      "Running train:  36%|█████████████████████████████████████▋                                                                   | 127/354 [01:39<02:58,  1.27it/s]"
     ]
    },
    {
     "name": "stderr",
     "output_type": "stream",
     "text": [
      "\r",
      "Running train:  36%|█████████████████████████████████████▉                                                                   | 128/354 [01:40<02:55,  1.28it/s]"
     ]
    },
    {
     "name": "stderr",
     "output_type": "stream",
     "text": [
      "\r",
      "Running train:  36%|██████████████████████████████████████▎                                                                  | 129/354 [01:40<02:57,  1.27it/s]"
     ]
    },
    {
     "name": "stderr",
     "output_type": "stream",
     "text": [
      "\r",
      "Running train:  37%|██████████████████████████████████████▌                                                                  | 130/354 [01:41<02:55,  1.28it/s]"
     ]
    },
    {
     "name": "stderr",
     "output_type": "stream",
     "text": [
      "\r",
      "Running train:  37%|██████████████████████████████████████▊                                                                  | 131/354 [01:42<02:53,  1.29it/s]"
     ]
    },
    {
     "name": "stderr",
     "output_type": "stream",
     "text": [
      "\r",
      "Running train:  37%|███████████████████████████████████████▏                                                                 | 132/354 [01:43<02:52,  1.29it/s]"
     ]
    },
    {
     "name": "stderr",
     "output_type": "stream",
     "text": [
      "\r",
      "Running train:  38%|███████████████████████████████████████▍                                                                 | 133/354 [01:44<02:52,  1.28it/s]"
     ]
    },
    {
     "name": "stderr",
     "output_type": "stream",
     "text": [
      "\r",
      "Running train:  38%|███████████████████████████████████████▋                                                                 | 134/354 [01:44<02:52,  1.28it/s]"
     ]
    },
    {
     "name": "stderr",
     "output_type": "stream",
     "text": [
      "\r",
      "Running train:  38%|████████████████████████████████████████                                                                 | 135/354 [01:45<02:49,  1.29it/s]"
     ]
    },
    {
     "name": "stderr",
     "output_type": "stream",
     "text": [
      "\r",
      "Running train:  38%|████████████████████████████████████████▎                                                                | 136/354 [01:46<02:50,  1.28it/s]"
     ]
    },
    {
     "name": "stderr",
     "output_type": "stream",
     "text": [
      "\r",
      "Running train:  39%|████████████████████████████████████████▋                                                                | 137/354 [01:47<02:46,  1.30it/s]"
     ]
    },
    {
     "name": "stderr",
     "output_type": "stream",
     "text": [
      "\r",
      "Running train:  39%|████████████████████████████████████████▉                                                                | 138/354 [01:47<02:43,  1.32it/s]"
     ]
    },
    {
     "name": "stderr",
     "output_type": "stream",
     "text": [
      "\r",
      "Running train:  39%|█████████████████████████████████████████▏                                                               | 139/354 [01:48<02:43,  1.32it/s]"
     ]
    },
    {
     "name": "stderr",
     "output_type": "stream",
     "text": [
      "\r",
      "Running train:  40%|█████████████████████████████████████████▌                                                               | 140/354 [01:49<02:41,  1.33it/s]"
     ]
    },
    {
     "name": "stderr",
     "output_type": "stream",
     "text": [
      "\r",
      "Running train:  40%|█████████████████████████████████████████▊                                                               | 141/354 [01:50<02:37,  1.36it/s]"
     ]
    },
    {
     "name": "stderr",
     "output_type": "stream",
     "text": [
      "\r",
      "Running train:  40%|██████████████████████████████████████████                                                               | 142/354 [01:50<02:40,  1.32it/s]"
     ]
    },
    {
     "name": "stderr",
     "output_type": "stream",
     "text": [
      "\r",
      "Running train:  40%|██████████████████████████████████████████▍                                                              | 143/354 [01:51<02:43,  1.29it/s]"
     ]
    },
    {
     "name": "stderr",
     "output_type": "stream",
     "text": [
      "\r",
      "Running train:  41%|██████████████████████████████████████████▋                                                              | 144/354 [01:52<02:44,  1.28it/s]"
     ]
    },
    {
     "name": "stderr",
     "output_type": "stream",
     "text": [
      "\r",
      "Running train:  41%|███████████████████████████████████████████                                                              | 145/354 [01:53<02:44,  1.27it/s]"
     ]
    },
    {
     "name": "stderr",
     "output_type": "stream",
     "text": [
      "\r",
      "Running train:  41%|███████████████████████████████████████████▎                                                             | 146/354 [01:54<02:41,  1.29it/s]"
     ]
    },
    {
     "name": "stderr",
     "output_type": "stream",
     "text": [
      "\r",
      "Running train:  42%|███████████████████████████████████████████▌                                                             | 147/354 [01:54<02:41,  1.28it/s]"
     ]
    },
    {
     "name": "stderr",
     "output_type": "stream",
     "text": [
      "\r",
      "Running train:  42%|███████████████████████████████████████████▉                                                             | 148/354 [01:55<02:41,  1.28it/s]"
     ]
    },
    {
     "name": "stderr",
     "output_type": "stream",
     "text": [
      "\r",
      "Running train:  42%|████████████████████████████████████████████▏                                                            | 149/354 [01:56<02:41,  1.27it/s]"
     ]
    },
    {
     "name": "stderr",
     "output_type": "stream",
     "text": [
      "\r",
      "Running train:  42%|████████████████████████████████████████████▍                                                            | 150/354 [01:57<02:42,  1.26it/s]"
     ]
    },
    {
     "name": "stderr",
     "output_type": "stream",
     "text": [
      "\r",
      "Running train:  43%|████████████████████████████████████████████▊                                                            | 151/354 [01:58<02:42,  1.25it/s]"
     ]
    },
    {
     "name": "stderr",
     "output_type": "stream",
     "text": [
      "\r",
      "Running train:  43%|█████████████████████████████████████████████                                                            | 152/354 [01:58<02:39,  1.27it/s]"
     ]
    },
    {
     "name": "stderr",
     "output_type": "stream",
     "text": [
      "\r",
      "Running train:  43%|█████████████████████████████████████████████▍                                                           | 153/354 [01:59<02:39,  1.26it/s]"
     ]
    },
    {
     "name": "stderr",
     "output_type": "stream",
     "text": [
      "\r",
      "Running train:  44%|█████████████████████████████████████████████▋                                                           | 154/354 [02:00<02:39,  1.25it/s]"
     ]
    },
    {
     "name": "stderr",
     "output_type": "stream",
     "text": [
      "\r",
      "Running train:  44%|█████████████████████████████████████████████▉                                                           | 155/354 [02:01<02:38,  1.26it/s]"
     ]
    },
    {
     "name": "stderr",
     "output_type": "stream",
     "text": [
      "\r",
      "Running train:  44%|██████████████████████████████████████████████▎                                                          | 156/354 [02:02<02:38,  1.25it/s]"
     ]
    },
    {
     "name": "stderr",
     "output_type": "stream",
     "text": [
      "\r",
      "Running train:  44%|██████████████████████████████████████████████▌                                                          | 157/354 [02:02<02:37,  1.25it/s]"
     ]
    },
    {
     "name": "stderr",
     "output_type": "stream",
     "text": [
      "\r",
      "Running train:  45%|██████████████████████████████████████████████▊                                                          | 158/354 [02:03<02:38,  1.24it/s]"
     ]
    },
    {
     "name": "stderr",
     "output_type": "stream",
     "text": [
      "\r",
      "Running train:  45%|███████████████████████████████████████████████▏                                                         | 159/354 [02:04<02:36,  1.24it/s]"
     ]
    },
    {
     "name": "stderr",
     "output_type": "stream",
     "text": [
      "\r",
      "Running train:  45%|███████████████████████████████████████████████▍                                                         | 160/354 [02:05<02:36,  1.24it/s]"
     ]
    },
    {
     "name": "stderr",
     "output_type": "stream",
     "text": [
      "\r",
      "Running train:  45%|███████████████████████████████████████████████▊                                                         | 161/354 [02:06<02:35,  1.24it/s]"
     ]
    },
    {
     "name": "stderr",
     "output_type": "stream",
     "text": [
      "\r",
      "Running train:  46%|████████████████████████████████████████████████                                                         | 162/354 [02:06<02:36,  1.23it/s]"
     ]
    },
    {
     "name": "stderr",
     "output_type": "stream",
     "text": [
      "\r",
      "Running train:  46%|████████████████████████████████████████████████▎                                                        | 163/354 [02:07<02:35,  1.23it/s]"
     ]
    },
    {
     "name": "stderr",
     "output_type": "stream",
     "text": [
      "\r",
      "Running train:  46%|████████████████████████████████████████████████▋                                                        | 164/354 [02:08<02:33,  1.24it/s]"
     ]
    },
    {
     "name": "stderr",
     "output_type": "stream",
     "text": [
      "\r",
      "Running train:  47%|████████████████████████████████████████████████▉                                                        | 165/354 [02:09<02:33,  1.23it/s]"
     ]
    },
    {
     "name": "stderr",
     "output_type": "stream",
     "text": [
      "\r",
      "Running train:  47%|█████████████████████████████████████████████████▏                                                       | 166/354 [02:10<02:32,  1.23it/s]"
     ]
    },
    {
     "name": "stderr",
     "output_type": "stream",
     "text": [
      "\r",
      "Running train:  47%|█████████████████████████████████████████████████▌                                                       | 167/354 [02:10<02:32,  1.22it/s]"
     ]
    },
    {
     "name": "stderr",
     "output_type": "stream",
     "text": [
      "\r",
      "Running train:  47%|█████████████████████████████████████████████████▊                                                       | 168/354 [02:11<02:30,  1.24it/s]"
     ]
    },
    {
     "name": "stderr",
     "output_type": "stream",
     "text": [
      "\r",
      "Running train:  48%|██████████████████████████████████████████████████▏                                                      | 169/354 [02:12<02:31,  1.22it/s]"
     ]
    },
    {
     "name": "stderr",
     "output_type": "stream",
     "text": [
      "\r",
      "Running train:  48%|██████████████████████████████████████████████████▍                                                      | 170/354 [02:13<02:30,  1.23it/s]"
     ]
    },
    {
     "name": "stderr",
     "output_type": "stream",
     "text": [
      "\r",
      "Running train:  48%|██████████████████████████████████████████████████▋                                                      | 171/354 [02:14<02:28,  1.23it/s]"
     ]
    },
    {
     "name": "stderr",
     "output_type": "stream",
     "text": [
      "\r",
      "Running train:  49%|███████████████████████████████████████████████████                                                      | 172/354 [02:15<02:26,  1.24it/s]"
     ]
    },
    {
     "name": "stderr",
     "output_type": "stream",
     "text": [
      "\r",
      "Running train:  49%|███████████████████████████████████████████████████▎                                                     | 173/354 [02:15<02:25,  1.24it/s]"
     ]
    },
    {
     "name": "stderr",
     "output_type": "stream",
     "text": [
      "\r",
      "Running train:  49%|███████████████████████████████████████████████████▌                                                     | 174/354 [02:16<02:26,  1.23it/s]"
     ]
    },
    {
     "name": "stderr",
     "output_type": "stream",
     "text": [
      "\r",
      "Running train:  49%|███████████████████████████████████████████████████▉                                                     | 175/354 [02:17<02:24,  1.24it/s]"
     ]
    },
    {
     "name": "stderr",
     "output_type": "stream",
     "text": [
      "\r",
      "Running train:  50%|████████████████████████████████████████████████████▏                                                    | 176/354 [02:18<02:23,  1.24it/s]"
     ]
    },
    {
     "name": "stderr",
     "output_type": "stream",
     "text": [
      "\r",
      "Running train:  50%|████████████████████████████████████████████████████▌                                                    | 177/354 [02:19<02:24,  1.23it/s]"
     ]
    },
    {
     "name": "stderr",
     "output_type": "stream",
     "text": [
      "\r",
      "Running train:  50%|████████████████████████████████████████████████████▊                                                    | 178/354 [02:19<02:24,  1.22it/s]"
     ]
    },
    {
     "name": "stderr",
     "output_type": "stream",
     "text": [
      "\r",
      "Running train:  51%|█████████████████████████████████████████████████████                                                    | 179/354 [02:20<02:23,  1.22it/s]"
     ]
    },
    {
     "name": "stderr",
     "output_type": "stream",
     "text": [
      "\r",
      "Running train:  51%|█████████████████████████████████████████████████████▍                                                   | 180/354 [02:21<02:22,  1.22it/s]"
     ]
    },
    {
     "name": "stderr",
     "output_type": "stream",
     "text": [
      "\r",
      "Running train:  51%|█████████████████████████████████████████████████████▋                                                   | 181/354 [02:22<02:23,  1.21it/s]"
     ]
    },
    {
     "name": "stderr",
     "output_type": "stream",
     "text": [
      "\r",
      "Running train:  51%|█████████████████████████████████████████████████████▉                                                   | 182/354 [02:23<02:22,  1.21it/s]"
     ]
    },
    {
     "name": "stderr",
     "output_type": "stream",
     "text": [
      "\r",
      "Running train:  52%|██████████████████████████████████████████████████████▎                                                  | 183/354 [02:24<02:21,  1.21it/s]"
     ]
    },
    {
     "name": "stderr",
     "output_type": "stream",
     "text": [
      "\r",
      "Running train:  52%|██████████████████████████████████████████████████████▌                                                  | 184/354 [02:24<02:19,  1.22it/s]"
     ]
    },
    {
     "name": "stderr",
     "output_type": "stream",
     "text": [
      "\r",
      "Running train:  52%|██████████████████████████████████████████████████████▊                                                  | 185/354 [02:25<02:18,  1.22it/s]"
     ]
    },
    {
     "name": "stderr",
     "output_type": "stream",
     "text": [
      "\r",
      "Running train:  53%|███████████████████████████████████████████████████████▏                                                 | 186/354 [02:26<02:17,  1.23it/s]"
     ]
    },
    {
     "name": "stderr",
     "output_type": "stream",
     "text": [
      "\r",
      "Running train:  53%|███████████████████████████████████████████████████████▍                                                 | 187/354 [02:27<02:14,  1.24it/s]"
     ]
    },
    {
     "name": "stderr",
     "output_type": "stream",
     "text": [
      "\r",
      "Running train:  53%|███████████████████████████████████████████████████████▊                                                 | 188/354 [02:28<02:13,  1.25it/s]"
     ]
    },
    {
     "name": "stderr",
     "output_type": "stream",
     "text": [
      "\r",
      "Running train:  53%|████████████████████████████████████████████████████████                                                 | 189/354 [02:28<02:15,  1.22it/s]"
     ]
    },
    {
     "name": "stderr",
     "output_type": "stream",
     "text": [
      "\r",
      "Running train:  54%|████████████████████████████████████████████████████████▎                                                | 190/354 [02:29<02:10,  1.25it/s]"
     ]
    },
    {
     "name": "stderr",
     "output_type": "stream",
     "text": [
      "\r",
      "Running train:  54%|████████████████████████████████████████████████████████▋                                                | 191/354 [02:30<02:06,  1.28it/s]"
     ]
    },
    {
     "name": "stderr",
     "output_type": "stream",
     "text": [
      "\r",
      "Running train:  54%|████████████████████████████████████████████████████████▉                                                | 192/354 [02:31<02:06,  1.28it/s]"
     ]
    },
    {
     "name": "stderr",
     "output_type": "stream",
     "text": [
      "\r",
      "Running train:  55%|█████████████████████████████████████████████████████████▏                                               | 193/354 [02:31<02:06,  1.27it/s]"
     ]
    },
    {
     "name": "stderr",
     "output_type": "stream",
     "text": [
      "\r",
      "Running train:  55%|█████████████████████████████████████████████████████████▌                                               | 194/354 [02:32<02:06,  1.27it/s]"
     ]
    },
    {
     "name": "stderr",
     "output_type": "stream",
     "text": [
      "\r",
      "Running train:  55%|█████████████████████████████████████████████████████████▊                                               | 195/354 [02:33<02:02,  1.30it/s]"
     ]
    },
    {
     "name": "stderr",
     "output_type": "stream",
     "text": [
      "\r",
      "Running train:  55%|██████████████████████████████████████████████████████████▏                                              | 196/354 [02:34<02:03,  1.28it/s]"
     ]
    },
    {
     "name": "stderr",
     "output_type": "stream",
     "text": [
      "\r",
      "Running train:  56%|██████████████████████████████████████████████████████████▍                                              | 197/354 [02:35<02:04,  1.26it/s]"
     ]
    },
    {
     "name": "stderr",
     "output_type": "stream",
     "text": [
      "\r",
      "Running train:  56%|██████████████████████████████████████████████████████████▋                                              | 198/354 [02:35<02:00,  1.30it/s]"
     ]
    },
    {
     "name": "stderr",
     "output_type": "stream",
     "text": [
      "\r",
      "Running train:  56%|███████████████████████████████████████████████████████████                                              | 199/354 [02:36<02:00,  1.29it/s]"
     ]
    },
    {
     "name": "stderr",
     "output_type": "stream",
     "text": [
      "\r",
      "Running train:  56%|███████████████████████████████████████████████████████████▎                                             | 200/354 [02:37<01:59,  1.29it/s]"
     ]
    },
    {
     "name": "stderr",
     "output_type": "stream",
     "text": [
      "\r",
      "Running train:  57%|███████████████████████████████████████████████████████████▌                                             | 201/354 [02:38<01:58,  1.29it/s]"
     ]
    },
    {
     "name": "stderr",
     "output_type": "stream",
     "text": [
      "\r",
      "Running train:  57%|███████████████████████████████████████████████████████████▉                                             | 202/354 [02:38<01:58,  1.28it/s]"
     ]
    },
    {
     "name": "stderr",
     "output_type": "stream",
     "text": [
      "\r",
      "Running train:  57%|████████████████████████████████████████████████████████████▏                                            | 203/354 [02:39<01:58,  1.27it/s]"
     ]
    },
    {
     "name": "stderr",
     "output_type": "stream",
     "text": [
      "\r",
      "Running train:  58%|████████████████████████████████████████████████████████████▌                                            | 204/354 [02:40<01:57,  1.27it/s]"
     ]
    },
    {
     "name": "stderr",
     "output_type": "stream",
     "text": [
      "\r",
      "Running train:  58%|████████████████████████████████████████████████████████████▊                                            | 205/354 [02:41<01:54,  1.30it/s]"
     ]
    },
    {
     "name": "stderr",
     "output_type": "stream",
     "text": [
      "\r",
      "Running train:  58%|█████████████████████████████████████████████████████████████                                            | 206/354 [02:42<01:52,  1.32it/s]"
     ]
    },
    {
     "name": "stderr",
     "output_type": "stream",
     "text": [
      "\r",
      "Running train:  58%|█████████████████████████████████████████████████████████████▍                                           | 207/354 [02:42<01:51,  1.31it/s]"
     ]
    },
    {
     "name": "stderr",
     "output_type": "stream",
     "text": [
      "\r",
      "Running train:  59%|█████████████████████████████████████████████████████████████▋                                           | 208/354 [02:43<01:51,  1.31it/s]"
     ]
    },
    {
     "name": "stderr",
     "output_type": "stream",
     "text": [
      "\r",
      "Running train:  59%|█████████████████████████████████████████████████████████████▉                                           | 209/354 [02:44<01:51,  1.30it/s]"
     ]
    },
    {
     "name": "stderr",
     "output_type": "stream",
     "text": [
      "\r",
      "Running train:  59%|██████████████████████████████████████████████████████████████▎                                          | 210/354 [02:45<01:51,  1.29it/s]"
     ]
    },
    {
     "name": "stderr",
     "output_type": "stream",
     "text": [
      "\r",
      "Running train:  60%|██████████████████████████████████████████████████████████████▌                                          | 211/354 [02:45<01:53,  1.26it/s]"
     ]
    },
    {
     "name": "stderr",
     "output_type": "stream",
     "text": [
      "\r",
      "Running train:  60%|██████████████████████████████████████████████████████████████▉                                          | 212/354 [02:46<01:52,  1.26it/s]"
     ]
    },
    {
     "name": "stderr",
     "output_type": "stream",
     "text": [
      "\r",
      "Running train:  60%|███████████████████████████████████████████████████████████████▏                                         | 213/354 [02:47<01:51,  1.27it/s]"
     ]
    },
    {
     "name": "stderr",
     "output_type": "stream",
     "text": [
      "\r",
      "Running train:  60%|███████████████████████████████████████████████████████████████▍                                         | 214/354 [02:48<01:51,  1.25it/s]"
     ]
    },
    {
     "name": "stderr",
     "output_type": "stream",
     "text": [
      "\r",
      "Running train:  61%|███████████████████████████████████████████████████████████████▊                                         | 215/354 [02:49<01:50,  1.26it/s]"
     ]
    },
    {
     "name": "stderr",
     "output_type": "stream",
     "text": [
      "\r",
      "Running train:  61%|████████████████████████████████████████████████████████████████                                         | 216/354 [02:49<01:50,  1.25it/s]"
     ]
    },
    {
     "name": "stderr",
     "output_type": "stream",
     "text": [
      "\r",
      "Running train:  61%|████████████████████████████████████████████████████████████████▎                                        | 217/354 [02:50<01:49,  1.25it/s]"
     ]
    },
    {
     "name": "stderr",
     "output_type": "stream",
     "text": [
      "\r",
      "Running train:  62%|████████████████████████████████████████████████████████████████▋                                        | 218/354 [02:51<01:49,  1.25it/s]"
     ]
    },
    {
     "name": "stderr",
     "output_type": "stream",
     "text": [
      "\r",
      "Running train:  62%|████████████████████████████████████████████████████████████████▉                                        | 219/354 [02:52<01:48,  1.24it/s]"
     ]
    },
    {
     "name": "stderr",
     "output_type": "stream",
     "text": [
      "\r",
      "Running train:  62%|█████████████████████████████████████████████████████████████████▎                                       | 220/354 [02:53<01:47,  1.25it/s]"
     ]
    },
    {
     "name": "stderr",
     "output_type": "stream",
     "text": [
      "\r",
      "Running train:  62%|█████████████████████████████████████████████████████████████████▌                                       | 221/354 [02:54<01:48,  1.23it/s]"
     ]
    },
    {
     "name": "stderr",
     "output_type": "stream",
     "text": [
      "\r",
      "Running train:  63%|█████████████████████████████████████████████████████████████████▊                                       | 222/354 [02:54<01:48,  1.22it/s]"
     ]
    },
    {
     "name": "stderr",
     "output_type": "stream",
     "text": [
      "\r",
      "Running train:  63%|██████████████████████████████████████████████████████████████████▏                                      | 223/354 [02:55<01:47,  1.22it/s]"
     ]
    },
    {
     "name": "stderr",
     "output_type": "stream",
     "text": [
      "\r",
      "Running train:  63%|██████████████████████████████████████████████████████████████████▍                                      | 224/354 [02:56<01:45,  1.23it/s]"
     ]
    },
    {
     "name": "stderr",
     "output_type": "stream",
     "text": [
      "\r",
      "Running train:  64%|██████████████████████████████████████████████████████████████████▋                                      | 225/354 [02:57<01:45,  1.23it/s]"
     ]
    },
    {
     "name": "stderr",
     "output_type": "stream",
     "text": [
      "\r",
      "Running train:  64%|███████████████████████████████████████████████████████████████████                                      | 226/354 [02:58<01:43,  1.24it/s]"
     ]
    },
    {
     "name": "stderr",
     "output_type": "stream",
     "text": [
      "\r",
      "Running train:  64%|███████████████████████████████████████████████████████████████████▎                                     | 227/354 [02:58<01:40,  1.26it/s]"
     ]
    },
    {
     "name": "stderr",
     "output_type": "stream",
     "text": [
      "\r",
      "Running train:  64%|███████████████████████████████████████████████████████████████████▋                                     | 228/354 [02:59<01:39,  1.27it/s]"
     ]
    },
    {
     "name": "stderr",
     "output_type": "stream",
     "text": [
      "\r",
      "Running train:  65%|███████████████████████████████████████████████████████████████████▉                                     | 229/354 [03:00<01:38,  1.27it/s]"
     ]
    },
    {
     "name": "stderr",
     "output_type": "stream",
     "text": [
      "\r",
      "Running train:  65%|████████████████████████████████████████████████████████████████████▏                                    | 230/354 [03:01<01:38,  1.26it/s]"
     ]
    },
    {
     "name": "stderr",
     "output_type": "stream",
     "text": [
      "\r",
      "Running train:  65%|████████████████████████████████████████████████████████████████████▌                                    | 231/354 [03:02<01:38,  1.25it/s]"
     ]
    },
    {
     "name": "stderr",
     "output_type": "stream",
     "text": [
      "\r",
      "Running train:  66%|████████████████████████████████████████████████████████████████████▊                                    | 232/354 [03:02<01:36,  1.26it/s]"
     ]
    },
    {
     "name": "stderr",
     "output_type": "stream",
     "text": [
      "\r",
      "Running train:  66%|█████████████████████████████████████████████████████████████████████                                    | 233/354 [03:03<01:35,  1.27it/s]"
     ]
    },
    {
     "name": "stderr",
     "output_type": "stream",
     "text": [
      "\r",
      "Running train:  66%|█████████████████████████████████████████████████████████████████████▍                                   | 234/354 [03:04<01:34,  1.27it/s]"
     ]
    },
    {
     "name": "stderr",
     "output_type": "stream",
     "text": [
      "\r",
      "Running train:  66%|█████████████████████████████████████████████████████████████████████▋                                   | 235/354 [03:05<01:33,  1.27it/s]"
     ]
    },
    {
     "name": "stderr",
     "output_type": "stream",
     "text": [
      "\r",
      "Running train:  67%|██████████████████████████████████████████████████████████████████████                                   | 236/354 [03:05<01:33,  1.26it/s]"
     ]
    },
    {
     "name": "stderr",
     "output_type": "stream",
     "text": [
      "\r",
      "Running train:  67%|██████████████████████████████████████████████████████████████████████▎                                  | 237/354 [03:06<01:32,  1.26it/s]"
     ]
    },
    {
     "name": "stderr",
     "output_type": "stream",
     "text": [
      "\r",
      "Running train:  67%|██████████████████████████████████████████████████████████████████████▌                                  | 238/354 [03:07<01:29,  1.29it/s]"
     ]
    },
    {
     "name": "stderr",
     "output_type": "stream",
     "text": [
      "\r",
      "Running train:  68%|██████████████████████████████████████████████████████████████████████▉                                  | 239/354 [03:08<01:29,  1.29it/s]"
     ]
    },
    {
     "name": "stderr",
     "output_type": "stream",
     "text": [
      "\r",
      "Running train:  68%|███████████████████████████████████████████████████████████████████████▏                                 | 240/354 [03:09<01:29,  1.28it/s]"
     ]
    },
    {
     "name": "stderr",
     "output_type": "stream",
     "text": [
      "\r",
      "Running train:  68%|███████████████████████████████████████████████████████████████████████▍                                 | 241/354 [03:09<01:26,  1.30it/s]"
     ]
    },
    {
     "name": "stderr",
     "output_type": "stream",
     "text": [
      "\r",
      "Running train:  68%|███████████████████████████████████████████████████████████████████████▊                                 | 242/354 [03:10<01:27,  1.28it/s]"
     ]
    },
    {
     "name": "stderr",
     "output_type": "stream",
     "text": [
      "\r",
      "Running train:  69%|████████████████████████████████████████████████████████████████████████                                 | 243/354 [03:11<01:26,  1.28it/s]"
     ]
    },
    {
     "name": "stderr",
     "output_type": "stream",
     "text": [
      "\r",
      "Running train:  69%|████████████████████████████████████████████████████████████████████████▎                                | 244/354 [03:12<01:26,  1.28it/s]"
     ]
    },
    {
     "name": "stderr",
     "output_type": "stream",
     "text": [
      "\r",
      "Running train:  69%|████████████████████████████████████████████████████████████████████████▋                                | 245/354 [03:12<01:25,  1.27it/s]"
     ]
    },
    {
     "name": "stderr",
     "output_type": "stream",
     "text": [
      "\r",
      "Running train:  69%|████████████████████████████████████████████████████████████████████████▉                                | 246/354 [03:13<01:24,  1.28it/s]"
     ]
    },
    {
     "name": "stderr",
     "output_type": "stream",
     "text": [
      "\r",
      "Running train:  70%|█████████████████████████████████████████████████████████████████████████▎                               | 247/354 [03:14<01:21,  1.32it/s]"
     ]
    },
    {
     "name": "stderr",
     "output_type": "stream",
     "text": [
      "\r",
      "Running train:  70%|█████████████████████████████████████████████████████████████████████████▌                               | 248/354 [03:15<01:18,  1.34it/s]"
     ]
    },
    {
     "name": "stderr",
     "output_type": "stream",
     "text": [
      "\r",
      "Running train:  70%|█████████████████████████████████████████████████████████████████████████▊                               | 249/354 [03:15<01:18,  1.34it/s]"
     ]
    },
    {
     "name": "stderr",
     "output_type": "stream",
     "text": [
      "\r",
      "Running train:  71%|██████████████████████████████████████████████████████████████████████████▏                              | 250/354 [03:16<01:19,  1.31it/s]"
     ]
    },
    {
     "name": "stderr",
     "output_type": "stream",
     "text": [
      "\r",
      "Running train:  71%|██████████████████████████████████████████████████████████████████████████▍                              | 251/354 [03:17<01:17,  1.33it/s]"
     ]
    },
    {
     "name": "stderr",
     "output_type": "stream",
     "text": [
      "\r",
      "Running train:  71%|██████████████████████████████████████████████████████████████████████████▋                              | 252/354 [03:18<01:16,  1.34it/s]"
     ]
    },
    {
     "name": "stderr",
     "output_type": "stream",
     "text": [
      "\r",
      "Running train:  71%|███████████████████████████████████████████████████████████████████████████                              | 253/354 [03:18<01:15,  1.34it/s]"
     ]
    },
    {
     "name": "stderr",
     "output_type": "stream",
     "text": [
      "\r",
      "Running train:  72%|███████████████████████████████████████████████████████████████████████████▎                             | 254/354 [03:19<01:15,  1.32it/s]"
     ]
    },
    {
     "name": "stderr",
     "output_type": "stream",
     "text": [
      "\r",
      "Running train:  72%|███████████████████████████████████████████████████████████████████████████▋                             | 255/354 [03:20<01:15,  1.31it/s]"
     ]
    },
    {
     "name": "stderr",
     "output_type": "stream",
     "text": [
      "\r",
      "Running train:  72%|███████████████████████████████████████████████████████████████████████████▉                             | 256/354 [03:21<01:14,  1.32it/s]"
     ]
    },
    {
     "name": "stderr",
     "output_type": "stream",
     "text": [
      "\r",
      "Running train:  73%|████████████████████████████████████████████████████████████████████████████▏                            | 257/354 [03:21<01:13,  1.32it/s]"
     ]
    },
    {
     "name": "stderr",
     "output_type": "stream",
     "text": [
      "\r",
      "Running train:  73%|████████████████████████████████████████████████████████████████████████████▌                            | 258/354 [03:22<01:16,  1.25it/s]"
     ]
    },
    {
     "name": "stderr",
     "output_type": "stream",
     "text": [
      "\r",
      "Running train:  73%|████████████████████████████████████████████████████████████████████████████▊                            | 259/354 [03:23<01:16,  1.24it/s]"
     ]
    },
    {
     "name": "stderr",
     "output_type": "stream",
     "text": [
      "\r",
      "Running train:  73%|█████████████████████████████████████████████████████████████████████████████                            | 260/354 [03:24<01:15,  1.25it/s]"
     ]
    },
    {
     "name": "stderr",
     "output_type": "stream",
     "text": [
      "\r",
      "Running train:  74%|█████████████████████████████████████████████████████████████████████████████▍                           | 261/354 [03:25<01:13,  1.27it/s]"
     ]
    },
    {
     "name": "stderr",
     "output_type": "stream",
     "text": [
      "\r",
      "Running train:  74%|█████████████████████████████████████████████████████████████████████████████▋                           | 262/354 [03:26<01:12,  1.28it/s]"
     ]
    },
    {
     "name": "stderr",
     "output_type": "stream",
     "text": [
      "\r",
      "Running train:  74%|██████████████████████████████████████████████████████████████████████████████                           | 263/354 [03:26<01:11,  1.28it/s]"
     ]
    },
    {
     "name": "stderr",
     "output_type": "stream",
     "text": [
      "\r",
      "Running train:  75%|██████████████████████████████████████████████████████████████████████████████▎                          | 264/354 [03:27<01:12,  1.25it/s]"
     ]
    },
    {
     "name": "stderr",
     "output_type": "stream",
     "text": [
      "\r",
      "Running train:  75%|██████████████████████████████████████████████████████████████████████████████▌                          | 265/354 [03:28<01:10,  1.26it/s]"
     ]
    },
    {
     "name": "stderr",
     "output_type": "stream",
     "text": [
      "\r",
      "Running train:  75%|██████████████████████████████████████████████████████████████████████████████▉                          | 266/354 [03:29<01:10,  1.24it/s]"
     ]
    },
    {
     "name": "stderr",
     "output_type": "stream",
     "text": [
      "\r",
      "Running train:  75%|███████████████████████████████████████████████████████████████████████████████▏                         | 267/354 [03:30<01:09,  1.25it/s]"
     ]
    },
    {
     "name": "stderr",
     "output_type": "stream",
     "text": [
      "\r",
      "Running train:  76%|███████████████████████████████████████████████████████████████████████████████▍                         | 268/354 [03:30<01:09,  1.23it/s]"
     ]
    },
    {
     "name": "stderr",
     "output_type": "stream",
     "text": [
      "\r",
      "Running train:  76%|███████████████████████████████████████████████████████████████████████████████▊                         | 269/354 [03:31<01:08,  1.24it/s]"
     ]
    },
    {
     "name": "stderr",
     "output_type": "stream",
     "text": [
      "\r",
      "Running train:  76%|████████████████████████████████████████████████████████████████████████████████                         | 270/354 [03:32<01:06,  1.26it/s]"
     ]
    },
    {
     "name": "stderr",
     "output_type": "stream",
     "text": [
      "\r",
      "Running train:  77%|████████████████████████████████████████████████████████████████████████████████▍                        | 271/354 [03:33<01:06,  1.25it/s]"
     ]
    },
    {
     "name": "stderr",
     "output_type": "stream",
     "text": [
      "\r",
      "Running train:  77%|████████████████████████████████████████████████████████████████████████████████▋                        | 272/354 [03:34<01:05,  1.26it/s]"
     ]
    },
    {
     "name": "stderr",
     "output_type": "stream",
     "text": [
      "\r",
      "Running train:  77%|████████████████████████████████████████████████████████████████████████████████▉                        | 273/354 [03:34<01:03,  1.27it/s]"
     ]
    },
    {
     "name": "stderr",
     "output_type": "stream",
     "text": [
      "\r",
      "Running train:  77%|█████████████████████████████████████████████████████████████████████████████████▎                       | 274/354 [03:35<01:03,  1.26it/s]"
     ]
    },
    {
     "name": "stderr",
     "output_type": "stream",
     "text": [
      "\r",
      "Running train:  78%|█████████████████████████████████████████████████████████████████████████████████▌                       | 275/354 [03:36<01:02,  1.27it/s]"
     ]
    },
    {
     "name": "stderr",
     "output_type": "stream",
     "text": [
      "\r",
      "Running train:  78%|█████████████████████████████████████████████████████████████████████████████████▊                       | 276/354 [03:37<01:01,  1.27it/s]"
     ]
    },
    {
     "name": "stderr",
     "output_type": "stream",
     "text": [
      "\r",
      "Running train:  78%|██████████████████████████████████████████████████████████████████████████████████▏                      | 277/354 [03:37<01:00,  1.26it/s]"
     ]
    },
    {
     "name": "stderr",
     "output_type": "stream",
     "text": [
      "\r",
      "Running train:  79%|██████████████████████████████████████████████████████████████████████████████████▍                      | 278/354 [03:38<01:00,  1.26it/s]"
     ]
    },
    {
     "name": "stderr",
     "output_type": "stream",
     "text": [
      "\r",
      "Running train:  79%|██████████████████████████████████████████████████████████████████████████████████▊                      | 279/354 [03:39<00:59,  1.26it/s]"
     ]
    },
    {
     "name": "stderr",
     "output_type": "stream",
     "text": [
      "\r",
      "Running train:  79%|███████████████████████████████████████████████████████████████████████████████████                      | 280/354 [03:40<00:59,  1.25it/s]"
     ]
    },
    {
     "name": "stderr",
     "output_type": "stream",
     "text": [
      "\r",
      "Running train:  79%|███████████████████████████████████████████████████████████████████████████████████▎                     | 281/354 [03:41<00:56,  1.28it/s]"
     ]
    },
    {
     "name": "stderr",
     "output_type": "stream",
     "text": [
      "\r",
      "Running train:  80%|███████████████████████████████████████████████████████████████████████████████████▋                     | 282/354 [03:41<00:56,  1.28it/s]"
     ]
    },
    {
     "name": "stderr",
     "output_type": "stream",
     "text": [
      "\r",
      "Running train:  80%|███████████████████████████████████████████████████████████████████████████████████▉                     | 283/354 [03:42<00:55,  1.28it/s]"
     ]
    },
    {
     "name": "stderr",
     "output_type": "stream",
     "text": [
      "\r",
      "Running train:  80%|████████████████████████████████████████████████████████████████████████████████████▏                    | 284/354 [03:43<00:55,  1.27it/s]"
     ]
    },
    {
     "name": "stderr",
     "output_type": "stream",
     "text": [
      "\r",
      "Running train:  81%|████████████████████████████████████████████████████████████████████████████████████▌                    | 285/354 [03:44<00:53,  1.28it/s]"
     ]
    },
    {
     "name": "stderr",
     "output_type": "stream",
     "text": [
      "\r",
      "Running train:  81%|████████████████████████████████████████████████████████████████████████████████████▊                    | 286/354 [03:44<00:51,  1.33it/s]"
     ]
    },
    {
     "name": "stderr",
     "output_type": "stream",
     "text": [
      "\r",
      "Running train:  81%|█████████████████████████████████████████████████████████████████████████████████████▏                   | 287/354 [03:45<00:51,  1.31it/s]"
     ]
    },
    {
     "name": "stderr",
     "output_type": "stream",
     "text": [
      "\r",
      "Running train:  81%|█████████████████████████████████████████████████████████████████████████████████████▍                   | 288/354 [03:46<00:50,  1.31it/s]"
     ]
    },
    {
     "name": "stderr",
     "output_type": "stream",
     "text": [
      "\r",
      "Running train:  82%|█████████████████████████████████████████████████████████████████████████████████████▋                   | 289/354 [03:47<00:49,  1.31it/s]"
     ]
    },
    {
     "name": "stderr",
     "output_type": "stream",
     "text": [
      "\r",
      "Running train:  82%|██████████████████████████████████████████████████████████████████████████████████████                   | 290/354 [03:47<00:48,  1.33it/s]"
     ]
    },
    {
     "name": "stderr",
     "output_type": "stream",
     "text": [
      "\r",
      "Running train:  82%|██████████████████████████████████████████████████████████████████████████████████████▎                  | 291/354 [03:48<00:47,  1.33it/s]"
     ]
    },
    {
     "name": "stderr",
     "output_type": "stream",
     "text": [
      "\r",
      "Running train:  82%|██████████████████████████████████████████████████████████████████████████████████████▌                  | 292/354 [03:49<00:46,  1.33it/s]"
     ]
    },
    {
     "name": "stderr",
     "output_type": "stream",
     "text": [
      "\r",
      "Running train:  83%|██████████████████████████████████████████████████████████████████████████████████████▉                  | 293/354 [03:50<00:47,  1.29it/s]"
     ]
    },
    {
     "name": "stderr",
     "output_type": "stream",
     "text": [
      "\r",
      "Running train:  83%|███████████████████████████████████████████████████████████████████████████████████████▏                 | 294/354 [03:51<00:45,  1.31it/s]"
     ]
    },
    {
     "name": "stderr",
     "output_type": "stream",
     "text": [
      "\r",
      "Running train:  83%|███████████████████████████████████████████████████████████████████████████████████████▌                 | 295/354 [03:51<00:45,  1.29it/s]"
     ]
    },
    {
     "name": "stderr",
     "output_type": "stream",
     "text": [
      "\r",
      "Running train:  84%|███████████████████████████████████████████████████████████████████████████████████████▊                 | 296/354 [03:52<00:45,  1.28it/s]"
     ]
    },
    {
     "name": "stderr",
     "output_type": "stream",
     "text": [
      "\r",
      "Running train:  84%|████████████████████████████████████████████████████████████████████████████████████████                 | 297/354 [03:53<00:43,  1.32it/s]"
     ]
    },
    {
     "name": "stderr",
     "output_type": "stream",
     "text": [
      "\r",
      "Running train:  84%|████████████████████████████████████████████████████████████████████████████████████████▍                | 298/354 [03:54<00:42,  1.33it/s]"
     ]
    },
    {
     "name": "stderr",
     "output_type": "stream",
     "text": [
      "\r",
      "Running train:  84%|████████████████████████████████████████████████████████████████████████████████████████▋                | 299/354 [03:54<00:41,  1.33it/s]"
     ]
    },
    {
     "name": "stderr",
     "output_type": "stream",
     "text": [
      "\r",
      "Running train:  85%|████████████████████████████████████████████████████████████████████████████████████████▉                | 300/354 [03:55<00:40,  1.33it/s]"
     ]
    },
    {
     "name": "stderr",
     "output_type": "stream",
     "text": [
      "\r",
      "Running train:  85%|█████████████████████████████████████████████████████████████████████████████████████████▎               | 301/354 [03:56<00:40,  1.31it/s]"
     ]
    },
    {
     "name": "stderr",
     "output_type": "stream",
     "text": [
      "\r",
      "Running train:  85%|█████████████████████████████████████████████████████████████████████████████████████████▌               | 302/354 [03:57<00:38,  1.33it/s]"
     ]
    },
    {
     "name": "stderr",
     "output_type": "stream",
     "text": [
      "\r",
      "Running train:  86%|█████████████████████████████████████████████████████████████████████████████████████████▊               | 303/354 [03:57<00:38,  1.32it/s]"
     ]
    },
    {
     "name": "stderr",
     "output_type": "stream",
     "text": [
      "\r",
      "Running train:  86%|██████████████████████████████████████████████████████████████████████████████████████████▏              | 304/354 [03:58<00:38,  1.30it/s]"
     ]
    },
    {
     "name": "stderr",
     "output_type": "stream",
     "text": [
      "\r",
      "Running train:  86%|██████████████████████████████████████████████████████████████████████████████████████████▍              | 305/354 [03:59<00:37,  1.31it/s]"
     ]
    },
    {
     "name": "stderr",
     "output_type": "stream",
     "text": [
      "\r",
      "Running train:  86%|██████████████████████████████████████████████████████████████████████████████████████████▊              | 306/354 [04:00<00:36,  1.32it/s]"
     ]
    },
    {
     "name": "stderr",
     "output_type": "stream",
     "text": [
      "\r",
      "Running train:  87%|███████████████████████████████████████████████████████████████████████████████████████████              | 307/354 [04:00<00:36,  1.29it/s]"
     ]
    },
    {
     "name": "stderr",
     "output_type": "stream",
     "text": [
      "\r",
      "Running train:  87%|███████████████████████████████████████████████████████████████████████████████████████████▎             | 308/354 [04:01<00:35,  1.29it/s]"
     ]
    },
    {
     "name": "stderr",
     "output_type": "stream",
     "text": [
      "\r",
      "Running train:  87%|███████████████████████████████████████████████████████████████████████████████████████████▋             | 309/354 [04:02<00:34,  1.32it/s]"
     ]
    },
    {
     "name": "stderr",
     "output_type": "stream",
     "text": [
      "\r",
      "Running train:  88%|███████████████████████████████████████████████████████████████████████████████████████████▉             | 310/354 [04:03<00:33,  1.32it/s]"
     ]
    },
    {
     "name": "stderr",
     "output_type": "stream",
     "text": [
      "\r",
      "Running train:  88%|████████████████████████████████████████████████████████████████████████████████████████████▏            | 311/354 [04:04<00:33,  1.30it/s]"
     ]
    },
    {
     "name": "stderr",
     "output_type": "stream",
     "text": [
      "\r",
      "Running train:  88%|████████████████████████████████████████████████████████████████████████████████████████████▌            | 312/354 [04:04<00:32,  1.30it/s]"
     ]
    },
    {
     "name": "stderr",
     "output_type": "stream",
     "text": [
      "\r",
      "Running train:  88%|████████████████████████████████████████████████████████████████████████████████████████████▊            | 313/354 [04:05<00:31,  1.31it/s]"
     ]
    },
    {
     "name": "stderr",
     "output_type": "stream",
     "text": [
      "\r",
      "Running train:  89%|█████████████████████████████████████████████████████████████████████████████████████████████▏           | 314/354 [04:06<00:31,  1.28it/s]"
     ]
    },
    {
     "name": "stderr",
     "output_type": "stream",
     "text": [
      "\r",
      "Running train:  89%|█████████████████████████████████████████████████████████████████████████████████████████████▍           | 315/354 [04:07<00:29,  1.30it/s]"
     ]
    },
    {
     "name": "stderr",
     "output_type": "stream",
     "text": [
      "\r",
      "Running train:  89%|█████████████████████████████████████████████████████████████████████████████████████████████▋           | 316/354 [04:07<00:29,  1.28it/s]"
     ]
    },
    {
     "name": "stderr",
     "output_type": "stream",
     "text": [
      "\r",
      "Running train:  90%|██████████████████████████████████████████████████████████████████████████████████████████████           | 317/354 [04:08<00:30,  1.22it/s]"
     ]
    },
    {
     "name": "stderr",
     "output_type": "stream",
     "text": [
      "\r",
      "Running train:  90%|██████████████████████████████████████████████████████████████████████████████████████████████▎          | 318/354 [04:09<00:29,  1.24it/s]"
     ]
    },
    {
     "name": "stderr",
     "output_type": "stream",
     "text": [
      "\r",
      "Running train:  90%|██████████████████████████████████████████████████████████████████████████████████████████████▌          | 319/354 [04:10<00:27,  1.29it/s]"
     ]
    },
    {
     "name": "stderr",
     "output_type": "stream",
     "text": [
      "\r",
      "Running train:  90%|██████████████████████████████████████████████████████████████████████████████████████████████▉          | 320/354 [04:11<00:26,  1.29it/s]"
     ]
    },
    {
     "name": "stderr",
     "output_type": "stream",
     "text": [
      "\r",
      "Running train:  91%|███████████████████████████████████████████████████████████████████████████████████████████████▏         | 321/354 [04:11<00:25,  1.32it/s]"
     ]
    },
    {
     "name": "stderr",
     "output_type": "stream",
     "text": [
      "\r",
      "Running train:  91%|███████████████████████████████████████████████████████████████████████████████████████████████▌         | 322/354 [04:12<00:23,  1.35it/s]"
     ]
    },
    {
     "name": "stderr",
     "output_type": "stream",
     "text": [
      "\r",
      "Running train:  91%|███████████████████████████████████████████████████████████████████████████████████████████████▊         | 323/354 [04:13<00:23,  1.33it/s]"
     ]
    },
    {
     "name": "stderr",
     "output_type": "stream",
     "text": [
      "\r",
      "Running train:  92%|████████████████████████████████████████████████████████████████████████████████████████████████         | 324/354 [04:14<00:23,  1.29it/s]"
     ]
    },
    {
     "name": "stderr",
     "output_type": "stream",
     "text": [
      "\r",
      "Running train:  92%|████████████████████████████████████████████████████████████████████████████████████████████████▍        | 325/354 [04:14<00:22,  1.29it/s]"
     ]
    },
    {
     "name": "stderr",
     "output_type": "stream",
     "text": [
      "\r",
      "Running train:  92%|████████████████████████████████████████████████████████████████████████████████████████████████▋        | 326/354 [04:15<00:21,  1.29it/s]"
     ]
    },
    {
     "name": "stderr",
     "output_type": "stream",
     "text": [
      "\r",
      "Running train:  92%|████████████████████████████████████████████████████████████████████████████████████████████████▉        | 327/354 [04:16<00:20,  1.29it/s]"
     ]
    },
    {
     "name": "stderr",
     "output_type": "stream",
     "text": [
      "\r",
      "Running train:  93%|█████████████████████████████████████████████████████████████████████████████████████████████████▎       | 328/354 [04:17<00:20,  1.27it/s]"
     ]
    },
    {
     "name": "stderr",
     "output_type": "stream",
     "text": [
      "\r",
      "Running train:  93%|█████████████████████████████████████████████████████████████████████████████████████████████████▌       | 329/354 [04:18<00:19,  1.27it/s]"
     ]
    },
    {
     "name": "stderr",
     "output_type": "stream",
     "text": [
      "\r",
      "Running train:  93%|█████████████████████████████████████████████████████████████████████████████████████████████████▉       | 330/354 [04:18<00:18,  1.28it/s]"
     ]
    },
    {
     "name": "stderr",
     "output_type": "stream",
     "text": [
      "\r",
      "Running train:  94%|██████████████████████████████████████████████████████████████████████████████████████████████████▏      | 331/354 [04:19<00:17,  1.28it/s]"
     ]
    },
    {
     "name": "stderr",
     "output_type": "stream",
     "text": [
      "\r",
      "Running train:  94%|██████████████████████████████████████████████████████████████████████████████████████████████████▍      | 332/354 [04:20<00:17,  1.26it/s]"
     ]
    },
    {
     "name": "stderr",
     "output_type": "stream",
     "text": [
      "\r",
      "Running train:  94%|██████████████████████████████████████████████████████████████████████████████████████████████████▊      | 333/354 [04:21<00:16,  1.25it/s]"
     ]
    },
    {
     "name": "stderr",
     "output_type": "stream",
     "text": [
      "\r",
      "Running train:  94%|███████████████████████████████████████████████████████████████████████████████████████████████████      | 334/354 [04:21<00:15,  1.28it/s]"
     ]
    },
    {
     "name": "stderr",
     "output_type": "stream",
     "text": [
      "\r",
      "Running train:  95%|███████████████████████████████████████████████████████████████████████████████████████████████████▎     | 335/354 [04:22<00:14,  1.29it/s]"
     ]
    },
    {
     "name": "stderr",
     "output_type": "stream",
     "text": [
      "\r",
      "Running train:  95%|███████████████████████████████████████████████████████████████████████████████████████████████████▋     | 336/354 [04:23<00:14,  1.28it/s]"
     ]
    },
    {
     "name": "stderr",
     "output_type": "stream",
     "text": [
      "\r",
      "Running train:  95%|███████████████████████████████████████████████████████████████████████████████████████████████████▉     | 337/354 [04:24<00:13,  1.28it/s]"
     ]
    },
    {
     "name": "stderr",
     "output_type": "stream",
     "text": [
      "\r",
      "Running train:  95%|████████████████████████████████████████████████████████████████████████████████████████████████████▎    | 338/354 [04:25<00:12,  1.28it/s]"
     ]
    },
    {
     "name": "stderr",
     "output_type": "stream",
     "text": [
      "\r",
      "Running train:  96%|████████████████████████████████████████████████████████████████████████████████████████████████████▌    | 339/354 [04:25<00:11,  1.29it/s]"
     ]
    },
    {
     "name": "stderr",
     "output_type": "stream",
     "text": [
      "\r",
      "Running train:  96%|████████████████████████████████████████████████████████████████████████████████████████████████████▊    | 340/354 [04:26<00:10,  1.28it/s]"
     ]
    },
    {
     "name": "stderr",
     "output_type": "stream",
     "text": [
      "\r",
      "Running train:  96%|█████████████████████████████████████████████████████████████████████████████████████████████████████▏   | 341/354 [04:27<00:10,  1.28it/s]"
     ]
    },
    {
     "name": "stderr",
     "output_type": "stream",
     "text": [
      "\r",
      "Running train:  97%|█████████████████████████████████████████████████████████████████████████████████████████████████████▍   | 342/354 [04:28<00:09,  1.28it/s]"
     ]
    },
    {
     "name": "stderr",
     "output_type": "stream",
     "text": [
      "\r",
      "Running train:  97%|█████████████████████████████████████████████████████████████████████████████████████████████████████▋   | 343/354 [04:28<00:08,  1.28it/s]"
     ]
    },
    {
     "name": "stderr",
     "output_type": "stream",
     "text": [
      "\r",
      "Running train:  97%|██████████████████████████████████████████████████████████████████████████████████████████████████████   | 344/354 [04:29<00:07,  1.31it/s]"
     ]
    },
    {
     "name": "stderr",
     "output_type": "stream",
     "text": [
      "\r",
      "Running train:  97%|██████████████████████████████████████████████████████████████████████████████████████████████████████▎  | 345/354 [04:30<00:06,  1.33it/s]"
     ]
    },
    {
     "name": "stderr",
     "output_type": "stream",
     "text": [
      "\r",
      "Running train:  98%|██████████████████████████████████████████████████████████████████████████████████████████████████████▋  | 346/354 [04:31<00:05,  1.35it/s]"
     ]
    },
    {
     "name": "stderr",
     "output_type": "stream",
     "text": [
      "\r",
      "Running train:  98%|██████████████████████████████████████████████████████████████████████████████████████████████████████▉  | 347/354 [04:31<00:05,  1.37it/s]"
     ]
    },
    {
     "name": "stderr",
     "output_type": "stream",
     "text": [
      "\r",
      "Running train:  98%|███████████████████████████████████████████████████████████████████████████████████████████████████████▏ | 348/354 [04:32<00:04,  1.38it/s]"
     ]
    },
    {
     "name": "stderr",
     "output_type": "stream",
     "text": [
      "\r",
      "Running train:  99%|███████████████████████████████████████████████████████████████████████████████████████████████████████▌ | 349/354 [04:33<00:03,  1.33it/s]"
     ]
    },
    {
     "name": "stderr",
     "output_type": "stream",
     "text": [
      "\r",
      "Running train:  99%|███████████████████████████████████████████████████████████████████████████████████████████████████████▊ | 350/354 [04:34<00:02,  1.37it/s]"
     ]
    },
    {
     "name": "stderr",
     "output_type": "stream",
     "text": [
      "\r",
      "Running train:  99%|████████████████████████████████████████████████████████████████████████████████████████████████████████ | 351/354 [04:34<00:02,  1.33it/s]"
     ]
    },
    {
     "name": "stderr",
     "output_type": "stream",
     "text": [
      "\r",
      "Running train:  99%|████████████████████████████████████████████████████████████████████████████████████████████████████████▍| 352/354 [04:35<00:01,  1.34it/s]"
     ]
    },
    {
     "name": "stderr",
     "output_type": "stream",
     "text": [
      "\r",
      "Running train: 100%|████████████████████████████████████████████████████████████████████████████████████████████████████████▋| 353/354 [04:36<00:00,  1.36it/s]"
     ]
    },
    {
     "name": "stderr",
     "output_type": "stream",
     "text": [
      "\r",
      "Running train: 100%|█████████████████████████████████████████████████████████████████████████████████████████████████████████| 354/354 [04:36<00:00,  1.56it/s]"
     ]
    },
    {
     "name": "stderr",
     "output_type": "stream",
     "text": [
      "\r",
      "Running train: 100%|█████████████████████████████████████████████████████████████████████████████████████████████████████████| 354/354 [04:36<00:00,  1.28it/s]"
     ]
    },
    {
     "name": "stderr",
     "output_type": "stream",
     "text": [
      "\n"
     ]
    },
    {
     "name": "stdout",
     "output_type": "stream",
     "text": [
      "train Loss: 1.6477 Acc: 0.4257\n",
      "train Epoch Entropy: 0.6916\n",
      "\n"
     ]
    },
    {
     "name": "stderr",
     "output_type": "stream",
     "text": [
      "\r",
      "Running val:   0%|                                                                                                                      | 0/89 [00:00<?, ?it/s]"
     ]
    },
    {
     "name": "stderr",
     "output_type": "stream",
     "text": [
      "\r",
      "Running val:   1%|█▏                                                                                                            | 1/89 [00:00<00:37,  2.34it/s]"
     ]
    },
    {
     "name": "stderr",
     "output_type": "stream",
     "text": [
      "\r",
      "Running val:   2%|██▍                                                                                                           | 2/89 [00:00<00:33,  2.56it/s]"
     ]
    },
    {
     "name": "stderr",
     "output_type": "stream",
     "text": [
      "\r",
      "Running val:   3%|███▋                                                                                                          | 3/89 [00:01<00:34,  2.47it/s]"
     ]
    },
    {
     "name": "stderr",
     "output_type": "stream",
     "text": [
      "\r",
      "Running val:   4%|████▉                                                                                                         | 4/89 [00:01<00:34,  2.49it/s]"
     ]
    },
    {
     "name": "stderr",
     "output_type": "stream",
     "text": [
      "\r",
      "Running val:   6%|██████▏                                                                                                       | 5/89 [00:02<00:34,  2.43it/s]"
     ]
    },
    {
     "name": "stderr",
     "output_type": "stream",
     "text": [
      "\r",
      "Running val:   7%|███████▍                                                                                                      | 6/89 [00:02<00:32,  2.57it/s]"
     ]
    },
    {
     "name": "stderr",
     "output_type": "stream",
     "text": [
      "\r",
      "Running val:   8%|████████▋                                                                                                     | 7/89 [00:02<00:33,  2.43it/s]"
     ]
    },
    {
     "name": "stderr",
     "output_type": "stream",
     "text": [
      "\r",
      "Running val:   9%|█████████▉                                                                                                    | 8/89 [00:03<00:32,  2.53it/s]"
     ]
    },
    {
     "name": "stderr",
     "output_type": "stream",
     "text": [
      "\r",
      "Running val:  10%|███████████                                                                                                   | 9/89 [00:03<00:33,  2.42it/s]"
     ]
    },
    {
     "name": "stderr",
     "output_type": "stream",
     "text": [
      "\r",
      "Running val:  11%|████████████▏                                                                                                | 10/89 [00:04<00:31,  2.50it/s]"
     ]
    },
    {
     "name": "stderr",
     "output_type": "stream",
     "text": [
      "\r",
      "Running val:  12%|█████████████▍                                                                                               | 11/89 [00:04<00:31,  2.47it/s]"
     ]
    },
    {
     "name": "stderr",
     "output_type": "stream",
     "text": [
      "\r",
      "Running val:  13%|██████████████▋                                                                                              | 12/89 [00:04<00:30,  2.51it/s]"
     ]
    },
    {
     "name": "stderr",
     "output_type": "stream",
     "text": [
      "\r",
      "Running val:  15%|███████████████▉                                                                                             | 13/89 [00:05<00:30,  2.46it/s]"
     ]
    },
    {
     "name": "stderr",
     "output_type": "stream",
     "text": [
      "\r",
      "Running val:  16%|█████████████████▏                                                                                           | 14/89 [00:05<00:28,  2.61it/s]"
     ]
    },
    {
     "name": "stderr",
     "output_type": "stream",
     "text": [
      "\r",
      "Running val:  17%|██████████████████▎                                                                                          | 15/89 [00:06<00:29,  2.51it/s]"
     ]
    },
    {
     "name": "stderr",
     "output_type": "stream",
     "text": [
      "\r",
      "Running val:  18%|███████████████████▌                                                                                         | 16/89 [00:06<00:29,  2.50it/s]"
     ]
    },
    {
     "name": "stderr",
     "output_type": "stream",
     "text": [
      "\r",
      "Running val:  19%|████████████████████▊                                                                                        | 17/89 [00:06<00:29,  2.44it/s]"
     ]
    },
    {
     "name": "stderr",
     "output_type": "stream",
     "text": [
      "\r",
      "Running val:  20%|██████████████████████                                                                                       | 18/89 [00:07<00:28,  2.46it/s]"
     ]
    },
    {
     "name": "stderr",
     "output_type": "stream",
     "text": [
      "\r",
      "Running val:  21%|███████████████████████▎                                                                                     | 19/89 [00:07<00:28,  2.44it/s]"
     ]
    },
    {
     "name": "stderr",
     "output_type": "stream",
     "text": [
      "\r",
      "Running val:  22%|████████████████████████▍                                                                                    | 20/89 [00:08<00:28,  2.43it/s]"
     ]
    },
    {
     "name": "stderr",
     "output_type": "stream",
     "text": [
      "\r",
      "Running val:  24%|█████████████████████████▋                                                                                   | 21/89 [00:08<00:28,  2.40it/s]"
     ]
    },
    {
     "name": "stderr",
     "output_type": "stream",
     "text": [
      "\r",
      "Running val:  25%|██████████████████████████▉                                                                                  | 22/89 [00:08<00:27,  2.43it/s]"
     ]
    },
    {
     "name": "stderr",
     "output_type": "stream",
     "text": [
      "\r",
      "Running val:  26%|████████████████████████████▏                                                                                | 23/89 [00:09<00:27,  2.43it/s]"
     ]
    },
    {
     "name": "stderr",
     "output_type": "stream",
     "text": [
      "\r",
      "Running val:  27%|█████████████████████████████▍                                                                               | 24/89 [00:09<00:25,  2.54it/s]"
     ]
    },
    {
     "name": "stderr",
     "output_type": "stream",
     "text": [
      "\r",
      "Running val:  28%|██████████████████████████████▌                                                                              | 25/89 [00:10<00:26,  2.45it/s]"
     ]
    },
    {
     "name": "stderr",
     "output_type": "stream",
     "text": [
      "\r",
      "Running val:  29%|███████████████████████████████▊                                                                             | 26/89 [00:10<00:25,  2.46it/s]"
     ]
    },
    {
     "name": "stderr",
     "output_type": "stream",
     "text": [
      "\r",
      "Running val:  30%|█████████████████████████████████                                                                            | 27/89 [00:10<00:25,  2.43it/s]"
     ]
    },
    {
     "name": "stderr",
     "output_type": "stream",
     "text": [
      "\r",
      "Running val:  31%|██████████████████████████████████▎                                                                          | 28/89 [00:11<00:25,  2.39it/s]"
     ]
    },
    {
     "name": "stderr",
     "output_type": "stream",
     "text": [
      "\r",
      "Running val:  33%|███████████████████████████████████▌                                                                         | 29/89 [00:11<00:24,  2.44it/s]"
     ]
    },
    {
     "name": "stderr",
     "output_type": "stream",
     "text": [
      "\r",
      "Running val:  34%|████████████████████████████████████▋                                                                        | 30/89 [00:12<00:23,  2.49it/s]"
     ]
    },
    {
     "name": "stderr",
     "output_type": "stream",
     "text": [
      "\r",
      "Running val:  35%|█████████████████████████████████████▉                                                                       | 31/89 [00:12<00:23,  2.47it/s]"
     ]
    },
    {
     "name": "stderr",
     "output_type": "stream",
     "text": [
      "\r",
      "Running val:  36%|███████████████████████████████████████▏                                                                     | 32/89 [00:12<00:22,  2.52it/s]"
     ]
    },
    {
     "name": "stderr",
     "output_type": "stream",
     "text": [
      "\r",
      "Running val:  37%|████████████████████████████████████████▍                                                                    | 33/89 [00:13<00:22,  2.46it/s]"
     ]
    },
    {
     "name": "stderr",
     "output_type": "stream",
     "text": [
      "\r",
      "Running val:  38%|█████████████████████████████████████████▋                                                                   | 34/89 [00:13<00:22,  2.50it/s]"
     ]
    },
    {
     "name": "stderr",
     "output_type": "stream",
     "text": [
      "\r",
      "Running val:  39%|██████████████████████████████████████████▊                                                                  | 35/89 [00:14<00:21,  2.46it/s]"
     ]
    },
    {
     "name": "stderr",
     "output_type": "stream",
     "text": [
      "\r",
      "Running val:  40%|████████████████████████████████████████████                                                                 | 36/89 [00:14<00:22,  2.33it/s]"
     ]
    },
    {
     "name": "stderr",
     "output_type": "stream",
     "text": [
      "\r",
      "Running val:  42%|█████████████████████████████████████████████▎                                                               | 37/89 [00:15<00:21,  2.42it/s]"
     ]
    },
    {
     "name": "stderr",
     "output_type": "stream",
     "text": [
      "\r",
      "Running val:  43%|██████████████████████████████████████████████▌                                                              | 38/89 [00:15<00:21,  2.39it/s]"
     ]
    },
    {
     "name": "stderr",
     "output_type": "stream",
     "text": [
      "\r",
      "Running val:  44%|███████████████████████████████████████████████▊                                                             | 39/89 [00:15<00:20,  2.45it/s]"
     ]
    },
    {
     "name": "stderr",
     "output_type": "stream",
     "text": [
      "\r",
      "Running val:  45%|████████████████████████████████████████████████▉                                                            | 40/89 [00:16<00:20,  2.37it/s]"
     ]
    },
    {
     "name": "stderr",
     "output_type": "stream",
     "text": [
      "\r",
      "Running val:  46%|██████████████████████████████████████████████████▏                                                          | 41/89 [00:16<00:19,  2.47it/s]"
     ]
    },
    {
     "name": "stderr",
     "output_type": "stream",
     "text": [
      "\r",
      "Running val:  47%|███████████████████████████████████████████████████▍                                                         | 42/89 [00:17<00:19,  2.41it/s]"
     ]
    },
    {
     "name": "stderr",
     "output_type": "stream",
     "text": [
      "\r",
      "Running val:  48%|████████████████████████████████████████████████████▋                                                        | 43/89 [00:17<00:18,  2.43it/s]"
     ]
    },
    {
     "name": "stderr",
     "output_type": "stream",
     "text": [
      "\r",
      "Running val:  49%|█████████████████████████████████████████████████████▉                                                       | 44/89 [00:17<00:19,  2.33it/s]"
     ]
    },
    {
     "name": "stderr",
     "output_type": "stream",
     "text": [
      "\r",
      "Running val:  51%|███████████████████████████████████████████████████████                                                      | 45/89 [00:18<00:18,  2.40it/s]"
     ]
    },
    {
     "name": "stderr",
     "output_type": "stream",
     "text": [
      "\r",
      "Running val:  52%|████████████████████████████████████████████████████████▎                                                    | 46/89 [00:18<00:17,  2.43it/s]"
     ]
    },
    {
     "name": "stderr",
     "output_type": "stream",
     "text": [
      "\r",
      "Running val:  53%|█████████████████████████████████████████████████████████▌                                                   | 47/89 [00:19<00:16,  2.55it/s]"
     ]
    },
    {
     "name": "stderr",
     "output_type": "stream",
     "text": [
      "\r",
      "Running val:  54%|██████████████████████████████████████████████████████████▊                                                  | 48/89 [00:19<00:16,  2.49it/s]"
     ]
    },
    {
     "name": "stderr",
     "output_type": "stream",
     "text": [
      "\r",
      "Running val:  55%|████████████████████████████████████████████████████████████                                                 | 49/89 [00:19<00:16,  2.42it/s]"
     ]
    },
    {
     "name": "stderr",
     "output_type": "stream",
     "text": [
      "\r",
      "Running val:  56%|█████████████████████████████████████████████████████████████▏                                               | 50/89 [00:20<00:16,  2.40it/s]"
     ]
    },
    {
     "name": "stderr",
     "output_type": "stream",
     "text": [
      "\r",
      "Running val:  57%|██████████████████████████████████████████████████████████████▍                                              | 51/89 [00:20<00:16,  2.34it/s]"
     ]
    },
    {
     "name": "stderr",
     "output_type": "stream",
     "text": [
      "\r",
      "Running val:  58%|███████████████████████████████████████████████████████████████▋                                             | 52/89 [00:21<00:15,  2.33it/s]"
     ]
    },
    {
     "name": "stderr",
     "output_type": "stream",
     "text": [
      "\r",
      "Running val:  60%|████████████████████████████████████████████████████████████████▉                                            | 53/89 [00:21<00:15,  2.33it/s]"
     ]
    },
    {
     "name": "stderr",
     "output_type": "stream",
     "text": [
      "\r",
      "Running val:  61%|██████████████████████████████████████████████████████████████████▏                                          | 54/89 [00:22<00:14,  2.33it/s]"
     ]
    },
    {
     "name": "stderr",
     "output_type": "stream",
     "text": [
      "\r",
      "Running val:  62%|███████████████████████████████████████████████████████████████████▎                                         | 55/89 [00:22<00:14,  2.33it/s]"
     ]
    },
    {
     "name": "stderr",
     "output_type": "stream",
     "text": [
      "\r",
      "Running val:  63%|████████████████████████████████████████████████████████████████████▌                                        | 56/89 [00:22<00:14,  2.35it/s]"
     ]
    },
    {
     "name": "stderr",
     "output_type": "stream",
     "text": [
      "\r",
      "Running val:  64%|█████████████████████████████████████████████████████████████████████▊                                       | 57/89 [00:23<00:13,  2.34it/s]"
     ]
    },
    {
     "name": "stderr",
     "output_type": "stream",
     "text": [
      "\r",
      "Running val:  65%|███████████████████████████████████████████████████████████████████████                                      | 58/89 [00:23<00:13,  2.34it/s]"
     ]
    },
    {
     "name": "stderr",
     "output_type": "stream",
     "text": [
      "\r",
      "Running val:  66%|████████████████████████████████████████████████████████████████████████▎                                    | 59/89 [00:24<00:12,  2.34it/s]"
     ]
    },
    {
     "name": "stderr",
     "output_type": "stream",
     "text": [
      "\r",
      "Running val:  67%|█████████████████████████████████████████████████████████████████████████▍                                   | 60/89 [00:24<00:12,  2.36it/s]"
     ]
    },
    {
     "name": "stderr",
     "output_type": "stream",
     "text": [
      "\r",
      "Running val:  69%|██████████████████████████████████████████████████████████████████████████▋                                  | 61/89 [00:25<00:12,  2.33it/s]"
     ]
    },
    {
     "name": "stderr",
     "output_type": "stream",
     "text": [
      "\r",
      "Running val:  70%|███████████████████████████████████████████████████████████████████████████▉                                 | 62/89 [00:25<00:11,  2.28it/s]"
     ]
    },
    {
     "name": "stderr",
     "output_type": "stream",
     "text": [
      "\r",
      "Running val:  71%|█████████████████████████████████████████████████████████████████████████████▏                               | 63/89 [00:26<00:11,  2.32it/s]"
     ]
    },
    {
     "name": "stderr",
     "output_type": "stream",
     "text": [
      "\r",
      "Running val:  72%|██████████████████████████████████████████████████████████████████████████████▍                              | 64/89 [00:26<00:10,  2.30it/s]"
     ]
    },
    {
     "name": "stderr",
     "output_type": "stream",
     "text": [
      "\r",
      "Running val:  73%|███████████████████████████████████████████████████████████████████████████████▌                             | 65/89 [00:26<00:10,  2.35it/s]"
     ]
    },
    {
     "name": "stderr",
     "output_type": "stream",
     "text": [
      "\r",
      "Running val:  74%|████████████████████████████████████████████████████████████████████████████████▊                            | 66/89 [00:27<00:09,  2.40it/s]"
     ]
    },
    {
     "name": "stderr",
     "output_type": "stream",
     "text": [
      "\r",
      "Running val:  75%|██████████████████████████████████████████████████████████████████████████████████                           | 67/89 [00:27<00:09,  2.39it/s]"
     ]
    },
    {
     "name": "stderr",
     "output_type": "stream",
     "text": [
      "\r",
      "Running val:  76%|███████████████████████████████████████████████████████████████████████████████████▎                         | 68/89 [00:28<00:08,  2.38it/s]"
     ]
    },
    {
     "name": "stderr",
     "output_type": "stream",
     "text": [
      "\r",
      "Running val:  78%|████████████████████████████████████████████████████████████████████████████████████▌                        | 69/89 [00:28<00:08,  2.36it/s]"
     ]
    },
    {
     "name": "stderr",
     "output_type": "stream",
     "text": [
      "\r",
      "Running val:  79%|█████████████████████████████████████████████████████████████████████████████████████▋                       | 70/89 [00:28<00:08,  2.35it/s]"
     ]
    },
    {
     "name": "stderr",
     "output_type": "stream",
     "text": [
      "\r",
      "Running val:  80%|██████████████████████████████████████████████████████████████████████████████████████▉                      | 71/89 [00:29<00:07,  2.34it/s]"
     ]
    },
    {
     "name": "stderr",
     "output_type": "stream",
     "text": [
      "\r",
      "Running val:  81%|████████████████████████████████████████████████████████████████████████████████████████▏                    | 72/89 [00:29<00:07,  2.33it/s]"
     ]
    },
    {
     "name": "stderr",
     "output_type": "stream",
     "text": [
      "\r",
      "Running val:  82%|█████████████████████████████████████████████████████████████████████████████████████████▍                   | 73/89 [00:30<00:06,  2.31it/s]"
     ]
    },
    {
     "name": "stderr",
     "output_type": "stream",
     "text": [
      "\r",
      "Running val:  83%|██████████████████████████████████████████████████████████████████████████████████████████▋                  | 74/89 [00:30<00:06,  2.33it/s]"
     ]
    },
    {
     "name": "stderr",
     "output_type": "stream",
     "text": [
      "\r",
      "Running val:  84%|███████████████████████████████████████████████████████████████████████████████████████████▊                 | 75/89 [00:31<00:05,  2.34it/s]"
     ]
    },
    {
     "name": "stderr",
     "output_type": "stream",
     "text": [
      "\r",
      "Running val:  85%|█████████████████████████████████████████████████████████████████████████████████████████████                | 76/89 [00:31<00:05,  2.30it/s]"
     ]
    },
    {
     "name": "stderr",
     "output_type": "stream",
     "text": [
      "\r",
      "Running val:  87%|██████████████████████████████████████████████████████████████████████████████████████████████▎              | 77/89 [00:31<00:05,  2.32it/s]"
     ]
    },
    {
     "name": "stderr",
     "output_type": "stream",
     "text": [
      "\r",
      "Running val:  88%|███████████████████████████████████████████████████████████████████████████████████████████████▌             | 78/89 [00:32<00:04,  2.32it/s]"
     ]
    },
    {
     "name": "stderr",
     "output_type": "stream",
     "text": [
      "\r",
      "Running val:  89%|████████████████████████████████████████████████████████████████████████████████████████████████▊            | 79/89 [00:32<00:04,  2.28it/s]"
     ]
    },
    {
     "name": "stderr",
     "output_type": "stream",
     "text": [
      "\r",
      "Running val:  90%|█████████████████████████████████████████████████████████████████████████████████████████████████▉           | 80/89 [00:33<00:03,  2.33it/s]"
     ]
    },
    {
     "name": "stderr",
     "output_type": "stream",
     "text": [
      "\r",
      "Running val:  91%|███████████████████████████████████████████████████████████████████████████████████████████████████▏         | 81/89 [00:33<00:03,  2.31it/s]"
     ]
    },
    {
     "name": "stderr",
     "output_type": "stream",
     "text": [
      "\r",
      "Running val:  92%|████████████████████████████████████████████████████████████████████████████████████████████████████▍        | 82/89 [00:34<00:02,  2.34it/s]"
     ]
    },
    {
     "name": "stderr",
     "output_type": "stream",
     "text": [
      "\r",
      "Running val:  93%|█████████████████████████████████████████████████████████████████████████████████████████████████████▋       | 83/89 [00:34<00:02,  2.38it/s]"
     ]
    },
    {
     "name": "stderr",
     "output_type": "stream",
     "text": [
      "\r",
      "Running val:  94%|██████████████████████████████████████████████████████████████████████████████████████████████████████▉      | 84/89 [00:34<00:02,  2.37it/s]"
     ]
    },
    {
     "name": "stderr",
     "output_type": "stream",
     "text": [
      "\r",
      "Running val:  96%|████████████████████████████████████████████████████████████████████████████████████████████████████████     | 85/89 [00:35<00:01,  2.36it/s]"
     ]
    },
    {
     "name": "stderr",
     "output_type": "stream",
     "text": [
      "\r",
      "Running val:  97%|█████████████████████████████████████████████████████████████████████████████████████████████████████████▎   | 86/89 [00:35<00:01,  2.34it/s]"
     ]
    },
    {
     "name": "stderr",
     "output_type": "stream",
     "text": [
      "\r",
      "Running val:  98%|██████████████████████████████████████████████████████████████████████████████████████████████████████████▌  | 87/89 [00:36<00:00,  2.35it/s]"
     ]
    },
    {
     "name": "stderr",
     "output_type": "stream",
     "text": [
      "\r",
      "Running val:  99%|███████████████████████████████████████████████████████████████████████████████████████████████████████████▊ | 88/89 [00:36<00:00,  2.36it/s]"
     ]
    },
    {
     "name": "stderr",
     "output_type": "stream",
     "text": [
      "\r",
      "Running val: 100%|█████████████████████████████████████████████████████████████████████████████████████████████████████████████| 89/89 [00:36<00:00,  2.83it/s]"
     ]
    },
    {
     "name": "stderr",
     "output_type": "stream",
     "text": [
      "\r",
      "Running val: 100%|█████████████████████████████████████████████████████████████████████████████████████████████████████████████| 89/89 [00:36<00:00,  2.41it/s]"
     ]
    },
    {
     "name": "stderr",
     "output_type": "stream",
     "text": [
      "\n"
     ]
    },
    {
     "name": "stdout",
     "output_type": "stream",
     "text": [
      "val Loss: 1.6603 Acc: 0.4135\n",
      "val Epoch Entropy: 0.6761\n",
      "\n",
      "Epoch 5/499\n",
      "----------\n"
     ]
    },
    {
     "name": "stderr",
     "output_type": "stream",
     "text": [
      "\r",
      "Running train:   0%|                                                                           | 0/354 [00:00<?, ?it/s]"
     ]
    },
    {
     "name": "stderr",
     "output_type": "stream",
     "text": [
      "\r",
      "Running train:   0%|▏                                                                  | 1/354 [00:00<04:46,  1.23it/s]"
     ]
    },
    {
     "name": "stderr",
     "output_type": "stream",
     "text": [
      "\r",
      "Running train:   1%|▍                                                                  | 2/354 [00:01<04:47,  1.22it/s]"
     ]
    },
    {
     "name": "stderr",
     "output_type": "stream",
     "text": [
      "\r",
      "Running train:   1%|▌                                                                  | 3/354 [00:02<04:45,  1.23it/s]"
     ]
    },
    {
     "name": "stderr",
     "output_type": "stream",
     "text": [
      "\r",
      "Running train:   1%|▊                                                                  | 4/354 [00:03<04:46,  1.22it/s]"
     ]
    },
    {
     "name": "stderr",
     "output_type": "stream",
     "text": [
      "\r",
      "Running train:   1%|▉                                                                  | 5/354 [00:04<04:44,  1.23it/s]"
     ]
    },
    {
     "name": "stderr",
     "output_type": "stream",
     "text": [
      "\r",
      "Running train:   2%|█▏                                                                 | 6/354 [00:04<04:46,  1.22it/s]"
     ]
    },
    {
     "name": "stderr",
     "output_type": "stream",
     "text": [
      "\r",
      "Running train:   2%|█▎                                                                 | 7/354 [00:05<04:48,  1.20it/s]"
     ]
    },
    {
     "name": "stderr",
     "output_type": "stream",
     "text": [
      "\r",
      "Running train:   2%|█▌                                                                 | 8/354 [00:06<04:46,  1.21it/s]"
     ]
    },
    {
     "name": "stderr",
     "output_type": "stream",
     "text": [
      "\r",
      "Running train:   3%|█▋                                                                 | 9/354 [00:07<04:42,  1.22it/s]"
     ]
    },
    {
     "name": "stderr",
     "output_type": "stream",
     "text": [
      "\r",
      "Running train:   3%|█▊                                                                | 10/354 [00:08<04:44,  1.21it/s]"
     ]
    },
    {
     "name": "stderr",
     "output_type": "stream",
     "text": [
      "\r",
      "Running train:   3%|██                                                                | 11/354 [00:09<04:40,  1.22it/s]"
     ]
    },
    {
     "name": "stderr",
     "output_type": "stream",
     "text": [
      "\r",
      "Running train:   3%|██▏                                                               | 12/354 [00:09<04:39,  1.22it/s]"
     ]
    },
    {
     "name": "stderr",
     "output_type": "stream",
     "text": [
      "\r",
      "Running train:   4%|██▍                                                               | 13/354 [00:10<04:40,  1.22it/s]"
     ]
    },
    {
     "name": "stderr",
     "output_type": "stream",
     "text": [
      "\r",
      "Running train:   4%|██▌                                                               | 14/354 [00:11<04:39,  1.22it/s]"
     ]
    },
    {
     "name": "stderr",
     "output_type": "stream",
     "text": [
      "\r",
      "Running train:   4%|██▊                                                               | 15/354 [00:12<04:36,  1.23it/s]"
     ]
    },
    {
     "name": "stderr",
     "output_type": "stream",
     "text": [
      "\r",
      "Running train:   5%|██▉                                                               | 16/354 [00:13<04:34,  1.23it/s]"
     ]
    },
    {
     "name": "stderr",
     "output_type": "stream",
     "text": [
      "\r",
      "Running train:   5%|███▏                                                              | 17/354 [00:13<04:34,  1.23it/s]"
     ]
    },
    {
     "name": "stderr",
     "output_type": "stream",
     "text": [
      "\r",
      "Running train:   5%|███▎                                                              | 18/354 [00:14<04:33,  1.23it/s]"
     ]
    },
    {
     "name": "stderr",
     "output_type": "stream",
     "text": [
      "\r",
      "Running train:   5%|███▌                                                              | 19/354 [00:15<04:36,  1.21it/s]"
     ]
    },
    {
     "name": "stderr",
     "output_type": "stream",
     "text": [
      "\r",
      "Running train:   6%|███▋                                                              | 20/354 [00:16<04:32,  1.22it/s]"
     ]
    },
    {
     "name": "stderr",
     "output_type": "stream",
     "text": [
      "\r",
      "Running train:   6%|███▉                                                              | 21/354 [00:17<04:38,  1.19it/s]"
     ]
    },
    {
     "name": "stderr",
     "output_type": "stream",
     "text": [
      "\r",
      "Running train:   6%|████                                                              | 22/354 [00:18<04:48,  1.15it/s]"
     ]
    },
    {
     "name": "stderr",
     "output_type": "stream",
     "text": [
      "\r",
      "Running train:   6%|████▎                                                             | 23/354 [00:19<04:54,  1.13it/s]"
     ]
    },
    {
     "name": "stderr",
     "output_type": "stream",
     "text": [
      "\r",
      "Running train:   7%|████▍                                                             | 24/354 [00:19<04:46,  1.15it/s]"
     ]
    },
    {
     "name": "stderr",
     "output_type": "stream",
     "text": [
      "\r",
      "Running train:   7%|████▋                                                             | 25/354 [00:20<04:37,  1.18it/s]"
     ]
    },
    {
     "name": "stderr",
     "output_type": "stream",
     "text": [
      "\r",
      "Running train:   7%|████▊                                                             | 26/354 [00:21<04:35,  1.19it/s]"
     ]
    },
    {
     "name": "stderr",
     "output_type": "stream",
     "text": [
      "\r",
      "Running train:   8%|█████                                                             | 27/354 [00:22<04:32,  1.20it/s]"
     ]
    },
    {
     "name": "stderr",
     "output_type": "stream",
     "text": [
      "\r",
      "Running train:   8%|█████▏                                                            | 28/354 [00:23<04:31,  1.20it/s]"
     ]
    },
    {
     "name": "stderr",
     "output_type": "stream",
     "text": [
      "\r",
      "Running train:   8%|█████▍                                                            | 29/354 [00:24<04:27,  1.22it/s]"
     ]
    },
    {
     "name": "stderr",
     "output_type": "stream",
     "text": [
      "\r",
      "Running train:   8%|█████▌                                                            | 30/354 [00:24<04:25,  1.22it/s]"
     ]
    },
    {
     "name": "stderr",
     "output_type": "stream",
     "text": [
      "\r",
      "Running train:   9%|█████▊                                                            | 31/354 [00:25<04:23,  1.22it/s]"
     ]
    },
    {
     "name": "stderr",
     "output_type": "stream",
     "text": [
      "\r",
      "Running train:   9%|█████▉                                                            | 32/354 [00:26<04:21,  1.23it/s]"
     ]
    },
    {
     "name": "stderr",
     "output_type": "stream",
     "text": [
      "\r",
      "Running train:   9%|██████▏                                                           | 33/354 [00:27<04:16,  1.25it/s]"
     ]
    },
    {
     "name": "stderr",
     "output_type": "stream",
     "text": [
      "\r",
      "Running train:  10%|██████▎                                                           | 34/354 [00:28<04:14,  1.26it/s]"
     ]
    },
    {
     "name": "stderr",
     "output_type": "stream",
     "text": [
      "\r",
      "Running train:  10%|██████▌                                                           | 35/354 [00:28<04:14,  1.25it/s]"
     ]
    },
    {
     "name": "stderr",
     "output_type": "stream",
     "text": [
      "\r",
      "Running train:  10%|██████▋                                                           | 36/354 [00:29<04:15,  1.25it/s]"
     ]
    },
    {
     "name": "stderr",
     "output_type": "stream",
     "text": [
      "\r",
      "Running train:  10%|██████▉                                                           | 37/354 [00:30<04:13,  1.25it/s]"
     ]
    },
    {
     "name": "stderr",
     "output_type": "stream",
     "text": [
      "\r",
      "Running train:  11%|███████                                                           | 38/354 [00:31<04:12,  1.25it/s]"
     ]
    },
    {
     "name": "stderr",
     "output_type": "stream",
     "text": [
      "\r",
      "Running train:  11%|███████▎                                                          | 39/354 [00:32<04:29,  1.17it/s]"
     ]
    },
    {
     "name": "stderr",
     "output_type": "stream",
     "text": [
      "\r",
      "Running train:  11%|███████▍                                                          | 40/354 [00:33<04:22,  1.20it/s]"
     ]
    },
    {
     "name": "stderr",
     "output_type": "stream",
     "text": [
      "\r",
      "Running train:  12%|███████▋                                                          | 41/354 [00:33<04:19,  1.20it/s]"
     ]
    },
    {
     "name": "stderr",
     "output_type": "stream",
     "text": [
      "\r",
      "Running train:  12%|███████▊                                                          | 42/354 [00:34<04:16,  1.22it/s]"
     ]
    },
    {
     "name": "stderr",
     "output_type": "stream",
     "text": [
      "\r",
      "Running train:  12%|████████                                                          | 43/354 [00:35<04:18,  1.20it/s]"
     ]
    },
    {
     "name": "stderr",
     "output_type": "stream",
     "text": [
      "\r",
      "Running train:  12%|████████▏                                                         | 44/354 [00:36<04:14,  1.22it/s]"
     ]
    },
    {
     "name": "stderr",
     "output_type": "stream",
     "text": [
      "\r",
      "Running train:  13%|████████▍                                                         | 45/354 [00:37<04:12,  1.22it/s]"
     ]
    },
    {
     "name": "stderr",
     "output_type": "stream",
     "text": [
      "\r",
      "Running train:  13%|████████▌                                                         | 46/354 [00:38<04:22,  1.17it/s]"
     ]
    },
    {
     "name": "stderr",
     "output_type": "stream",
     "text": [
      "\r",
      "Running train:  13%|████████▊                                                         | 47/354 [00:38<04:15,  1.20it/s]"
     ]
    },
    {
     "name": "stderr",
     "output_type": "stream",
     "text": [
      "\r",
      "Running train:  14%|████████▉                                                         | 48/354 [00:39<04:11,  1.21it/s]"
     ]
    },
    {
     "name": "stderr",
     "output_type": "stream",
     "text": [
      "\r",
      "Running train:  14%|█████████▏                                                        | 49/354 [00:40<04:10,  1.22it/s]"
     ]
    },
    {
     "name": "stderr",
     "output_type": "stream",
     "text": [
      "\r",
      "Running train:  14%|█████████▎                                                        | 50/354 [00:41<04:06,  1.23it/s]"
     ]
    },
    {
     "name": "stderr",
     "output_type": "stream",
     "text": [
      "\r",
      "Running train:  14%|█████████▌                                                        | 51/354 [00:41<04:03,  1.24it/s]"
     ]
    },
    {
     "name": "stderr",
     "output_type": "stream",
     "text": [
      "\r",
      "Running train:  15%|█████████▋                                                        | 52/354 [00:42<04:00,  1.25it/s]"
     ]
    },
    {
     "name": "stderr",
     "output_type": "stream",
     "text": [
      "\r",
      "Running train:  15%|█████████▉                                                        | 53/354 [00:43<03:59,  1.26it/s]"
     ]
    },
    {
     "name": "stderr",
     "output_type": "stream",
     "text": [
      "\r",
      "Running train:  15%|██████████                                                        | 54/354 [00:44<04:01,  1.24it/s]"
     ]
    },
    {
     "name": "stderr",
     "output_type": "stream",
     "text": [
      "\r",
      "Running train:  16%|██████████▎                                                       | 55/354 [00:45<03:58,  1.25it/s]"
     ]
    },
    {
     "name": "stderr",
     "output_type": "stream",
     "text": [
      "\r",
      "Running train:  16%|██████████▍                                                       | 56/354 [00:46<04:00,  1.24it/s]"
     ]
    },
    {
     "name": "stderr",
     "output_type": "stream",
     "text": [
      "\r",
      "Running train:  16%|██████████▋                                                       | 57/354 [00:46<04:02,  1.23it/s]"
     ]
    },
    {
     "name": "stderr",
     "output_type": "stream",
     "text": [
      "\r",
      "Running train:  16%|██████████▊                                                       | 58/354 [00:47<03:58,  1.24it/s]"
     ]
    },
    {
     "name": "stderr",
     "output_type": "stream",
     "text": [
      "\r",
      "Running train:  17%|███████████                                                       | 59/354 [00:48<03:54,  1.26it/s]"
     ]
    },
    {
     "name": "stderr",
     "output_type": "stream",
     "text": [
      "\r",
      "Running train:  17%|███████████▏                                                      | 60/354 [00:49<03:52,  1.27it/s]"
     ]
    },
    {
     "name": "stderr",
     "output_type": "stream",
     "text": [
      "\r",
      "Running train:  17%|███████████▎                                                      | 61/354 [00:49<03:44,  1.30it/s]"
     ]
    },
    {
     "name": "stderr",
     "output_type": "stream",
     "text": [
      "\r",
      "Running train:  18%|███████████▌                                                      | 62/354 [00:50<03:39,  1.33it/s]"
     ]
    },
    {
     "name": "stderr",
     "output_type": "stream",
     "text": [
      "\r",
      "Running train:  18%|███████████▋                                                      | 63/354 [00:51<03:34,  1.35it/s]"
     ]
    },
    {
     "name": "stderr",
     "output_type": "stream",
     "text": [
      "\r",
      "Running train:  18%|███████████▉                                                      | 64/354 [00:52<03:38,  1.32it/s]"
     ]
    },
    {
     "name": "stderr",
     "output_type": "stream",
     "text": [
      "\r",
      "Running train:  18%|████████████                                                      | 65/354 [00:52<03:41,  1.30it/s]"
     ]
    },
    {
     "name": "stderr",
     "output_type": "stream",
     "text": [
      "\r",
      "Running train:  19%|████████████▎                                                     | 66/354 [00:53<03:43,  1.29it/s]"
     ]
    },
    {
     "name": "stderr",
     "output_type": "stream",
     "text": [
      "\r",
      "Running train:  19%|████████████▍                                                     | 67/354 [00:54<03:44,  1.28it/s]"
     ]
    },
    {
     "name": "stderr",
     "output_type": "stream",
     "text": [
      "\r",
      "Running train:  19%|████████████▋                                                     | 68/354 [00:55<03:44,  1.27it/s]"
     ]
    },
    {
     "name": "stderr",
     "output_type": "stream",
     "text": [
      "\r",
      "Running train:  19%|████████████▊                                                     | 69/354 [00:55<03:37,  1.31it/s]"
     ]
    },
    {
     "name": "stderr",
     "output_type": "stream",
     "text": [
      "\r",
      "Running train:  20%|█████████████                                                     | 70/354 [00:56<03:35,  1.32it/s]"
     ]
    },
    {
     "name": "stderr",
     "output_type": "stream",
     "text": [
      "\r",
      "Running train:  20%|█████████████▏                                                    | 71/354 [00:57<03:38,  1.29it/s]"
     ]
    },
    {
     "name": "stderr",
     "output_type": "stream",
     "text": [
      "\r",
      "Running train:  20%|█████████████▍                                                    | 72/354 [00:58<03:39,  1.29it/s]"
     ]
    },
    {
     "name": "stderr",
     "output_type": "stream",
     "text": [
      "\r",
      "Running train:  21%|█████████████▌                                                    | 73/354 [00:59<03:32,  1.32it/s]"
     ]
    },
    {
     "name": "stderr",
     "output_type": "stream",
     "text": [
      "\r",
      "Running train:  21%|█████████████▊                                                    | 74/354 [00:59<03:28,  1.35it/s]"
     ]
    },
    {
     "name": "stderr",
     "output_type": "stream",
     "text": [
      "\r",
      "Running train:  21%|█████████████▉                                                    | 75/354 [01:00<03:27,  1.35it/s]"
     ]
    },
    {
     "name": "stderr",
     "output_type": "stream",
     "text": [
      "\r",
      "Running train:  21%|██████████████▏                                                   | 76/354 [01:01<03:31,  1.31it/s]"
     ]
    },
    {
     "name": "stderr",
     "output_type": "stream",
     "text": [
      "\r",
      "Running train:  22%|██████████████▎                                                   | 77/354 [01:02<03:36,  1.28it/s]"
     ]
    },
    {
     "name": "stderr",
     "output_type": "stream",
     "text": [
      "\r",
      "Running train:  22%|██████████████▌                                                   | 78/354 [01:02<03:28,  1.32it/s]"
     ]
    },
    {
     "name": "stderr",
     "output_type": "stream",
     "text": [
      "\r",
      "Running train:  22%|██████████████▋                                                   | 79/354 [01:03<03:22,  1.36it/s]"
     ]
    },
    {
     "name": "stderr",
     "output_type": "stream",
     "text": [
      "\r",
      "Running train:  23%|██████████████▉                                                   | 80/354 [01:04<03:21,  1.36it/s]"
     ]
    },
    {
     "name": "stderr",
     "output_type": "stream",
     "text": [
      "\r",
      "Running train:  23%|███████████████                                                   | 81/354 [01:05<03:25,  1.33it/s]"
     ]
    },
    {
     "name": "stderr",
     "output_type": "stream",
     "text": [
      "\r",
      "Running train:  23%|███████████████▎                                                  | 82/354 [01:05<03:29,  1.30it/s]"
     ]
    },
    {
     "name": "stderr",
     "output_type": "stream",
     "text": [
      "\r",
      "Running train:  23%|███████████████▍                                                  | 83/354 [01:06<03:24,  1.32it/s]"
     ]
    },
    {
     "name": "stderr",
     "output_type": "stream",
     "text": [
      "\r",
      "Running train:  24%|███████████████▋                                                  | 84/354 [01:07<03:25,  1.31it/s]"
     ]
    },
    {
     "name": "stderr",
     "output_type": "stream",
     "text": [
      "\r",
      "Running train:  24%|███████████████▊                                                  | 85/354 [01:08<03:21,  1.33it/s]"
     ]
    },
    {
     "name": "stderr",
     "output_type": "stream",
     "text": [
      "\r",
      "Running train:  24%|████████████████                                                  | 86/354 [01:08<03:26,  1.30it/s]"
     ]
    },
    {
     "name": "stderr",
     "output_type": "stream",
     "text": [
      "\r",
      "Running train:  25%|████████████████▏                                                 | 87/354 [01:09<03:28,  1.28it/s]"
     ]
    },
    {
     "name": "stderr",
     "output_type": "stream",
     "text": [
      "\r",
      "Running train:  25%|████████████████▍                                                 | 88/354 [01:10<03:27,  1.28it/s]"
     ]
    },
    {
     "name": "stderr",
     "output_type": "stream",
     "text": [
      "\r",
      "Running train:  25%|████████████████▌                                                 | 89/354 [01:11<03:26,  1.29it/s]"
     ]
    },
    {
     "name": "stderr",
     "output_type": "stream",
     "text": [
      "\r",
      "Running train:  25%|████████████████▊                                                 | 90/354 [01:12<03:25,  1.28it/s]"
     ]
    },
    {
     "name": "stderr",
     "output_type": "stream",
     "text": [
      "\r",
      "Running train:  26%|████████████████▉                                                 | 91/354 [01:12<03:32,  1.24it/s]"
     ]
    },
    {
     "name": "stderr",
     "output_type": "stream",
     "text": [
      "\r",
      "Running train:  26%|█████████████████▏                                                | 92/354 [01:13<03:28,  1.26it/s]"
     ]
    },
    {
     "name": "stderr",
     "output_type": "stream",
     "text": [
      "\r",
      "Running train:  26%|█████████████████▎                                                | 93/354 [01:14<03:25,  1.27it/s]"
     ]
    },
    {
     "name": "stderr",
     "output_type": "stream",
     "text": [
      "\r",
      "Running train:  27%|█████████████████▌                                                | 94/354 [01:15<03:23,  1.28it/s]"
     ]
    },
    {
     "name": "stderr",
     "output_type": "stream",
     "text": [
      "\r",
      "Running train:  27%|█████████████████▋                                                | 95/354 [01:15<03:16,  1.32it/s]"
     ]
    },
    {
     "name": "stderr",
     "output_type": "stream",
     "text": [
      "\r",
      "Running train:  27%|█████████████████▉                                                | 96/354 [01:16<03:16,  1.31it/s]"
     ]
    },
    {
     "name": "stderr",
     "output_type": "stream",
     "text": [
      "\r",
      "Running train:  27%|██████████████████                                                | 97/354 [01:17<03:19,  1.29it/s]"
     ]
    },
    {
     "name": "stderr",
     "output_type": "stream",
     "text": [
      "\r",
      "Running train:  28%|██████████████████▎                                               | 98/354 [01:18<03:18,  1.29it/s]"
     ]
    },
    {
     "name": "stderr",
     "output_type": "stream",
     "text": [
      "\r",
      "Running train:  28%|██████████████████▍                                               | 99/354 [01:18<03:14,  1.31it/s]"
     ]
    },
    {
     "name": "stderr",
     "output_type": "stream",
     "text": [
      "\r",
      "Running train:  28%|██████████████████▎                                              | 100/354 [01:19<03:12,  1.32it/s]"
     ]
    },
    {
     "name": "stderr",
     "output_type": "stream",
     "text": [
      "\r",
      "Running train:  29%|██████████████████▌                                              | 101/354 [01:20<03:13,  1.30it/s]"
     ]
    },
    {
     "name": "stderr",
     "output_type": "stream",
     "text": [
      "\r",
      "Running train:  29%|██████████████████▋                                              | 102/354 [01:21<03:16,  1.28it/s]"
     ]
    },
    {
     "name": "stderr",
     "output_type": "stream",
     "text": [
      "\r",
      "Running train:  29%|██████████████████▉                                              | 103/354 [01:22<03:11,  1.31it/s]"
     ]
    },
    {
     "name": "stderr",
     "output_type": "stream",
     "text": [
      "\r",
      "Running train:  29%|███████████████████                                              | 104/354 [01:22<03:11,  1.30it/s]"
     ]
    },
    {
     "name": "stderr",
     "output_type": "stream",
     "text": [
      "\r",
      "Running train:  30%|███████████████████▎                                             | 105/354 [01:23<03:11,  1.30it/s]"
     ]
    },
    {
     "name": "stderr",
     "output_type": "stream",
     "text": [
      "\r",
      "Running train:  30%|███████████████████▍                                             | 106/354 [01:24<03:08,  1.32it/s]"
     ]
    },
    {
     "name": "stderr",
     "output_type": "stream",
     "text": [
      "\r",
      "Running train:  30%|███████████████████▋                                             | 107/354 [01:25<03:10,  1.30it/s]"
     ]
    },
    {
     "name": "stderr",
     "output_type": "stream",
     "text": [
      "\r",
      "Running train:  31%|███████████████████▊                                             | 108/354 [01:25<03:09,  1.30it/s]"
     ]
    },
    {
     "name": "stderr",
     "output_type": "stream",
     "text": [
      "\r",
      "Running train:  31%|████████████████████                                             | 109/354 [01:26<03:12,  1.27it/s]"
     ]
    },
    {
     "name": "stderr",
     "output_type": "stream",
     "text": [
      "\r",
      "Running train:  31%|████████████████████▏                                            | 110/354 [01:27<03:10,  1.28it/s]"
     ]
    },
    {
     "name": "stderr",
     "output_type": "stream",
     "text": [
      "\r",
      "Running train:  31%|████████████████████▍                                            | 111/354 [01:28<03:11,  1.27it/s]"
     ]
    },
    {
     "name": "stderr",
     "output_type": "stream",
     "text": [
      "\r",
      "Running train:  32%|████████████████████▌                                            | 112/354 [01:29<03:11,  1.26it/s]"
     ]
    },
    {
     "name": "stderr",
     "output_type": "stream",
     "text": [
      "\r",
      "Running train:  32%|████████████████████▋                                            | 113/354 [01:29<03:09,  1.27it/s]"
     ]
    },
    {
     "name": "stderr",
     "output_type": "stream",
     "text": [
      "\r",
      "Running train:  32%|████████████████████▉                                            | 114/354 [01:30<03:07,  1.28it/s]"
     ]
    },
    {
     "name": "stderr",
     "output_type": "stream",
     "text": [
      "\r",
      "Running train:  32%|█████████████████████                                            | 115/354 [01:31<03:09,  1.26it/s]"
     ]
    },
    {
     "name": "stderr",
     "output_type": "stream",
     "text": [
      "\r",
      "Running train:  33%|█████████████████████▎                                           | 116/354 [01:32<03:06,  1.27it/s]"
     ]
    },
    {
     "name": "stderr",
     "output_type": "stream",
     "text": [
      "\r",
      "Running train:  33%|█████████████████████▍                                           | 117/354 [01:33<03:06,  1.27it/s]"
     ]
    },
    {
     "name": "stderr",
     "output_type": "stream",
     "text": [
      "\r",
      "Running train:  33%|█████████████████████▋                                           | 118/354 [01:33<03:05,  1.27it/s]"
     ]
    },
    {
     "name": "stderr",
     "output_type": "stream",
     "text": [
      "\r",
      "Running train:  34%|█████████████████████▊                                           | 119/354 [01:34<03:00,  1.31it/s]"
     ]
    },
    {
     "name": "stderr",
     "output_type": "stream",
     "text": [
      "\r",
      "Running train:  34%|██████████████████████                                           | 120/354 [01:35<03:00,  1.30it/s]"
     ]
    },
    {
     "name": "stderr",
     "output_type": "stream",
     "text": [
      "\r",
      "Running train:  34%|██████████████████████▏                                          | 121/354 [01:36<02:59,  1.30it/s]"
     ]
    },
    {
     "name": "stderr",
     "output_type": "stream",
     "text": [
      "\r",
      "Running train:  34%|██████████████████████▍                                          | 122/354 [01:36<02:59,  1.30it/s]"
     ]
    },
    {
     "name": "stderr",
     "output_type": "stream",
     "text": [
      "\r",
      "Running train:  35%|██████████████████████▌                                          | 123/354 [01:37<02:59,  1.28it/s]"
     ]
    },
    {
     "name": "stderr",
     "output_type": "stream",
     "text": [
      "\r",
      "Running train:  35%|██████████████████████▊                                          | 124/354 [01:38<02:59,  1.28it/s]"
     ]
    },
    {
     "name": "stderr",
     "output_type": "stream",
     "text": [
      "\r",
      "Running train:  35%|██████████████████████▉                                          | 125/354 [01:39<02:57,  1.29it/s]"
     ]
    },
    {
     "name": "stderr",
     "output_type": "stream",
     "text": [
      "\r",
      "Running train:  36%|███████████████████████▏                                         | 126/354 [01:40<02:59,  1.27it/s]"
     ]
    },
    {
     "name": "stderr",
     "output_type": "stream",
     "text": [
      "\r",
      "Running train:  36%|███████████████████████▎                                         | 127/354 [01:40<02:56,  1.29it/s]"
     ]
    },
    {
     "name": "stderr",
     "output_type": "stream",
     "text": [
      "\r",
      "Running train:  36%|███████████████████████▌                                         | 128/354 [01:41<02:53,  1.30it/s]"
     ]
    },
    {
     "name": "stderr",
     "output_type": "stream",
     "text": [
      "\r",
      "Running train:  36%|███████████████████████▋                                         | 129/354 [01:42<02:54,  1.29it/s]"
     ]
    },
    {
     "name": "stderr",
     "output_type": "stream",
     "text": [
      "\r",
      "Running train:  37%|███████████████████████▊                                         | 130/354 [01:43<02:54,  1.29it/s]"
     ]
    },
    {
     "name": "stderr",
     "output_type": "stream",
     "text": [
      "\r",
      "Running train:  37%|████████████████████████                                         | 131/354 [01:43<02:59,  1.24it/s]"
     ]
    },
    {
     "name": "stderr",
     "output_type": "stream",
     "text": [
      "\r",
      "Running train:  37%|████████████████████████▏                                        | 132/354 [01:44<02:58,  1.24it/s]"
     ]
    },
    {
     "name": "stderr",
     "output_type": "stream",
     "text": [
      "\r",
      "Running train:  38%|████████████████████████▍                                        | 133/354 [01:45<02:58,  1.24it/s]"
     ]
    },
    {
     "name": "stderr",
     "output_type": "stream",
     "text": [
      "\r",
      "Running train:  38%|████████████████████████▌                                        | 134/354 [01:46<02:52,  1.27it/s]"
     ]
    },
    {
     "name": "stderr",
     "output_type": "stream",
     "text": [
      "\r",
      "Running train:  38%|████████████████████████▊                                        | 135/354 [01:47<02:51,  1.28it/s]"
     ]
    },
    {
     "name": "stderr",
     "output_type": "stream",
     "text": [
      "\r",
      "Running train:  38%|████████████████████████▉                                        | 136/354 [01:47<02:50,  1.28it/s]"
     ]
    },
    {
     "name": "stderr",
     "output_type": "stream",
     "text": [
      "\r",
      "Running train:  39%|█████████████████████████▏                                       | 137/354 [01:48<02:46,  1.30it/s]"
     ]
    },
    {
     "name": "stderr",
     "output_type": "stream",
     "text": [
      "\r",
      "Running train:  39%|█████████████████████████▎                                       | 138/354 [01:49<02:43,  1.32it/s]"
     ]
    },
    {
     "name": "stderr",
     "output_type": "stream",
     "text": [
      "\r",
      "Running train:  39%|█████████████████████████▌                                       | 139/354 [01:50<02:44,  1.30it/s]"
     ]
    },
    {
     "name": "stderr",
     "output_type": "stream",
     "text": [
      "\r",
      "Running train:  40%|█████████████████████████▋                                       | 140/354 [01:50<02:43,  1.31it/s]"
     ]
    },
    {
     "name": "stderr",
     "output_type": "stream",
     "text": [
      "\r",
      "Running train:  40%|█████████████████████████▉                                       | 141/354 [01:51<02:41,  1.32it/s]"
     ]
    },
    {
     "name": "stderr",
     "output_type": "stream",
     "text": [
      "\r",
      "Running train:  40%|██████████████████████████                                       | 142/354 [01:52<02:43,  1.30it/s]"
     ]
    },
    {
     "name": "stderr",
     "output_type": "stream",
     "text": [
      "\r",
      "Running train:  40%|██████████████████████████▎                                      | 143/354 [01:53<02:39,  1.32it/s]"
     ]
    },
    {
     "name": "stderr",
     "output_type": "stream",
     "text": [
      "\r",
      "Running train:  41%|██████████████████████████▍                                      | 144/354 [01:53<02:40,  1.31it/s]"
     ]
    },
    {
     "name": "stderr",
     "output_type": "stream",
     "text": [
      "\r",
      "Running train:  41%|██████████████████████████▌                                      | 145/354 [01:54<02:40,  1.30it/s]"
     ]
    },
    {
     "name": "stderr",
     "output_type": "stream",
     "text": [
      "\r",
      "Running train:  41%|██████████████████████████▊                                      | 146/354 [01:55<02:40,  1.30it/s]"
     ]
    },
    {
     "name": "stderr",
     "output_type": "stream",
     "text": [
      "\r",
      "Running train:  42%|██████████████████████████▉                                      | 147/354 [01:56<02:35,  1.33it/s]"
     ]
    },
    {
     "name": "stderr",
     "output_type": "stream",
     "text": [
      "\r",
      "Running train:  42%|███████████████████████████▏                                     | 148/354 [01:56<02:32,  1.35it/s]"
     ]
    },
    {
     "name": "stderr",
     "output_type": "stream",
     "text": [
      "\r",
      "Running train:  42%|███████████████████████████▎                                     | 149/354 [01:57<02:34,  1.33it/s]"
     ]
    },
    {
     "name": "stderr",
     "output_type": "stream",
     "text": [
      "\r",
      "Running train:  42%|███████████████████████████▌                                     | 150/354 [01:58<02:35,  1.32it/s]"
     ]
    },
    {
     "name": "stderr",
     "output_type": "stream",
     "text": [
      "\r",
      "Running train:  43%|███████████████████████████▋                                     | 151/354 [01:59<02:33,  1.32it/s]"
     ]
    },
    {
     "name": "stderr",
     "output_type": "stream",
     "text": [
      "\r",
      "Running train:  43%|███████████████████████████▉                                     | 152/354 [01:59<02:34,  1.31it/s]"
     ]
    },
    {
     "name": "stderr",
     "output_type": "stream",
     "text": [
      "\r",
      "Running train:  43%|████████████████████████████                                     | 153/354 [02:00<02:34,  1.30it/s]"
     ]
    },
    {
     "name": "stderr",
     "output_type": "stream",
     "text": [
      "\r",
      "Running train:  44%|████████████████████████████▎                                    | 154/354 [02:01<02:36,  1.28it/s]"
     ]
    },
    {
     "name": "stderr",
     "output_type": "stream",
     "text": [
      "\r",
      "Running train:  44%|████████████████████████████▍                                    | 155/354 [02:02<02:33,  1.30it/s]"
     ]
    },
    {
     "name": "stderr",
     "output_type": "stream",
     "text": [
      "\r",
      "Running train:  44%|████████████████████████████▋                                    | 156/354 [02:03<02:33,  1.29it/s]"
     ]
    },
    {
     "name": "stderr",
     "output_type": "stream",
     "text": [
      "\r",
      "Running train:  44%|████████████████████████████▊                                    | 157/354 [02:04<02:39,  1.24it/s]"
     ]
    }
   ],
   "source": [
    "model_list = []\n",
    "model_list.append(train_model_name('densenet'))"
   ]
  },
  {
   "cell_type": "code",
   "execution_count": null,
   "id": "28401d10-ca15-4ba4-b5e4-0b26fd48b6df",
   "metadata": {
    "editable": true,
    "execution": {
     "iopub.execute_input": "2024-05-05T15:59:28.831642Z",
     "iopub.status.busy": "2024-05-05T15:59:28.831046Z",
     "iopub.status.idle": "2024-05-05T16:02:39.652298Z",
     "shell.execute_reply": "2024-05-05T16:02:39.651617Z"
    },
    "papermill": {
     "duration": null,
     "end_time": null,
     "exception": null,
     "start_time": null,
     "status": "pending"
    },
    "scrolled": true,
    "slideshow": {
     "slide_type": ""
    },
    "tags": []
   },
   "outputs": [],
   "source": [
    "model_list.append(train_model_name('resnet'))"
   ]
  },
  {
   "cell_type": "code",
   "execution_count": null,
   "id": "cc590dbd-42f2-4cfb-a367-4baf0eda6f84",
   "metadata": {
    "execution": {
     "iopub.execute_input": "2024-05-05T16:02:39.751409Z",
     "iopub.status.busy": "2024-05-05T16:02:39.751023Z",
     "iopub.status.idle": "2024-05-05T16:05:28.360701Z",
     "shell.execute_reply": "2024-05-05T16:05:28.360023Z"
    },
    "papermill": {
     "duration": null,
     "end_time": null,
     "exception": null,
     "start_time": null,
     "status": "pending"
    },
    "scrolled": true,
    "tags": []
   },
   "outputs": [],
   "source": [
    "model_list.append(train_model_name('googlenet'))"
   ]
  },
  {
   "cell_type": "code",
   "execution_count": null,
   "id": "c8c31745",
   "metadata": {
    "execution": {
     "iopub.execute_input": "2024-05-05T16:05:28.501030Z",
     "iopub.status.busy": "2024-05-05T16:05:28.500600Z",
     "iopub.status.idle": "2024-05-05T16:05:29.204019Z",
     "shell.execute_reply": "2024-05-05T16:05:29.203251Z"
    },
    "papermill": {
     "duration": null,
     "end_time": null,
     "exception": null,
     "start_time": null,
     "status": "pending"
    },
    "tags": []
   },
   "outputs": [],
   "source": [
    "# saving models to file\n",
    "for i, model in enumerate(model_list):\n",
    "\n",
    "    # Define the file path to save the model\n",
    "    model_file1 = f'./model_state_multiclass_{i}.pt'\n",
    "    \n",
    "    # Save the model\n",
    "    torch.save(model.state_dict(), model_file1)\n",
    "    \n",
    "    model_file2 = f'./model_entire_multiclass_{i}.pt'\n",
    "    \n",
    "    # Save the entire model\n",
    "    torch.save(model, model_file2)\n"
   ]
  },
  {
   "cell_type": "code",
   "execution_count": null,
   "id": "c7c91923-95bd-49e4-8d83-d830779638e6",
   "metadata": {
    "execution": {
     "iopub.execute_input": "2024-05-05T16:05:29.358389Z",
     "iopub.status.busy": "2024-05-05T16:05:29.357637Z",
     "iopub.status.idle": "2024-05-05T16:05:29.402700Z",
     "shell.execute_reply": "2024-05-05T16:05:29.402035Z"
    },
    "papermill": {
     "duration": null,
     "end_time": null,
     "exception": null,
     "start_time": null,
     "status": "pending"
    },
    "tags": []
   },
   "outputs": [],
   "source": [
    "def analyze_preds(labels, preds, confidences, confidence_score):\n",
    "    # select samples where confidence >= confidence_score\n",
    "    idx = confidences >= confidence_score\n",
    "    labels = labels[idx]\n",
    "    preds = preds[idx]\n",
    "    \n",
    "    acc = (preds == labels).sum() / labels.shape[0]\n",
    "    bal_acc = balanced_accuracy_score(labels, preds)\n",
    "    retained = idx.sum() / idx.shape[0]\n",
    "    print(f\"Retained {retained:.2f} of data\")\n",
    "    print(f\"Accuracy: {acc:.2e}\")\n",
    "    print(f\"Balanced Accuracy: {bal_acc:.2e}\")\n",
    "\n",
    "    cm = confusion_matrix(labels, preds)\n",
    "    disp = ConfusionMatrixDisplay(confusion_matrix=cm,display_labels=[classes[i] for i in range(len(classes)) if i in labels] )\n",
    "    disp.plot()\n",
    "    plt.show()    \n",
    "    return bal_acc, retained / idx.shape[0]"
   ]
  },
  {
   "cell_type": "code",
   "execution_count": null,
   "id": "a422cbe8-d193-4ab9-8a94-5fa9161b446b",
   "metadata": {
    "execution": {
     "iopub.execute_input": "2024-05-05T16:05:29.548110Z",
     "iopub.status.busy": "2024-05-05T16:05:29.547249Z",
     "iopub.status.idle": "2024-05-05T16:08:06.709943Z",
     "shell.execute_reply": "2024-05-05T16:08:06.708920Z"
    },
    "papermill": {
     "duration": null,
     "end_time": null,
     "exception": null,
     "start_time": null,
     "status": "pending"
    },
    "tags": []
   },
   "outputs": [],
   "source": [
    "confidence_thresholds = [-3, -2, -1.5, -0.5, .0, .25, .5, .75, .9]\n",
    "model_names = {\n",
    "    0: \"DenseNet\",\n",
    "    1: \"ResNet\",\n",
    "    2: \"GoogleNet\"\n",
    "}\n",
    "\n",
    "# just if you need to reload from file\n",
    "model_list = []\n",
    "for i in range(len(model_names)):\n",
    "    # Load the model from file model\n",
    "    model = torch.load(f'./model_entire_multiclass_{i}.pt')\n",
    "    \n",
    "    # Load the state dictionary from the model_state file\n",
    "    state_dict = torch.load(f'./model_state_multiclass_{i}.pt')\n",
    "    \n",
    "    # Load the state dictionary into the model\n",
    "    model.load_state_dict(state_dict)\n",
    "    model_list.append(model)\n",
    "\n",
    "confidence_results = [[] for _ in model_list]\n",
    "confidence_size = [[] for _ in model_list]\n",
    "for i, model in enumerate(model_list):\n",
    "    print(\"Testing \" + model_names[i])\n",
    "    labels, preds, confs = test_model(model, testset) \n",
    "    plt.hist(confs, bins=100)\n",
    "    plt.gca().set(title='Confidence Histogram for ' + model_names[i], ylabel='Occurrences');\n",
    "    plt.show()\n",
    "    \n",
    "    for confidence_threshold in confidence_thresholds:\n",
    "        print(f\"{model_names[i]} - Confidence {int(confidence_threshold * 100)}%\")\n",
    "        result, size = analyze_preds(labels, preds, confs, confidence_threshold)\n",
    "        confidence_results[i].append(result)\n",
    "        confidence_size[i].append(size)"
   ]
  },
  {
   "cell_type": "code",
   "execution_count": null,
   "id": "039ac8ca-1dc4-4aac-bee7-4f7887b677e0",
   "metadata": {
    "papermill": {
     "duration": null,
     "end_time": null,
     "exception": null,
     "start_time": null,
     "status": "pending"
    },
    "tags": []
   },
   "outputs": [],
   "source": [
    "# Plotting confidence scores\n",
    "fig, (ax1, ax2) = plt.subplots(2, 1)\n",
    "fig.suptitle('Results by confidence thresholds')\n",
    "\n",
    "# plotting confidence\n",
    "for i, result in enumerate(confidence_results):\n",
    "    ax1.plot(confidence_thresholds, result, label=model_names[i])\n",
    "# plotting data size\n",
    "for i, size in enumerate(confidence_size):\n",
    "    ax2.plot(confidence_thresholds, size, label=model_names[i])\n",
    "\n",
    "# Set labels\n",
    "ax1.set_ylabel('Balanced Accuracy')\n",
    "# Display the legend\n",
    "ax1.legend()\n",
    "\n",
    "# Set labels\n",
    "ax2.set_xlabel('Confidence scores')\n",
    "ax2.set_ylabel('Percentage of retained dataset')\n",
    "plt.show()"
   ]
  },
  {
   "cell_type": "code",
   "execution_count": null,
   "id": "d6069569-e943-4364-9a1f-34ccecccd43f",
   "metadata": {
    "papermill": {
     "duration": null,
     "end_time": null,
     "exception": null,
     "start_time": null,
     "status": "pending"
    },
    "tags": []
   },
   "outputs": [],
   "source": [
    "def dataloader_to_numpy(dataloader):\n",
    "    data_list = []\n",
    "    label_list = []\n",
    "    for data, label in tqdm(dataloader):\n",
    "        # Reshape the data to 1D\n",
    "        data = data.view(-1)\n",
    "        data_list.append(data.numpy())\n",
    "        label_list.append(label)\n",
    "    return np.stack(data_list), np.asarray(label_list)\n",
    "\n",
    "# Convert dataloaders to numpy arrays\n",
    "print(\"Converting validation set\")\n",
    "valset.transform = transform_train\n",
    "val_X, val_Y = dataloader_to_numpy(valset)\n",
    "print(\"Converting train set\")\n",
    "train_X, train_Y = dataloader_to_numpy(trainset)\n",
    "print(\"Converting test set\")\n",
    "test_X, test_Y = dataloader_to_numpy(testset)\n",
    "\n",
    "# Concatenate training set and validation set\n",
    "train_X = np.concatenate((train_X, val_X), axis=0)\n",
    "train_Y = np.concatenate((train_Y, val_Y), axis=0)"
   ]
  },
  {
   "cell_type": "code",
   "execution_count": null,
   "id": "4c611af7",
   "metadata": {
    "papermill": {
     "duration": null,
     "end_time": null,
     "exception": null,
     "start_time": null,
     "status": "pending"
    },
    "tags": []
   },
   "outputs": [],
   "source": [
    "#make a dummy prediction, i.e Random Baseline\n",
    "# Create a dummy classifier with a strategy\n",
    "dummy_clf = DummyClassifier(strategy='uniform')\n",
    "\n",
    "# Train the dummy classifier\n",
    "dummy_clf.fit(train_X, train_Y)\n",
    "\n",
    "# Make predictions on the test set\n",
    "predictions = dummy_clf.predict(test_X)\n",
    "\n",
    "# Evaluate the accuracy of the dummy classifier\n",
    "accuracy = dummy_clf.score(test_X, test_Y)\n",
    "\n",
    "print(\"Dummy Classifier Accuracy/ Random Baseline:\", accuracy)"
   ]
  },
  {
   "cell_type": "code",
   "execution_count": null,
   "id": "3ddac122",
   "metadata": {
    "papermill": {
     "duration": null,
     "end_time": null,
     "exception": null,
     "start_time": null,
     "status": "pending"
    },
    "tags": []
   },
   "outputs": [],
   "source": [
    "# Predict using SVM\n",
    "model_svc = SVC(decision_function_shape='ovr', C=100, kernel='rbf')\n",
    "model_svc.fit(train_X, train_Y)\n",
    "pred = model_svc.predict(test_X)\n",
    "acc = accuracy_score(test_Y, pred)\n",
    "print('Accuracy for SVM: ' + str(acc))\n",
    "balanced_svm = balanced_accuracy_score(test_Y, pred)  # Calculate balanced accuracy\n",
    "print(\"Balanced Accuracy:\"+ str(balanced_svm))\n",
    "# Confusion Matrix\n",
    "cm = confusion_matrix(test_Y, pred)\n",
    "disp = ConfusionMatrixDisplay(confusion_matrix=cm,display_labels=classes )\n",
    "disp.plot()\n",
    "plt.figure(figsize=(8, 6))\n",
    "plt.show()"
   ]
  },
  {
   "cell_type": "code",
   "execution_count": null,
   "id": "a53f21cd",
   "metadata": {
    "papermill": {
     "duration": null,
     "end_time": null,
     "exception": null,
     "start_time": null,
     "status": "pending"
    },
    "tags": []
   },
   "outputs": [],
   "source": [
    "# Predict using MLP\n",
    "model_mlp = mlp(solver='lbfgs', alpha=1e-5, random_state=5, max_iter=100000)\n",
    "model_mlp.fit(train_X, train_Y)\n",
    "pred = model_mlp.predict(test_X)\n",
    "acc = accuracy_score(test_Y, pred)\n",
    "print('Accuracy for MLP: ' + str(acc))\n",
    "balanced_mlp = balanced_accuracy_score(test_Y, pred)  # Calculate balanced accuracy\n",
    "print(\"Balanced Accuracy:\"+ str(balanced_mlp))\n",
    "# Confusion Matrix\n",
    "cm = confusion_matrix(test_Y, pred)\n",
    "disp = ConfusionMatrixDisplay(confusion_matrix=cm,display_labels=classes )\n",
    "disp.plot()\n",
    "plt.figure(figsize=(8, 6))\n",
    "plt.show()"
   ]
  }
 ],
 "metadata": {
  "kernelspec": {
   "display_name": "Python 3 (ipykernel)",
   "language": "python",
   "name": "python3"
  },
  "language_info": {
   "codemirror_mode": {
    "name": "ipython",
    "version": 3
   },
   "file_extension": ".py",
   "mimetype": "text/x-python",
   "name": "python",
   "nbconvert_exporter": "python",
   "pygments_lexer": "ipython3",
   "version": "3.9.16"
  },
  "papermill": {
   "default_parameters": {},
   "duration": null,
   "end_time": null,
   "environment_variables": {},
   "exception": null,
   "input_path": "./OMR_Multiclass.ipynb",
   "output_path": "./OMR_Multiclass.ipynb",
   "parameters": {},
   "start_time": "2024-05-06T09:31:01.454474",
   "version": "2.6.0"
  }
 },
 "nbformat": 4,
 "nbformat_minor": 5
}