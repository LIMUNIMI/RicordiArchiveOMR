{
 "cells": [
  {
   "cell_type": "code",
   "execution_count": 14,
   "id": "a8f646f9",
   "metadata": {
    "papermill": {
     "duration": 0.444422,
     "end_time": "2024-05-04T15:42:04.404658",
     "exception": false,
     "start_time": "2024-05-04T15:42:03.960236",
     "status": "completed"
    },
    "tags": []
   },
   "outputs": [],
   "source": [
    "import os\n",
    "import pandas as pd\n",
    "import networkx as nx\n",
    "import pickle\n",
    "import numpy as np\n",
    "import shutil\n",
    "import matplotlib.pyplot as plt\n",
    "from pandas.core.common import flatten\n",
    "import numpy as np\n",
    "import glob\n",
    "from tqdm import tqdm\n",
    "from pathlib import Path\n",
    "import json\n",
    "import random\n",
    "import seaborn as sns"
   ]
  },
  {
   "cell_type": "code",
   "execution_count": 2,
   "id": "867ca262-c5a1-4079-a0f2-53ad5f39030b",
   "metadata": {
    "papermill": {
     "duration": 0.032889,
     "end_time": "2024-05-04T15:42:04.444472",
     "exception": false,
     "start_time": "2024-05-04T15:42:04.411583",
     "status": "completed"
    },
    "tags": []
   },
   "outputs": [],
   "source": [
    "dataset_path = '/datasets/ricordi'"
   ]
  },
  {
   "cell_type": "code",
   "execution_count": 3,
   "id": "bafde62a",
   "metadata": {
    "papermill": {
     "duration": 0.039845,
     "end_time": "2024-05-04T15:42:04.487738",
     "exception": false,
     "start_time": "2024-05-04T15:42:04.447893",
     "status": "completed"
    },
    "tags": []
   },
   "outputs": [],
   "source": [
    "def data_json(dataset_path):\n",
    "    dataset = []\n",
    "    # iterate through all folders in the directory\n",
    "    for folder in glob.glob(dataset_path + '/*'):\n",
    "        for files in glob.glob(folder + '/*'):\n",
    "            # check if the file is either a folder or a json file\n",
    "            if os.path.isdir(files):\n",
    "                for data_path in glob.glob(files + '/*'):\n",
    "                    dataset.append(glob.glob(data_path + '/*.json'))\n",
    "            elif files.endswith('.json'):\n",
    "                dataset.append(files)\n",
    "    dataset = list(flatten(dataset))\n",
    "    print(\"Total json files:\", len(dataset))\n",
    "    return dataset"
   ]
  },
  {
   "cell_type": "code",
   "execution_count": 4,
   "id": "7ffe013d",
   "metadata": {
    "papermill": {
     "duration": 0.025493,
     "end_time": "2024-05-04T15:42:04.519812",
     "exception": false,
     "start_time": "2024-05-04T15:42:04.494319",
     "status": "completed"
    },
    "tags": []
   },
   "outputs": [],
   "source": [
    "def sort_by_key(data,key):\n",
    "    dataset = []\n",
    "    for i in data:\n",
    "        f = open(i)\n",
    "        json_data = json.load(f)\n",
    "        if key in json_data:\n",
    "            dataset.append(i)\n",
    "        else:\n",
    "            continue\n",
    "    print(\"Json with annotazione1 present:\",len(dataset))\n",
    "    return dataset"
   ]
  },
  {
   "cell_type": "code",
   "execution_count": 5,
   "id": "44ccb5ff",
   "metadata": {
    "papermill": {
     "duration": 0.035324,
     "end_time": "2024-05-04T15:42:04.557220",
     "exception": false,
     "start_time": "2024-05-04T15:42:04.521896",
     "status": "completed"
    },
    "tags": []
   },
   "outputs": [],
   "source": [
    "dmerge_classes = [[2, 15], [7, 9]]\n",
    "classes_relevant = [5,6,7,8,9,10,11,12,14,16]\n",
    "classes_irrelevant = [0,1,2,3,4,15,17]\n",
    "classes = classes_relevant + classes_irrelevant\n",
    "\n",
    "# Define the class names in the same order as the classes list\n",
    "class_names_relevant = [\n",
    "    \"Pause (full or almost)\",\n",
    "    \"Single note (with at least the head)\",\n",
    "    \"Multiple Notes (with at least the head)\",\n",
    "    \"Single chord (with at least heads)\",\n",
    "    \"Multiple chords (with at least heads)\",\n",
    "    \"Accidental(s) (whole or nearly so)\",\n",
    "    \"Key(s) (whole(s) or nearly)\",\n",
    "    \"Embellishment(s) (whole(s) or nearly)\",\n",
    "    \"More categories (with at least one musical sign)\",\n",
    "    \"Other (with at least one musical sign)\"\n",
    "]\n",
    "\n",
    "class_names_irrelevant = [\n",
    "    \"Page border\",\n",
    "    \"Erasure\",\n",
    "    \"Blurr\",\n",
    "    \"Printed Text\",\n",
    "    \"Manuscript Text\",\n",
    "    \"More categories (no musical signs)\",\n",
    "    \"Other (without musical markings)\"\n",
    "]\n",
    "\n",
    "# Combine the relevant and irrelevant class names\n",
    "class_names = class_names_relevant + class_names_irrelevant"
   ]
  },
  {
   "cell_type": "code",
   "execution_count": 6,
   "id": "01aa2073",
   "metadata": {
    "papermill": {
     "duration": 15.467182,
     "end_time": "2024-05-04T15:42:20.029283",
     "exception": false,
     "start_time": "2024-05-04T15:42:04.562101",
     "status": "completed"
    },
    "tags": []
   },
   "outputs": [
    {
     "name": "stdout",
     "output_type": "stream",
     "text": [
      "Total json files: 469590\n",
      "Json with annotazione1 present: 196639\n"
     ]
    }
   ],
   "source": [
    "json_list = data_json(dataset_path)\n",
    "sorted_list_by_key = sort_by_key(json_list, \"annotazione1\")"
   ]
  },
  {
   "cell_type": "code",
   "execution_count": 17,
   "id": "6b6e2cb7",
   "metadata": {
    "papermill": {
     "duration": 0.073628,
     "end_time": "2024-05-04T15:42:20.105272",
     "exception": false,
     "start_time": "2024-05-04T15:42:20.031644",
     "status": "completed"
    },
    "tags": []
   },
   "outputs": [],
   "source": [
    "def plot_distribution_by_class(sorted_list_by_key, classes, key):\n",
    "    count = {i: 0 for i in classes}\n",
    "    \n",
    "    for i in sorted_list_by_key:\n",
    "        with open(i) as f:\n",
    "            json_data = json.load(f)\n",
    "            class_index = json_data[key]\n",
    "            count[class_index] += 1\n",
    "    \n",
    "    print(count)\n",
    "\n",
    "    # reorder classes, relevant first\n",
    "    count = [count[i] for i in classes_relevant] + [count[i] for i in classes_irrelevant]\n",
    "    labels = [\"Relevant\"] + [None] * (len(classes_relevant) - 1) + [\"Irrelevant\"] + [None] * (len(classes_irrelevant) - 1)\n",
    "    colors = [\"tab:red\" for _ in classes_relevant] + [\"tab:blue\" for _ in classes_irrelevant]\n",
    "    \n",
    "    plt.figure(figsize=(10, 6))  # Set the size of the figure\n",
    "    \n",
    "    x = np.arange(len(classes))  # Generate an array of class indices\n",
    "    sns.set_theme(rc={'figure.figsize':(11.7,8.27)})\n",
    "    plt.rcParams.update({'font.size': 8})\n",
    "    plt.bar(x, count, label=labels, color=colors)\n",
    "    plt.xticks(x, class_names, rotation=45, ha='right')  # Set custom x-axis tick positions and labels\n",
    "    plt.xlabel(\"Classes\")\n",
    "    plt.ylabel(\"Count\")\n",
    "    plt.title(\"Class Count\")\n",
    "    plt.legend()\n",
    "    plt.yscale('log')\n",
    "    plt.ylim(300, 130000)\n",
    "    plt.show()\n",
    "\n",
    "    return count"
   ]
  },
  {
   "cell_type": "code",
   "execution_count": 18,
   "id": "c8cb127f",
   "metadata": {
    "papermill": {
     "duration": 4.851436,
     "end_time": "2024-05-04T15:42:24.959923",
     "exception": false,
     "start_time": "2024-05-04T15:42:20.108487",
     "status": "completed"
    },
    "tags": []
   },
   "outputs": [
    {
     "name": "stdout",
     "output_type": "stream",
     "text": [
      "{5: 316, 6: 2998, 7: 5621, 8: 975, 9: 818, 10: 2206, 11: 3370, 12: 779, 14: 9039, 16: 1173, 0: 118966, 1: 10370, 2: 13052, 3: 4246, 4: 12501, 15: 1443, 17: 8766}\n"
     ]
    },
    {
     "data": {
      "image/png": "[encoded data removed]",
      "text/plain": [
       "<Figure size 720x432 with 1 Axes>"
      ]
     },
     "metadata": {},
     "output_type": "display_data"
    }
   ],
   "source": [
    "count = plot_distribution_by_class(sorted_list_by_key,classes, \"annotazione1\")"
   ]
  },
  {
   "cell_type": "code",
   "execution_count": 9,
   "id": "8ccaf0d3-e66f-4548-b3f1-31dab717695a",
   "metadata": {
    "papermill": {
     "duration": 0.03691,
     "end_time": "2024-05-04T15:42:25.003815",
     "exception": false,
     "start_time": "2024-05-04T15:42:24.966905",
     "status": "completed"
    },
    "tags": []
   },
   "outputs": [
    {
     "name": "stdout",
     "output_type": "stream",
     "text": [
      "Median is 3370.0\n",
      "Mean is 11567.0\n",
      "Min is 316\n",
      "Merging classes: ['Pause (full or almost)', 'Single chord (with at least heads)', 'Accidental(s) (whole or nearly so)', 'Embellishment(s) (whole(s) or nearly)', 'Other (with at least one musical sign)']\n",
      "Total of `Remaining` class:  5449\n"
     ]
    }
   ],
   "source": [
    "# Merge classes that have cardinality < 0.5 of median cardinality\n",
    "merged = []\n",
    "m = np.median(count)\n",
    "print(\"Median is\", m)\n",
    "print(\"Mean is\", np.mean(count))\n",
    "print(\"Min is\", np.min(count))\n",
    "\n",
    "# note, we force classes 9 and 7 and classes 15 and 2 to look like if they the same number of samples \n",
    "# (the sum of the two) so that they are appended to `merged` together\n",
    "count_ = np.copy(count)\n",
    "count_[classes.index(9)] += count_[classes.index(7)]\n",
    "count_[classes.index(15)] += count_[classes.index(2)]\n",
    "count_[classes.index(7)] = count_[classes.index(9)]\n",
    "count_[classes.index(2)] = count_[classes.index(15)]\n",
    "\n",
    "for i, c in enumerate(count_):\n",
    "    if c < 0.75 * m:\n",
    "        merged.append(classes[i])\n",
    "\n",
    "print(\"Merging classes:\", [class_names[classes.index(i)] for i in merged])\n",
    "print(\"Total of `Remaining` class: \", sum(count_[classes.index(c)] for c in merged if c not in [15, 9]))"
   ]
  },
  {
   "cell_type": "code",
   "execution_count": 19,
   "id": "a5765b32-6093-48a8-bbb4-2e3fb779d401",
   "metadata": {
    "papermill": {
     "duration": 0.340747,
     "end_time": "2024-05-04T15:42:25.352181",
     "exception": false,
     "start_time": "2024-05-04T15:42:25.011434",
     "status": "completed"
    },
    "tags": []
   },
   "outputs": [
    {
     "data": {
      "image/png": "[encoded data removed]",
      "text/plain": [
       "<Figure size 842.4x595.44 with 1 Axes>"
      ]
     },
     "metadata": {},
     "output_type": "display_data"
    },
    {
     "name": "stdout",
     "output_type": "stream",
     "text": [
      "Median now is 8766.0\n",
      "Mean now is 16736.384615384617\n",
      "Min now is 2998\n",
      "Cardinalities: [('Single note (with at least the head)', 2998), ('Multiple Notes (with at least the head)', 6439), ('Multiple chords (with at least heads)', 6439), ('Key(s) (whole(s) or nearly)', 3370), ('More categories (with at least one musical sign)', 9039), ('Page border', 118966), ('Erasure', 10370), ('Blurr', 14495), ('Printed Text', 4246), ('Manuscript Text', 12501), ('More categories (no musical signs)', 14495), ('Other (without musical markings)', 8766), ('Remaining', 5449)]\n"
     ]
    }
   ],
   "source": [
    "sns.set_theme(rc={'figure.figsize':(11.7,8.27)})\n",
    "\n",
    "count__ = [count_[i] for i in range(len(class_names)) if classes[i] not in merged]\n",
    "count__.append(sum([count_[classes.index(c)] for c in merged if c not in [15, 9]]))\n",
    "labels = [\"Relevant\"] + [None] * 4 + [\"Irrelevant\"] + [None] * (len(classes_irrelevant) - 1) + [None]\n",
    "colors = [\"tab:red\" for _ in range(5)] + [\"tab:blue\" for _ in classes_irrelevant] + [\"tab:Red\"]\n",
    "\n",
    "class_names_ = [class_names[i] for i in range(len(class_names)) if classes[i] not in merged]\n",
    "class_names_.append(\"Remaining\")\n",
    "\n",
    "x = np.arange(len(class_names_))  # Generate an array of class indices\n",
    "plt.rcParams.update({'font.size': 8})\n",
    "plt.bar(x, count__, label=labels, color=colors)\n",
    "plt.xticks(x, class_names_, rotation=45, ha='right')  # Set custom x-axis tick positions and labels\n",
    "plt.xlabel(\"Classes\")\n",
    "plt.ylabel(\"Count\")\n",
    "plt.title(\"Class Count\")\n",
    "plt.yscale('log')\n",
    "plt.ylim(300, 130000)\n",
    "plt.legend()\n",
    "plt.show()\n",
    "print(\"Median now is\", np.median(count__))\n",
    "print(\"Mean now is\", np.mean(count__))\n",
    "print(\"Min now is\", np.min(count__))\n",
    "print(\"Cardinalities:\", list(zip(class_names_, count__)))"
   ]
  },
  {
   "cell_type": "code",
   "execution_count": 11,
   "id": "57293a3f",
   "metadata": {
    "execution": {
     "iopub.execute_input": "2024-05-04T15:42:25.361862Z",
     "iopub.status.busy": "2024-05-04T15:42:25.361460Z",
     "iopub.status.idle": "2024-05-04T15:42:25.389187Z",
     "shell.execute_reply": "2024-05-04T15:42:25.387705Z"
    },
    "papermill": {
     "duration": 0.035453,
     "end_time": "2024-05-04T15:42:25.391887",
     "exception": false,
     "start_time": "2024-05-04T15:42:25.356434",
     "status": "completed"
    },
    "tags": []
   },
   "outputs": [],
   "source": [
    "from pathlib import Path\n",
    "\n",
    "source_dataset_path = Path('./data/source/')\n",
    "binary_dataset_path = Path('./data/binary_dataset')\n",
    "relevant_path = binary_dataset_path / 'data' / 'relevant'\n",
    "irrelevant_path = binary_dataset_path / 'data' / 'irrelevant'\n",
    "source_dataset_path.mkdir(exist_ok=True, parents=True)\n",
    "relevant_path.mkdir(exist_ok=True, parents=True)\n",
    "irrelevant_path.mkdir(exist_ok=True, parents=True)\n",
    "multiclass_dataset_path = Path('./data/multiclass_dataset') / 'data'"
   ]
  },
  {
   "cell_type": "code",
   "execution_count": 12,
   "id": "b159a951",
   "metadata": {
    "execution": {
     "iopub.execute_input": "2024-05-04T15:42:25.409433Z",
     "iopub.status.busy": "2024-05-04T15:42:25.408596Z",
     "iopub.status.idle": "2024-05-04T15:43:07.981701Z",
     "shell.execute_reply": "2024-05-04T15:43:07.981041Z"
    },
    "papermill": {
     "duration": 42.587022,
     "end_time": "2024-05-04T15:43:07.986366",
     "exception": false,
     "start_time": "2024-05-04T15:42:25.399344",
     "status": "completed"
    },
    "tags": []
   },
   "outputs": [
    {
     "name": "stderr",
     "output_type": "stream",
     "text": [
      "\r",
      "0it [00:00, ?it/s]"
     ]
    },
    {
     "name": "stderr",
     "output_type": "stream",
     "text": [
      "\r",
      "1157it [00:00, 11565.57it/s]"
     ]
    },
    {
     "name": "stderr",
     "output_type": "stream",
     "text": [
      "\r",
      "2314it [00:00, 10811.24it/s]"
     ]
    },
    {
     "name": "stderr",
     "output_type": "stream",
     "text": [
      "\r",
      "3625it [00:00, 11818.66it/s]"
     ]
    },
    {
     "name": "stderr",
     "output_type": "stream",
     "text": [
      "\r",
      "5084it [00:00, 12886.14it/s]"
     ]
    },
    {
     "name": "stderr",
     "output_type": "stream",
     "text": [
      "\r",
      "6379it [00:00, 12891.13it/s]"
     ]
    },
    {
     "name": "stderr",
     "output_type": "stream",
     "text": [
      "\r",
      "7715it [00:00, 13046.16it/s]"
     ]
    },
    {
     "name": "stderr",
     "output_type": "stream",
     "text": [
      "\r",
      "9023it [00:00, 12954.21it/s]"
     ]
    },
    {
     "name": "stderr",
     "output_type": "stream",
     "text": [
      "\r",
      "10321it [00:00, 12944.35it/s]"
     ]
    },
    {
     "name": "stderr",
     "output_type": "stream",
     "text": [
      "\r",
      "11623it [00:00, 12967.39it/s]"
     ]
    },
    {
     "name": "stderr",
     "output_type": "stream",
     "text": [
      "\r",
      "12924it [00:01, 12978.99it/s]"
     ]
    },
    {
     "name": "stderr",
     "output_type": "stream",
     "text": [
      "\r",
      "14266it [00:01, 13112.77it/s]"
     ]
    },
    {
     "name": "stderr",
     "output_type": "stream",
     "text": [
      "\r",
      "15583it [00:01, 13125.07it/s]"
     ]
    },
    {
     "name": "stderr",
     "output_type": "stream",
     "text": [
      "\r",
      "16956it [00:01, 13306.48it/s]"
     ]
    },
    {
     "name": "stderr",
     "output_type": "stream",
     "text": [
      "\r",
      "18287it [00:01, 13097.13it/s]"
     ]
    },
    {
     "name": "stderr",
     "output_type": "stream",
     "text": [
      "\r",
      "19598it [00:01, 12456.63it/s]"
     ]
    },
    {
     "name": "stderr",
     "output_type": "stream",
     "text": [
      "\r",
      "20880it [00:01, 12560.37it/s]"
     ]
    },
    {
     "name": "stderr",
     "output_type": "stream",
     "text": [
      "\r",
      "22162it [00:01, 12635.20it/s]"
     ]
    },
    {
     "name": "stderr",
     "output_type": "stream",
     "text": [
      "\r",
      "23430it [00:01, 12636.97it/s]"
     ]
    },
    {
     "name": "stderr",
     "output_type": "stream",
     "text": [
      "\r",
      "24713it [00:01, 12693.54it/s]"
     ]
    },
    {
     "name": "stderr",
     "output_type": "stream",
     "text": [
      "\r",
      "26019it [00:02, 12801.39it/s]"
     ]
    },
    {
     "name": "stderr",
     "output_type": "stream",
     "text": [
      "\r",
      "27308it [00:02, 12827.26it/s]"
     ]
    },
    {
     "name": "stderr",
     "output_type": "stream",
     "text": [
      "\r",
      "28592it [00:02, 9983.62it/s] "
     ]
    },
    {
     "name": "stderr",
     "output_type": "stream",
     "text": [
      "\r",
      "29688it [00:02, 10210.15it/s]"
     ]
    },
    {
     "name": "stderr",
     "output_type": "stream",
     "text": [
      "\r",
      "30990it [00:02, 10946.27it/s]"
     ]
    },
    {
     "name": "stderr",
     "output_type": "stream",
     "text": [
      "\r",
      "32266it [00:02, 11439.82it/s]"
     ]
    },
    {
     "name": "stderr",
     "output_type": "stream",
     "text": [
      "\r",
      "33571it [00:02, 11886.01it/s]"
     ]
    },
    {
     "name": "stderr",
     "output_type": "stream",
     "text": [
      "\r",
      "34797it [00:02, 11362.27it/s]"
     ]
    },
    {
     "name": "stderr",
     "output_type": "stream",
     "text": [
      "\r",
      "35963it [00:02, 11274.48it/s]"
     ]
    },
    {
     "name": "stderr",
     "output_type": "stream",
     "text": [
      "\r",
      "37262it [00:03, 11756.52it/s]"
     ]
    },
    {
     "name": "stderr",
     "output_type": "stream",
     "text": [
      "\r",
      "38598it [00:03, 12211.73it/s]"
     ]
    },
    {
     "name": "stderr",
     "output_type": "stream",
     "text": [
      "\r",
      "39834it [00:03, 12096.55it/s]"
     ]
    },
    {
     "name": "stderr",
     "output_type": "stream",
     "text": [
      "\r",
      "41162it [00:03, 12438.54it/s]"
     ]
    },
    {
     "name": "stderr",
     "output_type": "stream",
     "text": [
      "\r",
      "42414it [00:03, 11856.48it/s]"
     ]
    },
    {
     "name": "stderr",
     "output_type": "stream",
     "text": [
      "\r",
      "43644it [00:03, 11980.35it/s]"
     ]
    },
    {
     "name": "stderr",
     "output_type": "stream",
     "text": [
      "\r",
      "44944it [00:03, 12274.96it/s]"
     ]
    },
    {
     "name": "stderr",
     "output_type": "stream",
     "text": [
      "\r",
      "46179it [00:03, 11899.98it/s]"
     ]
    },
    {
     "name": "stderr",
     "output_type": "stream",
     "text": [
      "\r",
      "47376it [00:03, 10793.38it/s]"
     ]
    },
    {
     "name": "stderr",
     "output_type": "stream",
     "text": [
      "\r",
      "48749it [00:04, 11589.50it/s]"
     ]
    },
    {
     "name": "stderr",
     "output_type": "stream",
     "text": [
      "\r",
      "50011it [00:04, 11874.97it/s]"
     ]
    },
    {
     "name": "stderr",
     "output_type": "stream",
     "text": [
      "\r",
      "51375it [00:04, 12377.77it/s]"
     ]
    },
    {
     "name": "stderr",
     "output_type": "stream",
     "text": [
      "\r",
      "52629it [00:04, 11758.37it/s]"
     ]
    },
    {
     "name": "stderr",
     "output_type": "stream",
     "text": [
      "\r",
      "53948it [00:04, 12157.66it/s]"
     ]
    },
    {
     "name": "stderr",
     "output_type": "stream",
     "text": [
      "\r",
      "55178it [00:04, 11604.16it/s]"
     ]
    },
    {
     "name": "stderr",
     "output_type": "stream",
     "text": [
      "\r",
      "56539it [00:04, 12165.44it/s]"
     ]
    },
    {
     "name": "stderr",
     "output_type": "stream",
     "text": [
      "\r",
      "57769it [00:04, 11658.97it/s]"
     ]
    },
    {
     "name": "stderr",
     "output_type": "stream",
     "text": [
      "\r",
      "58948it [00:04, 11668.99it/s]"
     ]
    },
    {
     "name": "stderr",
     "output_type": "stream",
     "text": [
      "\r",
      "60194it [00:04, 11891.37it/s]"
     ]
    },
    {
     "name": "stderr",
     "output_type": "stream",
     "text": [
      "\r",
      "61391it [00:05, 11572.43it/s]"
     ]
    },
    {
     "name": "stderr",
     "output_type": "stream",
     "text": [
      "\r",
      "62670it [00:05, 11920.45it/s]"
     ]
    },
    {
     "name": "stderr",
     "output_type": "stream",
     "text": [
      "\r",
      "64043it [00:05, 12445.22it/s]"
     ]
    },
    {
     "name": "stderr",
     "output_type": "stream",
     "text": [
      "\r",
      "65312it [00:05, 12516.61it/s]"
     ]
    },
    {
     "name": "stderr",
     "output_type": "stream",
     "text": [
      "\r",
      "66610it [00:05, 12651.05it/s]"
     ]
    },
    {
     "name": "stderr",
     "output_type": "stream",
     "text": [
      "\r",
      "67879it [00:05, 12642.20it/s]"
     ]
    },
    {
     "name": "stderr",
     "output_type": "stream",
     "text": [
      "\r",
      "69305it [00:05, 13114.98it/s]"
     ]
    },
    {
     "name": "stderr",
     "output_type": "stream",
     "text": [
      "\r",
      "70619it [00:05, 12983.15it/s]"
     ]
    },
    {
     "name": "stderr",
     "output_type": "stream",
     "text": [
      "\r",
      "71919it [00:05, 12973.35it/s]"
     ]
    },
    {
     "name": "stderr",
     "output_type": "stream",
     "text": [
      "\r",
      "73335it [00:06, 13323.53it/s]"
     ]
    },
    {
     "name": "stderr",
     "output_type": "stream",
     "text": [
      "\r",
      "74669it [00:06, 9272.75it/s] "
     ]
    },
    {
     "name": "stderr",
     "output_type": "stream",
     "text": [
      "\r",
      "75765it [00:06, 9246.67it/s]"
     ]
    },
    {
     "name": "stderr",
     "output_type": "stream",
     "text": [
      "\r",
      "76808it [00:06, 9373.56it/s]"
     ]
    },
    {
     "name": "stderr",
     "output_type": "stream",
     "text": [
      "\r",
      "77987it [00:06, 9979.26it/s]"
     ]
    },
    {
     "name": "stderr",
     "output_type": "stream",
     "text": [
      "\r",
      "79057it [00:06, 9625.07it/s]"
     ]
    },
    {
     "name": "stderr",
     "output_type": "stream",
     "text": [
      "\r",
      "80441it [00:06, 10731.26it/s]"
     ]
    },
    {
     "name": "stderr",
     "output_type": "stream",
     "text": [
      "\r",
      "81693it [00:06, 11214.14it/s]"
     ]
    },
    {
     "name": "stderr",
     "output_type": "stream",
     "text": [
      "\r",
      "83063it [00:06, 11911.07it/s]"
     ]
    },
    {
     "name": "stderr",
     "output_type": "stream",
     "text": [
      "\r",
      "84332it [00:07, 12132.39it/s]"
     ]
    },
    {
     "name": "stderr",
     "output_type": "stream",
     "text": [
      "\r",
      "85696it [00:07, 12569.26it/s]"
     ]
    },
    {
     "name": "stderr",
     "output_type": "stream",
     "text": [
      "\r",
      "87015it [00:07, 12749.85it/s]"
     ]
    },
    {
     "name": "stderr",
     "output_type": "stream",
     "text": [
      "\r",
      "88304it [00:07, 11768.74it/s]"
     ]
    },
    {
     "name": "stderr",
     "output_type": "stream",
     "text": [
      "\r",
      "89583it [00:07, 12049.87it/s]"
     ]
    },
    {
     "name": "stderr",
     "output_type": "stream",
     "text": [
      "\r",
      "90923it [00:07, 12430.97it/s]"
     ]
    },
    {
     "name": "stderr",
     "output_type": "stream",
     "text": [
      "\r",
      "92210it [00:07, 12554.98it/s]"
     ]
    },
    {
     "name": "stderr",
     "output_type": "stream",
     "text": [
      "\r",
      "93566it [00:07, 12846.23it/s]"
     ]
    },
    {
     "name": "stderr",
     "output_type": "stream",
     "text": [
      "\r",
      "94860it [00:07, 12014.48it/s]"
     ]
    },
    {
     "name": "stderr",
     "output_type": "stream",
     "text": [
      "\r",
      "96198it [00:08, 12396.12it/s]"
     ]
    },
    {
     "name": "stderr",
     "output_type": "stream",
     "text": [
      "\r",
      "97452it [00:08, 12009.55it/s]"
     ]
    },
    {
     "name": "stderr",
     "output_type": "stream",
     "text": [
      "\r",
      "98664it [00:08, 11444.98it/s]"
     ]
    },
    {
     "name": "stderr",
     "output_type": "stream",
     "text": [
      "\r",
      "99820it [00:08, 11326.12it/s]"
     ]
    },
    {
     "name": "stderr",
     "output_type": "stream",
     "text": [
      "\r",
      "101094it [00:08, 11718.53it/s]"
     ]
    },
    {
     "name": "stderr",
     "output_type": "stream",
     "text": [
      "\r",
      "102274it [00:08, 11101.43it/s]"
     ]
    },
    {
     "name": "stderr",
     "output_type": "stream",
     "text": [
      "\r",
      "103395it [00:08, 10910.98it/s]"
     ]
    },
    {
     "name": "stderr",
     "output_type": "stream",
     "text": [
      "\r",
      "104513it [00:08, 10986.42it/s]"
     ]
    },
    {
     "name": "stderr",
     "output_type": "stream",
     "text": [
      "\r",
      "105923it [00:08, 11878.08it/s]"
     ]
    },
    {
     "name": "stderr",
     "output_type": "stream",
     "text": [
      "\r",
      "107177it [00:09, 12067.15it/s]"
     ]
    },
    {
     "name": "stderr",
     "output_type": "stream",
     "text": [
      "\r",
      "108480it [00:09, 12348.13it/s]"
     ]
    },
    {
     "name": "stderr",
     "output_type": "stream",
     "text": [
      "\r",
      "109760it [00:09, 12478.65it/s]"
     ]
    },
    {
     "name": "stderr",
     "output_type": "stream",
     "text": [
      "\r",
      "111053it [00:09, 12611.20it/s]"
     ]
    },
    {
     "name": "stderr",
     "output_type": "stream",
     "text": [
      "\r",
      "112317it [00:09, 11758.93it/s]"
     ]
    },
    {
     "name": "stderr",
     "output_type": "stream",
     "text": [
      "\r",
      "113507it [00:09, 11429.09it/s]"
     ]
    },
    {
     "name": "stderr",
     "output_type": "stream",
     "text": [
      "\r",
      "114660it [00:09, 11251.63it/s]"
     ]
    },
    {
     "name": "stderr",
     "output_type": "stream",
     "text": [
      "\r",
      "115792it [00:09, 11063.55it/s]"
     ]
    },
    {
     "name": "stderr",
     "output_type": "stream",
     "text": [
      "\r",
      "116997it [00:09, 11343.42it/s]"
     ]
    },
    {
     "name": "stderr",
     "output_type": "stream",
     "text": [
      "\r",
      "118361it [00:09, 12001.28it/s]"
     ]
    },
    {
     "name": "stderr",
     "output_type": "stream",
     "text": [
      "\r",
      "119567it [00:10, 11652.64it/s]"
     ]
    },
    {
     "name": "stderr",
     "output_type": "stream",
     "text": [
      "\r",
      "120738it [00:10, 8421.49it/s] "
     ]
    },
    {
     "name": "stderr",
     "output_type": "stream",
     "text": [
      "\r",
      "122056it [00:10, 9509.81it/s]"
     ]
    },
    {
     "name": "stderr",
     "output_type": "stream",
     "text": [
      "\r",
      "123310it [00:10, 10256.40it/s]"
     ]
    },
    {
     "name": "stderr",
     "output_type": "stream",
     "text": [
      "\r",
      "124566it [00:10, 10851.48it/s]"
     ]
    },
    {
     "name": "stderr",
     "output_type": "stream",
     "text": [
      "\r",
      "125969it [00:10, 11712.15it/s]"
     ]
    },
    {
     "name": "stderr",
     "output_type": "stream",
     "text": [
      "\r",
      "127206it [00:10, 11258.00it/s]"
     ]
    },
    {
     "name": "stderr",
     "output_type": "stream",
     "text": [
      "\r",
      "128461it [00:10, 11608.25it/s]"
     ]
    },
    {
     "name": "stderr",
     "output_type": "stream",
     "text": [
      "\r",
      "129756it [00:11, 11981.48it/s]"
     ]
    },
    {
     "name": "stderr",
     "output_type": "stream",
     "text": [
      "\r",
      "130983it [00:11, 11734.68it/s]"
     ]
    },
    {
     "name": "stderr",
     "output_type": "stream",
     "text": [
      "\r",
      "132197it [00:11, 11848.66it/s]"
     ]
    },
    {
     "name": "stderr",
     "output_type": "stream",
     "text": [
      "\r",
      "133397it [00:11, 11739.45it/s]"
     ]
    },
    {
     "name": "stderr",
     "output_type": "stream",
     "text": [
      "\r",
      "134671it [00:11, 12026.94it/s]"
     ]
    },
    {
     "name": "stderr",
     "output_type": "stream",
     "text": [
      "\r",
      "136028it [00:11, 12477.66it/s]"
     ]
    },
    {
     "name": "stderr",
     "output_type": "stream",
     "text": [
      "\r",
      "137303it [00:11, 12557.40it/s]"
     ]
    },
    {
     "name": "stderr",
     "output_type": "stream",
     "text": [
      "\r",
      "138644it [00:11, 12808.61it/s]"
     ]
    },
    {
     "name": "stderr",
     "output_type": "stream",
     "text": [
      "\r",
      "140070it [00:11, 13240.07it/s]"
     ]
    },
    {
     "name": "stderr",
     "output_type": "stream",
     "text": [
      "\r",
      "141398it [00:11, 12245.23it/s]"
     ]
    },
    {
     "name": "stderr",
     "output_type": "stream",
     "text": [
      "\r",
      "142640it [00:12, 12057.51it/s]"
     ]
    },
    {
     "name": "stderr",
     "output_type": "stream",
     "text": [
      "\r",
      "143858it [00:12, 11100.98it/s]"
     ]
    },
    {
     "name": "stderr",
     "output_type": "stream",
     "text": [
      "\r",
      "145161it [00:12, 11622.91it/s]"
     ]
    },
    {
     "name": "stderr",
     "output_type": "stream",
     "text": [
      "\r",
      "146532it [00:12, 12201.62it/s]"
     ]
    },
    {
     "name": "stderr",
     "output_type": "stream",
     "text": [
      "\r",
      "147812it [00:12, 12369.13it/s]"
     ]
    },
    {
     "name": "stderr",
     "output_type": "stream",
     "text": [
      "\r",
      "149292it [00:12, 13071.01it/s]"
     ]
    },
    {
     "name": "stderr",
     "output_type": "stream",
     "text": [
      "\r",
      "150612it [00:12, 12984.73it/s]"
     ]
    },
    {
     "name": "stderr",
     "output_type": "stream",
     "text": [
      "\r",
      "151923it [00:12, 13018.80it/s]"
     ]
    },
    {
     "name": "stderr",
     "output_type": "stream",
     "text": [
      "\r",
      "153231it [00:12, 12971.55it/s]"
     ]
    },
    {
     "name": "stderr",
     "output_type": "stream",
     "text": [
      "\r",
      "154533it [00:13, 12115.26it/s]"
     ]
    },
    {
     "name": "stderr",
     "output_type": "stream",
     "text": [
      "\r",
      "155780it [00:13, 12212.76it/s]"
     ]
    },
    {
     "name": "stderr",
     "output_type": "stream",
     "text": [
      "\r",
      "157064it [00:13, 12391.00it/s]"
     ]
    },
    {
     "name": "stderr",
     "output_type": "stream",
     "text": [
      "\r",
      "158311it [00:13, 11425.69it/s]"
     ]
    },
    {
     "name": "stderr",
     "output_type": "stream",
     "text": [
      "\r",
      "159473it [00:13, 11084.32it/s]"
     ]
    },
    {
     "name": "stderr",
     "output_type": "stream",
     "text": [
      "\r",
      "160601it [00:13, 11136.32it/s]"
     ]
    },
    {
     "name": "stderr",
     "output_type": "stream",
     "text": [
      "\r",
      "162022it [00:13, 12002.56it/s]"
     ]
    },
    {
     "name": "stderr",
     "output_type": "stream",
     "text": [
      "\r",
      "163292it [00:13, 12202.97it/s]"
     ]
    },
    {
     "name": "stderr",
     "output_type": "stream",
     "text": [
      "\r",
      "164550it [00:13, 12311.17it/s]"
     ]
    },
    {
     "name": "stderr",
     "output_type": "stream",
     "text": [
      "\r",
      "165788it [00:13, 11876.24it/s]"
     ]
    },
    {
     "name": "stderr",
     "output_type": "stream",
     "text": [
      "\r",
      "166984it [00:14, 10715.87it/s]"
     ]
    },
    {
     "name": "stderr",
     "output_type": "stream",
     "text": [
      "\r",
      "168240it [00:14, 11211.49it/s]"
     ]
    },
    {
     "name": "stderr",
     "output_type": "stream",
     "text": [
      "\r",
      "169497it [00:14, 11588.90it/s]"
     ]
    },
    {
     "name": "stderr",
     "output_type": "stream",
     "text": [
      "\r",
      "170741it [00:14, 11829.78it/s]"
     ]
    },
    {
     "name": "stderr",
     "output_type": "stream",
     "text": [
      "\r",
      "171939it [00:14, 8190.73it/s] "
     ]
    },
    {
     "name": "stderr",
     "output_type": "stream",
     "text": [
      "\r",
      "172948it [00:14, 8611.04it/s]"
     ]
    },
    {
     "name": "stderr",
     "output_type": "stream",
     "text": [
      "\r",
      "174235it [00:14, 9633.74it/s]"
     ]
    },
    {
     "name": "stderr",
     "output_type": "stream",
     "text": [
      "\r",
      "175313it [00:14, 9838.38it/s]"
     ]
    },
    {
     "name": "stderr",
     "output_type": "stream",
     "text": [
      "\r",
      "176380it [00:15, 10057.58it/s]"
     ]
    },
    {
     "name": "stderr",
     "output_type": "stream",
     "text": [
      "\r",
      "177512it [00:15, 10403.21it/s]"
     ]
    },
    {
     "name": "stderr",
     "output_type": "stream",
     "text": [
      "\r",
      "178619it [00:15, 10590.75it/s]"
     ]
    },
    {
     "name": "stderr",
     "output_type": "stream",
     "text": [
      "\r",
      "179869it [00:15, 11138.47it/s]"
     ]
    },
    {
     "name": "stderr",
     "output_type": "stream",
     "text": [
      "\r",
      "181232it [00:15, 11860.96it/s]"
     ]
    },
    {
     "name": "stderr",
     "output_type": "stream",
     "text": [
      "\r",
      "182636it [00:15, 12496.35it/s]"
     ]
    },
    {
     "name": "stderr",
     "output_type": "stream",
     "text": [
      "\r",
      "183916it [00:15, 12584.98it/s]"
     ]
    },
    {
     "name": "stderr",
     "output_type": "stream",
     "text": [
      "\r",
      "185226it [00:15, 12737.54it/s]"
     ]
    },
    {
     "name": "stderr",
     "output_type": "stream",
     "text": [
      "\r",
      "186610it [00:15, 13062.26it/s]"
     ]
    },
    {
     "name": "stderr",
     "output_type": "stream",
     "text": [
      "\r",
      "187922it [00:15, 13036.59it/s]"
     ]
    },
    {
     "name": "stderr",
     "output_type": "stream",
     "text": [
      "\r",
      "189234it [00:16, 13049.32it/s]"
     ]
    },
    {
     "name": "stderr",
     "output_type": "stream",
     "text": [
      "\r",
      "190662it [00:16, 13416.02it/s]"
     ]
    },
    {
     "name": "stderr",
     "output_type": "stream",
     "text": [
      "\r",
      "192006it [00:16, 13119.14it/s]"
     ]
    },
    {
     "name": "stderr",
     "output_type": "stream",
     "text": [
      "\r",
      "193321it [00:16, 12991.75it/s]"
     ]
    },
    {
     "name": "stderr",
     "output_type": "stream",
     "text": [
      "\r",
      "194756it [00:16, 13388.22it/s]"
     ]
    },
    {
     "name": "stderr",
     "output_type": "stream",
     "text": [
      "\r",
      "196098it [00:16, 12484.41it/s]"
     ]
    },
    {
     "name": "stderr",
     "output_type": "stream",
     "text": [
      "\r",
      "197360it [00:16, 11971.84it/s]"
     ]
    },
    {
     "name": "stderr",
     "output_type": "stream",
     "text": [
      "\r",
      "198689it [00:16, 12335.73it/s]"
     ]
    },
    {
     "name": "stderr",
     "output_type": "stream",
     "text": [
      "\r",
      "199996it [00:16, 12544.10it/s]"
     ]
    },
    {
     "name": "stderr",
     "output_type": "stream",
     "text": [
      "\r",
      "201394it [00:17, 12957.38it/s]"
     ]
    },
    {
     "name": "stderr",
     "output_type": "stream",
     "text": [
      "\r",
      "202698it [00:17, 12797.93it/s]"
     ]
    },
    {
     "name": "stderr",
     "output_type": "stream",
     "text": [
      "\r",
      "203984it [00:17, 12415.35it/s]"
     ]
    },
    {
     "name": "stderr",
     "output_type": "stream",
     "text": [
      "\r",
      "205232it [00:17, 11253.73it/s]"
     ]
    },
    {
     "name": "stderr",
     "output_type": "stream",
     "text": [
      "\r",
      "206380it [00:17, 11105.22it/s]"
     ]
    },
    {
     "name": "stderr",
     "output_type": "stream",
     "text": [
      "\r",
      "207506it [00:17, 11020.41it/s]"
     ]
    },
    {
     "name": "stderr",
     "output_type": "stream",
     "text": [
      "\r",
      "208871it [00:17, 11748.30it/s]"
     ]
    },
    {
     "name": "stderr",
     "output_type": "stream",
     "text": [
      "\r",
      "210150it [00:17, 12043.93it/s]"
     ]
    },
    {
     "name": "stderr",
     "output_type": "stream",
     "text": [
      "\r",
      "211365it [00:17, 11750.11it/s]"
     ]
    },
    {
     "name": "stderr",
     "output_type": "stream",
     "text": [
      "\r",
      "212619it [00:18, 11975.25it/s]"
     ]
    },
    {
     "name": "stderr",
     "output_type": "stream",
     "text": [
      "\r",
      "214060it [00:18, 12679.23it/s]"
     ]
    },
    {
     "name": "stderr",
     "output_type": "stream",
     "text": [
      "\r",
      "215365it [00:18, 12785.45it/s]"
     ]
    },
    {
     "name": "stderr",
     "output_type": "stream",
     "text": [
      "\r",
      "216649it [00:18, 12743.33it/s]"
     ]
    },
    {
     "name": "stderr",
     "output_type": "stream",
     "text": [
      "\r",
      "218020it [00:18, 13028.65it/s]"
     ]
    },
    {
     "name": "stderr",
     "output_type": "stream",
     "text": [
      "\r",
      "219326it [00:18, 11763.54it/s]"
     ]
    },
    {
     "name": "stderr",
     "output_type": "stream",
     "text": [
      "\r",
      "220726it [00:18, 12376.65it/s]"
     ]
    },
    {
     "name": "stderr",
     "output_type": "stream",
     "text": [
      "\r",
      "221986it [00:18, 12425.71it/s]"
     ]
    },
    {
     "name": "stderr",
     "output_type": "stream",
     "text": [
      "\r",
      "223249it [00:18, 12482.73it/s]"
     ]
    },
    {
     "name": "stderr",
     "output_type": "stream",
     "text": [
      "\r",
      "224602it [00:18, 12784.18it/s]"
     ]
    },
    {
     "name": "stderr",
     "output_type": "stream",
     "text": [
      "\r",
      "225890it [00:19, 12108.12it/s]"
     ]
    },
    {
     "name": "stderr",
     "output_type": "stream",
     "text": [
      "\r",
      "227114it [00:19, 11831.69it/s]"
     ]
    },
    {
     "name": "stderr",
     "output_type": "stream",
     "text": [
      "\r",
      "228307it [00:19, 11013.75it/s]"
     ]
    },
    {
     "name": "stderr",
     "output_type": "stream",
     "text": [
      "\r",
      "229424it [00:19, 10778.78it/s]"
     ]
    },
    {
     "name": "stderr",
     "output_type": "stream",
     "text": [
      "\r",
      "230512it [00:19, 10299.19it/s]"
     ]
    },
    {
     "name": "stderr",
     "output_type": "stream",
     "text": [
      "\r",
      "231783it [00:19, 10955.99it/s]"
     ]
    },
    {
     "name": "stderr",
     "output_type": "stream",
     "text": [
      "\r",
      "233107it [00:19, 11594.78it/s]"
     ]
    },
    {
     "name": "stderr",
     "output_type": "stream",
     "text": [
      "\r",
      "234402it [00:19, 11980.69it/s]"
     ]
    },
    {
     "name": "stderr",
     "output_type": "stream",
     "text": [
      "\r",
      "235612it [00:20, 7557.47it/s] "
     ]
    },
    {
     "name": "stderr",
     "output_type": "stream",
     "text": [
      "\r",
      "236888it [00:20, 8632.76it/s]"
     ]
    },
    {
     "name": "stderr",
     "output_type": "stream",
     "text": [
      "\r",
      "238258it [00:20, 9787.53it/s]"
     ]
    },
    {
     "name": "stderr",
     "output_type": "stream",
     "text": [
      "\r",
      "239561it [00:20, 10583.84it/s]"
     ]
    },
    {
     "name": "stderr",
     "output_type": "stream",
     "text": [
      "\r",
      "240915it [00:20, 11349.03it/s]"
     ]
    },
    {
     "name": "stderr",
     "output_type": "stream",
     "text": [
      "\r",
      "242200it [00:20, 11753.26it/s]"
     ]
    },
    {
     "name": "stderr",
     "output_type": "stream",
     "text": [
      "\r",
      "243486it [00:20, 12059.64it/s]"
     ]
    },
    {
     "name": "stderr",
     "output_type": "stream",
     "text": [
      "\r",
      "244781it [00:20, 12311.95it/s]"
     ]
    },
    {
     "name": "stderr",
     "output_type": "stream",
     "text": [
      "\r",
      "246316it [00:20, 13187.86it/s]"
     ]
    },
    {
     "name": "stderr",
     "output_type": "stream",
     "text": [
      "\r",
      "247668it [00:21, 12921.26it/s]"
     ]
    },
    {
     "name": "stderr",
     "output_type": "stream",
     "text": [
      "\r",
      "248985it [00:21, 12845.78it/s]"
     ]
    },
    {
     "name": "stderr",
     "output_type": "stream",
     "text": [
      "\r",
      "250287it [00:21, 12779.21it/s]"
     ]
    },
    {
     "name": "stderr",
     "output_type": "stream",
     "text": [
      "\r",
      "251665it [00:21, 13069.25it/s]"
     ]
    },
    {
     "name": "stderr",
     "output_type": "stream",
     "text": [
      "\r",
      "252981it [00:21, 12896.56it/s]"
     ]
    },
    {
     "name": "stderr",
     "output_type": "stream",
     "text": [
      "\r",
      "254278it [00:21, 12787.06it/s]"
     ]
    },
    {
     "name": "stderr",
     "output_type": "stream",
     "text": [
      "\r",
      "255562it [00:21, 12296.85it/s]"
     ]
    },
    {
     "name": "stderr",
     "output_type": "stream",
     "text": [
      "\r",
      "256799it [00:21, 11759.35it/s]"
     ]
    },
    {
     "name": "stderr",
     "output_type": "stream",
     "text": [
      "\r",
      "258083it [00:21, 12061.64it/s]"
     ]
    },
    {
     "name": "stderr",
     "output_type": "stream",
     "text": [
      "\r",
      "259424it [00:22, 12446.73it/s]"
     ]
    },
    {
     "name": "stderr",
     "output_type": "stream",
     "text": [
      "\r",
      "260754it [00:22, 12693.98it/s]"
     ]
    },
    {
     "name": "stderr",
     "output_type": "stream",
     "text": [
      "\r",
      "262031it [00:22, 12714.54it/s]"
     ]
    },
    {
     "name": "stderr",
     "output_type": "stream",
     "text": [
      "\r",
      "263358it [00:22, 12878.21it/s]"
     ]
    },
    {
     "name": "stderr",
     "output_type": "stream",
     "text": [
      "\r",
      "264684it [00:22, 12990.14it/s]"
     ]
    },
    {
     "name": "stderr",
     "output_type": "stream",
     "text": [
      "\r",
      "265986it [00:22, 12965.25it/s]"
     ]
    },
    {
     "name": "stderr",
     "output_type": "stream",
     "text": [
      "\r",
      "267439it [00:22, 13428.04it/s]"
     ]
    },
    {
     "name": "stderr",
     "output_type": "stream",
     "text": [
      "\r",
      "268784it [00:22, 13179.99it/s]"
     ]
    },
    {
     "name": "stderr",
     "output_type": "stream",
     "text": [
      "\r",
      "270104it [00:22, 12974.62it/s]"
     ]
    },
    {
     "name": "stderr",
     "output_type": "stream",
     "text": [
      "\r",
      "271404it [00:22, 12528.56it/s]"
     ]
    },
    {
     "name": "stderr",
     "output_type": "stream",
     "text": [
      "\r",
      "272661it [00:23, 11899.60it/s]"
     ]
    },
    {
     "name": "stderr",
     "output_type": "stream",
     "text": [
      "\r",
      "273951it [00:23, 12179.71it/s]"
     ]
    },
    {
     "name": "stderr",
     "output_type": "stream",
     "text": [
      "\r",
      "275209it [00:23, 12293.34it/s]"
     ]
    },
    {
     "name": "stderr",
     "output_type": "stream",
     "text": [
      "\r",
      "276530it [00:23, 12552.16it/s]"
     ]
    },
    {
     "name": "stderr",
     "output_type": "stream",
     "text": [
      "\r",
      "277904it [00:23, 12899.84it/s]"
     ]
    },
    {
     "name": "stderr",
     "output_type": "stream",
     "text": [
      "\r",
      "279199it [00:23, 12723.06it/s]"
     ]
    },
    {
     "name": "stderr",
     "output_type": "stream",
     "text": [
      "\r",
      "280577it [00:23, 13032.48it/s]"
     ]
    },
    {
     "name": "stderr",
     "output_type": "stream",
     "text": [
      "\r",
      "281884it [00:23, 12255.44it/s]"
     ]
    },
    {
     "name": "stderr",
     "output_type": "stream",
     "text": [
      "\r",
      "283121it [00:23, 11577.47it/s]"
     ]
    },
    {
     "name": "stderr",
     "output_type": "stream",
     "text": [
      "\r",
      "284369it [00:23, 11824.11it/s]"
     ]
    },
    {
     "name": "stderr",
     "output_type": "stream",
     "text": [
      "\r",
      "285681it [00:24, 12190.76it/s]"
     ]
    },
    {
     "name": "stderr",
     "output_type": "stream",
     "text": [
      "\r",
      "286910it [00:24, 12187.95it/s]"
     ]
    },
    {
     "name": "stderr",
     "output_type": "stream",
     "text": [
      "\r",
      "288136it [00:24, 12203.62it/s]"
     ]
    },
    {
     "name": "stderr",
     "output_type": "stream",
     "text": [
      "\r",
      "289406it [00:24, 12345.92it/s]"
     ]
    },
    {
     "name": "stderr",
     "output_type": "stream",
     "text": [
      "\r",
      "290866it [00:24, 13010.15it/s]"
     ]
    },
    {
     "name": "stderr",
     "output_type": "stream",
     "text": [
      "\r",
      "292171it [00:24, 12811.28it/s]"
     ]
    },
    {
     "name": "stderr",
     "output_type": "stream",
     "text": [
      "\r",
      "293456it [00:24, 11482.47it/s]"
     ]
    },
    {
     "name": "stderr",
     "output_type": "stream",
     "text": [
      "\r",
      "294631it [00:24, 11206.57it/s]"
     ]
    },
    {
     "name": "stderr",
     "output_type": "stream",
     "text": [
      "\r",
      "295929it [00:24, 11670.57it/s]"
     ]
    },
    {
     "name": "stderr",
     "output_type": "stream",
     "text": [
      "\r",
      "297344it [00:25, 12359.76it/s]"
     ]
    },
    {
     "name": "stderr",
     "output_type": "stream",
     "text": [
      "\r",
      "298597it [00:25, 11839.24it/s]"
     ]
    },
    {
     "name": "stderr",
     "output_type": "stream",
     "text": [
      "\r",
      "299796it [00:25, 11165.77it/s]"
     ]
    },
    {
     "name": "stderr",
     "output_type": "stream",
     "text": [
      "\r",
      "301209it [00:25, 11977.40it/s]"
     ]
    },
    {
     "name": "stderr",
     "output_type": "stream",
     "text": [
      "\r",
      "302525it [00:25, 12308.40it/s]"
     ]
    },
    {
     "name": "stderr",
     "output_type": "stream",
     "text": [
      "\r",
      "303804it [00:25, 12445.39it/s]"
     ]
    },
    {
     "name": "stderr",
     "output_type": "stream",
     "text": [
      "\r",
      "305201it [00:25, 12887.21it/s]"
     ]
    },
    {
     "name": "stderr",
     "output_type": "stream",
     "text": [
      "\r",
      "306499it [00:25, 12867.87it/s]"
     ]
    },
    {
     "name": "stderr",
     "output_type": "stream",
     "text": [
      "\r",
      "307793it [00:25, 12791.20it/s]"
     ]
    },
    {
     "name": "stderr",
     "output_type": "stream",
     "text": [
      "\r",
      "309213it [00:25, 13202.77it/s]"
     ]
    },
    {
     "name": "stderr",
     "output_type": "stream",
     "text": [
      "\r",
      "310538it [00:26, 11955.08it/s]"
     ]
    },
    {
     "name": "stderr",
     "output_type": "stream",
     "text": [
      "\r",
      "311900it [00:26, 12415.02it/s]"
     ]
    },
    {
     "name": "stderr",
     "output_type": "stream",
     "text": [
      "\r",
      "313164it [00:26, 12478.16it/s]"
     ]
    },
    {
     "name": "stderr",
     "output_type": "stream",
     "text": [
      "\r",
      "314499it [00:26, 7280.28it/s] "
     ]
    },
    {
     "name": "stderr",
     "output_type": "stream",
     "text": [
      "\r",
      "315714it [00:26, 8207.39it/s]"
     ]
    },
    {
     "name": "stderr",
     "output_type": "stream",
     "text": [
      "\r",
      "317196it [00:26, 9621.89it/s]"
     ]
    },
    {
     "name": "stderr",
     "output_type": "stream",
     "text": [
      "\r",
      "318481it [00:26, 10377.27it/s]"
     ]
    },
    {
     "name": "stderr",
     "output_type": "stream",
     "text": [
      "\r",
      "319744it [00:27, 10941.71it/s]"
     ]
    },
    {
     "name": "stderr",
     "output_type": "stream",
     "text": [
      "\r",
      "321062it [00:27, 11531.20it/s]"
     ]
    },
    {
     "name": "stderr",
     "output_type": "stream",
     "text": [
      "\r",
      "322319it [00:27, 11183.60it/s]"
     ]
    },
    {
     "name": "stderr",
     "output_type": "stream",
     "text": [
      "\r",
      "323636it [00:27, 11719.64it/s]"
     ]
    },
    {
     "name": "stderr",
     "output_type": "stream",
     "text": [
      "\r",
      "324866it [00:27, 11286.26it/s]"
     ]
    },
    {
     "name": "stderr",
     "output_type": "stream",
     "text": [
      "\r",
      "326298it [00:27, 12117.18it/s]"
     ]
    },
    {
     "name": "stderr",
     "output_type": "stream",
     "text": [
      "\r",
      "327602it [00:27, 12375.98it/s]"
     ]
    },
    {
     "name": "stderr",
     "output_type": "stream",
     "text": [
      "\r",
      "328879it [00:27, 12486.48it/s]"
     ]
    },
    {
     "name": "stderr",
     "output_type": "stream",
     "text": [
      "\r",
      "330170it [00:27, 12604.74it/s]"
     ]
    },
    {
     "name": "stderr",
     "output_type": "stream",
     "text": [
      "\r",
      "331483it [00:28, 12757.73it/s]"
     ]
    },
    {
     "name": "stderr",
     "output_type": "stream",
     "text": [
      "\r",
      "332770it [00:28, 12719.42it/s]"
     ]
    },
    {
     "name": "stderr",
     "output_type": "stream",
     "text": [
      "\r",
      "334050it [00:28, 11881.48it/s]"
     ]
    },
    {
     "name": "stderr",
     "output_type": "stream",
     "text": [
      "\r",
      "335337it [00:28, 12159.70it/s]"
     ]
    },
    {
     "name": "stderr",
     "output_type": "stream",
     "text": [
      "\r",
      "336609it [00:28, 12320.63it/s]"
     ]
    },
    {
     "name": "stderr",
     "output_type": "stream",
     "text": [
      "\r",
      "338265it [00:28, 13554.42it/s]"
     ]
    },
    {
     "name": "stderr",
     "output_type": "stream",
     "text": [
      "\r",
      "339631it [00:28, 13174.41it/s]"
     ]
    },
    {
     "name": "stderr",
     "output_type": "stream",
     "text": [
      "\r",
      "340958it [00:28, 12945.38it/s]"
     ]
    },
    {
     "name": "stderr",
     "output_type": "stream",
     "text": [
      "\r",
      "342260it [00:28, 12832.27it/s]"
     ]
    },
    {
     "name": "stderr",
     "output_type": "stream",
     "text": [
      "\r",
      "343655it [00:28, 13151.87it/s]"
     ]
    },
    {
     "name": "stderr",
     "output_type": "stream",
     "text": [
      "\r",
      "344975it [00:29, 13132.72it/s]"
     ]
    },
    {
     "name": "stderr",
     "output_type": "stream",
     "text": [
      "\r",
      "346292it [00:29, 12076.80it/s]"
     ]
    },
    {
     "name": "stderr",
     "output_type": "stream",
     "text": [
      "\r",
      "347610it [00:29, 12383.76it/s]"
     ]
    },
    {
     "name": "stderr",
     "output_type": "stream",
     "text": [
      "\r",
      "348864it [00:29, 12422.56it/s]"
     ]
    },
    {
     "name": "stderr",
     "output_type": "stream",
     "text": [
      "\r",
      "350141it [00:29, 12522.45it/s]"
     ]
    },
    {
     "name": "stderr",
     "output_type": "stream",
     "text": [
      "\r",
      "351457it [00:29, 12707.99it/s]"
     ]
    },
    {
     "name": "stderr",
     "output_type": "stream",
     "text": [
      "\r",
      "352734it [00:29, 11901.51it/s]"
     ]
    },
    {
     "name": "stderr",
     "output_type": "stream",
     "text": [
      "\r",
      "354072it [00:29, 12317.92it/s]"
     ]
    },
    {
     "name": "stderr",
     "output_type": "stream",
     "text": [
      "\r",
      "355476it [00:29, 12808.98it/s]"
     ]
    },
    {
     "name": "stderr",
     "output_type": "stream",
     "text": [
      "\r",
      "356784it [00:30, 12885.15it/s]"
     ]
    },
    {
     "name": "stderr",
     "output_type": "stream",
     "text": [
      "\r",
      "358081it [00:30, 12700.08it/s]"
     ]
    },
    {
     "name": "stderr",
     "output_type": "stream",
     "text": [
      "\r",
      "359357it [00:30, 12630.58it/s]"
     ]
    },
    {
     "name": "stderr",
     "output_type": "stream",
     "text": [
      "\r",
      "360636it [00:30, 12652.59it/s]"
     ]
    },
    {
     "name": "stderr",
     "output_type": "stream",
     "text": [
      "\r",
      "362115it [00:30, 13279.23it/s]"
     ]
    },
    {
     "name": "stderr",
     "output_type": "stream",
     "text": [
      "\r",
      "363446it [00:30, 13102.42it/s]"
     ]
    },
    {
     "name": "stderr",
     "output_type": "stream",
     "text": [
      "\r",
      "364759it [00:30, 12750.44it/s]"
     ]
    },
    {
     "name": "stderr",
     "output_type": "stream",
     "text": [
      "\r",
      "366038it [00:30, 11952.62it/s]"
     ]
    },
    {
     "name": "stderr",
     "output_type": "stream",
     "text": [
      "\r",
      "367347it [00:30, 12270.39it/s]"
     ]
    },
    {
     "name": "stderr",
     "output_type": "stream",
     "text": [
      "\r",
      "368618it [00:30, 12392.01it/s]"
     ]
    },
    {
     "name": "stderr",
     "output_type": "stream",
     "text": [
      "\r",
      "369889it [00:31, 12479.40it/s]"
     ]
    },
    {
     "name": "stderr",
     "output_type": "stream",
     "text": [
      "\r",
      "371330it [00:31, 13040.67it/s]"
     ]
    },
    {
     "name": "stderr",
     "output_type": "stream",
     "text": [
      "\r",
      "372640it [00:31, 12902.08it/s]"
     ]
    },
    {
     "name": "stderr",
     "output_type": "stream",
     "text": [
      "\r",
      "373935it [00:31, 12913.23it/s]"
     ]
    },
    {
     "name": "stderr",
     "output_type": "stream",
     "text": [
      "\r",
      "375234it [00:31, 12933.93it/s]"
     ]
    },
    {
     "name": "stderr",
     "output_type": "stream",
     "text": [
      "\r",
      "376530it [00:31, 12778.55it/s]"
     ]
    },
    {
     "name": "stderr",
     "output_type": "stream",
     "text": [
      "\r",
      "377810it [00:31, 12135.62it/s]"
     ]
    },
    {
     "name": "stderr",
     "output_type": "stream",
     "text": [
      "\r",
      "379149it [00:31, 12493.71it/s]"
     ]
    },
    {
     "name": "stderr",
     "output_type": "stream",
     "text": [
      "\r",
      "380406it [00:31, 12449.69it/s]"
     ]
    },
    {
     "name": "stderr",
     "output_type": "stream",
     "text": [
      "\r",
      "381656it [00:32, 11500.76it/s]"
     ]
    },
    {
     "name": "stderr",
     "output_type": "stream",
     "text": [
      "\r",
      "382992it [00:32, 12016.83it/s]"
     ]
    },
    {
     "name": "stderr",
     "output_type": "stream",
     "text": [
      "\r",
      "384237it [00:32, 12136.14it/s]"
     ]
    },
    {
     "name": "stderr",
     "output_type": "stream",
     "text": [
      "\r",
      "385467it [00:32, 12183.34it/s]"
     ]
    },
    {
     "name": "stderr",
     "output_type": "stream",
     "text": [
      "\r",
      "386832it [00:32, 12608.81it/s]"
     ]
    },
    {
     "name": "stderr",
     "output_type": "stream",
     "text": [
      "\r",
      "388132it [00:32, 12722.62it/s]"
     ]
    },
    {
     "name": "stderr",
     "output_type": "stream",
     "text": [
      "\r",
      "389450it [00:32, 12854.30it/s]"
     ]
    },
    {
     "name": "stderr",
     "output_type": "stream",
     "text": [
      "\r",
      "390740it [00:32, 12789.21it/s]"
     ]
    },
    {
     "name": "stderr",
     "output_type": "stream",
     "text": [
      "\r",
      "392053it [00:32, 12886.78it/s]"
     ]
    },
    {
     "name": "stderr",
     "output_type": "stream",
     "text": [
      "\r",
      "393434it [00:32, 13156.54it/s]"
     ]
    },
    {
     "name": "stderr",
     "output_type": "stream",
     "text": [
      "\r",
      "394752it [00:33, 13133.78it/s]"
     ]
    },
    {
     "name": "stderr",
     "output_type": "stream",
     "text": [
      "\r",
      "396067it [00:33, 12891.27it/s]"
     ]
    },
    {
     "name": "stderr",
     "output_type": "stream",
     "text": [
      "\r",
      "397358it [00:33, 12667.43it/s]"
     ]
    },
    {
     "name": "stderr",
     "output_type": "stream",
     "text": [
      "\r",
      "398679it [00:33, 12822.72it/s]"
     ]
    },
    {
     "name": "stderr",
     "output_type": "stream",
     "text": [
      "\r",
      "399975it [00:33, 12861.09it/s]"
     ]
    },
    {
     "name": "stderr",
     "output_type": "stream",
     "text": [
      "\r",
      "401407it [00:33, 13289.76it/s]"
     ]
    },
    {
     "name": "stderr",
     "output_type": "stream",
     "text": [
      "\r",
      "402738it [00:33, 13110.48it/s]"
     ]
    },
    {
     "name": "stderr",
     "output_type": "stream",
     "text": [
      "\r",
      "404051it [00:33, 12916.89it/s]"
     ]
    },
    {
     "name": "stderr",
     "output_type": "stream",
     "text": [
      "\r",
      "405345it [00:33, 12884.01it/s]"
     ]
    },
    {
     "name": "stderr",
     "output_type": "stream",
     "text": [
      "\r",
      "406635it [00:33, 12865.59it/s]"
     ]
    },
    {
     "name": "stderr",
     "output_type": "stream",
     "text": [
      "\r",
      "407947it [00:34, 12932.93it/s]"
     ]
    },
    {
     "name": "stderr",
     "output_type": "stream",
     "text": [
      "\r",
      "409241it [00:34, 12203.58it/s]"
     ]
    },
    {
     "name": "stderr",
     "output_type": "stream",
     "text": [
      "\r",
      "410470it [00:34, 11737.11it/s]"
     ]
    },
    {
     "name": "stderr",
     "output_type": "stream",
     "text": [
      "\r",
      "411652it [00:34, 11345.33it/s]"
     ]
    },
    {
     "name": "stderr",
     "output_type": "stream",
     "text": [
      "\r",
      "412943it [00:34, 11780.67it/s]"
     ]
    },
    {
     "name": "stderr",
     "output_type": "stream",
     "text": [
      "\r",
      "414338it [00:34, 12397.13it/s]"
     ]
    },
    {
     "name": "stderr",
     "output_type": "stream",
     "text": [
      "\r",
      "415587it [00:35, 6329.55it/s] "
     ]
    },
    {
     "name": "stderr",
     "output_type": "stream",
     "text": [
      "\r",
      "416656it [00:35, 7088.06it/s]"
     ]
    },
    {
     "name": "stderr",
     "output_type": "stream",
     "text": [
      "\r",
      "417828it [00:35, 8009.31it/s]"
     ]
    },
    {
     "name": "stderr",
     "output_type": "stream",
     "text": [
      "\r",
      "419008it [00:35, 8847.94it/s]"
     ]
    },
    {
     "name": "stderr",
     "output_type": "stream",
     "text": [
      "\r",
      "420095it [00:35, 8856.29it/s]"
     ]
    },
    {
     "name": "stderr",
     "output_type": "stream",
     "text": [
      "\r",
      "421265it [00:35, 9552.32it/s]"
     ]
    },
    {
     "name": "stderr",
     "output_type": "stream",
     "text": [
      "\r",
      "422335it [00:35, 9540.02it/s]"
     ]
    },
    {
     "name": "stderr",
     "output_type": "stream",
     "text": [
      "\r",
      "423657it [00:35, 10511.37it/s]"
     ]
    },
    {
     "name": "stderr",
     "output_type": "stream",
     "text": [
      "\r",
      "424909it [00:35, 11061.34it/s]"
     ]
    },
    {
     "name": "stderr",
     "output_type": "stream",
     "text": [
      "\r",
      "426225it [00:35, 11650.81it/s]"
     ]
    },
    {
     "name": "stderr",
     "output_type": "stream",
     "text": [
      "\r",
      "427533it [00:36, 12057.79it/s]"
     ]
    },
    {
     "name": "stderr",
     "output_type": "stream",
     "text": [
      "\r",
      "428770it [00:36, 11328.51it/s]"
     ]
    },
    {
     "name": "stderr",
     "output_type": "stream",
     "text": [
      "\r",
      "430023it [00:36, 11660.19it/s]"
     ]
    },
    {
     "name": "stderr",
     "output_type": "stream",
     "text": [
      "\r",
      "431261it [00:36, 11865.15it/s]"
     ]
    },
    {
     "name": "stderr",
     "output_type": "stream",
     "text": [
      "\r",
      "432502it [00:36, 12018.43it/s]"
     ]
    },
    {
     "name": "stderr",
     "output_type": "stream",
     "text": [
      "\r",
      "433936it [00:36, 12696.55it/s]"
     ]
    },
    {
     "name": "stderr",
     "output_type": "stream",
     "text": [
      "\r",
      "435248it [00:36, 12820.02it/s]"
     ]
    },
    {
     "name": "stderr",
     "output_type": "stream",
     "text": [
      "\r",
      "436553it [00:36, 12885.20it/s]"
     ]
    },
    {
     "name": "stderr",
     "output_type": "stream",
     "text": [
      "\r",
      "437850it [00:36, 12907.93it/s]"
     ]
    },
    {
     "name": "stderr",
     "output_type": "stream",
     "text": [
      "\r",
      "439180it [00:37, 13024.07it/s]"
     ]
    },
    {
     "name": "stderr",
     "output_type": "stream",
     "text": [
      "\r",
      "440486it [00:37, 12971.60it/s]"
     ]
    },
    {
     "name": "stderr",
     "output_type": "stream",
     "text": [
      "\r",
      "441786it [00:37, 12201.52it/s]"
     ]
    },
    {
     "name": "stderr",
     "output_type": "stream",
     "text": [
      "\r",
      "443259it [00:37, 12922.82it/s]"
     ]
    },
    {
     "name": "stderr",
     "output_type": "stream",
     "text": [
      "\r",
      "444566it [00:37, 12964.29it/s]"
     ]
    },
    {
     "name": "stderr",
     "output_type": "stream",
     "text": [
      "\r",
      "445871it [00:37, 12950.00it/s]"
     ]
    },
    {
     "name": "stderr",
     "output_type": "stream",
     "text": [
      "\r",
      "447180it [00:37, 12990.00it/s]"
     ]
    },
    {
     "name": "stderr",
     "output_type": "stream",
     "text": [
      "\r",
      "448483it [00:37, 12845.09it/s]"
     ]
    },
    {
     "name": "stderr",
     "output_type": "stream",
     "text": [
      "\r",
      "449771it [00:37, 12235.26it/s]"
     ]
    },
    {
     "name": "stderr",
     "output_type": "stream",
     "text": [
      "\r",
      "451002it [00:37, 12253.91it/s]"
     ]
    },
    {
     "name": "stderr",
     "output_type": "stream",
     "text": [
      "\r",
      "452233it [00:38, 12022.01it/s]"
     ]
    },
    {
     "name": "stderr",
     "output_type": "stream",
     "text": [
      "\r",
      "453440it [00:38, 11589.35it/s]"
     ]
    },
    {
     "name": "stderr",
     "output_type": "stream",
     "text": [
      "\r",
      "454604it [00:38, 11241.51it/s]"
     ]
    },
    {
     "name": "stderr",
     "output_type": "stream",
     "text": [
      "\r",
      "455847it [00:38, 11573.06it/s]"
     ]
    },
    {
     "name": "stderr",
     "output_type": "stream",
     "text": [
      "\r",
      "457141it [00:38, 11962.75it/s]"
     ]
    },
    {
     "name": "stderr",
     "output_type": "stream",
     "text": [
      "\r",
      "458424it [00:38, 12214.24it/s]"
     ]
    },
    {
     "name": "stderr",
     "output_type": "stream",
     "text": [
      "\r",
      "459779it [00:38, 12601.68it/s]"
     ]
    },
    {
     "name": "stderr",
     "output_type": "stream",
     "text": [
      "\r",
      "461064it [00:38, 12674.10it/s]"
     ]
    },
    {
     "name": "stderr",
     "output_type": "stream",
     "text": [
      "\r",
      "462361it [00:38, 12760.81it/s]"
     ]
    },
    {
     "name": "stderr",
     "output_type": "stream",
     "text": [
      "\r",
      "463648it [00:38, 12790.61it/s]"
     ]
    },
    {
     "name": "stderr",
     "output_type": "stream",
     "text": [
      "\r",
      "464952it [00:39, 12862.83it/s]"
     ]
    },
    {
     "name": "stderr",
     "output_type": "stream",
     "text": [
      "\r",
      "466240it [00:39, 12843.34it/s]"
     ]
    },
    {
     "name": "stderr",
     "output_type": "stream",
     "text": [
      "\r",
      "467526it [00:39, 11636.03it/s]"
     ]
    },
    {
     "name": "stderr",
     "output_type": "stream",
     "text": [
      "\r",
      "468890it [00:39, 12192.31it/s]"
     ]
    },
    {
     "name": "stderr",
     "output_type": "stream",
     "text": [
      "\r",
      "470184it [00:39, 12402.00it/s]"
     ]
    },
    {
     "name": "stderr",
     "output_type": "stream",
     "text": [
      "\r",
      "471468it [00:39, 12528.34it/s]"
     ]
    },
    {
     "name": "stderr",
     "output_type": "stream",
     "text": [
      "\r",
      "472769it [00:39, 12665.52it/s]"
     ]
    },
    {
     "name": "stderr",
     "output_type": "stream",
     "text": [
      "\r",
      "474128it [00:39, 12936.55it/s]"
     ]
    },
    {
     "name": "stderr",
     "output_type": "stream",
     "text": [
      "\r",
      "475428it [00:39, 12691.23it/s]"
     ]
    },
    {
     "name": "stderr",
     "output_type": "stream",
     "text": [
      "\r",
      "476880it [00:40, 13226.22it/s]"
     ]
    },
    {
     "name": "stderr",
     "output_type": "stream",
     "text": [
      "\r",
      "478208it [00:40, 13225.73it/s]"
     ]
    },
    {
     "name": "stderr",
     "output_type": "stream",
     "text": [
      "\r",
      "479534it [00:40, 13032.54it/s]"
     ]
    },
    {
     "name": "stderr",
     "output_type": "stream",
     "text": [
      "\r",
      "480841it [00:40, 13000.80it/s]"
     ]
    },
    {
     "name": "stderr",
     "output_type": "stream",
     "text": [
      "\r",
      "482144it [00:40, 12156.54it/s]"
     ]
    },
    {
     "name": "stderr",
     "output_type": "stream",
     "text": [
      "\r",
      "483385it [00:40, 12227.59it/s]"
     ]
    },
    {
     "name": "stderr",
     "output_type": "stream",
     "text": [
      "\r",
      "484740it [00:40, 12605.54it/s]"
     ]
    },
    {
     "name": "stderr",
     "output_type": "stream",
     "text": [
      "\r",
      "486009it [00:40, 12598.12it/s]"
     ]
    },
    {
     "name": "stderr",
     "output_type": "stream",
     "text": [
      "\r",
      "487275it [00:40, 11875.40it/s]"
     ]
    },
    {
     "name": "stderr",
     "output_type": "stream",
     "text": [
      "\r",
      "488623it [00:40, 12327.68it/s]"
     ]
    },
    {
     "name": "stderr",
     "output_type": "stream",
     "text": [
      "\r",
      "489867it [00:41, 11767.23it/s]"
     ]
    },
    {
     "name": "stderr",
     "output_type": "stream",
     "text": [
      "\r",
      "491173it [00:41, 12127.46it/s]"
     ]
    },
    {
     "name": "stderr",
     "output_type": "stream",
     "text": [
      "\r",
      "492561it [00:41, 12629.59it/s]"
     ]
    },
    {
     "name": "stderr",
     "output_type": "stream",
     "text": [
      "\r",
      "493860it [00:41, 12733.62it/s]"
     ]
    },
    {
     "name": "stderr",
     "output_type": "stream",
     "text": [
      "\r",
      "495141it [00:41, 12599.85it/s]"
     ]
    },
    {
     "name": "stderr",
     "output_type": "stream",
     "text": [
      "\r",
      "496467it [00:41, 12790.91it/s]"
     ]
    },
    {
     "name": "stderr",
     "output_type": "stream",
     "text": [
      "\r",
      "497751it [00:41, 12048.38it/s]"
     ]
    },
    {
     "name": "stderr",
     "output_type": "stream",
     "text": [
      "\r",
      "499053it [00:41, 12320.27it/s]"
     ]
    },
    {
     "name": "stderr",
     "output_type": "stream",
     "text": [
      "\r",
      "500295it [00:41, 11835.90it/s]"
     ]
    },
    {
     "name": "stderr",
     "output_type": "stream",
     "text": [
      "\r",
      "501488it [00:42, 11477.30it/s]"
     ]
    },
    {
     "name": "stderr",
     "output_type": "stream",
     "text": [
      "\r",
      "502745it [00:42, 11783.36it/s]"
     ]
    },
    {
     "name": "stderr",
     "output_type": "stream",
     "text": [
      "\r",
      "503243it [00:42, 11828.78it/s]"
     ]
    },
    {
     "name": "stderr",
     "output_type": "stream",
     "text": [
      "\n"
     ]
    }
   ],
   "source": [
    "from shutil import copyfile\n",
    "\n",
    "# copy all relevant images to both datasets\n",
    "for json_file in tqdm(Path(dataset_path).glob(\"**/*.json\")):\n",
    "    with open(json_file, 'r') as f:\n",
    "        data = json.load(f)\n",
    "        if \"annotazione1\" in data:\n",
    "            label = int(data[\"annotazione1\"])\n",
    "            png_path = Path(data[\"path\"][18:])\n",
    "            # compute the name of the physical copy\n",
    "            copied_path = source_dataset_path / png_path\n",
    "            # copy the file\n",
    "            if not copied_path.exists():\n",
    "                copied_path.parent.mkdir(exist_ok=True, parents=True)\n",
    "                copyfile(dataset_path / png_path, copied_path)\n",
    "            \n",
    "            # symlink into the binary dataset\n",
    "            if label in classes_irrelevant:\n",
    "                binary_path = irrelevant_path / png_path.name\n",
    "            elif label in classes_relevant:\n",
    "                binary_path = relevant_path / png_path.name\n",
    "            else:\n",
    "                print(\"Unknown label!\")\n",
    "            target = os.path.relpath(copied_path, start=binary_path.parent)\n",
    "            if not binary_path.exists():\n",
    "                binary_path.symlink_to(target)\n",
    "            \n",
    "            # symlink to the multiclass dataset\n",
    "            # N.B. handle merged classes\n",
    "            if label in merged:\n",
    "                class_name = \"Remaining\"\n",
    "            elif label in [9, 7]:\n",
    "                class_name = \"Multiple notes or chords\"\n",
    "            elif label in [15, 2]:\n",
    "                class_name = \"Blurr or multiple categories (no music signs)\"\n",
    "            else:\n",
    "                class_name = class_names[classes.index(label)]\n",
    "            class_path = multiclass_dataset_path / class_name\n",
    "            class_path.mkdir(exist_ok=True, parents=True)\n",
    "            multiclass_name = (class_path / png_path.name)\n",
    "            # note relative_to doesn't work for an issue in python 3.9 https://bugs.python.org/issue40358\n",
    "            target = os.path.relpath(copied_path, start=multiclass_name.parent)\n",
    "            if not multiclass_name.exists():\n",
    "                multiclass_name.symlink_to(target)"
   ]
  },
  {
   "cell_type": "code",
   "execution_count": 13,
   "id": "e2678781-d56a-491a-97f2-dc199c2f94c4",
   "metadata": {
    "execution": {
     "iopub.execute_input": "2024-05-04T15:43:08.043400Z",
     "iopub.status.busy": "2024-05-04T15:43:08.042631Z",
     "iopub.status.idle": "2024-05-04T15:43:12.159281Z",
     "shell.execute_reply": "2024-05-04T15:43:12.158545Z"
    },
    "papermill": {
     "duration": 4.14275,
     "end_time": "2024-05-04T15:43:12.163177",
     "exception": false,
     "start_time": "2024-05-04T15:43:08.020427",
     "status": "completed"
    },
    "tags": []
   },
   "outputs": [
    {
     "name": "stdout",
     "output_type": "stream",
     "text": [
      "Files in binary dataset: 198159\n"
     ]
    },
    {
     "name": "stdout",
     "output_type": "stream",
     "text": [
      "Files in multiclass dataset: 198159\n"
     ]
    }
   ],
   "source": [
    "# count the files copied\n",
    "print(\"Files in binary dataset:\", len(list(binary_dataset_path.glob(\"**/*.png\"))))\n",
    "print(\"Files in multiclass dataset:\", len(list(multiclass_dataset_path.glob(\"**/*.png\"))))"
   ]
  }
 ],
 "metadata": {
  "kernelspec": {
   "display_name": "Python 3 (ipykernel)",
   "language": "python",
   "name": "python3"
  },
  "language_info": {
   "codemirror_mode": {
    "name": "ipython",
    "version": 3
   },
   "file_extension": ".py",
   "mimetype": "text/x-python",
   "name": "python",
   "nbconvert_exporter": "python",
   "pygments_lexer": "ipython3",
   "version": "3.9.16"
  },
  "papermill": {
   "default_parameters": {},
   "duration": 69.72456,
   "end_time": "2024-05-04T15:43:12.621613",
   "environment_variables": {},
   "exception": null,
   "input_path": "Create_Dataset.ipynb",
   "output_path": "Create_Dataset_result.ipynb",
   "parameters": {},
   "start_time": "2024-05-04T15:42:02.897053",
   "version": "2.6.0"
  }
 },
 "nbformat": 4,
 "nbformat_minor": 5
}
